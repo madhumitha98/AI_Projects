{
 "cells": [
  {
   "cell_type": "code",
   "execution_count": 1,
   "id": "da5bb8db",
   "metadata": {
    "_cell_guid": "b1076dfc-b9ad-4769-8c92-a6c4dae69d19",
    "_uuid": "8f2839f25d086af736a60e9eeb907d3b93b6e0e5",
    "execution": {
     "iopub.execute_input": "2024-12-13T16:18:27.184948Z",
     "iopub.status.busy": "2024-12-13T16:18:27.184548Z",
     "iopub.status.idle": "2024-12-13T16:18:28.419893Z",
     "shell.execute_reply": "2024-12-13T16:18:28.418560Z"
    },
    "papermill": {
     "duration": 1.250545,
     "end_time": "2024-12-13T16:18:28.422452",
     "exception": false,
     "start_time": "2024-12-13T16:18:27.171907",
     "status": "completed"
    },
    "tags": []
   },
   "outputs": [
    {
     "name": "stdout",
     "output_type": "stream",
     "text": [
      "/kaggle/input/playground-series-s4e12/sample_submission.csv\n",
      "/kaggle/input/playground-series-s4e12/train.csv\n",
      "/kaggle/input/playground-series-s4e12/test.csv\n"
     ]
    }
   ],
   "source": [
    "# This Python 3 environment comes with many helpful analytics libraries installed\n",
    "# It is defined by the kaggle/python Docker image: https://github.com/kaggle/docker-python\n",
    "# For example, here's several helpful packages to load\n",
    "\n",
    "import numpy as np # linear algebra\n",
    "import pandas as pd # data processing, CSV file I/O (e.g. pd.read_csv)\n",
    "\n",
    "# Input data files are available in the read-only \"../input/\" directory\n",
    "# For example, running this (by clicking run or pressing Shift+Enter) will list all files under the input directory\n",
    "\n",
    "import os\n",
    "for dirname, _, filenames in os.walk('/kaggle/input'):\n",
    "    for filename in filenames:\n",
    "        print(os.path.join(dirname, filename))\n",
    "\n",
    "# You can write up to 20GB to the current directory (/kaggle/working/) that gets preserved as output when you create a version using \"Save & Run All\" \n",
    "# You can also write temporary files to /kaggle/temp/, but they won't be saved outside of the current session"
   ]
  },
  {
   "cell_type": "code",
   "execution_count": 2,
   "id": "8ebbcf8d",
   "metadata": {
    "execution": {
     "iopub.execute_input": "2024-12-13T16:18:28.446778Z",
     "iopub.status.busy": "2024-12-13T16:18:28.446225Z",
     "iopub.status.idle": "2024-12-13T16:18:32.347302Z",
     "shell.execute_reply": "2024-12-13T16:18:32.345908Z"
    },
    "papermill": {
     "duration": 3.91651,
     "end_time": "2024-12-13T16:18:32.349920",
     "exception": false,
     "start_time": "2024-12-13T16:18:28.433410",
     "status": "completed"
    },
    "tags": []
   },
   "outputs": [],
   "source": [
    "import matplotlib.pyplot as plt\n",
    "import seaborn as sns\n",
    "from sklearn.preprocessing import MinMaxScaler, OneHotEncoder, LabelEncoder\n",
    "from sklearn.model_selection import train_test_split\n",
    "from sklearn.linear_model import LinearRegression\n",
    "from sklearn.tree import DecisionTreeRegressor\n",
    "from sklearn.ensemble import RandomForestRegressor, GradientBoostingRegressor\n",
    "from catboost import CatBoostRegressor\n",
    "from sklearn.metrics import mean_squared_error"
   ]
  },
  {
   "cell_type": "code",
   "execution_count": 3,
   "id": "209f8147",
   "metadata": {
    "execution": {
     "iopub.execute_input": "2024-12-13T16:18:32.373939Z",
     "iopub.status.busy": "2024-12-13T16:18:32.372558Z",
     "iopub.status.idle": "2024-12-13T16:18:43.730413Z",
     "shell.execute_reply": "2024-12-13T16:18:43.729196Z"
    },
    "papermill": {
     "duration": 11.373689,
     "end_time": "2024-12-13T16:18:43.734292",
     "exception": false,
     "start_time": "2024-12-13T16:18:32.360603",
     "status": "completed"
    },
    "tags": []
   },
   "outputs": [],
   "source": [
    "train_data = pd.read_csv(\"/kaggle/input/playground-series-s4e12/train.csv\")\n",
    "\n",
    "test_data = pd.read_csv(\"/kaggle/input/playground-series-s4e12/test.csv\")"
   ]
  },
  {
   "cell_type": "code",
   "execution_count": 4,
   "id": "d5ee261d",
   "metadata": {
    "execution": {
     "iopub.execute_input": "2024-12-13T16:18:43.768093Z",
     "iopub.status.busy": "2024-12-13T16:18:43.767690Z",
     "iopub.status.idle": "2024-12-13T16:18:43.815614Z",
     "shell.execute_reply": "2024-12-13T16:18:43.814486Z"
    },
    "papermill": {
     "duration": 0.061902,
     "end_time": "2024-12-13T16:18:43.818013",
     "exception": false,
     "start_time": "2024-12-13T16:18:43.756111",
     "status": "completed"
    },
    "tags": []
   },
   "outputs": [
    {
     "data": {
      "text/html": [
       "<div>\n",
       "<style scoped>\n",
       "    .dataframe tbody tr th:only-of-type {\n",
       "        vertical-align: middle;\n",
       "    }\n",
       "\n",
       "    .dataframe tbody tr th {\n",
       "        vertical-align: top;\n",
       "    }\n",
       "\n",
       "    .dataframe thead th {\n",
       "        text-align: right;\n",
       "    }\n",
       "</style>\n",
       "<table border=\"1\" class=\"dataframe\">\n",
       "  <thead>\n",
       "    <tr style=\"text-align: right;\">\n",
       "      <th></th>\n",
       "      <th>id</th>\n",
       "      <th>Age</th>\n",
       "      <th>Gender</th>\n",
       "      <th>Annual Income</th>\n",
       "      <th>Marital Status</th>\n",
       "      <th>Number of Dependents</th>\n",
       "      <th>Education Level</th>\n",
       "      <th>Occupation</th>\n",
       "      <th>Health Score</th>\n",
       "      <th>Location</th>\n",
       "      <th>...</th>\n",
       "      <th>Previous Claims</th>\n",
       "      <th>Vehicle Age</th>\n",
       "      <th>Credit Score</th>\n",
       "      <th>Insurance Duration</th>\n",
       "      <th>Policy Start Date</th>\n",
       "      <th>Customer Feedback</th>\n",
       "      <th>Smoking Status</th>\n",
       "      <th>Exercise Frequency</th>\n",
       "      <th>Property Type</th>\n",
       "      <th>Premium Amount</th>\n",
       "    </tr>\n",
       "  </thead>\n",
       "  <tbody>\n",
       "    <tr>\n",
       "      <th>0</th>\n",
       "      <td>0</td>\n",
       "      <td>19.0</td>\n",
       "      <td>Female</td>\n",
       "      <td>10049.0</td>\n",
       "      <td>Married</td>\n",
       "      <td>1.0</td>\n",
       "      <td>Bachelor's</td>\n",
       "      <td>Self-Employed</td>\n",
       "      <td>22.598761</td>\n",
       "      <td>Urban</td>\n",
       "      <td>...</td>\n",
       "      <td>2.0</td>\n",
       "      <td>17.0</td>\n",
       "      <td>372.0</td>\n",
       "      <td>5.0</td>\n",
       "      <td>2023-12-23 15:21:39.134960</td>\n",
       "      <td>Poor</td>\n",
       "      <td>No</td>\n",
       "      <td>Weekly</td>\n",
       "      <td>House</td>\n",
       "      <td>2869.0</td>\n",
       "    </tr>\n",
       "    <tr>\n",
       "      <th>1</th>\n",
       "      <td>1</td>\n",
       "      <td>39.0</td>\n",
       "      <td>Female</td>\n",
       "      <td>31678.0</td>\n",
       "      <td>Divorced</td>\n",
       "      <td>3.0</td>\n",
       "      <td>Master's</td>\n",
       "      <td>NaN</td>\n",
       "      <td>15.569731</td>\n",
       "      <td>Rural</td>\n",
       "      <td>...</td>\n",
       "      <td>1.0</td>\n",
       "      <td>12.0</td>\n",
       "      <td>694.0</td>\n",
       "      <td>2.0</td>\n",
       "      <td>2023-06-12 15:21:39.111551</td>\n",
       "      <td>Average</td>\n",
       "      <td>Yes</td>\n",
       "      <td>Monthly</td>\n",
       "      <td>House</td>\n",
       "      <td>1483.0</td>\n",
       "    </tr>\n",
       "    <tr>\n",
       "      <th>2</th>\n",
       "      <td>2</td>\n",
       "      <td>23.0</td>\n",
       "      <td>Male</td>\n",
       "      <td>25602.0</td>\n",
       "      <td>Divorced</td>\n",
       "      <td>3.0</td>\n",
       "      <td>High School</td>\n",
       "      <td>Self-Employed</td>\n",
       "      <td>47.177549</td>\n",
       "      <td>Suburban</td>\n",
       "      <td>...</td>\n",
       "      <td>1.0</td>\n",
       "      <td>14.0</td>\n",
       "      <td>NaN</td>\n",
       "      <td>3.0</td>\n",
       "      <td>2023-09-30 15:21:39.221386</td>\n",
       "      <td>Good</td>\n",
       "      <td>Yes</td>\n",
       "      <td>Weekly</td>\n",
       "      <td>House</td>\n",
       "      <td>567.0</td>\n",
       "    </tr>\n",
       "    <tr>\n",
       "      <th>3</th>\n",
       "      <td>3</td>\n",
       "      <td>21.0</td>\n",
       "      <td>Male</td>\n",
       "      <td>141855.0</td>\n",
       "      <td>Married</td>\n",
       "      <td>2.0</td>\n",
       "      <td>Bachelor's</td>\n",
       "      <td>NaN</td>\n",
       "      <td>10.938144</td>\n",
       "      <td>Rural</td>\n",
       "      <td>...</td>\n",
       "      <td>1.0</td>\n",
       "      <td>0.0</td>\n",
       "      <td>367.0</td>\n",
       "      <td>1.0</td>\n",
       "      <td>2024-06-12 15:21:39.226954</td>\n",
       "      <td>Poor</td>\n",
       "      <td>Yes</td>\n",
       "      <td>Daily</td>\n",
       "      <td>Apartment</td>\n",
       "      <td>765.0</td>\n",
       "    </tr>\n",
       "    <tr>\n",
       "      <th>4</th>\n",
       "      <td>4</td>\n",
       "      <td>21.0</td>\n",
       "      <td>Male</td>\n",
       "      <td>39651.0</td>\n",
       "      <td>Single</td>\n",
       "      <td>1.0</td>\n",
       "      <td>Bachelor's</td>\n",
       "      <td>Self-Employed</td>\n",
       "      <td>20.376094</td>\n",
       "      <td>Rural</td>\n",
       "      <td>...</td>\n",
       "      <td>0.0</td>\n",
       "      <td>8.0</td>\n",
       "      <td>598.0</td>\n",
       "      <td>4.0</td>\n",
       "      <td>2021-12-01 15:21:39.252145</td>\n",
       "      <td>Poor</td>\n",
       "      <td>Yes</td>\n",
       "      <td>Weekly</td>\n",
       "      <td>House</td>\n",
       "      <td>2022.0</td>\n",
       "    </tr>\n",
       "  </tbody>\n",
       "</table>\n",
       "<p>5 rows × 21 columns</p>\n",
       "</div>"
      ],
      "text/plain": [
       "   id   Age  Gender  Annual Income Marital Status  Number of Dependents  \\\n",
       "0   0  19.0  Female        10049.0        Married                   1.0   \n",
       "1   1  39.0  Female        31678.0       Divorced                   3.0   \n",
       "2   2  23.0    Male        25602.0       Divorced                   3.0   \n",
       "3   3  21.0    Male       141855.0        Married                   2.0   \n",
       "4   4  21.0    Male        39651.0         Single                   1.0   \n",
       "\n",
       "  Education Level     Occupation  Health Score  Location  ... Previous Claims  \\\n",
       "0      Bachelor's  Self-Employed     22.598761     Urban  ...             2.0   \n",
       "1        Master's            NaN     15.569731     Rural  ...             1.0   \n",
       "2     High School  Self-Employed     47.177549  Suburban  ...             1.0   \n",
       "3      Bachelor's            NaN     10.938144     Rural  ...             1.0   \n",
       "4      Bachelor's  Self-Employed     20.376094     Rural  ...             0.0   \n",
       "\n",
       "   Vehicle Age  Credit Score  Insurance Duration           Policy Start Date  \\\n",
       "0         17.0         372.0                 5.0  2023-12-23 15:21:39.134960   \n",
       "1         12.0         694.0                 2.0  2023-06-12 15:21:39.111551   \n",
       "2         14.0           NaN                 3.0  2023-09-30 15:21:39.221386   \n",
       "3          0.0         367.0                 1.0  2024-06-12 15:21:39.226954   \n",
       "4          8.0         598.0                 4.0  2021-12-01 15:21:39.252145   \n",
       "\n",
       "  Customer Feedback Smoking Status Exercise Frequency Property Type  \\\n",
       "0              Poor             No             Weekly         House   \n",
       "1           Average            Yes            Monthly         House   \n",
       "2              Good            Yes             Weekly         House   \n",
       "3              Poor            Yes              Daily     Apartment   \n",
       "4              Poor            Yes             Weekly         House   \n",
       "\n",
       "  Premium Amount  \n",
       "0         2869.0  \n",
       "1         1483.0  \n",
       "2          567.0  \n",
       "3          765.0  \n",
       "4         2022.0  \n",
       "\n",
       "[5 rows x 21 columns]"
      ]
     },
     "execution_count": 4,
     "metadata": {},
     "output_type": "execute_result"
    }
   ],
   "source": [
    "train_data.head()"
   ]
  },
  {
   "cell_type": "code",
   "execution_count": 5,
   "id": "dd927ca2",
   "metadata": {
    "execution": {
     "iopub.execute_input": "2024-12-13T16:18:43.841098Z",
     "iopub.status.busy": "2024-12-13T16:18:43.840657Z",
     "iopub.status.idle": "2024-12-13T16:18:44.491664Z",
     "shell.execute_reply": "2024-12-13T16:18:44.490512Z"
    },
    "papermill": {
     "duration": 0.665345,
     "end_time": "2024-12-13T16:18:44.494073",
     "exception": false,
     "start_time": "2024-12-13T16:18:43.828728",
     "status": "completed"
    },
    "tags": []
   },
   "outputs": [
    {
     "data": {
      "text/plain": [
       "id                       0.000000\n",
       "Age                      1.558750\n",
       "Gender                   0.000000\n",
       "Annual Income            3.745750\n",
       "Marital Status           1.544083\n",
       "Number of Dependents     9.139333\n",
       "Education Level          0.000000\n",
       "Occupation              29.839583\n",
       "Health Score             6.173000\n",
       "Location                 0.000000\n",
       "Policy Type              0.000000\n",
       "Previous Claims         30.335750\n",
       "Vehicle Age              0.000500\n",
       "Credit Score            11.490167\n",
       "Insurance Duration       0.000083\n",
       "Policy Start Date        0.000000\n",
       "Customer Feedback        6.485333\n",
       "Smoking Status           0.000000\n",
       "Exercise Frequency       0.000000\n",
       "Property Type            0.000000\n",
       "Premium Amount           0.000000\n",
       "dtype: float64"
      ]
     },
     "execution_count": 5,
     "metadata": {},
     "output_type": "execute_result"
    }
   ],
   "source": [
    "train_data.isnull().sum()* 100 /len(train_data)"
   ]
  },
  {
   "cell_type": "code",
   "execution_count": 6,
   "id": "eedef6b4",
   "metadata": {
    "execution": {
     "iopub.execute_input": "2024-12-13T16:18:44.517351Z",
     "iopub.status.busy": "2024-12-13T16:18:44.516862Z",
     "iopub.status.idle": "2024-12-13T16:18:44.943611Z",
     "shell.execute_reply": "2024-12-13T16:18:44.942289Z"
    },
    "papermill": {
     "duration": 0.441239,
     "end_time": "2024-12-13T16:18:44.946132",
     "exception": false,
     "start_time": "2024-12-13T16:18:44.504893",
     "status": "completed"
    },
    "tags": []
   },
   "outputs": [
    {
     "data": {
      "text/plain": [
       "id                       0.000000\n",
       "Age                      1.561125\n",
       "Gender                   0.000000\n",
       "Annual Income            3.732500\n",
       "Marital Status           1.542000\n",
       "Number of Dependents     9.141250\n",
       "Education Level          0.000000\n",
       "Occupation              29.890625\n",
       "Health Score             6.181125\n",
       "Location                 0.000000\n",
       "Policy Type              0.000000\n",
       "Previous Claims         30.350250\n",
       "Vehicle Age              0.000375\n",
       "Credit Score            11.431375\n",
       "Insurance Duration       0.000250\n",
       "Policy Start Date        0.000000\n",
       "Customer Feedback        6.534500\n",
       "Smoking Status           0.000000\n",
       "Exercise Frequency       0.000000\n",
       "Property Type            0.000000\n",
       "dtype: float64"
      ]
     },
     "execution_count": 6,
     "metadata": {},
     "output_type": "execute_result"
    }
   ],
   "source": [
    "test_data.isnull().sum() / len(test_data) * 100"
   ]
  },
  {
   "cell_type": "markdown",
   "id": "52a3b402",
   "metadata": {
    "execution": {
     "iopub.execute_input": "2024-12-08T14:19:58.637673Z",
     "iopub.status.busy": "2024-12-08T14:19:58.637177Z",
     "iopub.status.idle": "2024-12-08T14:19:58.642838Z",
     "shell.execute_reply": "2024-12-08T14:19:58.641788Z",
     "shell.execute_reply.started": "2024-12-08T14:19:58.637623Z"
    },
    "papermill": {
     "duration": 0.011049,
     "end_time": "2024-12-13T16:18:44.968976",
     "exception": false,
     "start_time": "2024-12-13T16:18:44.957927",
     "status": "completed"
    },
    "tags": []
   },
   "source": [
    "## EDA"
   ]
  },
  {
   "cell_type": "code",
   "execution_count": 7,
   "id": "08ca4137",
   "metadata": {
    "execution": {
     "iopub.execute_input": "2024-12-13T16:18:44.992618Z",
     "iopub.status.busy": "2024-12-13T16:18:44.992166Z",
     "iopub.status.idle": "2024-12-13T16:18:45.308987Z",
     "shell.execute_reply": "2024-12-13T16:18:45.307865Z"
    },
    "papermill": {
     "duration": 0.331639,
     "end_time": "2024-12-13T16:18:45.311562",
     "exception": false,
     "start_time": "2024-12-13T16:18:44.979923",
     "status": "completed"
    },
    "tags": []
   },
   "outputs": [
    {
     "data": {
      "image/png": "[encoded data removed]",
      "text/plain": [
       "<Figure size 640x480 with 1 Axes>"
      ]
     },
     "metadata": {},
     "output_type": "display_data"
    }
   ],
   "source": [
    "plt.hist(train_data['Annual Income'], bins = 5)\n",
    "plt.show()"
   ]
  },
  {
   "cell_type": "code",
   "execution_count": 8,
   "id": "bd9712b7",
   "metadata": {
    "execution": {
     "iopub.execute_input": "2024-12-13T16:18:45.335894Z",
     "iopub.status.busy": "2024-12-13T16:18:45.335459Z",
     "iopub.status.idle": "2024-12-13T16:18:48.153056Z",
     "shell.execute_reply": "2024-12-13T16:18:48.151614Z"
    },
    "papermill": {
     "duration": 2.832837,
     "end_time": "2024-12-13T16:18:48.155649",
     "exception": false,
     "start_time": "2024-12-13T16:18:45.322812",
     "status": "completed"
    },
    "tags": []
   },
   "outputs": [
    {
     "data": {
      "image/png": "[encoded data removed]",
      "text/plain": [
       "<Figure size 640x480 with 1 Axes>"
      ]
     },
     "metadata": {},
     "output_type": "display_data"
    }
   ],
   "source": [
    "plt.scatter(train_data['Premium Amount'], train_data['Annual Income'])\n",
    "plt.show()"
   ]
  },
  {
   "cell_type": "code",
   "execution_count": 9,
   "id": "68e323a9",
   "metadata": {
    "execution": {
     "iopub.execute_input": "2024-12-13T16:18:48.180513Z",
     "iopub.status.busy": "2024-12-13T16:18:48.180082Z",
     "iopub.status.idle": "2024-12-13T16:19:11.593104Z",
     "shell.execute_reply": "2024-12-13T16:19:11.591867Z"
    },
    "papermill": {
     "duration": 23.428097,
     "end_time": "2024-12-13T16:19:11.595471",
     "exception": false,
     "start_time": "2024-12-13T16:18:48.167374",
     "status": "completed"
    },
    "tags": []
   },
   "outputs": [
    {
     "data": {
      "image/png": "[encoded data removed]",
      "text/plain": [
       "<Figure size 640x480 with 1 Axes>"
      ]
     },
     "metadata": {},
     "output_type": "display_data"
    }
   ],
   "source": [
    "sns.barplot(data = train_data, x = 'Gender', y= 'Annual Income')\n",
    "plt.show()"
   ]
  },
  {
   "cell_type": "code",
   "execution_count": 10,
   "id": "6749f55b",
   "metadata": {
    "execution": {
     "iopub.execute_input": "2024-12-13T16:19:11.620807Z",
     "iopub.status.busy": "2024-12-13T16:19:11.620419Z",
     "iopub.status.idle": "2024-12-13T16:19:13.217867Z",
     "shell.execute_reply": "2024-12-13T16:19:13.216635Z"
    },
    "papermill": {
     "duration": 1.613126,
     "end_time": "2024-12-13T16:19:13.220486",
     "exception": false,
     "start_time": "2024-12-13T16:19:11.607360",
     "status": "completed"
    },
    "tags": []
   },
   "outputs": [
    {
     "data": {
      "image/png": "[encoded data removed]",
      "text/plain": [
       "<Figure size 640x480 with 1 Axes>"
      ]
     },
     "metadata": {},
     "output_type": "display_data"
    }
   ],
   "source": [
    "sns.countplot(data=train_data, x='Gender', hue='Marital Status')\n",
    "plt.title(\"Count of Gender with Marital Status\")\n",
    "plt.show()"
   ]
  },
  {
   "cell_type": "code",
   "execution_count": 11,
   "id": "4ff800b1",
   "metadata": {
    "execution": {
     "iopub.execute_input": "2024-12-13T16:19:13.247915Z",
     "iopub.status.busy": "2024-12-13T16:19:13.247513Z",
     "iopub.status.idle": "2024-12-13T16:19:13.478369Z",
     "shell.execute_reply": "2024-12-13T16:19:13.477096Z"
    },
    "papermill": {
     "duration": 0.247483,
     "end_time": "2024-12-13T16:19:13.480469",
     "exception": false,
     "start_time": "2024-12-13T16:19:13.232986",
     "status": "completed"
    },
    "tags": []
   },
   "outputs": [
    {
     "data": {
      "image/png": "[encoded data removed]",
      "text/plain": [
       "<Figure size 640x480 with 1 Axes>"
      ]
     },
     "metadata": {},
     "output_type": "display_data"
    }
   ],
   "source": [
    "sns.boxplot(data = train_data, x= 'Age')\n",
    "plt.show()"
   ]
  },
  {
   "cell_type": "code",
   "execution_count": 12,
   "id": "568d6c45",
   "metadata": {
    "execution": {
     "iopub.execute_input": "2024-12-13T16:19:13.507924Z",
     "iopub.status.busy": "2024-12-13T16:19:13.507388Z",
     "iopub.status.idle": "2024-12-13T16:19:21.886552Z",
     "shell.execute_reply": "2024-12-13T16:19:21.885484Z"
    },
    "papermill": {
     "duration": 8.395918,
     "end_time": "2024-12-13T16:19:21.888977",
     "exception": false,
     "start_time": "2024-12-13T16:19:13.493059",
     "status": "completed"
    },
    "tags": []
   },
   "outputs": [
    {
     "name": "stderr",
     "output_type": "stream",
     "text": [
      "/opt/conda/lib/python3.10/site-packages/seaborn/_oldcore.py:1119: FutureWarning: use_inf_as_na option is deprecated and will be removed in a future version. Convert inf values to NaN before operating instead.\n",
      "  with pd.option_context('mode.use_inf_as_na', True):\n",
      "/opt/conda/lib/python3.10/site-packages/seaborn/_oldcore.py:1119: FutureWarning: use_inf_as_na option is deprecated and will be removed in a future version. Convert inf values to NaN before operating instead.\n",
      "  with pd.option_context('mode.use_inf_as_na', True):\n",
      "/opt/conda/lib/python3.10/site-packages/seaborn/_oldcore.py:1075: FutureWarning: When grouping with a length-1 list-like, you will need to pass a length-1 tuple to get_group in a future version of pandas. Pass `(name,)` instead of `name` to silence this warning.\n",
      "  data_subset = grouped_data.get_group(pd_key)\n",
      "/opt/conda/lib/python3.10/site-packages/seaborn/_oldcore.py:1075: FutureWarning: When grouping with a length-1 list-like, you will need to pass a length-1 tuple to get_group in a future version of pandas. Pass `(name,)` instead of `name` to silence this warning.\n",
      "  data_subset = grouped_data.get_group(pd_key)\n"
     ]
    },
    {
     "data": {
      "image/png": "[encoded data removed]",
      "text/plain": [
       "<Figure size 640x480 with 1 Axes>"
      ]
     },
     "metadata": {},
     "output_type": "display_data"
    }
   ],
   "source": [
    "sns.lineplot(data = train_data, x = 'Occupation', y = 'Number of Dependents', hue = 'Gender')\n",
    "plt.show()"
   ]
  },
  {
   "cell_type": "code",
   "execution_count": 13,
   "id": "a3ebaeb3",
   "metadata": {
    "execution": {
     "iopub.execute_input": "2024-12-13T16:19:21.919262Z",
     "iopub.status.busy": "2024-12-13T16:19:21.918330Z",
     "iopub.status.idle": "2024-12-13T16:19:22.346392Z",
     "shell.execute_reply": "2024-12-13T16:19:22.345135Z"
    },
    "papermill": {
     "duration": 0.445852,
     "end_time": "2024-12-13T16:19:22.349292",
     "exception": false,
     "start_time": "2024-12-13T16:19:21.903440",
     "status": "completed"
    },
    "tags": []
   },
   "outputs": [
    {
     "data": {
      "text/plain": [
       "id                           0\n",
       "Age                      12489\n",
       "Gender                       0\n",
       "Annual Income            29860\n",
       "Marital Status           12336\n",
       "Number of Dependents     73130\n",
       "Education Level              0\n",
       "Occupation              239125\n",
       "Health Score             49449\n",
       "Location                     0\n",
       "Policy Type                  0\n",
       "Previous Claims         242802\n",
       "Vehicle Age                  3\n",
       "Credit Score             91451\n",
       "Insurance Duration           2\n",
       "Policy Start Date            0\n",
       "Customer Feedback        52276\n",
       "Smoking Status               0\n",
       "Exercise Frequency           0\n",
       "Property Type                0\n",
       "dtype: int64"
      ]
     },
     "execution_count": 13,
     "metadata": {},
     "output_type": "execute_result"
    }
   ],
   "source": [
    "test_data.isnull().sum()"
   ]
  },
  {
   "cell_type": "code",
   "execution_count": 14,
   "id": "3f6c8766",
   "metadata": {
    "execution": {
     "iopub.execute_input": "2024-12-13T16:19:22.379026Z",
     "iopub.status.busy": "2024-12-13T16:19:22.378612Z",
     "iopub.status.idle": "2024-12-13T16:19:23.092531Z",
     "shell.execute_reply": "2024-12-13T16:19:23.091425Z"
    },
    "papermill": {
     "duration": 0.731708,
     "end_time": "2024-12-13T16:19:23.095112",
     "exception": false,
     "start_time": "2024-12-13T16:19:22.363404",
     "status": "completed"
    },
    "tags": []
   },
   "outputs": [],
   "source": [
    "test_data['Marital Status'] = test_data['Marital Status'].str.strip().str.lower()\n",
    "train_data['Marital Status'] = train_data['Marital Status'].str.strip().str.lower()"
   ]
  },
  {
   "cell_type": "code",
   "execution_count": 15,
   "id": "5959dfa6",
   "metadata": {
    "execution": {
     "iopub.execute_input": "2024-12-13T16:19:23.124557Z",
     "iopub.status.busy": "2024-12-13T16:19:23.124072Z",
     "iopub.status.idle": "2024-12-13T16:19:23.395460Z",
     "shell.execute_reply": "2024-12-13T16:19:23.394250Z"
    },
    "papermill": {
     "duration": 0.28961,
     "end_time": "2024-12-13T16:19:23.398440",
     "exception": false,
     "start_time": "2024-12-13T16:19:23.108830",
     "status": "completed"
    },
    "tags": []
   },
   "outputs": [],
   "source": [
    "train_data.loc[(train_data['Education Level'] == 'High School') & (train_data['Occupation'].isna()), 'Occupation'] = 'Unemployed'\n",
    "test_data.loc[(test_data['Education Level'] == 'High School') & (test_data['Occupation'].isna()), 'Occupation'] = 'Unemployed'"
   ]
  },
  {
   "cell_type": "code",
   "execution_count": 16,
   "id": "6e0e03c7",
   "metadata": {
    "execution": {
     "iopub.execute_input": "2024-12-13T16:19:23.428434Z",
     "iopub.status.busy": "2024-12-13T16:19:23.427430Z",
     "iopub.status.idle": "2024-12-13T16:19:23.550335Z",
     "shell.execute_reply": "2024-12-13T16:19:23.549200Z"
    },
    "papermill": {
     "duration": 0.140883,
     "end_time": "2024-12-13T16:19:23.553117",
     "exception": false,
     "start_time": "2024-12-13T16:19:23.412234",
     "status": "completed"
    },
    "tags": []
   },
   "outputs": [],
   "source": [
    "train_data.loc[((train_data['Age'] > 50) | (train_data['Age'] < 21)) & train_data['Occupation'].isna(), 'Occupation'] = 'Unemployed'\n",
    "test_data.loc[((test_data['Age'] > 50) | (test_data['Age'] < 21)) & test_data['Occupation'].isna(), 'Occupation'] = 'Unemployed'"
   ]
  },
  {
   "cell_type": "code",
   "execution_count": 17,
   "id": "9c350d53",
   "metadata": {
    "execution": {
     "iopub.execute_input": "2024-12-13T16:19:23.584043Z",
     "iopub.status.busy": "2024-12-13T16:19:23.582998Z",
     "iopub.status.idle": "2024-12-13T16:19:23.724730Z",
     "shell.execute_reply": "2024-12-13T16:19:23.723529Z"
    },
    "papermill": {
     "duration": 0.159997,
     "end_time": "2024-12-13T16:19:23.727441",
     "exception": false,
     "start_time": "2024-12-13T16:19:23.567444",
     "status": "completed"
    },
    "tags": []
   },
   "outputs": [],
   "source": [
    "train_data['Occupation'] = train_data['Occupation'].fillna('Unemployed')\n",
    "test_data['Occupation'] = test_data['Occupation'].fillna('Unemployed')"
   ]
  },
  {
   "cell_type": "code",
   "execution_count": 18,
   "id": "7abc7b96",
   "metadata": {
    "execution": {
     "iopub.execute_input": "2024-12-13T16:19:23.756575Z",
     "iopub.status.busy": "2024-12-13T16:19:23.756143Z",
     "iopub.status.idle": "2024-12-13T16:19:23.939496Z",
     "shell.execute_reply": "2024-12-13T16:19:23.938204Z"
    },
    "papermill": {
     "duration": 0.201074,
     "end_time": "2024-12-13T16:19:23.942151",
     "exception": false,
     "start_time": "2024-12-13T16:19:23.741077",
     "status": "completed"
    },
    "tags": []
   },
   "outputs": [],
   "source": [
    "train_data.loc[(train_data['Previous Claims'].isnull()) & (train_data['Occupation'] == 'Unemployed'), 'Previous Claims'] = 0.0\n",
    "test_data.loc[(test_data['Previous Claims'].isnull()) & (test_data['Occupation'] == 'Unemployed'), 'Previous Claims'] = 0.0"
   ]
  },
  {
   "cell_type": "code",
   "execution_count": 19,
   "id": "988dcaeb",
   "metadata": {
    "execution": {
     "iopub.execute_input": "2024-12-13T16:19:23.973312Z",
     "iopub.status.busy": "2024-12-13T16:19:23.972826Z",
     "iopub.status.idle": "2024-12-13T16:19:23.990278Z",
     "shell.execute_reply": "2024-12-13T16:19:23.989205Z"
    },
    "papermill": {
     "duration": 0.035531,
     "end_time": "2024-12-13T16:19:23.993079",
     "exception": false,
     "start_time": "2024-12-13T16:19:23.957548",
     "status": "completed"
    },
    "tags": []
   },
   "outputs": [],
   "source": [
    "train_data.loc[(train_data['Previous Claims'].isnull()) & (train_data['Annual Income'] > 50000), 'Previous Claims'] = 0.0\n",
    "test_data.loc[(test_data['Previous Claims'].isnull()) & (test_data['Annual Income'] > 50000), 'Previous Claims'] = 0.0"
   ]
  },
  {
   "cell_type": "code",
   "execution_count": 20,
   "id": "9e88713f",
   "metadata": {
    "execution": {
     "iopub.execute_input": "2024-12-13T16:19:24.025536Z",
     "iopub.status.busy": "2024-12-13T16:19:24.025094Z",
     "iopub.status.idle": "2024-12-13T16:19:24.196102Z",
     "shell.execute_reply": "2024-12-13T16:19:24.194972Z"
    },
    "papermill": {
     "duration": 0.188956,
     "end_time": "2024-12-13T16:19:24.198793",
     "exception": false,
     "start_time": "2024-12-13T16:19:24.009837",
     "status": "completed"
    },
    "tags": []
   },
   "outputs": [],
   "source": [
    "train_data.loc[(train_data['Previous Claims'].isnull()) & (train_data['Education Level'] ==  'High School'), 'Previous Claims'] = 0.0\n",
    "test_data.loc[(test_data['Previous Claims'].isnull()) & (test_data['Education Level'] ==  'High School'), 'Previous Claims'] = 0.0"
   ]
  },
  {
   "cell_type": "code",
   "execution_count": 21,
   "id": "948a8474",
   "metadata": {
    "execution": {
     "iopub.execute_input": "2024-12-13T16:19:24.230375Z",
     "iopub.status.busy": "2024-12-13T16:19:24.229066Z",
     "iopub.status.idle": "2024-12-13T16:19:24.248867Z",
     "shell.execute_reply": "2024-12-13T16:19:24.247549Z"
    },
    "papermill": {
     "duration": 0.038215,
     "end_time": "2024-12-13T16:19:24.251563",
     "exception": false,
     "start_time": "2024-12-13T16:19:24.213348",
     "status": "completed"
    },
    "tags": []
   },
   "outputs": [],
   "source": [
    "train_data['Previous Claims'] = train_data['Previous Claims'].fillna(np.random.randint(0.0, 9.0))\n",
    "test_data['Previous Claims'] = test_data['Previous Claims'].fillna(np.random.randint(0.0, 9.0))"
   ]
  },
  {
   "cell_type": "code",
   "execution_count": 22,
   "id": "5edc6dd2",
   "metadata": {
    "execution": {
     "iopub.execute_input": "2024-12-13T16:19:24.282356Z",
     "iopub.status.busy": "2024-12-13T16:19:24.281121Z",
     "iopub.status.idle": "2024-12-13T16:19:24.457780Z",
     "shell.execute_reply": "2024-12-13T16:19:24.456420Z"
    },
    "papermill": {
     "duration": 0.194883,
     "end_time": "2024-12-13T16:19:24.460812",
     "exception": false,
     "start_time": "2024-12-13T16:19:24.265929",
     "status": "completed"
    },
    "tags": []
   },
   "outputs": [],
   "source": [
    "train_data.loc[(train_data['Number of Dependents'].isnull()) & (train_data['Marital Status'] == 'Single'),'Number of Dependents']= 0.0\n",
    "test_data.loc[(test_data['Number of Dependents'].isnull()) & (test_data['Marital Status'] == 'Single'),'Number of Dependents']= 0.0"
   ]
  },
  {
   "cell_type": "code",
   "execution_count": 23,
   "id": "ad2661c4",
   "metadata": {
    "execution": {
     "iopub.execute_input": "2024-12-13T16:19:24.491981Z",
     "iopub.status.busy": "2024-12-13T16:19:24.491524Z",
     "iopub.status.idle": "2024-12-13T16:19:26.423231Z",
     "shell.execute_reply": "2024-12-13T16:19:26.422154Z"
    },
    "papermill": {
     "duration": 1.950004,
     "end_time": "2024-12-13T16:19:26.425925",
     "exception": false,
     "start_time": "2024-12-13T16:19:24.475921",
     "status": "completed"
    },
    "tags": []
   },
   "outputs": [],
   "source": [
    "train_data['Number of Dependents'] = train_data['Number of Dependents'].apply(lambda x: np.random.uniform(0.0, 5.0) if pd.isna(x) else x\n",
    ")\n",
    "\n",
    "test_data['Number of Dependents'] = test_data['Number of Dependents'].apply(lambda x: np.random.uniform(0.0, 5.0) if pd.isna(x) else x\n",
    ")"
   ]
  },
  {
   "cell_type": "code",
   "execution_count": 24,
   "id": "a89c49fe",
   "metadata": {
    "execution": {
     "iopub.execute_input": "2024-12-13T16:19:26.454954Z",
     "iopub.status.busy": "2024-12-13T16:19:26.454598Z",
     "iopub.status.idle": "2024-12-13T16:19:26.483239Z",
     "shell.execute_reply": "2024-12-13T16:19:26.481900Z"
    },
    "papermill": {
     "duration": 0.046088,
     "end_time": "2024-12-13T16:19:26.485830",
     "exception": false,
     "start_time": "2024-12-13T16:19:26.439742",
     "status": "completed"
    },
    "tags": []
   },
   "outputs": [],
   "source": [
    "train_data['Annual Income'] = train_data['Annual Income'].fillna(np.mean(train_data['Annual Income']))\n",
    "\n",
    "test_data['Annual Income'] = test_data['Annual Income'].fillna(np.mean(test_data['Annual Income']))"
   ]
  },
  {
   "cell_type": "code",
   "execution_count": 25,
   "id": "f48e7df8",
   "metadata": {
    "execution": {
     "iopub.execute_input": "2024-12-13T16:19:26.515007Z",
     "iopub.status.busy": "2024-12-13T16:19:26.514606Z",
     "iopub.status.idle": "2024-12-13T16:19:26.519643Z",
     "shell.execute_reply": "2024-12-13T16:19:26.518600Z"
    },
    "papermill": {
     "duration": 0.022181,
     "end_time": "2024-12-13T16:19:26.521902",
     "exception": false,
     "start_time": "2024-12-13T16:19:26.499721",
     "status": "completed"
    },
    "tags": []
   },
   "outputs": [],
   "source": [
    "total_feedback = 377905 + 375518 + 368753\n",
    "\n",
    "probabilities = {\n",
    "    'Average': 377905 / total_feedback,\n",
    "    'Poor': 375518 / total_feedback,\n",
    "    'Good': 368753 / total_feedback\n",
    "}"
   ]
  },
  {
   "cell_type": "code",
   "execution_count": 26,
   "id": "b912c1de",
   "metadata": {
    "execution": {
     "iopub.execute_input": "2024-12-13T16:19:26.551128Z",
     "iopub.status.busy": "2024-12-13T16:19:26.550752Z",
     "iopub.status.idle": "2024-12-13T16:19:28.853504Z",
     "shell.execute_reply": "2024-12-13T16:19:28.852276Z"
    },
    "papermill": {
     "duration": 2.320483,
     "end_time": "2024-12-13T16:19:28.856149",
     "exception": false,
     "start_time": "2024-12-13T16:19:26.535666",
     "status": "completed"
    },
    "tags": []
   },
   "outputs": [],
   "source": [
    "train_data['Customer Feedback'] = train_data['Customer Feedback'].apply(\n",
    "    lambda x: np.random.choice(['Average', 'Poor', 'Good'], p=[probabilities['Average'], probabilities['Poor'], probabilities['Good']]) \n",
    "    if pd.isna(x) else x\n",
    ")"
   ]
  },
  {
   "cell_type": "code",
   "execution_count": 27,
   "id": "ddd02166",
   "metadata": {
    "execution": {
     "iopub.execute_input": "2024-12-13T16:19:28.885063Z",
     "iopub.status.busy": "2024-12-13T16:19:28.884640Z",
     "iopub.status.idle": "2024-12-13T16:19:28.890392Z",
     "shell.execute_reply": "2024-12-13T16:19:28.889030Z"
    },
    "papermill": {
     "duration": 0.02314,
     "end_time": "2024-12-13T16:19:28.892838",
     "exception": false,
     "start_time": "2024-12-13T16:19:28.869698",
     "status": "completed"
    },
    "tags": []
   },
   "outputs": [],
   "source": [
    "feedback_count = 251217 + 250434 + 246073\n",
    "prop = probabilities = {\n",
    "    'Average': 251217 / feedback_count,\n",
    "    'Poor': 250434 / feedback_count,\n",
    "    'Good': 246073 / feedback_count\n",
    "}"
   ]
  },
  {
   "cell_type": "code",
   "execution_count": 28,
   "id": "9f4dd4cc",
   "metadata": {
    "execution": {
     "iopub.execute_input": "2024-12-13T16:19:28.922405Z",
     "iopub.status.busy": "2024-12-13T16:19:28.922007Z",
     "iopub.status.idle": "2024-12-13T16:19:30.482580Z",
     "shell.execute_reply": "2024-12-13T16:19:30.481589Z"
    },
    "papermill": {
     "duration": 1.5783,
     "end_time": "2024-12-13T16:19:30.485037",
     "exception": false,
     "start_time": "2024-12-13T16:19:28.906737",
     "status": "completed"
    },
    "tags": []
   },
   "outputs": [],
   "source": [
    "test_data['Customer Feedback'] = test_data['Customer Feedback'].apply(\n",
    "    lambda x: np.random.choice(['Average', 'Poor', 'Good'], p=[probabilities['Average'], probabilities['Poor'], probabilities['Good']]) \n",
    "    if pd.isna(x) else x\n",
    ")"
   ]
  },
  {
   "cell_type": "code",
   "execution_count": 29,
   "id": "199a0e28",
   "metadata": {
    "execution": {
     "iopub.execute_input": "2024-12-13T16:19:30.514374Z",
     "iopub.status.busy": "2024-12-13T16:19:30.513955Z",
     "iopub.status.idle": "2024-12-13T16:19:30.547043Z",
     "shell.execute_reply": "2024-12-13T16:19:30.546006Z"
    },
    "papermill": {
     "duration": 0.050465,
     "end_time": "2024-12-13T16:19:30.549414",
     "exception": false,
     "start_time": "2024-12-13T16:19:30.498949",
     "status": "completed"
    },
    "tags": []
   },
   "outputs": [],
   "source": [
    "train_data['Credit Score'] = train_data['Credit Score'].fillna(train_data['Credit Score'].mean()) \n",
    "\n",
    "test_data['Credit Score'] = test_data['Credit Score'].fillna(test_data['Credit Score'].mean()) "
   ]
  },
  {
   "cell_type": "code",
   "execution_count": 30,
   "id": "1679ce06",
   "metadata": {
    "execution": {
     "iopub.execute_input": "2024-12-13T16:19:30.578607Z",
     "iopub.status.busy": "2024-12-13T16:19:30.578208Z",
     "iopub.status.idle": "2024-12-13T16:19:31.692807Z",
     "shell.execute_reply": "2024-12-13T16:19:31.691676Z"
    },
    "papermill": {
     "duration": 1.132433,
     "end_time": "2024-12-13T16:19:31.695490",
     "exception": false,
     "start_time": "2024-12-13T16:19:30.563057",
     "status": "completed"
    },
    "tags": []
   },
   "outputs": [],
   "source": [
    "min_val = train_data['Health Score'].min()\n",
    "max_val = train_data['Health Score'].max()\n",
    "train_data['Health Score'] = train_data['Health Score'].apply(lambda x: np.random.uniform(min_val, max_val) if pd.isnull(x) else x)"
   ]
  },
  {
   "cell_type": "code",
   "execution_count": 31,
   "id": "3ad698e1",
   "metadata": {
    "execution": {
     "iopub.execute_input": "2024-12-13T16:19:31.724815Z",
     "iopub.status.busy": "2024-12-13T16:19:31.724413Z",
     "iopub.status.idle": "2024-12-13T16:19:32.440426Z",
     "shell.execute_reply": "2024-12-13T16:19:32.439257Z"
    },
    "papermill": {
     "duration": 0.733677,
     "end_time": "2024-12-13T16:19:32.442974",
     "exception": false,
     "start_time": "2024-12-13T16:19:31.709297",
     "status": "completed"
    },
    "tags": []
   },
   "outputs": [],
   "source": [
    "min_val_test = test_data['Health Score'].min()\n",
    "max_val_test = test_data['Health Score'].max()\n",
    "test_data['Health Score'] = test_data['Health Score'].apply(lambda x: np.random.uniform(min_val_test, max_val_test) if pd.isnull(x) else x)"
   ]
  },
  {
   "cell_type": "code",
   "execution_count": 32,
   "id": "43973c5f",
   "metadata": {
    "execution": {
     "iopub.execute_input": "2024-12-13T16:19:32.472396Z",
     "iopub.status.busy": "2024-12-13T16:19:32.471941Z",
     "iopub.status.idle": "2024-12-13T16:19:34.078250Z",
     "shell.execute_reply": "2024-12-13T16:19:34.077149Z"
    },
    "papermill": {
     "duration": 1.624409,
     "end_time": "2024-12-13T16:19:34.081511",
     "exception": false,
     "start_time": "2024-12-13T16:19:32.457102",
     "status": "completed"
    },
    "tags": []
   },
   "outputs": [],
   "source": [
    " train_data['Age'] = train_data['Age'].apply(lambda x: np.random.uniform(18.0, 64.0) if pd.isnull(x) else x)\n",
    "\n",
    " test_data['Age'] = test_data['Age'].apply(lambda x: np.random.uniform(18.0, 64.0) if pd.isnull(x) else x)"
   ]
  },
  {
   "cell_type": "code",
   "execution_count": 33,
   "id": "26121d93",
   "metadata": {
    "execution": {
     "iopub.execute_input": "2024-12-13T16:19:34.118859Z",
     "iopub.status.busy": "2024-12-13T16:19:34.117854Z",
     "iopub.status.idle": "2024-12-13T16:19:34.249750Z",
     "shell.execute_reply": "2024-12-13T16:19:34.248569Z"
    },
    "papermill": {
     "duration": 0.151376,
     "end_time": "2024-12-13T16:19:34.252107",
     "exception": false,
     "start_time": "2024-12-13T16:19:34.100731",
     "status": "completed"
    },
    "tags": []
   },
   "outputs": [
    {
     "data": {
      "text/plain": [
       "Marital Status\n",
       "single      395391\n",
       "married     394316\n",
       "divorced    391764\n",
       "Name: count, dtype: int64"
      ]
     },
     "execution_count": 33,
     "metadata": {},
     "output_type": "execute_result"
    }
   ],
   "source": [
    "train_data['Marital Status'].value_counts()"
   ]
  },
  {
   "cell_type": "code",
   "execution_count": 34,
   "id": "366f0d51",
   "metadata": {
    "execution": {
     "iopub.execute_input": "2024-12-13T16:19:34.282111Z",
     "iopub.status.busy": "2024-12-13T16:19:34.281012Z",
     "iopub.status.idle": "2024-12-13T16:19:34.388725Z",
     "shell.execute_reply": "2024-12-13T16:19:34.387519Z"
    },
    "papermill": {
     "duration": 0.125143,
     "end_time": "2024-12-13T16:19:34.391104",
     "exception": false,
     "start_time": "2024-12-13T16:19:34.265961",
     "status": "completed"
    },
    "tags": []
   },
   "outputs": [
    {
     "data": {
      "text/plain": [
       "'single'"
      ]
     },
     "execution_count": 34,
     "metadata": {},
     "output_type": "execute_result"
    }
   ],
   "source": [
    "train_data['Marital Status'].mode()[0]"
   ]
  },
  {
   "cell_type": "code",
   "execution_count": 35,
   "id": "146e72b2",
   "metadata": {
    "execution": {
     "iopub.execute_input": "2024-12-13T16:19:34.423724Z",
     "iopub.status.busy": "2024-12-13T16:19:34.422750Z",
     "iopub.status.idle": "2024-12-13T16:19:34.801941Z",
     "shell.execute_reply": "2024-12-13T16:19:34.800938Z"
    },
    "papermill": {
     "duration": 0.397547,
     "end_time": "2024-12-13T16:19:34.804432",
     "exception": false,
     "start_time": "2024-12-13T16:19:34.406885",
     "status": "completed"
    },
    "tags": []
   },
   "outputs": [],
   "source": [
    "train_data['Marital Status'] = train_data['Marital Status'].fillna(train_data['Marital Status'].mode()[0])\n",
    "\n",
    "test_data['Marital Status'] = test_data['Marital Status'].fillna(test_data['Marital Status'].mode()[0])"
   ]
  },
  {
   "cell_type": "code",
   "execution_count": 36,
   "id": "29a74cd6",
   "metadata": {
    "execution": {
     "iopub.execute_input": "2024-12-13T16:19:34.834145Z",
     "iopub.status.busy": "2024-12-13T16:19:34.833740Z",
     "iopub.status.idle": "2024-12-13T16:19:34.850633Z",
     "shell.execute_reply": "2024-12-13T16:19:34.849389Z"
    },
    "papermill": {
     "duration": 0.03502,
     "end_time": "2024-12-13T16:19:34.853416",
     "exception": false,
     "start_time": "2024-12-13T16:19:34.818396",
     "status": "completed"
    },
    "tags": []
   },
   "outputs": [],
   "source": [
    " train_data['Insurance Duration'] = train_data['Insurance Duration'].fillna(0)\n",
    "test_data['Insurance Duration'] = test_data['Insurance Duration'].fillna(0)"
   ]
  },
  {
   "cell_type": "code",
   "execution_count": 37,
   "id": "95d5a77f",
   "metadata": {
    "execution": {
     "iopub.execute_input": "2024-12-13T16:19:34.882943Z",
     "iopub.status.busy": "2024-12-13T16:19:34.882547Z",
     "iopub.status.idle": "2024-12-13T16:19:35.448874Z",
     "shell.execute_reply": "2024-12-13T16:19:35.447691Z"
    },
    "papermill": {
     "duration": 0.584195,
     "end_time": "2024-12-13T16:19:35.451440",
     "exception": false,
     "start_time": "2024-12-13T16:19:34.867245",
     "status": "completed"
    },
    "tags": []
   },
   "outputs": [],
   "source": [
    " test_data['Vehicle Age'] = test_data['Vehicle Age'].apply(lambda x: np.random.uniform(0.0, 11.0) if pd.isnull(x) else x)"
   ]
  },
  {
   "cell_type": "code",
   "execution_count": 38,
   "id": "03578736",
   "metadata": {
    "execution": {
     "iopub.execute_input": "2024-12-13T16:19:35.482614Z",
     "iopub.status.busy": "2024-12-13T16:19:35.482250Z",
     "iopub.status.idle": "2024-12-13T16:19:35.514152Z",
     "shell.execute_reply": "2024-12-13T16:19:35.513032Z"
    },
    "papermill": {
     "duration": 0.050767,
     "end_time": "2024-12-13T16:19:35.516570",
     "exception": false,
     "start_time": "2024-12-13T16:19:35.465803",
     "status": "completed"
    },
    "tags": []
   },
   "outputs": [
    {
     "data": {
      "text/html": [
       "<div>\n",
       "<style scoped>\n",
       "    .dataframe tbody tr th:only-of-type {\n",
       "        vertical-align: middle;\n",
       "    }\n",
       "\n",
       "    .dataframe tbody tr th {\n",
       "        vertical-align: top;\n",
       "    }\n",
       "\n",
       "    .dataframe thead th {\n",
       "        text-align: right;\n",
       "    }\n",
       "</style>\n",
       "<table border=\"1\" class=\"dataframe\">\n",
       "  <thead>\n",
       "    <tr style=\"text-align: right;\">\n",
       "      <th></th>\n",
       "      <th>id</th>\n",
       "      <th>Age</th>\n",
       "      <th>Gender</th>\n",
       "      <th>Annual Income</th>\n",
       "      <th>Marital Status</th>\n",
       "      <th>Number of Dependents</th>\n",
       "      <th>Education Level</th>\n",
       "      <th>Occupation</th>\n",
       "      <th>Health Score</th>\n",
       "      <th>Location</th>\n",
       "      <th>...</th>\n",
       "      <th>Previous Claims</th>\n",
       "      <th>Vehicle Age</th>\n",
       "      <th>Credit Score</th>\n",
       "      <th>Insurance Duration</th>\n",
       "      <th>Policy Start Date</th>\n",
       "      <th>Customer Feedback</th>\n",
       "      <th>Smoking Status</th>\n",
       "      <th>Exercise Frequency</th>\n",
       "      <th>Property Type</th>\n",
       "      <th>Premium Amount</th>\n",
       "    </tr>\n",
       "  </thead>\n",
       "  <tbody>\n",
       "    <tr>\n",
       "      <th>0</th>\n",
       "      <td>0</td>\n",
       "      <td>19.0</td>\n",
       "      <td>Female</td>\n",
       "      <td>10049.0</td>\n",
       "      <td>married</td>\n",
       "      <td>1.0</td>\n",
       "      <td>Bachelor's</td>\n",
       "      <td>Self-Employed</td>\n",
       "      <td>22.598761</td>\n",
       "      <td>Urban</td>\n",
       "      <td>...</td>\n",
       "      <td>2.0</td>\n",
       "      <td>17.0</td>\n",
       "      <td>372.00000</td>\n",
       "      <td>5.0</td>\n",
       "      <td>2023-12-23 15:21:39.134960</td>\n",
       "      <td>Poor</td>\n",
       "      <td>No</td>\n",
       "      <td>Weekly</td>\n",
       "      <td>House</td>\n",
       "      <td>2869.0</td>\n",
       "    </tr>\n",
       "    <tr>\n",
       "      <th>1</th>\n",
       "      <td>1</td>\n",
       "      <td>39.0</td>\n",
       "      <td>Female</td>\n",
       "      <td>31678.0</td>\n",
       "      <td>divorced</td>\n",
       "      <td>3.0</td>\n",
       "      <td>Master's</td>\n",
       "      <td>Unemployed</td>\n",
       "      <td>15.569731</td>\n",
       "      <td>Rural</td>\n",
       "      <td>...</td>\n",
       "      <td>1.0</td>\n",
       "      <td>12.0</td>\n",
       "      <td>694.00000</td>\n",
       "      <td>2.0</td>\n",
       "      <td>2023-06-12 15:21:39.111551</td>\n",
       "      <td>Average</td>\n",
       "      <td>Yes</td>\n",
       "      <td>Monthly</td>\n",
       "      <td>House</td>\n",
       "      <td>1483.0</td>\n",
       "    </tr>\n",
       "    <tr>\n",
       "      <th>2</th>\n",
       "      <td>2</td>\n",
       "      <td>23.0</td>\n",
       "      <td>Male</td>\n",
       "      <td>25602.0</td>\n",
       "      <td>divorced</td>\n",
       "      <td>3.0</td>\n",
       "      <td>High School</td>\n",
       "      <td>Self-Employed</td>\n",
       "      <td>47.177549</td>\n",
       "      <td>Suburban</td>\n",
       "      <td>...</td>\n",
       "      <td>1.0</td>\n",
       "      <td>14.0</td>\n",
       "      <td>592.92435</td>\n",
       "      <td>3.0</td>\n",
       "      <td>2023-09-30 15:21:39.221386</td>\n",
       "      <td>Good</td>\n",
       "      <td>Yes</td>\n",
       "      <td>Weekly</td>\n",
       "      <td>House</td>\n",
       "      <td>567.0</td>\n",
       "    </tr>\n",
       "    <tr>\n",
       "      <th>3</th>\n",
       "      <td>3</td>\n",
       "      <td>21.0</td>\n",
       "      <td>Male</td>\n",
       "      <td>141855.0</td>\n",
       "      <td>married</td>\n",
       "      <td>2.0</td>\n",
       "      <td>Bachelor's</td>\n",
       "      <td>Unemployed</td>\n",
       "      <td>10.938144</td>\n",
       "      <td>Rural</td>\n",
       "      <td>...</td>\n",
       "      <td>1.0</td>\n",
       "      <td>0.0</td>\n",
       "      <td>367.00000</td>\n",
       "      <td>1.0</td>\n",
       "      <td>2024-06-12 15:21:39.226954</td>\n",
       "      <td>Poor</td>\n",
       "      <td>Yes</td>\n",
       "      <td>Daily</td>\n",
       "      <td>Apartment</td>\n",
       "      <td>765.0</td>\n",
       "    </tr>\n",
       "    <tr>\n",
       "      <th>4</th>\n",
       "      <td>4</td>\n",
       "      <td>21.0</td>\n",
       "      <td>Male</td>\n",
       "      <td>39651.0</td>\n",
       "      <td>single</td>\n",
       "      <td>1.0</td>\n",
       "      <td>Bachelor's</td>\n",
       "      <td>Self-Employed</td>\n",
       "      <td>20.376094</td>\n",
       "      <td>Rural</td>\n",
       "      <td>...</td>\n",
       "      <td>0.0</td>\n",
       "      <td>8.0</td>\n",
       "      <td>598.00000</td>\n",
       "      <td>4.0</td>\n",
       "      <td>2021-12-01 15:21:39.252145</td>\n",
       "      <td>Poor</td>\n",
       "      <td>Yes</td>\n",
       "      <td>Weekly</td>\n",
       "      <td>House</td>\n",
       "      <td>2022.0</td>\n",
       "    </tr>\n",
       "  </tbody>\n",
       "</table>\n",
       "<p>5 rows × 21 columns</p>\n",
       "</div>"
      ],
      "text/plain": [
       "   id   Age  Gender  Annual Income Marital Status  Number of Dependents  \\\n",
       "0   0  19.0  Female        10049.0        married                   1.0   \n",
       "1   1  39.0  Female        31678.0       divorced                   3.0   \n",
       "2   2  23.0    Male        25602.0       divorced                   3.0   \n",
       "3   3  21.0    Male       141855.0        married                   2.0   \n",
       "4   4  21.0    Male        39651.0         single                   1.0   \n",
       "\n",
       "  Education Level     Occupation  Health Score  Location  ... Previous Claims  \\\n",
       "0      Bachelor's  Self-Employed     22.598761     Urban  ...             2.0   \n",
       "1        Master's     Unemployed     15.569731     Rural  ...             1.0   \n",
       "2     High School  Self-Employed     47.177549  Suburban  ...             1.0   \n",
       "3      Bachelor's     Unemployed     10.938144     Rural  ...             1.0   \n",
       "4      Bachelor's  Self-Employed     20.376094     Rural  ...             0.0   \n",
       "\n",
       "   Vehicle Age  Credit Score  Insurance Duration           Policy Start Date  \\\n",
       "0         17.0     372.00000                 5.0  2023-12-23 15:21:39.134960   \n",
       "1         12.0     694.00000                 2.0  2023-06-12 15:21:39.111551   \n",
       "2         14.0     592.92435                 3.0  2023-09-30 15:21:39.221386   \n",
       "3          0.0     367.00000                 1.0  2024-06-12 15:21:39.226954   \n",
       "4          8.0     598.00000                 4.0  2021-12-01 15:21:39.252145   \n",
       "\n",
       "  Customer Feedback Smoking Status Exercise Frequency Property Type  \\\n",
       "0              Poor             No             Weekly         House   \n",
       "1           Average            Yes            Monthly         House   \n",
       "2              Good            Yes             Weekly         House   \n",
       "3              Poor            Yes              Daily     Apartment   \n",
       "4              Poor            Yes             Weekly         House   \n",
       "\n",
       "  Premium Amount  \n",
       "0         2869.0  \n",
       "1         1483.0  \n",
       "2          567.0  \n",
       "3          765.0  \n",
       "4         2022.0  \n",
       "\n",
       "[5 rows x 21 columns]"
      ]
     },
     "execution_count": 38,
     "metadata": {},
     "output_type": "execute_result"
    }
   ],
   "source": [
    "train_data.head()"
   ]
  },
  {
   "cell_type": "code",
   "execution_count": 39,
   "id": "932ba628",
   "metadata": {
    "execution": {
     "iopub.execute_input": "2024-12-13T16:19:35.553924Z",
     "iopub.status.busy": "2024-12-13T16:19:35.553475Z",
     "iopub.status.idle": "2024-12-13T16:19:36.277703Z",
     "shell.execute_reply": "2024-12-13T16:19:36.276557Z"
    },
    "papermill": {
     "duration": 0.742172,
     "end_time": "2024-12-13T16:19:36.280233",
     "exception": false,
     "start_time": "2024-12-13T16:19:35.538061",
     "status": "completed"
    },
    "tags": []
   },
   "outputs": [],
   "source": [
    "train_data['Policy Start Date'] = pd.to_datetime(train_data['Policy Start Date'])\n",
    "train_data['date'] = train_data['Policy Start Date'].dt.date\n"
   ]
  },
  {
   "cell_type": "code",
   "execution_count": 40,
   "id": "4b2433fe",
   "metadata": {
    "execution": {
     "iopub.execute_input": "2024-12-13T16:19:36.310639Z",
     "iopub.status.busy": "2024-12-13T16:19:36.310243Z",
     "iopub.status.idle": "2024-12-13T16:19:36.566620Z",
     "shell.execute_reply": "2024-12-13T16:19:36.565514Z"
    },
    "papermill": {
     "duration": 0.27449,
     "end_time": "2024-12-13T16:19:36.569114",
     "exception": false,
     "start_time": "2024-12-13T16:19:36.294624",
     "status": "completed"
    },
    "tags": []
   },
   "outputs": [],
   "source": [
    "train_data = train_data.drop(\"Policy Start Date\", axis = 1)"
   ]
  },
  {
   "cell_type": "code",
   "execution_count": 41,
   "id": "9da2d36b",
   "metadata": {
    "execution": {
     "iopub.execute_input": "2024-12-13T16:19:36.600175Z",
     "iopub.status.busy": "2024-12-13T16:19:36.599355Z",
     "iopub.status.idle": "2024-12-13T16:19:37.099079Z",
     "shell.execute_reply": "2024-12-13T16:19:37.098024Z"
    },
    "papermill": {
     "duration": 0.51887,
     "end_time": "2024-12-13T16:19:37.102131",
     "exception": false,
     "start_time": "2024-12-13T16:19:36.583261",
     "status": "completed"
    },
    "tags": []
   },
   "outputs": [],
   "source": [
    "test_data['Policy Start Date'] = pd.to_datetime(test_data['Policy Start Date'])\n",
    "test_data['date'] = test_data['Policy Start Date'].dt.date\n"
   ]
  },
  {
   "cell_type": "code",
   "execution_count": 42,
   "id": "88262fc1",
   "metadata": {
    "execution": {
     "iopub.execute_input": "2024-12-13T16:19:37.133516Z",
     "iopub.status.busy": "2024-12-13T16:19:37.133089Z",
     "iopub.status.idle": "2024-12-13T16:19:37.358829Z",
     "shell.execute_reply": "2024-12-13T16:19:37.357544Z"
    },
    "papermill": {
     "duration": 0.244512,
     "end_time": "2024-12-13T16:19:37.361358",
     "exception": false,
     "start_time": "2024-12-13T16:19:37.116846",
     "status": "completed"
    },
    "tags": []
   },
   "outputs": [],
   "source": [
    "test_data = test_data.drop(\"Policy Start Date\", axis = 1)"
   ]
  },
  {
   "cell_type": "code",
   "execution_count": 43,
   "id": "feabf0e4",
   "metadata": {
    "execution": {
     "iopub.execute_input": "2024-12-13T16:19:37.391498Z",
     "iopub.status.busy": "2024-12-13T16:19:37.391100Z",
     "iopub.status.idle": "2024-12-13T16:19:38.782396Z",
     "shell.execute_reply": "2024-12-13T16:19:38.781242Z"
    },
    "papermill": {
     "duration": 1.408886,
     "end_time": "2024-12-13T16:19:38.784648",
     "exception": false,
     "start_time": "2024-12-13T16:19:37.375762",
     "status": "completed"
    },
    "tags": []
   },
   "outputs": [
    {
     "name": "stderr",
     "output_type": "stream",
     "text": [
      "/tmp/ipykernel_17/3765079498.py:1: FutureWarning: Downcasting behavior in `replace` is deprecated and will be removed in a future version. To retain the old behavior, explicitly call `result.infer_objects(copy=False)`. To opt-in to the future behavior, set `pd.set_option('future.no_silent_downcasting', True)`\n",
      "  train_data['Gender'] = train_data['Gender'].replace({\"Female\": 1, \"Male\" : 0})\n",
      "/tmp/ipykernel_17/3765079498.py:2: FutureWarning: Downcasting behavior in `replace` is deprecated and will be removed in a future version. To retain the old behavior, explicitly call `result.infer_objects(copy=False)`. To opt-in to the future behavior, set `pd.set_option('future.no_silent_downcasting', True)`\n",
      "  train_data['Smoking Status'] = train_data['Smoking Status'].replace({\"Yes\" : 1, \"No\": 0})\n",
      "/tmp/ipykernel_17/3765079498.py:3: FutureWarning: Downcasting behavior in `replace` is deprecated and will be removed in a future version. To retain the old behavior, explicitly call `result.infer_objects(copy=False)`. To opt-in to the future behavior, set `pd.set_option('future.no_silent_downcasting', True)`\n",
      "  test_data['Gender'] = test_data['Gender'].replace({\"Female\": 1, \"Male\" : 0})\n",
      "/tmp/ipykernel_17/3765079498.py:4: FutureWarning: Downcasting behavior in `replace` is deprecated and will be removed in a future version. To retain the old behavior, explicitly call `result.infer_objects(copy=False)`. To opt-in to the future behavior, set `pd.set_option('future.no_silent_downcasting', True)`\n",
      "  test_data['Smoking Status'] = test_data['Smoking Status'].replace({\"Yes\" : 1, \"No\": 0})\n"
     ]
    }
   ],
   "source": [
    "train_data['Gender'] = train_data['Gender'].replace({\"Female\": 1, \"Male\" : 0})\n",
    "train_data['Smoking Status'] = train_data['Smoking Status'].replace({\"Yes\" : 1, \"No\": 0})\n",
    "test_data['Gender'] = test_data['Gender'].replace({\"Female\": 1, \"Male\" : 0})\n",
    "test_data['Smoking Status'] = test_data['Smoking Status'].replace({\"Yes\" : 1, \"No\": 0})"
   ]
  },
  {
   "cell_type": "code",
   "execution_count": 44,
   "id": "fadddc14",
   "metadata": {
    "execution": {
     "iopub.execute_input": "2024-12-13T16:19:38.815027Z",
     "iopub.status.busy": "2024-12-13T16:19:38.814647Z",
     "iopub.status.idle": "2024-12-13T16:19:38.825651Z",
     "shell.execute_reply": "2024-12-13T16:19:38.824531Z"
    },
    "papermill": {
     "duration": 0.02947,
     "end_time": "2024-12-13T16:19:38.828536",
     "exception": false,
     "start_time": "2024-12-13T16:19:38.799066",
     "status": "completed"
    },
    "tags": []
   },
   "outputs": [],
   "source": [
    " train_data['Vehicle Age'] = train_data['Vehicle Age'].fillna(0.0)"
   ]
  },
  {
   "cell_type": "code",
   "execution_count": 45,
   "id": "bc2a1f67",
   "metadata": {
    "execution": {
     "iopub.execute_input": "2024-12-13T16:19:38.859529Z",
     "iopub.status.busy": "2024-12-13T16:19:38.859108Z",
     "iopub.status.idle": "2024-12-13T16:19:42.256678Z",
     "shell.execute_reply": "2024-12-13T16:19:42.255580Z"
    },
    "papermill": {
     "duration": 3.41588,
     "end_time": "2024-12-13T16:19:42.259394",
     "exception": false,
     "start_time": "2024-12-13T16:19:38.843514",
     "status": "completed"
    },
    "tags": []
   },
   "outputs": [],
   "source": [
    "lb = LabelEncoder()\n",
    "cat_cols = []  \n",
    "\n",
    "for col in train_data.columns:\n",
    "    if train_data[col].dtype == 'object':  \n",
    "        cat_cols.append(col)  \n",
    "        train_data[col] = lb.fit_transform(train_data[col])\n",
    "        test_data[col] = lb.transform(test_data[col])"
   ]
  },
  {
   "cell_type": "code",
   "execution_count": 46,
   "id": "2f7e2a9e",
   "metadata": {
    "execution": {
     "iopub.execute_input": "2024-12-13T16:19:42.290214Z",
     "iopub.status.busy": "2024-12-13T16:19:42.289722Z",
     "iopub.status.idle": "2024-12-13T16:19:42.624441Z",
     "shell.execute_reply": "2024-12-13T16:19:42.623468Z"
    },
    "papermill": {
     "duration": 0.35305,
     "end_time": "2024-12-13T16:19:42.627052",
     "exception": false,
     "start_time": "2024-12-13T16:19:42.274002",
     "status": "completed"
    },
    "tags": []
   },
   "outputs": [],
   "source": [
    "ip = train_data.copy()\n",
    "ip = ip.drop(\"Premium Amount\", axis = 1)"
   ]
  },
  {
   "cell_type": "code",
   "execution_count": 47,
   "id": "08accca9",
   "metadata": {
    "execution": {
     "iopub.execute_input": "2024-12-13T16:19:42.658198Z",
     "iopub.status.busy": "2024-12-13T16:19:42.657771Z",
     "iopub.status.idle": "2024-12-13T16:19:43.196036Z",
     "shell.execute_reply": "2024-12-13T16:19:43.195111Z"
    },
    "papermill": {
     "duration": 0.556558,
     "end_time": "2024-12-13T16:19:43.198507",
     "exception": false,
     "start_time": "2024-12-13T16:19:42.641949",
     "status": "completed"
    },
    "tags": []
   },
   "outputs": [],
   "source": [
    "sc = MinMaxScaler()\n",
    "  \n",
    "for col in ip.columns:\n",
    "    if ip[col].dtype == 'int' or ip[col].dtype == 'float':  \n",
    "         \n",
    "        ip[col] = sc.fit_transform(ip[[col]])\n",
    "        test_data[col] = sc.transform(test_data[[col]])"
   ]
  },
  {
   "cell_type": "code",
   "execution_count": 48,
   "id": "f0309de4",
   "metadata": {
    "execution": {
     "iopub.execute_input": "2024-12-13T16:19:43.229860Z",
     "iopub.status.busy": "2024-12-13T16:19:43.229381Z",
     "iopub.status.idle": "2024-12-13T16:19:43.835330Z",
     "shell.execute_reply": "2024-12-13T16:19:43.834267Z"
    },
    "papermill": {
     "duration": 0.624774,
     "end_time": "2024-12-13T16:19:43.837888",
     "exception": false,
     "start_time": "2024-12-13T16:19:43.213114",
     "status": "completed"
    },
    "tags": []
   },
   "outputs": [],
   "source": [
    "X_train, X_test, Y_train, Y_test = train_test_split(ip, train_data['Premium Amount'], test_size = 0.2, random_state = 45)"
   ]
  },
  {
   "cell_type": "code",
   "execution_count": 49,
   "id": "4683391f",
   "metadata": {
    "execution": {
     "iopub.execute_input": "2024-12-13T16:19:43.868721Z",
     "iopub.status.busy": "2024-12-13T16:19:43.868331Z",
     "iopub.status.idle": "2024-12-13T16:19:43.873788Z",
     "shell.execute_reply": "2024-12-13T16:19:43.872668Z"
    },
    "papermill": {
     "duration": 0.023728,
     "end_time": "2024-12-13T16:19:43.876125",
     "exception": false,
     "start_time": "2024-12-13T16:19:43.852397",
     "status": "completed"
    },
    "tags": []
   },
   "outputs": [],
   "source": [
    "def calculate_rmlse(y_true, y_pred):\n",
    "    log_true = np.log(y_true + 1)\n",
    "    log_pred = np.log(y_pred + 1)\n",
    "    rmlse = np.sqrt(np.mean((log_true - log_pred) ** 2))\n",
    "    return rmlse"
   ]
  },
  {
   "cell_type": "code",
   "execution_count": 50,
   "id": "145f4156",
   "metadata": {
    "execution": {
     "iopub.execute_input": "2024-12-13T16:19:43.906791Z",
     "iopub.status.busy": "2024-12-13T16:19:43.906368Z",
     "iopub.status.idle": "2024-12-13T16:19:43.911964Z",
     "shell.execute_reply": "2024-12-13T16:19:43.910706Z"
    },
    "papermill": {
     "duration": 0.023975,
     "end_time": "2024-12-13T16:19:43.914541",
     "exception": false,
     "start_time": "2024-12-13T16:19:43.890566",
     "status": "completed"
    },
    "tags": []
   },
   "outputs": [],
   "source": [
    "rt = RandomForestRegressor(n_estimators=30,max_depth= 20,max_samples= 20,min_samples_leaf= 15,max_features=25)"
   ]
  },
  {
   "cell_type": "code",
   "execution_count": 51,
   "id": "cd4f15ba",
   "metadata": {
    "execution": {
     "iopub.execute_input": "2024-12-13T16:19:43.945339Z",
     "iopub.status.busy": "2024-12-13T16:19:43.944915Z",
     "iopub.status.idle": "2024-12-13T16:19:44.365406Z",
     "shell.execute_reply": "2024-12-13T16:19:44.364272Z"
    },
    "papermill": {
     "duration": 0.439047,
     "end_time": "2024-12-13T16:19:44.367984",
     "exception": false,
     "start_time": "2024-12-13T16:19:43.928937",
     "status": "completed"
    },
    "tags": []
   },
   "outputs": [],
   "source": [
    "rt.fit(X_train, Y_train)\n",
    "rt_pred = rt.predict(X_test)"
   ]
  },
  {
   "cell_type": "code",
   "execution_count": 52,
   "id": "52a22352",
   "metadata": {
    "execution": {
     "iopub.execute_input": "2024-12-13T16:19:44.399440Z",
     "iopub.status.busy": "2024-12-13T16:19:44.398157Z",
     "iopub.status.idle": "2024-12-13T16:19:44.617516Z",
     "shell.execute_reply": "2024-12-13T16:19:44.616282Z"
    },
    "papermill": {
     "duration": 0.237746,
     "end_time": "2024-12-13T16:19:44.620240",
     "exception": false,
     "start_time": "2024-12-13T16:19:44.382494",
     "status": "completed"
    },
    "tags": []
   },
   "outputs": [],
   "source": [
    "y_pred_test_data_rt = rt.predict(test_data)"
   ]
  },
  {
   "cell_type": "code",
   "execution_count": 53,
   "id": "7900f360",
   "metadata": {
    "execution": {
     "iopub.execute_input": "2024-12-13T16:19:44.652222Z",
     "iopub.status.busy": "2024-12-13T16:19:44.651749Z",
     "iopub.status.idle": "2024-12-13T16:19:44.668068Z",
     "shell.execute_reply": "2024-12-13T16:19:44.666884Z"
    },
    "papermill": {
     "duration": 0.035387,
     "end_time": "2024-12-13T16:19:44.670707",
     "exception": false,
     "start_time": "2024-12-13T16:19:44.635320",
     "status": "completed"
    },
    "tags": []
   },
   "outputs": [
    {
     "data": {
      "text/plain": [
       "1.1711211638557433"
      ]
     },
     "execution_count": 53,
     "metadata": {},
     "output_type": "execute_result"
    }
   ],
   "source": [
    "calculate_rmlse(Y_test, rt_pred)"
   ]
  },
  {
   "cell_type": "code",
   "execution_count": 54,
   "id": "8d5f4a88",
   "metadata": {
    "execution": {
     "iopub.execute_input": "2024-12-13T16:19:44.702750Z",
     "iopub.status.busy": "2024-12-13T16:19:44.701812Z",
     "iopub.status.idle": "2024-12-13T16:19:45.009745Z",
     "shell.execute_reply": "2024-12-13T16:19:45.008622Z"
    },
    "papermill": {
     "duration": 0.327127,
     "end_time": "2024-12-13T16:19:45.012495",
     "exception": false,
     "start_time": "2024-12-13T16:19:44.685368",
     "status": "completed"
    },
    "tags": []
   },
   "outputs": [],
   "source": [
    "sample_data = pd.read_csv(\"/kaggle/input/playground-series-s4e12/sample_submission.csv\")\n"
   ]
  },
  {
   "cell_type": "code",
   "execution_count": 55,
   "id": "3d4b5eff",
   "metadata": {
    "execution": {
     "iopub.execute_input": "2024-12-13T16:19:45.044728Z",
     "iopub.status.busy": "2024-12-13T16:19:45.044361Z",
     "iopub.status.idle": "2024-12-13T16:19:45.052248Z",
     "shell.execute_reply": "2024-12-13T16:19:45.051098Z"
    },
    "papermill": {
     "duration": 0.027877,
     "end_time": "2024-12-13T16:19:45.055002",
     "exception": false,
     "start_time": "2024-12-13T16:19:45.027125",
     "status": "completed"
    },
    "tags": []
   },
   "outputs": [],
   "source": [
    "# Assuming y_pred_test_data_rt is an array or Series containing predictions\n",
    "test_data_pred = pd.DataFrame({\n",
    "    'id': sample_data['id'],\n",
    "    'prediction': y_pred_test_data_rt\n",
    "})\n"
   ]
  },
  {
   "cell_type": "code",
   "execution_count": 56,
   "id": "a04592da",
   "metadata": {
    "execution": {
     "iopub.execute_input": "2024-12-13T16:19:45.087371Z",
     "iopub.status.busy": "2024-12-13T16:19:45.086960Z",
     "iopub.status.idle": "2024-12-13T16:19:45.098597Z",
     "shell.execute_reply": "2024-12-13T16:19:45.097495Z"
    },
    "papermill": {
     "duration": 0.030676,
     "end_time": "2024-12-13T16:19:45.100827",
     "exception": false,
     "start_time": "2024-12-13T16:19:45.070151",
     "status": "completed"
    },
    "tags": []
   },
   "outputs": [
    {
     "data": {
      "text/html": [
       "<div>\n",
       "<style scoped>\n",
       "    .dataframe tbody tr th:only-of-type {\n",
       "        vertical-align: middle;\n",
       "    }\n",
       "\n",
       "    .dataframe tbody tr th {\n",
       "        vertical-align: top;\n",
       "    }\n",
       "\n",
       "    .dataframe thead th {\n",
       "        text-align: right;\n",
       "    }\n",
       "</style>\n",
       "<table border=\"1\" class=\"dataframe\">\n",
       "  <thead>\n",
       "    <tr style=\"text-align: right;\">\n",
       "      <th></th>\n",
       "      <th>id</th>\n",
       "      <th>prediction</th>\n",
       "    </tr>\n",
       "  </thead>\n",
       "  <tbody>\n",
       "    <tr>\n",
       "      <th>0</th>\n",
       "      <td>1200000</td>\n",
       "      <td>1105.201667</td>\n",
       "    </tr>\n",
       "    <tr>\n",
       "      <th>1</th>\n",
       "      <td>1200001</td>\n",
       "      <td>1105.201667</td>\n",
       "    </tr>\n",
       "    <tr>\n",
       "      <th>2</th>\n",
       "      <td>1200002</td>\n",
       "      <td>1105.201667</td>\n",
       "    </tr>\n",
       "    <tr>\n",
       "      <th>3</th>\n",
       "      <td>1200003</td>\n",
       "      <td>1105.201667</td>\n",
       "    </tr>\n",
       "    <tr>\n",
       "      <th>4</th>\n",
       "      <td>1200004</td>\n",
       "      <td>1105.201667</td>\n",
       "    </tr>\n",
       "    <tr>\n",
       "      <th>...</th>\n",
       "      <td>...</td>\n",
       "      <td>...</td>\n",
       "    </tr>\n",
       "    <tr>\n",
       "      <th>799995</th>\n",
       "      <td>1999995</td>\n",
       "      <td>1105.201667</td>\n",
       "    </tr>\n",
       "    <tr>\n",
       "      <th>799996</th>\n",
       "      <td>1999996</td>\n",
       "      <td>1105.201667</td>\n",
       "    </tr>\n",
       "    <tr>\n",
       "      <th>799997</th>\n",
       "      <td>1999997</td>\n",
       "      <td>1105.201667</td>\n",
       "    </tr>\n",
       "    <tr>\n",
       "      <th>799998</th>\n",
       "      <td>1999998</td>\n",
       "      <td>1105.201667</td>\n",
       "    </tr>\n",
       "    <tr>\n",
       "      <th>799999</th>\n",
       "      <td>1999999</td>\n",
       "      <td>1105.201667</td>\n",
       "    </tr>\n",
       "  </tbody>\n",
       "</table>\n",
       "<p>800000 rows × 2 columns</p>\n",
       "</div>"
      ],
      "text/plain": [
       "             id   prediction\n",
       "0       1200000  1105.201667\n",
       "1       1200001  1105.201667\n",
       "2       1200002  1105.201667\n",
       "3       1200003  1105.201667\n",
       "4       1200004  1105.201667\n",
       "...         ...          ...\n",
       "799995  1999995  1105.201667\n",
       "799996  1999996  1105.201667\n",
       "799997  1999997  1105.201667\n",
       "799998  1999998  1105.201667\n",
       "799999  1999999  1105.201667\n",
       "\n",
       "[800000 rows x 2 columns]"
      ]
     },
     "execution_count": 56,
     "metadata": {},
     "output_type": "execute_result"
    }
   ],
   "source": [
    "test_data_pred"
   ]
  },
  {
   "cell_type": "code",
   "execution_count": 57,
   "id": "2b6efabc",
   "metadata": {
    "execution": {
     "iopub.execute_input": "2024-12-13T16:19:45.131977Z",
     "iopub.status.busy": "2024-12-13T16:19:45.131596Z",
     "iopub.status.idle": "2024-12-13T16:19:46.771881Z",
     "shell.execute_reply": "2024-12-13T16:19:46.770614Z"
    },
    "papermill": {
     "duration": 1.659336,
     "end_time": "2024-12-13T16:19:46.774814",
     "exception": false,
     "start_time": "2024-12-13T16:19:45.115478",
     "status": "completed"
    },
    "tags": []
   },
   "outputs": [],
   "source": [
    "result = test_data_pred.to_csv(\"sample_submission_data.csv\", index = False)"
   ]
  }
 ],
 "metadata": {
  "kaggle": {
   "accelerator": "none",
   "dataSources": [
    {
     "databundleVersionId": 10305135,
     "sourceId": 84896,
     "sourceType": "competition"
    }
   ],
   "dockerImageVersionId": 30786,
   "isGpuEnabled": false,
   "isInternetEnabled": true,
   "language": "python",
   "sourceType": "notebook"
  },
  "kernelspec": {
   "display_name": "Python 3",
   "language": "python",
   "name": "python3"
  },
  "language_info": {
   "codemirror_mode": {
    "name": "ipython",
    "version": 3
   },
   "file_extension": ".py",
   "mimetype": "text/x-python",
   "name": "python",
   "nbconvert_exporter": "python",
   "pygments_lexer": "ipython3",
   "version": "3.10.14"
  },
  "papermill": {
   "default_parameters": {},
   "duration": 83.96889,
   "end_time": "2024-12-13T16:19:47.711753",
   "environment_variables": {},
   "exception": null,
   "input_path": "__notebook__.ipynb",
   "output_path": "__notebook__.ipynb",
   "parameters": {},
   "start_time": "2024-12-13T16:18:23.742863",
   "version": "2.6.0"
  }
 },
 "nbformat": 4,
 "nbformat_minor": 5
}
