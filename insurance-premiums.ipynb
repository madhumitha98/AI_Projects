{
 "cells": [
  {
   "cell_type": "code",
   "execution_count": 1,
   "id": "e4e933f9",
   "metadata": {
    "_cell_guid": "b1076dfc-b9ad-4769-8c92-a6c4dae69d19",
    "_uuid": "8f2839f25d086af736a60e9eeb907d3b93b6e0e5",
    "execution": {
     "iopub.execute_input": "2024-12-04T17:41:59.551053Z",
     "iopub.status.busy": "2024-12-04T17:41:59.550646Z",
     "iopub.status.idle": "2024-12-04T17:42:00.463286Z",
     "shell.execute_reply": "2024-12-04T17:42:00.462178Z"
    },
    "papermill": {
     "duration": 0.924021,
     "end_time": "2024-12-04T17:42:00.465594",
     "exception": false,
     "start_time": "2024-12-04T17:41:59.541573",
     "status": "completed"
    },
    "tags": []
   },
   "outputs": [
    {
     "name": "stdout",
     "output_type": "stream",
     "text": [
      "/kaggle/input/playground-series-s4e12/sample_submission.csv\n",
      "/kaggle/input/playground-series-s4e12/train.csv\n",
      "/kaggle/input/playground-series-s4e12/test.csv\n"
     ]
    }
   ],
   "source": [
    "# This Python 3 environment comes with many helpful analytics libraries installed\n",
    "# It is defined by the kaggle/python Docker image: https://github.com/kaggle/docker-python\n",
    "# For example, here's several helpful packages to load\n",
    "\n",
    "import numpy as np # linear algebra\n",
    "import pandas as pd # data processing, CSV file I/O (e.g. pd.read_csv)\n",
    "\n",
    "# Input data files are available in the read-only \"../input/\" directory\n",
    "# For example, running this (by clicking run or pressing Shift+Enter) will list all files under the input directory\n",
    "\n",
    "import os\n",
    "for dirname, _, filenames in os.walk('/kaggle/input'):\n",
    "    for filename in filenames:\n",
    "        print(os.path.join(dirname, filename))\n",
    "\n",
    "# You can write up to 20GB to the current directory (/kaggle/working/) that gets preserved as output when you create a version using \"Save & Run All\" \n",
    "# You can also write temporary files to /kaggle/temp/, but they won't be saved outside of the current session"
   ]
  },
  {
   "cell_type": "code",
   "execution_count": 2,
   "id": "7eb1024f",
   "metadata": {
    "execution": {
     "iopub.execute_input": "2024-12-04T17:42:00.481140Z",
     "iopub.status.busy": "2024-12-04T17:42:00.480603Z",
     "iopub.status.idle": "2024-12-04T17:42:02.682122Z",
     "shell.execute_reply": "2024-12-04T17:42:02.681099Z"
    },
    "papermill": {
     "duration": 2.2118,
     "end_time": "2024-12-04T17:42:02.684574",
     "exception": false,
     "start_time": "2024-12-04T17:42:00.472774",
     "status": "completed"
    },
    "tags": []
   },
   "outputs": [],
   "source": [
    "import matplotlib.pyplot as plt\n",
    "import seaborn as sns\n",
    "from sklearn.preprocessing import StandardScaler, OneHotEncoder, LabelEncoder\n",
    "from sklearn.model_selection import train_test_split\n",
    "from sklearn.linear_model import LinearRegression\n",
    "from sklearn.tree import DecisionTreeRegressor\n",
    "from sklearn.ensemble import RandomForestRegressor, GradientBoostingRegressor"
   ]
  },
  {
   "cell_type": "code",
   "execution_count": 3,
   "id": "c7753272",
   "metadata": {
    "execution": {
     "iopub.execute_input": "2024-12-04T17:42:02.700372Z",
     "iopub.status.busy": "2024-12-04T17:42:02.699826Z",
     "iopub.status.idle": "2024-12-04T17:42:13.121406Z",
     "shell.execute_reply": "2024-12-04T17:42:13.120333Z"
    },
    "papermill": {
     "duration": 10.43226,
     "end_time": "2024-12-04T17:42:13.123828",
     "exception": false,
     "start_time": "2024-12-04T17:42:02.691568",
     "status": "completed"
    },
    "tags": []
   },
   "outputs": [],
   "source": [
    "train_data = pd.read_csv(\"/kaggle/input/playground-series-s4e12/train.csv\")\n",
    "\n",
    "test_data = pd.read_csv(\"/kaggle/input/playground-series-s4e12/test.csv\")"
   ]
  },
  {
   "cell_type": "code",
   "execution_count": 4,
   "id": "c06d1800",
   "metadata": {
    "execution": {
     "iopub.execute_input": "2024-12-04T17:42:13.139947Z",
     "iopub.status.busy": "2024-12-04T17:42:13.139570Z",
     "iopub.status.idle": "2024-12-04T17:42:13.179767Z",
     "shell.execute_reply": "2024-12-04T17:42:13.178696Z"
    },
    "papermill": {
     "duration": 0.051324,
     "end_time": "2024-12-04T17:42:13.182001",
     "exception": false,
     "start_time": "2024-12-04T17:42:13.130677",
     "status": "completed"
    },
    "tags": []
   },
   "outputs": [
    {
     "data": {
      "text/html": [
       "<div>\n",
       "<style scoped>\n",
       "    .dataframe tbody tr th:only-of-type {\n",
       "        vertical-align: middle;\n",
       "    }\n",
       "\n",
       "    .dataframe tbody tr th {\n",
       "        vertical-align: top;\n",
       "    }\n",
       "\n",
       "    .dataframe thead th {\n",
       "        text-align: right;\n",
       "    }\n",
       "</style>\n",
       "<table border=\"1\" class=\"dataframe\">\n",
       "  <thead>\n",
       "    <tr style=\"text-align: right;\">\n",
       "      <th></th>\n",
       "      <th>id</th>\n",
       "      <th>Age</th>\n",
       "      <th>Gender</th>\n",
       "      <th>Annual Income</th>\n",
       "      <th>Marital Status</th>\n",
       "      <th>Number of Dependents</th>\n",
       "      <th>Education Level</th>\n",
       "      <th>Occupation</th>\n",
       "      <th>Health Score</th>\n",
       "      <th>Location</th>\n",
       "      <th>...</th>\n",
       "      <th>Previous Claims</th>\n",
       "      <th>Vehicle Age</th>\n",
       "      <th>Credit Score</th>\n",
       "      <th>Insurance Duration</th>\n",
       "      <th>Policy Start Date</th>\n",
       "      <th>Customer Feedback</th>\n",
       "      <th>Smoking Status</th>\n",
       "      <th>Exercise Frequency</th>\n",
       "      <th>Property Type</th>\n",
       "      <th>Premium Amount</th>\n",
       "    </tr>\n",
       "  </thead>\n",
       "  <tbody>\n",
       "    <tr>\n",
       "      <th>0</th>\n",
       "      <td>0</td>\n",
       "      <td>19.0</td>\n",
       "      <td>Female</td>\n",
       "      <td>10049.0</td>\n",
       "      <td>Married</td>\n",
       "      <td>1.0</td>\n",
       "      <td>Bachelor's</td>\n",
       "      <td>Self-Employed</td>\n",
       "      <td>22.598761</td>\n",
       "      <td>Urban</td>\n",
       "      <td>...</td>\n",
       "      <td>2.0</td>\n",
       "      <td>17.0</td>\n",
       "      <td>372.0</td>\n",
       "      <td>5.0</td>\n",
       "      <td>2023-12-23 15:21:39.134960</td>\n",
       "      <td>Poor</td>\n",
       "      <td>No</td>\n",
       "      <td>Weekly</td>\n",
       "      <td>House</td>\n",
       "      <td>2869.0</td>\n",
       "    </tr>\n",
       "    <tr>\n",
       "      <th>1</th>\n",
       "      <td>1</td>\n",
       "      <td>39.0</td>\n",
       "      <td>Female</td>\n",
       "      <td>31678.0</td>\n",
       "      <td>Divorced</td>\n",
       "      <td>3.0</td>\n",
       "      <td>Master's</td>\n",
       "      <td>NaN</td>\n",
       "      <td>15.569731</td>\n",
       "      <td>Rural</td>\n",
       "      <td>...</td>\n",
       "      <td>1.0</td>\n",
       "      <td>12.0</td>\n",
       "      <td>694.0</td>\n",
       "      <td>2.0</td>\n",
       "      <td>2023-06-12 15:21:39.111551</td>\n",
       "      <td>Average</td>\n",
       "      <td>Yes</td>\n",
       "      <td>Monthly</td>\n",
       "      <td>House</td>\n",
       "      <td>1483.0</td>\n",
       "    </tr>\n",
       "    <tr>\n",
       "      <th>2</th>\n",
       "      <td>2</td>\n",
       "      <td>23.0</td>\n",
       "      <td>Male</td>\n",
       "      <td>25602.0</td>\n",
       "      <td>Divorced</td>\n",
       "      <td>3.0</td>\n",
       "      <td>High School</td>\n",
       "      <td>Self-Employed</td>\n",
       "      <td>47.177549</td>\n",
       "      <td>Suburban</td>\n",
       "      <td>...</td>\n",
       "      <td>1.0</td>\n",
       "      <td>14.0</td>\n",
       "      <td>NaN</td>\n",
       "      <td>3.0</td>\n",
       "      <td>2023-09-30 15:21:39.221386</td>\n",
       "      <td>Good</td>\n",
       "      <td>Yes</td>\n",
       "      <td>Weekly</td>\n",
       "      <td>House</td>\n",
       "      <td>567.0</td>\n",
       "    </tr>\n",
       "    <tr>\n",
       "      <th>3</th>\n",
       "      <td>3</td>\n",
       "      <td>21.0</td>\n",
       "      <td>Male</td>\n",
       "      <td>141855.0</td>\n",
       "      <td>Married</td>\n",
       "      <td>2.0</td>\n",
       "      <td>Bachelor's</td>\n",
       "      <td>NaN</td>\n",
       "      <td>10.938144</td>\n",
       "      <td>Rural</td>\n",
       "      <td>...</td>\n",
       "      <td>1.0</td>\n",
       "      <td>0.0</td>\n",
       "      <td>367.0</td>\n",
       "      <td>1.0</td>\n",
       "      <td>2024-06-12 15:21:39.226954</td>\n",
       "      <td>Poor</td>\n",
       "      <td>Yes</td>\n",
       "      <td>Daily</td>\n",
       "      <td>Apartment</td>\n",
       "      <td>765.0</td>\n",
       "    </tr>\n",
       "    <tr>\n",
       "      <th>4</th>\n",
       "      <td>4</td>\n",
       "      <td>21.0</td>\n",
       "      <td>Male</td>\n",
       "      <td>39651.0</td>\n",
       "      <td>Single</td>\n",
       "      <td>1.0</td>\n",
       "      <td>Bachelor's</td>\n",
       "      <td>Self-Employed</td>\n",
       "      <td>20.376094</td>\n",
       "      <td>Rural</td>\n",
       "      <td>...</td>\n",
       "      <td>0.0</td>\n",
       "      <td>8.0</td>\n",
       "      <td>598.0</td>\n",
       "      <td>4.0</td>\n",
       "      <td>2021-12-01 15:21:39.252145</td>\n",
       "      <td>Poor</td>\n",
       "      <td>Yes</td>\n",
       "      <td>Weekly</td>\n",
       "      <td>House</td>\n",
       "      <td>2022.0</td>\n",
       "    </tr>\n",
       "  </tbody>\n",
       "</table>\n",
       "<p>5 rows × 21 columns</p>\n",
       "</div>"
      ],
      "text/plain": [
       "   id   Age  Gender  Annual Income Marital Status  Number of Dependents  \\\n",
       "0   0  19.0  Female        10049.0        Married                   1.0   \n",
       "1   1  39.0  Female        31678.0       Divorced                   3.0   \n",
       "2   2  23.0    Male        25602.0       Divorced                   3.0   \n",
       "3   3  21.0    Male       141855.0        Married                   2.0   \n",
       "4   4  21.0    Male        39651.0         Single                   1.0   \n",
       "\n",
       "  Education Level     Occupation  Health Score  Location  ... Previous Claims  \\\n",
       "0      Bachelor's  Self-Employed     22.598761     Urban  ...             2.0   \n",
       "1        Master's            NaN     15.569731     Rural  ...             1.0   \n",
       "2     High School  Self-Employed     47.177549  Suburban  ...             1.0   \n",
       "3      Bachelor's            NaN     10.938144     Rural  ...             1.0   \n",
       "4      Bachelor's  Self-Employed     20.376094     Rural  ...             0.0   \n",
       "\n",
       "   Vehicle Age  Credit Score  Insurance Duration           Policy Start Date  \\\n",
       "0         17.0         372.0                 5.0  2023-12-23 15:21:39.134960   \n",
       "1         12.0         694.0                 2.0  2023-06-12 15:21:39.111551   \n",
       "2         14.0           NaN                 3.0  2023-09-30 15:21:39.221386   \n",
       "3          0.0         367.0                 1.0  2024-06-12 15:21:39.226954   \n",
       "4          8.0         598.0                 4.0  2021-12-01 15:21:39.252145   \n",
       "\n",
       "  Customer Feedback Smoking Status Exercise Frequency Property Type  \\\n",
       "0              Poor             No             Weekly         House   \n",
       "1           Average            Yes            Monthly         House   \n",
       "2              Good            Yes             Weekly         House   \n",
       "3              Poor            Yes              Daily     Apartment   \n",
       "4              Poor            Yes             Weekly         House   \n",
       "\n",
       "  Premium Amount  \n",
       "0         2869.0  \n",
       "1         1483.0  \n",
       "2          567.0  \n",
       "3          765.0  \n",
       "4         2022.0  \n",
       "\n",
       "[5 rows x 21 columns]"
      ]
     },
     "execution_count": 4,
     "metadata": {},
     "output_type": "execute_result"
    }
   ],
   "source": [
    "train_data.head()"
   ]
  },
  {
   "cell_type": "code",
   "execution_count": 5,
   "id": "1051c983",
   "metadata": {
    "execution": {
     "iopub.execute_input": "2024-12-04T17:42:13.197987Z",
     "iopub.status.busy": "2024-12-04T17:42:13.197581Z",
     "iopub.status.idle": "2024-12-04T17:42:13.836237Z",
     "shell.execute_reply": "2024-12-04T17:42:13.835018Z"
    },
    "papermill": {
     "duration": 0.649307,
     "end_time": "2024-12-04T17:42:13.838591",
     "exception": false,
     "start_time": "2024-12-04T17:42:13.189284",
     "status": "completed"
    },
    "tags": []
   },
   "outputs": [
    {
     "data": {
      "text/plain": [
       "id                       0.000000\n",
       "Age                      1.558750\n",
       "Gender                   0.000000\n",
       "Annual Income            3.745750\n",
       "Marital Status           1.544083\n",
       "Number of Dependents     9.139333\n",
       "Education Level          0.000000\n",
       "Occupation              29.839583\n",
       "Health Score             6.173000\n",
       "Location                 0.000000\n",
       "Policy Type              0.000000\n",
       "Previous Claims         30.335750\n",
       "Vehicle Age              0.000500\n",
       "Credit Score            11.490167\n",
       "Insurance Duration       0.000083\n",
       "Policy Start Date        0.000000\n",
       "Customer Feedback        6.485333\n",
       "Smoking Status           0.000000\n",
       "Exercise Frequency       0.000000\n",
       "Property Type            0.000000\n",
       "Premium Amount           0.000000\n",
       "dtype: float64"
      ]
     },
     "execution_count": 5,
     "metadata": {},
     "output_type": "execute_result"
    }
   ],
   "source": [
    "train_data.isnull().sum()* 100 /len(train_data)"
   ]
  },
  {
   "cell_type": "code",
   "execution_count": 6,
   "id": "7b53bbaa",
   "metadata": {
    "execution": {
     "iopub.execute_input": "2024-12-04T17:42:13.855122Z",
     "iopub.status.busy": "2024-12-04T17:42:13.854736Z",
     "iopub.status.idle": "2024-12-04T17:42:14.287618Z",
     "shell.execute_reply": "2024-12-04T17:42:14.286188Z"
    },
    "papermill": {
     "duration": 0.445069,
     "end_time": "2024-12-04T17:42:14.290936",
     "exception": false,
     "start_time": "2024-12-04T17:42:13.845867",
     "status": "completed"
    },
    "tags": []
   },
   "outputs": [
    {
     "data": {
      "text/plain": [
       "id                       0.000000\n",
       "Age                      1.561125\n",
       "Gender                   0.000000\n",
       "Annual Income            3.732500\n",
       "Marital Status           1.542000\n",
       "Number of Dependents     9.141250\n",
       "Education Level          0.000000\n",
       "Occupation              29.890625\n",
       "Health Score             6.181125\n",
       "Location                 0.000000\n",
       "Policy Type              0.000000\n",
       "Previous Claims         30.350250\n",
       "Vehicle Age              0.000375\n",
       "Credit Score            11.431375\n",
       "Insurance Duration       0.000250\n",
       "Policy Start Date        0.000000\n",
       "Customer Feedback        6.534500\n",
       "Smoking Status           0.000000\n",
       "Exercise Frequency       0.000000\n",
       "Property Type            0.000000\n",
       "dtype: float64"
      ]
     },
     "execution_count": 6,
     "metadata": {},
     "output_type": "execute_result"
    }
   ],
   "source": [
    "test_data.isnull().sum() / len(test_data) * 100"
   ]
  },
  {
   "cell_type": "code",
   "execution_count": 7,
   "id": "0dbc579d",
   "metadata": {
    "execution": {
     "iopub.execute_input": "2024-12-04T17:42:14.313812Z",
     "iopub.status.busy": "2024-12-04T17:42:14.312803Z",
     "iopub.status.idle": "2024-12-04T17:42:14.317889Z",
     "shell.execute_reply": "2024-12-04T17:42:14.316904Z"
    },
    "papermill": {
     "duration": 0.020789,
     "end_time": "2024-12-04T17:42:14.320982",
     "exception": false,
     "start_time": "2024-12-04T17:42:14.300193",
     "status": "completed"
    },
    "tags": []
   },
   "outputs": [],
   "source": [
    "## EDA"
   ]
  },
  {
   "cell_type": "code",
   "execution_count": 8,
   "id": "e991c491",
   "metadata": {
    "execution": {
     "iopub.execute_input": "2024-12-04T17:42:14.349249Z",
     "iopub.status.busy": "2024-12-04T17:42:14.348060Z",
     "iopub.status.idle": "2024-12-04T17:42:14.645094Z",
     "shell.execute_reply": "2024-12-04T17:42:14.644059Z"
    },
    "papermill": {
     "duration": 0.312036,
     "end_time": "2024-12-04T17:42:14.647435",
     "exception": false,
     "start_time": "2024-12-04T17:42:14.335399",
     "status": "completed"
    },
    "tags": []
   },
   "outputs": [
    {
     "data": {
      "image/png": "[encoded data removed]",
      "text/plain": [
       "<Figure size 640x480 with 1 Axes>"
      ]
     },
     "metadata": {},
     "output_type": "display_data"
    }
   ],
   "source": [
    "plt.hist(train_data['Annual Income'], bins = 5)\n",
    "plt.show()"
   ]
  },
  {
   "cell_type": "code",
   "execution_count": 9,
   "id": "d0a75607",
   "metadata": {
    "execution": {
     "iopub.execute_input": "2024-12-04T17:42:14.665129Z",
     "iopub.status.busy": "2024-12-04T17:42:14.664138Z",
     "iopub.status.idle": "2024-12-04T17:42:17.404922Z",
     "shell.execute_reply": "2024-12-04T17:42:17.403804Z"
    },
    "papermill": {
     "duration": 2.752043,
     "end_time": "2024-12-04T17:42:17.407256",
     "exception": false,
     "start_time": "2024-12-04T17:42:14.655213",
     "status": "completed"
    },
    "tags": []
   },
   "outputs": [
    {
     "data": {
      "image/png": "[encoded data removed]",
      "text/plain": [
       "<Figure size 640x480 with 1 Axes>"
      ]
     },
     "metadata": {},
     "output_type": "display_data"
    }
   ],
   "source": [
    "plt.scatter(train_data['Premium Amount'], train_data['Annual Income'])\n",
    "plt.show()"
   ]
  },
  {
   "cell_type": "code",
   "execution_count": 10,
   "id": "24317125",
   "metadata": {
    "execution": {
     "iopub.execute_input": "2024-12-04T17:42:17.425198Z",
     "iopub.status.busy": "2024-12-04T17:42:17.424790Z",
     "iopub.status.idle": "2024-12-04T17:42:37.976559Z",
     "shell.execute_reply": "2024-12-04T17:42:37.975156Z"
    },
    "papermill": {
     "duration": 20.565315,
     "end_time": "2024-12-04T17:42:37.980912",
     "exception": false,
     "start_time": "2024-12-04T17:42:17.415597",
     "status": "completed"
    },
    "tags": []
   },
   "outputs": [
    {
     "data": {
      "image/png": "[encoded data removed]",
      "text/plain": [
       "<Figure size 640x480 with 1 Axes>"
      ]
     },
     "metadata": {},
     "output_type": "display_data"
    }
   ],
   "source": [
    "sns.barplot(data = train_data, x = 'Gender', y= 'Annual Income')\n",
    "plt.show()"
   ]
  },
  {
   "cell_type": "code",
   "execution_count": 11,
   "id": "67974979",
   "metadata": {
    "execution": {
     "iopub.execute_input": "2024-12-04T17:42:38.017540Z",
     "iopub.status.busy": "2024-12-04T17:42:38.017036Z",
     "iopub.status.idle": "2024-12-04T17:42:39.588870Z",
     "shell.execute_reply": "2024-12-04T17:42:39.587741Z"
    },
    "papermill": {
     "duration": 1.585601,
     "end_time": "2024-12-04T17:42:39.590993",
     "exception": false,
     "start_time": "2024-12-04T17:42:38.005392",
     "status": "completed"
    },
    "tags": []
   },
   "outputs": [
    {
     "data": {
      "image/png": "[encoded data removed]",
      "text/plain": [
       "<Figure size 640x480 with 1 Axes>"
      ]
     },
     "metadata": {},
     "output_type": "display_data"
    }
   ],
   "source": [
    "sns.countplot(data=train_data, x='Gender', hue='Marital Status')\n",
    "plt.title(\"Count of Gender with Marital Status\")\n",
    "plt.show()"
   ]
  },
  {
   "cell_type": "code",
   "execution_count": 12,
   "id": "a62f69b9",
   "metadata": {
    "execution": {
     "iopub.execute_input": "2024-12-04T17:42:39.610657Z",
     "iopub.status.busy": "2024-12-04T17:42:39.610294Z",
     "iopub.status.idle": "2024-12-04T17:42:39.827880Z",
     "shell.execute_reply": "2024-12-04T17:42:39.826807Z"
    },
    "papermill": {
     "duration": 0.230134,
     "end_time": "2024-12-04T17:42:39.830157",
     "exception": false,
     "start_time": "2024-12-04T17:42:39.600023",
     "status": "completed"
    },
    "tags": []
   },
   "outputs": [
    {
     "data": {
      "image/png": "[encoded data removed]",
      "text/plain": [
       "<Figure size 640x480 with 1 Axes>"
      ]
     },
     "metadata": {},
     "output_type": "display_data"
    }
   ],
   "source": [
    "sns.boxplot(data = train_data, x= 'Age')\n",
    "plt.show()"
   ]
  },
  {
   "cell_type": "code",
   "execution_count": 13,
   "id": "ff9fec24",
   "metadata": {
    "execution": {
     "iopub.execute_input": "2024-12-04T17:42:39.849849Z",
     "iopub.status.busy": "2024-12-04T17:42:39.849447Z",
     "iopub.status.idle": "2024-12-04T17:42:47.866092Z",
     "shell.execute_reply": "2024-12-04T17:42:47.864972Z"
    },
    "papermill": {
     "duration": 8.028958,
     "end_time": "2024-12-04T17:42:47.868329",
     "exception": false,
     "start_time": "2024-12-04T17:42:39.839371",
     "status": "completed"
    },
    "tags": []
   },
   "outputs": [
    {
     "name": "stderr",
     "output_type": "stream",
     "text": [
      "/opt/conda/lib/python3.10/site-packages/seaborn/_oldcore.py:1119: FutureWarning: use_inf_as_na option is deprecated and will be removed in a future version. Convert inf values to NaN before operating instead.\n",
      "  with pd.option_context('mode.use_inf_as_na', True):\n",
      "/opt/conda/lib/python3.10/site-packages/seaborn/_oldcore.py:1119: FutureWarning: use_inf_as_na option is deprecated and will be removed in a future version. Convert inf values to NaN before operating instead.\n",
      "  with pd.option_context('mode.use_inf_as_na', True):\n",
      "/opt/conda/lib/python3.10/site-packages/seaborn/_oldcore.py:1075: FutureWarning: When grouping with a length-1 list-like, you will need to pass a length-1 tuple to get_group in a future version of pandas. Pass `(name,)` instead of `name` to silence this warning.\n",
      "  data_subset = grouped_data.get_group(pd_key)\n",
      "/opt/conda/lib/python3.10/site-packages/seaborn/_oldcore.py:1075: FutureWarning: When grouping with a length-1 list-like, you will need to pass a length-1 tuple to get_group in a future version of pandas. Pass `(name,)` instead of `name` to silence this warning.\n",
      "  data_subset = grouped_data.get_group(pd_key)\n"
     ]
    },
    {
     "data": {
      "image/png": "[encoded data removed]",
      "text/plain": [
       "<Figure size 640x480 with 1 Axes>"
      ]
     },
     "metadata": {},
     "output_type": "display_data"
    }
   ],
   "source": [
    "sns.lineplot(data = train_data, x = 'Occupation', y = 'Number of Dependents', hue = 'Gender')\n",
    "plt.show()"
   ]
  },
  {
   "cell_type": "code",
   "execution_count": 14,
   "id": "7d9435e7",
   "metadata": {
    "execution": {
     "iopub.execute_input": "2024-12-04T17:42:47.890988Z",
     "iopub.status.busy": "2024-12-04T17:42:47.890174Z",
     "iopub.status.idle": "2024-12-04T17:42:48.318405Z",
     "shell.execute_reply": "2024-12-04T17:42:48.317339Z"
    },
    "papermill": {
     "duration": 0.441901,
     "end_time": "2024-12-04T17:42:48.320747",
     "exception": false,
     "start_time": "2024-12-04T17:42:47.878846",
     "status": "completed"
    },
    "tags": []
   },
   "outputs": [
    {
     "data": {
      "text/plain": [
       "id                           0\n",
       "Age                      12489\n",
       "Gender                       0\n",
       "Annual Income            29860\n",
       "Marital Status           12336\n",
       "Number of Dependents     73130\n",
       "Education Level              0\n",
       "Occupation              239125\n",
       "Health Score             49449\n",
       "Location                     0\n",
       "Policy Type                  0\n",
       "Previous Claims         242802\n",
       "Vehicle Age                  3\n",
       "Credit Score             91451\n",
       "Insurance Duration           2\n",
       "Policy Start Date            0\n",
       "Customer Feedback        52276\n",
       "Smoking Status               0\n",
       "Exercise Frequency           0\n",
       "Property Type                0\n",
       "dtype: int64"
      ]
     },
     "execution_count": 14,
     "metadata": {},
     "output_type": "execute_result"
    }
   ],
   "source": [
    "test_data.isnull().sum()"
   ]
  },
  {
   "cell_type": "code",
   "execution_count": 15,
   "id": "a8296721",
   "metadata": {
    "execution": {
     "iopub.execute_input": "2024-12-04T17:42:48.343356Z",
     "iopub.status.busy": "2024-12-04T17:42:48.342918Z",
     "iopub.status.idle": "2024-12-04T17:42:48.613254Z",
     "shell.execute_reply": "2024-12-04T17:42:48.612024Z"
    },
    "papermill": {
     "duration": 0.284802,
     "end_time": "2024-12-04T17:42:48.616036",
     "exception": false,
     "start_time": "2024-12-04T17:42:48.331234",
     "status": "completed"
    },
    "tags": []
   },
   "outputs": [],
   "source": [
    "train_data.loc[(train_data['Education Level'] == 'High School') & (train_data['Occupation'].isna()), 'Occupation'] = 'Unemployed'\n",
    "test_data.loc[(test_data['Education Level'] == 'High School') & (test_data['Occupation'].isna()), 'Occupation'] = 'Unemployed'"
   ]
  },
  {
   "cell_type": "code",
   "execution_count": 16,
   "id": "0a70dcbd",
   "metadata": {
    "execution": {
     "iopub.execute_input": "2024-12-04T17:42:48.638467Z",
     "iopub.status.busy": "2024-12-04T17:42:48.637523Z",
     "iopub.status.idle": "2024-12-04T17:42:48.758364Z",
     "shell.execute_reply": "2024-12-04T17:42:48.757233Z"
    },
    "papermill": {
     "duration": 0.134608,
     "end_time": "2024-12-04T17:42:48.760958",
     "exception": false,
     "start_time": "2024-12-04T17:42:48.626350",
     "status": "completed"
    },
    "tags": []
   },
   "outputs": [],
   "source": [
    "train_data.loc[((train_data['Age'] > 50) | (train_data['Age'] < 21)) & train_data['Occupation'].isna(), 'Occupation'] = 'Unemployed'\n",
    "test_data.loc[((test_data['Age'] > 50) | (test_data['Age'] < 21)) & test_data['Occupation'].isna(), 'Occupation'] = 'Unemployed'"
   ]
  },
  {
   "cell_type": "code",
   "execution_count": 17,
   "id": "5449a5e9",
   "metadata": {
    "execution": {
     "iopub.execute_input": "2024-12-04T17:42:48.783131Z",
     "iopub.status.busy": "2024-12-04T17:42:48.782727Z",
     "iopub.status.idle": "2024-12-04T17:42:48.921645Z",
     "shell.execute_reply": "2024-12-04T17:42:48.920576Z"
    },
    "papermill": {
     "duration": 0.15299,
     "end_time": "2024-12-04T17:42:48.924181",
     "exception": false,
     "start_time": "2024-12-04T17:42:48.771191",
     "status": "completed"
    },
    "tags": []
   },
   "outputs": [],
   "source": [
    "train_data['Occupation'] = train_data['Occupation'].fillna('Unemployed')\n",
    "test_data['Occupation'] = test_data['Occupation'].fillna('Unemployed')"
   ]
  },
  {
   "cell_type": "code",
   "execution_count": 18,
   "id": "6d8c5c84",
   "metadata": {
    "execution": {
     "iopub.execute_input": "2024-12-04T17:42:48.946874Z",
     "iopub.status.busy": "2024-12-04T17:42:48.946464Z",
     "iopub.status.idle": "2024-12-04T17:42:49.129222Z",
     "shell.execute_reply": "2024-12-04T17:42:49.128118Z"
    },
    "papermill": {
     "duration": 0.19708,
     "end_time": "2024-12-04T17:42:49.131829",
     "exception": false,
     "start_time": "2024-12-04T17:42:48.934749",
     "status": "completed"
    },
    "tags": []
   },
   "outputs": [],
   "source": [
    "train_data.loc[(train_data['Previous Claims'].isnull()) & (train_data['Occupation'] == 'Unemployed'), 'Previous Claims'] = 0.0\n",
    "test_data.loc[(test_data['Previous Claims'].isnull()) & (test_data['Occupation'] == 'Unemployed'), 'Previous Claims'] = 0.0"
   ]
  },
  {
   "cell_type": "code",
   "execution_count": 19,
   "id": "d808609f",
   "metadata": {
    "execution": {
     "iopub.execute_input": "2024-12-04T17:42:49.159844Z",
     "iopub.status.busy": "2024-12-04T17:42:49.159455Z",
     "iopub.status.idle": "2024-12-04T17:42:49.175499Z",
     "shell.execute_reply": "2024-12-04T17:42:49.174544Z"
    },
    "papermill": {
     "duration": 0.029851,
     "end_time": "2024-12-04T17:42:49.177869",
     "exception": false,
     "start_time": "2024-12-04T17:42:49.148018",
     "status": "completed"
    },
    "tags": []
   },
   "outputs": [],
   "source": [
    "train_data.loc[(train_data['Previous Claims'].isnull()) & (train_data['Annual Income'] > 50000), 'Previous Claims'] = 0.0\n",
    "test_data.loc[(test_data['Previous Claims'].isnull()) & (test_data['Annual Income'] > 50000), 'Previous Claims'] = 0.0"
   ]
  },
  {
   "cell_type": "code",
   "execution_count": 20,
   "id": "e734eacf",
   "metadata": {
    "execution": {
     "iopub.execute_input": "2024-12-04T17:42:49.200066Z",
     "iopub.status.busy": "2024-12-04T17:42:49.199351Z",
     "iopub.status.idle": "2024-12-04T17:42:49.370417Z",
     "shell.execute_reply": "2024-12-04T17:42:49.369311Z"
    },
    "papermill": {
     "duration": 0.184799,
     "end_time": "2024-12-04T17:42:49.372942",
     "exception": false,
     "start_time": "2024-12-04T17:42:49.188143",
     "status": "completed"
    },
    "tags": []
   },
   "outputs": [],
   "source": [
    "train_data.loc[(train_data['Previous Claims'].isnull()) & (train_data['Education Level'] ==  'High School'), 'Previous Claims'] = 0.0\n",
    "test_data.loc[(test_data['Previous Claims'].isnull()) & (test_data['Education Level'] ==  'High School'), 'Previous Claims'] = 0.0"
   ]
  },
  {
   "cell_type": "code",
   "execution_count": 21,
   "id": "e5e0c5bb",
   "metadata": {
    "execution": {
     "iopub.execute_input": "2024-12-04T17:42:49.394895Z",
     "iopub.status.busy": "2024-12-04T17:42:49.394504Z",
     "iopub.status.idle": "2024-12-04T17:42:49.411738Z",
     "shell.execute_reply": "2024-12-04T17:42:49.410831Z"
    },
    "papermill": {
     "duration": 0.030876,
     "end_time": "2024-12-04T17:42:49.414011",
     "exception": false,
     "start_time": "2024-12-04T17:42:49.383135",
     "status": "completed"
    },
    "tags": []
   },
   "outputs": [],
   "source": [
    "train_data['Previous Claims'] = train_data['Previous Claims'].fillna(np.random.randint(0.0, 9.0))\n",
    "test_data['Previous Claims'] = test_data['Previous Claims'].fillna(np.random.randint(0.0, 9.0))"
   ]
  },
  {
   "cell_type": "code",
   "execution_count": 22,
   "id": "8db64a27",
   "metadata": {
    "execution": {
     "iopub.execute_input": "2024-12-04T17:42:49.436068Z",
     "iopub.status.busy": "2024-12-04T17:42:49.435667Z",
     "iopub.status.idle": "2024-12-04T17:42:49.607399Z",
     "shell.execute_reply": "2024-12-04T17:42:49.606329Z"
    },
    "papermill": {
     "duration": 0.185464,
     "end_time": "2024-12-04T17:42:49.609638",
     "exception": false,
     "start_time": "2024-12-04T17:42:49.424174",
     "status": "completed"
    },
    "tags": []
   },
   "outputs": [],
   "source": [
    "train_data.loc[(train_data['Number of Dependents'].isnull()) & (train_data['Marital Status'] == 'Single'),'Number of Dependents']= 0.0\n",
    "test_data.loc[(test_data['Number of Dependents'].isnull()) & (test_data['Marital Status'] == 'Single'),'Number of Dependents']= 0.0"
   ]
  },
  {
   "cell_type": "code",
   "execution_count": 23,
   "id": "853c172c",
   "metadata": {
    "execution": {
     "iopub.execute_input": "2024-12-04T17:42:49.631981Z",
     "iopub.status.busy": "2024-12-04T17:42:49.631579Z",
     "iopub.status.idle": "2024-12-04T17:42:51.355306Z",
     "shell.execute_reply": "2024-12-04T17:42:51.354194Z"
    },
    "papermill": {
     "duration": 1.737752,
     "end_time": "2024-12-04T17:42:51.357787",
     "exception": false,
     "start_time": "2024-12-04T17:42:49.620035",
     "status": "completed"
    },
    "tags": []
   },
   "outputs": [],
   "source": [
    "train_data['Number of Dependents'] = train_data['Number of Dependents'].apply(lambda x: np.random.uniform(0.0, 5.0) if pd.isna(x) else x\n",
    ")\n",
    "\n",
    "test_data['Number of Dependents'] = test_data['Number of Dependents'].apply(lambda x: np.random.uniform(0.0, 5.0) if pd.isna(x) else x\n",
    ")"
   ]
  },
  {
   "cell_type": "code",
   "execution_count": 24,
   "id": "4dcedb06",
   "metadata": {
    "execution": {
     "iopub.execute_input": "2024-12-04T17:42:51.379779Z",
     "iopub.status.busy": "2024-12-04T17:42:51.379403Z",
     "iopub.status.idle": "2024-12-04T17:42:51.406084Z",
     "shell.execute_reply": "2024-12-04T17:42:51.405141Z"
    },
    "papermill": {
     "duration": 0.040473,
     "end_time": "2024-12-04T17:42:51.408536",
     "exception": false,
     "start_time": "2024-12-04T17:42:51.368063",
     "status": "completed"
    },
    "tags": []
   },
   "outputs": [],
   "source": [
    "train_data['Annual Income'] = train_data['Annual Income'].fillna(np.mean(train_data['Annual Income']))\n",
    "\n",
    "test_data['Annual Income'] = test_data['Annual Income'].fillna(np.mean(test_data['Annual Income']))"
   ]
  },
  {
   "cell_type": "code",
   "execution_count": 25,
   "id": "77317739",
   "metadata": {
    "execution": {
     "iopub.execute_input": "2024-12-04T17:42:51.430772Z",
     "iopub.status.busy": "2024-12-04T17:42:51.430353Z",
     "iopub.status.idle": "2024-12-04T17:42:51.435520Z",
     "shell.execute_reply": "2024-12-04T17:42:51.434487Z"
    },
    "papermill": {
     "duration": 0.0186,
     "end_time": "2024-12-04T17:42:51.437567",
     "exception": false,
     "start_time": "2024-12-04T17:42:51.418967",
     "status": "completed"
    },
    "tags": []
   },
   "outputs": [],
   "source": [
    "total_feedback = 377905 + 375518 + 368753\n",
    "\n",
    "probabilities = {\n",
    "    'Average': 377905 / total_feedback,\n",
    "    'Poor': 375518 / total_feedback,\n",
    "    'Good': 368753 / total_feedback\n",
    "}"
   ]
  },
  {
   "cell_type": "code",
   "execution_count": 26,
   "id": "08fe6679",
   "metadata": {
    "execution": {
     "iopub.execute_input": "2024-12-04T17:42:51.459937Z",
     "iopub.status.busy": "2024-12-04T17:42:51.459511Z",
     "iopub.status.idle": "2024-12-04T17:42:53.770467Z",
     "shell.execute_reply": "2024-12-04T17:42:53.769654Z"
    },
    "papermill": {
     "duration": 2.32476,
     "end_time": "2024-12-04T17:42:53.772864",
     "exception": false,
     "start_time": "2024-12-04T17:42:51.448104",
     "status": "completed"
    },
    "tags": []
   },
   "outputs": [],
   "source": [
    "train_data['Customer Feedback'] = train_data['Customer Feedback'].apply(\n",
    "    lambda x: np.random.choice(['Average', 'Poor', 'Good'], p=[probabilities['Average'], probabilities['Poor'], probabilities['Good']]) \n",
    "    if pd.isna(x) else x\n",
    ")"
   ]
  },
  {
   "cell_type": "code",
   "execution_count": 27,
   "id": "ac096687",
   "metadata": {
    "execution": {
     "iopub.execute_input": "2024-12-04T17:42:53.794755Z",
     "iopub.status.busy": "2024-12-04T17:42:53.794376Z",
     "iopub.status.idle": "2024-12-04T17:42:53.799195Z",
     "shell.execute_reply": "2024-12-04T17:42:53.798295Z"
    },
    "papermill": {
     "duration": 0.017987,
     "end_time": "2024-12-04T17:42:53.801117",
     "exception": false,
     "start_time": "2024-12-04T17:42:53.783130",
     "status": "completed"
    },
    "tags": []
   },
   "outputs": [],
   "source": [
    "feedback_count = 251217 + 250434 + 246073\n",
    "prop = probabilities = {\n",
    "    'Average': 251217 / feedback_count,\n",
    "    'Poor': 250434 / feedback_count,\n",
    "    'Good': 246073 / feedback_count\n",
    "}"
   ]
  },
  {
   "cell_type": "code",
   "execution_count": 28,
   "id": "43889971",
   "metadata": {
    "execution": {
     "iopub.execute_input": "2024-12-04T17:42:53.822778Z",
     "iopub.status.busy": "2024-12-04T17:42:53.822391Z",
     "iopub.status.idle": "2024-12-04T17:42:55.359031Z",
     "shell.execute_reply": "2024-12-04T17:42:55.358157Z"
    },
    "papermill": {
     "duration": 1.550364,
     "end_time": "2024-12-04T17:42:55.361575",
     "exception": false,
     "start_time": "2024-12-04T17:42:53.811211",
     "status": "completed"
    },
    "tags": []
   },
   "outputs": [],
   "source": [
    "test_data['Customer Feedback'] = test_data['Customer Feedback'].apply(\n",
    "    lambda x: np.random.choice(['Average', 'Poor', 'Good'], p=[probabilities['Average'], probabilities['Poor'], probabilities['Good']]) \n",
    "    if pd.isna(x) else x\n",
    ")"
   ]
  },
  {
   "cell_type": "code",
   "execution_count": 29,
   "id": "6c9e7de8",
   "metadata": {
    "execution": {
     "iopub.execute_input": "2024-12-04T17:42:55.383545Z",
     "iopub.status.busy": "2024-12-04T17:42:55.383142Z",
     "iopub.status.idle": "2024-12-04T17:42:55.412106Z",
     "shell.execute_reply": "2024-12-04T17:42:55.411163Z"
    },
    "papermill": {
     "duration": 0.042598,
     "end_time": "2024-12-04T17:42:55.414535",
     "exception": false,
     "start_time": "2024-12-04T17:42:55.371937",
     "status": "completed"
    },
    "tags": []
   },
   "outputs": [],
   "source": [
    "train_data['Credit Score'] = train_data['Credit Score'].fillna(train_data['Credit Score'].mean()) \n",
    "\n",
    "test_data['Credit Score'] = test_data['Credit Score'].fillna(test_data['Credit Score'].mean()) "
   ]
  },
  {
   "cell_type": "code",
   "execution_count": 30,
   "id": "2349ed8c",
   "metadata": {
    "execution": {
     "iopub.execute_input": "2024-12-04T17:42:55.436453Z",
     "iopub.status.busy": "2024-12-04T17:42:55.436048Z",
     "iopub.status.idle": "2024-12-04T17:42:56.485414Z",
     "shell.execute_reply": "2024-12-04T17:42:56.484496Z"
    },
    "papermill": {
     "duration": 1.062989,
     "end_time": "2024-12-04T17:42:56.487780",
     "exception": false,
     "start_time": "2024-12-04T17:42:55.424791",
     "status": "completed"
    },
    "tags": []
   },
   "outputs": [],
   "source": [
    "min_val = train_data['Health Score'].min()\n",
    "max_val = train_data['Health Score'].max()\n",
    "train_data['Health Score'] = train_data['Health Score'].apply(lambda x: np.random.uniform(min_val, max_val) if pd.isnull(x) else x)"
   ]
  },
  {
   "cell_type": "code",
   "execution_count": 31,
   "id": "99ce149a",
   "metadata": {
    "execution": {
     "iopub.execute_input": "2024-12-04T17:42:56.510035Z",
     "iopub.status.busy": "2024-12-04T17:42:56.509648Z",
     "iopub.status.idle": "2024-12-04T17:42:57.209412Z",
     "shell.execute_reply": "2024-12-04T17:42:57.208507Z"
    },
    "papermill": {
     "duration": 0.713116,
     "end_time": "2024-12-04T17:42:57.211725",
     "exception": false,
     "start_time": "2024-12-04T17:42:56.498609",
     "status": "completed"
    },
    "tags": []
   },
   "outputs": [],
   "source": [
    "min_val_test = test_data['Health Score'].min()\n",
    "max_val_test = test_data['Health Score'].max()\n",
    "test_data['Health Score'] = test_data['Health Score'].apply(lambda x: np.random.uniform(min_val_test, max_val_test) if pd.isnull(x) else x)"
   ]
  },
  {
   "cell_type": "code",
   "execution_count": 32,
   "id": "435630c4",
   "metadata": {
    "execution": {
     "iopub.execute_input": "2024-12-04T17:42:57.233446Z",
     "iopub.status.busy": "2024-12-04T17:42:57.233006Z",
     "iopub.status.idle": "2024-12-04T17:42:58.705141Z",
     "shell.execute_reply": "2024-12-04T17:42:58.704118Z"
    },
    "papermill": {
     "duration": 1.485787,
     "end_time": "2024-12-04T17:42:58.707614",
     "exception": false,
     "start_time": "2024-12-04T17:42:57.221827",
     "status": "completed"
    },
    "tags": []
   },
   "outputs": [],
   "source": [
    " train_data['Age'] = train_data['Age'].apply(lambda x: np.random.uniform(18.0, 64.0) if pd.isnull(x) else x)\n",
    "\n",
    " test_data['Age'] = test_data['Age'].apply(lambda x: np.random.uniform(18.0, 64.0) if pd.isnull(x) else x)"
   ]
  },
  {
   "cell_type": "code",
   "execution_count": 33,
   "id": "565ed108",
   "metadata": {
    "execution": {
     "iopub.execute_input": "2024-12-04T17:42:58.729435Z",
     "iopub.status.busy": "2024-12-04T17:42:58.729026Z",
     "iopub.status.idle": "2024-12-04T17:42:58.863859Z",
     "shell.execute_reply": "2024-12-04T17:42:58.862925Z"
    },
    "papermill": {
     "duration": 0.148346,
     "end_time": "2024-12-04T17:42:58.866317",
     "exception": false,
     "start_time": "2024-12-04T17:42:58.717971",
     "status": "completed"
    },
    "tags": []
   },
   "outputs": [],
   "source": [
    "train_data['Marital Status'] = train_data['Marital Status'].fillna('Single')\n",
    "\n",
    "test_data['Marital Status'] = test_data['Marital Status'].fillna('Single')"
   ]
  },
  {
   "cell_type": "code",
   "execution_count": 34,
   "id": "072143a1",
   "metadata": {
    "execution": {
     "iopub.execute_input": "2024-12-04T17:42:58.888849Z",
     "iopub.status.busy": "2024-12-04T17:42:58.888447Z",
     "iopub.status.idle": "2024-12-04T17:42:58.906966Z",
     "shell.execute_reply": "2024-12-04T17:42:58.906108Z"
    },
    "papermill": {
     "duration": 0.032332,
     "end_time": "2024-12-04T17:42:58.909304",
     "exception": false,
     "start_time": "2024-12-04T17:42:58.876972",
     "status": "completed"
    },
    "tags": []
   },
   "outputs": [],
   "source": [
    " train_data['Insurance Duration'] = train_data['Insurance Duration'].fillna(0)\n",
    "test_data['Insurance Duration'] = test_data['Insurance Duration'].fillna(0)"
   ]
  },
  {
   "cell_type": "code",
   "execution_count": 35,
   "id": "291bda54",
   "metadata": {
    "execution": {
     "iopub.execute_input": "2024-12-04T17:42:58.931742Z",
     "iopub.status.busy": "2024-12-04T17:42:58.931354Z",
     "iopub.status.idle": "2024-12-04T17:42:59.563856Z",
     "shell.execute_reply": "2024-12-04T17:42:59.562836Z"
    },
    "papermill": {
     "duration": 0.646193,
     "end_time": "2024-12-04T17:42:59.566340",
     "exception": false,
     "start_time": "2024-12-04T17:42:58.920147",
     "status": "completed"
    },
    "tags": []
   },
   "outputs": [],
   "source": [
    " test_data['Vehicle Age'] = test_data['Vehicle Age'].apply(lambda x: np.random.uniform(0.0, 11.0) if pd.isnull(x) else x)"
   ]
  }
 ],
 "metadata": {
  "kaggle": {
   "accelerator": "none",
   "dataSources": [
    {
     "databundleVersionId": 10305135,
     "sourceId": 84896,
     "sourceType": "competition"
    }
   ],
   "dockerImageVersionId": 30786,
   "isGpuEnabled": false,
   "isInternetEnabled": true,
   "language": "python",
   "sourceType": "notebook"
  },
  "kernelspec": {
   "display_name": "Python 3",
   "language": "python",
   "name": "python3"
  },
  "language_info": {
   "codemirror_mode": {
    "name": "ipython",
    "version": 3
   },
   "file_extension": ".py",
   "mimetype": "text/x-python",
   "name": "python",
   "nbconvert_exporter": "python",
   "pygments_lexer": "ipython3",
   "version": "3.10.14"
  },
  "papermill": {
   "default_parameters": {},
   "duration": 63.583873,
   "end_time": "2024-12-04T17:43:00.399247",
   "environment_variables": {},
   "exception": null,
   "input_path": "__notebook__.ipynb",
   "output_path": "__notebook__.ipynb",
   "parameters": {},
   "start_time": "2024-12-04T17:41:56.815374",
   "version": "2.6.0"
  }
 },
 "nbformat": 4,
 "nbformat_minor": 5
}
