{
 "cells": [
  {
   "cell_type": "code",
   "execution_count": 1,
   "id": "f74ff071",
   "metadata": {
    "_cell_guid": "b1076dfc-b9ad-4769-8c92-a6c4dae69d19",
    "_uuid": "8f2839f25d086af736a60e9eeb907d3b93b6e0e5",
    "execution": {
     "iopub.execute_input": "2024-12-09T16:07:22.856192Z",
     "iopub.status.busy": "2024-12-09T16:07:22.855112Z",
     "iopub.status.idle": "2024-12-09T16:07:23.771448Z",
     "shell.execute_reply": "2024-12-09T16:07:23.770332Z"
    },
    "papermill": {
     "duration": 0.932535,
     "end_time": "2024-12-09T16:07:23.773901",
     "exception": false,
     "start_time": "2024-12-09T16:07:22.841366",
     "status": "completed"
    },
    "tags": []
   },
   "outputs": [
    {
     "name": "stdout",
     "output_type": "stream",
     "text": [
      "/kaggle/input/playground-series-s4e12/sample_submission.csv\n",
      "/kaggle/input/playground-series-s4e12/train.csv\n",
      "/kaggle/input/playground-series-s4e12/test.csv\n"
     ]
    }
   ],
   "source": [
    "# This Python 3 environment comes with many helpful analytics libraries installed\n",
    "# It is defined by the kaggle/python Docker image: https://github.com/kaggle/docker-python\n",
    "# For example, here's several helpful packages to load\n",
    "\n",
    "import numpy as np # linear algebra\n",
    "import pandas as pd # data processing, CSV file I/O (e.g. pd.read_csv)\n",
    "\n",
    "# Input data files are available in the read-only \"../input/\" directory\n",
    "# For example, running this (by clicking run or pressing Shift+Enter) will list all files under the input directory\n",
    "\n",
    "import os\n",
    "for dirname, _, filenames in os.walk('/kaggle/input'):\n",
    "    for filename in filenames:\n",
    "        print(os.path.join(dirname, filename))\n",
    "\n",
    "# You can write up to 20GB to the current directory (/kaggle/working/) that gets preserved as output when you create a version using \"Save & Run All\" \n",
    "# You can also write temporary files to /kaggle/temp/, but they won't be saved outside of the current session"
   ]
  },
  {
   "cell_type": "code",
   "execution_count": 2,
   "id": "75e5ce35",
   "metadata": {
    "execution": {
     "iopub.execute_input": "2024-12-09T16:07:23.799531Z",
     "iopub.status.busy": "2024-12-09T16:07:23.798484Z",
     "iopub.status.idle": "2024-12-09T16:07:26.475929Z",
     "shell.execute_reply": "2024-12-09T16:07:26.474586Z"
    },
    "papermill": {
     "duration": 2.693228,
     "end_time": "2024-12-09T16:07:26.478356",
     "exception": false,
     "start_time": "2024-12-09T16:07:23.785128",
     "status": "completed"
    },
    "tags": []
   },
   "outputs": [],
   "source": [
    "import matplotlib.pyplot as plt\n",
    "import seaborn as sns\n",
    "from sklearn.preprocessing import MinMaxScaler, OneHotEncoder, LabelEncoder\n",
    "from sklearn.model_selection import train_test_split\n",
    "from sklearn.linear_model import LinearRegression\n",
    "from sklearn.tree import DecisionTreeRegressor\n",
    "from sklearn.ensemble import RandomForestRegressor, GradientBoostingRegressor\n",
    "from catboost import CatBoostRegressor\n",
    "from sklearn.metrics import mean_squared_error"
   ]
  },
  {
   "cell_type": "code",
   "execution_count": 3,
   "id": "15d969a2",
   "metadata": {
    "execution": {
     "iopub.execute_input": "2024-12-09T16:07:26.501723Z",
     "iopub.status.busy": "2024-12-09T16:07:26.501058Z",
     "iopub.status.idle": "2024-12-09T16:07:37.433373Z",
     "shell.execute_reply": "2024-12-09T16:07:37.432138Z"
    },
    "papermill": {
     "duration": 10.946833,
     "end_time": "2024-12-09T16:07:37.436038",
     "exception": false,
     "start_time": "2024-12-09T16:07:26.489205",
     "status": "completed"
    },
    "tags": []
   },
   "outputs": [],
   "source": [
    "train_data = pd.read_csv(\"/kaggle/input/playground-series-s4e12/train.csv\")\n",
    "\n",
    "test_data = pd.read_csv(\"/kaggle/input/playground-series-s4e12/test.csv\")"
   ]
  },
  {
   "cell_type": "code",
   "execution_count": 4,
   "id": "c9f54677",
   "metadata": {
    "execution": {
     "iopub.execute_input": "2024-12-09T16:07:37.458877Z",
     "iopub.status.busy": "2024-12-09T16:07:37.458433Z",
     "iopub.status.idle": "2024-12-09T16:07:37.498346Z",
     "shell.execute_reply": "2024-12-09T16:07:37.497238Z"
    },
    "papermill": {
     "duration": 0.05391,
     "end_time": "2024-12-09T16:07:37.500650",
     "exception": false,
     "start_time": "2024-12-09T16:07:37.446740",
     "status": "completed"
    },
    "tags": []
   },
   "outputs": [
    {
     "data": {
      "text/html": [
       "<div>\n",
       "<style scoped>\n",
       "    .dataframe tbody tr th:only-of-type {\n",
       "        vertical-align: middle;\n",
       "    }\n",
       "\n",
       "    .dataframe tbody tr th {\n",
       "        vertical-align: top;\n",
       "    }\n",
       "\n",
       "    .dataframe thead th {\n",
       "        text-align: right;\n",
       "    }\n",
       "</style>\n",
       "<table border=\"1\" class=\"dataframe\">\n",
       "  <thead>\n",
       "    <tr style=\"text-align: right;\">\n",
       "      <th></th>\n",
       "      <th>id</th>\n",
       "      <th>Age</th>\n",
       "      <th>Gender</th>\n",
       "      <th>Annual Income</th>\n",
       "      <th>Marital Status</th>\n",
       "      <th>Number of Dependents</th>\n",
       "      <th>Education Level</th>\n",
       "      <th>Occupation</th>\n",
       "      <th>Health Score</th>\n",
       "      <th>Location</th>\n",
       "      <th>...</th>\n",
       "      <th>Previous Claims</th>\n",
       "      <th>Vehicle Age</th>\n",
       "      <th>Credit Score</th>\n",
       "      <th>Insurance Duration</th>\n",
       "      <th>Policy Start Date</th>\n",
       "      <th>Customer Feedback</th>\n",
       "      <th>Smoking Status</th>\n",
       "      <th>Exercise Frequency</th>\n",
       "      <th>Property Type</th>\n",
       "      <th>Premium Amount</th>\n",
       "    </tr>\n",
       "  </thead>\n",
       "  <tbody>\n",
       "    <tr>\n",
       "      <th>0</th>\n",
       "      <td>0</td>\n",
       "      <td>19.0</td>\n",
       "      <td>Female</td>\n",
       "      <td>10049.0</td>\n",
       "      <td>Married</td>\n",
       "      <td>1.0</td>\n",
       "      <td>Bachelor's</td>\n",
       "      <td>Self-Employed</td>\n",
       "      <td>22.598761</td>\n",
       "      <td>Urban</td>\n",
       "      <td>...</td>\n",
       "      <td>2.0</td>\n",
       "      <td>17.0</td>\n",
       "      <td>372.0</td>\n",
       "      <td>5.0</td>\n",
       "      <td>2023-12-23 15:21:39.134960</td>\n",
       "      <td>Poor</td>\n",
       "      <td>No</td>\n",
       "      <td>Weekly</td>\n",
       "      <td>House</td>\n",
       "      <td>2869.0</td>\n",
       "    </tr>\n",
       "    <tr>\n",
       "      <th>1</th>\n",
       "      <td>1</td>\n",
       "      <td>39.0</td>\n",
       "      <td>Female</td>\n",
       "      <td>31678.0</td>\n",
       "      <td>Divorced</td>\n",
       "      <td>3.0</td>\n",
       "      <td>Master's</td>\n",
       "      <td>NaN</td>\n",
       "      <td>15.569731</td>\n",
       "      <td>Rural</td>\n",
       "      <td>...</td>\n",
       "      <td>1.0</td>\n",
       "      <td>12.0</td>\n",
       "      <td>694.0</td>\n",
       "      <td>2.0</td>\n",
       "      <td>2023-06-12 15:21:39.111551</td>\n",
       "      <td>Average</td>\n",
       "      <td>Yes</td>\n",
       "      <td>Monthly</td>\n",
       "      <td>House</td>\n",
       "      <td>1483.0</td>\n",
       "    </tr>\n",
       "    <tr>\n",
       "      <th>2</th>\n",
       "      <td>2</td>\n",
       "      <td>23.0</td>\n",
       "      <td>Male</td>\n",
       "      <td>25602.0</td>\n",
       "      <td>Divorced</td>\n",
       "      <td>3.0</td>\n",
       "      <td>High School</td>\n",
       "      <td>Self-Employed</td>\n",
       "      <td>47.177549</td>\n",
       "      <td>Suburban</td>\n",
       "      <td>...</td>\n",
       "      <td>1.0</td>\n",
       "      <td>14.0</td>\n",
       "      <td>NaN</td>\n",
       "      <td>3.0</td>\n",
       "      <td>2023-09-30 15:21:39.221386</td>\n",
       "      <td>Good</td>\n",
       "      <td>Yes</td>\n",
       "      <td>Weekly</td>\n",
       "      <td>House</td>\n",
       "      <td>567.0</td>\n",
       "    </tr>\n",
       "    <tr>\n",
       "      <th>3</th>\n",
       "      <td>3</td>\n",
       "      <td>21.0</td>\n",
       "      <td>Male</td>\n",
       "      <td>141855.0</td>\n",
       "      <td>Married</td>\n",
       "      <td>2.0</td>\n",
       "      <td>Bachelor's</td>\n",
       "      <td>NaN</td>\n",
       "      <td>10.938144</td>\n",
       "      <td>Rural</td>\n",
       "      <td>...</td>\n",
       "      <td>1.0</td>\n",
       "      <td>0.0</td>\n",
       "      <td>367.0</td>\n",
       "      <td>1.0</td>\n",
       "      <td>2024-06-12 15:21:39.226954</td>\n",
       "      <td>Poor</td>\n",
       "      <td>Yes</td>\n",
       "      <td>Daily</td>\n",
       "      <td>Apartment</td>\n",
       "      <td>765.0</td>\n",
       "    </tr>\n",
       "    <tr>\n",
       "      <th>4</th>\n",
       "      <td>4</td>\n",
       "      <td>21.0</td>\n",
       "      <td>Male</td>\n",
       "      <td>39651.0</td>\n",
       "      <td>Single</td>\n",
       "      <td>1.0</td>\n",
       "      <td>Bachelor's</td>\n",
       "      <td>Self-Employed</td>\n",
       "      <td>20.376094</td>\n",
       "      <td>Rural</td>\n",
       "      <td>...</td>\n",
       "      <td>0.0</td>\n",
       "      <td>8.0</td>\n",
       "      <td>598.0</td>\n",
       "      <td>4.0</td>\n",
       "      <td>2021-12-01 15:21:39.252145</td>\n",
       "      <td>Poor</td>\n",
       "      <td>Yes</td>\n",
       "      <td>Weekly</td>\n",
       "      <td>House</td>\n",
       "      <td>2022.0</td>\n",
       "    </tr>\n",
       "  </tbody>\n",
       "</table>\n",
       "<p>5 rows × 21 columns</p>\n",
       "</div>"
      ],
      "text/plain": [
       "   id   Age  Gender  Annual Income Marital Status  Number of Dependents  \\\n",
       "0   0  19.0  Female        10049.0        Married                   1.0   \n",
       "1   1  39.0  Female        31678.0       Divorced                   3.0   \n",
       "2   2  23.0    Male        25602.0       Divorced                   3.0   \n",
       "3   3  21.0    Male       141855.0        Married                   2.0   \n",
       "4   4  21.0    Male        39651.0         Single                   1.0   \n",
       "\n",
       "  Education Level     Occupation  Health Score  Location  ... Previous Claims  \\\n",
       "0      Bachelor's  Self-Employed     22.598761     Urban  ...             2.0   \n",
       "1        Master's            NaN     15.569731     Rural  ...             1.0   \n",
       "2     High School  Self-Employed     47.177549  Suburban  ...             1.0   \n",
       "3      Bachelor's            NaN     10.938144     Rural  ...             1.0   \n",
       "4      Bachelor's  Self-Employed     20.376094     Rural  ...             0.0   \n",
       "\n",
       "   Vehicle Age  Credit Score  Insurance Duration           Policy Start Date  \\\n",
       "0         17.0         372.0                 5.0  2023-12-23 15:21:39.134960   \n",
       "1         12.0         694.0                 2.0  2023-06-12 15:21:39.111551   \n",
       "2         14.0           NaN                 3.0  2023-09-30 15:21:39.221386   \n",
       "3          0.0         367.0                 1.0  2024-06-12 15:21:39.226954   \n",
       "4          8.0         598.0                 4.0  2021-12-01 15:21:39.252145   \n",
       "\n",
       "  Customer Feedback Smoking Status Exercise Frequency Property Type  \\\n",
       "0              Poor             No             Weekly         House   \n",
       "1           Average            Yes            Monthly         House   \n",
       "2              Good            Yes             Weekly         House   \n",
       "3              Poor            Yes              Daily     Apartment   \n",
       "4              Poor            Yes             Weekly         House   \n",
       "\n",
       "  Premium Amount  \n",
       "0         2869.0  \n",
       "1         1483.0  \n",
       "2          567.0  \n",
       "3          765.0  \n",
       "4         2022.0  \n",
       "\n",
       "[5 rows x 21 columns]"
      ]
     },
     "execution_count": 4,
     "metadata": {},
     "output_type": "execute_result"
    }
   ],
   "source": [
    "train_data.head()"
   ]
  },
  {
   "cell_type": "code",
   "execution_count": 5,
   "id": "d11d9c7d",
   "metadata": {
    "execution": {
     "iopub.execute_input": "2024-12-09T16:07:37.525125Z",
     "iopub.status.busy": "2024-12-09T16:07:37.524779Z",
     "iopub.status.idle": "2024-12-09T16:07:38.154700Z",
     "shell.execute_reply": "2024-12-09T16:07:38.153559Z"
    },
    "papermill": {
     "duration": 0.644362,
     "end_time": "2024-12-09T16:07:38.156893",
     "exception": false,
     "start_time": "2024-12-09T16:07:37.512531",
     "status": "completed"
    },
    "tags": []
   },
   "outputs": [
    {
     "data": {
      "text/plain": [
       "id                       0.000000\n",
       "Age                      1.558750\n",
       "Gender                   0.000000\n",
       "Annual Income            3.745750\n",
       "Marital Status           1.544083\n",
       "Number of Dependents     9.139333\n",
       "Education Level          0.000000\n",
       "Occupation              29.839583\n",
       "Health Score             6.173000\n",
       "Location                 0.000000\n",
       "Policy Type              0.000000\n",
       "Previous Claims         30.335750\n",
       "Vehicle Age              0.000500\n",
       "Credit Score            11.490167\n",
       "Insurance Duration       0.000083\n",
       "Policy Start Date        0.000000\n",
       "Customer Feedback        6.485333\n",
       "Smoking Status           0.000000\n",
       "Exercise Frequency       0.000000\n",
       "Property Type            0.000000\n",
       "Premium Amount           0.000000\n",
       "dtype: float64"
      ]
     },
     "execution_count": 5,
     "metadata": {},
     "output_type": "execute_result"
    }
   ],
   "source": [
    "train_data.isnull().sum()* 100 /len(train_data)"
   ]
  },
  {
   "cell_type": "code",
   "execution_count": 6,
   "id": "75b1d18d",
   "metadata": {
    "execution": {
     "iopub.execute_input": "2024-12-09T16:07:38.183393Z",
     "iopub.status.busy": "2024-12-09T16:07:38.182981Z",
     "iopub.status.idle": "2024-12-09T16:07:38.607009Z",
     "shell.execute_reply": "2024-12-09T16:07:38.605911Z"
    },
    "papermill": {
     "duration": 0.439124,
     "end_time": "2024-12-09T16:07:38.609059",
     "exception": false,
     "start_time": "2024-12-09T16:07:38.169935",
     "status": "completed"
    },
    "tags": []
   },
   "outputs": [
    {
     "data": {
      "text/plain": [
       "id                       0.000000\n",
       "Age                      1.561125\n",
       "Gender                   0.000000\n",
       "Annual Income            3.732500\n",
       "Marital Status           1.542000\n",
       "Number of Dependents     9.141250\n",
       "Education Level          0.000000\n",
       "Occupation              29.890625\n",
       "Health Score             6.181125\n",
       "Location                 0.000000\n",
       "Policy Type              0.000000\n",
       "Previous Claims         30.350250\n",
       "Vehicle Age              0.000375\n",
       "Credit Score            11.431375\n",
       "Insurance Duration       0.000250\n",
       "Policy Start Date        0.000000\n",
       "Customer Feedback        6.534500\n",
       "Smoking Status           0.000000\n",
       "Exercise Frequency       0.000000\n",
       "Property Type            0.000000\n",
       "dtype: float64"
      ]
     },
     "execution_count": 6,
     "metadata": {},
     "output_type": "execute_result"
    }
   ],
   "source": [
    "test_data.isnull().sum() / len(test_data) * 100"
   ]
  },
  {
   "cell_type": "markdown",
   "id": "1c2e2296",
   "metadata": {
    "execution": {
     "iopub.execute_input": "2024-12-08T14:19:58.637673Z",
     "iopub.status.busy": "2024-12-08T14:19:58.637177Z",
     "iopub.status.idle": "2024-12-08T14:19:58.642838Z",
     "shell.execute_reply": "2024-12-08T14:19:58.641788Z",
     "shell.execute_reply.started": "2024-12-08T14:19:58.637623Z"
    },
    "papermill": {
     "duration": 0.010831,
     "end_time": "2024-12-09T16:07:38.631134",
     "exception": false,
     "start_time": "2024-12-09T16:07:38.620303",
     "status": "completed"
    },
    "tags": []
   },
   "source": [
    "## EDA"
   ]
  },
  {
   "cell_type": "code",
   "execution_count": 7,
   "id": "aa054ade",
   "metadata": {
    "execution": {
     "iopub.execute_input": "2024-12-09T16:07:38.655476Z",
     "iopub.status.busy": "2024-12-09T16:07:38.655070Z",
     "iopub.status.idle": "2024-12-09T16:07:38.942286Z",
     "shell.execute_reply": "2024-12-09T16:07:38.941228Z"
    },
    "papermill": {
     "duration": 0.301995,
     "end_time": "2024-12-09T16:07:38.944545",
     "exception": false,
     "start_time": "2024-12-09T16:07:38.642550",
     "status": "completed"
    },
    "tags": []
   },
   "outputs": [
    {
     "data": {
      "image/png": "[encoded data removed]",
      "text/plain": [
       "<Figure size 640x480 with 1 Axes>"
      ]
     },
     "metadata": {},
     "output_type": "display_data"
    }
   ],
   "source": [
    "plt.hist(train_data['Annual Income'], bins = 5)\n",
    "plt.show()"
   ]
  },
  {
   "cell_type": "code",
   "execution_count": 8,
   "id": "b6094df3",
   "metadata": {
    "execution": {
     "iopub.execute_input": "2024-12-09T16:07:38.969696Z",
     "iopub.status.busy": "2024-12-09T16:07:38.968936Z",
     "iopub.status.idle": "2024-12-09T16:07:41.702321Z",
     "shell.execute_reply": "2024-12-09T16:07:41.701261Z"
    },
    "papermill": {
     "duration": 2.748266,
     "end_time": "2024-12-09T16:07:41.704550",
     "exception": false,
     "start_time": "2024-12-09T16:07:38.956284",
     "status": "completed"
    },
    "tags": []
   },
   "outputs": [
    {
     "data": {
      "image/png": "[encoded data removed]",
      "text/plain": [
       "<Figure size 640x480 with 1 Axes>"
      ]
     },
     "metadata": {},
     "output_type": "display_data"
    }
   ],
   "source": [
    "plt.scatter(train_data['Premium Amount'], train_data['Annual Income'])\n",
    "plt.show()"
   ]
  },
  {
   "cell_type": "code",
   "execution_count": 9,
   "id": "40d44f10",
   "metadata": {
    "execution": {
     "iopub.execute_input": "2024-12-09T16:07:41.730845Z",
     "iopub.status.busy": "2024-12-09T16:07:41.730444Z",
     "iopub.status.idle": "2024-12-09T16:08:01.808297Z",
     "shell.execute_reply": "2024-12-09T16:08:01.807334Z"
    },
    "papermill": {
     "duration": 20.093744,
     "end_time": "2024-12-09T16:08:01.810732",
     "exception": false,
     "start_time": "2024-12-09T16:07:41.716988",
     "status": "completed"
    },
    "tags": []
   },
   "outputs": [
    {
     "data": {
      "image/png": "[encoded data removed]",
      "text/plain": [
       "<Figure size 640x480 with 1 Axes>"
      ]
     },
     "metadata": {},
     "output_type": "display_data"
    }
   ],
   "source": [
    "sns.barplot(data = train_data, x = 'Gender', y= 'Annual Income')\n",
    "plt.show()"
   ]
  },
  {
   "cell_type": "code",
   "execution_count": 10,
   "id": "cb3ce2e2",
   "metadata": {
    "execution": {
     "iopub.execute_input": "2024-12-09T16:08:01.837975Z",
     "iopub.status.busy": "2024-12-09T16:08:01.837585Z",
     "iopub.status.idle": "2024-12-09T16:08:03.400595Z",
     "shell.execute_reply": "2024-12-09T16:08:03.399279Z"
    },
    "papermill": {
     "duration": 1.579333,
     "end_time": "2024-12-09T16:08:03.402721",
     "exception": false,
     "start_time": "2024-12-09T16:08:01.823388",
     "status": "completed"
    },
    "tags": []
   },
   "outputs": [
    {
     "data": {
      "image/png": "[encoded data removed]",
      "text/plain": [
       "<Figure size 640x480 with 1 Axes>"
      ]
     },
     "metadata": {},
     "output_type": "display_data"
    }
   ],
   "source": [
    "sns.countplot(data=train_data, x='Gender', hue='Marital Status')\n",
    "plt.title(\"Count of Gender with Marital Status\")\n",
    "plt.show()"
   ]
  },
  {
   "cell_type": "code",
   "execution_count": 11,
   "id": "35ae3364",
   "metadata": {
    "execution": {
     "iopub.execute_input": "2024-12-09T16:08:03.430799Z",
     "iopub.status.busy": "2024-12-09T16:08:03.430318Z",
     "iopub.status.idle": "2024-12-09T16:08:03.648150Z",
     "shell.execute_reply": "2024-12-09T16:08:03.647008Z"
    },
    "papermill": {
     "duration": 0.234586,
     "end_time": "2024-12-09T16:08:03.650349",
     "exception": false,
     "start_time": "2024-12-09T16:08:03.415763",
     "status": "completed"
    },
    "tags": []
   },
   "outputs": [
    {
     "data": {
      "image/png": "[encoded data removed]",
      "text/plain": [
       "<Figure size 640x480 with 1 Axes>"
      ]
     },
     "metadata": {},
     "output_type": "display_data"
    }
   ],
   "source": [
    "sns.boxplot(data = train_data, x= 'Age')\n",
    "plt.show()"
   ]
  },
  {
   "cell_type": "code",
   "execution_count": 12,
   "id": "73aa1ff5",
   "metadata": {
    "execution": {
     "iopub.execute_input": "2024-12-09T16:08:03.678192Z",
     "iopub.status.busy": "2024-12-09T16:08:03.677810Z",
     "iopub.status.idle": "2024-12-09T16:08:11.865477Z",
     "shell.execute_reply": "2024-12-09T16:08:11.864479Z"
    },
    "papermill": {
     "duration": 8.20493,
     "end_time": "2024-12-09T16:08:11.868319",
     "exception": false,
     "start_time": "2024-12-09T16:08:03.663389",
     "status": "completed"
    },
    "tags": []
   },
   "outputs": [
    {
     "name": "stderr",
     "output_type": "stream",
     "text": [
      "/opt/conda/lib/python3.10/site-packages/seaborn/_oldcore.py:1119: FutureWarning: use_inf_as_na option is deprecated and will be removed in a future version. Convert inf values to NaN before operating instead.\n",
      "  with pd.option_context('mode.use_inf_as_na', True):\n",
      "/opt/conda/lib/python3.10/site-packages/seaborn/_oldcore.py:1119: FutureWarning: use_inf_as_na option is deprecated and will be removed in a future version. Convert inf values to NaN before operating instead.\n",
      "  with pd.option_context('mode.use_inf_as_na', True):\n",
      "/opt/conda/lib/python3.10/site-packages/seaborn/_oldcore.py:1075: FutureWarning: When grouping with a length-1 list-like, you will need to pass a length-1 tuple to get_group in a future version of pandas. Pass `(name,)` instead of `name` to silence this warning.\n",
      "  data_subset = grouped_data.get_group(pd_key)\n",
      "/opt/conda/lib/python3.10/site-packages/seaborn/_oldcore.py:1075: FutureWarning: When grouping with a length-1 list-like, you will need to pass a length-1 tuple to get_group in a future version of pandas. Pass `(name,)` instead of `name` to silence this warning.\n",
      "  data_subset = grouped_data.get_group(pd_key)\n"
     ]
    },
    {
     "data": {
      "image/png": "[encoded data removed]",
      "text/plain": [
       "<Figure size 640x480 with 1 Axes>"
      ]
     },
     "metadata": {},
     "output_type": "display_data"
    }
   ],
   "source": [
    "sns.lineplot(data = train_data, x = 'Occupation', y = 'Number of Dependents', hue = 'Gender')\n",
    "plt.show()"
   ]
  },
  {
   "cell_type": "code",
   "execution_count": 13,
   "id": "42724fd8",
   "metadata": {
    "execution": {
     "iopub.execute_input": "2024-12-09T16:08:11.898527Z",
     "iopub.status.busy": "2024-12-09T16:08:11.898094Z",
     "iopub.status.idle": "2024-12-09T16:08:12.323763Z",
     "shell.execute_reply": "2024-12-09T16:08:12.322649Z"
    },
    "papermill": {
     "duration": 0.443129,
     "end_time": "2024-12-09T16:08:12.325903",
     "exception": false,
     "start_time": "2024-12-09T16:08:11.882774",
     "status": "completed"
    },
    "tags": []
   },
   "outputs": [
    {
     "data": {
      "text/plain": [
       "id                           0\n",
       "Age                      12489\n",
       "Gender                       0\n",
       "Annual Income            29860\n",
       "Marital Status           12336\n",
       "Number of Dependents     73130\n",
       "Education Level              0\n",
       "Occupation              239125\n",
       "Health Score             49449\n",
       "Location                     0\n",
       "Policy Type                  0\n",
       "Previous Claims         242802\n",
       "Vehicle Age                  3\n",
       "Credit Score             91451\n",
       "Insurance Duration           2\n",
       "Policy Start Date            0\n",
       "Customer Feedback        52276\n",
       "Smoking Status               0\n",
       "Exercise Frequency           0\n",
       "Property Type                0\n",
       "dtype: int64"
      ]
     },
     "execution_count": 13,
     "metadata": {},
     "output_type": "execute_result"
    }
   ],
   "source": [
    "test_data.isnull().sum()"
   ]
  },
  {
   "cell_type": "code",
   "execution_count": 14,
   "id": "38f7379c",
   "metadata": {
    "execution": {
     "iopub.execute_input": "2024-12-09T16:08:12.356052Z",
     "iopub.status.busy": "2024-12-09T16:08:12.355680Z",
     "iopub.status.idle": "2024-12-09T16:08:13.087571Z",
     "shell.execute_reply": "2024-12-09T16:08:13.086481Z"
    },
    "papermill": {
     "duration": 0.75014,
     "end_time": "2024-12-09T16:08:13.090356",
     "exception": false,
     "start_time": "2024-12-09T16:08:12.340216",
     "status": "completed"
    },
    "tags": []
   },
   "outputs": [],
   "source": [
    "test_data['Marital Status'] = test_data['Marital Status'].str.strip().str.lower()\n",
    "train_data['Marital Status'] = train_data['Marital Status'].str.strip().str.lower()"
   ]
  },
  {
   "cell_type": "code",
   "execution_count": 15,
   "id": "fb3c64ad",
   "metadata": {
    "execution": {
     "iopub.execute_input": "2024-12-09T16:08:13.121895Z",
     "iopub.status.busy": "2024-12-09T16:08:13.120797Z",
     "iopub.status.idle": "2024-12-09T16:08:13.406341Z",
     "shell.execute_reply": "2024-12-09T16:08:13.405143Z"
    },
    "papermill": {
     "duration": 0.304781,
     "end_time": "2024-12-09T16:08:13.409601",
     "exception": false,
     "start_time": "2024-12-09T16:08:13.104820",
     "status": "completed"
    },
    "tags": []
   },
   "outputs": [],
   "source": [
    "train_data.loc[(train_data['Education Level'] == 'High School') & (train_data['Occupation'].isna()), 'Occupation'] = 'Unemployed'\n",
    "test_data.loc[(test_data['Education Level'] == 'High School') & (test_data['Occupation'].isna()), 'Occupation'] = 'Unemployed'"
   ]
  },
  {
   "cell_type": "code",
   "execution_count": 16,
   "id": "0a9f3e57",
   "metadata": {
    "execution": {
     "iopub.execute_input": "2024-12-09T16:08:13.446083Z",
     "iopub.status.busy": "2024-12-09T16:08:13.445682Z",
     "iopub.status.idle": "2024-12-09T16:08:13.568380Z",
     "shell.execute_reply": "2024-12-09T16:08:13.567246Z"
    },
    "papermill": {
     "duration": 0.141223,
     "end_time": "2024-12-09T16:08:13.571459",
     "exception": false,
     "start_time": "2024-12-09T16:08:13.430236",
     "status": "completed"
    },
    "tags": []
   },
   "outputs": [],
   "source": [
    "train_data.loc[((train_data['Age'] > 50) | (train_data['Age'] < 21)) & train_data['Occupation'].isna(), 'Occupation'] = 'Unemployed'\n",
    "test_data.loc[((test_data['Age'] > 50) | (test_data['Age'] < 21)) & test_data['Occupation'].isna(), 'Occupation'] = 'Unemployed'"
   ]
  },
  {
   "cell_type": "code",
   "execution_count": 17,
   "id": "d00f569a",
   "metadata": {
    "execution": {
     "iopub.execute_input": "2024-12-09T16:08:13.608072Z",
     "iopub.status.busy": "2024-12-09T16:08:13.607690Z",
     "iopub.status.idle": "2024-12-09T16:08:13.748923Z",
     "shell.execute_reply": "2024-12-09T16:08:13.747761Z"
    },
    "papermill": {
     "duration": 0.160054,
     "end_time": "2024-12-09T16:08:13.751352",
     "exception": false,
     "start_time": "2024-12-09T16:08:13.591298",
     "status": "completed"
    },
    "tags": []
   },
   "outputs": [],
   "source": [
    "train_data['Occupation'] = train_data['Occupation'].fillna('Unemployed')\n",
    "test_data['Occupation'] = test_data['Occupation'].fillna('Unemployed')"
   ]
  },
  {
   "cell_type": "code",
   "execution_count": 18,
   "id": "feb81f62",
   "metadata": {
    "execution": {
     "iopub.execute_input": "2024-12-09T16:08:13.781235Z",
     "iopub.status.busy": "2024-12-09T16:08:13.780839Z",
     "iopub.status.idle": "2024-12-09T16:08:13.967626Z",
     "shell.execute_reply": "2024-12-09T16:08:13.966553Z"
    },
    "papermill": {
     "duration": 0.204446,
     "end_time": "2024-12-09T16:08:13.970077",
     "exception": false,
     "start_time": "2024-12-09T16:08:13.765631",
     "status": "completed"
    },
    "tags": []
   },
   "outputs": [],
   "source": [
    "train_data.loc[(train_data['Previous Claims'].isnull()) & (train_data['Occupation'] == 'Unemployed'), 'Previous Claims'] = 0.0\n",
    "test_data.loc[(test_data['Previous Claims'].isnull()) & (test_data['Occupation'] == 'Unemployed'), 'Previous Claims'] = 0.0"
   ]
  },
  {
   "cell_type": "code",
   "execution_count": 19,
   "id": "b8387f4c",
   "metadata": {
    "execution": {
     "iopub.execute_input": "2024-12-09T16:08:14.001251Z",
     "iopub.status.busy": "2024-12-09T16:08:14.000854Z",
     "iopub.status.idle": "2024-12-09T16:08:14.018146Z",
     "shell.execute_reply": "2024-12-09T16:08:14.017067Z"
    },
    "papermill": {
     "duration": 0.036714,
     "end_time": "2024-12-09T16:08:14.021094",
     "exception": false,
     "start_time": "2024-12-09T16:08:13.984380",
     "status": "completed"
    },
    "tags": []
   },
   "outputs": [],
   "source": [
    "train_data.loc[(train_data['Previous Claims'].isnull()) & (train_data['Annual Income'] > 50000), 'Previous Claims'] = 0.0\n",
    "test_data.loc[(test_data['Previous Claims'].isnull()) & (test_data['Annual Income'] > 50000), 'Previous Claims'] = 0.0"
   ]
  },
  {
   "cell_type": "code",
   "execution_count": 20,
   "id": "8393c5be",
   "metadata": {
    "execution": {
     "iopub.execute_input": "2024-12-09T16:08:14.053832Z",
     "iopub.status.busy": "2024-12-09T16:08:14.053400Z",
     "iopub.status.idle": "2024-12-09T16:08:14.223979Z",
     "shell.execute_reply": "2024-12-09T16:08:14.222864Z"
    },
    "papermill": {
     "duration": 0.190782,
     "end_time": "2024-12-09T16:08:14.226420",
     "exception": false,
     "start_time": "2024-12-09T16:08:14.035638",
     "status": "completed"
    },
    "tags": []
   },
   "outputs": [],
   "source": [
    "train_data.loc[(train_data['Previous Claims'].isnull()) & (train_data['Education Level'] ==  'High School'), 'Previous Claims'] = 0.0\n",
    "test_data.loc[(test_data['Previous Claims'].isnull()) & (test_data['Education Level'] ==  'High School'), 'Previous Claims'] = 0.0"
   ]
  },
  {
   "cell_type": "code",
   "execution_count": 21,
   "id": "f47886bf",
   "metadata": {
    "execution": {
     "iopub.execute_input": "2024-12-09T16:08:14.256473Z",
     "iopub.status.busy": "2024-12-09T16:08:14.256040Z",
     "iopub.status.idle": "2024-12-09T16:08:14.275027Z",
     "shell.execute_reply": "2024-12-09T16:08:14.274052Z"
    },
    "papermill": {
     "duration": 0.036755,
     "end_time": "2024-12-09T16:08:14.277464",
     "exception": false,
     "start_time": "2024-12-09T16:08:14.240709",
     "status": "completed"
    },
    "tags": []
   },
   "outputs": [],
   "source": [
    "train_data['Previous Claims'] = train_data['Previous Claims'].fillna(np.random.randint(0.0, 9.0))\n",
    "test_data['Previous Claims'] = test_data['Previous Claims'].fillna(np.random.randint(0.0, 9.0))"
   ]
  },
  {
   "cell_type": "code",
   "execution_count": 22,
   "id": "63cfd7d7",
   "metadata": {
    "execution": {
     "iopub.execute_input": "2024-12-09T16:08:14.308200Z",
     "iopub.status.busy": "2024-12-09T16:08:14.307160Z",
     "iopub.status.idle": "2024-12-09T16:08:14.480513Z",
     "shell.execute_reply": "2024-12-09T16:08:14.479260Z"
    },
    "papermill": {
     "duration": 0.191318,
     "end_time": "2024-12-09T16:08:14.483045",
     "exception": false,
     "start_time": "2024-12-09T16:08:14.291727",
     "status": "completed"
    },
    "tags": []
   },
   "outputs": [],
   "source": [
    "train_data.loc[(train_data['Number of Dependents'].isnull()) & (train_data['Marital Status'] == 'Single'),'Number of Dependents']= 0.0\n",
    "test_data.loc[(test_data['Number of Dependents'].isnull()) & (test_data['Marital Status'] == 'Single'),'Number of Dependents']= 0.0"
   ]
  },
  {
   "cell_type": "code",
   "execution_count": 23,
   "id": "912dc144",
   "metadata": {
    "execution": {
     "iopub.execute_input": "2024-12-09T16:08:14.512994Z",
     "iopub.status.busy": "2024-12-09T16:08:14.512560Z",
     "iopub.status.idle": "2024-12-09T16:08:16.375405Z",
     "shell.execute_reply": "2024-12-09T16:08:16.374125Z"
    },
    "papermill": {
     "duration": 1.880569,
     "end_time": "2024-12-09T16:08:16.377918",
     "exception": false,
     "start_time": "2024-12-09T16:08:14.497349",
     "status": "completed"
    },
    "tags": []
   },
   "outputs": [],
   "source": [
    "train_data['Number of Dependents'] = train_data['Number of Dependents'].apply(lambda x: np.random.uniform(0.0, 5.0) if pd.isna(x) else x\n",
    ")\n",
    "\n",
    "test_data['Number of Dependents'] = test_data['Number of Dependents'].apply(lambda x: np.random.uniform(0.0, 5.0) if pd.isna(x) else x\n",
    ")"
   ]
  },
  {
   "cell_type": "code",
   "execution_count": 24,
   "id": "bb63b362",
   "metadata": {
    "execution": {
     "iopub.execute_input": "2024-12-09T16:08:16.407957Z",
     "iopub.status.busy": "2024-12-09T16:08:16.407573Z",
     "iopub.status.idle": "2024-12-09T16:08:16.434521Z",
     "shell.execute_reply": "2024-12-09T16:08:16.433407Z"
    },
    "papermill": {
     "duration": 0.044969,
     "end_time": "2024-12-09T16:08:16.437021",
     "exception": false,
     "start_time": "2024-12-09T16:08:16.392052",
     "status": "completed"
    },
    "tags": []
   },
   "outputs": [],
   "source": [
    "train_data['Annual Income'] = train_data['Annual Income'].fillna(np.mean(train_data['Annual Income']))\n",
    "\n",
    "test_data['Annual Income'] = test_data['Annual Income'].fillna(np.mean(test_data['Annual Income']))"
   ]
  },
  {
   "cell_type": "code",
   "execution_count": 25,
   "id": "6d465846",
   "metadata": {
    "execution": {
     "iopub.execute_input": "2024-12-09T16:08:16.466830Z",
     "iopub.status.busy": "2024-12-09T16:08:16.466411Z",
     "iopub.status.idle": "2024-12-09T16:08:16.471429Z",
     "shell.execute_reply": "2024-12-09T16:08:16.470371Z"
    },
    "papermill": {
     "duration": 0.022496,
     "end_time": "2024-12-09T16:08:16.473594",
     "exception": false,
     "start_time": "2024-12-09T16:08:16.451098",
     "status": "completed"
    },
    "tags": []
   },
   "outputs": [],
   "source": [
    "total_feedback = 377905 + 375518 + 368753\n",
    "\n",
    "probabilities = {\n",
    "    'Average': 377905 / total_feedback,\n",
    "    'Poor': 375518 / total_feedback,\n",
    "    'Good': 368753 / total_feedback\n",
    "}"
   ]
  },
  {
   "cell_type": "code",
   "execution_count": 26,
   "id": "514546f1",
   "metadata": {
    "execution": {
     "iopub.execute_input": "2024-12-09T16:08:16.503966Z",
     "iopub.status.busy": "2024-12-09T16:08:16.503578Z",
     "iopub.status.idle": "2024-12-09T16:08:18.805518Z",
     "shell.execute_reply": "2024-12-09T16:08:18.804551Z"
    },
    "papermill": {
     "duration": 2.320356,
     "end_time": "2024-12-09T16:08:18.808074",
     "exception": false,
     "start_time": "2024-12-09T16:08:16.487718",
     "status": "completed"
    },
    "tags": []
   },
   "outputs": [],
   "source": [
    "train_data['Customer Feedback'] = train_data['Customer Feedback'].apply(\n",
    "    lambda x: np.random.choice(['Average', 'Poor', 'Good'], p=[probabilities['Average'], probabilities['Poor'], probabilities['Good']]) \n",
    "    if pd.isna(x) else x\n",
    ")"
   ]
  },
  {
   "cell_type": "code",
   "execution_count": 27,
   "id": "320d431f",
   "metadata": {
    "execution": {
     "iopub.execute_input": "2024-12-09T16:08:18.838071Z",
     "iopub.status.busy": "2024-12-09T16:08:18.837671Z",
     "iopub.status.idle": "2024-12-09T16:08:18.843005Z",
     "shell.execute_reply": "2024-12-09T16:08:18.841899Z"
    },
    "papermill": {
     "duration": 0.023022,
     "end_time": "2024-12-09T16:08:18.845315",
     "exception": false,
     "start_time": "2024-12-09T16:08:18.822293",
     "status": "completed"
    },
    "tags": []
   },
   "outputs": [],
   "source": [
    "feedback_count = 251217 + 250434 + 246073\n",
    "prop = probabilities = {\n",
    "    'Average': 251217 / feedback_count,\n",
    "    'Poor': 250434 / feedback_count,\n",
    "    'Good': 246073 / feedback_count\n",
    "}"
   ]
  },
  {
   "cell_type": "code",
   "execution_count": 28,
   "id": "b9bafd42",
   "metadata": {
    "execution": {
     "iopub.execute_input": "2024-12-09T16:08:18.875252Z",
     "iopub.status.busy": "2024-12-09T16:08:18.874830Z",
     "iopub.status.idle": "2024-12-09T16:08:20.394561Z",
     "shell.execute_reply": "2024-12-09T16:08:20.393564Z"
    },
    "papermill": {
     "duration": 1.537299,
     "end_time": "2024-12-09T16:08:20.396888",
     "exception": false,
     "start_time": "2024-12-09T16:08:18.859589",
     "status": "completed"
    },
    "tags": []
   },
   "outputs": [],
   "source": [
    "test_data['Customer Feedback'] = test_data['Customer Feedback'].apply(\n",
    "    lambda x: np.random.choice(['Average', 'Poor', 'Good'], p=[probabilities['Average'], probabilities['Poor'], probabilities['Good']]) \n",
    "    if pd.isna(x) else x\n",
    ")"
   ]
  },
  {
   "cell_type": "code",
   "execution_count": 29,
   "id": "386925f8",
   "metadata": {
    "execution": {
     "iopub.execute_input": "2024-12-09T16:08:20.428081Z",
     "iopub.status.busy": "2024-12-09T16:08:20.427688Z",
     "iopub.status.idle": "2024-12-09T16:08:20.459201Z",
     "shell.execute_reply": "2024-12-09T16:08:20.458053Z"
    },
    "papermill": {
     "duration": 0.050093,
     "end_time": "2024-12-09T16:08:20.461674",
     "exception": false,
     "start_time": "2024-12-09T16:08:20.411581",
     "status": "completed"
    },
    "tags": []
   },
   "outputs": [],
   "source": [
    "train_data['Credit Score'] = train_data['Credit Score'].fillna(train_data['Credit Score'].mean()) \n",
    "\n",
    "test_data['Credit Score'] = test_data['Credit Score'].fillna(test_data['Credit Score'].mean()) "
   ]
  },
  {
   "cell_type": "code",
   "execution_count": 30,
   "id": "2606732f",
   "metadata": {
    "execution": {
     "iopub.execute_input": "2024-12-09T16:08:20.491781Z",
     "iopub.status.busy": "2024-12-09T16:08:20.491380Z",
     "iopub.status.idle": "2024-12-09T16:08:21.543996Z",
     "shell.execute_reply": "2024-12-09T16:08:21.542892Z"
    },
    "papermill": {
     "duration": 1.070462,
     "end_time": "2024-12-09T16:08:21.546518",
     "exception": false,
     "start_time": "2024-12-09T16:08:20.476056",
     "status": "completed"
    },
    "tags": []
   },
   "outputs": [],
   "source": [
    "min_val = train_data['Health Score'].min()\n",
    "max_val = train_data['Health Score'].max()\n",
    "train_data['Health Score'] = train_data['Health Score'].apply(lambda x: np.random.uniform(min_val, max_val) if pd.isnull(x) else x)"
   ]
  },
  {
   "cell_type": "code",
   "execution_count": 31,
   "id": "6b1ad67a",
   "metadata": {
    "execution": {
     "iopub.execute_input": "2024-12-09T16:08:21.578073Z",
     "iopub.status.busy": "2024-12-09T16:08:21.577403Z",
     "iopub.status.idle": "2024-12-09T16:08:22.267610Z",
     "shell.execute_reply": "2024-12-09T16:08:22.266454Z"
    },
    "papermill": {
     "duration": 0.709083,
     "end_time": "2024-12-09T16:08:22.270196",
     "exception": false,
     "start_time": "2024-12-09T16:08:21.561113",
     "status": "completed"
    },
    "tags": []
   },
   "outputs": [],
   "source": [
    "min_val_test = test_data['Health Score'].min()\n",
    "max_val_test = test_data['Health Score'].max()\n",
    "test_data['Health Score'] = test_data['Health Score'].apply(lambda x: np.random.uniform(min_val_test, max_val_test) if pd.isnull(x) else x)"
   ]
  },
  {
   "cell_type": "code",
   "execution_count": 32,
   "id": "c7dca199",
   "metadata": {
    "execution": {
     "iopub.execute_input": "2024-12-09T16:08:22.302572Z",
     "iopub.status.busy": "2024-12-09T16:08:22.302127Z",
     "iopub.status.idle": "2024-12-09T16:08:23.789895Z",
     "shell.execute_reply": "2024-12-09T16:08:23.788704Z"
    },
    "papermill": {
     "duration": 1.507867,
     "end_time": "2024-12-09T16:08:23.792537",
     "exception": false,
     "start_time": "2024-12-09T16:08:22.284670",
     "status": "completed"
    },
    "tags": []
   },
   "outputs": [],
   "source": [
    " train_data['Age'] = train_data['Age'].apply(lambda x: np.random.uniform(18.0, 64.0) if pd.isnull(x) else x)\n",
    "\n",
    " test_data['Age'] = test_data['Age'].apply(lambda x: np.random.uniform(18.0, 64.0) if pd.isnull(x) else x)"
   ]
  },
  {
   "cell_type": "code",
   "execution_count": 33,
   "id": "6428d4c8",
   "metadata": {
    "execution": {
     "iopub.execute_input": "2024-12-09T16:08:23.822371Z",
     "iopub.status.busy": "2024-12-09T16:08:23.821958Z",
     "iopub.status.idle": "2024-12-09T16:08:23.952602Z",
     "shell.execute_reply": "2024-12-09T16:08:23.951633Z"
    },
    "papermill": {
     "duration": 0.147948,
     "end_time": "2024-12-09T16:08:23.954709",
     "exception": false,
     "start_time": "2024-12-09T16:08:23.806761",
     "status": "completed"
    },
    "tags": []
   },
   "outputs": [
    {
     "data": {
      "text/plain": [
       "Marital Status\n",
       "single      395391\n",
       "married     394316\n",
       "divorced    391764\n",
       "Name: count, dtype: int64"
      ]
     },
     "execution_count": 33,
     "metadata": {},
     "output_type": "execute_result"
    }
   ],
   "source": [
    "train_data['Marital Status'].value_counts()"
   ]
  },
  {
   "cell_type": "code",
   "execution_count": 34,
   "id": "77017e89",
   "metadata": {
    "execution": {
     "iopub.execute_input": "2024-12-09T16:08:23.986099Z",
     "iopub.status.busy": "2024-12-09T16:08:23.985748Z",
     "iopub.status.idle": "2024-12-09T16:08:24.089207Z",
     "shell.execute_reply": "2024-12-09T16:08:24.088038Z"
    },
    "papermill": {
     "duration": 0.1226,
     "end_time": "2024-12-09T16:08:24.091721",
     "exception": false,
     "start_time": "2024-12-09T16:08:23.969121",
     "status": "completed"
    },
    "tags": []
   },
   "outputs": [
    {
     "data": {
      "text/plain": [
       "'single'"
      ]
     },
     "execution_count": 34,
     "metadata": {},
     "output_type": "execute_result"
    }
   ],
   "source": [
    "train_data['Marital Status'].mode()[0]"
   ]
  },
  {
   "cell_type": "code",
   "execution_count": 35,
   "id": "f2a92b29",
   "metadata": {
    "execution": {
     "iopub.execute_input": "2024-12-09T16:08:24.123076Z",
     "iopub.status.busy": "2024-12-09T16:08:24.122704Z",
     "iopub.status.idle": "2024-12-09T16:08:24.498342Z",
     "shell.execute_reply": "2024-12-09T16:08:24.496925Z"
    },
    "papermill": {
     "duration": 0.394434,
     "end_time": "2024-12-09T16:08:24.501049",
     "exception": false,
     "start_time": "2024-12-09T16:08:24.106615",
     "status": "completed"
    },
    "tags": []
   },
   "outputs": [],
   "source": [
    "train_data['Marital Status'] = train_data['Marital Status'].fillna(train_data['Marital Status'].mode()[0])\n",
    "\n",
    "test_data['Marital Status'] = test_data['Marital Status'].fillna(test_data['Marital Status'].mode()[0])"
   ]
  },
  {
   "cell_type": "code",
   "execution_count": 36,
   "id": "c2ee2d10",
   "metadata": {
    "execution": {
     "iopub.execute_input": "2024-12-09T16:08:24.532514Z",
     "iopub.status.busy": "2024-12-09T16:08:24.532068Z",
     "iopub.status.idle": "2024-12-09T16:08:24.548520Z",
     "shell.execute_reply": "2024-12-09T16:08:24.547455Z"
    },
    "papermill": {
     "duration": 0.035279,
     "end_time": "2024-12-09T16:08:24.550930",
     "exception": false,
     "start_time": "2024-12-09T16:08:24.515651",
     "status": "completed"
    },
    "tags": []
   },
   "outputs": [],
   "source": [
    " train_data['Insurance Duration'] = train_data['Insurance Duration'].fillna(0)\n",
    "test_data['Insurance Duration'] = test_data['Insurance Duration'].fillna(0)"
   ]
  },
  {
   "cell_type": "code",
   "execution_count": 37,
   "id": "cb6ed2a0",
   "metadata": {
    "execution": {
     "iopub.execute_input": "2024-12-09T16:08:24.581720Z",
     "iopub.status.busy": "2024-12-09T16:08:24.581318Z",
     "iopub.status.idle": "2024-12-09T16:08:25.140640Z",
     "shell.execute_reply": "2024-12-09T16:08:25.139403Z"
    },
    "papermill": {
     "duration": 0.577582,
     "end_time": "2024-12-09T16:08:25.142992",
     "exception": false,
     "start_time": "2024-12-09T16:08:24.565410",
     "status": "completed"
    },
    "tags": []
   },
   "outputs": [],
   "source": [
    " test_data['Vehicle Age'] = test_data['Vehicle Age'].apply(lambda x: np.random.uniform(0.0, 11.0) if pd.isnull(x) else x)"
   ]
  },
  {
   "cell_type": "code",
   "execution_count": 38,
   "id": "76382dd4",
   "metadata": {
    "execution": {
     "iopub.execute_input": "2024-12-09T16:08:25.173900Z",
     "iopub.status.busy": "2024-12-09T16:08:25.173082Z",
     "iopub.status.idle": "2024-12-09T16:08:25.202959Z",
     "shell.execute_reply": "2024-12-09T16:08:25.201756Z"
    },
    "papermill": {
     "duration": 0.048075,
     "end_time": "2024-12-09T16:08:25.205406",
     "exception": false,
     "start_time": "2024-12-09T16:08:25.157331",
     "status": "completed"
    },
    "tags": []
   },
   "outputs": [
    {
     "data": {
      "text/html": [
       "<div>\n",
       "<style scoped>\n",
       "    .dataframe tbody tr th:only-of-type {\n",
       "        vertical-align: middle;\n",
       "    }\n",
       "\n",
       "    .dataframe tbody tr th {\n",
       "        vertical-align: top;\n",
       "    }\n",
       "\n",
       "    .dataframe thead th {\n",
       "        text-align: right;\n",
       "    }\n",
       "</style>\n",
       "<table border=\"1\" class=\"dataframe\">\n",
       "  <thead>\n",
       "    <tr style=\"text-align: right;\">\n",
       "      <th></th>\n",
       "      <th>id</th>\n",
       "      <th>Age</th>\n",
       "      <th>Gender</th>\n",
       "      <th>Annual Income</th>\n",
       "      <th>Marital Status</th>\n",
       "      <th>Number of Dependents</th>\n",
       "      <th>Education Level</th>\n",
       "      <th>Occupation</th>\n",
       "      <th>Health Score</th>\n",
       "      <th>Location</th>\n",
       "      <th>...</th>\n",
       "      <th>Previous Claims</th>\n",
       "      <th>Vehicle Age</th>\n",
       "      <th>Credit Score</th>\n",
       "      <th>Insurance Duration</th>\n",
       "      <th>Policy Start Date</th>\n",
       "      <th>Customer Feedback</th>\n",
       "      <th>Smoking Status</th>\n",
       "      <th>Exercise Frequency</th>\n",
       "      <th>Property Type</th>\n",
       "      <th>Premium Amount</th>\n",
       "    </tr>\n",
       "  </thead>\n",
       "  <tbody>\n",
       "    <tr>\n",
       "      <th>0</th>\n",
       "      <td>0</td>\n",
       "      <td>19.0</td>\n",
       "      <td>Female</td>\n",
       "      <td>10049.0</td>\n",
       "      <td>married</td>\n",
       "      <td>1.0</td>\n",
       "      <td>Bachelor's</td>\n",
       "      <td>Self-Employed</td>\n",
       "      <td>22.598761</td>\n",
       "      <td>Urban</td>\n",
       "      <td>...</td>\n",
       "      <td>2.0</td>\n",
       "      <td>17.0</td>\n",
       "      <td>372.00000</td>\n",
       "      <td>5.0</td>\n",
       "      <td>2023-12-23 15:21:39.134960</td>\n",
       "      <td>Poor</td>\n",
       "      <td>No</td>\n",
       "      <td>Weekly</td>\n",
       "      <td>House</td>\n",
       "      <td>2869.0</td>\n",
       "    </tr>\n",
       "    <tr>\n",
       "      <th>1</th>\n",
       "      <td>1</td>\n",
       "      <td>39.0</td>\n",
       "      <td>Female</td>\n",
       "      <td>31678.0</td>\n",
       "      <td>divorced</td>\n",
       "      <td>3.0</td>\n",
       "      <td>Master's</td>\n",
       "      <td>Unemployed</td>\n",
       "      <td>15.569731</td>\n",
       "      <td>Rural</td>\n",
       "      <td>...</td>\n",
       "      <td>1.0</td>\n",
       "      <td>12.0</td>\n",
       "      <td>694.00000</td>\n",
       "      <td>2.0</td>\n",
       "      <td>2023-06-12 15:21:39.111551</td>\n",
       "      <td>Average</td>\n",
       "      <td>Yes</td>\n",
       "      <td>Monthly</td>\n",
       "      <td>House</td>\n",
       "      <td>1483.0</td>\n",
       "    </tr>\n",
       "    <tr>\n",
       "      <th>2</th>\n",
       "      <td>2</td>\n",
       "      <td>23.0</td>\n",
       "      <td>Male</td>\n",
       "      <td>25602.0</td>\n",
       "      <td>divorced</td>\n",
       "      <td>3.0</td>\n",
       "      <td>High School</td>\n",
       "      <td>Self-Employed</td>\n",
       "      <td>47.177549</td>\n",
       "      <td>Suburban</td>\n",
       "      <td>...</td>\n",
       "      <td>1.0</td>\n",
       "      <td>14.0</td>\n",
       "      <td>592.92435</td>\n",
       "      <td>3.0</td>\n",
       "      <td>2023-09-30 15:21:39.221386</td>\n",
       "      <td>Good</td>\n",
       "      <td>Yes</td>\n",
       "      <td>Weekly</td>\n",
       "      <td>House</td>\n",
       "      <td>567.0</td>\n",
       "    </tr>\n",
       "    <tr>\n",
       "      <th>3</th>\n",
       "      <td>3</td>\n",
       "      <td>21.0</td>\n",
       "      <td>Male</td>\n",
       "      <td>141855.0</td>\n",
       "      <td>married</td>\n",
       "      <td>2.0</td>\n",
       "      <td>Bachelor's</td>\n",
       "      <td>Unemployed</td>\n",
       "      <td>10.938144</td>\n",
       "      <td>Rural</td>\n",
       "      <td>...</td>\n",
       "      <td>1.0</td>\n",
       "      <td>0.0</td>\n",
       "      <td>367.00000</td>\n",
       "      <td>1.0</td>\n",
       "      <td>2024-06-12 15:21:39.226954</td>\n",
       "      <td>Poor</td>\n",
       "      <td>Yes</td>\n",
       "      <td>Daily</td>\n",
       "      <td>Apartment</td>\n",
       "      <td>765.0</td>\n",
       "    </tr>\n",
       "    <tr>\n",
       "      <th>4</th>\n",
       "      <td>4</td>\n",
       "      <td>21.0</td>\n",
       "      <td>Male</td>\n",
       "      <td>39651.0</td>\n",
       "      <td>single</td>\n",
       "      <td>1.0</td>\n",
       "      <td>Bachelor's</td>\n",
       "      <td>Self-Employed</td>\n",
       "      <td>20.376094</td>\n",
       "      <td>Rural</td>\n",
       "      <td>...</td>\n",
       "      <td>0.0</td>\n",
       "      <td>8.0</td>\n",
       "      <td>598.00000</td>\n",
       "      <td>4.0</td>\n",
       "      <td>2021-12-01 15:21:39.252145</td>\n",
       "      <td>Poor</td>\n",
       "      <td>Yes</td>\n",
       "      <td>Weekly</td>\n",
       "      <td>House</td>\n",
       "      <td>2022.0</td>\n",
       "    </tr>\n",
       "  </tbody>\n",
       "</table>\n",
       "<p>5 rows × 21 columns</p>\n",
       "</div>"
      ],
      "text/plain": [
       "   id   Age  Gender  Annual Income Marital Status  Number of Dependents  \\\n",
       "0   0  19.0  Female        10049.0        married                   1.0   \n",
       "1   1  39.0  Female        31678.0       divorced                   3.0   \n",
       "2   2  23.0    Male        25602.0       divorced                   3.0   \n",
       "3   3  21.0    Male       141855.0        married                   2.0   \n",
       "4   4  21.0    Male        39651.0         single                   1.0   \n",
       "\n",
       "  Education Level     Occupation  Health Score  Location  ... Previous Claims  \\\n",
       "0      Bachelor's  Self-Employed     22.598761     Urban  ...             2.0   \n",
       "1        Master's     Unemployed     15.569731     Rural  ...             1.0   \n",
       "2     High School  Self-Employed     47.177549  Suburban  ...             1.0   \n",
       "3      Bachelor's     Unemployed     10.938144     Rural  ...             1.0   \n",
       "4      Bachelor's  Self-Employed     20.376094     Rural  ...             0.0   \n",
       "\n",
       "   Vehicle Age  Credit Score  Insurance Duration           Policy Start Date  \\\n",
       "0         17.0     372.00000                 5.0  2023-12-23 15:21:39.134960   \n",
       "1         12.0     694.00000                 2.0  2023-06-12 15:21:39.111551   \n",
       "2         14.0     592.92435                 3.0  2023-09-30 15:21:39.221386   \n",
       "3          0.0     367.00000                 1.0  2024-06-12 15:21:39.226954   \n",
       "4          8.0     598.00000                 4.0  2021-12-01 15:21:39.252145   \n",
       "\n",
       "  Customer Feedback Smoking Status Exercise Frequency Property Type  \\\n",
       "0              Poor             No             Weekly         House   \n",
       "1           Average            Yes            Monthly         House   \n",
       "2              Good            Yes             Weekly         House   \n",
       "3              Poor            Yes              Daily     Apartment   \n",
       "4              Poor            Yes             Weekly         House   \n",
       "\n",
       "  Premium Amount  \n",
       "0         2869.0  \n",
       "1         1483.0  \n",
       "2          567.0  \n",
       "3          765.0  \n",
       "4         2022.0  \n",
       "\n",
       "[5 rows x 21 columns]"
      ]
     },
     "execution_count": 38,
     "metadata": {},
     "output_type": "execute_result"
    }
   ],
   "source": [
    "train_data.head()"
   ]
  },
  {
   "cell_type": "code",
   "execution_count": 39,
   "id": "3c441b1f",
   "metadata": {
    "execution": {
     "iopub.execute_input": "2024-12-09T16:08:25.236415Z",
     "iopub.status.busy": "2024-12-09T16:08:25.235898Z",
     "iopub.status.idle": "2024-12-09T16:08:25.953810Z",
     "shell.execute_reply": "2024-12-09T16:08:25.952612Z"
    },
    "papermill": {
     "duration": 0.735984,
     "end_time": "2024-12-09T16:08:25.956190",
     "exception": false,
     "start_time": "2024-12-09T16:08:25.220206",
     "status": "completed"
    },
    "tags": []
   },
   "outputs": [],
   "source": [
    "train_data['Policy Start Date'] = pd.to_datetime(train_data['Policy Start Date'])\n",
    "train_data['date'] = train_data['Policy Start Date'].dt.date\n"
   ]
  },
  {
   "cell_type": "code",
   "execution_count": 40,
   "id": "3ca76563",
   "metadata": {
    "execution": {
     "iopub.execute_input": "2024-12-09T16:08:25.988217Z",
     "iopub.status.busy": "2024-12-09T16:08:25.987765Z",
     "iopub.status.idle": "2024-12-09T16:08:26.227589Z",
     "shell.execute_reply": "2024-12-09T16:08:26.226297Z"
    },
    "papermill": {
     "duration": 0.258372,
     "end_time": "2024-12-09T16:08:26.230111",
     "exception": false,
     "start_time": "2024-12-09T16:08:25.971739",
     "status": "completed"
    },
    "tags": []
   },
   "outputs": [],
   "source": [
    "train_data = train_data.drop(\"Policy Start Date\", axis = 1)"
   ]
  },
  {
   "cell_type": "code",
   "execution_count": 41,
   "id": "d739db28",
   "metadata": {
    "execution": {
     "iopub.execute_input": "2024-12-09T16:08:26.261072Z",
     "iopub.status.busy": "2024-12-09T16:08:26.260668Z",
     "iopub.status.idle": "2024-12-09T16:08:26.746374Z",
     "shell.execute_reply": "2024-12-09T16:08:26.745236Z"
    },
    "papermill": {
     "duration": 0.503583,
     "end_time": "2024-12-09T16:08:26.748600",
     "exception": false,
     "start_time": "2024-12-09T16:08:26.245017",
     "status": "completed"
    },
    "tags": []
   },
   "outputs": [],
   "source": [
    "test_data['Policy Start Date'] = pd.to_datetime(test_data['Policy Start Date'])\n",
    "test_data['date'] = test_data['Policy Start Date'].dt.date\n"
   ]
  },
  {
   "cell_type": "code",
   "execution_count": 42,
   "id": "5d865e39",
   "metadata": {
    "execution": {
     "iopub.execute_input": "2024-12-09T16:08:26.779383Z",
     "iopub.status.busy": "2024-12-09T16:08:26.778985Z",
     "iopub.status.idle": "2024-12-09T16:08:26.991629Z",
     "shell.execute_reply": "2024-12-09T16:08:26.990603Z"
    },
    "papermill": {
     "duration": 0.230844,
     "end_time": "2024-12-09T16:08:26.994102",
     "exception": false,
     "start_time": "2024-12-09T16:08:26.763258",
     "status": "completed"
    },
    "tags": []
   },
   "outputs": [],
   "source": [
    "test_data = test_data.drop(\"Policy Start Date\", axis = 1)"
   ]
  },
  {
   "cell_type": "code",
   "execution_count": 43,
   "id": "7b89ad59",
   "metadata": {
    "execution": {
     "iopub.execute_input": "2024-12-09T16:08:27.025333Z",
     "iopub.status.busy": "2024-12-09T16:08:27.024496Z",
     "iopub.status.idle": "2024-12-09T16:08:28.451207Z",
     "shell.execute_reply": "2024-12-09T16:08:28.450110Z"
    },
    "papermill": {
     "duration": 1.444852,
     "end_time": "2024-12-09T16:08:28.453514",
     "exception": false,
     "start_time": "2024-12-09T16:08:27.008662",
     "status": "completed"
    },
    "tags": []
   },
   "outputs": [
    {
     "name": "stderr",
     "output_type": "stream",
     "text": [
      "/tmp/ipykernel_17/3765079498.py:1: FutureWarning: Downcasting behavior in `replace` is deprecated and will be removed in a future version. To retain the old behavior, explicitly call `result.infer_objects(copy=False)`. To opt-in to the future behavior, set `pd.set_option('future.no_silent_downcasting', True)`\n",
      "  train_data['Gender'] = train_data['Gender'].replace({\"Female\": 1, \"Male\" : 0})\n",
      "/tmp/ipykernel_17/3765079498.py:2: FutureWarning: Downcasting behavior in `replace` is deprecated and will be removed in a future version. To retain the old behavior, explicitly call `result.infer_objects(copy=False)`. To opt-in to the future behavior, set `pd.set_option('future.no_silent_downcasting', True)`\n",
      "  train_data['Smoking Status'] = train_data['Smoking Status'].replace({\"Yes\" : 1, \"No\": 0})\n",
      "/tmp/ipykernel_17/3765079498.py:3: FutureWarning: Downcasting behavior in `replace` is deprecated and will be removed in a future version. To retain the old behavior, explicitly call `result.infer_objects(copy=False)`. To opt-in to the future behavior, set `pd.set_option('future.no_silent_downcasting', True)`\n",
      "  test_data['Gender'] = test_data['Gender'].replace({\"Female\": 1, \"Male\" : 0})\n",
      "/tmp/ipykernel_17/3765079498.py:4: FutureWarning: Downcasting behavior in `replace` is deprecated and will be removed in a future version. To retain the old behavior, explicitly call `result.infer_objects(copy=False)`. To opt-in to the future behavior, set `pd.set_option('future.no_silent_downcasting', True)`\n",
      "  test_data['Smoking Status'] = test_data['Smoking Status'].replace({\"Yes\" : 1, \"No\": 0})\n"
     ]
    }
   ],
   "source": [
    "train_data['Gender'] = train_data['Gender'].replace({\"Female\": 1, \"Male\" : 0})\n",
    "train_data['Smoking Status'] = train_data['Smoking Status'].replace({\"Yes\" : 1, \"No\": 0})\n",
    "test_data['Gender'] = test_data['Gender'].replace({\"Female\": 1, \"Male\" : 0})\n",
    "test_data['Smoking Status'] = test_data['Smoking Status'].replace({\"Yes\" : 1, \"No\": 0})"
   ]
  },
  {
   "cell_type": "code",
   "execution_count": 44,
   "id": "a08e82c2",
   "metadata": {
    "execution": {
     "iopub.execute_input": "2024-12-09T16:08:28.484763Z",
     "iopub.status.busy": "2024-12-09T16:08:28.484367Z",
     "iopub.status.idle": "2024-12-09T16:08:28.495205Z",
     "shell.execute_reply": "2024-12-09T16:08:28.494352Z"
    },
    "papermill": {
     "duration": 0.029313,
     "end_time": "2024-12-09T16:08:28.497591",
     "exception": false,
     "start_time": "2024-12-09T16:08:28.468278",
     "status": "completed"
    },
    "tags": []
   },
   "outputs": [],
   "source": [
    " train_data['Vehicle Age'] = train_data['Vehicle Age'].fillna(0.0)"
   ]
  },
  {
   "cell_type": "code",
   "execution_count": 45,
   "id": "03627e56",
   "metadata": {
    "execution": {
     "iopub.execute_input": "2024-12-09T16:08:28.528671Z",
     "iopub.status.busy": "2024-12-09T16:08:28.528266Z",
     "iopub.status.idle": "2024-12-09T16:08:31.866880Z",
     "shell.execute_reply": "2024-12-09T16:08:31.865725Z"
    },
    "papermill": {
     "duration": 3.356922,
     "end_time": "2024-12-09T16:08:31.869305",
     "exception": false,
     "start_time": "2024-12-09T16:08:28.512383",
     "status": "completed"
    },
    "tags": []
   },
   "outputs": [],
   "source": [
    "lb = LabelEncoder()\n",
    "cat_cols = []  \n",
    "\n",
    "for col in train_data.columns:\n",
    "    if train_data[col].dtype == 'object':  \n",
    "        cat_cols.append(col)  \n",
    "        train_data[col] = lb.fit_transform(train_data[col])\n",
    "        test_data[col] = lb.transform(test_data[col])"
   ]
  },
  {
   "cell_type": "code",
   "execution_count": 46,
   "id": "c419e332",
   "metadata": {
    "execution": {
     "iopub.execute_input": "2024-12-09T16:08:31.900887Z",
     "iopub.status.busy": "2024-12-09T16:08:31.900474Z",
     "iopub.status.idle": "2024-12-09T16:08:32.209120Z",
     "shell.execute_reply": "2024-12-09T16:08:32.208195Z"
    },
    "papermill": {
     "duration": 0.327304,
     "end_time": "2024-12-09T16:08:32.211523",
     "exception": false,
     "start_time": "2024-12-09T16:08:31.884219",
     "status": "completed"
    },
    "tags": []
   },
   "outputs": [],
   "source": [
    "ip = train_data.copy()\n",
    "ip = ip.drop(\"Premium Amount\", axis = 1)"
   ]
  },
  {
   "cell_type": "code",
   "execution_count": 47,
   "id": "524e02e6",
   "metadata": {
    "execution": {
     "iopub.execute_input": "2024-12-09T16:08:32.243088Z",
     "iopub.status.busy": "2024-12-09T16:08:32.242685Z",
     "iopub.status.idle": "2024-12-09T16:08:32.759672Z",
     "shell.execute_reply": "2024-12-09T16:08:32.758684Z"
    },
    "papermill": {
     "duration": 0.535541,
     "end_time": "2024-12-09T16:08:32.762069",
     "exception": false,
     "start_time": "2024-12-09T16:08:32.226528",
     "status": "completed"
    },
    "tags": []
   },
   "outputs": [],
   "source": [
    "sc = MinMaxScaler()\n",
    "  \n",
    "for col in ip.columns:\n",
    "    if ip[col].dtype == 'int' or ip[col].dtype == 'float':  \n",
    "         \n",
    "        ip[col] = sc.fit_transform(ip[[col]])\n",
    "        test_data[col] = sc.transform(test_data[[col]])"
   ]
  },
  {
   "cell_type": "code",
   "execution_count": 48,
   "id": "9abf6b33",
   "metadata": {
    "execution": {
     "iopub.execute_input": "2024-12-09T16:08:32.793629Z",
     "iopub.status.busy": "2024-12-09T16:08:32.793223Z",
     "iopub.status.idle": "2024-12-09T16:08:33.340022Z",
     "shell.execute_reply": "2024-12-09T16:08:33.339015Z"
    },
    "papermill": {
     "duration": 0.565609,
     "end_time": "2024-12-09T16:08:33.342559",
     "exception": false,
     "start_time": "2024-12-09T16:08:32.776950",
     "status": "completed"
    },
    "tags": []
   },
   "outputs": [],
   "source": [
    "X_train, X_test, Y_train, Y_test = train_test_split(ip, train_data['Premium Amount'], test_size = 0.2, random_state = 45)"
   ]
  },
  {
   "cell_type": "code",
   "execution_count": 49,
   "id": "a9dd5b1f",
   "metadata": {
    "execution": {
     "iopub.execute_input": "2024-12-09T16:08:33.374511Z",
     "iopub.status.busy": "2024-12-09T16:08:33.374038Z",
     "iopub.status.idle": "2024-12-09T16:08:34.698225Z",
     "shell.execute_reply": "2024-12-09T16:08:34.697110Z"
    },
    "papermill": {
     "duration": 1.343417,
     "end_time": "2024-12-09T16:08:34.700881",
     "exception": false,
     "start_time": "2024-12-09T16:08:33.357464",
     "status": "completed"
    },
    "tags": []
   },
   "outputs": [
    {
     "data": {
      "text/html": [
       "<style>#sk-container-id-1 {color: black;background-color: white;}#sk-container-id-1 pre{padding: 0;}#sk-container-id-1 div.sk-toggleable {background-color: white;}#sk-container-id-1 label.sk-toggleable__label {cursor: pointer;display: block;width: 100%;margin-bottom: 0;padding: 0.3em;box-sizing: border-box;text-align: center;}#sk-container-id-1 label.sk-toggleable__label-arrow:before {content: \"▸\";float: left;margin-right: 0.25em;color: #696969;}#sk-container-id-1 label.sk-toggleable__label-arrow:hover:before {color: black;}#sk-container-id-1 div.sk-estimator:hover label.sk-toggleable__label-arrow:before {color: black;}#sk-container-id-1 div.sk-toggleable__content {max-height: 0;max-width: 0;overflow: hidden;text-align: left;background-color: #f0f8ff;}#sk-container-id-1 div.sk-toggleable__content pre {margin: 0.2em;color: black;border-radius: 0.25em;background-color: #f0f8ff;}#sk-container-id-1 input.sk-toggleable__control:checked~div.sk-toggleable__content {max-height: 200px;max-width: 100%;overflow: auto;}#sk-container-id-1 input.sk-toggleable__control:checked~label.sk-toggleable__label-arrow:before {content: \"▾\";}#sk-container-id-1 div.sk-estimator input.sk-toggleable__control:checked~label.sk-toggleable__label {background-color: #d4ebff;}#sk-container-id-1 div.sk-label input.sk-toggleable__control:checked~label.sk-toggleable__label {background-color: #d4ebff;}#sk-container-id-1 input.sk-hidden--visually {border: 0;clip: rect(1px 1px 1px 1px);clip: rect(1px, 1px, 1px, 1px);height: 1px;margin: -1px;overflow: hidden;padding: 0;position: absolute;width: 1px;}#sk-container-id-1 div.sk-estimator {font-family: monospace;background-color: #f0f8ff;border: 1px dotted black;border-radius: 0.25em;box-sizing: border-box;margin-bottom: 0.5em;}#sk-container-id-1 div.sk-estimator:hover {background-color: #d4ebff;}#sk-container-id-1 div.sk-parallel-item::after {content: \"\";width: 100%;border-bottom: 1px solid gray;flex-grow: 1;}#sk-container-id-1 div.sk-label:hover label.sk-toggleable__label {background-color: #d4ebff;}#sk-container-id-1 div.sk-serial::before {content: \"\";position: absolute;border-left: 1px solid gray;box-sizing: border-box;top: 0;bottom: 0;left: 50%;z-index: 0;}#sk-container-id-1 div.sk-serial {display: flex;flex-direction: column;align-items: center;background-color: white;padding-right: 0.2em;padding-left: 0.2em;position: relative;}#sk-container-id-1 div.sk-item {position: relative;z-index: 1;}#sk-container-id-1 div.sk-parallel {display: flex;align-items: stretch;justify-content: center;background-color: white;position: relative;}#sk-container-id-1 div.sk-item::before, #sk-container-id-1 div.sk-parallel-item::before {content: \"\";position: absolute;border-left: 1px solid gray;box-sizing: border-box;top: 0;bottom: 0;left: 50%;z-index: -1;}#sk-container-id-1 div.sk-parallel-item {display: flex;flex-direction: column;z-index: 1;position: relative;background-color: white;}#sk-container-id-1 div.sk-parallel-item:first-child::after {align-self: flex-end;width: 50%;}#sk-container-id-1 div.sk-parallel-item:last-child::after {align-self: flex-start;width: 50%;}#sk-container-id-1 div.sk-parallel-item:only-child::after {width: 0;}#sk-container-id-1 div.sk-dashed-wrapped {border: 1px dashed gray;margin: 0 0.4em 0.5em 0.4em;box-sizing: border-box;padding-bottom: 0.4em;background-color: white;}#sk-container-id-1 div.sk-label label {font-family: monospace;font-weight: bold;display: inline-block;line-height: 1.2em;}#sk-container-id-1 div.sk-label-container {text-align: center;}#sk-container-id-1 div.sk-container {/* jupyter's `normalize.less` sets `[hidden] { display: none; }` but bootstrap.min.css set `[hidden] { display: none !important; }` so we also need the `!important` here to be able to override the default hidden behavior on the sphinx rendered scikit-learn.org. See: https://github.com/scikit-learn/scikit-learn/issues/21755 */display: inline-block !important;position: relative;}#sk-container-id-1 div.sk-text-repr-fallback {display: none;}</style><div id=\"sk-container-id-1\" class=\"sk-top-container\"><div class=\"sk-text-repr-fallback\"><pre>LinearRegression()</pre><b>In a Jupyter environment, please rerun this cell to show the HTML representation or trust the notebook. <br />On GitHub, the HTML representation is unable to render, please try loading this page with nbviewer.org.</b></div><div class=\"sk-container\" hidden><div class=\"sk-item\"><div class=\"sk-estimator sk-toggleable\"><input class=\"sk-toggleable__control sk-hidden--visually\" id=\"sk-estimator-id-1\" type=\"checkbox\" checked><label for=\"sk-estimator-id-1\" class=\"sk-toggleable__label sk-toggleable__label-arrow\">LinearRegression</label><div class=\"sk-toggleable__content\"><pre>LinearRegression()</pre></div></div></div></div></div>"
      ],
      "text/plain": [
       "LinearRegression()"
      ]
     },
     "execution_count": 49,
     "metadata": {},
     "output_type": "execute_result"
    }
   ],
   "source": [
    "lr = LinearRegression()\n",
    "lr.fit(X_train, Y_train)"
   ]
  },
  {
   "cell_type": "code",
   "execution_count": 50,
   "id": "63a4a23c",
   "metadata": {
    "execution": {
     "iopub.execute_input": "2024-12-09T16:08:34.739096Z",
     "iopub.status.busy": "2024-12-09T16:08:34.738731Z",
     "iopub.status.idle": "2024-12-09T16:08:34.762792Z",
     "shell.execute_reply": "2024-12-09T16:08:34.761387Z"
    },
    "papermill": {
     "duration": 0.044424,
     "end_time": "2024-12-09T16:08:34.766784",
     "exception": false,
     "start_time": "2024-12-09T16:08:34.722360",
     "status": "completed"
    },
    "tags": []
   },
   "outputs": [],
   "source": [
    "y_pred = lr.predict(X_test)"
   ]
  },
  {
   "cell_type": "code",
   "execution_count": 51,
   "id": "d1f1a95b",
   "metadata": {
    "execution": {
     "iopub.execute_input": "2024-12-09T16:08:34.857083Z",
     "iopub.status.busy": "2024-12-09T16:08:34.856415Z",
     "iopub.status.idle": "2024-12-09T16:08:34.936473Z",
     "shell.execute_reply": "2024-12-09T16:08:34.935051Z"
    },
    "papermill": {
     "duration": 0.130601,
     "end_time": "2024-12-09T16:08:34.940978",
     "exception": false,
     "start_time": "2024-12-09T16:08:34.810377",
     "status": "completed"
    },
    "tags": []
   },
   "outputs": [],
   "source": [
    "y_pred_test_data = lr.predict(test_data)"
   ]
  },
  {
   "cell_type": "code",
   "execution_count": 52,
   "id": "2eed4fbc",
   "metadata": {
    "execution": {
     "iopub.execute_input": "2024-12-09T16:08:35.030390Z",
     "iopub.status.busy": "2024-12-09T16:08:35.029271Z",
     "iopub.status.idle": "2024-12-09T16:08:35.038132Z",
     "shell.execute_reply": "2024-12-09T16:08:35.036248Z"
    },
    "papermill": {
     "duration": 0.057628,
     "end_time": "2024-12-09T16:08:35.041610",
     "exception": false,
     "start_time": "2024-12-09T16:08:34.983982",
     "status": "completed"
    },
    "tags": []
   },
   "outputs": [],
   "source": [
    "def calculate_rmlse(y_true, y_pred):\n",
    "    log_true = np.log(y_true + 1)\n",
    "    log_pred = np.log(y_pred + 1)\n",
    "    rmlse = np.sqrt(np.mean((log_true - log_pred) ** 2))\n",
    "    return rmlse"
   ]
  },
  {
   "cell_type": "code",
   "execution_count": 53,
   "id": "3d2f8bb0",
   "metadata": {
    "execution": {
     "iopub.execute_input": "2024-12-09T16:08:35.081247Z",
     "iopub.status.busy": "2024-12-09T16:08:35.080859Z",
     "iopub.status.idle": "2024-12-09T16:08:35.094699Z",
     "shell.execute_reply": "2024-12-09T16:08:35.093364Z"
    },
    "papermill": {
     "duration": 0.032681,
     "end_time": "2024-12-09T16:08:35.096948",
     "exception": false,
     "start_time": "2024-12-09T16:08:35.064267",
     "status": "completed"
    },
    "tags": []
   },
   "outputs": [
    {
     "data": {
      "text/plain": [
       "1.1674289081391462"
      ]
     },
     "execution_count": 53,
     "metadata": {},
     "output_type": "execute_result"
    }
   ],
   "source": [
    "calculate_rmlse(Y_test, y_pred)"
   ]
  },
  {
   "cell_type": "code",
   "execution_count": 54,
   "id": "e4d4311a",
   "metadata": {
    "execution": {
     "iopub.execute_input": "2024-12-09T16:08:35.129728Z",
     "iopub.status.busy": "2024-12-09T16:08:35.129326Z",
     "iopub.status.idle": "2024-12-09T16:08:35.134398Z",
     "shell.execute_reply": "2024-12-09T16:08:35.133263Z"
    },
    "papermill": {
     "duration": 0.023754,
     "end_time": "2024-12-09T16:08:35.136439",
     "exception": false,
     "start_time": "2024-12-09T16:08:35.112685",
     "status": "completed"
    },
    "tags": []
   },
   "outputs": [],
   "source": [
    "dt = DecisionTreeRegressor(max_depth= 50,min_samples_leaf= 30,max_features=25,min_samples_split=15)"
   ]
  },
  {
   "cell_type": "code",
   "execution_count": 55,
   "id": "1d26a633",
   "metadata": {
    "execution": {
     "iopub.execute_input": "2024-12-09T16:08:35.168287Z",
     "iopub.status.busy": "2024-12-09T16:08:35.167876Z",
     "iopub.status.idle": "2024-12-09T16:08:56.390449Z",
     "shell.execute_reply": "2024-12-09T16:08:56.389264Z"
    },
    "papermill": {
     "duration": 21.241994,
     "end_time": "2024-12-09T16:08:56.393614",
     "exception": false,
     "start_time": "2024-12-09T16:08:35.151620",
     "status": "completed"
    },
    "tags": []
   },
   "outputs": [],
   "source": [
    "dt.fit(X_train, Y_train)\n",
    "dt_pred = dt.predict(X_test)"
   ]
  },
  {
   "cell_type": "code",
   "execution_count": 56,
   "id": "e7bdca8b",
   "metadata": {
    "execution": {
     "iopub.execute_input": "2024-12-09T16:08:56.426821Z",
     "iopub.status.busy": "2024-12-09T16:08:56.426420Z",
     "iopub.status.idle": "2024-12-09T16:08:56.716881Z",
     "shell.execute_reply": "2024-12-09T16:08:56.715684Z"
    },
    "papermill": {
     "duration": 0.309671,
     "end_time": "2024-12-09T16:08:56.719577",
     "exception": false,
     "start_time": "2024-12-09T16:08:56.409906",
     "status": "completed"
    },
    "tags": []
   },
   "outputs": [],
   "source": [
    "y_pred_test_data_dt = dt.predict(test_data)"
   ]
  },
  {
   "cell_type": "code",
   "execution_count": 57,
   "id": "42859b93",
   "metadata": {
    "execution": {
     "iopub.execute_input": "2024-12-09T16:08:56.751913Z",
     "iopub.status.busy": "2024-12-09T16:08:56.751520Z",
     "iopub.status.idle": "2024-12-09T16:08:56.765953Z",
     "shell.execute_reply": "2024-12-09T16:08:56.764858Z"
    },
    "papermill": {
     "duration": 0.033346,
     "end_time": "2024-12-09T16:08:56.768320",
     "exception": false,
     "start_time": "2024-12-09T16:08:56.734974",
     "status": "completed"
    },
    "tags": []
   },
   "outputs": [
    {
     "data": {
      "text/plain": [
       "1.1653843728005935"
      ]
     },
     "execution_count": 57,
     "metadata": {},
     "output_type": "execute_result"
    }
   ],
   "source": [
    "calculate_rmlse(Y_test, dt_pred)"
   ]
  },
  {
   "cell_type": "code",
   "execution_count": 58,
   "id": "4d947372",
   "metadata": {
    "execution": {
     "iopub.execute_input": "2024-12-09T16:08:56.800910Z",
     "iopub.status.busy": "2024-12-09T16:08:56.800509Z",
     "iopub.status.idle": "2024-12-09T16:08:56.805501Z",
     "shell.execute_reply": "2024-12-09T16:08:56.804415Z"
    },
    "papermill": {
     "duration": 0.023627,
     "end_time": "2024-12-09T16:08:56.807570",
     "exception": false,
     "start_time": "2024-12-09T16:08:56.783943",
     "status": "completed"
    },
    "tags": []
   },
   "outputs": [],
   "source": [
    "rt = RandomForestRegressor(n_estimators=30,max_depth= 20,max_samples= 20,min_samples_leaf= 15,max_features=25)"
   ]
  },
  {
   "cell_type": "code",
   "execution_count": 59,
   "id": "3182b39f",
   "metadata": {
    "execution": {
     "iopub.execute_input": "2024-12-09T16:08:56.840045Z",
     "iopub.status.busy": "2024-12-09T16:08:56.839622Z",
     "iopub.status.idle": "2024-12-09T16:08:57.213902Z",
     "shell.execute_reply": "2024-12-09T16:08:57.212957Z"
    },
    "papermill": {
     "duration": 0.39335,
     "end_time": "2024-12-09T16:08:57.216396",
     "exception": false,
     "start_time": "2024-12-09T16:08:56.823046",
     "status": "completed"
    },
    "tags": []
   },
   "outputs": [],
   "source": [
    "rt.fit(X_train, Y_train)\n",
    "rt_pred = rt.predict(X_test)"
   ]
  },
  {
   "cell_type": "code",
   "execution_count": 60,
   "id": "5c33e90d",
   "metadata": {
    "execution": {
     "iopub.execute_input": "2024-12-09T16:08:57.248617Z",
     "iopub.status.busy": "2024-12-09T16:08:57.248209Z",
     "iopub.status.idle": "2024-12-09T16:08:57.454634Z",
     "shell.execute_reply": "2024-12-09T16:08:57.453045Z"
    },
    "papermill": {
     "duration": 0.225642,
     "end_time": "2024-12-09T16:08:57.457268",
     "exception": false,
     "start_time": "2024-12-09T16:08:57.231626",
     "status": "completed"
    },
    "tags": []
   },
   "outputs": [],
   "source": [
    "y_pred_test_data_rt = rt.predict(test_data)"
   ]
  },
  {
   "cell_type": "code",
   "execution_count": 61,
   "id": "479b5418",
   "metadata": {
    "execution": {
     "iopub.execute_input": "2024-12-09T16:08:57.489746Z",
     "iopub.status.busy": "2024-12-09T16:08:57.489084Z",
     "iopub.status.idle": "2024-12-09T16:08:57.502518Z",
     "shell.execute_reply": "2024-12-09T16:08:57.501443Z"
    },
    "papermill": {
     "duration": 0.032121,
     "end_time": "2024-12-09T16:08:57.504680",
     "exception": false,
     "start_time": "2024-12-09T16:08:57.472559",
     "status": "completed"
    },
    "tags": []
   },
   "outputs": [
    {
     "data": {
      "text/plain": [
       "1.1856058040347388"
      ]
     },
     "execution_count": 61,
     "metadata": {},
     "output_type": "execute_result"
    }
   ],
   "source": [
    "calculate_rmlse(Y_test, rt_pred)"
   ]
  }
 ],
 "metadata": {
  "kaggle": {
   "accelerator": "none",
   "dataSources": [
    {
     "databundleVersionId": 10305135,
     "sourceId": 84896,
     "sourceType": "competition"
    }
   ],
   "dockerImageVersionId": 30786,
   "isGpuEnabled": false,
   "isInternetEnabled": true,
   "language": "python",
   "sourceType": "notebook"
  },
  "kernelspec": {
   "display_name": "Python 3",
   "language": "python",
   "name": "python3"
  },
  "language_info": {
   "codemirror_mode": {
    "name": "ipython",
    "version": 3
   },
   "file_extension": ".py",
   "mimetype": "text/x-python",
   "name": "python",
   "nbconvert_exporter": "python",
   "pygments_lexer": "ipython3",
   "version": "3.10.14"
  },
  "papermill": {
   "default_parameters": {},
   "duration": 98.432159,
   "end_time": "2024-12-09T16:08:58.443465",
   "environment_variables": {},
   "exception": null,
   "input_path": "__notebook__.ipynb",
   "output_path": "__notebook__.ipynb",
   "parameters": {},
   "start_time": "2024-12-09T16:07:20.011306",
   "version": "2.6.0"
  }
 },
 "nbformat": 4,
 "nbformat_minor": 5
}
