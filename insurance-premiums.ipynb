{
 "cells": [
  {
   "cell_type": "code",
   "execution_count": 1,
   "id": "824b21b4",
   "metadata": {
    "_cell_guid": "b1076dfc-b9ad-4769-8c92-a6c4dae69d19",
    "_uuid": "8f2839f25d086af736a60e9eeb907d3b93b6e0e5",
    "execution": {
     "iopub.execute_input": "2024-12-02T16:43:17.650571Z",
     "iopub.status.busy": "2024-12-02T16:43:17.650162Z",
     "iopub.status.idle": "2024-12-02T16:43:18.542183Z",
     "shell.execute_reply": "2024-12-02T16:43:18.541241Z"
    },
    "papermill": {
     "duration": 0.901961,
     "end_time": "2024-12-02T16:43:18.544584",
     "exception": false,
     "start_time": "2024-12-02T16:43:17.642623",
     "status": "completed"
    },
    "tags": []
   },
   "outputs": [
    {
     "name": "stdout",
     "output_type": "stream",
     "text": [
      "/kaggle/input/playground-series-s4e12/sample_submission.csv\n",
      "/kaggle/input/playground-series-s4e12/train.csv\n",
      "/kaggle/input/playground-series-s4e12/test.csv\n"
     ]
    }
   ],
   "source": [
    "# This Python 3 environment comes with many helpful analytics libraries installed\n",
    "# It is defined by the kaggle/python Docker image: https://github.com/kaggle/docker-python\n",
    "# For example, here's several helpful packages to load\n",
    "\n",
    "import numpy as np # linear algebra\n",
    "import pandas as pd # data processing, CSV file I/O (e.g. pd.read_csv)\n",
    "\n",
    "# Input data files are available in the read-only \"../input/\" directory\n",
    "# For example, running this (by clicking run or pressing Shift+Enter) will list all files under the input directory\n",
    "\n",
    "import os\n",
    "for dirname, _, filenames in os.walk('/kaggle/input'):\n",
    "    for filename in filenames:\n",
    "        print(os.path.join(dirname, filename))\n",
    "\n",
    "# You can write up to 20GB to the current directory (/kaggle/working/) that gets preserved as output when you create a version using \"Save & Run All\" \n",
    "# You can also write temporary files to /kaggle/temp/, but they won't be saved outside of the current session"
   ]
  },
  {
   "cell_type": "code",
   "execution_count": 2,
   "id": "eea5084b",
   "metadata": {
    "execution": {
     "iopub.execute_input": "2024-12-02T16:43:18.558264Z",
     "iopub.status.busy": "2024-12-02T16:43:18.557776Z",
     "iopub.status.idle": "2024-12-02T16:43:20.705920Z",
     "shell.execute_reply": "2024-12-02T16:43:20.704903Z"
    },
    "papermill": {
     "duration": 2.15732,
     "end_time": "2024-12-02T16:43:20.708283",
     "exception": false,
     "start_time": "2024-12-02T16:43:18.550963",
     "status": "completed"
    },
    "tags": []
   },
   "outputs": [],
   "source": [
    "import matplotlib.pyplot as plt\n",
    "import seaborn as sns\n",
    "from sklearn.preprocessing import StandardScaler, OneHotEncoder, LabelEncoder\n",
    "from sklearn.model_selection import train_test_split\n",
    "from sklearn.linear_model import LinearRegression\n",
    "from sklearn.tree import DecisionTreeRegressor\n",
    "from sklearn.ensemble import RandomForestRegressor, GradientBoostingRegressor"
   ]
  },
  {
   "cell_type": "code",
   "execution_count": 3,
   "id": "cf9b3901",
   "metadata": {
    "execution": {
     "iopub.execute_input": "2024-12-02T16:43:20.721364Z",
     "iopub.status.busy": "2024-12-02T16:43:20.720853Z",
     "iopub.status.idle": "2024-12-02T16:43:31.184205Z",
     "shell.execute_reply": "2024-12-02T16:43:31.183218Z"
    },
    "papermill": {
     "duration": 10.47273,
     "end_time": "2024-12-02T16:43:31.186790",
     "exception": false,
     "start_time": "2024-12-02T16:43:20.714060",
     "status": "completed"
    },
    "tags": []
   },
   "outputs": [],
   "source": [
    "train_data = pd.read_csv(\"/kaggle/input/playground-series-s4e12/train.csv\")\n",
    "\n",
    "test_data = pd.read_csv(\"/kaggle/input/playground-series-s4e12/test.csv\")"
   ]
  },
  {
   "cell_type": "code",
   "execution_count": 4,
   "id": "a1e4095d",
   "metadata": {
    "execution": {
     "iopub.execute_input": "2024-12-02T16:43:31.199693Z",
     "iopub.status.busy": "2024-12-02T16:43:31.199268Z",
     "iopub.status.idle": "2024-12-02T16:43:31.238003Z",
     "shell.execute_reply": "2024-12-02T16:43:31.236891Z"
    },
    "papermill": {
     "duration": 0.047618,
     "end_time": "2024-12-02T16:43:31.240146",
     "exception": false,
     "start_time": "2024-12-02T16:43:31.192528",
     "status": "completed"
    },
    "tags": []
   },
   "outputs": [
    {
     "data": {
      "text/html": [
       "<div>\n",
       "<style scoped>\n",
       "    .dataframe tbody tr th:only-of-type {\n",
       "        vertical-align: middle;\n",
       "    }\n",
       "\n",
       "    .dataframe tbody tr th {\n",
       "        vertical-align: top;\n",
       "    }\n",
       "\n",
       "    .dataframe thead th {\n",
       "        text-align: right;\n",
       "    }\n",
       "</style>\n",
       "<table border=\"1\" class=\"dataframe\">\n",
       "  <thead>\n",
       "    <tr style=\"text-align: right;\">\n",
       "      <th></th>\n",
       "      <th>id</th>\n",
       "      <th>Age</th>\n",
       "      <th>Gender</th>\n",
       "      <th>Annual Income</th>\n",
       "      <th>Marital Status</th>\n",
       "      <th>Number of Dependents</th>\n",
       "      <th>Education Level</th>\n",
       "      <th>Occupation</th>\n",
       "      <th>Health Score</th>\n",
       "      <th>Location</th>\n",
       "      <th>...</th>\n",
       "      <th>Previous Claims</th>\n",
       "      <th>Vehicle Age</th>\n",
       "      <th>Credit Score</th>\n",
       "      <th>Insurance Duration</th>\n",
       "      <th>Policy Start Date</th>\n",
       "      <th>Customer Feedback</th>\n",
       "      <th>Smoking Status</th>\n",
       "      <th>Exercise Frequency</th>\n",
       "      <th>Property Type</th>\n",
       "      <th>Premium Amount</th>\n",
       "    </tr>\n",
       "  </thead>\n",
       "  <tbody>\n",
       "    <tr>\n",
       "      <th>0</th>\n",
       "      <td>0</td>\n",
       "      <td>19.0</td>\n",
       "      <td>Female</td>\n",
       "      <td>10049.0</td>\n",
       "      <td>Married</td>\n",
       "      <td>1.0</td>\n",
       "      <td>Bachelor's</td>\n",
       "      <td>Self-Employed</td>\n",
       "      <td>22.598761</td>\n",
       "      <td>Urban</td>\n",
       "      <td>...</td>\n",
       "      <td>2.0</td>\n",
       "      <td>17.0</td>\n",
       "      <td>372.0</td>\n",
       "      <td>5.0</td>\n",
       "      <td>2023-12-23 15:21:39.134960</td>\n",
       "      <td>Poor</td>\n",
       "      <td>No</td>\n",
       "      <td>Weekly</td>\n",
       "      <td>House</td>\n",
       "      <td>2869.0</td>\n",
       "    </tr>\n",
       "    <tr>\n",
       "      <th>1</th>\n",
       "      <td>1</td>\n",
       "      <td>39.0</td>\n",
       "      <td>Female</td>\n",
       "      <td>31678.0</td>\n",
       "      <td>Divorced</td>\n",
       "      <td>3.0</td>\n",
       "      <td>Master's</td>\n",
       "      <td>NaN</td>\n",
       "      <td>15.569731</td>\n",
       "      <td>Rural</td>\n",
       "      <td>...</td>\n",
       "      <td>1.0</td>\n",
       "      <td>12.0</td>\n",
       "      <td>694.0</td>\n",
       "      <td>2.0</td>\n",
       "      <td>2023-06-12 15:21:39.111551</td>\n",
       "      <td>Average</td>\n",
       "      <td>Yes</td>\n",
       "      <td>Monthly</td>\n",
       "      <td>House</td>\n",
       "      <td>1483.0</td>\n",
       "    </tr>\n",
       "    <tr>\n",
       "      <th>2</th>\n",
       "      <td>2</td>\n",
       "      <td>23.0</td>\n",
       "      <td>Male</td>\n",
       "      <td>25602.0</td>\n",
       "      <td>Divorced</td>\n",
       "      <td>3.0</td>\n",
       "      <td>High School</td>\n",
       "      <td>Self-Employed</td>\n",
       "      <td>47.177549</td>\n",
       "      <td>Suburban</td>\n",
       "      <td>...</td>\n",
       "      <td>1.0</td>\n",
       "      <td>14.0</td>\n",
       "      <td>NaN</td>\n",
       "      <td>3.0</td>\n",
       "      <td>2023-09-30 15:21:39.221386</td>\n",
       "      <td>Good</td>\n",
       "      <td>Yes</td>\n",
       "      <td>Weekly</td>\n",
       "      <td>House</td>\n",
       "      <td>567.0</td>\n",
       "    </tr>\n",
       "    <tr>\n",
       "      <th>3</th>\n",
       "      <td>3</td>\n",
       "      <td>21.0</td>\n",
       "      <td>Male</td>\n",
       "      <td>141855.0</td>\n",
       "      <td>Married</td>\n",
       "      <td>2.0</td>\n",
       "      <td>Bachelor's</td>\n",
       "      <td>NaN</td>\n",
       "      <td>10.938144</td>\n",
       "      <td>Rural</td>\n",
       "      <td>...</td>\n",
       "      <td>1.0</td>\n",
       "      <td>0.0</td>\n",
       "      <td>367.0</td>\n",
       "      <td>1.0</td>\n",
       "      <td>2024-06-12 15:21:39.226954</td>\n",
       "      <td>Poor</td>\n",
       "      <td>Yes</td>\n",
       "      <td>Daily</td>\n",
       "      <td>Apartment</td>\n",
       "      <td>765.0</td>\n",
       "    </tr>\n",
       "    <tr>\n",
       "      <th>4</th>\n",
       "      <td>4</td>\n",
       "      <td>21.0</td>\n",
       "      <td>Male</td>\n",
       "      <td>39651.0</td>\n",
       "      <td>Single</td>\n",
       "      <td>1.0</td>\n",
       "      <td>Bachelor's</td>\n",
       "      <td>Self-Employed</td>\n",
       "      <td>20.376094</td>\n",
       "      <td>Rural</td>\n",
       "      <td>...</td>\n",
       "      <td>0.0</td>\n",
       "      <td>8.0</td>\n",
       "      <td>598.0</td>\n",
       "      <td>4.0</td>\n",
       "      <td>2021-12-01 15:21:39.252145</td>\n",
       "      <td>Poor</td>\n",
       "      <td>Yes</td>\n",
       "      <td>Weekly</td>\n",
       "      <td>House</td>\n",
       "      <td>2022.0</td>\n",
       "    </tr>\n",
       "  </tbody>\n",
       "</table>\n",
       "<p>5 rows × 21 columns</p>\n",
       "</div>"
      ],
      "text/plain": [
       "   id   Age  Gender  Annual Income Marital Status  Number of Dependents  \\\n",
       "0   0  19.0  Female        10049.0        Married                   1.0   \n",
       "1   1  39.0  Female        31678.0       Divorced                   3.0   \n",
       "2   2  23.0    Male        25602.0       Divorced                   3.0   \n",
       "3   3  21.0    Male       141855.0        Married                   2.0   \n",
       "4   4  21.0    Male        39651.0         Single                   1.0   \n",
       "\n",
       "  Education Level     Occupation  Health Score  Location  ... Previous Claims  \\\n",
       "0      Bachelor's  Self-Employed     22.598761     Urban  ...             2.0   \n",
       "1        Master's            NaN     15.569731     Rural  ...             1.0   \n",
       "2     High School  Self-Employed     47.177549  Suburban  ...             1.0   \n",
       "3      Bachelor's            NaN     10.938144     Rural  ...             1.0   \n",
       "4      Bachelor's  Self-Employed     20.376094     Rural  ...             0.0   \n",
       "\n",
       "   Vehicle Age  Credit Score  Insurance Duration           Policy Start Date  \\\n",
       "0         17.0         372.0                 5.0  2023-12-23 15:21:39.134960   \n",
       "1         12.0         694.0                 2.0  2023-06-12 15:21:39.111551   \n",
       "2         14.0           NaN                 3.0  2023-09-30 15:21:39.221386   \n",
       "3          0.0         367.0                 1.0  2024-06-12 15:21:39.226954   \n",
       "4          8.0         598.0                 4.0  2021-12-01 15:21:39.252145   \n",
       "\n",
       "  Customer Feedback Smoking Status Exercise Frequency Property Type  \\\n",
       "0              Poor             No             Weekly         House   \n",
       "1           Average            Yes            Monthly         House   \n",
       "2              Good            Yes             Weekly         House   \n",
       "3              Poor            Yes              Daily     Apartment   \n",
       "4              Poor            Yes             Weekly         House   \n",
       "\n",
       "  Premium Amount  \n",
       "0         2869.0  \n",
       "1         1483.0  \n",
       "2          567.0  \n",
       "3          765.0  \n",
       "4         2022.0  \n",
       "\n",
       "[5 rows x 21 columns]"
      ]
     },
     "execution_count": 4,
     "metadata": {},
     "output_type": "execute_result"
    }
   ],
   "source": [
    "train_data.head()"
   ]
  },
  {
   "cell_type": "code",
   "execution_count": 5,
   "id": "ff3207ba",
   "metadata": {
    "execution": {
     "iopub.execute_input": "2024-12-02T16:43:31.255146Z",
     "iopub.status.busy": "2024-12-02T16:43:31.254201Z",
     "iopub.status.idle": "2024-12-02T16:43:31.886651Z",
     "shell.execute_reply": "2024-12-02T16:43:31.885657Z"
    },
    "papermill": {
     "duration": 0.641618,
     "end_time": "2024-12-02T16:43:31.888753",
     "exception": false,
     "start_time": "2024-12-02T16:43:31.247135",
     "status": "completed"
    },
    "tags": []
   },
   "outputs": [
    {
     "data": {
      "text/plain": [
       "id                       0.000000\n",
       "Age                      1.558750\n",
       "Gender                   0.000000\n",
       "Annual Income            3.745750\n",
       "Marital Status           1.544083\n",
       "Number of Dependents     9.139333\n",
       "Education Level          0.000000\n",
       "Occupation              29.839583\n",
       "Health Score             6.173000\n",
       "Location                 0.000000\n",
       "Policy Type              0.000000\n",
       "Previous Claims         30.335750\n",
       "Vehicle Age              0.000500\n",
       "Credit Score            11.490167\n",
       "Insurance Duration       0.000083\n",
       "Policy Start Date        0.000000\n",
       "Customer Feedback        6.485333\n",
       "Smoking Status           0.000000\n",
       "Exercise Frequency       0.000000\n",
       "Property Type            0.000000\n",
       "Premium Amount           0.000000\n",
       "dtype: float64"
      ]
     },
     "execution_count": 5,
     "metadata": {},
     "output_type": "execute_result"
    }
   ],
   "source": [
    "train_data.isnull().sum()* 100 /len(train_data)"
   ]
  },
  {
   "cell_type": "code",
   "execution_count": 6,
   "id": "64f35b64",
   "metadata": {
    "execution": {
     "iopub.execute_input": "2024-12-02T16:43:31.901988Z",
     "iopub.status.busy": "2024-12-02T16:43:31.901623Z",
     "iopub.status.idle": "2024-12-02T16:43:32.324004Z",
     "shell.execute_reply": "2024-12-02T16:43:32.322987Z"
    },
    "papermill": {
     "duration": 0.431307,
     "end_time": "2024-12-02T16:43:32.325973",
     "exception": false,
     "start_time": "2024-12-02T16:43:31.894666",
     "status": "completed"
    },
    "tags": []
   },
   "outputs": [
    {
     "data": {
      "text/plain": [
       "id                       0.000000\n",
       "Age                      1.561125\n",
       "Gender                   0.000000\n",
       "Annual Income            3.732500\n",
       "Marital Status           1.542000\n",
       "Number of Dependents     9.141250\n",
       "Education Level          0.000000\n",
       "Occupation              29.890625\n",
       "Health Score             6.181125\n",
       "Location                 0.000000\n",
       "Policy Type              0.000000\n",
       "Previous Claims         30.350250\n",
       "Vehicle Age              0.000375\n",
       "Credit Score            11.431375\n",
       "Insurance Duration       0.000250\n",
       "Policy Start Date        0.000000\n",
       "Customer Feedback        6.534500\n",
       "Smoking Status           0.000000\n",
       "Exercise Frequency       0.000000\n",
       "Property Type            0.000000\n",
       "dtype: float64"
      ]
     },
     "execution_count": 6,
     "metadata": {},
     "output_type": "execute_result"
    }
   ],
   "source": [
    "test_data.isnull().sum() / len(test_data) * 100"
   ]
  },
  {
   "cell_type": "markdown",
   "id": "8fc3543d",
   "metadata": {
    "papermill": {
     "duration": 0.005917,
     "end_time": "2024-12-02T16:43:32.337905",
     "exception": false,
     "start_time": "2024-12-02T16:43:32.331988",
     "status": "completed"
    },
    "tags": []
   },
   "source": [
    "## EDA"
   ]
  },
  {
   "cell_type": "code",
   "execution_count": 7,
   "id": "39edb7f1",
   "metadata": {
    "execution": {
     "iopub.execute_input": "2024-12-02T16:43:32.351848Z",
     "iopub.status.busy": "2024-12-02T16:43:32.350993Z",
     "iopub.status.idle": "2024-12-02T16:43:32.635988Z",
     "shell.execute_reply": "2024-12-02T16:43:32.634969Z"
    },
    "papermill": {
     "duration": 0.294267,
     "end_time": "2024-12-02T16:43:32.638205",
     "exception": false,
     "start_time": "2024-12-02T16:43:32.343938",
     "status": "completed"
    },
    "tags": []
   },
   "outputs": [
    {
     "data": {
      "image/png": "[encoded data removed]",
      "text/plain": [
       "<Figure size 640x480 with 1 Axes>"
      ]
     },
     "metadata": {},
     "output_type": "display_data"
    }
   ],
   "source": [
    "plt.hist(train_data['Annual Income'], bins = 5)\n",
    "plt.show()"
   ]
  },
  {
   "cell_type": "code",
   "execution_count": 8,
   "id": "b0a67c90",
   "metadata": {
    "execution": {
     "iopub.execute_input": "2024-12-02T16:43:32.652654Z",
     "iopub.status.busy": "2024-12-02T16:43:32.652251Z",
     "iopub.status.idle": "2024-12-02T16:43:35.372973Z",
     "shell.execute_reply": "2024-12-02T16:43:35.371962Z"
    },
    "papermill": {
     "duration": 2.730601,
     "end_time": "2024-12-02T16:43:35.375326",
     "exception": false,
     "start_time": "2024-12-02T16:43:32.644725",
     "status": "completed"
    },
    "tags": []
   },
   "outputs": [
    {
     "data": {
      "image/png": "[encoded data removed]",
      "text/plain": [
       "<Figure size 640x480 with 1 Axes>"
      ]
     },
     "metadata": {},
     "output_type": "display_data"
    }
   ],
   "source": [
    "plt.scatter(train_data['Premium Amount'], train_data['Annual Income'])\n",
    "plt.show()"
   ]
  },
  {
   "cell_type": "code",
   "execution_count": 9,
   "id": "3d79e55f",
   "metadata": {
    "execution": {
     "iopub.execute_input": "2024-12-02T16:43:35.390752Z",
     "iopub.status.busy": "2024-12-02T16:43:35.389998Z",
     "iopub.status.idle": "2024-12-02T16:43:55.586323Z",
     "shell.execute_reply": "2024-12-02T16:43:55.585222Z"
    },
    "papermill": {
     "duration": 20.206158,
     "end_time": "2024-12-02T16:43:55.588280",
     "exception": false,
     "start_time": "2024-12-02T16:43:35.382122",
     "status": "completed"
    },
    "tags": []
   },
   "outputs": [
    {
     "data": {
      "image/png": "[encoded data removed]",
      "text/plain": [
       "<Figure size 640x480 with 1 Axes>"
      ]
     },
     "metadata": {},
     "output_type": "display_data"
    }
   ],
   "source": [
    "sns.barplot(data = train_data, x = 'Gender', y= 'Annual Income')\n",
    "plt.show()"
   ]
  },
  {
   "cell_type": "code",
   "execution_count": 10,
   "id": "0ecf9ab0",
   "metadata": {
    "execution": {
     "iopub.execute_input": "2024-12-02T16:43:55.604836Z",
     "iopub.status.busy": "2024-12-02T16:43:55.603720Z",
     "iopub.status.idle": "2024-12-02T16:43:57.188675Z",
     "shell.execute_reply": "2024-12-02T16:43:57.187626Z"
    },
    "papermill": {
     "duration": 1.595332,
     "end_time": "2024-12-02T16:43:57.190761",
     "exception": false,
     "start_time": "2024-12-02T16:43:55.595429",
     "status": "completed"
    },
    "tags": []
   },
   "outputs": [
    {
     "data": {
      "image/png": "[encoded data removed]",
      "text/plain": [
       "<Figure size 640x480 with 1 Axes>"
      ]
     },
     "metadata": {},
     "output_type": "display_data"
    }
   ],
   "source": [
    "sns.countplot(data=train_data, x='Gender', hue='Marital Status')\n",
    "plt.title(\"Count of Gender with Marital Status\")\n",
    "plt.show()"
   ]
  },
  {
   "cell_type": "code",
   "execution_count": 11,
   "id": "946d6a37",
   "metadata": {
    "execution": {
     "iopub.execute_input": "2024-12-02T16:43:57.208217Z",
     "iopub.status.busy": "2024-12-02T16:43:57.207299Z",
     "iopub.status.idle": "2024-12-02T16:43:57.426083Z",
     "shell.execute_reply": "2024-12-02T16:43:57.425029Z"
    },
    "papermill": {
     "duration": 0.229768,
     "end_time": "2024-12-02T16:43:57.428171",
     "exception": false,
     "start_time": "2024-12-02T16:43:57.198403",
     "status": "completed"
    },
    "tags": []
   },
   "outputs": [
    {
     "data": {
      "image/png": "[encoded data removed]",
      "text/plain": [
       "<Figure size 640x480 with 1 Axes>"
      ]
     },
     "metadata": {},
     "output_type": "display_data"
    }
   ],
   "source": [
    "sns.boxplot(data = train_data, x= 'Age')\n",
    "plt.show()"
   ]
  },
  {
   "cell_type": "code",
   "execution_count": 12,
   "id": "17525f37",
   "metadata": {
    "execution": {
     "iopub.execute_input": "2024-12-02T16:43:57.445544Z",
     "iopub.status.busy": "2024-12-02T16:43:57.445119Z",
     "iopub.status.idle": "2024-12-02T16:44:05.434850Z",
     "shell.execute_reply": "2024-12-02T16:44:05.433750Z"
    },
    "papermill": {
     "duration": 8.001021,
     "end_time": "2024-12-02T16:44:05.436980",
     "exception": false,
     "start_time": "2024-12-02T16:43:57.435959",
     "status": "completed"
    },
    "tags": []
   },
   "outputs": [
    {
     "name": "stderr",
     "output_type": "stream",
     "text": [
      "/opt/conda/lib/python3.10/site-packages/seaborn/_oldcore.py:1119: FutureWarning: use_inf_as_na option is deprecated and will be removed in a future version. Convert inf values to NaN before operating instead.\n",
      "  with pd.option_context('mode.use_inf_as_na', True):\n",
      "/opt/conda/lib/python3.10/site-packages/seaborn/_oldcore.py:1119: FutureWarning: use_inf_as_na option is deprecated and will be removed in a future version. Convert inf values to NaN before operating instead.\n",
      "  with pd.option_context('mode.use_inf_as_na', True):\n",
      "/opt/conda/lib/python3.10/site-packages/seaborn/_oldcore.py:1075: FutureWarning: When grouping with a length-1 list-like, you will need to pass a length-1 tuple to get_group in a future version of pandas. Pass `(name,)` instead of `name` to silence this warning.\n",
      "  data_subset = grouped_data.get_group(pd_key)\n",
      "/opt/conda/lib/python3.10/site-packages/seaborn/_oldcore.py:1075: FutureWarning: When grouping with a length-1 list-like, you will need to pass a length-1 tuple to get_group in a future version of pandas. Pass `(name,)` instead of `name` to silence this warning.\n",
      "  data_subset = grouped_data.get_group(pd_key)\n"
     ]
    },
    {
     "data": {
      "image/png": "[encoded data removed]",
      "text/plain": [
       "<Figure size 640x480 with 1 Axes>"
      ]
     },
     "metadata": {},
     "output_type": "display_data"
    }
   ],
   "source": [
    "sns.lineplot(data = train_data, x = 'Occupation', y = 'Number of Dependents', hue = 'Gender')\n",
    "plt.show()"
   ]
  },
  {
   "cell_type": "code",
   "execution_count": 13,
   "id": "c6d8fc92",
   "metadata": {
    "execution": {
     "iopub.execute_input": "2024-12-02T16:44:05.457360Z",
     "iopub.status.busy": "2024-12-02T16:44:05.456553Z",
     "iopub.status.idle": "2024-12-02T16:44:06.115648Z",
     "shell.execute_reply": "2024-12-02T16:44:06.114358Z"
    },
    "papermill": {
     "duration": 0.672476,
     "end_time": "2024-12-02T16:44:06.118929",
     "exception": false,
     "start_time": "2024-12-02T16:44:05.446453",
     "status": "completed"
    },
    "tags": []
   },
   "outputs": [
    {
     "data": {
      "text/plain": [
       "id                           0\n",
       "Age                      18705\n",
       "Gender                       0\n",
       "Annual Income            44949\n",
       "Marital Status           18529\n",
       "Number of Dependents    109672\n",
       "Education Level              0\n",
       "Occupation              358075\n",
       "Health Score             74076\n",
       "Location                     0\n",
       "Policy Type                  0\n",
       "Previous Claims         364029\n",
       "Vehicle Age                  6\n",
       "Credit Score            137882\n",
       "Insurance Duration           1\n",
       "Policy Start Date            0\n",
       "Customer Feedback        77824\n",
       "Smoking Status               0\n",
       "Exercise Frequency           0\n",
       "Property Type                0\n",
       "Premium Amount               0\n",
       "dtype: int64"
      ]
     },
     "execution_count": 13,
     "metadata": {},
     "output_type": "execute_result"
    }
   ],
   "source": [
    "train_data.isnull().sum()"
   ]
  },
  {
   "cell_type": "code",
   "execution_count": 14,
   "id": "b10b9d04",
   "metadata": {
    "execution": {
     "iopub.execute_input": "2024-12-02T16:44:06.140210Z",
     "iopub.status.busy": "2024-12-02T16:44:06.139243Z",
     "iopub.status.idle": "2024-12-02T16:44:06.301942Z",
     "shell.execute_reply": "2024-12-02T16:44:06.300768Z"
    },
    "papermill": {
     "duration": 0.175437,
     "end_time": "2024-12-02T16:44:06.304291",
     "exception": false,
     "start_time": "2024-12-02T16:44:06.128854",
     "status": "completed"
    },
    "tags": []
   },
   "outputs": [],
   "source": [
    "train_data.loc[(train_data['Education Level'] == 'High School') & (train_data['Occupation'].isna()), 'Occupation'] = 'Unemployed'"
   ]
  },
  {
   "cell_type": "code",
   "execution_count": 15,
   "id": "7a058dba",
   "metadata": {
    "execution": {
     "iopub.execute_input": "2024-12-02T16:44:06.323781Z",
     "iopub.status.busy": "2024-12-02T16:44:06.323410Z",
     "iopub.status.idle": "2024-12-02T16:44:06.397828Z",
     "shell.execute_reply": "2024-12-02T16:44:06.396718Z"
    },
    "papermill": {
     "duration": 0.087011,
     "end_time": "2024-12-02T16:44:06.400262",
     "exception": false,
     "start_time": "2024-12-02T16:44:06.313251",
     "status": "completed"
    },
    "tags": []
   },
   "outputs": [],
   "source": [
    "train_data.loc[((train_data['Age'] > 50) | (train_data['Age'] < 21)) & train_data['Occupation'].isna(), 'Occupation'] = 'Unemployed'"
   ]
  },
  {
   "cell_type": "code",
   "execution_count": 16,
   "id": "66d144aa",
   "metadata": {
    "execution": {
     "iopub.execute_input": "2024-12-02T16:44:06.420193Z",
     "iopub.status.busy": "2024-12-02T16:44:06.419830Z",
     "iopub.status.idle": "2024-12-02T16:44:06.504602Z",
     "shell.execute_reply": "2024-12-02T16:44:06.503674Z"
    },
    "papermill": {
     "duration": 0.097398,
     "end_time": "2024-12-02T16:44:06.506872",
     "exception": false,
     "start_time": "2024-12-02T16:44:06.409474",
     "status": "completed"
    },
    "tags": []
   },
   "outputs": [],
   "source": [
    "train_data['Occupation'] = train_data['Occupation'].fillna('Unemployed')"
   ]
  },
  {
   "cell_type": "code",
   "execution_count": 17,
   "id": "3c491126",
   "metadata": {
    "execution": {
     "iopub.execute_input": "2024-12-02T16:44:06.526896Z",
     "iopub.status.busy": "2024-12-02T16:44:06.525885Z",
     "iopub.status.idle": "2024-12-02T16:44:06.635199Z",
     "shell.execute_reply": "2024-12-02T16:44:06.634132Z"
    },
    "papermill": {
     "duration": 0.121799,
     "end_time": "2024-12-02T16:44:06.637561",
     "exception": false,
     "start_time": "2024-12-02T16:44:06.515762",
     "status": "completed"
    },
    "tags": []
   },
   "outputs": [],
   "source": [
    "train_data.loc[(train_data['Previous Claims'].isnull()) & (train_data['Occupation'] == 'Unemployed'), 'Previous Claims'] = 0.0"
   ]
  },
  {
   "cell_type": "code",
   "execution_count": 18,
   "id": "8a16a8d6",
   "metadata": {
    "execution": {
     "iopub.execute_input": "2024-12-02T16:44:06.657125Z",
     "iopub.status.busy": "2024-12-02T16:44:06.656748Z",
     "iopub.status.idle": "2024-12-02T16:44:06.668063Z",
     "shell.execute_reply": "2024-12-02T16:44:06.667060Z"
    },
    "papermill": {
     "duration": 0.023996,
     "end_time": "2024-12-02T16:44:06.670394",
     "exception": false,
     "start_time": "2024-12-02T16:44:06.646398",
     "status": "completed"
    },
    "tags": []
   },
   "outputs": [],
   "source": [
    "train_data.loc[(train_data['Previous Claims'].isnull()) & (train_data['Annual Income'] > 50000), 'Previous Claims'] = 0.0"
   ]
  },
  {
   "cell_type": "code",
   "execution_count": 19,
   "id": "3e5d9cc1",
   "metadata": {
    "execution": {
     "iopub.execute_input": "2024-12-02T16:44:06.690823Z",
     "iopub.status.busy": "2024-12-02T16:44:06.690430Z",
     "iopub.status.idle": "2024-12-02T16:44:06.793113Z",
     "shell.execute_reply": "2024-12-02T16:44:06.792244Z"
    },
    "papermill": {
     "duration": 0.115438,
     "end_time": "2024-12-02T16:44:06.795379",
     "exception": false,
     "start_time": "2024-12-02T16:44:06.679941",
     "status": "completed"
    },
    "tags": []
   },
   "outputs": [],
   "source": [
    "train_data.loc[(train_data['Previous Claims'].isnull()) & (train_data['Education Level'] ==  'High School'), 'Previous Claims'] = 0.0"
   ]
  },
  {
   "cell_type": "code",
   "execution_count": 20,
   "id": "77427c87",
   "metadata": {
    "execution": {
     "iopub.execute_input": "2024-12-02T16:44:06.815467Z",
     "iopub.status.busy": "2024-12-02T16:44:06.815051Z",
     "iopub.status.idle": "2024-12-02T16:44:06.826434Z",
     "shell.execute_reply": "2024-12-02T16:44:06.825620Z"
    },
    "papermill": {
     "duration": 0.024224,
     "end_time": "2024-12-02T16:44:06.828806",
     "exception": false,
     "start_time": "2024-12-02T16:44:06.804582",
     "status": "completed"
    },
    "tags": []
   },
   "outputs": [],
   "source": [
    "train_data['Previous Claims'] = train_data['Previous Claims'].fillna(np.random.randint(0.0, 9.0))"
   ]
  },
  {
   "cell_type": "code",
   "execution_count": 21,
   "id": "4634d328",
   "metadata": {
    "execution": {
     "iopub.execute_input": "2024-12-02T16:44:06.848245Z",
     "iopub.status.busy": "2024-12-02T16:44:06.847850Z",
     "iopub.status.idle": "2024-12-02T16:44:06.952548Z",
     "shell.execute_reply": "2024-12-02T16:44:06.951501Z"
    },
    "papermill": {
     "duration": 0.117314,
     "end_time": "2024-12-02T16:44:06.955084",
     "exception": false,
     "start_time": "2024-12-02T16:44:06.837770",
     "status": "completed"
    },
    "tags": []
   },
   "outputs": [],
   "source": [
    "train_data.loc[(train_data['Number of Dependents'].isnull()) & (train_data['Marital Status'] == 'Single'),'Number of Dependents']= 0.0"
   ]
  },
  {
   "cell_type": "code",
   "execution_count": 22,
   "id": "4ce538f7",
   "metadata": {
    "execution": {
     "iopub.execute_input": "2024-12-02T16:44:06.974422Z",
     "iopub.status.busy": "2024-12-02T16:44:06.974013Z",
     "iopub.status.idle": "2024-12-02T16:44:06.998841Z",
     "shell.execute_reply": "2024-12-02T16:44:06.997649Z"
    },
    "papermill": {
     "duration": 0.036895,
     "end_time": "2024-12-02T16:44:07.000971",
     "exception": false,
     "start_time": "2024-12-02T16:44:06.964076",
     "status": "completed"
    },
    "tags": []
   },
   "outputs": [
    {
     "data": {
      "text/plain": [
       "Number of Dependents\n",
       "0.0    253911\n",
       "3.0    221475\n",
       "4.0    220340\n",
       "2.0    215313\n",
       "1.0    215076\n",
       "Name: count, dtype: int64"
      ]
     },
     "execution_count": 22,
     "metadata": {},
     "output_type": "execute_result"
    }
   ],
   "source": [
    "train_data['Number of Dependents'].value_counts()"
   ]
  },
  {
   "cell_type": "code",
   "execution_count": 23,
   "id": "c2022d46",
   "metadata": {
    "execution": {
     "iopub.execute_input": "2024-12-02T16:44:07.020360Z",
     "iopub.status.busy": "2024-12-02T16:44:07.019939Z",
     "iopub.status.idle": "2024-12-02T16:44:08.070557Z",
     "shell.execute_reply": "2024-12-02T16:44:08.069409Z"
    },
    "papermill": {
     "duration": 1.063338,
     "end_time": "2024-12-02T16:44:08.073197",
     "exception": false,
     "start_time": "2024-12-02T16:44:07.009859",
     "status": "completed"
    },
    "tags": []
   },
   "outputs": [],
   "source": [
    "train_data['Number of Dependents'] = train_data['Number of Dependents'].apply(lambda x: np.random.uniform(0.0, 5.0) if pd.isna(x) else x\n",
    ")"
   ]
  },
  {
   "cell_type": "code",
   "execution_count": 24,
   "id": "0828b8dd",
   "metadata": {
    "execution": {
     "iopub.execute_input": "2024-12-02T16:44:08.094208Z",
     "iopub.status.busy": "2024-12-02T16:44:08.093787Z",
     "iopub.status.idle": "2024-12-02T16:44:08.112258Z",
     "shell.execute_reply": "2024-12-02T16:44:08.111064Z"
    },
    "papermill": {
     "duration": 0.031087,
     "end_time": "2024-12-02T16:44:08.114680",
     "exception": false,
     "start_time": "2024-12-02T16:44:08.083593",
     "status": "completed"
    },
    "tags": []
   },
   "outputs": [],
   "source": [
    "train_data['Annual Income'] = train_data['Annual Income'].fillna(np.mean(train_data['Annual Income']))"
   ]
  },
  {
   "cell_type": "code",
   "execution_count": 25,
   "id": "01897fae",
   "metadata": {
    "execution": {
     "iopub.execute_input": "2024-12-02T16:44:08.135944Z",
     "iopub.status.busy": "2024-12-02T16:44:08.134963Z",
     "iopub.status.idle": "2024-12-02T16:44:08.140387Z",
     "shell.execute_reply": "2024-12-02T16:44:08.139273Z"
    },
    "papermill": {
     "duration": 0.018528,
     "end_time": "2024-12-02T16:44:08.142613",
     "exception": false,
     "start_time": "2024-12-02T16:44:08.124085",
     "status": "completed"
    },
    "tags": []
   },
   "outputs": [],
   "source": [
    "total_feedback = 377905 + 375518 + 368753\n",
    "\n",
    "probabilities = {\n",
    "    'Average': 377905 / total_feedback,\n",
    "    'Poor': 375518 / total_feedback,\n",
    "    'Good': 368753 / total_feedback\n",
    "}"
   ]
  },
  {
   "cell_type": "code",
   "execution_count": 26,
   "id": "31f55983",
   "metadata": {
    "execution": {
     "iopub.execute_input": "2024-12-02T16:44:08.163130Z",
     "iopub.status.busy": "2024-12-02T16:44:08.162279Z",
     "iopub.status.idle": "2024-12-02T16:44:10.496795Z",
     "shell.execute_reply": "2024-12-02T16:44:10.495932Z"
    },
    "papermill": {
     "duration": 2.347305,
     "end_time": "2024-12-02T16:44:10.499094",
     "exception": false,
     "start_time": "2024-12-02T16:44:08.151789",
     "status": "completed"
    },
    "tags": []
   },
   "outputs": [],
   "source": [
    "train_data['Customer Feedback'] = train_data['Customer Feedback'].apply(\n",
    "    lambda x: np.random.choice(['Average', 'Poor', 'Good'], p=[probabilities['Average'], probabilities['Poor'], probabilities['Good']]) \n",
    "    if pd.isna(x) else x\n",
    ")"
   ]
  },
  {
   "cell_type": "code",
   "execution_count": null,
   "id": "b4167101",
   "metadata": {
    "papermill": {
     "duration": 0.00945,
     "end_time": "2024-12-02T16:44:10.517739",
     "exception": false,
     "start_time": "2024-12-02T16:44:10.508289",
     "status": "completed"
    },
    "tags": []
   },
   "outputs": [],
   "source": []
  }
 ],
 "metadata": {
  "kaggle": {
   "accelerator": "none",
   "dataSources": [
    {
     "databundleVersionId": 10305135,
     "sourceId": 84896,
     "sourceType": "competition"
    }
   ],
   "dockerImageVersionId": 30786,
   "isGpuEnabled": false,
   "isInternetEnabled": true,
   "language": "python",
   "sourceType": "notebook"
  },
  "kernelspec": {
   "display_name": "Python 3",
   "language": "python",
   "name": "python3"
  },
  "language_info": {
   "codemirror_mode": {
    "name": "ipython",
    "version": 3
   },
   "file_extension": ".py",
   "mimetype": "text/x-python",
   "name": "python",
   "nbconvert_exporter": "python",
   "pygments_lexer": "ipython3",
   "version": "3.10.14"
  },
  "papermill": {
   "default_parameters": {},
   "duration": 56.43926,
   "end_time": "2024-12-02T16:44:11.350339",
   "environment_variables": {},
   "exception": null,
   "input_path": "__notebook__.ipynb",
   "output_path": "__notebook__.ipynb",
   "parameters": {},
   "start_time": "2024-12-02T16:43:14.911079",
   "version": "2.6.0"
  }
 },
 "nbformat": 4,
 "nbformat_minor": 5
}
