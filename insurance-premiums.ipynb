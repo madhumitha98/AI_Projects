{
 "cells": [
  {
   "cell_type": "code",
   "execution_count": 1,
   "id": "4813bb4a",
   "metadata": {
    "_cell_guid": "b1076dfc-b9ad-4769-8c92-a6c4dae69d19",
    "_uuid": "8f2839f25d086af736a60e9eeb907d3b93b6e0e5",
    "execution": {
     "iopub.execute_input": "2024-12-01T10:54:58.789355Z",
     "iopub.status.busy": "2024-12-01T10:54:58.788974Z",
     "iopub.status.idle": "2024-12-01T10:54:59.811145Z",
     "shell.execute_reply": "2024-12-01T10:54:59.809893Z"
    },
    "papermill": {
     "duration": 1.028875,
     "end_time": "2024-12-01T10:54:59.813384",
     "exception": false,
     "start_time": "2024-12-01T10:54:58.784509",
     "status": "completed"
    },
    "tags": []
   },
   "outputs": [
    {
     "name": "stdout",
     "output_type": "stream",
     "text": [
      "/kaggle/input/playground-series-s4e12/sample_submission.csv\n",
      "/kaggle/input/playground-series-s4e12/train.csv\n",
      "/kaggle/input/playground-series-s4e12/test.csv\n"
     ]
    }
   ],
   "source": [
    "# This Python 3 environment comes with many helpful analytics libraries installed\n",
    "# It is defined by the kaggle/python Docker image: https://github.com/kaggle/docker-python\n",
    "# For example, here's several helpful packages to load\n",
    "\n",
    "import numpy as np # linear algebra\n",
    "import pandas as pd # data processing, CSV file I/O (e.g. pd.read_csv)\n",
    "\n",
    "# Input data files are available in the read-only \"../input/\" directory\n",
    "# For example, running this (by clicking run or pressing Shift+Enter) will list all files under the input directory\n",
    "\n",
    "import os\n",
    "for dirname, _, filenames in os.walk('/kaggle/input'):\n",
    "    for filename in filenames:\n",
    "        print(os.path.join(dirname, filename))\n",
    "\n",
    "# You can write up to 20GB to the current directory (/kaggle/working/) that gets preserved as output when you create a version using \"Save & Run All\" \n",
    "# You can also write temporary files to /kaggle/temp/, but they won't be saved outside of the current session"
   ]
  },
  {
   "cell_type": "code",
   "execution_count": 2,
   "id": "68a5a7ae",
   "metadata": {
    "execution": {
     "iopub.execute_input": "2024-12-01T10:54:59.821538Z",
     "iopub.status.busy": "2024-12-01T10:54:59.820465Z",
     "iopub.status.idle": "2024-12-01T10:55:02.336455Z",
     "shell.execute_reply": "2024-12-01T10:55:02.335290Z"
    },
    "papermill": {
     "duration": 2.522379,
     "end_time": "2024-12-01T10:55:02.339098",
     "exception": false,
     "start_time": "2024-12-01T10:54:59.816719",
     "status": "completed"
    },
    "tags": []
   },
   "outputs": [],
   "source": [
    "import matplotlib.pyplot as plt\n",
    "import seaborn as sns\n",
    "from sklearn.preprocessing import StandardScaler, OneHotEncoder, LabelEncoder\n",
    "from sklearn.model_selection import train_test_split\n",
    "from sklearn.linear_model import LinearRegression\n",
    "from sklearn.tree import DecisionTreeRegressor\n",
    "from sklearn.ensemble import RandomForestRegressor, GradientBoostingRegressor"
   ]
  },
  {
   "cell_type": "code",
   "execution_count": 3,
   "id": "0303d14a",
   "metadata": {
    "execution": {
     "iopub.execute_input": "2024-12-01T10:55:02.346053Z",
     "iopub.status.busy": "2024-12-01T10:55:02.345451Z",
     "iopub.status.idle": "2024-12-01T10:55:12.655907Z",
     "shell.execute_reply": "2024-12-01T10:55:12.655020Z"
    },
    "papermill": {
     "duration": 10.316627,
     "end_time": "2024-12-01T10:55:12.658391",
     "exception": false,
     "start_time": "2024-12-01T10:55:02.341764",
     "status": "completed"
    },
    "tags": []
   },
   "outputs": [],
   "source": [
    "train_data = pd.read_csv(\"/kaggle/input/playground-series-s4e12/train.csv\")\n",
    "\n",
    "test_data = pd.read_csv(\"/kaggle/input/playground-series-s4e12/test.csv\")"
   ]
  },
  {
   "cell_type": "code",
   "execution_count": 4,
   "id": "ced715ea",
   "metadata": {
    "execution": {
     "iopub.execute_input": "2024-12-01T10:55:12.665632Z",
     "iopub.status.busy": "2024-12-01T10:55:12.664836Z",
     "iopub.status.idle": "2024-12-01T10:55:12.705390Z",
     "shell.execute_reply": "2024-12-01T10:55:12.704331Z"
    },
    "papermill": {
     "duration": 0.046091,
     "end_time": "2024-12-01T10:55:12.707295",
     "exception": false,
     "start_time": "2024-12-01T10:55:12.661204",
     "status": "completed"
    },
    "tags": []
   },
   "outputs": [
    {
     "data": {
      "text/html": [
       "<div>\n",
       "<style scoped>\n",
       "    .dataframe tbody tr th:only-of-type {\n",
       "        vertical-align: middle;\n",
       "    }\n",
       "\n",
       "    .dataframe tbody tr th {\n",
       "        vertical-align: top;\n",
       "    }\n",
       "\n",
       "    .dataframe thead th {\n",
       "        text-align: right;\n",
       "    }\n",
       "</style>\n",
       "<table border=\"1\" class=\"dataframe\">\n",
       "  <thead>\n",
       "    <tr style=\"text-align: right;\">\n",
       "      <th></th>\n",
       "      <th>id</th>\n",
       "      <th>Age</th>\n",
       "      <th>Gender</th>\n",
       "      <th>Annual Income</th>\n",
       "      <th>Marital Status</th>\n",
       "      <th>Number of Dependents</th>\n",
       "      <th>Education Level</th>\n",
       "      <th>Occupation</th>\n",
       "      <th>Health Score</th>\n",
       "      <th>Location</th>\n",
       "      <th>...</th>\n",
       "      <th>Previous Claims</th>\n",
       "      <th>Vehicle Age</th>\n",
       "      <th>Credit Score</th>\n",
       "      <th>Insurance Duration</th>\n",
       "      <th>Policy Start Date</th>\n",
       "      <th>Customer Feedback</th>\n",
       "      <th>Smoking Status</th>\n",
       "      <th>Exercise Frequency</th>\n",
       "      <th>Property Type</th>\n",
       "      <th>Premium Amount</th>\n",
       "    </tr>\n",
       "  </thead>\n",
       "  <tbody>\n",
       "    <tr>\n",
       "      <th>0</th>\n",
       "      <td>0</td>\n",
       "      <td>19.0</td>\n",
       "      <td>Female</td>\n",
       "      <td>10049.0</td>\n",
       "      <td>Married</td>\n",
       "      <td>1.0</td>\n",
       "      <td>Bachelor's</td>\n",
       "      <td>Self-Employed</td>\n",
       "      <td>22.598761</td>\n",
       "      <td>Urban</td>\n",
       "      <td>...</td>\n",
       "      <td>2.0</td>\n",
       "      <td>17.0</td>\n",
       "      <td>372.0</td>\n",
       "      <td>5.0</td>\n",
       "      <td>2023-12-23 15:21:39.134960</td>\n",
       "      <td>Poor</td>\n",
       "      <td>No</td>\n",
       "      <td>Weekly</td>\n",
       "      <td>House</td>\n",
       "      <td>2869.0</td>\n",
       "    </tr>\n",
       "    <tr>\n",
       "      <th>1</th>\n",
       "      <td>1</td>\n",
       "      <td>39.0</td>\n",
       "      <td>Female</td>\n",
       "      <td>31678.0</td>\n",
       "      <td>Divorced</td>\n",
       "      <td>3.0</td>\n",
       "      <td>Master's</td>\n",
       "      <td>NaN</td>\n",
       "      <td>15.569731</td>\n",
       "      <td>Rural</td>\n",
       "      <td>...</td>\n",
       "      <td>1.0</td>\n",
       "      <td>12.0</td>\n",
       "      <td>694.0</td>\n",
       "      <td>2.0</td>\n",
       "      <td>2023-06-12 15:21:39.111551</td>\n",
       "      <td>Average</td>\n",
       "      <td>Yes</td>\n",
       "      <td>Monthly</td>\n",
       "      <td>House</td>\n",
       "      <td>1483.0</td>\n",
       "    </tr>\n",
       "    <tr>\n",
       "      <th>2</th>\n",
       "      <td>2</td>\n",
       "      <td>23.0</td>\n",
       "      <td>Male</td>\n",
       "      <td>25602.0</td>\n",
       "      <td>Divorced</td>\n",
       "      <td>3.0</td>\n",
       "      <td>High School</td>\n",
       "      <td>Self-Employed</td>\n",
       "      <td>47.177549</td>\n",
       "      <td>Suburban</td>\n",
       "      <td>...</td>\n",
       "      <td>1.0</td>\n",
       "      <td>14.0</td>\n",
       "      <td>NaN</td>\n",
       "      <td>3.0</td>\n",
       "      <td>2023-09-30 15:21:39.221386</td>\n",
       "      <td>Good</td>\n",
       "      <td>Yes</td>\n",
       "      <td>Weekly</td>\n",
       "      <td>House</td>\n",
       "      <td>567.0</td>\n",
       "    </tr>\n",
       "    <tr>\n",
       "      <th>3</th>\n",
       "      <td>3</td>\n",
       "      <td>21.0</td>\n",
       "      <td>Male</td>\n",
       "      <td>141855.0</td>\n",
       "      <td>Married</td>\n",
       "      <td>2.0</td>\n",
       "      <td>Bachelor's</td>\n",
       "      <td>NaN</td>\n",
       "      <td>10.938144</td>\n",
       "      <td>Rural</td>\n",
       "      <td>...</td>\n",
       "      <td>1.0</td>\n",
       "      <td>0.0</td>\n",
       "      <td>367.0</td>\n",
       "      <td>1.0</td>\n",
       "      <td>2024-06-12 15:21:39.226954</td>\n",
       "      <td>Poor</td>\n",
       "      <td>Yes</td>\n",
       "      <td>Daily</td>\n",
       "      <td>Apartment</td>\n",
       "      <td>765.0</td>\n",
       "    </tr>\n",
       "    <tr>\n",
       "      <th>4</th>\n",
       "      <td>4</td>\n",
       "      <td>21.0</td>\n",
       "      <td>Male</td>\n",
       "      <td>39651.0</td>\n",
       "      <td>Single</td>\n",
       "      <td>1.0</td>\n",
       "      <td>Bachelor's</td>\n",
       "      <td>Self-Employed</td>\n",
       "      <td>20.376094</td>\n",
       "      <td>Rural</td>\n",
       "      <td>...</td>\n",
       "      <td>0.0</td>\n",
       "      <td>8.0</td>\n",
       "      <td>598.0</td>\n",
       "      <td>4.0</td>\n",
       "      <td>2021-12-01 15:21:39.252145</td>\n",
       "      <td>Poor</td>\n",
       "      <td>Yes</td>\n",
       "      <td>Weekly</td>\n",
       "      <td>House</td>\n",
       "      <td>2022.0</td>\n",
       "    </tr>\n",
       "  </tbody>\n",
       "</table>\n",
       "<p>5 rows × 21 columns</p>\n",
       "</div>"
      ],
      "text/plain": [
       "   id   Age  Gender  Annual Income Marital Status  Number of Dependents  \\\n",
       "0   0  19.0  Female        10049.0        Married                   1.0   \n",
       "1   1  39.0  Female        31678.0       Divorced                   3.0   \n",
       "2   2  23.0    Male        25602.0       Divorced                   3.0   \n",
       "3   3  21.0    Male       141855.0        Married                   2.0   \n",
       "4   4  21.0    Male        39651.0         Single                   1.0   \n",
       "\n",
       "  Education Level     Occupation  Health Score  Location  ... Previous Claims  \\\n",
       "0      Bachelor's  Self-Employed     22.598761     Urban  ...             2.0   \n",
       "1        Master's            NaN     15.569731     Rural  ...             1.0   \n",
       "2     High School  Self-Employed     47.177549  Suburban  ...             1.0   \n",
       "3      Bachelor's            NaN     10.938144     Rural  ...             1.0   \n",
       "4      Bachelor's  Self-Employed     20.376094     Rural  ...             0.0   \n",
       "\n",
       "   Vehicle Age  Credit Score  Insurance Duration           Policy Start Date  \\\n",
       "0         17.0         372.0                 5.0  2023-12-23 15:21:39.134960   \n",
       "1         12.0         694.0                 2.0  2023-06-12 15:21:39.111551   \n",
       "2         14.0           NaN                 3.0  2023-09-30 15:21:39.221386   \n",
       "3          0.0         367.0                 1.0  2024-06-12 15:21:39.226954   \n",
       "4          8.0         598.0                 4.0  2021-12-01 15:21:39.252145   \n",
       "\n",
       "  Customer Feedback Smoking Status Exercise Frequency Property Type  \\\n",
       "0              Poor             No             Weekly         House   \n",
       "1           Average            Yes            Monthly         House   \n",
       "2              Good            Yes             Weekly         House   \n",
       "3              Poor            Yes              Daily     Apartment   \n",
       "4              Poor            Yes             Weekly         House   \n",
       "\n",
       "  Premium Amount  \n",
       "0         2869.0  \n",
       "1         1483.0  \n",
       "2          567.0  \n",
       "3          765.0  \n",
       "4         2022.0  \n",
       "\n",
       "[5 rows x 21 columns]"
      ]
     },
     "execution_count": 4,
     "metadata": {},
     "output_type": "execute_result"
    }
   ],
   "source": [
    "train_data.head()"
   ]
  },
  {
   "cell_type": "code",
   "execution_count": 5,
   "id": "b6a7251e",
   "metadata": {
    "execution": {
     "iopub.execute_input": "2024-12-01T10:55:12.714739Z",
     "iopub.status.busy": "2024-12-01T10:55:12.713928Z",
     "iopub.status.idle": "2024-12-01T10:55:13.347396Z",
     "shell.execute_reply": "2024-12-01T10:55:13.346394Z"
    },
    "papermill": {
     "duration": 0.639278,
     "end_time": "2024-12-01T10:55:13.349536",
     "exception": false,
     "start_time": "2024-12-01T10:55:12.710258",
     "status": "completed"
    },
    "tags": []
   },
   "outputs": [
    {
     "data": {
      "text/plain": [
       "id                       0.000000\n",
       "Age                      1.558750\n",
       "Gender                   0.000000\n",
       "Annual Income            3.745750\n",
       "Marital Status           1.544083\n",
       "Number of Dependents     9.139333\n",
       "Education Level          0.000000\n",
       "Occupation              29.839583\n",
       "Health Score             6.173000\n",
       "Location                 0.000000\n",
       "Policy Type              0.000000\n",
       "Previous Claims         30.335750\n",
       "Vehicle Age              0.000500\n",
       "Credit Score            11.490167\n",
       "Insurance Duration       0.000083\n",
       "Policy Start Date        0.000000\n",
       "Customer Feedback        6.485333\n",
       "Smoking Status           0.000000\n",
       "Exercise Frequency       0.000000\n",
       "Property Type            0.000000\n",
       "Premium Amount           0.000000\n",
       "dtype: float64"
      ]
     },
     "execution_count": 5,
     "metadata": {},
     "output_type": "execute_result"
    }
   ],
   "source": [
    "train_data.isnull().sum()* 100 /len(train_data)"
   ]
  },
  {
   "cell_type": "code",
   "execution_count": 6,
   "id": "7b9d5f2e",
   "metadata": {
    "execution": {
     "iopub.execute_input": "2024-12-01T10:55:13.356982Z",
     "iopub.status.busy": "2024-12-01T10:55:13.356555Z",
     "iopub.status.idle": "2024-12-01T10:55:13.779473Z",
     "shell.execute_reply": "2024-12-01T10:55:13.778408Z"
    },
    "papermill": {
     "duration": 0.4292,
     "end_time": "2024-12-01T10:55:13.781738",
     "exception": false,
     "start_time": "2024-12-01T10:55:13.352538",
     "status": "completed"
    },
    "tags": []
   },
   "outputs": [
    {
     "data": {
      "text/plain": [
       "id                       0.000000\n",
       "Age                      1.561125\n",
       "Gender                   0.000000\n",
       "Annual Income            3.732500\n",
       "Marital Status           1.542000\n",
       "Number of Dependents     9.141250\n",
       "Education Level          0.000000\n",
       "Occupation              29.890625\n",
       "Health Score             6.181125\n",
       "Location                 0.000000\n",
       "Policy Type              0.000000\n",
       "Previous Claims         30.350250\n",
       "Vehicle Age              0.000375\n",
       "Credit Score            11.431375\n",
       "Insurance Duration       0.000250\n",
       "Policy Start Date        0.000000\n",
       "Customer Feedback        6.534500\n",
       "Smoking Status           0.000000\n",
       "Exercise Frequency       0.000000\n",
       "Property Type            0.000000\n",
       "dtype: float64"
      ]
     },
     "execution_count": 6,
     "metadata": {},
     "output_type": "execute_result"
    }
   ],
   "source": [
    "test_data.isnull().sum() / len(test_data) * 100"
   ]
  },
  {
   "cell_type": "markdown",
   "id": "37be26e3",
   "metadata": {
    "papermill": {
     "duration": 0.002763,
     "end_time": "2024-12-01T10:55:13.787561",
     "exception": false,
     "start_time": "2024-12-01T10:55:13.784798",
     "status": "completed"
    },
    "tags": []
   },
   "source": [
    "## Perform EDA on both Train and Test data"
   ]
  },
  {
   "cell_type": "code",
   "execution_count": 7,
   "id": "05997e03",
   "metadata": {
    "execution": {
     "iopub.execute_input": "2024-12-01T10:55:13.794976Z",
     "iopub.status.busy": "2024-12-01T10:55:13.794574Z",
     "iopub.status.idle": "2024-12-01T10:55:14.065929Z",
     "shell.execute_reply": "2024-12-01T10:55:14.064921Z"
    },
    "papermill": {
     "duration": 0.277915,
     "end_time": "2024-12-01T10:55:14.068461",
     "exception": false,
     "start_time": "2024-12-01T10:55:13.790546",
     "status": "completed"
    },
    "tags": []
   },
   "outputs": [
    {
     "data": {
      "image/png": "[encoded data removed]",
      "text/plain": [
       "<Figure size 640x480 with 1 Axes>"
      ]
     },
     "metadata": {},
     "output_type": "display_data"
    }
   ],
   "source": [
    "plt.hist(train_data['Annual Income'], bins = 5)\n",
    "plt.show()"
   ]
  }
 ],
 "metadata": {
  "kaggle": {
   "accelerator": "none",
   "dataSources": [
    {
     "databundleVersionId": 10305135,
     "sourceId": 84896,
     "sourceType": "competition"
    }
   ],
   "dockerImageVersionId": 30786,
   "isGpuEnabled": false,
   "isInternetEnabled": true,
   "language": "python",
   "sourceType": "notebook"
  },
  "kernelspec": {
   "display_name": "Python 3",
   "language": "python",
   "name": "python3"
  },
  "language_info": {
   "codemirror_mode": {
    "name": "ipython",
    "version": 3
   },
   "file_extension": ".py",
   "mimetype": "text/x-python",
   "name": "python",
   "nbconvert_exporter": "python",
   "pygments_lexer": "ipython3",
   "version": "3.10.14"
  },
  "papermill": {
   "default_parameters": {},
   "duration": 18.782409,
   "end_time": "2024-12-01T10:55:14.793834",
   "environment_variables": {},
   "exception": null,
   "input_path": "__notebook__.ipynb",
   "output_path": "__notebook__.ipynb",
   "parameters": {},
   "start_time": "2024-12-01T10:54:56.011425",
   "version": "2.6.0"
  }
 },
 "nbformat": 4,
 "nbformat_minor": 5
}
