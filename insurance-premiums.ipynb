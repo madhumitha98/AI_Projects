{
 "cells": [
  {
   "cell_type": "code",
   "execution_count": 1,
   "id": "51aa98f1",
   "metadata": {
    "_cell_guid": "b1076dfc-b9ad-4769-8c92-a6c4dae69d19",
    "_uuid": "8f2839f25d086af736a60e9eeb907d3b93b6e0e5",
    "execution": {
     "iopub.execute_input": "2024-12-08T16:52:01.462659Z",
     "iopub.status.busy": "2024-12-08T16:52:01.462215Z",
     "iopub.status.idle": "2024-12-08T16:52:02.473209Z",
     "shell.execute_reply": "2024-12-08T16:52:02.472005Z"
    },
    "papermill": {
     "duration": 1.025926,
     "end_time": "2024-12-08T16:52:02.475640",
     "exception": false,
     "start_time": "2024-12-08T16:52:01.449714",
     "status": "completed"
    },
    "tags": []
   },
   "outputs": [
    {
     "name": "stdout",
     "output_type": "stream",
     "text": [
      "/kaggle/input/playground-series-s4e12/sample_submission.csv\n",
      "/kaggle/input/playground-series-s4e12/train.csv\n",
      "/kaggle/input/playground-series-s4e12/test.csv\n"
     ]
    }
   ],
   "source": [
    "# This Python 3 environment comes with many helpful analytics libraries installed\n",
    "# It is defined by the kaggle/python Docker image: https://github.com/kaggle/docker-python\n",
    "# For example, here's several helpful packages to load\n",
    "\n",
    "import numpy as np # linear algebra\n",
    "import pandas as pd # data processing, CSV file I/O (e.g. pd.read_csv)\n",
    "\n",
    "# Input data files are available in the read-only \"../input/\" directory\n",
    "# For example, running this (by clicking run or pressing Shift+Enter) will list all files under the input directory\n",
    "\n",
    "import os\n",
    "for dirname, _, filenames in os.walk('/kaggle/input'):\n",
    "    for filename in filenames:\n",
    "        print(os.path.join(dirname, filename))\n",
    "\n",
    "# You can write up to 20GB to the current directory (/kaggle/working/) that gets preserved as output when you create a version using \"Save & Run All\" \n",
    "# You can also write temporary files to /kaggle/temp/, but they won't be saved outside of the current session"
   ]
  },
  {
   "cell_type": "code",
   "execution_count": 2,
   "id": "b3e3c07c",
   "metadata": {
    "execution": {
     "iopub.execute_input": "2024-12-08T16:52:02.498622Z",
     "iopub.status.busy": "2024-12-08T16:52:02.498109Z",
     "iopub.status.idle": "2024-12-08T16:52:05.426874Z",
     "shell.execute_reply": "2024-12-08T16:52:05.425881Z"
    },
    "papermill": {
     "duration": 2.943638,
     "end_time": "2024-12-08T16:52:05.429433",
     "exception": false,
     "start_time": "2024-12-08T16:52:02.485795",
     "status": "completed"
    },
    "tags": []
   },
   "outputs": [],
   "source": [
    "import matplotlib.pyplot as plt\n",
    "import seaborn as sns\n",
    "from sklearn.preprocessing import MinMaxScaler, OneHotEncoder, LabelEncoder\n",
    "from sklearn.model_selection import train_test_split\n",
    "from sklearn.linear_model import LinearRegression\n",
    "from sklearn.tree import DecisionTreeRegressor\n",
    "from sklearn.ensemble import RandomForestRegressor, GradientBoostingRegressor\n",
    "from catboost import CatBoostRegressor\n",
    "from sklearn.metrics import mean_squared_error"
   ]
  },
  {
   "cell_type": "code",
   "execution_count": 3,
   "id": "fcc25c3c",
   "metadata": {
    "execution": {
     "iopub.execute_input": "2024-12-08T16:52:05.453123Z",
     "iopub.status.busy": "2024-12-08T16:52:05.452013Z",
     "iopub.status.idle": "2024-12-08T16:52:16.543143Z",
     "shell.execute_reply": "2024-12-08T16:52:16.541868Z"
    },
    "papermill": {
     "duration": 11.105783,
     "end_time": "2024-12-08T16:52:16.545959",
     "exception": false,
     "start_time": "2024-12-08T16:52:05.440176",
     "status": "completed"
    },
    "tags": []
   },
   "outputs": [],
   "source": [
    "train_data = pd.read_csv(\"/kaggle/input/playground-series-s4e12/train.csv\")\n",
    "\n",
    "test_data = pd.read_csv(\"/kaggle/input/playground-series-s4e12/test.csv\")"
   ]
  },
  {
   "cell_type": "code",
   "execution_count": 4,
   "id": "cea135d1",
   "metadata": {
    "execution": {
     "iopub.execute_input": "2024-12-08T16:52:16.567520Z",
     "iopub.status.busy": "2024-12-08T16:52:16.567151Z",
     "iopub.status.idle": "2024-12-08T16:52:16.610497Z",
     "shell.execute_reply": "2024-12-08T16:52:16.609170Z"
    },
    "papermill": {
     "duration": 0.057302,
     "end_time": "2024-12-08T16:52:16.613325",
     "exception": false,
     "start_time": "2024-12-08T16:52:16.556023",
     "status": "completed"
    },
    "tags": []
   },
   "outputs": [
    {
     "data": {
      "text/html": [
       "<div>\n",
       "<style scoped>\n",
       "    .dataframe tbody tr th:only-of-type {\n",
       "        vertical-align: middle;\n",
       "    }\n",
       "\n",
       "    .dataframe tbody tr th {\n",
       "        vertical-align: top;\n",
       "    }\n",
       "\n",
       "    .dataframe thead th {\n",
       "        text-align: right;\n",
       "    }\n",
       "</style>\n",
       "<table border=\"1\" class=\"dataframe\">\n",
       "  <thead>\n",
       "    <tr style=\"text-align: right;\">\n",
       "      <th></th>\n",
       "      <th>id</th>\n",
       "      <th>Age</th>\n",
       "      <th>Gender</th>\n",
       "      <th>Annual Income</th>\n",
       "      <th>Marital Status</th>\n",
       "      <th>Number of Dependents</th>\n",
       "      <th>Education Level</th>\n",
       "      <th>Occupation</th>\n",
       "      <th>Health Score</th>\n",
       "      <th>Location</th>\n",
       "      <th>...</th>\n",
       "      <th>Previous Claims</th>\n",
       "      <th>Vehicle Age</th>\n",
       "      <th>Credit Score</th>\n",
       "      <th>Insurance Duration</th>\n",
       "      <th>Policy Start Date</th>\n",
       "      <th>Customer Feedback</th>\n",
       "      <th>Smoking Status</th>\n",
       "      <th>Exercise Frequency</th>\n",
       "      <th>Property Type</th>\n",
       "      <th>Premium Amount</th>\n",
       "    </tr>\n",
       "  </thead>\n",
       "  <tbody>\n",
       "    <tr>\n",
       "      <th>0</th>\n",
       "      <td>0</td>\n",
       "      <td>19.0</td>\n",
       "      <td>Female</td>\n",
       "      <td>10049.0</td>\n",
       "      <td>Married</td>\n",
       "      <td>1.0</td>\n",
       "      <td>Bachelor's</td>\n",
       "      <td>Self-Employed</td>\n",
       "      <td>22.598761</td>\n",
       "      <td>Urban</td>\n",
       "      <td>...</td>\n",
       "      <td>2.0</td>\n",
       "      <td>17.0</td>\n",
       "      <td>372.0</td>\n",
       "      <td>5.0</td>\n",
       "      <td>2023-12-23 15:21:39.134960</td>\n",
       "      <td>Poor</td>\n",
       "      <td>No</td>\n",
       "      <td>Weekly</td>\n",
       "      <td>House</td>\n",
       "      <td>2869.0</td>\n",
       "    </tr>\n",
       "    <tr>\n",
       "      <th>1</th>\n",
       "      <td>1</td>\n",
       "      <td>39.0</td>\n",
       "      <td>Female</td>\n",
       "      <td>31678.0</td>\n",
       "      <td>Divorced</td>\n",
       "      <td>3.0</td>\n",
       "      <td>Master's</td>\n",
       "      <td>NaN</td>\n",
       "      <td>15.569731</td>\n",
       "      <td>Rural</td>\n",
       "      <td>...</td>\n",
       "      <td>1.0</td>\n",
       "      <td>12.0</td>\n",
       "      <td>694.0</td>\n",
       "      <td>2.0</td>\n",
       "      <td>2023-06-12 15:21:39.111551</td>\n",
       "      <td>Average</td>\n",
       "      <td>Yes</td>\n",
       "      <td>Monthly</td>\n",
       "      <td>House</td>\n",
       "      <td>1483.0</td>\n",
       "    </tr>\n",
       "    <tr>\n",
       "      <th>2</th>\n",
       "      <td>2</td>\n",
       "      <td>23.0</td>\n",
       "      <td>Male</td>\n",
       "      <td>25602.0</td>\n",
       "      <td>Divorced</td>\n",
       "      <td>3.0</td>\n",
       "      <td>High School</td>\n",
       "      <td>Self-Employed</td>\n",
       "      <td>47.177549</td>\n",
       "      <td>Suburban</td>\n",
       "      <td>...</td>\n",
       "      <td>1.0</td>\n",
       "      <td>14.0</td>\n",
       "      <td>NaN</td>\n",
       "      <td>3.0</td>\n",
       "      <td>2023-09-30 15:21:39.221386</td>\n",
       "      <td>Good</td>\n",
       "      <td>Yes</td>\n",
       "      <td>Weekly</td>\n",
       "      <td>House</td>\n",
       "      <td>567.0</td>\n",
       "    </tr>\n",
       "    <tr>\n",
       "      <th>3</th>\n",
       "      <td>3</td>\n",
       "      <td>21.0</td>\n",
       "      <td>Male</td>\n",
       "      <td>141855.0</td>\n",
       "      <td>Married</td>\n",
       "      <td>2.0</td>\n",
       "      <td>Bachelor's</td>\n",
       "      <td>NaN</td>\n",
       "      <td>10.938144</td>\n",
       "      <td>Rural</td>\n",
       "      <td>...</td>\n",
       "      <td>1.0</td>\n",
       "      <td>0.0</td>\n",
       "      <td>367.0</td>\n",
       "      <td>1.0</td>\n",
       "      <td>2024-06-12 15:21:39.226954</td>\n",
       "      <td>Poor</td>\n",
       "      <td>Yes</td>\n",
       "      <td>Daily</td>\n",
       "      <td>Apartment</td>\n",
       "      <td>765.0</td>\n",
       "    </tr>\n",
       "    <tr>\n",
       "      <th>4</th>\n",
       "      <td>4</td>\n",
       "      <td>21.0</td>\n",
       "      <td>Male</td>\n",
       "      <td>39651.0</td>\n",
       "      <td>Single</td>\n",
       "      <td>1.0</td>\n",
       "      <td>Bachelor's</td>\n",
       "      <td>Self-Employed</td>\n",
       "      <td>20.376094</td>\n",
       "      <td>Rural</td>\n",
       "      <td>...</td>\n",
       "      <td>0.0</td>\n",
       "      <td>8.0</td>\n",
       "      <td>598.0</td>\n",
       "      <td>4.0</td>\n",
       "      <td>2021-12-01 15:21:39.252145</td>\n",
       "      <td>Poor</td>\n",
       "      <td>Yes</td>\n",
       "      <td>Weekly</td>\n",
       "      <td>House</td>\n",
       "      <td>2022.0</td>\n",
       "    </tr>\n",
       "  </tbody>\n",
       "</table>\n",
       "<p>5 rows × 21 columns</p>\n",
       "</div>"
      ],
      "text/plain": [
       "   id   Age  Gender  Annual Income Marital Status  Number of Dependents  \\\n",
       "0   0  19.0  Female        10049.0        Married                   1.0   \n",
       "1   1  39.0  Female        31678.0       Divorced                   3.0   \n",
       "2   2  23.0    Male        25602.0       Divorced                   3.0   \n",
       "3   3  21.0    Male       141855.0        Married                   2.0   \n",
       "4   4  21.0    Male        39651.0         Single                   1.0   \n",
       "\n",
       "  Education Level     Occupation  Health Score  Location  ... Previous Claims  \\\n",
       "0      Bachelor's  Self-Employed     22.598761     Urban  ...             2.0   \n",
       "1        Master's            NaN     15.569731     Rural  ...             1.0   \n",
       "2     High School  Self-Employed     47.177549  Suburban  ...             1.0   \n",
       "3      Bachelor's            NaN     10.938144     Rural  ...             1.0   \n",
       "4      Bachelor's  Self-Employed     20.376094     Rural  ...             0.0   \n",
       "\n",
       "   Vehicle Age  Credit Score  Insurance Duration           Policy Start Date  \\\n",
       "0         17.0         372.0                 5.0  2023-12-23 15:21:39.134960   \n",
       "1         12.0         694.0                 2.0  2023-06-12 15:21:39.111551   \n",
       "2         14.0           NaN                 3.0  2023-09-30 15:21:39.221386   \n",
       "3          0.0         367.0                 1.0  2024-06-12 15:21:39.226954   \n",
       "4          8.0         598.0                 4.0  2021-12-01 15:21:39.252145   \n",
       "\n",
       "  Customer Feedback Smoking Status Exercise Frequency Property Type  \\\n",
       "0              Poor             No             Weekly         House   \n",
       "1           Average            Yes            Monthly         House   \n",
       "2              Good            Yes             Weekly         House   \n",
       "3              Poor            Yes              Daily     Apartment   \n",
       "4              Poor            Yes             Weekly         House   \n",
       "\n",
       "  Premium Amount  \n",
       "0         2869.0  \n",
       "1         1483.0  \n",
       "2          567.0  \n",
       "3          765.0  \n",
       "4         2022.0  \n",
       "\n",
       "[5 rows x 21 columns]"
      ]
     },
     "execution_count": 4,
     "metadata": {},
     "output_type": "execute_result"
    }
   ],
   "source": [
    "train_data.head()"
   ]
  },
  {
   "cell_type": "code",
   "execution_count": 5,
   "id": "7f490ac9",
   "metadata": {
    "execution": {
     "iopub.execute_input": "2024-12-08T16:52:16.636778Z",
     "iopub.status.busy": "2024-12-08T16:52:16.636373Z",
     "iopub.status.idle": "2024-12-08T16:52:17.287517Z",
     "shell.execute_reply": "2024-12-08T16:52:17.286294Z"
    },
    "papermill": {
     "duration": 0.665896,
     "end_time": "2024-12-08T16:52:17.290130",
     "exception": false,
     "start_time": "2024-12-08T16:52:16.624234",
     "status": "completed"
    },
    "tags": []
   },
   "outputs": [
    {
     "data": {
      "text/plain": [
       "id                       0.000000\n",
       "Age                      1.558750\n",
       "Gender                   0.000000\n",
       "Annual Income            3.745750\n",
       "Marital Status           1.544083\n",
       "Number of Dependents     9.139333\n",
       "Education Level          0.000000\n",
       "Occupation              29.839583\n",
       "Health Score             6.173000\n",
       "Location                 0.000000\n",
       "Policy Type              0.000000\n",
       "Previous Claims         30.335750\n",
       "Vehicle Age              0.000500\n",
       "Credit Score            11.490167\n",
       "Insurance Duration       0.000083\n",
       "Policy Start Date        0.000000\n",
       "Customer Feedback        6.485333\n",
       "Smoking Status           0.000000\n",
       "Exercise Frequency       0.000000\n",
       "Property Type            0.000000\n",
       "Premium Amount           0.000000\n",
       "dtype: float64"
      ]
     },
     "execution_count": 5,
     "metadata": {},
     "output_type": "execute_result"
    }
   ],
   "source": [
    "train_data.isnull().sum()* 100 /len(train_data)"
   ]
  },
  {
   "cell_type": "code",
   "execution_count": 6,
   "id": "59c91c21",
   "metadata": {
    "execution": {
     "iopub.execute_input": "2024-12-08T16:52:17.312582Z",
     "iopub.status.busy": "2024-12-08T16:52:17.312197Z",
     "iopub.status.idle": "2024-12-08T16:52:17.747037Z",
     "shell.execute_reply": "2024-12-08T16:52:17.745777Z"
    },
    "papermill": {
     "duration": 0.44943,
     "end_time": "2024-12-08T16:52:17.749815",
     "exception": false,
     "start_time": "2024-12-08T16:52:17.300385",
     "status": "completed"
    },
    "tags": []
   },
   "outputs": [
    {
     "data": {
      "text/plain": [
       "id                       0.000000\n",
       "Age                      1.561125\n",
       "Gender                   0.000000\n",
       "Annual Income            3.732500\n",
       "Marital Status           1.542000\n",
       "Number of Dependents     9.141250\n",
       "Education Level          0.000000\n",
       "Occupation              29.890625\n",
       "Health Score             6.181125\n",
       "Location                 0.000000\n",
       "Policy Type              0.000000\n",
       "Previous Claims         30.350250\n",
       "Vehicle Age              0.000375\n",
       "Credit Score            11.431375\n",
       "Insurance Duration       0.000250\n",
       "Policy Start Date        0.000000\n",
       "Customer Feedback        6.534500\n",
       "Smoking Status           0.000000\n",
       "Exercise Frequency       0.000000\n",
       "Property Type            0.000000\n",
       "dtype: float64"
      ]
     },
     "execution_count": 6,
     "metadata": {},
     "output_type": "execute_result"
    }
   ],
   "source": [
    "test_data.isnull().sum() / len(test_data) * 100"
   ]
  },
  {
   "cell_type": "markdown",
   "id": "41ef53c0",
   "metadata": {
    "execution": {
     "iopub.execute_input": "2024-12-08T14:19:58.637673Z",
     "iopub.status.busy": "2024-12-08T14:19:58.637177Z",
     "iopub.status.idle": "2024-12-08T14:19:58.642838Z",
     "shell.execute_reply": "2024-12-08T14:19:58.641788Z",
     "shell.execute_reply.started": "2024-12-08T14:19:58.637623Z"
    },
    "papermill": {
     "duration": 0.010678,
     "end_time": "2024-12-08T16:52:17.771133",
     "exception": false,
     "start_time": "2024-12-08T16:52:17.760455",
     "status": "completed"
    },
    "tags": []
   },
   "source": [
    "## EDA"
   ]
  },
  {
   "cell_type": "code",
   "execution_count": 7,
   "id": "4f1ddfbe",
   "metadata": {
    "execution": {
     "iopub.execute_input": "2024-12-08T16:52:17.795037Z",
     "iopub.status.busy": "2024-12-08T16:52:17.793949Z",
     "iopub.status.idle": "2024-12-08T16:52:18.094230Z",
     "shell.execute_reply": "2024-12-08T16:52:18.093030Z"
    },
    "papermill": {
     "duration": 0.314947,
     "end_time": "2024-12-08T16:52:18.096606",
     "exception": false,
     "start_time": "2024-12-08T16:52:17.781659",
     "status": "completed"
    },
    "tags": []
   },
   "outputs": [
    {
     "data": {
      "image/png": "[encoded data removed]",
      "text/plain": [
       "<Figure size 640x480 with 1 Axes>"
      ]
     },
     "metadata": {},
     "output_type": "display_data"
    }
   ],
   "source": [
    "plt.hist(train_data['Annual Income'], bins = 5)\n",
    "plt.show()"
   ]
  },
  {
   "cell_type": "code",
   "execution_count": 8,
   "id": "646d5ba8",
   "metadata": {
    "execution": {
     "iopub.execute_input": "2024-12-08T16:52:18.120185Z",
     "iopub.status.busy": "2024-12-08T16:52:18.119773Z",
     "iopub.status.idle": "2024-12-08T16:52:20.944125Z",
     "shell.execute_reply": "2024-12-08T16:52:20.942791Z"
    },
    "papermill": {
     "duration": 2.839446,
     "end_time": "2024-12-08T16:52:20.946900",
     "exception": false,
     "start_time": "2024-12-08T16:52:18.107454",
     "status": "completed"
    },
    "tags": []
   },
   "outputs": [
    {
     "data": {
      "image/png": "[encoded data removed]",
      "text/plain": [
       "<Figure size 640x480 with 1 Axes>"
      ]
     },
     "metadata": {},
     "output_type": "display_data"
    }
   ],
   "source": [
    "plt.scatter(train_data['Premium Amount'], train_data['Annual Income'])\n",
    "plt.show()"
   ]
  },
  {
   "cell_type": "code",
   "execution_count": 9,
   "id": "8680f4f4",
   "metadata": {
    "execution": {
     "iopub.execute_input": "2024-12-08T16:52:20.971717Z",
     "iopub.status.busy": "2024-12-08T16:52:20.971290Z",
     "iopub.status.idle": "2024-12-08T16:52:44.440158Z",
     "shell.execute_reply": "2024-12-08T16:52:44.438709Z"
    },
    "papermill": {
     "duration": 23.483736,
     "end_time": "2024-12-08T16:52:44.442566",
     "exception": false,
     "start_time": "2024-12-08T16:52:20.958830",
     "status": "completed"
    },
    "tags": []
   },
   "outputs": [
    {
     "data": {
      "image/png": "[encoded data removed]",
      "text/plain": [
       "<Figure size 640x480 with 1 Axes>"
      ]
     },
     "metadata": {},
     "output_type": "display_data"
    }
   ],
   "source": [
    "sns.barplot(data = train_data, x = 'Gender', y= 'Annual Income')\n",
    "plt.show()"
   ]
  },
  {
   "cell_type": "code",
   "execution_count": 10,
   "id": "f23b55ac",
   "metadata": {
    "execution": {
     "iopub.execute_input": "2024-12-08T16:52:44.467429Z",
     "iopub.status.busy": "2024-12-08T16:52:44.467033Z",
     "iopub.status.idle": "2024-12-08T16:52:46.023282Z",
     "shell.execute_reply": "2024-12-08T16:52:46.021930Z"
    },
    "papermill": {
     "duration": 1.571765,
     "end_time": "2024-12-08T16:52:46.025943",
     "exception": false,
     "start_time": "2024-12-08T16:52:44.454178",
     "status": "completed"
    },
    "tags": []
   },
   "outputs": [
    {
     "data": {
      "image/png": "[encoded data removed]",
      "text/plain": [
       "<Figure size 640x480 with 1 Axes>"
      ]
     },
     "metadata": {},
     "output_type": "display_data"
    }
   ],
   "source": [
    "sns.countplot(data=train_data, x='Gender', hue='Marital Status')\n",
    "plt.title(\"Count of Gender with Marital Status\")\n",
    "plt.show()"
   ]
  },
  {
   "cell_type": "code",
   "execution_count": 11,
   "id": "333a4c8e",
   "metadata": {
    "execution": {
     "iopub.execute_input": "2024-12-08T16:52:46.052312Z",
     "iopub.status.busy": "2024-12-08T16:52:46.051911Z",
     "iopub.status.idle": "2024-12-08T16:52:46.210464Z",
     "shell.execute_reply": "2024-12-08T16:52:46.209439Z"
    },
    "papermill": {
     "duration": 0.175105,
     "end_time": "2024-12-08T16:52:46.213206",
     "exception": false,
     "start_time": "2024-12-08T16:52:46.038101",
     "status": "completed"
    },
    "tags": []
   },
   "outputs": [
    {
     "data": {
      "image/png": "[encoded data removed]",
      "text/plain": [
       "<Figure size 640x480 with 1 Axes>"
      ]
     },
     "metadata": {},
     "output_type": "display_data"
    }
   ],
   "source": [
    "sns.boxplot(data = train_data, x= 'Age')\n",
    "plt.show()"
   ]
  },
  {
   "cell_type": "code",
   "execution_count": 12,
   "id": "461240f4",
   "metadata": {
    "execution": {
     "iopub.execute_input": "2024-12-08T16:52:46.240370Z",
     "iopub.status.busy": "2024-12-08T16:52:46.239379Z",
     "iopub.status.idle": "2024-12-08T16:52:54.462942Z",
     "shell.execute_reply": "2024-12-08T16:52:54.461624Z"
    },
    "papermill": {
     "duration": 8.239513,
     "end_time": "2024-12-08T16:52:54.465165",
     "exception": false,
     "start_time": "2024-12-08T16:52:46.225652",
     "status": "completed"
    },
    "tags": []
   },
   "outputs": [
    {
     "name": "stderr",
     "output_type": "stream",
     "text": [
      "/opt/conda/lib/python3.10/site-packages/seaborn/_oldcore.py:1119: FutureWarning: use_inf_as_na option is deprecated and will be removed in a future version. Convert inf values to NaN before operating instead.\n",
      "  with pd.option_context('mode.use_inf_as_na', True):\n",
      "/opt/conda/lib/python3.10/site-packages/seaborn/_oldcore.py:1119: FutureWarning: use_inf_as_na option is deprecated and will be removed in a future version. Convert inf values to NaN before operating instead.\n",
      "  with pd.option_context('mode.use_inf_as_na', True):\n",
      "/opt/conda/lib/python3.10/site-packages/seaborn/_oldcore.py:1075: FutureWarning: When grouping with a length-1 list-like, you will need to pass a length-1 tuple to get_group in a future version of pandas. Pass `(name,)` instead of `name` to silence this warning.\n",
      "  data_subset = grouped_data.get_group(pd_key)\n",
      "/opt/conda/lib/python3.10/site-packages/seaborn/_oldcore.py:1075: FutureWarning: When grouping with a length-1 list-like, you will need to pass a length-1 tuple to get_group in a future version of pandas. Pass `(name,)` instead of `name` to silence this warning.\n",
      "  data_subset = grouped_data.get_group(pd_key)\n"
     ]
    },
    {
     "data": {
      "image/png": "[encoded data removed]",
      "text/plain": [
       "<Figure size 640x480 with 1 Axes>"
      ]
     },
     "metadata": {},
     "output_type": "display_data"
    }
   ],
   "source": [
    "sns.lineplot(data = train_data, x = 'Occupation', y = 'Number of Dependents', hue = 'Gender')\n",
    "plt.show()"
   ]
  },
  {
   "cell_type": "code",
   "execution_count": 13,
   "id": "a03b49ce",
   "metadata": {
    "execution": {
     "iopub.execute_input": "2024-12-08T16:52:54.493736Z",
     "iopub.status.busy": "2024-12-08T16:52:54.493252Z",
     "iopub.status.idle": "2024-12-08T16:52:54.923000Z",
     "shell.execute_reply": "2024-12-08T16:52:54.921837Z"
    },
    "papermill": {
     "duration": 0.447306,
     "end_time": "2024-12-08T16:52:54.925725",
     "exception": false,
     "start_time": "2024-12-08T16:52:54.478419",
     "status": "completed"
    },
    "tags": []
   },
   "outputs": [
    {
     "data": {
      "text/plain": [
       "id                           0\n",
       "Age                      12489\n",
       "Gender                       0\n",
       "Annual Income            29860\n",
       "Marital Status           12336\n",
       "Number of Dependents     73130\n",
       "Education Level              0\n",
       "Occupation              239125\n",
       "Health Score             49449\n",
       "Location                     0\n",
       "Policy Type                  0\n",
       "Previous Claims         242802\n",
       "Vehicle Age                  3\n",
       "Credit Score             91451\n",
       "Insurance Duration           2\n",
       "Policy Start Date            0\n",
       "Customer Feedback        52276\n",
       "Smoking Status               0\n",
       "Exercise Frequency           0\n",
       "Property Type                0\n",
       "dtype: int64"
      ]
     },
     "execution_count": 13,
     "metadata": {},
     "output_type": "execute_result"
    }
   ],
   "source": [
    "test_data.isnull().sum()"
   ]
  },
  {
   "cell_type": "code",
   "execution_count": 14,
   "id": "81bc149f",
   "metadata": {
    "execution": {
     "iopub.execute_input": "2024-12-08T16:52:54.954750Z",
     "iopub.status.busy": "2024-12-08T16:52:54.954318Z",
     "iopub.status.idle": "2024-12-08T16:52:55.660865Z",
     "shell.execute_reply": "2024-12-08T16:52:55.659359Z"
    },
    "papermill": {
     "duration": 0.723978,
     "end_time": "2024-12-08T16:52:55.663416",
     "exception": false,
     "start_time": "2024-12-08T16:52:54.939438",
     "status": "completed"
    },
    "tags": []
   },
   "outputs": [],
   "source": [
    "test_data['Marital Status'] = test_data['Marital Status'].str.strip().str.lower()\n",
    "train_data['Marital Status'] = train_data['Marital Status'].str.strip().str.lower()"
   ]
  },
  {
   "cell_type": "code",
   "execution_count": 15,
   "id": "6a02b01e",
   "metadata": {
    "execution": {
     "iopub.execute_input": "2024-12-08T16:52:55.691664Z",
     "iopub.status.busy": "2024-12-08T16:52:55.691236Z",
     "iopub.status.idle": "2024-12-08T16:52:55.995136Z",
     "shell.execute_reply": "2024-12-08T16:52:55.994020Z"
    },
    "papermill": {
     "duration": 0.32102,
     "end_time": "2024-12-08T16:52:55.997762",
     "exception": false,
     "start_time": "2024-12-08T16:52:55.676742",
     "status": "completed"
    },
    "tags": []
   },
   "outputs": [],
   "source": [
    "train_data.loc[(train_data['Education Level'] == 'High School') & (train_data['Occupation'].isna()), 'Occupation'] = 'Unemployed'\n",
    "test_data.loc[(test_data['Education Level'] == 'High School') & (test_data['Occupation'].isna()), 'Occupation'] = 'Unemployed'"
   ]
  },
  {
   "cell_type": "code",
   "execution_count": 16,
   "id": "d3e585a4",
   "metadata": {
    "execution": {
     "iopub.execute_input": "2024-12-08T16:52:56.028055Z",
     "iopub.status.busy": "2024-12-08T16:52:56.027651Z",
     "iopub.status.idle": "2024-12-08T16:52:56.151861Z",
     "shell.execute_reply": "2024-12-08T16:52:56.150656Z"
    },
    "papermill": {
     "duration": 0.142606,
     "end_time": "2024-12-08T16:52:56.154497",
     "exception": false,
     "start_time": "2024-12-08T16:52:56.011891",
     "status": "completed"
    },
    "tags": []
   },
   "outputs": [],
   "source": [
    "train_data.loc[((train_data['Age'] > 50) | (train_data['Age'] < 21)) & train_data['Occupation'].isna(), 'Occupation'] = 'Unemployed'\n",
    "test_data.loc[((test_data['Age'] > 50) | (test_data['Age'] < 21)) & test_data['Occupation'].isna(), 'Occupation'] = 'Unemployed'"
   ]
  },
  {
   "cell_type": "code",
   "execution_count": 17,
   "id": "1aa483de",
   "metadata": {
    "execution": {
     "iopub.execute_input": "2024-12-08T16:52:56.184464Z",
     "iopub.status.busy": "2024-12-08T16:52:56.184054Z",
     "iopub.status.idle": "2024-12-08T16:52:56.326077Z",
     "shell.execute_reply": "2024-12-08T16:52:56.324998Z"
    },
    "papermill": {
     "duration": 0.160175,
     "end_time": "2024-12-08T16:52:56.328690",
     "exception": false,
     "start_time": "2024-12-08T16:52:56.168515",
     "status": "completed"
    },
    "tags": []
   },
   "outputs": [],
   "source": [
    "train_data['Occupation'] = train_data['Occupation'].fillna('Unemployed')\n",
    "test_data['Occupation'] = test_data['Occupation'].fillna('Unemployed')"
   ]
  },
  {
   "cell_type": "code",
   "execution_count": 18,
   "id": "b2448789",
   "metadata": {
    "execution": {
     "iopub.execute_input": "2024-12-08T16:52:56.357309Z",
     "iopub.status.busy": "2024-12-08T16:52:56.356953Z",
     "iopub.status.idle": "2024-12-08T16:52:56.539443Z",
     "shell.execute_reply": "2024-12-08T16:52:56.538304Z"
    },
    "papermill": {
     "duration": 0.200279,
     "end_time": "2024-12-08T16:52:56.542253",
     "exception": false,
     "start_time": "2024-12-08T16:52:56.341974",
     "status": "completed"
    },
    "tags": []
   },
   "outputs": [],
   "source": [
    "train_data.loc[(train_data['Previous Claims'].isnull()) & (train_data['Occupation'] == 'Unemployed'), 'Previous Claims'] = 0.0\n",
    "test_data.loc[(test_data['Previous Claims'].isnull()) & (test_data['Occupation'] == 'Unemployed'), 'Previous Claims'] = 0.0"
   ]
  },
  {
   "cell_type": "code",
   "execution_count": 19,
   "id": "0e074fab",
   "metadata": {
    "execution": {
     "iopub.execute_input": "2024-12-08T16:52:56.571299Z",
     "iopub.status.busy": "2024-12-08T16:52:56.570483Z",
     "iopub.status.idle": "2024-12-08T16:52:56.587107Z",
     "shell.execute_reply": "2024-12-08T16:52:56.586022Z"
    },
    "papermill": {
     "duration": 0.033706,
     "end_time": "2024-12-08T16:52:56.589577",
     "exception": false,
     "start_time": "2024-12-08T16:52:56.555871",
     "status": "completed"
    },
    "tags": []
   },
   "outputs": [],
   "source": [
    "train_data.loc[(train_data['Previous Claims'].isnull()) & (train_data['Annual Income'] > 50000), 'Previous Claims'] = 0.0\n",
    "test_data.loc[(test_data['Previous Claims'].isnull()) & (test_data['Annual Income'] > 50000), 'Previous Claims'] = 0.0"
   ]
  },
  {
   "cell_type": "code",
   "execution_count": 20,
   "id": "808191d0",
   "metadata": {
    "execution": {
     "iopub.execute_input": "2024-12-08T16:52:56.618546Z",
     "iopub.status.busy": "2024-12-08T16:52:56.618161Z",
     "iopub.status.idle": "2024-12-08T16:52:56.791317Z",
     "shell.execute_reply": "2024-12-08T16:52:56.790152Z"
    },
    "papermill": {
     "duration": 0.191279,
     "end_time": "2024-12-08T16:52:56.794278",
     "exception": false,
     "start_time": "2024-12-08T16:52:56.602999",
     "status": "completed"
    },
    "tags": []
   },
   "outputs": [],
   "source": [
    "train_data.loc[(train_data['Previous Claims'].isnull()) & (train_data['Education Level'] ==  'High School'), 'Previous Claims'] = 0.0\n",
    "test_data.loc[(test_data['Previous Claims'].isnull()) & (test_data['Education Level'] ==  'High School'), 'Previous Claims'] = 0.0"
   ]
  },
  {
   "cell_type": "code",
   "execution_count": 21,
   "id": "0e99087b",
   "metadata": {
    "execution": {
     "iopub.execute_input": "2024-12-08T16:52:56.822478Z",
     "iopub.status.busy": "2024-12-08T16:52:56.822088Z",
     "iopub.status.idle": "2024-12-08T16:52:56.839870Z",
     "shell.execute_reply": "2024-12-08T16:52:56.838195Z"
    },
    "papermill": {
     "duration": 0.035089,
     "end_time": "2024-12-08T16:52:56.842737",
     "exception": false,
     "start_time": "2024-12-08T16:52:56.807648",
     "status": "completed"
    },
    "tags": []
   },
   "outputs": [],
   "source": [
    "train_data['Previous Claims'] = train_data['Previous Claims'].fillna(np.random.randint(0.0, 9.0))\n",
    "test_data['Previous Claims'] = test_data['Previous Claims'].fillna(np.random.randint(0.0, 9.0))"
   ]
  },
  {
   "cell_type": "code",
   "execution_count": 22,
   "id": "b29f8f31",
   "metadata": {
    "execution": {
     "iopub.execute_input": "2024-12-08T16:52:56.872142Z",
     "iopub.status.busy": "2024-12-08T16:52:56.871148Z",
     "iopub.status.idle": "2024-12-08T16:52:57.048016Z",
     "shell.execute_reply": "2024-12-08T16:52:57.046705Z"
    },
    "papermill": {
     "duration": 0.194193,
     "end_time": "2024-12-08T16:52:57.050557",
     "exception": false,
     "start_time": "2024-12-08T16:52:56.856364",
     "status": "completed"
    },
    "tags": []
   },
   "outputs": [],
   "source": [
    "train_data.loc[(train_data['Number of Dependents'].isnull()) & (train_data['Marital Status'] == 'Single'),'Number of Dependents']= 0.0\n",
    "test_data.loc[(test_data['Number of Dependents'].isnull()) & (test_data['Marital Status'] == 'Single'),'Number of Dependents']= 0.0"
   ]
  },
  {
   "cell_type": "code",
   "execution_count": 23,
   "id": "48cbdf15",
   "metadata": {
    "execution": {
     "iopub.execute_input": "2024-12-08T16:52:57.079900Z",
     "iopub.status.busy": "2024-12-08T16:52:57.079083Z",
     "iopub.status.idle": "2024-12-08T16:52:59.011116Z",
     "shell.execute_reply": "2024-12-08T16:52:59.009832Z"
    },
    "papermill": {
     "duration": 1.949677,
     "end_time": "2024-12-08T16:52:59.013902",
     "exception": false,
     "start_time": "2024-12-08T16:52:57.064225",
     "status": "completed"
    },
    "tags": []
   },
   "outputs": [],
   "source": [
    "train_data['Number of Dependents'] = train_data['Number of Dependents'].apply(lambda x: np.random.uniform(0.0, 5.0) if pd.isna(x) else x\n",
    ")\n",
    "\n",
    "test_data['Number of Dependents'] = test_data['Number of Dependents'].apply(lambda x: np.random.uniform(0.0, 5.0) if pd.isna(x) else x\n",
    ")"
   ]
  },
  {
   "cell_type": "code",
   "execution_count": 24,
   "id": "c749a694",
   "metadata": {
    "execution": {
     "iopub.execute_input": "2024-12-08T16:52:59.043758Z",
     "iopub.status.busy": "2024-12-08T16:52:59.043336Z",
     "iopub.status.idle": "2024-12-08T16:52:59.071881Z",
     "shell.execute_reply": "2024-12-08T16:52:59.070547Z"
    },
    "papermill": {
     "duration": 0.046541,
     "end_time": "2024-12-08T16:52:59.074464",
     "exception": false,
     "start_time": "2024-12-08T16:52:59.027923",
     "status": "completed"
    },
    "tags": []
   },
   "outputs": [],
   "source": [
    "train_data['Annual Income'] = train_data['Annual Income'].fillna(np.mean(train_data['Annual Income']))\n",
    "\n",
    "test_data['Annual Income'] = test_data['Annual Income'].fillna(np.mean(test_data['Annual Income']))"
   ]
  },
  {
   "cell_type": "code",
   "execution_count": 25,
   "id": "3ad112b5",
   "metadata": {
    "execution": {
     "iopub.execute_input": "2024-12-08T16:52:59.103642Z",
     "iopub.status.busy": "2024-12-08T16:52:59.103212Z",
     "iopub.status.idle": "2024-12-08T16:52:59.109351Z",
     "shell.execute_reply": "2024-12-08T16:52:59.108239Z"
    },
    "papermill": {
     "duration": 0.023683,
     "end_time": "2024-12-08T16:52:59.111798",
     "exception": false,
     "start_time": "2024-12-08T16:52:59.088115",
     "status": "completed"
    },
    "tags": []
   },
   "outputs": [],
   "source": [
    "total_feedback = 377905 + 375518 + 368753\n",
    "\n",
    "probabilities = {\n",
    "    'Average': 377905 / total_feedback,\n",
    "    'Poor': 375518 / total_feedback,\n",
    "    'Good': 368753 / total_feedback\n",
    "}"
   ]
  },
  {
   "cell_type": "code",
   "execution_count": 26,
   "id": "fc478170",
   "metadata": {
    "execution": {
     "iopub.execute_input": "2024-12-08T16:52:59.140019Z",
     "iopub.status.busy": "2024-12-08T16:52:59.139641Z",
     "iopub.status.idle": "2024-12-08T16:53:01.610792Z",
     "shell.execute_reply": "2024-12-08T16:53:01.609634Z"
    },
    "papermill": {
     "duration": 2.488965,
     "end_time": "2024-12-08T16:53:01.614144",
     "exception": false,
     "start_time": "2024-12-08T16:52:59.125179",
     "status": "completed"
    },
    "tags": []
   },
   "outputs": [],
   "source": [
    "train_data['Customer Feedback'] = train_data['Customer Feedback'].apply(\n",
    "    lambda x: np.random.choice(['Average', 'Poor', 'Good'], p=[probabilities['Average'], probabilities['Poor'], probabilities['Good']]) \n",
    "    if pd.isna(x) else x\n",
    ")"
   ]
  },
  {
   "cell_type": "code",
   "execution_count": 27,
   "id": "dcdbf124",
   "metadata": {
    "execution": {
     "iopub.execute_input": "2024-12-08T16:53:01.654137Z",
     "iopub.status.busy": "2024-12-08T16:53:01.653346Z",
     "iopub.status.idle": "2024-12-08T16:53:01.660307Z",
     "shell.execute_reply": "2024-12-08T16:53:01.658914Z"
    },
    "papermill": {
     "duration": 0.028469,
     "end_time": "2024-12-08T16:53:01.663096",
     "exception": false,
     "start_time": "2024-12-08T16:53:01.634627",
     "status": "completed"
    },
    "tags": []
   },
   "outputs": [],
   "source": [
    "feedback_count = 251217 + 250434 + 246073\n",
    "prop = probabilities = {\n",
    "    'Average': 251217 / feedback_count,\n",
    "    'Poor': 250434 / feedback_count,\n",
    "    'Good': 246073 / feedback_count\n",
    "}"
   ]
  },
  {
   "cell_type": "code",
   "execution_count": 28,
   "id": "4536ef7e",
   "metadata": {
    "execution": {
     "iopub.execute_input": "2024-12-08T16:53:01.695905Z",
     "iopub.status.busy": "2024-12-08T16:53:01.695211Z",
     "iopub.status.idle": "2024-12-08T16:53:03.368244Z",
     "shell.execute_reply": "2024-12-08T16:53:03.366947Z"
    },
    "papermill": {
     "duration": 1.693112,
     "end_time": "2024-12-08T16:53:03.370779",
     "exception": false,
     "start_time": "2024-12-08T16:53:01.677667",
     "status": "completed"
    },
    "tags": []
   },
   "outputs": [],
   "source": [
    "test_data['Customer Feedback'] = test_data['Customer Feedback'].apply(\n",
    "    lambda x: np.random.choice(['Average', 'Poor', 'Good'], p=[probabilities['Average'], probabilities['Poor'], probabilities['Good']]) \n",
    "    if pd.isna(x) else x\n",
    ")"
   ]
  },
  {
   "cell_type": "code",
   "execution_count": 29,
   "id": "4bc1b162",
   "metadata": {
    "execution": {
     "iopub.execute_input": "2024-12-08T16:53:03.399113Z",
     "iopub.status.busy": "2024-12-08T16:53:03.398699Z",
     "iopub.status.idle": "2024-12-08T16:53:03.433680Z",
     "shell.execute_reply": "2024-12-08T16:53:03.432442Z"
    },
    "papermill": {
     "duration": 0.051906,
     "end_time": "2024-12-08T16:53:03.436203",
     "exception": false,
     "start_time": "2024-12-08T16:53:03.384297",
     "status": "completed"
    },
    "tags": []
   },
   "outputs": [],
   "source": [
    "train_data['Credit Score'] = train_data['Credit Score'].fillna(train_data['Credit Score'].mean()) \n",
    "\n",
    "test_data['Credit Score'] = test_data['Credit Score'].fillna(test_data['Credit Score'].mean()) "
   ]
  },
  {
   "cell_type": "code",
   "execution_count": 30,
   "id": "87866bee",
   "metadata": {
    "execution": {
     "iopub.execute_input": "2024-12-08T16:53:03.464670Z",
     "iopub.status.busy": "2024-12-08T16:53:03.464233Z",
     "iopub.status.idle": "2024-12-08T16:53:04.566745Z",
     "shell.execute_reply": "2024-12-08T16:53:04.565406Z"
    },
    "papermill": {
     "duration": 1.119725,
     "end_time": "2024-12-08T16:53:04.569350",
     "exception": false,
     "start_time": "2024-12-08T16:53:03.449625",
     "status": "completed"
    },
    "tags": []
   },
   "outputs": [],
   "source": [
    "min_val = train_data['Health Score'].min()\n",
    "max_val = train_data['Health Score'].max()\n",
    "train_data['Health Score'] = train_data['Health Score'].apply(lambda x: np.random.uniform(min_val, max_val) if pd.isnull(x) else x)"
   ]
  },
  {
   "cell_type": "code",
   "execution_count": 31,
   "id": "71736872",
   "metadata": {
    "execution": {
     "iopub.execute_input": "2024-12-08T16:53:04.598052Z",
     "iopub.status.busy": "2024-12-08T16:53:04.597654Z",
     "iopub.status.idle": "2024-12-08T16:53:05.339553Z",
     "shell.execute_reply": "2024-12-08T16:53:05.338098Z"
    },
    "papermill": {
     "duration": 0.75947,
     "end_time": "2024-12-08T16:53:05.342257",
     "exception": false,
     "start_time": "2024-12-08T16:53:04.582787",
     "status": "completed"
    },
    "tags": []
   },
   "outputs": [],
   "source": [
    "min_val_test = test_data['Health Score'].min()\n",
    "max_val_test = test_data['Health Score'].max()\n",
    "test_data['Health Score'] = test_data['Health Score'].apply(lambda x: np.random.uniform(min_val_test, max_val_test) if pd.isnull(x) else x)"
   ]
  },
  {
   "cell_type": "code",
   "execution_count": 32,
   "id": "1b5b8d8b",
   "metadata": {
    "execution": {
     "iopub.execute_input": "2024-12-08T16:53:05.371864Z",
     "iopub.status.busy": "2024-12-08T16:53:05.371421Z",
     "iopub.status.idle": "2024-12-08T16:53:06.992048Z",
     "shell.execute_reply": "2024-12-08T16:53:06.991090Z"
    },
    "papermill": {
     "duration": 1.638394,
     "end_time": "2024-12-08T16:53:06.994451",
     "exception": false,
     "start_time": "2024-12-08T16:53:05.356057",
     "status": "completed"
    },
    "tags": []
   },
   "outputs": [],
   "source": [
    " train_data['Age'] = train_data['Age'].apply(lambda x: np.random.uniform(18.0, 64.0) if pd.isnull(x) else x)\n",
    "\n",
    " test_data['Age'] = test_data['Age'].apply(lambda x: np.random.uniform(18.0, 64.0) if pd.isnull(x) else x)"
   ]
  },
  {
   "cell_type": "code",
   "execution_count": 33,
   "id": "215b3d8f",
   "metadata": {
    "execution": {
     "iopub.execute_input": "2024-12-08T16:53:07.023748Z",
     "iopub.status.busy": "2024-12-08T16:53:07.023308Z",
     "iopub.status.idle": "2024-12-08T16:53:07.156513Z",
     "shell.execute_reply": "2024-12-08T16:53:07.155411Z"
    },
    "papermill": {
     "duration": 0.150411,
     "end_time": "2024-12-08T16:53:07.158704",
     "exception": false,
     "start_time": "2024-12-08T16:53:07.008293",
     "status": "completed"
    },
    "tags": []
   },
   "outputs": [
    {
     "data": {
      "text/plain": [
       "Marital Status\n",
       "single      395391\n",
       "married     394316\n",
       "divorced    391764\n",
       "Name: count, dtype: int64"
      ]
     },
     "execution_count": 33,
     "metadata": {},
     "output_type": "execute_result"
    }
   ],
   "source": [
    "train_data['Marital Status'].value_counts()"
   ]
  },
  {
   "cell_type": "code",
   "execution_count": 34,
   "id": "e5e6c374",
   "metadata": {
    "execution": {
     "iopub.execute_input": "2024-12-08T16:53:07.187314Z",
     "iopub.status.busy": "2024-12-08T16:53:07.186952Z",
     "iopub.status.idle": "2024-12-08T16:53:07.289751Z",
     "shell.execute_reply": "2024-12-08T16:53:07.288668Z"
    },
    "papermill": {
     "duration": 0.120096,
     "end_time": "2024-12-08T16:53:07.292191",
     "exception": false,
     "start_time": "2024-12-08T16:53:07.172095",
     "status": "completed"
    },
    "tags": []
   },
   "outputs": [
    {
     "data": {
      "text/plain": [
       "'single'"
      ]
     },
     "execution_count": 34,
     "metadata": {},
     "output_type": "execute_result"
    }
   ],
   "source": [
    "train_data['Marital Status'].mode()[0]"
   ]
  },
  {
   "cell_type": "code",
   "execution_count": 35,
   "id": "2ffbd4ec",
   "metadata": {
    "execution": {
     "iopub.execute_input": "2024-12-08T16:53:07.321083Z",
     "iopub.status.busy": "2024-12-08T16:53:07.320712Z",
     "iopub.status.idle": "2024-12-08T16:53:07.696916Z",
     "shell.execute_reply": "2024-12-08T16:53:07.695672Z"
    },
    "papermill": {
     "duration": 0.393435,
     "end_time": "2024-12-08T16:53:07.699380",
     "exception": false,
     "start_time": "2024-12-08T16:53:07.305945",
     "status": "completed"
    },
    "tags": []
   },
   "outputs": [],
   "source": [
    "train_data['Marital Status'] = train_data['Marital Status'].fillna(train_data['Marital Status'].mode()[0])\n",
    "\n",
    "test_data['Marital Status'] = test_data['Marital Status'].fillna(test_data['Marital Status'].mode()[0])"
   ]
  },
  {
   "cell_type": "code",
   "execution_count": 36,
   "id": "9d6ea820",
   "metadata": {
    "execution": {
     "iopub.execute_input": "2024-12-08T16:53:07.728744Z",
     "iopub.status.busy": "2024-12-08T16:53:07.728322Z",
     "iopub.status.idle": "2024-12-08T16:53:07.744987Z",
     "shell.execute_reply": "2024-12-08T16:53:07.743699Z"
    },
    "papermill": {
     "duration": 0.034346,
     "end_time": "2024-12-08T16:53:07.747505",
     "exception": false,
     "start_time": "2024-12-08T16:53:07.713159",
     "status": "completed"
    },
    "tags": []
   },
   "outputs": [],
   "source": [
    " train_data['Insurance Duration'] = train_data['Insurance Duration'].fillna(0)\n",
    "test_data['Insurance Duration'] = test_data['Insurance Duration'].fillna(0)"
   ]
  },
  {
   "cell_type": "code",
   "execution_count": 37,
   "id": "daefdbce",
   "metadata": {
    "execution": {
     "iopub.execute_input": "2024-12-08T16:53:07.776784Z",
     "iopub.status.busy": "2024-12-08T16:53:07.775753Z",
     "iopub.status.idle": "2024-12-08T16:53:08.367181Z",
     "shell.execute_reply": "2024-12-08T16:53:08.365978Z"
    },
    "papermill": {
     "duration": 0.608562,
     "end_time": "2024-12-08T16:53:08.369662",
     "exception": false,
     "start_time": "2024-12-08T16:53:07.761100",
     "status": "completed"
    },
    "tags": []
   },
   "outputs": [],
   "source": [
    " test_data['Vehicle Age'] = test_data['Vehicle Age'].apply(lambda x: np.random.uniform(0.0, 11.0) if pd.isnull(x) else x)"
   ]
  },
  {
   "cell_type": "code",
   "execution_count": 38,
   "id": "31b3aef5",
   "metadata": {
    "execution": {
     "iopub.execute_input": "2024-12-08T16:53:08.399220Z",
     "iopub.status.busy": "2024-12-08T16:53:08.398833Z",
     "iopub.status.idle": "2024-12-08T16:53:08.430578Z",
     "shell.execute_reply": "2024-12-08T16:53:08.429368Z"
    },
    "papermill": {
     "duration": 0.04972,
     "end_time": "2024-12-08T16:53:08.432890",
     "exception": false,
     "start_time": "2024-12-08T16:53:08.383170",
     "status": "completed"
    },
    "tags": []
   },
   "outputs": [
    {
     "data": {
      "text/html": [
       "<div>\n",
       "<style scoped>\n",
       "    .dataframe tbody tr th:only-of-type {\n",
       "        vertical-align: middle;\n",
       "    }\n",
       "\n",
       "    .dataframe tbody tr th {\n",
       "        vertical-align: top;\n",
       "    }\n",
       "\n",
       "    .dataframe thead th {\n",
       "        text-align: right;\n",
       "    }\n",
       "</style>\n",
       "<table border=\"1\" class=\"dataframe\">\n",
       "  <thead>\n",
       "    <tr style=\"text-align: right;\">\n",
       "      <th></th>\n",
       "      <th>id</th>\n",
       "      <th>Age</th>\n",
       "      <th>Gender</th>\n",
       "      <th>Annual Income</th>\n",
       "      <th>Marital Status</th>\n",
       "      <th>Number of Dependents</th>\n",
       "      <th>Education Level</th>\n",
       "      <th>Occupation</th>\n",
       "      <th>Health Score</th>\n",
       "      <th>Location</th>\n",
       "      <th>...</th>\n",
       "      <th>Previous Claims</th>\n",
       "      <th>Vehicle Age</th>\n",
       "      <th>Credit Score</th>\n",
       "      <th>Insurance Duration</th>\n",
       "      <th>Policy Start Date</th>\n",
       "      <th>Customer Feedback</th>\n",
       "      <th>Smoking Status</th>\n",
       "      <th>Exercise Frequency</th>\n",
       "      <th>Property Type</th>\n",
       "      <th>Premium Amount</th>\n",
       "    </tr>\n",
       "  </thead>\n",
       "  <tbody>\n",
       "    <tr>\n",
       "      <th>0</th>\n",
       "      <td>0</td>\n",
       "      <td>19.0</td>\n",
       "      <td>Female</td>\n",
       "      <td>10049.0</td>\n",
       "      <td>married</td>\n",
       "      <td>1.0</td>\n",
       "      <td>Bachelor's</td>\n",
       "      <td>Self-Employed</td>\n",
       "      <td>22.598761</td>\n",
       "      <td>Urban</td>\n",
       "      <td>...</td>\n",
       "      <td>2.0</td>\n",
       "      <td>17.0</td>\n",
       "      <td>372.00000</td>\n",
       "      <td>5.0</td>\n",
       "      <td>2023-12-23 15:21:39.134960</td>\n",
       "      <td>Poor</td>\n",
       "      <td>No</td>\n",
       "      <td>Weekly</td>\n",
       "      <td>House</td>\n",
       "      <td>2869.0</td>\n",
       "    </tr>\n",
       "    <tr>\n",
       "      <th>1</th>\n",
       "      <td>1</td>\n",
       "      <td>39.0</td>\n",
       "      <td>Female</td>\n",
       "      <td>31678.0</td>\n",
       "      <td>divorced</td>\n",
       "      <td>3.0</td>\n",
       "      <td>Master's</td>\n",
       "      <td>Unemployed</td>\n",
       "      <td>15.569731</td>\n",
       "      <td>Rural</td>\n",
       "      <td>...</td>\n",
       "      <td>1.0</td>\n",
       "      <td>12.0</td>\n",
       "      <td>694.00000</td>\n",
       "      <td>2.0</td>\n",
       "      <td>2023-06-12 15:21:39.111551</td>\n",
       "      <td>Average</td>\n",
       "      <td>Yes</td>\n",
       "      <td>Monthly</td>\n",
       "      <td>House</td>\n",
       "      <td>1483.0</td>\n",
       "    </tr>\n",
       "    <tr>\n",
       "      <th>2</th>\n",
       "      <td>2</td>\n",
       "      <td>23.0</td>\n",
       "      <td>Male</td>\n",
       "      <td>25602.0</td>\n",
       "      <td>divorced</td>\n",
       "      <td>3.0</td>\n",
       "      <td>High School</td>\n",
       "      <td>Self-Employed</td>\n",
       "      <td>47.177549</td>\n",
       "      <td>Suburban</td>\n",
       "      <td>...</td>\n",
       "      <td>1.0</td>\n",
       "      <td>14.0</td>\n",
       "      <td>592.92435</td>\n",
       "      <td>3.0</td>\n",
       "      <td>2023-09-30 15:21:39.221386</td>\n",
       "      <td>Good</td>\n",
       "      <td>Yes</td>\n",
       "      <td>Weekly</td>\n",
       "      <td>House</td>\n",
       "      <td>567.0</td>\n",
       "    </tr>\n",
       "    <tr>\n",
       "      <th>3</th>\n",
       "      <td>3</td>\n",
       "      <td>21.0</td>\n",
       "      <td>Male</td>\n",
       "      <td>141855.0</td>\n",
       "      <td>married</td>\n",
       "      <td>2.0</td>\n",
       "      <td>Bachelor's</td>\n",
       "      <td>Unemployed</td>\n",
       "      <td>10.938144</td>\n",
       "      <td>Rural</td>\n",
       "      <td>...</td>\n",
       "      <td>1.0</td>\n",
       "      <td>0.0</td>\n",
       "      <td>367.00000</td>\n",
       "      <td>1.0</td>\n",
       "      <td>2024-06-12 15:21:39.226954</td>\n",
       "      <td>Poor</td>\n",
       "      <td>Yes</td>\n",
       "      <td>Daily</td>\n",
       "      <td>Apartment</td>\n",
       "      <td>765.0</td>\n",
       "    </tr>\n",
       "    <tr>\n",
       "      <th>4</th>\n",
       "      <td>4</td>\n",
       "      <td>21.0</td>\n",
       "      <td>Male</td>\n",
       "      <td>39651.0</td>\n",
       "      <td>single</td>\n",
       "      <td>1.0</td>\n",
       "      <td>Bachelor's</td>\n",
       "      <td>Self-Employed</td>\n",
       "      <td>20.376094</td>\n",
       "      <td>Rural</td>\n",
       "      <td>...</td>\n",
       "      <td>0.0</td>\n",
       "      <td>8.0</td>\n",
       "      <td>598.00000</td>\n",
       "      <td>4.0</td>\n",
       "      <td>2021-12-01 15:21:39.252145</td>\n",
       "      <td>Poor</td>\n",
       "      <td>Yes</td>\n",
       "      <td>Weekly</td>\n",
       "      <td>House</td>\n",
       "      <td>2022.0</td>\n",
       "    </tr>\n",
       "  </tbody>\n",
       "</table>\n",
       "<p>5 rows × 21 columns</p>\n",
       "</div>"
      ],
      "text/plain": [
       "   id   Age  Gender  Annual Income Marital Status  Number of Dependents  \\\n",
       "0   0  19.0  Female        10049.0        married                   1.0   \n",
       "1   1  39.0  Female        31678.0       divorced                   3.0   \n",
       "2   2  23.0    Male        25602.0       divorced                   3.0   \n",
       "3   3  21.0    Male       141855.0        married                   2.0   \n",
       "4   4  21.0    Male        39651.0         single                   1.0   \n",
       "\n",
       "  Education Level     Occupation  Health Score  Location  ... Previous Claims  \\\n",
       "0      Bachelor's  Self-Employed     22.598761     Urban  ...             2.0   \n",
       "1        Master's     Unemployed     15.569731     Rural  ...             1.0   \n",
       "2     High School  Self-Employed     47.177549  Suburban  ...             1.0   \n",
       "3      Bachelor's     Unemployed     10.938144     Rural  ...             1.0   \n",
       "4      Bachelor's  Self-Employed     20.376094     Rural  ...             0.0   \n",
       "\n",
       "   Vehicle Age  Credit Score  Insurance Duration           Policy Start Date  \\\n",
       "0         17.0     372.00000                 5.0  2023-12-23 15:21:39.134960   \n",
       "1         12.0     694.00000                 2.0  2023-06-12 15:21:39.111551   \n",
       "2         14.0     592.92435                 3.0  2023-09-30 15:21:39.221386   \n",
       "3          0.0     367.00000                 1.0  2024-06-12 15:21:39.226954   \n",
       "4          8.0     598.00000                 4.0  2021-12-01 15:21:39.252145   \n",
       "\n",
       "  Customer Feedback Smoking Status Exercise Frequency Property Type  \\\n",
       "0              Poor             No             Weekly         House   \n",
       "1           Average            Yes            Monthly         House   \n",
       "2              Good            Yes             Weekly         House   \n",
       "3              Poor            Yes              Daily     Apartment   \n",
       "4              Poor            Yes             Weekly         House   \n",
       "\n",
       "  Premium Amount  \n",
       "0         2869.0  \n",
       "1         1483.0  \n",
       "2          567.0  \n",
       "3          765.0  \n",
       "4         2022.0  \n",
       "\n",
       "[5 rows x 21 columns]"
      ]
     },
     "execution_count": 38,
     "metadata": {},
     "output_type": "execute_result"
    }
   ],
   "source": [
    "train_data.head()"
   ]
  },
  {
   "cell_type": "code",
   "execution_count": 39,
   "id": "e62820f3",
   "metadata": {
    "execution": {
     "iopub.execute_input": "2024-12-08T16:53:08.462896Z",
     "iopub.status.busy": "2024-12-08T16:53:08.462114Z",
     "iopub.status.idle": "2024-12-08T16:53:09.183332Z",
     "shell.execute_reply": "2024-12-08T16:53:09.181908Z"
    },
    "papermill": {
     "duration": 0.739413,
     "end_time": "2024-12-08T16:53:09.186555",
     "exception": false,
     "start_time": "2024-12-08T16:53:08.447142",
     "status": "completed"
    },
    "tags": []
   },
   "outputs": [],
   "source": [
    "train_data['Policy Start Date'] = pd.to_datetime(train_data['Policy Start Date'])\n",
    "train_data['date'] = train_data['Policy Start Date'].dt.date\n"
   ]
  },
  {
   "cell_type": "code",
   "execution_count": 40,
   "id": "18e2122b",
   "metadata": {
    "execution": {
     "iopub.execute_input": "2024-12-08T16:53:09.216038Z",
     "iopub.status.busy": "2024-12-08T16:53:09.215625Z",
     "iopub.status.idle": "2024-12-08T16:53:09.456974Z",
     "shell.execute_reply": "2024-12-08T16:53:09.455878Z"
    },
    "papermill": {
     "duration": 0.25912,
     "end_time": "2024-12-08T16:53:09.459591",
     "exception": false,
     "start_time": "2024-12-08T16:53:09.200471",
     "status": "completed"
    },
    "tags": []
   },
   "outputs": [],
   "source": [
    "train_data = train_data.drop(\"Policy Start Date\", axis = 1)"
   ]
  },
  {
   "cell_type": "code",
   "execution_count": 41,
   "id": "6ab79f71",
   "metadata": {
    "execution": {
     "iopub.execute_input": "2024-12-08T16:53:09.489362Z",
     "iopub.status.busy": "2024-12-08T16:53:09.488966Z",
     "iopub.status.idle": "2024-12-08T16:53:09.982014Z",
     "shell.execute_reply": "2024-12-08T16:53:09.980345Z"
    },
    "papermill": {
     "duration": 0.510851,
     "end_time": "2024-12-08T16:53:09.984648",
     "exception": false,
     "start_time": "2024-12-08T16:53:09.473797",
     "status": "completed"
    },
    "tags": []
   },
   "outputs": [],
   "source": [
    "test_data['Policy Start Date'] = pd.to_datetime(test_data['Policy Start Date'])\n",
    "test_data['date'] = test_data['Policy Start Date'].dt.date\n"
   ]
  },
  {
   "cell_type": "code",
   "execution_count": 42,
   "id": "827527b6",
   "metadata": {
    "execution": {
     "iopub.execute_input": "2024-12-08T16:53:10.014605Z",
     "iopub.status.busy": "2024-12-08T16:53:10.014136Z",
     "iopub.status.idle": "2024-12-08T16:53:10.226775Z",
     "shell.execute_reply": "2024-12-08T16:53:10.225219Z"
    },
    "papermill": {
     "duration": 0.231371,
     "end_time": "2024-12-08T16:53:10.230159",
     "exception": false,
     "start_time": "2024-12-08T16:53:09.998788",
     "status": "completed"
    },
    "tags": []
   },
   "outputs": [],
   "source": [
    "test_data = test_data.drop(\"Policy Start Date\", axis = 1)"
   ]
  },
  {
   "cell_type": "code",
   "execution_count": 43,
   "id": "adc1d1bb",
   "metadata": {
    "execution": {
     "iopub.execute_input": "2024-12-08T16:53:10.261143Z",
     "iopub.status.busy": "2024-12-08T16:53:10.260707Z",
     "iopub.status.idle": "2024-12-08T16:53:11.716817Z",
     "shell.execute_reply": "2024-12-08T16:53:11.715086Z"
    },
    "papermill": {
     "duration": 1.474563,
     "end_time": "2024-12-08T16:53:11.719496",
     "exception": false,
     "start_time": "2024-12-08T16:53:10.244933",
     "status": "completed"
    },
    "tags": []
   },
   "outputs": [
    {
     "name": "stderr",
     "output_type": "stream",
     "text": [
      "/tmp/ipykernel_17/3765079498.py:1: FutureWarning: Downcasting behavior in `replace` is deprecated and will be removed in a future version. To retain the old behavior, explicitly call `result.infer_objects(copy=False)`. To opt-in to the future behavior, set `pd.set_option('future.no_silent_downcasting', True)`\n",
      "  train_data['Gender'] = train_data['Gender'].replace({\"Female\": 1, \"Male\" : 0})\n",
      "/tmp/ipykernel_17/3765079498.py:2: FutureWarning: Downcasting behavior in `replace` is deprecated and will be removed in a future version. To retain the old behavior, explicitly call `result.infer_objects(copy=False)`. To opt-in to the future behavior, set `pd.set_option('future.no_silent_downcasting', True)`\n",
      "  train_data['Smoking Status'] = train_data['Smoking Status'].replace({\"Yes\" : 1, \"No\": 0})\n",
      "/tmp/ipykernel_17/3765079498.py:3: FutureWarning: Downcasting behavior in `replace` is deprecated and will be removed in a future version. To retain the old behavior, explicitly call `result.infer_objects(copy=False)`. To opt-in to the future behavior, set `pd.set_option('future.no_silent_downcasting', True)`\n",
      "  test_data['Gender'] = test_data['Gender'].replace({\"Female\": 1, \"Male\" : 0})\n",
      "/tmp/ipykernel_17/3765079498.py:4: FutureWarning: Downcasting behavior in `replace` is deprecated and will be removed in a future version. To retain the old behavior, explicitly call `result.infer_objects(copy=False)`. To opt-in to the future behavior, set `pd.set_option('future.no_silent_downcasting', True)`\n",
      "  test_data['Smoking Status'] = test_data['Smoking Status'].replace({\"Yes\" : 1, \"No\": 0})\n"
     ]
    }
   ],
   "source": [
    "train_data['Gender'] = train_data['Gender'].replace({\"Female\": 1, \"Male\" : 0})\n",
    "train_data['Smoking Status'] = train_data['Smoking Status'].replace({\"Yes\" : 1, \"No\": 0})\n",
    "test_data['Gender'] = test_data['Gender'].replace({\"Female\": 1, \"Male\" : 0})\n",
    "test_data['Smoking Status'] = test_data['Smoking Status'].replace({\"Yes\" : 1, \"No\": 0})"
   ]
  },
  {
   "cell_type": "code",
   "execution_count": 44,
   "id": "43f38c9b",
   "metadata": {
    "execution": {
     "iopub.execute_input": "2024-12-08T16:53:11.749384Z",
     "iopub.status.busy": "2024-12-08T16:53:11.748994Z",
     "iopub.status.idle": "2024-12-08T16:53:11.761163Z",
     "shell.execute_reply": "2024-12-08T16:53:11.760005Z"
    },
    "papermill": {
     "duration": 0.029976,
     "end_time": "2024-12-08T16:53:11.763627",
     "exception": false,
     "start_time": "2024-12-08T16:53:11.733651",
     "status": "completed"
    },
    "tags": []
   },
   "outputs": [],
   "source": [
    " train_data['Vehicle Age'] = train_data['Vehicle Age'].fillna(0.0)"
   ]
  },
  {
   "cell_type": "code",
   "execution_count": 45,
   "id": "0fbb0f63",
   "metadata": {
    "execution": {
     "iopub.execute_input": "2024-12-08T16:53:11.793727Z",
     "iopub.status.busy": "2024-12-08T16:53:11.793291Z",
     "iopub.status.idle": "2024-12-08T16:53:15.265144Z",
     "shell.execute_reply": "2024-12-08T16:53:15.263998Z"
    },
    "papermill": {
     "duration": 3.490032,
     "end_time": "2024-12-08T16:53:15.267913",
     "exception": false,
     "start_time": "2024-12-08T16:53:11.777881",
     "status": "completed"
    },
    "tags": []
   },
   "outputs": [],
   "source": [
    "lb = LabelEncoder()\n",
    "cat_cols = []  \n",
    "\n",
    "for col in train_data.columns:\n",
    "    if train_data[col].dtype == 'object':  \n",
    "        cat_cols.append(col)  \n",
    "        train_data[col] = lb.fit_transform(train_data[col])\n",
    "        test_data[col] = lb.transform(test_data[col])"
   ]
  },
  {
   "cell_type": "code",
   "execution_count": 46,
   "id": "bebbcae6",
   "metadata": {
    "execution": {
     "iopub.execute_input": "2024-12-08T16:53:15.298013Z",
     "iopub.status.busy": "2024-12-08T16:53:15.297636Z",
     "iopub.status.idle": "2024-12-08T16:53:15.605735Z",
     "shell.execute_reply": "2024-12-08T16:53:15.604655Z"
    },
    "papermill": {
     "duration": 0.326475,
     "end_time": "2024-12-08T16:53:15.608692",
     "exception": false,
     "start_time": "2024-12-08T16:53:15.282217",
     "status": "completed"
    },
    "tags": []
   },
   "outputs": [],
   "source": [
    "ip = train_data.copy()\n",
    "ip = ip.drop(\"Premium Amount\", axis = 1)"
   ]
  },
  {
   "cell_type": "code",
   "execution_count": 47,
   "id": "0b368bcd",
   "metadata": {
    "execution": {
     "iopub.execute_input": "2024-12-08T16:53:15.639888Z",
     "iopub.status.busy": "2024-12-08T16:53:15.639478Z",
     "iopub.status.idle": "2024-12-08T16:53:16.192340Z",
     "shell.execute_reply": "2024-12-08T16:53:16.190864Z"
    },
    "papermill": {
     "duration": 0.571386,
     "end_time": "2024-12-08T16:53:16.195274",
     "exception": false,
     "start_time": "2024-12-08T16:53:15.623888",
     "status": "completed"
    },
    "tags": []
   },
   "outputs": [],
   "source": [
    "sc = MinMaxScaler()\n",
    "  \n",
    "for col in ip.columns:\n",
    "    if ip[col].dtype == 'int' or ip[col].dtype == 'float':  \n",
    "         \n",
    "        ip[col] = sc.fit_transform(ip[[col]])\n",
    "        test_data[col] = sc.transform(test_data[[col]])"
   ]
  },
  {
   "cell_type": "code",
   "execution_count": 48,
   "id": "5aa15e0a",
   "metadata": {
    "execution": {
     "iopub.execute_input": "2024-12-08T16:53:16.226964Z",
     "iopub.status.busy": "2024-12-08T16:53:16.226552Z",
     "iopub.status.idle": "2024-12-08T16:53:16.819222Z",
     "shell.execute_reply": "2024-12-08T16:53:16.818142Z"
    },
    "papermill": {
     "duration": 0.611641,
     "end_time": "2024-12-08T16:53:16.821731",
     "exception": false,
     "start_time": "2024-12-08T16:53:16.210090",
     "status": "completed"
    },
    "tags": []
   },
   "outputs": [],
   "source": [
    "X_train, X_test, Y_train, Y_test = train_test_split(ip, train_data['Premium Amount'], test_size = 0.2, random_state = 45)"
   ]
  },
  {
   "cell_type": "code",
   "execution_count": 49,
   "id": "04ddb4d3",
   "metadata": {
    "execution": {
     "iopub.execute_input": "2024-12-08T16:53:16.852493Z",
     "iopub.status.busy": "2024-12-08T16:53:16.852071Z",
     "iopub.status.idle": "2024-12-08T16:53:18.183983Z",
     "shell.execute_reply": "2024-12-08T16:53:18.182682Z"
    },
    "papermill": {
     "duration": 1.350253,
     "end_time": "2024-12-08T16:53:18.186820",
     "exception": false,
     "start_time": "2024-12-08T16:53:16.836567",
     "status": "completed"
    },
    "tags": []
   },
   "outputs": [
    {
     "data": {
      "text/html": [
       "<style>#sk-container-id-1 {color: black;background-color: white;}#sk-container-id-1 pre{padding: 0;}#sk-container-id-1 div.sk-toggleable {background-color: white;}#sk-container-id-1 label.sk-toggleable__label {cursor: pointer;display: block;width: 100%;margin-bottom: 0;padding: 0.3em;box-sizing: border-box;text-align: center;}#sk-container-id-1 label.sk-toggleable__label-arrow:before {content: \"▸\";float: left;margin-right: 0.25em;color: #696969;}#sk-container-id-1 label.sk-toggleable__label-arrow:hover:before {color: black;}#sk-container-id-1 div.sk-estimator:hover label.sk-toggleable__label-arrow:before {color: black;}#sk-container-id-1 div.sk-toggleable__content {max-height: 0;max-width: 0;overflow: hidden;text-align: left;background-color: #f0f8ff;}#sk-container-id-1 div.sk-toggleable__content pre {margin: 0.2em;color: black;border-radius: 0.25em;background-color: #f0f8ff;}#sk-container-id-1 input.sk-toggleable__control:checked~div.sk-toggleable__content {max-height: 200px;max-width: 100%;overflow: auto;}#sk-container-id-1 input.sk-toggleable__control:checked~label.sk-toggleable__label-arrow:before {content: \"▾\";}#sk-container-id-1 div.sk-estimator input.sk-toggleable__control:checked~label.sk-toggleable__label {background-color: #d4ebff;}#sk-container-id-1 div.sk-label input.sk-toggleable__control:checked~label.sk-toggleable__label {background-color: #d4ebff;}#sk-container-id-1 input.sk-hidden--visually {border: 0;clip: rect(1px 1px 1px 1px);clip: rect(1px, 1px, 1px, 1px);height: 1px;margin: -1px;overflow: hidden;padding: 0;position: absolute;width: 1px;}#sk-container-id-1 div.sk-estimator {font-family: monospace;background-color: #f0f8ff;border: 1px dotted black;border-radius: 0.25em;box-sizing: border-box;margin-bottom: 0.5em;}#sk-container-id-1 div.sk-estimator:hover {background-color: #d4ebff;}#sk-container-id-1 div.sk-parallel-item::after {content: \"\";width: 100%;border-bottom: 1px solid gray;flex-grow: 1;}#sk-container-id-1 div.sk-label:hover label.sk-toggleable__label {background-color: #d4ebff;}#sk-container-id-1 div.sk-serial::before {content: \"\";position: absolute;border-left: 1px solid gray;box-sizing: border-box;top: 0;bottom: 0;left: 50%;z-index: 0;}#sk-container-id-1 div.sk-serial {display: flex;flex-direction: column;align-items: center;background-color: white;padding-right: 0.2em;padding-left: 0.2em;position: relative;}#sk-container-id-1 div.sk-item {position: relative;z-index: 1;}#sk-container-id-1 div.sk-parallel {display: flex;align-items: stretch;justify-content: center;background-color: white;position: relative;}#sk-container-id-1 div.sk-item::before, #sk-container-id-1 div.sk-parallel-item::before {content: \"\";position: absolute;border-left: 1px solid gray;box-sizing: border-box;top: 0;bottom: 0;left: 50%;z-index: -1;}#sk-container-id-1 div.sk-parallel-item {display: flex;flex-direction: column;z-index: 1;position: relative;background-color: white;}#sk-container-id-1 div.sk-parallel-item:first-child::after {align-self: flex-end;width: 50%;}#sk-container-id-1 div.sk-parallel-item:last-child::after {align-self: flex-start;width: 50%;}#sk-container-id-1 div.sk-parallel-item:only-child::after {width: 0;}#sk-container-id-1 div.sk-dashed-wrapped {border: 1px dashed gray;margin: 0 0.4em 0.5em 0.4em;box-sizing: border-box;padding-bottom: 0.4em;background-color: white;}#sk-container-id-1 div.sk-label label {font-family: monospace;font-weight: bold;display: inline-block;line-height: 1.2em;}#sk-container-id-1 div.sk-label-container {text-align: center;}#sk-container-id-1 div.sk-container {/* jupyter's `normalize.less` sets `[hidden] { display: none; }` but bootstrap.min.css set `[hidden] { display: none !important; }` so we also need the `!important` here to be able to override the default hidden behavior on the sphinx rendered scikit-learn.org. See: https://github.com/scikit-learn/scikit-learn/issues/21755 */display: inline-block !important;position: relative;}#sk-container-id-1 div.sk-text-repr-fallback {display: none;}</style><div id=\"sk-container-id-1\" class=\"sk-top-container\"><div class=\"sk-text-repr-fallback\"><pre>LinearRegression()</pre><b>In a Jupyter environment, please rerun this cell to show the HTML representation or trust the notebook. <br />On GitHub, the HTML representation is unable to render, please try loading this page with nbviewer.org.</b></div><div class=\"sk-container\" hidden><div class=\"sk-item\"><div class=\"sk-estimator sk-toggleable\"><input class=\"sk-toggleable__control sk-hidden--visually\" id=\"sk-estimator-id-1\" type=\"checkbox\" checked><label for=\"sk-estimator-id-1\" class=\"sk-toggleable__label sk-toggleable__label-arrow\">LinearRegression</label><div class=\"sk-toggleable__content\"><pre>LinearRegression()</pre></div></div></div></div></div>"
      ],
      "text/plain": [
       "LinearRegression()"
      ]
     },
     "execution_count": 49,
     "metadata": {},
     "output_type": "execute_result"
    }
   ],
   "source": [
    "lr = LinearRegression()\n",
    "lr.fit(X_train, Y_train)"
   ]
  },
  {
   "cell_type": "code",
   "execution_count": 50,
   "id": "41a91ae7",
   "metadata": {
    "execution": {
     "iopub.execute_input": "2024-12-08T16:53:18.218399Z",
     "iopub.status.busy": "2024-12-08T16:53:18.217982Z",
     "iopub.status.idle": "2024-12-08T16:53:18.243262Z",
     "shell.execute_reply": "2024-12-08T16:53:18.241810Z"
    },
    "papermill": {
     "duration": 0.044717,
     "end_time": "2024-12-08T16:53:18.246816",
     "exception": false,
     "start_time": "2024-12-08T16:53:18.202099",
     "status": "completed"
    },
    "tags": []
   },
   "outputs": [],
   "source": [
    "y_pred = lr.predict(X_test)"
   ]
  },
  {
   "cell_type": "code",
   "execution_count": 51,
   "id": "77a758e4",
   "metadata": {
    "execution": {
     "iopub.execute_input": "2024-12-08T16:53:18.308955Z",
     "iopub.status.busy": "2024-12-08T16:53:18.307578Z",
     "iopub.status.idle": "2024-12-08T16:53:18.390499Z",
     "shell.execute_reply": "2024-12-08T16:53:18.389270Z"
    },
    "papermill": {
     "duration": 0.117477,
     "end_time": "2024-12-08T16:53:18.394062",
     "exception": false,
     "start_time": "2024-12-08T16:53:18.276585",
     "status": "completed"
    },
    "tags": []
   },
   "outputs": [],
   "source": [
    "y_pred_test_data = lr.predict(test_data)"
   ]
  },
  {
   "cell_type": "code",
   "execution_count": 52,
   "id": "2b0b25e5",
   "metadata": {
    "execution": {
     "iopub.execute_input": "2024-12-08T16:53:18.451410Z",
     "iopub.status.busy": "2024-12-08T16:53:18.450206Z",
     "iopub.status.idle": "2024-12-08T16:53:18.460570Z",
     "shell.execute_reply": "2024-12-08T16:53:18.457897Z"
    },
    "papermill": {
     "duration": 0.043106,
     "end_time": "2024-12-08T16:53:18.464042",
     "exception": false,
     "start_time": "2024-12-08T16:53:18.420936",
     "status": "completed"
    },
    "tags": []
   },
   "outputs": [],
   "source": [
    "def calculate_rmlse(y_true, y_pred):\n",
    "    log_true = np.log(y_true + 1)\n",
    "    log_pred = np.log(y_pred + 1)\n",
    "    rmlse = np.sqrt(np.mean((log_true - log_pred) ** 2))\n",
    "    return rmlse"
   ]
  },
  {
   "cell_type": "code",
   "execution_count": 53,
   "id": "cef62bd8",
   "metadata": {
    "execution": {
     "iopub.execute_input": "2024-12-08T16:53:18.517316Z",
     "iopub.status.busy": "2024-12-08T16:53:18.516913Z",
     "iopub.status.idle": "2024-12-08T16:53:18.530993Z",
     "shell.execute_reply": "2024-12-08T16:53:18.529721Z"
    },
    "papermill": {
     "duration": 0.042122,
     "end_time": "2024-12-08T16:53:18.533588",
     "exception": false,
     "start_time": "2024-12-08T16:53:18.491466",
     "status": "completed"
    },
    "tags": []
   },
   "outputs": [
    {
     "data": {
      "text/plain": [
       "1.1670429562639577"
      ]
     },
     "execution_count": 53,
     "metadata": {},
     "output_type": "execute_result"
    }
   ],
   "source": [
    "calculate_rmlse(Y_test, y_pred)"
   ]
  },
  {
   "cell_type": "code",
   "execution_count": null,
   "id": "06d2a2c2",
   "metadata": {
    "papermill": {
     "duration": 0.014331,
     "end_time": "2024-12-08T16:53:18.562600",
     "exception": false,
     "start_time": "2024-12-08T16:53:18.548269",
     "status": "completed"
    },
    "tags": []
   },
   "outputs": [],
   "source": []
  }
 ],
 "metadata": {
  "kaggle": {
   "accelerator": "none",
   "dataSources": [
    {
     "databundleVersionId": 10305135,
     "sourceId": 84896,
     "sourceType": "competition"
    }
   ],
   "dockerImageVersionId": 30786,
   "isGpuEnabled": false,
   "isInternetEnabled": true,
   "language": "python",
   "sourceType": "notebook"
  },
  "kernelspec": {
   "display_name": "Python 3",
   "language": "python",
   "name": "python3"
  },
  "language_info": {
   "codemirror_mode": {
    "name": "ipython",
    "version": 3
   },
   "file_extension": ".py",
   "mimetype": "text/x-python",
   "name": "python",
   "nbconvert_exporter": "python",
   "pygments_lexer": "ipython3",
   "version": "3.10.14"
  },
  "papermill": {
   "default_parameters": {},
   "duration": 80.920777,
   "end_time": "2024-12-08T16:53:19.400721",
   "environment_variables": {},
   "exception": null,
   "input_path": "__notebook__.ipynb",
   "output_path": "__notebook__.ipynb",
   "parameters": {},
   "start_time": "2024-12-08T16:51:58.479944",
   "version": "2.6.0"
  }
 },
 "nbformat": 4,
 "nbformat_minor": 5
}
