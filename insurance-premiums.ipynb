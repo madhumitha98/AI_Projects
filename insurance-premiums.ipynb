{
 "cells": [
  {
   "cell_type": "code",
   "execution_count": 1,
   "id": "24d36250",
   "metadata": {
    "_cell_guid": "b1076dfc-b9ad-4769-8c92-a6c4dae69d19",
    "_uuid": "8f2839f25d086af736a60e9eeb907d3b93b6e0e5",
    "execution": {
     "iopub.execute_input": "2024-12-03T16:28:44.502266Z",
     "iopub.status.busy": "2024-12-03T16:28:44.501418Z",
     "iopub.status.idle": "2024-12-03T16:28:45.273260Z",
     "shell.execute_reply": "2024-12-03T16:28:45.272185Z"
    },
    "papermill": {
     "duration": 0.783617,
     "end_time": "2024-12-03T16:28:45.276031",
     "exception": false,
     "start_time": "2024-12-03T16:28:44.492414",
     "status": "completed"
    },
    "tags": []
   },
   "outputs": [
    {
     "name": "stdout",
     "output_type": "stream",
     "text": [
      "/kaggle/input/playground-series-s4e12/sample_submission.csv\n",
      "/kaggle/input/playground-series-s4e12/train.csv\n",
      "/kaggle/input/playground-series-s4e12/test.csv\n"
     ]
    }
   ],
   "source": [
    "# This Python 3 environment comes with many helpful analytics libraries installed\n",
    "# It is defined by the kaggle/python Docker image: https://github.com/kaggle/docker-python\n",
    "# For example, here's several helpful packages to load\n",
    "\n",
    "import numpy as np # linear algebra\n",
    "import pandas as pd # data processing, CSV file I/O (e.g. pd.read_csv)\n",
    "\n",
    "# Input data files are available in the read-only \"../input/\" directory\n",
    "# For example, running this (by clicking run or pressing Shift+Enter) will list all files under the input directory\n",
    "\n",
    "import os\n",
    "for dirname, _, filenames in os.walk('/kaggle/input'):\n",
    "    for filename in filenames:\n",
    "        print(os.path.join(dirname, filename))\n",
    "\n",
    "# You can write up to 20GB to the current directory (/kaggle/working/) that gets preserved as output when you create a version using \"Save & Run All\" \n",
    "# You can also write temporary files to /kaggle/temp/, but they won't be saved outside of the current session"
   ]
  },
  {
   "cell_type": "code",
   "execution_count": 2,
   "id": "f8c72407",
   "metadata": {
    "execution": {
     "iopub.execute_input": "2024-12-03T16:28:45.291493Z",
     "iopub.status.busy": "2024-12-03T16:28:45.291009Z",
     "iopub.status.idle": "2024-12-03T16:28:47.288909Z",
     "shell.execute_reply": "2024-12-03T16:28:47.287912Z"
    },
    "papermill": {
     "duration": 2.007836,
     "end_time": "2024-12-03T16:28:47.291273",
     "exception": false,
     "start_time": "2024-12-03T16:28:45.283437",
     "status": "completed"
    },
    "tags": []
   },
   "outputs": [],
   "source": [
    "import matplotlib.pyplot as plt\n",
    "import seaborn as sns\n",
    "from sklearn.preprocessing import StandardScaler, OneHotEncoder, LabelEncoder\n",
    "from sklearn.model_selection import train_test_split\n",
    "from sklearn.linear_model import LinearRegression\n",
    "from sklearn.tree import DecisionTreeRegressor\n",
    "from sklearn.ensemble import RandomForestRegressor, GradientBoostingRegressor"
   ]
  },
  {
   "cell_type": "code",
   "execution_count": 3,
   "id": "6376fdb1",
   "metadata": {
    "execution": {
     "iopub.execute_input": "2024-12-03T16:28:47.306895Z",
     "iopub.status.busy": "2024-12-03T16:28:47.305985Z",
     "iopub.status.idle": "2024-12-03T16:28:57.507182Z",
     "shell.execute_reply": "2024-12-03T16:28:57.506291Z"
    },
    "papermill": {
     "duration": 10.211363,
     "end_time": "2024-12-03T16:28:57.509507",
     "exception": false,
     "start_time": "2024-12-03T16:28:47.298144",
     "status": "completed"
    },
    "tags": []
   },
   "outputs": [],
   "source": [
    "train_data = pd.read_csv(\"/kaggle/input/playground-series-s4e12/train.csv\")\n",
    "\n",
    "test_data = pd.read_csv(\"/kaggle/input/playground-series-s4e12/test.csv\")"
   ]
  },
  {
   "cell_type": "code",
   "execution_count": 4,
   "id": "6ad98197",
   "metadata": {
    "execution": {
     "iopub.execute_input": "2024-12-03T16:28:57.525627Z",
     "iopub.status.busy": "2024-12-03T16:28:57.524885Z",
     "iopub.status.idle": "2024-12-03T16:28:57.560580Z",
     "shell.execute_reply": "2024-12-03T16:28:57.559596Z"
    },
    "papermill": {
     "duration": 0.046297,
     "end_time": "2024-12-03T16:28:57.562559",
     "exception": false,
     "start_time": "2024-12-03T16:28:57.516262",
     "status": "completed"
    },
    "tags": []
   },
   "outputs": [
    {
     "data": {
      "text/html": [
       "<div>\n",
       "<style scoped>\n",
       "    .dataframe tbody tr th:only-of-type {\n",
       "        vertical-align: middle;\n",
       "    }\n",
       "\n",
       "    .dataframe tbody tr th {\n",
       "        vertical-align: top;\n",
       "    }\n",
       "\n",
       "    .dataframe thead th {\n",
       "        text-align: right;\n",
       "    }\n",
       "</style>\n",
       "<table border=\"1\" class=\"dataframe\">\n",
       "  <thead>\n",
       "    <tr style=\"text-align: right;\">\n",
       "      <th></th>\n",
       "      <th>id</th>\n",
       "      <th>Age</th>\n",
       "      <th>Gender</th>\n",
       "      <th>Annual Income</th>\n",
       "      <th>Marital Status</th>\n",
       "      <th>Number of Dependents</th>\n",
       "      <th>Education Level</th>\n",
       "      <th>Occupation</th>\n",
       "      <th>Health Score</th>\n",
       "      <th>Location</th>\n",
       "      <th>...</th>\n",
       "      <th>Previous Claims</th>\n",
       "      <th>Vehicle Age</th>\n",
       "      <th>Credit Score</th>\n",
       "      <th>Insurance Duration</th>\n",
       "      <th>Policy Start Date</th>\n",
       "      <th>Customer Feedback</th>\n",
       "      <th>Smoking Status</th>\n",
       "      <th>Exercise Frequency</th>\n",
       "      <th>Property Type</th>\n",
       "      <th>Premium Amount</th>\n",
       "    </tr>\n",
       "  </thead>\n",
       "  <tbody>\n",
       "    <tr>\n",
       "      <th>0</th>\n",
       "      <td>0</td>\n",
       "      <td>19.0</td>\n",
       "      <td>Female</td>\n",
       "      <td>10049.0</td>\n",
       "      <td>Married</td>\n",
       "      <td>1.0</td>\n",
       "      <td>Bachelor's</td>\n",
       "      <td>Self-Employed</td>\n",
       "      <td>22.598761</td>\n",
       "      <td>Urban</td>\n",
       "      <td>...</td>\n",
       "      <td>2.0</td>\n",
       "      <td>17.0</td>\n",
       "      <td>372.0</td>\n",
       "      <td>5.0</td>\n",
       "      <td>2023-12-23 15:21:39.134960</td>\n",
       "      <td>Poor</td>\n",
       "      <td>No</td>\n",
       "      <td>Weekly</td>\n",
       "      <td>House</td>\n",
       "      <td>2869.0</td>\n",
       "    </tr>\n",
       "    <tr>\n",
       "      <th>1</th>\n",
       "      <td>1</td>\n",
       "      <td>39.0</td>\n",
       "      <td>Female</td>\n",
       "      <td>31678.0</td>\n",
       "      <td>Divorced</td>\n",
       "      <td>3.0</td>\n",
       "      <td>Master's</td>\n",
       "      <td>NaN</td>\n",
       "      <td>15.569731</td>\n",
       "      <td>Rural</td>\n",
       "      <td>...</td>\n",
       "      <td>1.0</td>\n",
       "      <td>12.0</td>\n",
       "      <td>694.0</td>\n",
       "      <td>2.0</td>\n",
       "      <td>2023-06-12 15:21:39.111551</td>\n",
       "      <td>Average</td>\n",
       "      <td>Yes</td>\n",
       "      <td>Monthly</td>\n",
       "      <td>House</td>\n",
       "      <td>1483.0</td>\n",
       "    </tr>\n",
       "    <tr>\n",
       "      <th>2</th>\n",
       "      <td>2</td>\n",
       "      <td>23.0</td>\n",
       "      <td>Male</td>\n",
       "      <td>25602.0</td>\n",
       "      <td>Divorced</td>\n",
       "      <td>3.0</td>\n",
       "      <td>High School</td>\n",
       "      <td>Self-Employed</td>\n",
       "      <td>47.177549</td>\n",
       "      <td>Suburban</td>\n",
       "      <td>...</td>\n",
       "      <td>1.0</td>\n",
       "      <td>14.0</td>\n",
       "      <td>NaN</td>\n",
       "      <td>3.0</td>\n",
       "      <td>2023-09-30 15:21:39.221386</td>\n",
       "      <td>Good</td>\n",
       "      <td>Yes</td>\n",
       "      <td>Weekly</td>\n",
       "      <td>House</td>\n",
       "      <td>567.0</td>\n",
       "    </tr>\n",
       "    <tr>\n",
       "      <th>3</th>\n",
       "      <td>3</td>\n",
       "      <td>21.0</td>\n",
       "      <td>Male</td>\n",
       "      <td>141855.0</td>\n",
       "      <td>Married</td>\n",
       "      <td>2.0</td>\n",
       "      <td>Bachelor's</td>\n",
       "      <td>NaN</td>\n",
       "      <td>10.938144</td>\n",
       "      <td>Rural</td>\n",
       "      <td>...</td>\n",
       "      <td>1.0</td>\n",
       "      <td>0.0</td>\n",
       "      <td>367.0</td>\n",
       "      <td>1.0</td>\n",
       "      <td>2024-06-12 15:21:39.226954</td>\n",
       "      <td>Poor</td>\n",
       "      <td>Yes</td>\n",
       "      <td>Daily</td>\n",
       "      <td>Apartment</td>\n",
       "      <td>765.0</td>\n",
       "    </tr>\n",
       "    <tr>\n",
       "      <th>4</th>\n",
       "      <td>4</td>\n",
       "      <td>21.0</td>\n",
       "      <td>Male</td>\n",
       "      <td>39651.0</td>\n",
       "      <td>Single</td>\n",
       "      <td>1.0</td>\n",
       "      <td>Bachelor's</td>\n",
       "      <td>Self-Employed</td>\n",
       "      <td>20.376094</td>\n",
       "      <td>Rural</td>\n",
       "      <td>...</td>\n",
       "      <td>0.0</td>\n",
       "      <td>8.0</td>\n",
       "      <td>598.0</td>\n",
       "      <td>4.0</td>\n",
       "      <td>2021-12-01 15:21:39.252145</td>\n",
       "      <td>Poor</td>\n",
       "      <td>Yes</td>\n",
       "      <td>Weekly</td>\n",
       "      <td>House</td>\n",
       "      <td>2022.0</td>\n",
       "    </tr>\n",
       "  </tbody>\n",
       "</table>\n",
       "<p>5 rows × 21 columns</p>\n",
       "</div>"
      ],
      "text/plain": [
       "   id   Age  Gender  Annual Income Marital Status  Number of Dependents  \\\n",
       "0   0  19.0  Female        10049.0        Married                   1.0   \n",
       "1   1  39.0  Female        31678.0       Divorced                   3.0   \n",
       "2   2  23.0    Male        25602.0       Divorced                   3.0   \n",
       "3   3  21.0    Male       141855.0        Married                   2.0   \n",
       "4   4  21.0    Male        39651.0         Single                   1.0   \n",
       "\n",
       "  Education Level     Occupation  Health Score  Location  ... Previous Claims  \\\n",
       "0      Bachelor's  Self-Employed     22.598761     Urban  ...             2.0   \n",
       "1        Master's            NaN     15.569731     Rural  ...             1.0   \n",
       "2     High School  Self-Employed     47.177549  Suburban  ...             1.0   \n",
       "3      Bachelor's            NaN     10.938144     Rural  ...             1.0   \n",
       "4      Bachelor's  Self-Employed     20.376094     Rural  ...             0.0   \n",
       "\n",
       "   Vehicle Age  Credit Score  Insurance Duration           Policy Start Date  \\\n",
       "0         17.0         372.0                 5.0  2023-12-23 15:21:39.134960   \n",
       "1         12.0         694.0                 2.0  2023-06-12 15:21:39.111551   \n",
       "2         14.0           NaN                 3.0  2023-09-30 15:21:39.221386   \n",
       "3          0.0         367.0                 1.0  2024-06-12 15:21:39.226954   \n",
       "4          8.0         598.0                 4.0  2021-12-01 15:21:39.252145   \n",
       "\n",
       "  Customer Feedback Smoking Status Exercise Frequency Property Type  \\\n",
       "0              Poor             No             Weekly         House   \n",
       "1           Average            Yes            Monthly         House   \n",
       "2              Good            Yes             Weekly         House   \n",
       "3              Poor            Yes              Daily     Apartment   \n",
       "4              Poor            Yes             Weekly         House   \n",
       "\n",
       "  Premium Amount  \n",
       "0         2869.0  \n",
       "1         1483.0  \n",
       "2          567.0  \n",
       "3          765.0  \n",
       "4         2022.0  \n",
       "\n",
       "[5 rows x 21 columns]"
      ]
     },
     "execution_count": 4,
     "metadata": {},
     "output_type": "execute_result"
    }
   ],
   "source": [
    "train_data.head()"
   ]
  },
  {
   "cell_type": "code",
   "execution_count": 5,
   "id": "4e0d1a37",
   "metadata": {
    "execution": {
     "iopub.execute_input": "2024-12-03T16:28:57.578433Z",
     "iopub.status.busy": "2024-12-03T16:28:57.577638Z",
     "iopub.status.idle": "2024-12-03T16:28:58.209003Z",
     "shell.execute_reply": "2024-12-03T16:28:58.207964Z"
    },
    "papermill": {
     "duration": 0.641614,
     "end_time": "2024-12-03T16:28:58.211117",
     "exception": false,
     "start_time": "2024-12-03T16:28:57.569503",
     "status": "completed"
    },
    "tags": []
   },
   "outputs": [
    {
     "data": {
      "text/plain": [
       "id                       0.000000\n",
       "Age                      1.558750\n",
       "Gender                   0.000000\n",
       "Annual Income            3.745750\n",
       "Marital Status           1.544083\n",
       "Number of Dependents     9.139333\n",
       "Education Level          0.000000\n",
       "Occupation              29.839583\n",
       "Health Score             6.173000\n",
       "Location                 0.000000\n",
       "Policy Type              0.000000\n",
       "Previous Claims         30.335750\n",
       "Vehicle Age              0.000500\n",
       "Credit Score            11.490167\n",
       "Insurance Duration       0.000083\n",
       "Policy Start Date        0.000000\n",
       "Customer Feedback        6.485333\n",
       "Smoking Status           0.000000\n",
       "Exercise Frequency       0.000000\n",
       "Property Type            0.000000\n",
       "Premium Amount           0.000000\n",
       "dtype: float64"
      ]
     },
     "execution_count": 5,
     "metadata": {},
     "output_type": "execute_result"
    }
   ],
   "source": [
    "train_data.isnull().sum()* 100 /len(train_data)"
   ]
  },
  {
   "cell_type": "code",
   "execution_count": 6,
   "id": "8d7a9bb5",
   "metadata": {
    "execution": {
     "iopub.execute_input": "2024-12-03T16:28:58.226965Z",
     "iopub.status.busy": "2024-12-03T16:28:58.226592Z",
     "iopub.status.idle": "2024-12-03T16:28:58.646159Z",
     "shell.execute_reply": "2024-12-03T16:28:58.645142Z"
    },
    "papermill": {
     "duration": 0.430007,
     "end_time": "2024-12-03T16:28:58.648235",
     "exception": false,
     "start_time": "2024-12-03T16:28:58.218228",
     "status": "completed"
    },
    "tags": []
   },
   "outputs": [
    {
     "data": {
      "text/plain": [
       "id                       0.000000\n",
       "Age                      1.561125\n",
       "Gender                   0.000000\n",
       "Annual Income            3.732500\n",
       "Marital Status           1.542000\n",
       "Number of Dependents     9.141250\n",
       "Education Level          0.000000\n",
       "Occupation              29.890625\n",
       "Health Score             6.181125\n",
       "Location                 0.000000\n",
       "Policy Type              0.000000\n",
       "Previous Claims         30.350250\n",
       "Vehicle Age              0.000375\n",
       "Credit Score            11.431375\n",
       "Insurance Duration       0.000250\n",
       "Policy Start Date        0.000000\n",
       "Customer Feedback        6.534500\n",
       "Smoking Status           0.000000\n",
       "Exercise Frequency       0.000000\n",
       "Property Type            0.000000\n",
       "dtype: float64"
      ]
     },
     "execution_count": 6,
     "metadata": {},
     "output_type": "execute_result"
    }
   ],
   "source": [
    "test_data.isnull().sum() / len(test_data) * 100"
   ]
  },
  {
   "cell_type": "code",
   "execution_count": 7,
   "id": "8b3f9553",
   "metadata": {
    "execution": {
     "iopub.execute_input": "2024-12-03T16:28:58.664151Z",
     "iopub.status.busy": "2024-12-03T16:28:58.663782Z",
     "iopub.status.idle": "2024-12-03T16:28:58.667934Z",
     "shell.execute_reply": "2024-12-03T16:28:58.667111Z"
    },
    "papermill": {
     "duration": 0.014253,
     "end_time": "2024-12-03T16:28:58.669811",
     "exception": false,
     "start_time": "2024-12-03T16:28:58.655558",
     "status": "completed"
    },
    "tags": []
   },
   "outputs": [],
   "source": [
    "## EDA"
   ]
  },
  {
   "cell_type": "code",
   "execution_count": 8,
   "id": "b699e40d",
   "metadata": {
    "execution": {
     "iopub.execute_input": "2024-12-03T16:28:58.685117Z",
     "iopub.status.busy": "2024-12-03T16:28:58.684772Z",
     "iopub.status.idle": "2024-12-03T16:28:58.943532Z",
     "shell.execute_reply": "2024-12-03T16:28:58.942536Z"
    },
    "papermill": {
     "duration": 0.26872,
     "end_time": "2024-12-03T16:28:58.945557",
     "exception": false,
     "start_time": "2024-12-03T16:28:58.676837",
     "status": "completed"
    },
    "tags": []
   },
   "outputs": [
    {
     "data": {
      "image/png": "[encoded data removed]",
      "text/plain": [
       "<Figure size 640x480 with 1 Axes>"
      ]
     },
     "metadata": {},
     "output_type": "display_data"
    }
   ],
   "source": [
    "plt.hist(train_data['Annual Income'], bins = 5)\n",
    "plt.show()"
   ]
  },
  {
   "cell_type": "code",
   "execution_count": 9,
   "id": "d160209d",
   "metadata": {
    "execution": {
     "iopub.execute_input": "2024-12-03T16:28:58.962246Z",
     "iopub.status.busy": "2024-12-03T16:28:58.961884Z",
     "iopub.status.idle": "2024-12-03T16:29:01.676006Z",
     "shell.execute_reply": "2024-12-03T16:29:01.675066Z"
    },
    "papermill": {
     "duration": 2.725175,
     "end_time": "2024-12-03T16:29:01.678115",
     "exception": false,
     "start_time": "2024-12-03T16:28:58.952940",
     "status": "completed"
    },
    "tags": []
   },
   "outputs": [
    {
     "data": {
      "image/png": "[encoded data removed]",
      "text/plain": [
       "<Figure size 640x480 with 1 Axes>"
      ]
     },
     "metadata": {},
     "output_type": "display_data"
    }
   ],
   "source": [
    "plt.scatter(train_data['Premium Amount'], train_data['Annual Income'])\n",
    "plt.show()"
   ]
  },
  {
   "cell_type": "code",
   "execution_count": 10,
   "id": "14392e9b",
   "metadata": {
    "execution": {
     "iopub.execute_input": "2024-12-03T16:29:01.695627Z",
     "iopub.status.busy": "2024-12-03T16:29:01.695230Z",
     "iopub.status.idle": "2024-12-03T16:29:20.458828Z",
     "shell.execute_reply": "2024-12-03T16:29:20.457787Z"
    },
    "papermill": {
     "duration": 18.774809,
     "end_time": "2024-12-03T16:29:20.460989",
     "exception": false,
     "start_time": "2024-12-03T16:29:01.686180",
     "status": "completed"
    },
    "tags": []
   },
   "outputs": [
    {
     "data": {
      "image/png": "[encoded data removed]",
      "text/plain": [
       "<Figure size 640x480 with 1 Axes>"
      ]
     },
     "metadata": {},
     "output_type": "display_data"
    }
   ],
   "source": [
    "sns.barplot(data = train_data, x = 'Gender', y= 'Annual Income')\n",
    "plt.show()"
   ]
  },
  {
   "cell_type": "code",
   "execution_count": 11,
   "id": "90281c94",
   "metadata": {
    "execution": {
     "iopub.execute_input": "2024-12-03T16:29:20.479938Z",
     "iopub.status.busy": "2024-12-03T16:29:20.479202Z",
     "iopub.status.idle": "2024-12-03T16:29:22.037165Z",
     "shell.execute_reply": "2024-12-03T16:29:22.036168Z"
    },
    "papermill": {
     "duration": 1.569674,
     "end_time": "2024-12-03T16:29:22.039237",
     "exception": false,
     "start_time": "2024-12-03T16:29:20.469563",
     "status": "completed"
    },
    "tags": []
   },
   "outputs": [
    {
     "data": {
      "image/png": "[encoded data removed]",
      "text/plain": [
       "<Figure size 640x480 with 1 Axes>"
      ]
     },
     "metadata": {},
     "output_type": "display_data"
    }
   ],
   "source": [
    "sns.countplot(data=train_data, x='Gender', hue='Marital Status')\n",
    "plt.title(\"Count of Gender with Marital Status\")\n",
    "plt.show()"
   ]
  },
  {
   "cell_type": "code",
   "execution_count": 12,
   "id": "4fb8f715",
   "metadata": {
    "execution": {
     "iopub.execute_input": "2024-12-03T16:29:22.058499Z",
     "iopub.status.busy": "2024-12-03T16:29:22.058093Z",
     "iopub.status.idle": "2024-12-03T16:29:22.247270Z",
     "shell.execute_reply": "2024-12-03T16:29:22.246211Z"
    },
    "papermill": {
     "duration": 0.202252,
     "end_time": "2024-12-03T16:29:22.250431",
     "exception": false,
     "start_time": "2024-12-03T16:29:22.048179",
     "status": "completed"
    },
    "tags": []
   },
   "outputs": [
    {
     "data": {
      "image/png": "[encoded data removed]",
      "text/plain": [
       "<Figure size 640x480 with 1 Axes>"
      ]
     },
     "metadata": {},
     "output_type": "display_data"
    }
   ],
   "source": [
    "sns.boxplot(data = train_data, x= 'Age')\n",
    "plt.show()"
   ]
  },
  {
   "cell_type": "code",
   "execution_count": 13,
   "id": "233a145b",
   "metadata": {
    "execution": {
     "iopub.execute_input": "2024-12-03T16:29:22.272737Z",
     "iopub.status.busy": "2024-12-03T16:29:22.271982Z",
     "iopub.status.idle": "2024-12-03T16:29:30.006630Z",
     "shell.execute_reply": "2024-12-03T16:29:30.005539Z"
    },
    "papermill": {
     "duration": 7.746787,
     "end_time": "2024-12-03T16:29:30.008808",
     "exception": false,
     "start_time": "2024-12-03T16:29:22.262021",
     "status": "completed"
    },
    "tags": []
   },
   "outputs": [
    {
     "name": "stderr",
     "output_type": "stream",
     "text": [
      "/opt/conda/lib/python3.10/site-packages/seaborn/_oldcore.py:1119: FutureWarning: use_inf_as_na option is deprecated and will be removed in a future version. Convert inf values to NaN before operating instead.\n",
      "  with pd.option_context('mode.use_inf_as_na', True):\n",
      "/opt/conda/lib/python3.10/site-packages/seaborn/_oldcore.py:1119: FutureWarning: use_inf_as_na option is deprecated and will be removed in a future version. Convert inf values to NaN before operating instead.\n",
      "  with pd.option_context('mode.use_inf_as_na', True):\n",
      "/opt/conda/lib/python3.10/site-packages/seaborn/_oldcore.py:1075: FutureWarning: When grouping with a length-1 list-like, you will need to pass a length-1 tuple to get_group in a future version of pandas. Pass `(name,)` instead of `name` to silence this warning.\n",
      "  data_subset = grouped_data.get_group(pd_key)\n",
      "/opt/conda/lib/python3.10/site-packages/seaborn/_oldcore.py:1075: FutureWarning: When grouping with a length-1 list-like, you will need to pass a length-1 tuple to get_group in a future version of pandas. Pass `(name,)` instead of `name` to silence this warning.\n",
      "  data_subset = grouped_data.get_group(pd_key)\n"
     ]
    },
    {
     "data": {
      "image/png": "[encoded data removed]",
      "text/plain": [
       "<Figure size 640x480 with 1 Axes>"
      ]
     },
     "metadata": {},
     "output_type": "display_data"
    }
   ],
   "source": [
    "sns.lineplot(data = train_data, x = 'Occupation', y = 'Number of Dependents', hue = 'Gender')\n",
    "plt.show()"
   ]
  },
  {
   "cell_type": "code",
   "execution_count": 14,
   "id": "de1b1c8c",
   "metadata": {
    "execution": {
     "iopub.execute_input": "2024-12-03T16:29:30.030157Z",
     "iopub.status.busy": "2024-12-03T16:29:30.029747Z",
     "iopub.status.idle": "2024-12-03T16:29:30.448386Z",
     "shell.execute_reply": "2024-12-03T16:29:30.447400Z"
    },
    "papermill": {
     "duration": 0.431691,
     "end_time": "2024-12-03T16:29:30.450550",
     "exception": false,
     "start_time": "2024-12-03T16:29:30.018859",
     "status": "completed"
    },
    "tags": []
   },
   "outputs": [
    {
     "data": {
      "text/plain": [
       "id                           0\n",
       "Age                      12489\n",
       "Gender                       0\n",
       "Annual Income            29860\n",
       "Marital Status           12336\n",
       "Number of Dependents     73130\n",
       "Education Level              0\n",
       "Occupation              239125\n",
       "Health Score             49449\n",
       "Location                     0\n",
       "Policy Type                  0\n",
       "Previous Claims         242802\n",
       "Vehicle Age                  3\n",
       "Credit Score             91451\n",
       "Insurance Duration           2\n",
       "Policy Start Date            0\n",
       "Customer Feedback        52276\n",
       "Smoking Status               0\n",
       "Exercise Frequency           0\n",
       "Property Type                0\n",
       "dtype: int64"
      ]
     },
     "execution_count": 14,
     "metadata": {},
     "output_type": "execute_result"
    }
   ],
   "source": [
    "test_data.isnull().sum()"
   ]
  },
  {
   "cell_type": "code",
   "execution_count": 15,
   "id": "519cb7fe",
   "metadata": {
    "execution": {
     "iopub.execute_input": "2024-12-03T16:29:30.472072Z",
     "iopub.status.busy": "2024-12-03T16:29:30.471405Z",
     "iopub.status.idle": "2024-12-03T16:29:30.739918Z",
     "shell.execute_reply": "2024-12-03T16:29:30.739017Z"
    },
    "papermill": {
     "duration": 0.281482,
     "end_time": "2024-12-03T16:29:30.742214",
     "exception": false,
     "start_time": "2024-12-03T16:29:30.460732",
     "status": "completed"
    },
    "tags": []
   },
   "outputs": [],
   "source": [
    "train_data.loc[(train_data['Education Level'] == 'High School') & (train_data['Occupation'].isna()), 'Occupation'] = 'Unemployed'\n",
    "test_data.loc[(test_data['Education Level'] == 'High School') & (test_data['Occupation'].isna()), 'Occupation'] = 'Unemployed'"
   ]
  },
  {
   "cell_type": "code",
   "execution_count": 16,
   "id": "fbae1dca",
   "metadata": {
    "execution": {
     "iopub.execute_input": "2024-12-03T16:29:30.764020Z",
     "iopub.status.busy": "2024-12-03T16:29:30.763648Z",
     "iopub.status.idle": "2024-12-03T16:29:30.896124Z",
     "shell.execute_reply": "2024-12-03T16:29:30.894939Z"
    },
    "papermill": {
     "duration": 0.146783,
     "end_time": "2024-12-03T16:29:30.899081",
     "exception": false,
     "start_time": "2024-12-03T16:29:30.752298",
     "status": "completed"
    },
    "tags": []
   },
   "outputs": [],
   "source": [
    "train_data.loc[((train_data['Age'] > 50) | (train_data['Age'] < 21)) & train_data['Occupation'].isna(), 'Occupation'] = 'Unemployed'\n",
    "test_data.loc[((test_data['Age'] > 50) | (test_data['Age'] < 21)) & test_data['Occupation'].isna(), 'Occupation'] = 'Unemployed'"
   ]
  },
  {
   "cell_type": "code",
   "execution_count": 17,
   "id": "ed213b1f",
   "metadata": {
    "execution": {
     "iopub.execute_input": "2024-12-03T16:29:30.923458Z",
     "iopub.status.busy": "2024-12-03T16:29:30.923106Z",
     "iopub.status.idle": "2024-12-03T16:29:31.059127Z",
     "shell.execute_reply": "2024-12-03T16:29:31.058240Z"
    },
    "papermill": {
     "duration": 0.149398,
     "end_time": "2024-12-03T16:29:31.061521",
     "exception": false,
     "start_time": "2024-12-03T16:29:30.912123",
     "status": "completed"
    },
    "tags": []
   },
   "outputs": [],
   "source": [
    "train_data['Occupation'] = train_data['Occupation'].fillna('Unemployed')\n",
    "test_data['Occupation'] = test_data['Occupation'].fillna('Unemployed')"
   ]
  },
  {
   "cell_type": "code",
   "execution_count": 18,
   "id": "a733c6a7",
   "metadata": {
    "execution": {
     "iopub.execute_input": "2024-12-03T16:29:31.083133Z",
     "iopub.status.busy": "2024-12-03T16:29:31.082755Z",
     "iopub.status.idle": "2024-12-03T16:29:31.264497Z",
     "shell.execute_reply": "2024-12-03T16:29:31.263674Z"
    },
    "papermill": {
     "duration": 0.195175,
     "end_time": "2024-12-03T16:29:31.266870",
     "exception": false,
     "start_time": "2024-12-03T16:29:31.071695",
     "status": "completed"
    },
    "tags": []
   },
   "outputs": [],
   "source": [
    "train_data.loc[(train_data['Previous Claims'].isnull()) & (train_data['Occupation'] == 'Unemployed'), 'Previous Claims'] = 0.0\n",
    "test_data.loc[(test_data['Previous Claims'].isnull()) & (test_data['Occupation'] == 'Unemployed'), 'Previous Claims'] = 0.0"
   ]
  },
  {
   "cell_type": "code",
   "execution_count": 19,
   "id": "b534b133",
   "metadata": {
    "execution": {
     "iopub.execute_input": "2024-12-03T16:29:31.288051Z",
     "iopub.status.busy": "2024-12-03T16:29:31.287689Z",
     "iopub.status.idle": "2024-12-03T16:29:31.303251Z",
     "shell.execute_reply": "2024-12-03T16:29:31.302379Z"
    },
    "papermill": {
     "duration": 0.028668,
     "end_time": "2024-12-03T16:29:31.305502",
     "exception": false,
     "start_time": "2024-12-03T16:29:31.276834",
     "status": "completed"
    },
    "tags": []
   },
   "outputs": [],
   "source": [
    "train_data.loc[(train_data['Previous Claims'].isnull()) & (train_data['Annual Income'] > 50000), 'Previous Claims'] = 0.0\n",
    "test_data.loc[(test_data['Previous Claims'].isnull()) & (test_data['Annual Income'] > 50000), 'Previous Claims'] = 0.0"
   ]
  },
  {
   "cell_type": "code",
   "execution_count": 20,
   "id": "4f027d6a",
   "metadata": {
    "execution": {
     "iopub.execute_input": "2024-12-03T16:29:31.326626Z",
     "iopub.status.busy": "2024-12-03T16:29:31.326239Z",
     "iopub.status.idle": "2024-12-03T16:29:31.495942Z",
     "shell.execute_reply": "2024-12-03T16:29:31.495049Z"
    },
    "papermill": {
     "duration": 0.182859,
     "end_time": "2024-12-03T16:29:31.498229",
     "exception": false,
     "start_time": "2024-12-03T16:29:31.315370",
     "status": "completed"
    },
    "tags": []
   },
   "outputs": [],
   "source": [
    "train_data.loc[(train_data['Previous Claims'].isnull()) & (train_data['Education Level'] ==  'High School'), 'Previous Claims'] = 0.0\n",
    "test_data.loc[(test_data['Previous Claims'].isnull()) & (test_data['Education Level'] ==  'High School'), 'Previous Claims'] = 0.0"
   ]
  },
  {
   "cell_type": "code",
   "execution_count": 21,
   "id": "b1d1cc8f",
   "metadata": {
    "execution": {
     "iopub.execute_input": "2024-12-03T16:29:31.519753Z",
     "iopub.status.busy": "2024-12-03T16:29:31.518978Z",
     "iopub.status.idle": "2024-12-03T16:29:31.536551Z",
     "shell.execute_reply": "2024-12-03T16:29:31.535549Z"
    },
    "papermill": {
     "duration": 0.030685,
     "end_time": "2024-12-03T16:29:31.538880",
     "exception": false,
     "start_time": "2024-12-03T16:29:31.508195",
     "status": "completed"
    },
    "tags": []
   },
   "outputs": [],
   "source": [
    "train_data['Previous Claims'] = train_data['Previous Claims'].fillna(np.random.randint(0.0, 9.0))\n",
    "test_data['Previous Claims'] = test_data['Previous Claims'].fillna(np.random.randint(0.0, 9.0))"
   ]
  },
  {
   "cell_type": "code",
   "execution_count": 22,
   "id": "cc2151ec",
   "metadata": {
    "execution": {
     "iopub.execute_input": "2024-12-03T16:29:31.559965Z",
     "iopub.status.busy": "2024-12-03T16:29:31.559598Z",
     "iopub.status.idle": "2024-12-03T16:29:31.738574Z",
     "shell.execute_reply": "2024-12-03T16:29:31.737562Z"
    },
    "papermill": {
     "duration": 0.19238,
     "end_time": "2024-12-03T16:29:31.741187",
     "exception": false,
     "start_time": "2024-12-03T16:29:31.548807",
     "status": "completed"
    },
    "tags": []
   },
   "outputs": [],
   "source": [
    "train_data.loc[(train_data['Number of Dependents'].isnull()) & (train_data['Marital Status'] == 'Single'),'Number of Dependents']= 0.0\n",
    "test_data.loc[(test_data['Number of Dependents'].isnull()) & (test_data['Marital Status'] == 'Single'),'Number of Dependents']= 0.0"
   ]
  },
  {
   "cell_type": "code",
   "execution_count": 23,
   "id": "7c17ad01",
   "metadata": {
    "execution": {
     "iopub.execute_input": "2024-12-03T16:29:31.762528Z",
     "iopub.status.busy": "2024-12-03T16:29:31.762153Z",
     "iopub.status.idle": "2024-12-03T16:29:33.498224Z",
     "shell.execute_reply": "2024-12-03T16:29:33.497321Z"
    },
    "papermill": {
     "duration": 1.749258,
     "end_time": "2024-12-03T16:29:33.500463",
     "exception": false,
     "start_time": "2024-12-03T16:29:31.751205",
     "status": "completed"
    },
    "tags": []
   },
   "outputs": [],
   "source": [
    "train_data['Number of Dependents'] = train_data['Number of Dependents'].apply(lambda x: np.random.uniform(0.0, 5.0) if pd.isna(x) else x\n",
    ")\n",
    "\n",
    "test_data['Number of Dependents'] = test_data['Number of Dependents'].apply(lambda x: np.random.uniform(0.0, 5.0) if pd.isna(x) else x\n",
    ")"
   ]
  },
  {
   "cell_type": "code",
   "execution_count": 24,
   "id": "62dd1fec",
   "metadata": {
    "execution": {
     "iopub.execute_input": "2024-12-03T16:29:33.521700Z",
     "iopub.status.busy": "2024-12-03T16:29:33.521080Z",
     "iopub.status.idle": "2024-12-03T16:29:33.546670Z",
     "shell.execute_reply": "2024-12-03T16:29:33.545705Z"
    },
    "papermill": {
     "duration": 0.038516,
     "end_time": "2024-12-03T16:29:33.548961",
     "exception": false,
     "start_time": "2024-12-03T16:29:33.510445",
     "status": "completed"
    },
    "tags": []
   },
   "outputs": [],
   "source": [
    "train_data['Annual Income'] = train_data['Annual Income'].fillna(np.mean(train_data['Annual Income']))\n",
    "\n",
    "test_data['Annual Income'] = test_data['Annual Income'].fillna(np.mean(test_data['Annual Income']))"
   ]
  },
  {
   "cell_type": "code",
   "execution_count": 25,
   "id": "c9ff0ecc",
   "metadata": {
    "execution": {
     "iopub.execute_input": "2024-12-03T16:29:33.570156Z",
     "iopub.status.busy": "2024-12-03T16:29:33.569787Z",
     "iopub.status.idle": "2024-12-03T16:29:33.574633Z",
     "shell.execute_reply": "2024-12-03T16:29:33.573679Z"
    },
    "papermill": {
     "duration": 0.017601,
     "end_time": "2024-12-03T16:29:33.576620",
     "exception": false,
     "start_time": "2024-12-03T16:29:33.559019",
     "status": "completed"
    },
    "tags": []
   },
   "outputs": [],
   "source": [
    "total_feedback = 377905 + 375518 + 368753\n",
    "\n",
    "probabilities = {\n",
    "    'Average': 377905 / total_feedback,\n",
    "    'Poor': 375518 / total_feedback,\n",
    "    'Good': 368753 / total_feedback\n",
    "}"
   ]
  },
  {
   "cell_type": "code",
   "execution_count": 26,
   "id": "0a5c5f62",
   "metadata": {
    "execution": {
     "iopub.execute_input": "2024-12-03T16:29:33.598401Z",
     "iopub.status.busy": "2024-12-03T16:29:33.598049Z",
     "iopub.status.idle": "2024-12-03T16:29:36.062608Z",
     "shell.execute_reply": "2024-12-03T16:29:36.061640Z"
    },
    "papermill": {
     "duration": 2.478112,
     "end_time": "2024-12-03T16:29:36.065051",
     "exception": false,
     "start_time": "2024-12-03T16:29:33.586939",
     "status": "completed"
    },
    "tags": []
   },
   "outputs": [],
   "source": [
    "train_data['Customer Feedback'] = train_data['Customer Feedback'].apply(\n",
    "    lambda x: np.random.choice(['Average', 'Poor', 'Good'], p=[probabilities['Average'], probabilities['Poor'], probabilities['Good']]) \n",
    "    if pd.isna(x) else x\n",
    ")"
   ]
  },
  {
   "cell_type": "code",
   "execution_count": 27,
   "id": "201fa041",
   "metadata": {
    "execution": {
     "iopub.execute_input": "2024-12-03T16:29:36.086535Z",
     "iopub.status.busy": "2024-12-03T16:29:36.086101Z",
     "iopub.status.idle": "2024-12-03T16:29:36.091084Z",
     "shell.execute_reply": "2024-12-03T16:29:36.090150Z"
    },
    "papermill": {
     "duration": 0.018163,
     "end_time": "2024-12-03T16:29:36.093185",
     "exception": false,
     "start_time": "2024-12-03T16:29:36.075022",
     "status": "completed"
    },
    "tags": []
   },
   "outputs": [],
   "source": [
    "feedback_count = 251217 + 250434 + 246073\n",
    "prop = probabilities = {\n",
    "    'Average': 251217 / feedback_count,\n",
    "    'Poor': 250434 / feedback_count,\n",
    "    'Good': 246073 / feedback_count\n",
    "}"
   ]
  },
  {
   "cell_type": "code",
   "execution_count": 28,
   "id": "eb186357",
   "metadata": {
    "execution": {
     "iopub.execute_input": "2024-12-03T16:29:36.114044Z",
     "iopub.status.busy": "2024-12-03T16:29:36.113692Z",
     "iopub.status.idle": "2024-12-03T16:29:37.773171Z",
     "shell.execute_reply": "2024-12-03T16:29:37.772024Z"
    },
    "papermill": {
     "duration": 1.672517,
     "end_time": "2024-12-03T16:29:37.775532",
     "exception": false,
     "start_time": "2024-12-03T16:29:36.103015",
     "status": "completed"
    },
    "tags": []
   },
   "outputs": [],
   "source": [
    "test_data['Customer Feedback'] = test_data['Customer Feedback'].apply(\n",
    "    lambda x: np.random.choice(['Average', 'Poor', 'Good'], p=[probabilities['Average'], probabilities['Poor'], probabilities['Good']]) \n",
    "    if pd.isna(x) else x\n",
    ")"
   ]
  },
  {
   "cell_type": "code",
   "execution_count": 29,
   "id": "85b1c958",
   "metadata": {
    "execution": {
     "iopub.execute_input": "2024-12-03T16:29:37.796419Z",
     "iopub.status.busy": "2024-12-03T16:29:37.796068Z",
     "iopub.status.idle": "2024-12-03T16:29:37.824419Z",
     "shell.execute_reply": "2024-12-03T16:29:37.823590Z"
    },
    "papermill": {
     "duration": 0.041281,
     "end_time": "2024-12-03T16:29:37.826636",
     "exception": false,
     "start_time": "2024-12-03T16:29:37.785355",
     "status": "completed"
    },
    "tags": []
   },
   "outputs": [],
   "source": [
    "train_data['Credit Score'] = train_data['Credit Score'].fillna(train_data['Credit Score'].mean()) \n",
    "\n",
    "test_data['Credit Score'] = test_data['Credit Score'].fillna(test_data['Credit Score'].mean()) "
   ]
  },
  {
   "cell_type": "code",
   "execution_count": 30,
   "id": "60fb75bc",
   "metadata": {
    "execution": {
     "iopub.execute_input": "2024-12-03T16:29:37.847931Z",
     "iopub.status.busy": "2024-12-03T16:29:37.847444Z",
     "iopub.status.idle": "2024-12-03T16:29:38.944852Z",
     "shell.execute_reply": "2024-12-03T16:29:38.943717Z"
    },
    "papermill": {
     "duration": 1.110724,
     "end_time": "2024-12-03T16:29:38.947301",
     "exception": false,
     "start_time": "2024-12-03T16:29:37.836577",
     "status": "completed"
    },
    "tags": []
   },
   "outputs": [],
   "source": [
    "min_val = train_data['Health Score'].min()\n",
    "max_val = train_data['Health Score'].max()\n",
    "train_data['Health Score'] = train_data['Health Score'].apply(lambda x: np.random.uniform(min_val, max_val) if pd.isnull(x) else x)"
   ]
  },
  {
   "cell_type": "code",
   "execution_count": 31,
   "id": "f1165d7d",
   "metadata": {
    "execution": {
     "iopub.execute_input": "2024-12-03T16:29:38.969574Z",
     "iopub.status.busy": "2024-12-03T16:29:38.968810Z",
     "iopub.status.idle": "2024-12-03T16:29:39.675376Z",
     "shell.execute_reply": "2024-12-03T16:29:39.674293Z"
    },
    "papermill": {
     "duration": 0.719883,
     "end_time": "2024-12-03T16:29:39.677996",
     "exception": false,
     "start_time": "2024-12-03T16:29:38.958113",
     "status": "completed"
    },
    "tags": []
   },
   "outputs": [],
   "source": [
    "min_val_test = test_data['Health Score'].min()\n",
    "max_val_test = test_data['Health Score'].max()\n",
    "test_data['Health Score'] = test_data['Health Score'].apply(lambda x: np.random.uniform(min_val_test, max_val_test) if pd.isnull(x) else x)"
   ]
  },
  {
   "cell_type": "code",
   "execution_count": 32,
   "id": "4aa8c15e",
   "metadata": {
    "execution": {
     "iopub.execute_input": "2024-12-03T16:29:39.699618Z",
     "iopub.status.busy": "2024-12-03T16:29:39.699264Z",
     "iopub.status.idle": "2024-12-03T16:29:41.202888Z",
     "shell.execute_reply": "2024-12-03T16:29:41.201857Z"
    },
    "papermill": {
     "duration": 1.516976,
     "end_time": "2024-12-03T16:29:41.205202",
     "exception": false,
     "start_time": "2024-12-03T16:29:39.688226",
     "status": "completed"
    },
    "tags": []
   },
   "outputs": [],
   "source": [
    " train_data['Age'] = train_data['Age'].apply(lambda x: np.random.uniform(18.0, 64.0) if pd.isnull(x) else x)\n",
    "\n",
    " test_data['Age'] = test_data['Age'].apply(lambda x: np.random.uniform(18.0, 64.0) if pd.isnull(x) else x)"
   ]
  },
  {
   "cell_type": "code",
   "execution_count": 33,
   "id": "91876ba3",
   "metadata": {
    "execution": {
     "iopub.execute_input": "2024-12-03T16:29:41.227580Z",
     "iopub.status.busy": "2024-12-03T16:29:41.226730Z",
     "iopub.status.idle": "2024-12-03T16:29:41.359413Z",
     "shell.execute_reply": "2024-12-03T16:29:41.358351Z"
    },
    "papermill": {
     "duration": 0.146483,
     "end_time": "2024-12-03T16:29:41.361864",
     "exception": false,
     "start_time": "2024-12-03T16:29:41.215381",
     "status": "completed"
    },
    "tags": []
   },
   "outputs": [],
   "source": [
    "train_data['Marital Status'] = train_data['Marital Status'].fillna('Single')\n",
    "\n",
    "test_data['Marital Status'] = test_data['Marital Status'].fillna('Single')"
   ]
  },
  {
   "cell_type": "code",
   "execution_count": 34,
   "id": "9d1b0fc4",
   "metadata": {
    "execution": {
     "iopub.execute_input": "2024-12-03T16:29:41.383205Z",
     "iopub.status.busy": "2024-12-03T16:29:41.382817Z",
     "iopub.status.idle": "2024-12-03T16:29:41.399256Z",
     "shell.execute_reply": "2024-12-03T16:29:41.398236Z"
    },
    "papermill": {
     "duration": 0.029681,
     "end_time": "2024-12-03T16:29:41.401558",
     "exception": false,
     "start_time": "2024-12-03T16:29:41.371877",
     "status": "completed"
    },
    "tags": []
   },
   "outputs": [],
   "source": [
    " train_data['Insurance Duration'] = train_data['Insurance Duration'].fillna(0)\n",
    "test_data['Insurance Duration'] = test_data['Insurance Duration'].fillna(0)"
   ]
  },
  {
   "cell_type": "code",
   "execution_count": 35,
   "id": "db65a0f1",
   "metadata": {
    "execution": {
     "iopub.execute_input": "2024-12-03T16:29:41.423131Z",
     "iopub.status.busy": "2024-12-03T16:29:41.422263Z",
     "iopub.status.idle": "2024-12-03T16:29:41.974451Z",
     "shell.execute_reply": "2024-12-03T16:29:41.973376Z"
    },
    "papermill": {
     "duration": 0.56526,
     "end_time": "2024-12-03T16:29:41.976851",
     "exception": false,
     "start_time": "2024-12-03T16:29:41.411591",
     "status": "completed"
    },
    "tags": []
   },
   "outputs": [],
   "source": [
    " test_data['Vehicle Age'] = test_data['Vehicle Age'].apply(lambda x: np.random.uniform(0.0, 11.0) if pd.isnull(x) else x)"
   ]
  }
 ],
 "metadata": {
  "kaggle": {
   "accelerator": "none",
   "dataSources": [
    {
     "databundleVersionId": 10305135,
     "sourceId": 84896,
     "sourceType": "competition"
    }
   ],
   "dockerImageVersionId": 30786,
   "isGpuEnabled": false,
   "isInternetEnabled": true,
   "language": "python",
   "sourceType": "notebook"
  },
  "kernelspec": {
   "display_name": "Python 3",
   "language": "python",
   "name": "python3"
  },
  "language_info": {
   "codemirror_mode": {
    "name": "ipython",
    "version": 3
   },
   "file_extension": ".py",
   "mimetype": "text/x-python",
   "name": "python",
   "nbconvert_exporter": "python",
   "pygments_lexer": "ipython3",
   "version": "3.10.14"
  },
  "papermill": {
   "default_parameters": {},
   "duration": 60.738375,
   "end_time": "2024-12-03T16:29:42.706679",
   "environment_variables": {},
   "exception": null,
   "input_path": "__notebook__.ipynb",
   "output_path": "__notebook__.ipynb",
   "parameters": {},
   "start_time": "2024-12-03T16:28:41.968304",
   "version": "2.6.0"
  }
 },
 "nbformat": 4,
 "nbformat_minor": 5
}
