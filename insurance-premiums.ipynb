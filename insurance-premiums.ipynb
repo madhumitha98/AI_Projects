{
 "cells": [
  {
   "cell_type": "code",
   "execution_count": 1,
   "id": "8cd1a04e",
   "metadata": {
    "_cell_guid": "b1076dfc-b9ad-4769-8c92-a6c4dae69d19",
    "_uuid": "8f2839f25d086af736a60e9eeb907d3b93b6e0e5",
    "execution": {
     "iopub.execute_input": "2024-12-05T15:38:53.449211Z",
     "iopub.status.busy": "2024-12-05T15:38:53.448681Z",
     "iopub.status.idle": "2024-12-05T15:38:54.391309Z",
     "shell.execute_reply": "2024-12-05T15:38:54.390099Z"
    },
    "papermill": {
     "duration": 0.956483,
     "end_time": "2024-12-05T15:38:54.393892",
     "exception": false,
     "start_time": "2024-12-05T15:38:53.437409",
     "status": "completed"
    },
    "tags": []
   },
   "outputs": [
    {
     "name": "stdout",
     "output_type": "stream",
     "text": [
      "/kaggle/input/playground-series-s4e12/sample_submission.csv\n",
      "/kaggle/input/playground-series-s4e12/train.csv\n",
      "/kaggle/input/playground-series-s4e12/test.csv\n"
     ]
    }
   ],
   "source": [
    "# This Python 3 environment comes with many helpful analytics libraries installed\n",
    "# It is defined by the kaggle/python Docker image: https://github.com/kaggle/docker-python\n",
    "# For example, here's several helpful packages to load\n",
    "\n",
    "import numpy as np # linear algebra\n",
    "import pandas as pd # data processing, CSV file I/O (e.g. pd.read_csv)\n",
    "\n",
    "# Input data files are available in the read-only \"../input/\" directory\n",
    "# For example, running this (by clicking run or pressing Shift+Enter) will list all files under the input directory\n",
    "\n",
    "import os\n",
    "for dirname, _, filenames in os.walk('/kaggle/input'):\n",
    "    for filename in filenames:\n",
    "        print(os.path.join(dirname, filename))\n",
    "\n",
    "# You can write up to 20GB to the current directory (/kaggle/working/) that gets preserved as output when you create a version using \"Save & Run All\" \n",
    "# You can also write temporary files to /kaggle/temp/, but they won't be saved outside of the current session"
   ]
  },
  {
   "cell_type": "code",
   "execution_count": 2,
   "id": "343e4bde",
   "metadata": {
    "execution": {
     "iopub.execute_input": "2024-12-05T15:38:54.414148Z",
     "iopub.status.busy": "2024-12-05T15:38:54.413637Z",
     "iopub.status.idle": "2024-12-05T15:38:57.085840Z",
     "shell.execute_reply": "2024-12-05T15:38:57.084817Z"
    },
    "papermill": {
     "duration": 2.685464,
     "end_time": "2024-12-05T15:38:57.088348",
     "exception": false,
     "start_time": "2024-12-05T15:38:54.402884",
     "status": "completed"
    },
    "tags": []
   },
   "outputs": [],
   "source": [
    "import matplotlib.pyplot as plt\n",
    "import seaborn as sns\n",
    "from sklearn.preprocessing import MinMaxScaler, OneHotEncoder, LabelEncoder\n",
    "from sklearn.model_selection import train_test_split\n",
    "from sklearn.linear_model import LinearRegression\n",
    "from sklearn.tree import DecisionTreeRegressor\n",
    "from sklearn.ensemble import RandomForestRegressor, GradientBoostingRegressor\n",
    "from catboost import CatBoostRegressor\n",
    "from sklearn.metrics import mean_squared_error"
   ]
  },
  {
   "cell_type": "code",
   "execution_count": 3,
   "id": "bc7aeb7f",
   "metadata": {
    "execution": {
     "iopub.execute_input": "2024-12-05T15:38:57.107456Z",
     "iopub.status.busy": "2024-12-05T15:38:57.106888Z",
     "iopub.status.idle": "2024-12-05T15:39:07.695473Z",
     "shell.execute_reply": "2024-12-05T15:39:07.694158Z"
    },
    "papermill": {
     "duration": 10.601096,
     "end_time": "2024-12-05T15:39:07.698220",
     "exception": false,
     "start_time": "2024-12-05T15:38:57.097124",
     "status": "completed"
    },
    "tags": []
   },
   "outputs": [],
   "source": [
    "train_data = pd.read_csv(\"/kaggle/input/playground-series-s4e12/train.csv\")\n",
    "\n",
    "test_data = pd.read_csv(\"/kaggle/input/playground-series-s4e12/test.csv\")"
   ]
  },
  {
   "cell_type": "code",
   "execution_count": 4,
   "id": "684c38a8",
   "metadata": {
    "execution": {
     "iopub.execute_input": "2024-12-05T15:39:07.717424Z",
     "iopub.status.busy": "2024-12-05T15:39:07.716976Z",
     "iopub.status.idle": "2024-12-05T15:39:07.761624Z",
     "shell.execute_reply": "2024-12-05T15:39:07.760276Z"
    },
    "papermill": {
     "duration": 0.057628,
     "end_time": "2024-12-05T15:39:07.764474",
     "exception": false,
     "start_time": "2024-12-05T15:39:07.706846",
     "status": "completed"
    },
    "tags": []
   },
   "outputs": [
    {
     "data": {
      "text/html": [
       "<div>\n",
       "<style scoped>\n",
       "    .dataframe tbody tr th:only-of-type {\n",
       "        vertical-align: middle;\n",
       "    }\n",
       "\n",
       "    .dataframe tbody tr th {\n",
       "        vertical-align: top;\n",
       "    }\n",
       "\n",
       "    .dataframe thead th {\n",
       "        text-align: right;\n",
       "    }\n",
       "</style>\n",
       "<table border=\"1\" class=\"dataframe\">\n",
       "  <thead>\n",
       "    <tr style=\"text-align: right;\">\n",
       "      <th></th>\n",
       "      <th>id</th>\n",
       "      <th>Age</th>\n",
       "      <th>Gender</th>\n",
       "      <th>Annual Income</th>\n",
       "      <th>Marital Status</th>\n",
       "      <th>Number of Dependents</th>\n",
       "      <th>Education Level</th>\n",
       "      <th>Occupation</th>\n",
       "      <th>Health Score</th>\n",
       "      <th>Location</th>\n",
       "      <th>...</th>\n",
       "      <th>Previous Claims</th>\n",
       "      <th>Vehicle Age</th>\n",
       "      <th>Credit Score</th>\n",
       "      <th>Insurance Duration</th>\n",
       "      <th>Policy Start Date</th>\n",
       "      <th>Customer Feedback</th>\n",
       "      <th>Smoking Status</th>\n",
       "      <th>Exercise Frequency</th>\n",
       "      <th>Property Type</th>\n",
       "      <th>Premium Amount</th>\n",
       "    </tr>\n",
       "  </thead>\n",
       "  <tbody>\n",
       "    <tr>\n",
       "      <th>0</th>\n",
       "      <td>0</td>\n",
       "      <td>19.0</td>\n",
       "      <td>Female</td>\n",
       "      <td>10049.0</td>\n",
       "      <td>Married</td>\n",
       "      <td>1.0</td>\n",
       "      <td>Bachelor's</td>\n",
       "      <td>Self-Employed</td>\n",
       "      <td>22.598761</td>\n",
       "      <td>Urban</td>\n",
       "      <td>...</td>\n",
       "      <td>2.0</td>\n",
       "      <td>17.0</td>\n",
       "      <td>372.0</td>\n",
       "      <td>5.0</td>\n",
       "      <td>2023-12-23 15:21:39.134960</td>\n",
       "      <td>Poor</td>\n",
       "      <td>No</td>\n",
       "      <td>Weekly</td>\n",
       "      <td>House</td>\n",
       "      <td>2869.0</td>\n",
       "    </tr>\n",
       "    <tr>\n",
       "      <th>1</th>\n",
       "      <td>1</td>\n",
       "      <td>39.0</td>\n",
       "      <td>Female</td>\n",
       "      <td>31678.0</td>\n",
       "      <td>Divorced</td>\n",
       "      <td>3.0</td>\n",
       "      <td>Master's</td>\n",
       "      <td>NaN</td>\n",
       "      <td>15.569731</td>\n",
       "      <td>Rural</td>\n",
       "      <td>...</td>\n",
       "      <td>1.0</td>\n",
       "      <td>12.0</td>\n",
       "      <td>694.0</td>\n",
       "      <td>2.0</td>\n",
       "      <td>2023-06-12 15:21:39.111551</td>\n",
       "      <td>Average</td>\n",
       "      <td>Yes</td>\n",
       "      <td>Monthly</td>\n",
       "      <td>House</td>\n",
       "      <td>1483.0</td>\n",
       "    </tr>\n",
       "    <tr>\n",
       "      <th>2</th>\n",
       "      <td>2</td>\n",
       "      <td>23.0</td>\n",
       "      <td>Male</td>\n",
       "      <td>25602.0</td>\n",
       "      <td>Divorced</td>\n",
       "      <td>3.0</td>\n",
       "      <td>High School</td>\n",
       "      <td>Self-Employed</td>\n",
       "      <td>47.177549</td>\n",
       "      <td>Suburban</td>\n",
       "      <td>...</td>\n",
       "      <td>1.0</td>\n",
       "      <td>14.0</td>\n",
       "      <td>NaN</td>\n",
       "      <td>3.0</td>\n",
       "      <td>2023-09-30 15:21:39.221386</td>\n",
       "      <td>Good</td>\n",
       "      <td>Yes</td>\n",
       "      <td>Weekly</td>\n",
       "      <td>House</td>\n",
       "      <td>567.0</td>\n",
       "    </tr>\n",
       "    <tr>\n",
       "      <th>3</th>\n",
       "      <td>3</td>\n",
       "      <td>21.0</td>\n",
       "      <td>Male</td>\n",
       "      <td>141855.0</td>\n",
       "      <td>Married</td>\n",
       "      <td>2.0</td>\n",
       "      <td>Bachelor's</td>\n",
       "      <td>NaN</td>\n",
       "      <td>10.938144</td>\n",
       "      <td>Rural</td>\n",
       "      <td>...</td>\n",
       "      <td>1.0</td>\n",
       "      <td>0.0</td>\n",
       "      <td>367.0</td>\n",
       "      <td>1.0</td>\n",
       "      <td>2024-06-12 15:21:39.226954</td>\n",
       "      <td>Poor</td>\n",
       "      <td>Yes</td>\n",
       "      <td>Daily</td>\n",
       "      <td>Apartment</td>\n",
       "      <td>765.0</td>\n",
       "    </tr>\n",
       "    <tr>\n",
       "      <th>4</th>\n",
       "      <td>4</td>\n",
       "      <td>21.0</td>\n",
       "      <td>Male</td>\n",
       "      <td>39651.0</td>\n",
       "      <td>Single</td>\n",
       "      <td>1.0</td>\n",
       "      <td>Bachelor's</td>\n",
       "      <td>Self-Employed</td>\n",
       "      <td>20.376094</td>\n",
       "      <td>Rural</td>\n",
       "      <td>...</td>\n",
       "      <td>0.0</td>\n",
       "      <td>8.0</td>\n",
       "      <td>598.0</td>\n",
       "      <td>4.0</td>\n",
       "      <td>2021-12-01 15:21:39.252145</td>\n",
       "      <td>Poor</td>\n",
       "      <td>Yes</td>\n",
       "      <td>Weekly</td>\n",
       "      <td>House</td>\n",
       "      <td>2022.0</td>\n",
       "    </tr>\n",
       "  </tbody>\n",
       "</table>\n",
       "<p>5 rows × 21 columns</p>\n",
       "</div>"
      ],
      "text/plain": [
       "   id   Age  Gender  Annual Income Marital Status  Number of Dependents  \\\n",
       "0   0  19.0  Female        10049.0        Married                   1.0   \n",
       "1   1  39.0  Female        31678.0       Divorced                   3.0   \n",
       "2   2  23.0    Male        25602.0       Divorced                   3.0   \n",
       "3   3  21.0    Male       141855.0        Married                   2.0   \n",
       "4   4  21.0    Male        39651.0         Single                   1.0   \n",
       "\n",
       "  Education Level     Occupation  Health Score  Location  ... Previous Claims  \\\n",
       "0      Bachelor's  Self-Employed     22.598761     Urban  ...             2.0   \n",
       "1        Master's            NaN     15.569731     Rural  ...             1.0   \n",
       "2     High School  Self-Employed     47.177549  Suburban  ...             1.0   \n",
       "3      Bachelor's            NaN     10.938144     Rural  ...             1.0   \n",
       "4      Bachelor's  Self-Employed     20.376094     Rural  ...             0.0   \n",
       "\n",
       "   Vehicle Age  Credit Score  Insurance Duration           Policy Start Date  \\\n",
       "0         17.0         372.0                 5.0  2023-12-23 15:21:39.134960   \n",
       "1         12.0         694.0                 2.0  2023-06-12 15:21:39.111551   \n",
       "2         14.0           NaN                 3.0  2023-09-30 15:21:39.221386   \n",
       "3          0.0         367.0                 1.0  2024-06-12 15:21:39.226954   \n",
       "4          8.0         598.0                 4.0  2021-12-01 15:21:39.252145   \n",
       "\n",
       "  Customer Feedback Smoking Status Exercise Frequency Property Type  \\\n",
       "0              Poor             No             Weekly         House   \n",
       "1           Average            Yes            Monthly         House   \n",
       "2              Good            Yes             Weekly         House   \n",
       "3              Poor            Yes              Daily     Apartment   \n",
       "4              Poor            Yes             Weekly         House   \n",
       "\n",
       "  Premium Amount  \n",
       "0         2869.0  \n",
       "1         1483.0  \n",
       "2          567.0  \n",
       "3          765.0  \n",
       "4         2022.0  \n",
       "\n",
       "[5 rows x 21 columns]"
      ]
     },
     "execution_count": 4,
     "metadata": {},
     "output_type": "execute_result"
    }
   ],
   "source": [
    "train_data.head()"
   ]
  },
  {
   "cell_type": "code",
   "execution_count": 5,
   "id": "1efe23b7",
   "metadata": {
    "execution": {
     "iopub.execute_input": "2024-12-05T15:39:07.783822Z",
     "iopub.status.busy": "2024-12-05T15:39:07.783437Z",
     "iopub.status.idle": "2024-12-05T15:39:08.416571Z",
     "shell.execute_reply": "2024-12-05T15:39:08.415505Z"
    },
    "papermill": {
     "duration": 0.645298,
     "end_time": "2024-12-05T15:39:08.418779",
     "exception": false,
     "start_time": "2024-12-05T15:39:07.773481",
     "status": "completed"
    },
    "tags": []
   },
   "outputs": [
    {
     "data": {
      "text/plain": [
       "id                       0.000000\n",
       "Age                      1.558750\n",
       "Gender                   0.000000\n",
       "Annual Income            3.745750\n",
       "Marital Status           1.544083\n",
       "Number of Dependents     9.139333\n",
       "Education Level          0.000000\n",
       "Occupation              29.839583\n",
       "Health Score             6.173000\n",
       "Location                 0.000000\n",
       "Policy Type              0.000000\n",
       "Previous Claims         30.335750\n",
       "Vehicle Age              0.000500\n",
       "Credit Score            11.490167\n",
       "Insurance Duration       0.000083\n",
       "Policy Start Date        0.000000\n",
       "Customer Feedback        6.485333\n",
       "Smoking Status           0.000000\n",
       "Exercise Frequency       0.000000\n",
       "Property Type            0.000000\n",
       "Premium Amount           0.000000\n",
       "dtype: float64"
      ]
     },
     "execution_count": 5,
     "metadata": {},
     "output_type": "execute_result"
    }
   ],
   "source": [
    "train_data.isnull().sum()* 100 /len(train_data)"
   ]
  },
  {
   "cell_type": "code",
   "execution_count": 6,
   "id": "dbbe7878",
   "metadata": {
    "execution": {
     "iopub.execute_input": "2024-12-05T15:39:08.438128Z",
     "iopub.status.busy": "2024-12-05T15:39:08.437704Z",
     "iopub.status.idle": "2024-12-05T15:39:08.873285Z",
     "shell.execute_reply": "2024-12-05T15:39:08.872113Z"
    },
    "papermill": {
     "duration": 0.447745,
     "end_time": "2024-12-05T15:39:08.875487",
     "exception": false,
     "start_time": "2024-12-05T15:39:08.427742",
     "status": "completed"
    },
    "tags": []
   },
   "outputs": [
    {
     "data": {
      "text/plain": [
       "id                       0.000000\n",
       "Age                      1.561125\n",
       "Gender                   0.000000\n",
       "Annual Income            3.732500\n",
       "Marital Status           1.542000\n",
       "Number of Dependents     9.141250\n",
       "Education Level          0.000000\n",
       "Occupation              29.890625\n",
       "Health Score             6.181125\n",
       "Location                 0.000000\n",
       "Policy Type              0.000000\n",
       "Previous Claims         30.350250\n",
       "Vehicle Age              0.000375\n",
       "Credit Score            11.431375\n",
       "Insurance Duration       0.000250\n",
       "Policy Start Date        0.000000\n",
       "Customer Feedback        6.534500\n",
       "Smoking Status           0.000000\n",
       "Exercise Frequency       0.000000\n",
       "Property Type            0.000000\n",
       "dtype: float64"
      ]
     },
     "execution_count": 6,
     "metadata": {},
     "output_type": "execute_result"
    }
   ],
   "source": [
    "test_data.isnull().sum() / len(test_data) * 100"
   ]
  },
  {
   "cell_type": "code",
   "execution_count": 7,
   "id": "4f5bef56",
   "metadata": {
    "execution": {
     "iopub.execute_input": "2024-12-05T15:39:08.901443Z",
     "iopub.status.busy": "2024-12-05T15:39:08.901035Z",
     "iopub.status.idle": "2024-12-05T15:39:08.906976Z",
     "shell.execute_reply": "2024-12-05T15:39:08.905549Z"
    },
    "papermill": {
     "duration": 0.021993,
     "end_time": "2024-12-05T15:39:08.910458",
     "exception": false,
     "start_time": "2024-12-05T15:39:08.888465",
     "status": "completed"
    },
    "tags": []
   },
   "outputs": [],
   "source": [
    "## EDA"
   ]
  },
  {
   "cell_type": "code",
   "execution_count": 8,
   "id": "bc8a5c20",
   "metadata": {
    "execution": {
     "iopub.execute_input": "2024-12-05T15:39:08.944391Z",
     "iopub.status.busy": "2024-12-05T15:39:08.943306Z",
     "iopub.status.idle": "2024-12-05T15:39:09.245877Z",
     "shell.execute_reply": "2024-12-05T15:39:09.244732Z"
    },
    "papermill": {
     "duration": 0.321049,
     "end_time": "2024-12-05T15:39:09.248040",
     "exception": false,
     "start_time": "2024-12-05T15:39:08.926991",
     "status": "completed"
    },
    "tags": []
   },
   "outputs": [
    {
     "data": {
      "image/png": "[encoded data removed]",
      "text/plain": [
       "<Figure size 640x480 with 1 Axes>"
      ]
     },
     "metadata": {},
     "output_type": "display_data"
    }
   ],
   "source": [
    "plt.hist(train_data['Annual Income'], bins = 5)\n",
    "plt.show()"
   ]
  },
  {
   "cell_type": "code",
   "execution_count": 9,
   "id": "45362412",
   "metadata": {
    "execution": {
     "iopub.execute_input": "2024-12-05T15:39:09.268099Z",
     "iopub.status.busy": "2024-12-05T15:39:09.267659Z",
     "iopub.status.idle": "2024-12-05T15:39:12.017582Z",
     "shell.execute_reply": "2024-12-05T15:39:12.016359Z"
    },
    "papermill": {
     "duration": 2.762563,
     "end_time": "2024-12-05T15:39:12.019930",
     "exception": false,
     "start_time": "2024-12-05T15:39:09.257367",
     "status": "completed"
    },
    "tags": []
   },
   "outputs": [
    {
     "data": {
      "image/png": "[encoded data removed]",
      "text/plain": [
       "<Figure size 640x480 with 1 Axes>"
      ]
     },
     "metadata": {},
     "output_type": "display_data"
    }
   ],
   "source": [
    "plt.scatter(train_data['Premium Amount'], train_data['Annual Income'])\n",
    "plt.show()"
   ]
  },
  {
   "cell_type": "code",
   "execution_count": 10,
   "id": "60d1e81d",
   "metadata": {
    "execution": {
     "iopub.execute_input": "2024-12-05T15:39:12.042386Z",
     "iopub.status.busy": "2024-12-05T15:39:12.041934Z",
     "iopub.status.idle": "2024-12-05T15:39:32.659643Z",
     "shell.execute_reply": "2024-12-05T15:39:32.658508Z"
    },
    "papermill": {
     "duration": 20.631631,
     "end_time": "2024-12-05T15:39:32.661985",
     "exception": false,
     "start_time": "2024-12-05T15:39:12.030354",
     "status": "completed"
    },
    "tags": []
   },
   "outputs": [
    {
     "data": {
      "image/png": "[encoded data removed]",
      "text/plain": [
       "<Figure size 640x480 with 1 Axes>"
      ]
     },
     "metadata": {},
     "output_type": "display_data"
    }
   ],
   "source": [
    "sns.barplot(data = train_data, x = 'Gender', y= 'Annual Income')\n",
    "plt.show()"
   ]
  },
  {
   "cell_type": "code",
   "execution_count": 11,
   "id": "08fe8fb1",
   "metadata": {
    "execution": {
     "iopub.execute_input": "2024-12-05T15:39:32.685224Z",
     "iopub.status.busy": "2024-12-05T15:39:32.684142Z",
     "iopub.status.idle": "2024-12-05T15:39:34.248438Z",
     "shell.execute_reply": "2024-12-05T15:39:34.247170Z"
    },
    "papermill": {
     "duration": 1.578546,
     "end_time": "2024-12-05T15:39:34.250763",
     "exception": false,
     "start_time": "2024-12-05T15:39:32.672217",
     "status": "completed"
    },
    "tags": []
   },
   "outputs": [
    {
     "data": {
      "image/png": "[encoded data removed]",
      "text/plain": [
       "<Figure size 640x480 with 1 Axes>"
      ]
     },
     "metadata": {},
     "output_type": "display_data"
    }
   ],
   "source": [
    "sns.countplot(data=train_data, x='Gender', hue='Marital Status')\n",
    "plt.title(\"Count of Gender with Marital Status\")\n",
    "plt.show()"
   ]
  },
  {
   "cell_type": "code",
   "execution_count": 12,
   "id": "f29b39e5",
   "metadata": {
    "execution": {
     "iopub.execute_input": "2024-12-05T15:39:34.274734Z",
     "iopub.status.busy": "2024-12-05T15:39:34.274297Z",
     "iopub.status.idle": "2024-12-05T15:39:34.490111Z",
     "shell.execute_reply": "2024-12-05T15:39:34.488968Z"
    },
    "papermill": {
     "duration": 0.229765,
     "end_time": "2024-12-05T15:39:34.492226",
     "exception": false,
     "start_time": "2024-12-05T15:39:34.262461",
     "status": "completed"
    },
    "tags": []
   },
   "outputs": [
    {
     "data": {
      "image/png": "[encoded data removed]",
      "text/plain": [
       "<Figure size 640x480 with 1 Axes>"
      ]
     },
     "metadata": {},
     "output_type": "display_data"
    }
   ],
   "source": [
    "sns.boxplot(data = train_data, x= 'Age')\n",
    "plt.show()"
   ]
  },
  {
   "cell_type": "code",
   "execution_count": 13,
   "id": "fb53d20a",
   "metadata": {
    "execution": {
     "iopub.execute_input": "2024-12-05T15:39:34.515321Z",
     "iopub.status.busy": "2024-12-05T15:39:34.514899Z",
     "iopub.status.idle": "2024-12-05T15:39:42.621953Z",
     "shell.execute_reply": "2024-12-05T15:39:42.620497Z"
    },
    "papermill": {
     "duration": 8.121462,
     "end_time": "2024-12-05T15:39:42.624393",
     "exception": false,
     "start_time": "2024-12-05T15:39:34.502931",
     "status": "completed"
    },
    "tags": []
   },
   "outputs": [
    {
     "name": "stderr",
     "output_type": "stream",
     "text": [
      "/opt/conda/lib/python3.10/site-packages/seaborn/_oldcore.py:1119: FutureWarning: use_inf_as_na option is deprecated and will be removed in a future version. Convert inf values to NaN before operating instead.\n",
      "  with pd.option_context('mode.use_inf_as_na', True):\n",
      "/opt/conda/lib/python3.10/site-packages/seaborn/_oldcore.py:1119: FutureWarning: use_inf_as_na option is deprecated and will be removed in a future version. Convert inf values to NaN before operating instead.\n",
      "  with pd.option_context('mode.use_inf_as_na', True):\n",
      "/opt/conda/lib/python3.10/site-packages/seaborn/_oldcore.py:1075: FutureWarning: When grouping with a length-1 list-like, you will need to pass a length-1 tuple to get_group in a future version of pandas. Pass `(name,)` instead of `name` to silence this warning.\n",
      "  data_subset = grouped_data.get_group(pd_key)\n",
      "/opt/conda/lib/python3.10/site-packages/seaborn/_oldcore.py:1075: FutureWarning: When grouping with a length-1 list-like, you will need to pass a length-1 tuple to get_group in a future version of pandas. Pass `(name,)` instead of `name` to silence this warning.\n",
      "  data_subset = grouped_data.get_group(pd_key)\n"
     ]
    },
    {
     "data": {
      "image/png": "[encoded data removed]",
      "text/plain": [
       "<Figure size 640x480 with 1 Axes>"
      ]
     },
     "metadata": {},
     "output_type": "display_data"
    }
   ],
   "source": [
    "sns.lineplot(data = train_data, x = 'Occupation', y = 'Number of Dependents', hue = 'Gender')\n",
    "plt.show()"
   ]
  },
  {
   "cell_type": "code",
   "execution_count": 14,
   "id": "329fea39",
   "metadata": {
    "execution": {
     "iopub.execute_input": "2024-12-05T15:39:42.649677Z",
     "iopub.status.busy": "2024-12-05T15:39:42.649265Z",
     "iopub.status.idle": "2024-12-05T15:39:43.074875Z",
     "shell.execute_reply": "2024-12-05T15:39:43.073661Z"
    },
    "papermill": {
     "duration": 0.440795,
     "end_time": "2024-12-05T15:39:43.077145",
     "exception": false,
     "start_time": "2024-12-05T15:39:42.636350",
     "status": "completed"
    },
    "tags": []
   },
   "outputs": [
    {
     "data": {
      "text/plain": [
       "id                           0\n",
       "Age                      12489\n",
       "Gender                       0\n",
       "Annual Income            29860\n",
       "Marital Status           12336\n",
       "Number of Dependents     73130\n",
       "Education Level              0\n",
       "Occupation              239125\n",
       "Health Score             49449\n",
       "Location                     0\n",
       "Policy Type                  0\n",
       "Previous Claims         242802\n",
       "Vehicle Age                  3\n",
       "Credit Score             91451\n",
       "Insurance Duration           2\n",
       "Policy Start Date            0\n",
       "Customer Feedback        52276\n",
       "Smoking Status               0\n",
       "Exercise Frequency           0\n",
       "Property Type                0\n",
       "dtype: int64"
      ]
     },
     "execution_count": 14,
     "metadata": {},
     "output_type": "execute_result"
    }
   ],
   "source": [
    "test_data.isnull().sum()"
   ]
  },
  {
   "cell_type": "code",
   "execution_count": 15,
   "id": "0f0611ed",
   "metadata": {
    "execution": {
     "iopub.execute_input": "2024-12-05T15:39:43.103404Z",
     "iopub.status.busy": "2024-12-05T15:39:43.102984Z",
     "iopub.status.idle": "2024-12-05T15:39:43.372095Z",
     "shell.execute_reply": "2024-12-05T15:39:43.371036Z"
    },
    "papermill": {
     "duration": 0.285315,
     "end_time": "2024-12-05T15:39:43.374474",
     "exception": false,
     "start_time": "2024-12-05T15:39:43.089159",
     "status": "completed"
    },
    "tags": []
   },
   "outputs": [],
   "source": [
    "train_data.loc[(train_data['Education Level'] == 'High School') & (train_data['Occupation'].isna()), 'Occupation'] = 'Unemployed'\n",
    "test_data.loc[(test_data['Education Level'] == 'High School') & (test_data['Occupation'].isna()), 'Occupation'] = 'Unemployed'"
   ]
  },
  {
   "cell_type": "code",
   "execution_count": 16,
   "id": "f4e7b91f",
   "metadata": {
    "execution": {
     "iopub.execute_input": "2024-12-05T15:39:43.399215Z",
     "iopub.status.busy": "2024-12-05T15:39:43.398827Z",
     "iopub.status.idle": "2024-12-05T15:39:43.519879Z",
     "shell.execute_reply": "2024-12-05T15:39:43.518655Z"
    },
    "papermill": {
     "duration": 0.138327,
     "end_time": "2024-12-05T15:39:43.524338",
     "exception": false,
     "start_time": "2024-12-05T15:39:43.386011",
     "status": "completed"
    },
    "tags": []
   },
   "outputs": [],
   "source": [
    "train_data.loc[((train_data['Age'] > 50) | (train_data['Age'] < 21)) & train_data['Occupation'].isna(), 'Occupation'] = 'Unemployed'\n",
    "test_data.loc[((test_data['Age'] > 50) | (test_data['Age'] < 21)) & test_data['Occupation'].isna(), 'Occupation'] = 'Unemployed'"
   ]
  },
  {
   "cell_type": "code",
   "execution_count": 17,
   "id": "e5c13bb1",
   "metadata": {
    "execution": {
     "iopub.execute_input": "2024-12-05T15:39:43.553063Z",
     "iopub.status.busy": "2024-12-05T15:39:43.551892Z",
     "iopub.status.idle": "2024-12-05T15:39:43.689889Z",
     "shell.execute_reply": "2024-12-05T15:39:43.688977Z"
    },
    "papermill": {
     "duration": 0.15324,
     "end_time": "2024-12-05T15:39:43.692159",
     "exception": false,
     "start_time": "2024-12-05T15:39:43.538919",
     "status": "completed"
    },
    "tags": []
   },
   "outputs": [],
   "source": [
    "train_data['Occupation'] = train_data['Occupation'].fillna('Unemployed')\n",
    "test_data['Occupation'] = test_data['Occupation'].fillna('Unemployed')"
   ]
  },
  {
   "cell_type": "code",
   "execution_count": 18,
   "id": "76ac4b76",
   "metadata": {
    "execution": {
     "iopub.execute_input": "2024-12-05T15:39:43.719194Z",
     "iopub.status.busy": "2024-12-05T15:39:43.718126Z",
     "iopub.status.idle": "2024-12-05T15:39:43.901423Z",
     "shell.execute_reply": "2024-12-05T15:39:43.900313Z"
    },
    "papermill": {
     "duration": 0.199433,
     "end_time": "2024-12-05T15:39:43.903903",
     "exception": false,
     "start_time": "2024-12-05T15:39:43.704470",
     "status": "completed"
    },
    "tags": []
   },
   "outputs": [],
   "source": [
    "train_data.loc[(train_data['Previous Claims'].isnull()) & (train_data['Occupation'] == 'Unemployed'), 'Previous Claims'] = 0.0\n",
    "test_data.loc[(test_data['Previous Claims'].isnull()) & (test_data['Occupation'] == 'Unemployed'), 'Previous Claims'] = 0.0"
   ]
  },
  {
   "cell_type": "code",
   "execution_count": 19,
   "id": "c65b2efd",
   "metadata": {
    "execution": {
     "iopub.execute_input": "2024-12-05T15:39:43.931989Z",
     "iopub.status.busy": "2024-12-05T15:39:43.931172Z",
     "iopub.status.idle": "2024-12-05T15:39:43.947465Z",
     "shell.execute_reply": "2024-12-05T15:39:43.946543Z"
    },
    "papermill": {
     "duration": 0.032239,
     "end_time": "2024-12-05T15:39:43.949904",
     "exception": false,
     "start_time": "2024-12-05T15:39:43.917665",
     "status": "completed"
    },
    "tags": []
   },
   "outputs": [],
   "source": [
    "train_data.loc[(train_data['Previous Claims'].isnull()) & (train_data['Annual Income'] > 50000), 'Previous Claims'] = 0.0\n",
    "test_data.loc[(test_data['Previous Claims'].isnull()) & (test_data['Annual Income'] > 50000), 'Previous Claims'] = 0.0"
   ]
  },
  {
   "cell_type": "code",
   "execution_count": 20,
   "id": "98aed53c",
   "metadata": {
    "execution": {
     "iopub.execute_input": "2024-12-05T15:39:43.975330Z",
     "iopub.status.busy": "2024-12-05T15:39:43.974304Z",
     "iopub.status.idle": "2024-12-05T15:39:44.144718Z",
     "shell.execute_reply": "2024-12-05T15:39:44.143544Z"
    },
    "papermill": {
     "duration": 0.185575,
     "end_time": "2024-12-05T15:39:44.147263",
     "exception": false,
     "start_time": "2024-12-05T15:39:43.961688",
     "status": "completed"
    },
    "tags": []
   },
   "outputs": [],
   "source": [
    "train_data.loc[(train_data['Previous Claims'].isnull()) & (train_data['Education Level'] ==  'High School'), 'Previous Claims'] = 0.0\n",
    "test_data.loc[(test_data['Previous Claims'].isnull()) & (test_data['Education Level'] ==  'High School'), 'Previous Claims'] = 0.0"
   ]
  },
  {
   "cell_type": "code",
   "execution_count": 21,
   "id": "d9b18e26",
   "metadata": {
    "execution": {
     "iopub.execute_input": "2024-12-05T15:39:44.172493Z",
     "iopub.status.busy": "2024-12-05T15:39:44.172096Z",
     "iopub.status.idle": "2024-12-05T15:39:44.190256Z",
     "shell.execute_reply": "2024-12-05T15:39:44.188836Z"
    },
    "papermill": {
     "duration": 0.033672,
     "end_time": "2024-12-05T15:39:44.192770",
     "exception": false,
     "start_time": "2024-12-05T15:39:44.159098",
     "status": "completed"
    },
    "tags": []
   },
   "outputs": [],
   "source": [
    "train_data['Previous Claims'] = train_data['Previous Claims'].fillna(np.random.randint(0.0, 9.0))\n",
    "test_data['Previous Claims'] = test_data['Previous Claims'].fillna(np.random.randint(0.0, 9.0))"
   ]
  },
  {
   "cell_type": "code",
   "execution_count": 22,
   "id": "e10e876a",
   "metadata": {
    "execution": {
     "iopub.execute_input": "2024-12-05T15:39:44.217663Z",
     "iopub.status.busy": "2024-12-05T15:39:44.217285Z",
     "iopub.status.idle": "2024-12-05T15:39:44.389778Z",
     "shell.execute_reply": "2024-12-05T15:39:44.388770Z"
    },
    "papermill": {
     "duration": 0.187615,
     "end_time": "2024-12-05T15:39:44.392158",
     "exception": false,
     "start_time": "2024-12-05T15:39:44.204543",
     "status": "completed"
    },
    "tags": []
   },
   "outputs": [],
   "source": [
    "train_data.loc[(train_data['Number of Dependents'].isnull()) & (train_data['Marital Status'] == 'Single'),'Number of Dependents']= 0.0\n",
    "test_data.loc[(test_data['Number of Dependents'].isnull()) & (test_data['Marital Status'] == 'Single'),'Number of Dependents']= 0.0"
   ]
  },
  {
   "cell_type": "code",
   "execution_count": 23,
   "id": "f79b4c92",
   "metadata": {
    "execution": {
     "iopub.execute_input": "2024-12-05T15:39:44.417428Z",
     "iopub.status.busy": "2024-12-05T15:39:44.417000Z",
     "iopub.status.idle": "2024-12-05T15:39:46.120447Z",
     "shell.execute_reply": "2024-12-05T15:39:46.119170Z"
    },
    "papermill": {
     "duration": 1.71886,
     "end_time": "2024-12-05T15:39:46.122767",
     "exception": false,
     "start_time": "2024-12-05T15:39:44.403907",
     "status": "completed"
    },
    "tags": []
   },
   "outputs": [],
   "source": [
    "train_data['Number of Dependents'] = train_data['Number of Dependents'].apply(lambda x: np.random.uniform(0.0, 5.0) if pd.isna(x) else x\n",
    ")\n",
    "\n",
    "test_data['Number of Dependents'] = test_data['Number of Dependents'].apply(lambda x: np.random.uniform(0.0, 5.0) if pd.isna(x) else x\n",
    ")"
   ]
  },
  {
   "cell_type": "code",
   "execution_count": 24,
   "id": "c5f1e080",
   "metadata": {
    "execution": {
     "iopub.execute_input": "2024-12-05T15:39:46.147725Z",
     "iopub.status.busy": "2024-12-05T15:39:46.147341Z",
     "iopub.status.idle": "2024-12-05T15:39:46.173334Z",
     "shell.execute_reply": "2024-12-05T15:39:46.172448Z"
    },
    "papermill": {
     "duration": 0.041193,
     "end_time": "2024-12-05T15:39:46.175640",
     "exception": false,
     "start_time": "2024-12-05T15:39:46.134447",
     "status": "completed"
    },
    "tags": []
   },
   "outputs": [],
   "source": [
    "train_data['Annual Income'] = train_data['Annual Income'].fillna(np.mean(train_data['Annual Income']))\n",
    "\n",
    "test_data['Annual Income'] = test_data['Annual Income'].fillna(np.mean(test_data['Annual Income']))"
   ]
  },
  {
   "cell_type": "code",
   "execution_count": 25,
   "id": "d1462c50",
   "metadata": {
    "execution": {
     "iopub.execute_input": "2024-12-05T15:39:46.201144Z",
     "iopub.status.busy": "2024-12-05T15:39:46.200089Z",
     "iopub.status.idle": "2024-12-05T15:39:46.205682Z",
     "shell.execute_reply": "2024-12-05T15:39:46.204761Z"
    },
    "papermill": {
     "duration": 0.020414,
     "end_time": "2024-12-05T15:39:46.207735",
     "exception": false,
     "start_time": "2024-12-05T15:39:46.187321",
     "status": "completed"
    },
    "tags": []
   },
   "outputs": [],
   "source": [
    "total_feedback = 377905 + 375518 + 368753\n",
    "\n",
    "probabilities = {\n",
    "    'Average': 377905 / total_feedback,\n",
    "    'Poor': 375518 / total_feedback,\n",
    "    'Good': 368753 / total_feedback\n",
    "}"
   ]
  },
  {
   "cell_type": "code",
   "execution_count": 26,
   "id": "40fbc482",
   "metadata": {
    "execution": {
     "iopub.execute_input": "2024-12-05T15:39:46.232617Z",
     "iopub.status.busy": "2024-12-05T15:39:46.232182Z",
     "iopub.status.idle": "2024-12-05T15:39:48.519507Z",
     "shell.execute_reply": "2024-12-05T15:39:48.518375Z"
    },
    "papermill": {
     "duration": 2.302299,
     "end_time": "2024-12-05T15:39:48.521818",
     "exception": false,
     "start_time": "2024-12-05T15:39:46.219519",
     "status": "completed"
    },
    "tags": []
   },
   "outputs": [],
   "source": [
    "train_data['Customer Feedback'] = train_data['Customer Feedback'].apply(\n",
    "    lambda x: np.random.choice(['Average', 'Poor', 'Good'], p=[probabilities['Average'], probabilities['Poor'], probabilities['Good']]) \n",
    "    if pd.isna(x) else x\n",
    ")"
   ]
  },
  {
   "cell_type": "code",
   "execution_count": 27,
   "id": "d619492a",
   "metadata": {
    "execution": {
     "iopub.execute_input": "2024-12-05T15:39:48.547896Z",
     "iopub.status.busy": "2024-12-05T15:39:48.547473Z",
     "iopub.status.idle": "2024-12-05T15:39:48.552738Z",
     "shell.execute_reply": "2024-12-05T15:39:48.551659Z"
    },
    "papermill": {
     "duration": 0.021089,
     "end_time": "2024-12-05T15:39:48.554870",
     "exception": false,
     "start_time": "2024-12-05T15:39:48.533781",
     "status": "completed"
    },
    "tags": []
   },
   "outputs": [],
   "source": [
    "feedback_count = 251217 + 250434 + 246073\n",
    "prop = probabilities = {\n",
    "    'Average': 251217 / feedback_count,\n",
    "    'Poor': 250434 / feedback_count,\n",
    "    'Good': 246073 / feedback_count\n",
    "}"
   ]
  },
  {
   "cell_type": "code",
   "execution_count": 28,
   "id": "152bf3cb",
   "metadata": {
    "execution": {
     "iopub.execute_input": "2024-12-05T15:39:48.581070Z",
     "iopub.status.busy": "2024-12-05T15:39:48.580650Z",
     "iopub.status.idle": "2024-12-05T15:39:50.286531Z",
     "shell.execute_reply": "2024-12-05T15:39:50.285309Z"
    },
    "papermill": {
     "duration": 1.721416,
     "end_time": "2024-12-05T15:39:50.289052",
     "exception": false,
     "start_time": "2024-12-05T15:39:48.567636",
     "status": "completed"
    },
    "tags": []
   },
   "outputs": [],
   "source": [
    "test_data['Customer Feedback'] = test_data['Customer Feedback'].apply(\n",
    "    lambda x: np.random.choice(['Average', 'Poor', 'Good'], p=[probabilities['Average'], probabilities['Poor'], probabilities['Good']]) \n",
    "    if pd.isna(x) else x\n",
    ")"
   ]
  },
  {
   "cell_type": "code",
   "execution_count": 29,
   "id": "1f77fbfa",
   "metadata": {
    "execution": {
     "iopub.execute_input": "2024-12-05T15:39:50.314406Z",
     "iopub.status.busy": "2024-12-05T15:39:50.313603Z",
     "iopub.status.idle": "2024-12-05T15:39:50.343490Z",
     "shell.execute_reply": "2024-12-05T15:39:50.342544Z"
    },
    "papermill": {
     "duration": 0.045035,
     "end_time": "2024-12-05T15:39:50.345808",
     "exception": false,
     "start_time": "2024-12-05T15:39:50.300773",
     "status": "completed"
    },
    "tags": []
   },
   "outputs": [],
   "source": [
    "train_data['Credit Score'] = train_data['Credit Score'].fillna(train_data['Credit Score'].mean()) \n",
    "\n",
    "test_data['Credit Score'] = test_data['Credit Score'].fillna(test_data['Credit Score'].mean()) "
   ]
  },
  {
   "cell_type": "code",
   "execution_count": 30,
   "id": "afd42039",
   "metadata": {
    "execution": {
     "iopub.execute_input": "2024-12-05T15:39:50.370674Z",
     "iopub.status.busy": "2024-12-05T15:39:50.370304Z",
     "iopub.status.idle": "2024-12-05T15:39:51.428893Z",
     "shell.execute_reply": "2024-12-05T15:39:51.427821Z"
    },
    "papermill": {
     "duration": 1.073758,
     "end_time": "2024-12-05T15:39:51.431306",
     "exception": false,
     "start_time": "2024-12-05T15:39:50.357548",
     "status": "completed"
    },
    "tags": []
   },
   "outputs": [],
   "source": [
    "min_val = train_data['Health Score'].min()\n",
    "max_val = train_data['Health Score'].max()\n",
    "train_data['Health Score'] = train_data['Health Score'].apply(lambda x: np.random.uniform(min_val, max_val) if pd.isnull(x) else x)"
   ]
  },
  {
   "cell_type": "code",
   "execution_count": 31,
   "id": "c408ad0e",
   "metadata": {
    "execution": {
     "iopub.execute_input": "2024-12-05T15:39:51.458331Z",
     "iopub.status.busy": "2024-12-05T15:39:51.457938Z",
     "iopub.status.idle": "2024-12-05T15:39:52.147557Z",
     "shell.execute_reply": "2024-12-05T15:39:52.146482Z"
    },
    "papermill": {
     "duration": 0.70496,
     "end_time": "2024-12-05T15:39:52.149929",
     "exception": false,
     "start_time": "2024-12-05T15:39:51.444969",
     "status": "completed"
    },
    "tags": []
   },
   "outputs": [],
   "source": [
    "min_val_test = test_data['Health Score'].min()\n",
    "max_val_test = test_data['Health Score'].max()\n",
    "test_data['Health Score'] = test_data['Health Score'].apply(lambda x: np.random.uniform(min_val_test, max_val_test) if pd.isnull(x) else x)"
   ]
  },
  {
   "cell_type": "code",
   "execution_count": 32,
   "id": "8b7fcc06",
   "metadata": {
    "execution": {
     "iopub.execute_input": "2024-12-05T15:39:52.175015Z",
     "iopub.status.busy": "2024-12-05T15:39:52.174340Z",
     "iopub.status.idle": "2024-12-05T15:39:53.660266Z",
     "shell.execute_reply": "2024-12-05T15:39:53.659077Z"
    },
    "papermill": {
     "duration": 1.501063,
     "end_time": "2024-12-05T15:39:53.662718",
     "exception": false,
     "start_time": "2024-12-05T15:39:52.161655",
     "status": "completed"
    },
    "tags": []
   },
   "outputs": [],
   "source": [
    " train_data['Age'] = train_data['Age'].apply(lambda x: np.random.uniform(18.0, 64.0) if pd.isnull(x) else x)\n",
    "\n",
    " test_data['Age'] = test_data['Age'].apply(lambda x: np.random.uniform(18.0, 64.0) if pd.isnull(x) else x)"
   ]
  },
  {
   "cell_type": "code",
   "execution_count": 33,
   "id": "8403f0c2",
   "metadata": {
    "execution": {
     "iopub.execute_input": "2024-12-05T15:39:53.688339Z",
     "iopub.status.busy": "2024-12-05T15:39:53.687910Z",
     "iopub.status.idle": "2024-12-05T15:39:53.823226Z",
     "shell.execute_reply": "2024-12-05T15:39:53.821843Z"
    },
    "papermill": {
     "duration": 0.151175,
     "end_time": "2024-12-05T15:39:53.825916",
     "exception": false,
     "start_time": "2024-12-05T15:39:53.674741",
     "status": "completed"
    },
    "tags": []
   },
   "outputs": [],
   "source": [
    "train_data['Marital Status'] = train_data['Marital Status'].fillna('Single')\n",
    "\n",
    "test_data['Marital Status'] = test_data['Marital Status'].fillna('Single')"
   ]
  },
  {
   "cell_type": "code",
   "execution_count": 34,
   "id": "e1a5cebd",
   "metadata": {
    "execution": {
     "iopub.execute_input": "2024-12-05T15:39:53.851710Z",
     "iopub.status.busy": "2024-12-05T15:39:53.851317Z",
     "iopub.status.idle": "2024-12-05T15:39:53.868410Z",
     "shell.execute_reply": "2024-12-05T15:39:53.867094Z"
    },
    "papermill": {
     "duration": 0.032322,
     "end_time": "2024-12-05T15:39:53.870701",
     "exception": false,
     "start_time": "2024-12-05T15:39:53.838379",
     "status": "completed"
    },
    "tags": []
   },
   "outputs": [],
   "source": [
    " train_data['Insurance Duration'] = train_data['Insurance Duration'].fillna(0)\n",
    "test_data['Insurance Duration'] = test_data['Insurance Duration'].fillna(0)"
   ]
  },
  {
   "cell_type": "code",
   "execution_count": 35,
   "id": "f7f5e071",
   "metadata": {
    "execution": {
     "iopub.execute_input": "2024-12-05T15:39:53.895509Z",
     "iopub.status.busy": "2024-12-05T15:39:53.895101Z",
     "iopub.status.idle": "2024-12-05T15:39:54.457910Z",
     "shell.execute_reply": "2024-12-05T15:39:54.456827Z"
    },
    "papermill": {
     "duration": 0.577916,
     "end_time": "2024-12-05T15:39:54.460467",
     "exception": false,
     "start_time": "2024-12-05T15:39:53.882551",
     "status": "completed"
    },
    "tags": []
   },
   "outputs": [],
   "source": [
    " test_data['Vehicle Age'] = test_data['Vehicle Age'].apply(lambda x: np.random.uniform(0.0, 11.0) if pd.isnull(x) else x)"
   ]
  },
  {
   "cell_type": "code",
   "execution_count": 36,
   "id": "a1d0c19c",
   "metadata": {
    "execution": {
     "iopub.execute_input": "2024-12-05T15:39:54.485322Z",
     "iopub.status.busy": "2024-12-05T15:39:54.484838Z",
     "iopub.status.idle": "2024-12-05T15:39:54.513463Z",
     "shell.execute_reply": "2024-12-05T15:39:54.512219Z"
    },
    "papermill": {
     "duration": 0.043506,
     "end_time": "2024-12-05T15:39:54.515618",
     "exception": false,
     "start_time": "2024-12-05T15:39:54.472112",
     "status": "completed"
    },
    "tags": []
   },
   "outputs": [
    {
     "data": {
      "text/html": [
       "<div>\n",
       "<style scoped>\n",
       "    .dataframe tbody tr th:only-of-type {\n",
       "        vertical-align: middle;\n",
       "    }\n",
       "\n",
       "    .dataframe tbody tr th {\n",
       "        vertical-align: top;\n",
       "    }\n",
       "\n",
       "    .dataframe thead th {\n",
       "        text-align: right;\n",
       "    }\n",
       "</style>\n",
       "<table border=\"1\" class=\"dataframe\">\n",
       "  <thead>\n",
       "    <tr style=\"text-align: right;\">\n",
       "      <th></th>\n",
       "      <th>id</th>\n",
       "      <th>Age</th>\n",
       "      <th>Gender</th>\n",
       "      <th>Annual Income</th>\n",
       "      <th>Marital Status</th>\n",
       "      <th>Number of Dependents</th>\n",
       "      <th>Education Level</th>\n",
       "      <th>Occupation</th>\n",
       "      <th>Health Score</th>\n",
       "      <th>Location</th>\n",
       "      <th>...</th>\n",
       "      <th>Previous Claims</th>\n",
       "      <th>Vehicle Age</th>\n",
       "      <th>Credit Score</th>\n",
       "      <th>Insurance Duration</th>\n",
       "      <th>Policy Start Date</th>\n",
       "      <th>Customer Feedback</th>\n",
       "      <th>Smoking Status</th>\n",
       "      <th>Exercise Frequency</th>\n",
       "      <th>Property Type</th>\n",
       "      <th>Premium Amount</th>\n",
       "    </tr>\n",
       "  </thead>\n",
       "  <tbody>\n",
       "    <tr>\n",
       "      <th>0</th>\n",
       "      <td>0</td>\n",
       "      <td>19.0</td>\n",
       "      <td>Female</td>\n",
       "      <td>10049.0</td>\n",
       "      <td>Married</td>\n",
       "      <td>1.0</td>\n",
       "      <td>Bachelor's</td>\n",
       "      <td>Self-Employed</td>\n",
       "      <td>22.598761</td>\n",
       "      <td>Urban</td>\n",
       "      <td>...</td>\n",
       "      <td>2.0</td>\n",
       "      <td>17.0</td>\n",
       "      <td>372.00000</td>\n",
       "      <td>5.0</td>\n",
       "      <td>2023-12-23 15:21:39.134960</td>\n",
       "      <td>Poor</td>\n",
       "      <td>No</td>\n",
       "      <td>Weekly</td>\n",
       "      <td>House</td>\n",
       "      <td>2869.0</td>\n",
       "    </tr>\n",
       "    <tr>\n",
       "      <th>1</th>\n",
       "      <td>1</td>\n",
       "      <td>39.0</td>\n",
       "      <td>Female</td>\n",
       "      <td>31678.0</td>\n",
       "      <td>Divorced</td>\n",
       "      <td>3.0</td>\n",
       "      <td>Master's</td>\n",
       "      <td>Unemployed</td>\n",
       "      <td>15.569731</td>\n",
       "      <td>Rural</td>\n",
       "      <td>...</td>\n",
       "      <td>1.0</td>\n",
       "      <td>12.0</td>\n",
       "      <td>694.00000</td>\n",
       "      <td>2.0</td>\n",
       "      <td>2023-06-12 15:21:39.111551</td>\n",
       "      <td>Average</td>\n",
       "      <td>Yes</td>\n",
       "      <td>Monthly</td>\n",
       "      <td>House</td>\n",
       "      <td>1483.0</td>\n",
       "    </tr>\n",
       "    <tr>\n",
       "      <th>2</th>\n",
       "      <td>2</td>\n",
       "      <td>23.0</td>\n",
       "      <td>Male</td>\n",
       "      <td>25602.0</td>\n",
       "      <td>Divorced</td>\n",
       "      <td>3.0</td>\n",
       "      <td>High School</td>\n",
       "      <td>Self-Employed</td>\n",
       "      <td>47.177549</td>\n",
       "      <td>Suburban</td>\n",
       "      <td>...</td>\n",
       "      <td>1.0</td>\n",
       "      <td>14.0</td>\n",
       "      <td>592.92435</td>\n",
       "      <td>3.0</td>\n",
       "      <td>2023-09-30 15:21:39.221386</td>\n",
       "      <td>Good</td>\n",
       "      <td>Yes</td>\n",
       "      <td>Weekly</td>\n",
       "      <td>House</td>\n",
       "      <td>567.0</td>\n",
       "    </tr>\n",
       "    <tr>\n",
       "      <th>3</th>\n",
       "      <td>3</td>\n",
       "      <td>21.0</td>\n",
       "      <td>Male</td>\n",
       "      <td>141855.0</td>\n",
       "      <td>Married</td>\n",
       "      <td>2.0</td>\n",
       "      <td>Bachelor's</td>\n",
       "      <td>Unemployed</td>\n",
       "      <td>10.938144</td>\n",
       "      <td>Rural</td>\n",
       "      <td>...</td>\n",
       "      <td>1.0</td>\n",
       "      <td>0.0</td>\n",
       "      <td>367.00000</td>\n",
       "      <td>1.0</td>\n",
       "      <td>2024-06-12 15:21:39.226954</td>\n",
       "      <td>Poor</td>\n",
       "      <td>Yes</td>\n",
       "      <td>Daily</td>\n",
       "      <td>Apartment</td>\n",
       "      <td>765.0</td>\n",
       "    </tr>\n",
       "    <tr>\n",
       "      <th>4</th>\n",
       "      <td>4</td>\n",
       "      <td>21.0</td>\n",
       "      <td>Male</td>\n",
       "      <td>39651.0</td>\n",
       "      <td>Single</td>\n",
       "      <td>1.0</td>\n",
       "      <td>Bachelor's</td>\n",
       "      <td>Self-Employed</td>\n",
       "      <td>20.376094</td>\n",
       "      <td>Rural</td>\n",
       "      <td>...</td>\n",
       "      <td>0.0</td>\n",
       "      <td>8.0</td>\n",
       "      <td>598.00000</td>\n",
       "      <td>4.0</td>\n",
       "      <td>2021-12-01 15:21:39.252145</td>\n",
       "      <td>Poor</td>\n",
       "      <td>Yes</td>\n",
       "      <td>Weekly</td>\n",
       "      <td>House</td>\n",
       "      <td>2022.0</td>\n",
       "    </tr>\n",
       "  </tbody>\n",
       "</table>\n",
       "<p>5 rows × 21 columns</p>\n",
       "</div>"
      ],
      "text/plain": [
       "   id   Age  Gender  Annual Income Marital Status  Number of Dependents  \\\n",
       "0   0  19.0  Female        10049.0        Married                   1.0   \n",
       "1   1  39.0  Female        31678.0       Divorced                   3.0   \n",
       "2   2  23.0    Male        25602.0       Divorced                   3.0   \n",
       "3   3  21.0    Male       141855.0        Married                   2.0   \n",
       "4   4  21.0    Male        39651.0         Single                   1.0   \n",
       "\n",
       "  Education Level     Occupation  Health Score  Location  ... Previous Claims  \\\n",
       "0      Bachelor's  Self-Employed     22.598761     Urban  ...             2.0   \n",
       "1        Master's     Unemployed     15.569731     Rural  ...             1.0   \n",
       "2     High School  Self-Employed     47.177549  Suburban  ...             1.0   \n",
       "3      Bachelor's     Unemployed     10.938144     Rural  ...             1.0   \n",
       "4      Bachelor's  Self-Employed     20.376094     Rural  ...             0.0   \n",
       "\n",
       "   Vehicle Age  Credit Score  Insurance Duration           Policy Start Date  \\\n",
       "0         17.0     372.00000                 5.0  2023-12-23 15:21:39.134960   \n",
       "1         12.0     694.00000                 2.0  2023-06-12 15:21:39.111551   \n",
       "2         14.0     592.92435                 3.0  2023-09-30 15:21:39.221386   \n",
       "3          0.0     367.00000                 1.0  2024-06-12 15:21:39.226954   \n",
       "4          8.0     598.00000                 4.0  2021-12-01 15:21:39.252145   \n",
       "\n",
       "  Customer Feedback Smoking Status Exercise Frequency Property Type  \\\n",
       "0              Poor             No             Weekly         House   \n",
       "1           Average            Yes            Monthly         House   \n",
       "2              Good            Yes             Weekly         House   \n",
       "3              Poor            Yes              Daily     Apartment   \n",
       "4              Poor            Yes             Weekly         House   \n",
       "\n",
       "  Premium Amount  \n",
       "0         2869.0  \n",
       "1         1483.0  \n",
       "2          567.0  \n",
       "3          765.0  \n",
       "4         2022.0  \n",
       "\n",
       "[5 rows x 21 columns]"
      ]
     },
     "execution_count": 36,
     "metadata": {},
     "output_type": "execute_result"
    }
   ],
   "source": [
    "train_data.head()"
   ]
  },
  {
   "cell_type": "code",
   "execution_count": 37,
   "id": "ebddacc3",
   "metadata": {
    "execution": {
     "iopub.execute_input": "2024-12-05T15:39:54.541843Z",
     "iopub.status.busy": "2024-12-05T15:39:54.541079Z",
     "iopub.status.idle": "2024-12-05T15:39:55.930900Z",
     "shell.execute_reply": "2024-12-05T15:39:55.929673Z"
    },
    "papermill": {
     "duration": 1.40526,
     "end_time": "2024-12-05T15:39:55.933098",
     "exception": false,
     "start_time": "2024-12-05T15:39:54.527838",
     "status": "completed"
    },
    "tags": []
   },
   "outputs": [
    {
     "name": "stderr",
     "output_type": "stream",
     "text": [
      "/tmp/ipykernel_17/3765079498.py:1: FutureWarning: Downcasting behavior in `replace` is deprecated and will be removed in a future version. To retain the old behavior, explicitly call `result.infer_objects(copy=False)`. To opt-in to the future behavior, set `pd.set_option('future.no_silent_downcasting', True)`\n",
      "  train_data['Gender'] = train_data['Gender'].replace({\"Female\": 1, \"Male\" : 0})\n",
      "/tmp/ipykernel_17/3765079498.py:2: FutureWarning: Downcasting behavior in `replace` is deprecated and will be removed in a future version. To retain the old behavior, explicitly call `result.infer_objects(copy=False)`. To opt-in to the future behavior, set `pd.set_option('future.no_silent_downcasting', True)`\n",
      "  train_data['Smoking Status'] = train_data['Smoking Status'].replace({\"Yes\" : 1, \"No\": 0})\n",
      "/tmp/ipykernel_17/3765079498.py:3: FutureWarning: Downcasting behavior in `replace` is deprecated and will be removed in a future version. To retain the old behavior, explicitly call `result.infer_objects(copy=False)`. To opt-in to the future behavior, set `pd.set_option('future.no_silent_downcasting', True)`\n",
      "  test_data['Gender'] = test_data['Gender'].replace({\"Female\": 1, \"Male\" : 0})\n",
      "/tmp/ipykernel_17/3765079498.py:4: FutureWarning: Downcasting behavior in `replace` is deprecated and will be removed in a future version. To retain the old behavior, explicitly call `result.infer_objects(copy=False)`. To opt-in to the future behavior, set `pd.set_option('future.no_silent_downcasting', True)`\n",
      "  test_data['Smoking Status'] = test_data['Smoking Status'].replace({\"Yes\" : 1, \"No\": 0})\n"
     ]
    }
   ],
   "source": [
    "train_data['Gender'] = train_data['Gender'].replace({\"Female\": 1, \"Male\" : 0})\n",
    "train_data['Smoking Status'] = train_data['Smoking Status'].replace({\"Yes\" : 1, \"No\": 0})\n",
    "test_data['Gender'] = test_data['Gender'].replace({\"Female\": 1, \"Male\" : 0})\n",
    "test_data['Smoking Status'] = test_data['Smoking Status'].replace({\"Yes\" : 1, \"No\": 0})"
   ]
  },
  {
   "cell_type": "code",
   "execution_count": 38,
   "id": "eee3d39b",
   "metadata": {
    "execution": {
     "iopub.execute_input": "2024-12-05T15:39:55.960982Z",
     "iopub.status.busy": "2024-12-05T15:39:55.960588Z",
     "iopub.status.idle": "2024-12-05T15:39:55.971492Z",
     "shell.execute_reply": "2024-12-05T15:39:55.970416Z"
    },
    "papermill": {
     "duration": 0.026848,
     "end_time": "2024-12-05T15:39:55.974127",
     "exception": false,
     "start_time": "2024-12-05T15:39:55.947279",
     "status": "completed"
    },
    "tags": []
   },
   "outputs": [],
   "source": [
    " train_data['Vehicle Age'] = train_data['Vehicle Age'].fillna(0.0)"
   ]
  },
  {
   "cell_type": "code",
   "execution_count": 39,
   "id": "7b001b06",
   "metadata": {
    "execution": {
     "iopub.execute_input": "2024-12-05T15:39:56.002348Z",
     "iopub.status.busy": "2024-12-05T15:39:56.001838Z",
     "iopub.status.idle": "2024-12-05T15:39:56.220657Z",
     "shell.execute_reply": "2024-12-05T15:39:56.219468Z"
    },
    "papermill": {
     "duration": 0.236355,
     "end_time": "2024-12-05T15:39:56.223208",
     "exception": false,
     "start_time": "2024-12-05T15:39:55.986853",
     "status": "completed"
    },
    "tags": []
   },
   "outputs": [],
   "source": [
    "Y = train_data['Premium Amount']\n",
    "X = train_data.drop(\"Premium Amount\", axis = 1)"
   ]
  },
  {
   "cell_type": "code",
   "execution_count": 40,
   "id": "9a41a80b",
   "metadata": {
    "execution": {
     "iopub.execute_input": "2024-12-05T15:39:56.249522Z",
     "iopub.status.busy": "2024-12-05T15:39:56.248673Z",
     "iopub.status.idle": "2024-12-05T15:39:59.560515Z",
     "shell.execute_reply": "2024-12-05T15:39:59.559499Z"
    },
    "papermill": {
     "duration": 3.327415,
     "end_time": "2024-12-05T15:39:59.562967",
     "exception": false,
     "start_time": "2024-12-05T15:39:56.235552",
     "status": "completed"
    },
    "tags": []
   },
   "outputs": [],
   "source": [
    "lb = LabelEncoder()\n",
    "cat_cols = []  \n",
    "\n",
    "for col in X.columns:\n",
    "    if X[col].dtype == 'object':  \n",
    "        cat_cols.append(col)  \n",
    "        X[col] = lb.fit_transform(X[col])"
   ]
  },
  {
   "cell_type": "code",
   "execution_count": 41,
   "id": "2bb8f121",
   "metadata": {
    "execution": {
     "iopub.execute_input": "2024-12-05T15:39:59.590414Z",
     "iopub.status.busy": "2024-12-05T15:39:59.589590Z",
     "iopub.status.idle": "2024-12-05T15:39:59.596667Z",
     "shell.execute_reply": "2024-12-05T15:39:59.595542Z"
    },
    "papermill": {
     "duration": 0.022994,
     "end_time": "2024-12-05T15:39:59.598724",
     "exception": false,
     "start_time": "2024-12-05T15:39:59.575730",
     "status": "completed"
    },
    "tags": []
   },
   "outputs": [
    {
     "data": {
      "text/plain": [
       "['Marital Status',\n",
       " 'Education Level',\n",
       " 'Occupation',\n",
       " 'Location',\n",
       " 'Policy Type',\n",
       " 'Policy Start Date',\n",
       " 'Customer Feedback',\n",
       " 'Exercise Frequency',\n",
       " 'Property Type']"
      ]
     },
     "execution_count": 41,
     "metadata": {},
     "output_type": "execute_result"
    }
   ],
   "source": [
    "cat_cols"
   ]
  },
  {
   "cell_type": "code",
   "execution_count": 42,
   "id": "13dd5031",
   "metadata": {
    "execution": {
     "iopub.execute_input": "2024-12-05T15:39:59.625277Z",
     "iopub.status.busy": "2024-12-05T15:39:59.624509Z",
     "iopub.status.idle": "2024-12-05T15:40:00.004207Z",
     "shell.execute_reply": "2024-12-05T15:40:00.003024Z"
    },
    "papermill": {
     "duration": 0.395615,
     "end_time": "2024-12-05T15:40:00.006727",
     "exception": false,
     "start_time": "2024-12-05T15:39:59.611112",
     "status": "completed"
    },
    "tags": []
   },
   "outputs": [],
   "source": [
    "sd = MinMaxScaler()\n",
    "X = sd.fit_transform(X)\n",
    "Y = sd.fit_transform(np.array(Y).reshape(-1, 1))"
   ]
  },
  {
   "cell_type": "code",
   "execution_count": 43,
   "id": "ecc60b79",
   "metadata": {
    "execution": {
     "iopub.execute_input": "2024-12-05T15:40:00.033436Z",
     "iopub.status.busy": "2024-12-05T15:40:00.032605Z",
     "iopub.status.idle": "2024-12-05T15:40:00.433960Z",
     "shell.execute_reply": "2024-12-05T15:40:00.432731Z"
    },
    "papermill": {
     "duration": 0.41729,
     "end_time": "2024-12-05T15:40:00.436319",
     "exception": false,
     "start_time": "2024-12-05T15:40:00.019029",
     "status": "completed"
    },
    "tags": []
   },
   "outputs": [],
   "source": [
    "X_train, X_test, Y_train, Y_test = train_test_split(X, Y, test_size = 0.2, random_state = 45)"
   ]
  },
  {
   "cell_type": "code",
   "execution_count": 44,
   "id": "5831c252",
   "metadata": {
    "execution": {
     "iopub.execute_input": "2024-12-05T15:40:00.463260Z",
     "iopub.status.busy": "2024-12-05T15:40:00.462203Z",
     "iopub.status.idle": "2024-12-05T15:40:01.713633Z",
     "shell.execute_reply": "2024-12-05T15:40:01.712511Z"
    },
    "papermill": {
     "duration": 1.267415,
     "end_time": "2024-12-05T15:40:01.716172",
     "exception": false,
     "start_time": "2024-12-05T15:40:00.448757",
     "status": "completed"
    },
    "tags": []
   },
   "outputs": [
    {
     "data": {
      "text/html": [
       "<style>#sk-container-id-1 {color: black;background-color: white;}#sk-container-id-1 pre{padding: 0;}#sk-container-id-1 div.sk-toggleable {background-color: white;}#sk-container-id-1 label.sk-toggleable__label {cursor: pointer;display: block;width: 100%;margin-bottom: 0;padding: 0.3em;box-sizing: border-box;text-align: center;}#sk-container-id-1 label.sk-toggleable__label-arrow:before {content: \"▸\";float: left;margin-right: 0.25em;color: #696969;}#sk-container-id-1 label.sk-toggleable__label-arrow:hover:before {color: black;}#sk-container-id-1 div.sk-estimator:hover label.sk-toggleable__label-arrow:before {color: black;}#sk-container-id-1 div.sk-toggleable__content {max-height: 0;max-width: 0;overflow: hidden;text-align: left;background-color: #f0f8ff;}#sk-container-id-1 div.sk-toggleable__content pre {margin: 0.2em;color: black;border-radius: 0.25em;background-color: #f0f8ff;}#sk-container-id-1 input.sk-toggleable__control:checked~div.sk-toggleable__content {max-height: 200px;max-width: 100%;overflow: auto;}#sk-container-id-1 input.sk-toggleable__control:checked~label.sk-toggleable__label-arrow:before {content: \"▾\";}#sk-container-id-1 div.sk-estimator input.sk-toggleable__control:checked~label.sk-toggleable__label {background-color: #d4ebff;}#sk-container-id-1 div.sk-label input.sk-toggleable__control:checked~label.sk-toggleable__label {background-color: #d4ebff;}#sk-container-id-1 input.sk-hidden--visually {border: 0;clip: rect(1px 1px 1px 1px);clip: rect(1px, 1px, 1px, 1px);height: 1px;margin: -1px;overflow: hidden;padding: 0;position: absolute;width: 1px;}#sk-container-id-1 div.sk-estimator {font-family: monospace;background-color: #f0f8ff;border: 1px dotted black;border-radius: 0.25em;box-sizing: border-box;margin-bottom: 0.5em;}#sk-container-id-1 div.sk-estimator:hover {background-color: #d4ebff;}#sk-container-id-1 div.sk-parallel-item::after {content: \"\";width: 100%;border-bottom: 1px solid gray;flex-grow: 1;}#sk-container-id-1 div.sk-label:hover label.sk-toggleable__label {background-color: #d4ebff;}#sk-container-id-1 div.sk-serial::before {content: \"\";position: absolute;border-left: 1px solid gray;box-sizing: border-box;top: 0;bottom: 0;left: 50%;z-index: 0;}#sk-container-id-1 div.sk-serial {display: flex;flex-direction: column;align-items: center;background-color: white;padding-right: 0.2em;padding-left: 0.2em;position: relative;}#sk-container-id-1 div.sk-item {position: relative;z-index: 1;}#sk-container-id-1 div.sk-parallel {display: flex;align-items: stretch;justify-content: center;background-color: white;position: relative;}#sk-container-id-1 div.sk-item::before, #sk-container-id-1 div.sk-parallel-item::before {content: \"\";position: absolute;border-left: 1px solid gray;box-sizing: border-box;top: 0;bottom: 0;left: 50%;z-index: -1;}#sk-container-id-1 div.sk-parallel-item {display: flex;flex-direction: column;z-index: 1;position: relative;background-color: white;}#sk-container-id-1 div.sk-parallel-item:first-child::after {align-self: flex-end;width: 50%;}#sk-container-id-1 div.sk-parallel-item:last-child::after {align-self: flex-start;width: 50%;}#sk-container-id-1 div.sk-parallel-item:only-child::after {width: 0;}#sk-container-id-1 div.sk-dashed-wrapped {border: 1px dashed gray;margin: 0 0.4em 0.5em 0.4em;box-sizing: border-box;padding-bottom: 0.4em;background-color: white;}#sk-container-id-1 div.sk-label label {font-family: monospace;font-weight: bold;display: inline-block;line-height: 1.2em;}#sk-container-id-1 div.sk-label-container {text-align: center;}#sk-container-id-1 div.sk-container {/* jupyter's `normalize.less` sets `[hidden] { display: none; }` but bootstrap.min.css set `[hidden] { display: none !important; }` so we also need the `!important` here to be able to override the default hidden behavior on the sphinx rendered scikit-learn.org. See: https://github.com/scikit-learn/scikit-learn/issues/21755 */display: inline-block !important;position: relative;}#sk-container-id-1 div.sk-text-repr-fallback {display: none;}</style><div id=\"sk-container-id-1\" class=\"sk-top-container\"><div class=\"sk-text-repr-fallback\"><pre>LinearRegression()</pre><b>In a Jupyter environment, please rerun this cell to show the HTML representation or trust the notebook. <br />On GitHub, the HTML representation is unable to render, please try loading this page with nbviewer.org.</b></div><div class=\"sk-container\" hidden><div class=\"sk-item\"><div class=\"sk-estimator sk-toggleable\"><input class=\"sk-toggleable__control sk-hidden--visually\" id=\"sk-estimator-id-1\" type=\"checkbox\" checked><label for=\"sk-estimator-id-1\" class=\"sk-toggleable__label sk-toggleable__label-arrow\">LinearRegression</label><div class=\"sk-toggleable__content\"><pre>LinearRegression()</pre></div></div></div></div></div>"
      ],
      "text/plain": [
       "LinearRegression()"
      ]
     },
     "execution_count": 44,
     "metadata": {},
     "output_type": "execute_result"
    }
   ],
   "source": [
    "lr = LinearRegression()\n",
    "lr.fit(X_train, Y_train)"
   ]
  },
  {
   "cell_type": "code",
   "execution_count": 45,
   "id": "aef88fc8",
   "metadata": {
    "execution": {
     "iopub.execute_input": "2024-12-05T15:40:01.745708Z",
     "iopub.status.busy": "2024-12-05T15:40:01.745334Z",
     "iopub.status.idle": "2024-12-05T15:40:01.758627Z",
     "shell.execute_reply": "2024-12-05T15:40:01.757017Z"
    },
    "papermill": {
     "duration": 0.033464,
     "end_time": "2024-12-05T15:40:01.765039",
     "exception": false,
     "start_time": "2024-12-05T15:40:01.731575",
     "status": "completed"
    },
    "tags": []
   },
   "outputs": [],
   "source": [
    "y_pred = lr.predict(X_test)"
   ]
  },
  {
   "cell_type": "code",
   "execution_count": null,
   "id": "e4212804",
   "metadata": {
    "papermill": {
     "duration": 0.03566,
     "end_time": "2024-12-05T15:40:01.836860",
     "exception": false,
     "start_time": "2024-12-05T15:40:01.801200",
     "status": "completed"
    },
    "tags": []
   },
   "outputs": [],
   "source": []
  }
 ],
 "metadata": {
  "kaggle": {
   "accelerator": "none",
   "dataSources": [
    {
     "databundleVersionId": 10305135,
     "sourceId": 84896,
     "sourceType": "competition"
    }
   ],
   "dockerImageVersionId": 30786,
   "isGpuEnabled": false,
   "isInternetEnabled": true,
   "language": "python",
   "sourceType": "notebook"
  },
  "kernelspec": {
   "display_name": "Python 3",
   "language": "python",
   "name": "python3"
  },
  "language_info": {
   "codemirror_mode": {
    "name": "ipython",
    "version": 3
   },
   "file_extension": ".py",
   "mimetype": "text/x-python",
   "name": "python",
   "nbconvert_exporter": "python",
   "pygments_lexer": "ipython3",
   "version": "3.10.14"
  },
  "papermill": {
   "default_parameters": {},
   "duration": 72.193122,
   "end_time": "2024-12-05T15:40:02.797664",
   "environment_variables": {},
   "exception": null,
   "input_path": "__notebook__.ipynb",
   "output_path": "__notebook__.ipynb",
   "parameters": {},
   "start_time": "2024-12-05T15:38:50.604542",
   "version": "2.6.0"
  }
 },
 "nbformat": 4,
 "nbformat_minor": 5
}
