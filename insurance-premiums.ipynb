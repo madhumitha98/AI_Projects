{
 "cells": [
  {
   "cell_type": "code",
   "execution_count": 1,
   "id": "c1c1c2cb",
   "metadata": {
    "_cell_guid": "b1076dfc-b9ad-4769-8c92-a6c4dae69d19",
    "_uuid": "8f2839f25d086af736a60e9eeb907d3b93b6e0e5",
    "execution": {
     "iopub.execute_input": "2024-12-13T16:23:17.899827Z",
     "iopub.status.busy": "2024-12-13T16:23:17.899429Z",
     "iopub.status.idle": "2024-12-13T16:23:18.881017Z",
     "shell.execute_reply": "2024-12-13T16:23:18.879582Z"
    },
    "papermill": {
     "duration": 0.99742,
     "end_time": "2024-12-13T16:23:18.883759",
     "exception": false,
     "start_time": "2024-12-13T16:23:17.886339",
     "status": "completed"
    },
    "tags": []
   },
   "outputs": [
    {
     "name": "stdout",
     "output_type": "stream",
     "text": [
      "/kaggle/input/playground-series-s4e12/sample_submission.csv\n",
      "/kaggle/input/playground-series-s4e12/train.csv\n",
      "/kaggle/input/playground-series-s4e12/test.csv\n"
     ]
    }
   ],
   "source": [
    "# This Python 3 environment comes with many helpful analytics libraries installed\n",
    "# It is defined by the kaggle/python Docker image: https://github.com/kaggle/docker-python\n",
    "# For example, here's several helpful packages to load\n",
    "\n",
    "import numpy as np # linear algebra\n",
    "import pandas as pd # data processing, CSV file I/O (e.g. pd.read_csv)\n",
    "\n",
    "# Input data files are available in the read-only \"../input/\" directory\n",
    "# For example, running this (by clicking run or pressing Shift+Enter) will list all files under the input directory\n",
    "\n",
    "import os\n",
    "for dirname, _, filenames in os.walk('/kaggle/input'):\n",
    "    for filename in filenames:\n",
    "        print(os.path.join(dirname, filename))\n",
    "\n",
    "# You can write up to 20GB to the current directory (/kaggle/working/) that gets preserved as output when you create a version using \"Save & Run All\" \n",
    "# You can also write temporary files to /kaggle/temp/, but they won't be saved outside of the current session"
   ]
  },
  {
   "cell_type": "code",
   "execution_count": 2,
   "id": "0d34e2c3",
   "metadata": {
    "execution": {
     "iopub.execute_input": "2024-12-13T16:23:18.908150Z",
     "iopub.status.busy": "2024-12-13T16:23:18.907637Z",
     "iopub.status.idle": "2024-12-13T16:23:21.848589Z",
     "shell.execute_reply": "2024-12-13T16:23:21.847442Z"
    },
    "papermill": {
     "duration": 2.956956,
     "end_time": "2024-12-13T16:23:21.851261",
     "exception": false,
     "start_time": "2024-12-13T16:23:18.894305",
     "status": "completed"
    },
    "tags": []
   },
   "outputs": [],
   "source": [
    "import matplotlib.pyplot as plt\n",
    "import seaborn as sns\n",
    "from sklearn.preprocessing import MinMaxScaler, OneHotEncoder, LabelEncoder\n",
    "from sklearn.model_selection import train_test_split\n",
    "from sklearn.linear_model import LinearRegression\n",
    "from sklearn.tree import DecisionTreeRegressor\n",
    "from sklearn.ensemble import RandomForestRegressor, GradientBoostingRegressor\n",
    "from catboost import CatBoostRegressor\n",
    "from sklearn.metrics import mean_squared_error"
   ]
  },
  {
   "cell_type": "code",
   "execution_count": 3,
   "id": "61170112",
   "metadata": {
    "execution": {
     "iopub.execute_input": "2024-12-13T16:23:21.875791Z",
     "iopub.status.busy": "2024-12-13T16:23:21.875202Z",
     "iopub.status.idle": "2024-12-13T16:23:32.857623Z",
     "shell.execute_reply": "2024-12-13T16:23:32.856395Z"
    },
    "papermill": {
     "duration": 10.997945,
     "end_time": "2024-12-13T16:23:32.860850",
     "exception": false,
     "start_time": "2024-12-13T16:23:21.862905",
     "status": "completed"
    },
    "tags": []
   },
   "outputs": [],
   "source": [
    "train_data = pd.read_csv(\"/kaggle/input/playground-series-s4e12/train.csv\")\n",
    "\n",
    "test_data = pd.read_csv(\"/kaggle/input/playground-series-s4e12/test.csv\")"
   ]
  },
  {
   "cell_type": "code",
   "execution_count": 4,
   "id": "3cc10e25",
   "metadata": {
    "execution": {
     "iopub.execute_input": "2024-12-13T16:23:32.883600Z",
     "iopub.status.busy": "2024-12-13T16:23:32.883166Z",
     "iopub.status.idle": "2024-12-13T16:23:32.926188Z",
     "shell.execute_reply": "2024-12-13T16:23:32.924962Z"
    },
    "papermill": {
     "duration": 0.057234,
     "end_time": "2024-12-13T16:23:32.928652",
     "exception": false,
     "start_time": "2024-12-13T16:23:32.871418",
     "status": "completed"
    },
    "tags": []
   },
   "outputs": [
    {
     "data": {
      "text/html": [
       "<div>\n",
       "<style scoped>\n",
       "    .dataframe tbody tr th:only-of-type {\n",
       "        vertical-align: middle;\n",
       "    }\n",
       "\n",
       "    .dataframe tbody tr th {\n",
       "        vertical-align: top;\n",
       "    }\n",
       "\n",
       "    .dataframe thead th {\n",
       "        text-align: right;\n",
       "    }\n",
       "</style>\n",
       "<table border=\"1\" class=\"dataframe\">\n",
       "  <thead>\n",
       "    <tr style=\"text-align: right;\">\n",
       "      <th></th>\n",
       "      <th>id</th>\n",
       "      <th>Age</th>\n",
       "      <th>Gender</th>\n",
       "      <th>Annual Income</th>\n",
       "      <th>Marital Status</th>\n",
       "      <th>Number of Dependents</th>\n",
       "      <th>Education Level</th>\n",
       "      <th>Occupation</th>\n",
       "      <th>Health Score</th>\n",
       "      <th>Location</th>\n",
       "      <th>...</th>\n",
       "      <th>Previous Claims</th>\n",
       "      <th>Vehicle Age</th>\n",
       "      <th>Credit Score</th>\n",
       "      <th>Insurance Duration</th>\n",
       "      <th>Policy Start Date</th>\n",
       "      <th>Customer Feedback</th>\n",
       "      <th>Smoking Status</th>\n",
       "      <th>Exercise Frequency</th>\n",
       "      <th>Property Type</th>\n",
       "      <th>Premium Amount</th>\n",
       "    </tr>\n",
       "  </thead>\n",
       "  <tbody>\n",
       "    <tr>\n",
       "      <th>0</th>\n",
       "      <td>0</td>\n",
       "      <td>19.0</td>\n",
       "      <td>Female</td>\n",
       "      <td>10049.0</td>\n",
       "      <td>Married</td>\n",
       "      <td>1.0</td>\n",
       "      <td>Bachelor's</td>\n",
       "      <td>Self-Employed</td>\n",
       "      <td>22.598761</td>\n",
       "      <td>Urban</td>\n",
       "      <td>...</td>\n",
       "      <td>2.0</td>\n",
       "      <td>17.0</td>\n",
       "      <td>372.0</td>\n",
       "      <td>5.0</td>\n",
       "      <td>2023-12-23 15:21:39.134960</td>\n",
       "      <td>Poor</td>\n",
       "      <td>No</td>\n",
       "      <td>Weekly</td>\n",
       "      <td>House</td>\n",
       "      <td>2869.0</td>\n",
       "    </tr>\n",
       "    <tr>\n",
       "      <th>1</th>\n",
       "      <td>1</td>\n",
       "      <td>39.0</td>\n",
       "      <td>Female</td>\n",
       "      <td>31678.0</td>\n",
       "      <td>Divorced</td>\n",
       "      <td>3.0</td>\n",
       "      <td>Master's</td>\n",
       "      <td>NaN</td>\n",
       "      <td>15.569731</td>\n",
       "      <td>Rural</td>\n",
       "      <td>...</td>\n",
       "      <td>1.0</td>\n",
       "      <td>12.0</td>\n",
       "      <td>694.0</td>\n",
       "      <td>2.0</td>\n",
       "      <td>2023-06-12 15:21:39.111551</td>\n",
       "      <td>Average</td>\n",
       "      <td>Yes</td>\n",
       "      <td>Monthly</td>\n",
       "      <td>House</td>\n",
       "      <td>1483.0</td>\n",
       "    </tr>\n",
       "    <tr>\n",
       "      <th>2</th>\n",
       "      <td>2</td>\n",
       "      <td>23.0</td>\n",
       "      <td>Male</td>\n",
       "      <td>25602.0</td>\n",
       "      <td>Divorced</td>\n",
       "      <td>3.0</td>\n",
       "      <td>High School</td>\n",
       "      <td>Self-Employed</td>\n",
       "      <td>47.177549</td>\n",
       "      <td>Suburban</td>\n",
       "      <td>...</td>\n",
       "      <td>1.0</td>\n",
       "      <td>14.0</td>\n",
       "      <td>NaN</td>\n",
       "      <td>3.0</td>\n",
       "      <td>2023-09-30 15:21:39.221386</td>\n",
       "      <td>Good</td>\n",
       "      <td>Yes</td>\n",
       "      <td>Weekly</td>\n",
       "      <td>House</td>\n",
       "      <td>567.0</td>\n",
       "    </tr>\n",
       "    <tr>\n",
       "      <th>3</th>\n",
       "      <td>3</td>\n",
       "      <td>21.0</td>\n",
       "      <td>Male</td>\n",
       "      <td>141855.0</td>\n",
       "      <td>Married</td>\n",
       "      <td>2.0</td>\n",
       "      <td>Bachelor's</td>\n",
       "      <td>NaN</td>\n",
       "      <td>10.938144</td>\n",
       "      <td>Rural</td>\n",
       "      <td>...</td>\n",
       "      <td>1.0</td>\n",
       "      <td>0.0</td>\n",
       "      <td>367.0</td>\n",
       "      <td>1.0</td>\n",
       "      <td>2024-06-12 15:21:39.226954</td>\n",
       "      <td>Poor</td>\n",
       "      <td>Yes</td>\n",
       "      <td>Daily</td>\n",
       "      <td>Apartment</td>\n",
       "      <td>765.0</td>\n",
       "    </tr>\n",
       "    <tr>\n",
       "      <th>4</th>\n",
       "      <td>4</td>\n",
       "      <td>21.0</td>\n",
       "      <td>Male</td>\n",
       "      <td>39651.0</td>\n",
       "      <td>Single</td>\n",
       "      <td>1.0</td>\n",
       "      <td>Bachelor's</td>\n",
       "      <td>Self-Employed</td>\n",
       "      <td>20.376094</td>\n",
       "      <td>Rural</td>\n",
       "      <td>...</td>\n",
       "      <td>0.0</td>\n",
       "      <td>8.0</td>\n",
       "      <td>598.0</td>\n",
       "      <td>4.0</td>\n",
       "      <td>2021-12-01 15:21:39.252145</td>\n",
       "      <td>Poor</td>\n",
       "      <td>Yes</td>\n",
       "      <td>Weekly</td>\n",
       "      <td>House</td>\n",
       "      <td>2022.0</td>\n",
       "    </tr>\n",
       "  </tbody>\n",
       "</table>\n",
       "<p>5 rows × 21 columns</p>\n",
       "</div>"
      ],
      "text/plain": [
       "   id   Age  Gender  Annual Income Marital Status  Number of Dependents  \\\n",
       "0   0  19.0  Female        10049.0        Married                   1.0   \n",
       "1   1  39.0  Female        31678.0       Divorced                   3.0   \n",
       "2   2  23.0    Male        25602.0       Divorced                   3.0   \n",
       "3   3  21.0    Male       141855.0        Married                   2.0   \n",
       "4   4  21.0    Male        39651.0         Single                   1.0   \n",
       "\n",
       "  Education Level     Occupation  Health Score  Location  ... Previous Claims  \\\n",
       "0      Bachelor's  Self-Employed     22.598761     Urban  ...             2.0   \n",
       "1        Master's            NaN     15.569731     Rural  ...             1.0   \n",
       "2     High School  Self-Employed     47.177549  Suburban  ...             1.0   \n",
       "3      Bachelor's            NaN     10.938144     Rural  ...             1.0   \n",
       "4      Bachelor's  Self-Employed     20.376094     Rural  ...             0.0   \n",
       "\n",
       "   Vehicle Age  Credit Score  Insurance Duration           Policy Start Date  \\\n",
       "0         17.0         372.0                 5.0  2023-12-23 15:21:39.134960   \n",
       "1         12.0         694.0                 2.0  2023-06-12 15:21:39.111551   \n",
       "2         14.0           NaN                 3.0  2023-09-30 15:21:39.221386   \n",
       "3          0.0         367.0                 1.0  2024-06-12 15:21:39.226954   \n",
       "4          8.0         598.0                 4.0  2021-12-01 15:21:39.252145   \n",
       "\n",
       "  Customer Feedback Smoking Status Exercise Frequency Property Type  \\\n",
       "0              Poor             No             Weekly         House   \n",
       "1           Average            Yes            Monthly         House   \n",
       "2              Good            Yes             Weekly         House   \n",
       "3              Poor            Yes              Daily     Apartment   \n",
       "4              Poor            Yes             Weekly         House   \n",
       "\n",
       "  Premium Amount  \n",
       "0         2869.0  \n",
       "1         1483.0  \n",
       "2          567.0  \n",
       "3          765.0  \n",
       "4         2022.0  \n",
       "\n",
       "[5 rows x 21 columns]"
      ]
     },
     "execution_count": 4,
     "metadata": {},
     "output_type": "execute_result"
    }
   ],
   "source": [
    "train_data.head()"
   ]
  },
  {
   "cell_type": "code",
   "execution_count": 5,
   "id": "309cf827",
   "metadata": {
    "execution": {
     "iopub.execute_input": "2024-12-13T16:23:32.951906Z",
     "iopub.status.busy": "2024-12-13T16:23:32.951501Z",
     "iopub.status.idle": "2024-12-13T16:23:33.600986Z",
     "shell.execute_reply": "2024-12-13T16:23:33.599835Z"
    },
    "papermill": {
     "duration": 0.664097,
     "end_time": "2024-12-13T16:23:33.603497",
     "exception": false,
     "start_time": "2024-12-13T16:23:32.939400",
     "status": "completed"
    },
    "tags": []
   },
   "outputs": [
    {
     "data": {
      "text/plain": [
       "id                       0.000000\n",
       "Age                      1.558750\n",
       "Gender                   0.000000\n",
       "Annual Income            3.745750\n",
       "Marital Status           1.544083\n",
       "Number of Dependents     9.139333\n",
       "Education Level          0.000000\n",
       "Occupation              29.839583\n",
       "Health Score             6.173000\n",
       "Location                 0.000000\n",
       "Policy Type              0.000000\n",
       "Previous Claims         30.335750\n",
       "Vehicle Age              0.000500\n",
       "Credit Score            11.490167\n",
       "Insurance Duration       0.000083\n",
       "Policy Start Date        0.000000\n",
       "Customer Feedback        6.485333\n",
       "Smoking Status           0.000000\n",
       "Exercise Frequency       0.000000\n",
       "Property Type            0.000000\n",
       "Premium Amount           0.000000\n",
       "dtype: float64"
      ]
     },
     "execution_count": 5,
     "metadata": {},
     "output_type": "execute_result"
    }
   ],
   "source": [
    "train_data.isnull().sum()* 100 /len(train_data)"
   ]
  },
  {
   "cell_type": "code",
   "execution_count": 6,
   "id": "eba28eb3",
   "metadata": {
    "execution": {
     "iopub.execute_input": "2024-12-13T16:23:33.627545Z",
     "iopub.status.busy": "2024-12-13T16:23:33.627133Z",
     "iopub.status.idle": "2024-12-13T16:23:34.054507Z",
     "shell.execute_reply": "2024-12-13T16:23:34.053209Z"
    },
    "papermill": {
     "duration": 0.442053,
     "end_time": "2024-12-13T16:23:34.056849",
     "exception": false,
     "start_time": "2024-12-13T16:23:33.614796",
     "status": "completed"
    },
    "tags": []
   },
   "outputs": [
    {
     "data": {
      "text/plain": [
       "id                       0.000000\n",
       "Age                      1.561125\n",
       "Gender                   0.000000\n",
       "Annual Income            3.732500\n",
       "Marital Status           1.542000\n",
       "Number of Dependents     9.141250\n",
       "Education Level          0.000000\n",
       "Occupation              29.890625\n",
       "Health Score             6.181125\n",
       "Location                 0.000000\n",
       "Policy Type              0.000000\n",
       "Previous Claims         30.350250\n",
       "Vehicle Age              0.000375\n",
       "Credit Score            11.431375\n",
       "Insurance Duration       0.000250\n",
       "Policy Start Date        0.000000\n",
       "Customer Feedback        6.534500\n",
       "Smoking Status           0.000000\n",
       "Exercise Frequency       0.000000\n",
       "Property Type            0.000000\n",
       "dtype: float64"
      ]
     },
     "execution_count": 6,
     "metadata": {},
     "output_type": "execute_result"
    }
   ],
   "source": [
    "test_data.isnull().sum() / len(test_data) * 100"
   ]
  },
  {
   "cell_type": "markdown",
   "id": "b1acf779",
   "metadata": {
    "execution": {
     "iopub.execute_input": "2024-12-08T14:19:58.637673Z",
     "iopub.status.busy": "2024-12-08T14:19:58.637177Z",
     "iopub.status.idle": "2024-12-08T14:19:58.642838Z",
     "shell.execute_reply": "2024-12-08T14:19:58.641788Z",
     "shell.execute_reply.started": "2024-12-08T14:19:58.637623Z"
    },
    "papermill": {
     "duration": 0.010394,
     "end_time": "2024-12-13T16:23:34.078025",
     "exception": false,
     "start_time": "2024-12-13T16:23:34.067631",
     "status": "completed"
    },
    "tags": []
   },
   "source": [
    "## EDA"
   ]
  },
  {
   "cell_type": "code",
   "execution_count": 7,
   "id": "9e26b0d5",
   "metadata": {
    "execution": {
     "iopub.execute_input": "2024-12-13T16:23:34.101205Z",
     "iopub.status.busy": "2024-12-13T16:23:34.100822Z",
     "iopub.status.idle": "2024-12-13T16:23:34.381639Z",
     "shell.execute_reply": "2024-12-13T16:23:34.380457Z"
    },
    "papermill": {
     "duration": 0.29548,
     "end_time": "2024-12-13T16:23:34.384209",
     "exception": false,
     "start_time": "2024-12-13T16:23:34.088729",
     "status": "completed"
    },
    "tags": []
   },
   "outputs": [
    {
     "data": {
      "image/png": "[encoded data removed]",
      "text/plain": [
       "<Figure size 640x480 with 1 Axes>"
      ]
     },
     "metadata": {},
     "output_type": "display_data"
    }
   ],
   "source": [
    "plt.hist(train_data['Annual Income'], bins = 5)\n",
    "plt.show()"
   ]
  },
  {
   "cell_type": "code",
   "execution_count": 8,
   "id": "28711711",
   "metadata": {
    "execution": {
     "iopub.execute_input": "2024-12-13T16:23:34.409162Z",
     "iopub.status.busy": "2024-12-13T16:23:34.408770Z",
     "iopub.status.idle": "2024-12-13T16:23:37.217310Z",
     "shell.execute_reply": "2024-12-13T16:23:37.216095Z"
    },
    "papermill": {
     "duration": 2.823768,
     "end_time": "2024-12-13T16:23:37.219798",
     "exception": false,
     "start_time": "2024-12-13T16:23:34.396030",
     "status": "completed"
    },
    "tags": []
   },
   "outputs": [
    {
     "data": {
      "image/png": "[encoded data removed]",
      "text/plain": [
       "<Figure size 640x480 with 1 Axes>"
      ]
     },
     "metadata": {},
     "output_type": "display_data"
    }
   ],
   "source": [
    "plt.scatter(train_data['Premium Amount'], train_data['Annual Income'])\n",
    "plt.show()"
   ]
  },
  {
   "cell_type": "code",
   "execution_count": 9,
   "id": "70c347ea",
   "metadata": {
    "execution": {
     "iopub.execute_input": "2024-12-13T16:23:37.247322Z",
     "iopub.status.busy": "2024-12-13T16:23:37.246397Z",
     "iopub.status.idle": "2024-12-13T16:24:00.562135Z",
     "shell.execute_reply": "2024-12-13T16:24:00.560682Z"
    },
    "papermill": {
     "duration": 23.332409,
     "end_time": "2024-12-13T16:24:00.564630",
     "exception": false,
     "start_time": "2024-12-13T16:23:37.232221",
     "status": "completed"
    },
    "tags": []
   },
   "outputs": [
    {
     "data": {
      "image/png": "[encoded data removed]",
      "text/plain": [
       "<Figure size 640x480 with 1 Axes>"
      ]
     },
     "metadata": {},
     "output_type": "display_data"
    }
   ],
   "source": [
    "sns.barplot(data = train_data, x = 'Gender', y= 'Annual Income')\n",
    "plt.show()"
   ]
  },
  {
   "cell_type": "code",
   "execution_count": 10,
   "id": "0374a613",
   "metadata": {
    "execution": {
     "iopub.execute_input": "2024-12-13T16:24:00.594160Z",
     "iopub.status.busy": "2024-12-13T16:24:00.593707Z",
     "iopub.status.idle": "2024-12-13T16:24:02.184918Z",
     "shell.execute_reply": "2024-12-13T16:24:02.183263Z"
    },
    "papermill": {
     "duration": 1.609292,
     "end_time": "2024-12-13T16:24:02.187740",
     "exception": false,
     "start_time": "2024-12-13T16:24:00.578448",
     "status": "completed"
    },
    "tags": []
   },
   "outputs": [
    {
     "data": {
      "image/png": "[encoded data removed]",
      "text/plain": [
       "<Figure size 640x480 with 1 Axes>"
      ]
     },
     "metadata": {},
     "output_type": "display_data"
    }
   ],
   "source": [
    "sns.countplot(data=train_data, x='Gender', hue='Marital Status')\n",
    "plt.title(\"Count of Gender with Marital Status\")\n",
    "plt.show()"
   ]
  },
  {
   "cell_type": "code",
   "execution_count": 11,
   "id": "d4a85101",
   "metadata": {
    "execution": {
     "iopub.execute_input": "2024-12-13T16:24:02.214901Z",
     "iopub.status.busy": "2024-12-13T16:24:02.214475Z",
     "iopub.status.idle": "2024-12-13T16:24:02.435545Z",
     "shell.execute_reply": "2024-12-13T16:24:02.433969Z"
    },
    "papermill": {
     "duration": 0.238476,
     "end_time": "2024-12-13T16:24:02.438973",
     "exception": false,
     "start_time": "2024-12-13T16:24:02.200497",
     "status": "completed"
    },
    "tags": []
   },
   "outputs": [
    {
     "data": {
      "image/png": "[encoded data removed]",
      "text/plain": [
       "<Figure size 640x480 with 1 Axes>"
      ]
     },
     "metadata": {},
     "output_type": "display_data"
    }
   ],
   "source": [
    "sns.boxplot(data = train_data, x= 'Age')\n",
    "plt.show()"
   ]
  },
  {
   "cell_type": "code",
   "execution_count": 12,
   "id": "5ff0d737",
   "metadata": {
    "execution": {
     "iopub.execute_input": "2024-12-13T16:24:02.469964Z",
     "iopub.status.busy": "2024-12-13T16:24:02.469584Z",
     "iopub.status.idle": "2024-12-13T16:24:10.900817Z",
     "shell.execute_reply": "2024-12-13T16:24:10.899639Z"
    },
    "papermill": {
     "duration": 8.449698,
     "end_time": "2024-12-13T16:24:10.903931",
     "exception": false,
     "start_time": "2024-12-13T16:24:02.454233",
     "status": "completed"
    },
    "tags": []
   },
   "outputs": [
    {
     "name": "stderr",
     "output_type": "stream",
     "text": [
      "/opt/conda/lib/python3.10/site-packages/seaborn/_oldcore.py:1119: FutureWarning: use_inf_as_na option is deprecated and will be removed in a future version. Convert inf values to NaN before operating instead.\n",
      "  with pd.option_context('mode.use_inf_as_na', True):\n",
      "/opt/conda/lib/python3.10/site-packages/seaborn/_oldcore.py:1119: FutureWarning: use_inf_as_na option is deprecated and will be removed in a future version. Convert inf values to NaN before operating instead.\n",
      "  with pd.option_context('mode.use_inf_as_na', True):\n",
      "/opt/conda/lib/python3.10/site-packages/seaborn/_oldcore.py:1075: FutureWarning: When grouping with a length-1 list-like, you will need to pass a length-1 tuple to get_group in a future version of pandas. Pass `(name,)` instead of `name` to silence this warning.\n",
      "  data_subset = grouped_data.get_group(pd_key)\n",
      "/opt/conda/lib/python3.10/site-packages/seaborn/_oldcore.py:1075: FutureWarning: When grouping with a length-1 list-like, you will need to pass a length-1 tuple to get_group in a future version of pandas. Pass `(name,)` instead of `name` to silence this warning.\n",
      "  data_subset = grouped_data.get_group(pd_key)\n"
     ]
    },
    {
     "data": {
      "image/png": "[encoded data removed]",
      "text/plain": [
       "<Figure size 640x480 with 1 Axes>"
      ]
     },
     "metadata": {},
     "output_type": "display_data"
    }
   ],
   "source": [
    "sns.lineplot(data = train_data, x = 'Occupation', y = 'Number of Dependents', hue = 'Gender')\n",
    "plt.show()"
   ]
  },
  {
   "cell_type": "code",
   "execution_count": 13,
   "id": "19b30467",
   "metadata": {
    "execution": {
     "iopub.execute_input": "2024-12-13T16:24:10.933420Z",
     "iopub.status.busy": "2024-12-13T16:24:10.932994Z",
     "iopub.status.idle": "2024-12-13T16:24:11.364306Z",
     "shell.execute_reply": "2024-12-13T16:24:11.363121Z"
    },
    "papermill": {
     "duration": 0.448943,
     "end_time": "2024-12-13T16:24:11.366798",
     "exception": false,
     "start_time": "2024-12-13T16:24:10.917855",
     "status": "completed"
    },
    "tags": []
   },
   "outputs": [
    {
     "data": {
      "text/plain": [
       "id                           0\n",
       "Age                      12489\n",
       "Gender                       0\n",
       "Annual Income            29860\n",
       "Marital Status           12336\n",
       "Number of Dependents     73130\n",
       "Education Level              0\n",
       "Occupation              239125\n",
       "Health Score             49449\n",
       "Location                     0\n",
       "Policy Type                  0\n",
       "Previous Claims         242802\n",
       "Vehicle Age                  3\n",
       "Credit Score             91451\n",
       "Insurance Duration           2\n",
       "Policy Start Date            0\n",
       "Customer Feedback        52276\n",
       "Smoking Status               0\n",
       "Exercise Frequency           0\n",
       "Property Type                0\n",
       "dtype: int64"
      ]
     },
     "execution_count": 13,
     "metadata": {},
     "output_type": "execute_result"
    }
   ],
   "source": [
    "test_data.isnull().sum()"
   ]
  },
  {
   "cell_type": "code",
   "execution_count": 14,
   "id": "f970dca1",
   "metadata": {
    "execution": {
     "iopub.execute_input": "2024-12-13T16:24:11.396790Z",
     "iopub.status.busy": "2024-12-13T16:24:11.396257Z",
     "iopub.status.idle": "2024-12-13T16:24:12.091526Z",
     "shell.execute_reply": "2024-12-13T16:24:12.090335Z"
    },
    "papermill": {
     "duration": 0.713126,
     "end_time": "2024-12-13T16:24:12.094190",
     "exception": false,
     "start_time": "2024-12-13T16:24:11.381064",
     "status": "completed"
    },
    "tags": []
   },
   "outputs": [],
   "source": [
    "test_data['Marital Status'] = test_data['Marital Status'].str.strip().str.lower()\n",
    "train_data['Marital Status'] = train_data['Marital Status'].str.strip().str.lower()"
   ]
  },
  {
   "cell_type": "code",
   "execution_count": 15,
   "id": "2725e826",
   "metadata": {
    "execution": {
     "iopub.execute_input": "2024-12-13T16:24:12.123218Z",
     "iopub.status.busy": "2024-12-13T16:24:12.122814Z",
     "iopub.status.idle": "2024-12-13T16:24:12.424004Z",
     "shell.execute_reply": "2024-12-13T16:24:12.422983Z"
    },
    "papermill": {
     "duration": 0.318731,
     "end_time": "2024-12-13T16:24:12.426562",
     "exception": false,
     "start_time": "2024-12-13T16:24:12.107831",
     "status": "completed"
    },
    "tags": []
   },
   "outputs": [],
   "source": [
    "train_data.loc[(train_data['Education Level'] == 'High School') & (train_data['Occupation'].isna()), 'Occupation'] = 'Unemployed'\n",
    "test_data.loc[(test_data['Education Level'] == 'High School') & (test_data['Occupation'].isna()), 'Occupation'] = 'Unemployed'"
   ]
  },
  {
   "cell_type": "code",
   "execution_count": 16,
   "id": "3eec8b70",
   "metadata": {
    "execution": {
     "iopub.execute_input": "2024-12-13T16:24:12.456350Z",
     "iopub.status.busy": "2024-12-13T16:24:12.455259Z",
     "iopub.status.idle": "2024-12-13T16:24:12.579513Z",
     "shell.execute_reply": "2024-12-13T16:24:12.578201Z"
    },
    "papermill": {
     "duration": 0.141938,
     "end_time": "2024-12-13T16:24:12.582210",
     "exception": false,
     "start_time": "2024-12-13T16:24:12.440272",
     "status": "completed"
    },
    "tags": []
   },
   "outputs": [],
   "source": [
    "train_data.loc[((train_data['Age'] > 50) | (train_data['Age'] < 21)) & train_data['Occupation'].isna(), 'Occupation'] = 'Unemployed'\n",
    "test_data.loc[((test_data['Age'] > 50) | (test_data['Age'] < 21)) & test_data['Occupation'].isna(), 'Occupation'] = 'Unemployed'"
   ]
  },
  {
   "cell_type": "code",
   "execution_count": 17,
   "id": "f1ee4ed5",
   "metadata": {
    "execution": {
     "iopub.execute_input": "2024-12-13T16:24:12.611665Z",
     "iopub.status.busy": "2024-12-13T16:24:12.611246Z",
     "iopub.status.idle": "2024-12-13T16:24:12.751706Z",
     "shell.execute_reply": "2024-12-13T16:24:12.750600Z"
    },
    "papermill": {
     "duration": 0.157931,
     "end_time": "2024-12-13T16:24:12.754134",
     "exception": false,
     "start_time": "2024-12-13T16:24:12.596203",
     "status": "completed"
    },
    "tags": []
   },
   "outputs": [],
   "source": [
    "train_data['Occupation'] = train_data['Occupation'].fillna('Unemployed')\n",
    "test_data['Occupation'] = test_data['Occupation'].fillna('Unemployed')"
   ]
  },
  {
   "cell_type": "code",
   "execution_count": 18,
   "id": "19f89b6f",
   "metadata": {
    "execution": {
     "iopub.execute_input": "2024-12-13T16:24:12.784641Z",
     "iopub.status.busy": "2024-12-13T16:24:12.783402Z",
     "iopub.status.idle": "2024-12-13T16:24:12.970018Z",
     "shell.execute_reply": "2024-12-13T16:24:12.968532Z"
    },
    "papermill": {
     "duration": 0.204517,
     "end_time": "2024-12-13T16:24:12.972557",
     "exception": false,
     "start_time": "2024-12-13T16:24:12.768040",
     "status": "completed"
    },
    "tags": []
   },
   "outputs": [],
   "source": [
    "train_data.loc[(train_data['Previous Claims'].isnull()) & (train_data['Occupation'] == 'Unemployed'), 'Previous Claims'] = 0.0\n",
    "test_data.loc[(test_data['Previous Claims'].isnull()) & (test_data['Occupation'] == 'Unemployed'), 'Previous Claims'] = 0.0"
   ]
  },
  {
   "cell_type": "code",
   "execution_count": 19,
   "id": "dfc61266",
   "metadata": {
    "execution": {
     "iopub.execute_input": "2024-12-13T16:24:13.003474Z",
     "iopub.status.busy": "2024-12-13T16:24:13.003025Z",
     "iopub.status.idle": "2024-12-13T16:24:13.021396Z",
     "shell.execute_reply": "2024-12-13T16:24:13.020145Z"
    },
    "papermill": {
     "duration": 0.036531,
     "end_time": "2024-12-13T16:24:13.024273",
     "exception": false,
     "start_time": "2024-12-13T16:24:12.987742",
     "status": "completed"
    },
    "tags": []
   },
   "outputs": [],
   "source": [
    "train_data.loc[(train_data['Previous Claims'].isnull()) & (train_data['Annual Income'] > 50000), 'Previous Claims'] = 0.0\n",
    "test_data.loc[(test_data['Previous Claims'].isnull()) & (test_data['Annual Income'] > 50000), 'Previous Claims'] = 0.0"
   ]
  },
  {
   "cell_type": "code",
   "execution_count": 20,
   "id": "fcaf0513",
   "metadata": {
    "execution": {
     "iopub.execute_input": "2024-12-13T16:24:13.054065Z",
     "iopub.status.busy": "2024-12-13T16:24:13.053622Z",
     "iopub.status.idle": "2024-12-13T16:24:13.225643Z",
     "shell.execute_reply": "2024-12-13T16:24:13.224487Z"
    },
    "papermill": {
     "duration": 0.190012,
     "end_time": "2024-12-13T16:24:13.228309",
     "exception": false,
     "start_time": "2024-12-13T16:24:13.038297",
     "status": "completed"
    },
    "tags": []
   },
   "outputs": [],
   "source": [
    "train_data.loc[(train_data['Previous Claims'].isnull()) & (train_data['Education Level'] ==  'High School'), 'Previous Claims'] = 0.0\n",
    "test_data.loc[(test_data['Previous Claims'].isnull()) & (test_data['Education Level'] ==  'High School'), 'Previous Claims'] = 0.0"
   ]
  },
  {
   "cell_type": "code",
   "execution_count": 21,
   "id": "9b29483b",
   "metadata": {
    "execution": {
     "iopub.execute_input": "2024-12-13T16:24:13.257552Z",
     "iopub.status.busy": "2024-12-13T16:24:13.257120Z",
     "iopub.status.idle": "2024-12-13T16:24:13.275761Z",
     "shell.execute_reply": "2024-12-13T16:24:13.274472Z"
    },
    "papermill": {
     "duration": 0.036356,
     "end_time": "2024-12-13T16:24:13.278344",
     "exception": false,
     "start_time": "2024-12-13T16:24:13.241988",
     "status": "completed"
    },
    "tags": []
   },
   "outputs": [],
   "source": [
    "train_data['Previous Claims'] = train_data['Previous Claims'].fillna(np.random.randint(0.0, 9.0))\n",
    "test_data['Previous Claims'] = test_data['Previous Claims'].fillna(np.random.randint(0.0, 9.0))"
   ]
  },
  {
   "cell_type": "code",
   "execution_count": 22,
   "id": "64f84263",
   "metadata": {
    "execution": {
     "iopub.execute_input": "2024-12-13T16:24:13.307469Z",
     "iopub.status.busy": "2024-12-13T16:24:13.307057Z",
     "iopub.status.idle": "2024-12-13T16:24:13.481769Z",
     "shell.execute_reply": "2024-12-13T16:24:13.480547Z"
    },
    "papermill": {
     "duration": 0.192484,
     "end_time": "2024-12-13T16:24:13.484460",
     "exception": false,
     "start_time": "2024-12-13T16:24:13.291976",
     "status": "completed"
    },
    "tags": []
   },
   "outputs": [],
   "source": [
    "train_data.loc[(train_data['Number of Dependents'].isnull()) & (train_data['Marital Status'] == 'Single'),'Number of Dependents']= 0.0\n",
    "test_data.loc[(test_data['Number of Dependents'].isnull()) & (test_data['Marital Status'] == 'Single'),'Number of Dependents']= 0.0"
   ]
  },
  {
   "cell_type": "code",
   "execution_count": 23,
   "id": "460c9c83",
   "metadata": {
    "execution": {
     "iopub.execute_input": "2024-12-13T16:24:13.513824Z",
     "iopub.status.busy": "2024-12-13T16:24:13.513406Z",
     "iopub.status.idle": "2024-12-13T16:24:15.385917Z",
     "shell.execute_reply": "2024-12-13T16:24:15.384641Z"
    },
    "papermill": {
     "duration": 1.890294,
     "end_time": "2024-12-13T16:24:15.388602",
     "exception": false,
     "start_time": "2024-12-13T16:24:13.498308",
     "status": "completed"
    },
    "tags": []
   },
   "outputs": [],
   "source": [
    "train_data['Number of Dependents'] = train_data['Number of Dependents'].apply(lambda x: np.random.uniform(0.0, 5.0) if pd.isna(x) else x\n",
    ")\n",
    "\n",
    "test_data['Number of Dependents'] = test_data['Number of Dependents'].apply(lambda x: np.random.uniform(0.0, 5.0) if pd.isna(x) else x\n",
    ")"
   ]
  },
  {
   "cell_type": "code",
   "execution_count": 24,
   "id": "973f77a0",
   "metadata": {
    "execution": {
     "iopub.execute_input": "2024-12-13T16:24:15.417789Z",
     "iopub.status.busy": "2024-12-13T16:24:15.417391Z",
     "iopub.status.idle": "2024-12-13T16:24:15.445934Z",
     "shell.execute_reply": "2024-12-13T16:24:15.444814Z"
    },
    "papermill": {
     "duration": 0.046178,
     "end_time": "2024-12-13T16:24:15.448571",
     "exception": false,
     "start_time": "2024-12-13T16:24:15.402393",
     "status": "completed"
    },
    "tags": []
   },
   "outputs": [],
   "source": [
    "train_data['Annual Income'] = train_data['Annual Income'].fillna(np.mean(train_data['Annual Income']))\n",
    "\n",
    "test_data['Annual Income'] = test_data['Annual Income'].fillna(np.mean(test_data['Annual Income']))"
   ]
  },
  {
   "cell_type": "code",
   "execution_count": 25,
   "id": "70416c97",
   "metadata": {
    "execution": {
     "iopub.execute_input": "2024-12-13T16:24:15.478094Z",
     "iopub.status.busy": "2024-12-13T16:24:15.477686Z",
     "iopub.status.idle": "2024-12-13T16:24:15.483439Z",
     "shell.execute_reply": "2024-12-13T16:24:15.482171Z"
    },
    "papermill": {
     "duration": 0.023777,
     "end_time": "2024-12-13T16:24:15.486236",
     "exception": false,
     "start_time": "2024-12-13T16:24:15.462459",
     "status": "completed"
    },
    "tags": []
   },
   "outputs": [],
   "source": [
    "total_feedback = 377905 + 375518 + 368753\n",
    "\n",
    "probabilities = {\n",
    "    'Average': 377905 / total_feedback,\n",
    "    'Poor': 375518 / total_feedback,\n",
    "    'Good': 368753 / total_feedback\n",
    "}"
   ]
  },
  {
   "cell_type": "code",
   "execution_count": 26,
   "id": "f0058704",
   "metadata": {
    "execution": {
     "iopub.execute_input": "2024-12-13T16:24:15.515725Z",
     "iopub.status.busy": "2024-12-13T16:24:15.515278Z",
     "iopub.status.idle": "2024-12-13T16:24:17.822134Z",
     "shell.execute_reply": "2024-12-13T16:24:17.820876Z"
    },
    "papermill": {
     "duration": 2.32468,
     "end_time": "2024-12-13T16:24:17.824756",
     "exception": false,
     "start_time": "2024-12-13T16:24:15.500076",
     "status": "completed"
    },
    "tags": []
   },
   "outputs": [],
   "source": [
    "train_data['Customer Feedback'] = train_data['Customer Feedback'].apply(\n",
    "    lambda x: np.random.choice(['Average', 'Poor', 'Good'], p=[probabilities['Average'], probabilities['Poor'], probabilities['Good']]) \n",
    "    if pd.isna(x) else x\n",
    ")"
   ]
  },
  {
   "cell_type": "code",
   "execution_count": 27,
   "id": "d5a48884",
   "metadata": {
    "execution": {
     "iopub.execute_input": "2024-12-13T16:24:17.853519Z",
     "iopub.status.busy": "2024-12-13T16:24:17.853105Z",
     "iopub.status.idle": "2024-12-13T16:24:17.858743Z",
     "shell.execute_reply": "2024-12-13T16:24:17.857622Z"
    },
    "papermill": {
     "duration": 0.02308,
     "end_time": "2024-12-13T16:24:17.861247",
     "exception": false,
     "start_time": "2024-12-13T16:24:17.838167",
     "status": "completed"
    },
    "tags": []
   },
   "outputs": [],
   "source": [
    "feedback_count = 251217 + 250434 + 246073\n",
    "prop = probabilities = {\n",
    "    'Average': 251217 / feedback_count,\n",
    "    'Poor': 250434 / feedback_count,\n",
    "    'Good': 246073 / feedback_count\n",
    "}"
   ]
  },
  {
   "cell_type": "code",
   "execution_count": 28,
   "id": "bbd4de04",
   "metadata": {
    "execution": {
     "iopub.execute_input": "2024-12-13T16:24:17.890536Z",
     "iopub.status.busy": "2024-12-13T16:24:17.890130Z",
     "iopub.status.idle": "2024-12-13T16:24:19.487143Z",
     "shell.execute_reply": "2024-12-13T16:24:19.485788Z"
    },
    "papermill": {
     "duration": 1.614588,
     "end_time": "2024-12-13T16:24:19.489598",
     "exception": false,
     "start_time": "2024-12-13T16:24:17.875010",
     "status": "completed"
    },
    "tags": []
   },
   "outputs": [],
   "source": [
    "test_data['Customer Feedback'] = test_data['Customer Feedback'].apply(\n",
    "    lambda x: np.random.choice(['Average', 'Poor', 'Good'], p=[probabilities['Average'], probabilities['Poor'], probabilities['Good']]) \n",
    "    if pd.isna(x) else x\n",
    ")"
   ]
  },
  {
   "cell_type": "code",
   "execution_count": 29,
   "id": "53bc8813",
   "metadata": {
    "execution": {
     "iopub.execute_input": "2024-12-13T16:24:19.519013Z",
     "iopub.status.busy": "2024-12-13T16:24:19.518620Z",
     "iopub.status.idle": "2024-12-13T16:24:19.552601Z",
     "shell.execute_reply": "2024-12-13T16:24:19.551562Z"
    },
    "papermill": {
     "duration": 0.052014,
     "end_time": "2024-12-13T16:24:19.555337",
     "exception": false,
     "start_time": "2024-12-13T16:24:19.503323",
     "status": "completed"
    },
    "tags": []
   },
   "outputs": [],
   "source": [
    "train_data['Credit Score'] = train_data['Credit Score'].fillna(train_data['Credit Score'].mean()) \n",
    "\n",
    "test_data['Credit Score'] = test_data['Credit Score'].fillna(test_data['Credit Score'].mean()) "
   ]
  },
  {
   "cell_type": "code",
   "execution_count": 30,
   "id": "45517bc1",
   "metadata": {
    "execution": {
     "iopub.execute_input": "2024-12-13T16:24:19.584411Z",
     "iopub.status.busy": "2024-12-13T16:24:19.584007Z",
     "iopub.status.idle": "2024-12-13T16:24:20.646509Z",
     "shell.execute_reply": "2024-12-13T16:24:20.645410Z"
    },
    "papermill": {
     "duration": 1.079935,
     "end_time": "2024-12-13T16:24:20.649002",
     "exception": false,
     "start_time": "2024-12-13T16:24:19.569067",
     "status": "completed"
    },
    "tags": []
   },
   "outputs": [],
   "source": [
    "min_val = train_data['Health Score'].min()\n",
    "max_val = train_data['Health Score'].max()\n",
    "train_data['Health Score'] = train_data['Health Score'].apply(lambda x: np.random.uniform(min_val, max_val) if pd.isnull(x) else x)"
   ]
  },
  {
   "cell_type": "code",
   "execution_count": 31,
   "id": "aa638077",
   "metadata": {
    "execution": {
     "iopub.execute_input": "2024-12-13T16:24:20.678132Z",
     "iopub.status.busy": "2024-12-13T16:24:20.677764Z",
     "iopub.status.idle": "2024-12-13T16:24:21.371118Z",
     "shell.execute_reply": "2024-12-13T16:24:21.369807Z"
    },
    "papermill": {
     "duration": 0.710987,
     "end_time": "2024-12-13T16:24:21.373756",
     "exception": false,
     "start_time": "2024-12-13T16:24:20.662769",
     "status": "completed"
    },
    "tags": []
   },
   "outputs": [],
   "source": [
    "min_val_test = test_data['Health Score'].min()\n",
    "max_val_test = test_data['Health Score'].max()\n",
    "test_data['Health Score'] = test_data['Health Score'].apply(lambda x: np.random.uniform(min_val_test, max_val_test) if pd.isnull(x) else x)"
   ]
  },
  {
   "cell_type": "code",
   "execution_count": 32,
   "id": "0dae61f1",
   "metadata": {
    "execution": {
     "iopub.execute_input": "2024-12-13T16:24:21.402942Z",
     "iopub.status.busy": "2024-12-13T16:24:21.402436Z",
     "iopub.status.idle": "2024-12-13T16:24:22.910384Z",
     "shell.execute_reply": "2024-12-13T16:24:22.909388Z"
    },
    "papermill": {
     "duration": 1.525447,
     "end_time": "2024-12-13T16:24:22.912918",
     "exception": false,
     "start_time": "2024-12-13T16:24:21.387471",
     "status": "completed"
    },
    "tags": []
   },
   "outputs": [],
   "source": [
    " train_data['Age'] = train_data['Age'].apply(lambda x: np.random.uniform(18.0, 64.0) if pd.isnull(x) else x)\n",
    "\n",
    " test_data['Age'] = test_data['Age'].apply(lambda x: np.random.uniform(18.0, 64.0) if pd.isnull(x) else x)"
   ]
  },
  {
   "cell_type": "code",
   "execution_count": 33,
   "id": "60129791",
   "metadata": {
    "execution": {
     "iopub.execute_input": "2024-12-13T16:24:22.944201Z",
     "iopub.status.busy": "2024-12-13T16:24:22.943758Z",
     "iopub.status.idle": "2024-12-13T16:24:23.074462Z",
     "shell.execute_reply": "2024-12-13T16:24:23.073332Z"
    },
    "papermill": {
     "duration": 0.149314,
     "end_time": "2024-12-13T16:24:23.076634",
     "exception": false,
     "start_time": "2024-12-13T16:24:22.927320",
     "status": "completed"
    },
    "tags": []
   },
   "outputs": [
    {
     "data": {
      "text/plain": [
       "Marital Status\n",
       "single      395391\n",
       "married     394316\n",
       "divorced    391764\n",
       "Name: count, dtype: int64"
      ]
     },
     "execution_count": 33,
     "metadata": {},
     "output_type": "execute_result"
    }
   ],
   "source": [
    "train_data['Marital Status'].value_counts()"
   ]
  },
  {
   "cell_type": "code",
   "execution_count": 34,
   "id": "c47b83ff",
   "metadata": {
    "execution": {
     "iopub.execute_input": "2024-12-13T16:24:23.105830Z",
     "iopub.status.busy": "2024-12-13T16:24:23.105409Z",
     "iopub.status.idle": "2024-12-13T16:24:23.208935Z",
     "shell.execute_reply": "2024-12-13T16:24:23.207823Z"
    },
    "papermill": {
     "duration": 0.121127,
     "end_time": "2024-12-13T16:24:23.211389",
     "exception": false,
     "start_time": "2024-12-13T16:24:23.090262",
     "status": "completed"
    },
    "tags": []
   },
   "outputs": [
    {
     "data": {
      "text/plain": [
       "'single'"
      ]
     },
     "execution_count": 34,
     "metadata": {},
     "output_type": "execute_result"
    }
   ],
   "source": [
    "train_data['Marital Status'].mode()[0]"
   ]
  },
  {
   "cell_type": "code",
   "execution_count": 35,
   "id": "5c47a662",
   "metadata": {
    "execution": {
     "iopub.execute_input": "2024-12-13T16:24:23.241044Z",
     "iopub.status.busy": "2024-12-13T16:24:23.240672Z",
     "iopub.status.idle": "2024-12-13T16:24:23.619504Z",
     "shell.execute_reply": "2024-12-13T16:24:23.618385Z"
    },
    "papermill": {
     "duration": 0.397064,
     "end_time": "2024-12-13T16:24:23.622391",
     "exception": false,
     "start_time": "2024-12-13T16:24:23.225327",
     "status": "completed"
    },
    "tags": []
   },
   "outputs": [],
   "source": [
    "train_data['Marital Status'] = train_data['Marital Status'].fillna(train_data['Marital Status'].mode()[0])\n",
    "\n",
    "test_data['Marital Status'] = test_data['Marital Status'].fillna(test_data['Marital Status'].mode()[0])"
   ]
  },
  {
   "cell_type": "code",
   "execution_count": 36,
   "id": "2cc8144a",
   "metadata": {
    "execution": {
     "iopub.execute_input": "2024-12-13T16:24:23.652512Z",
     "iopub.status.busy": "2024-12-13T16:24:23.652053Z",
     "iopub.status.idle": "2024-12-13T16:24:23.668402Z",
     "shell.execute_reply": "2024-12-13T16:24:23.667329Z"
    },
    "papermill": {
     "duration": 0.034377,
     "end_time": "2024-12-13T16:24:23.670985",
     "exception": false,
     "start_time": "2024-12-13T16:24:23.636608",
     "status": "completed"
    },
    "tags": []
   },
   "outputs": [],
   "source": [
    " train_data['Insurance Duration'] = train_data['Insurance Duration'].fillna(0)\n",
    "test_data['Insurance Duration'] = test_data['Insurance Duration'].fillna(0)"
   ]
  },
  {
   "cell_type": "code",
   "execution_count": 37,
   "id": "67d945d9",
   "metadata": {
    "execution": {
     "iopub.execute_input": "2024-12-13T16:24:23.700541Z",
     "iopub.status.busy": "2024-12-13T16:24:23.700142Z",
     "iopub.status.idle": "2024-12-13T16:24:24.264946Z",
     "shell.execute_reply": "2024-12-13T16:24:24.263838Z"
    },
    "papermill": {
     "duration": 0.582451,
     "end_time": "2024-12-13T16:24:24.267478",
     "exception": false,
     "start_time": "2024-12-13T16:24:23.685027",
     "status": "completed"
    },
    "tags": []
   },
   "outputs": [],
   "source": [
    " test_data['Vehicle Age'] = test_data['Vehicle Age'].apply(lambda x: np.random.uniform(0.0, 11.0) if pd.isnull(x) else x)"
   ]
  },
  {
   "cell_type": "code",
   "execution_count": 38,
   "id": "c2fc50b8",
   "metadata": {
    "execution": {
     "iopub.execute_input": "2024-12-13T16:24:24.296703Z",
     "iopub.status.busy": "2024-12-13T16:24:24.296283Z",
     "iopub.status.idle": "2024-12-13T16:24:24.328920Z",
     "shell.execute_reply": "2024-12-13T16:24:24.327665Z"
    },
    "papermill": {
     "duration": 0.050115,
     "end_time": "2024-12-13T16:24:24.331413",
     "exception": false,
     "start_time": "2024-12-13T16:24:24.281298",
     "status": "completed"
    },
    "tags": []
   },
   "outputs": [
    {
     "data": {
      "text/html": [
       "<div>\n",
       "<style scoped>\n",
       "    .dataframe tbody tr th:only-of-type {\n",
       "        vertical-align: middle;\n",
       "    }\n",
       "\n",
       "    .dataframe tbody tr th {\n",
       "        vertical-align: top;\n",
       "    }\n",
       "\n",
       "    .dataframe thead th {\n",
       "        text-align: right;\n",
       "    }\n",
       "</style>\n",
       "<table border=\"1\" class=\"dataframe\">\n",
       "  <thead>\n",
       "    <tr style=\"text-align: right;\">\n",
       "      <th></th>\n",
       "      <th>id</th>\n",
       "      <th>Age</th>\n",
       "      <th>Gender</th>\n",
       "      <th>Annual Income</th>\n",
       "      <th>Marital Status</th>\n",
       "      <th>Number of Dependents</th>\n",
       "      <th>Education Level</th>\n",
       "      <th>Occupation</th>\n",
       "      <th>Health Score</th>\n",
       "      <th>Location</th>\n",
       "      <th>...</th>\n",
       "      <th>Previous Claims</th>\n",
       "      <th>Vehicle Age</th>\n",
       "      <th>Credit Score</th>\n",
       "      <th>Insurance Duration</th>\n",
       "      <th>Policy Start Date</th>\n",
       "      <th>Customer Feedback</th>\n",
       "      <th>Smoking Status</th>\n",
       "      <th>Exercise Frequency</th>\n",
       "      <th>Property Type</th>\n",
       "      <th>Premium Amount</th>\n",
       "    </tr>\n",
       "  </thead>\n",
       "  <tbody>\n",
       "    <tr>\n",
       "      <th>0</th>\n",
       "      <td>0</td>\n",
       "      <td>19.0</td>\n",
       "      <td>Female</td>\n",
       "      <td>10049.0</td>\n",
       "      <td>married</td>\n",
       "      <td>1.0</td>\n",
       "      <td>Bachelor's</td>\n",
       "      <td>Self-Employed</td>\n",
       "      <td>22.598761</td>\n",
       "      <td>Urban</td>\n",
       "      <td>...</td>\n",
       "      <td>2.0</td>\n",
       "      <td>17.0</td>\n",
       "      <td>372.00000</td>\n",
       "      <td>5.0</td>\n",
       "      <td>2023-12-23 15:21:39.134960</td>\n",
       "      <td>Poor</td>\n",
       "      <td>No</td>\n",
       "      <td>Weekly</td>\n",
       "      <td>House</td>\n",
       "      <td>2869.0</td>\n",
       "    </tr>\n",
       "    <tr>\n",
       "      <th>1</th>\n",
       "      <td>1</td>\n",
       "      <td>39.0</td>\n",
       "      <td>Female</td>\n",
       "      <td>31678.0</td>\n",
       "      <td>divorced</td>\n",
       "      <td>3.0</td>\n",
       "      <td>Master's</td>\n",
       "      <td>Unemployed</td>\n",
       "      <td>15.569731</td>\n",
       "      <td>Rural</td>\n",
       "      <td>...</td>\n",
       "      <td>1.0</td>\n",
       "      <td>12.0</td>\n",
       "      <td>694.00000</td>\n",
       "      <td>2.0</td>\n",
       "      <td>2023-06-12 15:21:39.111551</td>\n",
       "      <td>Average</td>\n",
       "      <td>Yes</td>\n",
       "      <td>Monthly</td>\n",
       "      <td>House</td>\n",
       "      <td>1483.0</td>\n",
       "    </tr>\n",
       "    <tr>\n",
       "      <th>2</th>\n",
       "      <td>2</td>\n",
       "      <td>23.0</td>\n",
       "      <td>Male</td>\n",
       "      <td>25602.0</td>\n",
       "      <td>divorced</td>\n",
       "      <td>3.0</td>\n",
       "      <td>High School</td>\n",
       "      <td>Self-Employed</td>\n",
       "      <td>47.177549</td>\n",
       "      <td>Suburban</td>\n",
       "      <td>...</td>\n",
       "      <td>1.0</td>\n",
       "      <td>14.0</td>\n",
       "      <td>592.92435</td>\n",
       "      <td>3.0</td>\n",
       "      <td>2023-09-30 15:21:39.221386</td>\n",
       "      <td>Good</td>\n",
       "      <td>Yes</td>\n",
       "      <td>Weekly</td>\n",
       "      <td>House</td>\n",
       "      <td>567.0</td>\n",
       "    </tr>\n",
       "    <tr>\n",
       "      <th>3</th>\n",
       "      <td>3</td>\n",
       "      <td>21.0</td>\n",
       "      <td>Male</td>\n",
       "      <td>141855.0</td>\n",
       "      <td>married</td>\n",
       "      <td>2.0</td>\n",
       "      <td>Bachelor's</td>\n",
       "      <td>Unemployed</td>\n",
       "      <td>10.938144</td>\n",
       "      <td>Rural</td>\n",
       "      <td>...</td>\n",
       "      <td>1.0</td>\n",
       "      <td>0.0</td>\n",
       "      <td>367.00000</td>\n",
       "      <td>1.0</td>\n",
       "      <td>2024-06-12 15:21:39.226954</td>\n",
       "      <td>Poor</td>\n",
       "      <td>Yes</td>\n",
       "      <td>Daily</td>\n",
       "      <td>Apartment</td>\n",
       "      <td>765.0</td>\n",
       "    </tr>\n",
       "    <tr>\n",
       "      <th>4</th>\n",
       "      <td>4</td>\n",
       "      <td>21.0</td>\n",
       "      <td>Male</td>\n",
       "      <td>39651.0</td>\n",
       "      <td>single</td>\n",
       "      <td>1.0</td>\n",
       "      <td>Bachelor's</td>\n",
       "      <td>Self-Employed</td>\n",
       "      <td>20.376094</td>\n",
       "      <td>Rural</td>\n",
       "      <td>...</td>\n",
       "      <td>0.0</td>\n",
       "      <td>8.0</td>\n",
       "      <td>598.00000</td>\n",
       "      <td>4.0</td>\n",
       "      <td>2021-12-01 15:21:39.252145</td>\n",
       "      <td>Poor</td>\n",
       "      <td>Yes</td>\n",
       "      <td>Weekly</td>\n",
       "      <td>House</td>\n",
       "      <td>2022.0</td>\n",
       "    </tr>\n",
       "  </tbody>\n",
       "</table>\n",
       "<p>5 rows × 21 columns</p>\n",
       "</div>"
      ],
      "text/plain": [
       "   id   Age  Gender  Annual Income Marital Status  Number of Dependents  \\\n",
       "0   0  19.0  Female        10049.0        married                   1.0   \n",
       "1   1  39.0  Female        31678.0       divorced                   3.0   \n",
       "2   2  23.0    Male        25602.0       divorced                   3.0   \n",
       "3   3  21.0    Male       141855.0        married                   2.0   \n",
       "4   4  21.0    Male        39651.0         single                   1.0   \n",
       "\n",
       "  Education Level     Occupation  Health Score  Location  ... Previous Claims  \\\n",
       "0      Bachelor's  Self-Employed     22.598761     Urban  ...             2.0   \n",
       "1        Master's     Unemployed     15.569731     Rural  ...             1.0   \n",
       "2     High School  Self-Employed     47.177549  Suburban  ...             1.0   \n",
       "3      Bachelor's     Unemployed     10.938144     Rural  ...             1.0   \n",
       "4      Bachelor's  Self-Employed     20.376094     Rural  ...             0.0   \n",
       "\n",
       "   Vehicle Age  Credit Score  Insurance Duration           Policy Start Date  \\\n",
       "0         17.0     372.00000                 5.0  2023-12-23 15:21:39.134960   \n",
       "1         12.0     694.00000                 2.0  2023-06-12 15:21:39.111551   \n",
       "2         14.0     592.92435                 3.0  2023-09-30 15:21:39.221386   \n",
       "3          0.0     367.00000                 1.0  2024-06-12 15:21:39.226954   \n",
       "4          8.0     598.00000                 4.0  2021-12-01 15:21:39.252145   \n",
       "\n",
       "  Customer Feedback Smoking Status Exercise Frequency Property Type  \\\n",
       "0              Poor             No             Weekly         House   \n",
       "1           Average            Yes            Monthly         House   \n",
       "2              Good            Yes             Weekly         House   \n",
       "3              Poor            Yes              Daily     Apartment   \n",
       "4              Poor            Yes             Weekly         House   \n",
       "\n",
       "  Premium Amount  \n",
       "0         2869.0  \n",
       "1         1483.0  \n",
       "2          567.0  \n",
       "3          765.0  \n",
       "4         2022.0  \n",
       "\n",
       "[5 rows x 21 columns]"
      ]
     },
     "execution_count": 38,
     "metadata": {},
     "output_type": "execute_result"
    }
   ],
   "source": [
    "train_data.head()"
   ]
  },
  {
   "cell_type": "code",
   "execution_count": 39,
   "id": "5530ae73",
   "metadata": {
    "execution": {
     "iopub.execute_input": "2024-12-13T16:24:24.362444Z",
     "iopub.status.busy": "2024-12-13T16:24:24.361969Z",
     "iopub.status.idle": "2024-12-13T16:24:25.080478Z",
     "shell.execute_reply": "2024-12-13T16:24:25.079217Z"
    },
    "papermill": {
     "duration": 0.737228,
     "end_time": "2024-12-13T16:24:25.083281",
     "exception": false,
     "start_time": "2024-12-13T16:24:24.346053",
     "status": "completed"
    },
    "tags": []
   },
   "outputs": [],
   "source": [
    "train_data['Policy Start Date'] = pd.to_datetime(train_data['Policy Start Date'])\n",
    "train_data['date'] = train_data['Policy Start Date'].dt.date\n"
   ]
  },
  {
   "cell_type": "code",
   "execution_count": 40,
   "id": "c4d544b3",
   "metadata": {
    "execution": {
     "iopub.execute_input": "2024-12-13T16:24:25.114465Z",
     "iopub.status.busy": "2024-12-13T16:24:25.113984Z",
     "iopub.status.idle": "2024-12-13T16:24:25.355478Z",
     "shell.execute_reply": "2024-12-13T16:24:25.354294Z"
    },
    "papermill": {
     "duration": 0.259879,
     "end_time": "2024-12-13T16:24:25.357904",
     "exception": false,
     "start_time": "2024-12-13T16:24:25.098025",
     "status": "completed"
    },
    "tags": []
   },
   "outputs": [],
   "source": [
    "train_data = train_data.drop(\"Policy Start Date\", axis = 1)"
   ]
  },
  {
   "cell_type": "code",
   "execution_count": 41,
   "id": "cba9564e",
   "metadata": {
    "execution": {
     "iopub.execute_input": "2024-12-13T16:24:25.390907Z",
     "iopub.status.busy": "2024-12-13T16:24:25.390490Z",
     "iopub.status.idle": "2024-12-13T16:24:25.873224Z",
     "shell.execute_reply": "2024-12-13T16:24:25.872049Z"
    },
    "papermill": {
     "duration": 0.503265,
     "end_time": "2024-12-13T16:24:25.875791",
     "exception": false,
     "start_time": "2024-12-13T16:24:25.372526",
     "status": "completed"
    },
    "tags": []
   },
   "outputs": [],
   "source": [
    "test_data['Policy Start Date'] = pd.to_datetime(test_data['Policy Start Date'])\n",
    "test_data['date'] = test_data['Policy Start Date'].dt.date\n"
   ]
  },
  {
   "cell_type": "code",
   "execution_count": 42,
   "id": "c4043571",
   "metadata": {
    "execution": {
     "iopub.execute_input": "2024-12-13T16:24:25.907127Z",
     "iopub.status.busy": "2024-12-13T16:24:25.906656Z",
     "iopub.status.idle": "2024-12-13T16:24:26.112705Z",
     "shell.execute_reply": "2024-12-13T16:24:26.111385Z"
    },
    "papermill": {
     "duration": 0.225447,
     "end_time": "2024-12-13T16:24:26.115862",
     "exception": false,
     "start_time": "2024-12-13T16:24:25.890415",
     "status": "completed"
    },
    "tags": []
   },
   "outputs": [],
   "source": [
    "test_data = test_data.drop(\"Policy Start Date\", axis = 1)"
   ]
  },
  {
   "cell_type": "code",
   "execution_count": 43,
   "id": "e9c5c58c",
   "metadata": {
    "execution": {
     "iopub.execute_input": "2024-12-13T16:24:26.146883Z",
     "iopub.status.busy": "2024-12-13T16:24:26.146511Z",
     "iopub.status.idle": "2024-12-13T16:24:27.536440Z",
     "shell.execute_reply": "2024-12-13T16:24:27.535407Z"
    },
    "papermill": {
     "duration": 1.408451,
     "end_time": "2024-12-13T16:24:27.538935",
     "exception": false,
     "start_time": "2024-12-13T16:24:26.130484",
     "status": "completed"
    },
    "tags": []
   },
   "outputs": [
    {
     "name": "stderr",
     "output_type": "stream",
     "text": [
      "/tmp/ipykernel_17/3765079498.py:1: FutureWarning: Downcasting behavior in `replace` is deprecated and will be removed in a future version. To retain the old behavior, explicitly call `result.infer_objects(copy=False)`. To opt-in to the future behavior, set `pd.set_option('future.no_silent_downcasting', True)`\n",
      "  train_data['Gender'] = train_data['Gender'].replace({\"Female\": 1, \"Male\" : 0})\n",
      "/tmp/ipykernel_17/3765079498.py:2: FutureWarning: Downcasting behavior in `replace` is deprecated and will be removed in a future version. To retain the old behavior, explicitly call `result.infer_objects(copy=False)`. To opt-in to the future behavior, set `pd.set_option('future.no_silent_downcasting', True)`\n",
      "  train_data['Smoking Status'] = train_data['Smoking Status'].replace({\"Yes\" : 1, \"No\": 0})\n",
      "/tmp/ipykernel_17/3765079498.py:3: FutureWarning: Downcasting behavior in `replace` is deprecated and will be removed in a future version. To retain the old behavior, explicitly call `result.infer_objects(copy=False)`. To opt-in to the future behavior, set `pd.set_option('future.no_silent_downcasting', True)`\n",
      "  test_data['Gender'] = test_data['Gender'].replace({\"Female\": 1, \"Male\" : 0})\n",
      "/tmp/ipykernel_17/3765079498.py:4: FutureWarning: Downcasting behavior in `replace` is deprecated and will be removed in a future version. To retain the old behavior, explicitly call `result.infer_objects(copy=False)`. To opt-in to the future behavior, set `pd.set_option('future.no_silent_downcasting', True)`\n",
      "  test_data['Smoking Status'] = test_data['Smoking Status'].replace({\"Yes\" : 1, \"No\": 0})\n"
     ]
    }
   ],
   "source": [
    "train_data['Gender'] = train_data['Gender'].replace({\"Female\": 1, \"Male\" : 0})\n",
    "train_data['Smoking Status'] = train_data['Smoking Status'].replace({\"Yes\" : 1, \"No\": 0})\n",
    "test_data['Gender'] = test_data['Gender'].replace({\"Female\": 1, \"Male\" : 0})\n",
    "test_data['Smoking Status'] = test_data['Smoking Status'].replace({\"Yes\" : 1, \"No\": 0})"
   ]
  },
  {
   "cell_type": "code",
   "execution_count": 44,
   "id": "4b818cd1",
   "metadata": {
    "execution": {
     "iopub.execute_input": "2024-12-13T16:24:27.570072Z",
     "iopub.status.busy": "2024-12-13T16:24:27.569300Z",
     "iopub.status.idle": "2024-12-13T16:24:27.581242Z",
     "shell.execute_reply": "2024-12-13T16:24:27.579926Z"
    },
    "papermill": {
     "duration": 0.030115,
     "end_time": "2024-12-13T16:24:27.583747",
     "exception": false,
     "start_time": "2024-12-13T16:24:27.553632",
     "status": "completed"
    },
    "tags": []
   },
   "outputs": [],
   "source": [
    " train_data['Vehicle Age'] = train_data['Vehicle Age'].fillna(0.0)"
   ]
  },
  {
   "cell_type": "code",
   "execution_count": 45,
   "id": "83993d25",
   "metadata": {
    "execution": {
     "iopub.execute_input": "2024-12-13T16:24:27.614240Z",
     "iopub.status.busy": "2024-12-13T16:24:27.613838Z",
     "iopub.status.idle": "2024-12-13T16:24:30.873586Z",
     "shell.execute_reply": "2024-12-13T16:24:30.872599Z"
    },
    "papermill": {
     "duration": 3.277899,
     "end_time": "2024-12-13T16:24:30.876125",
     "exception": false,
     "start_time": "2024-12-13T16:24:27.598226",
     "status": "completed"
    },
    "tags": []
   },
   "outputs": [],
   "source": [
    "lb = LabelEncoder()\n",
    "cat_cols = []  \n",
    "\n",
    "for col in train_data.columns:\n",
    "    if train_data[col].dtype == 'object':  \n",
    "        cat_cols.append(col)  \n",
    "        train_data[col] = lb.fit_transform(train_data[col])\n",
    "        test_data[col] = lb.transform(test_data[col])"
   ]
  },
  {
   "cell_type": "code",
   "execution_count": 46,
   "id": "3f10f2a2",
   "metadata": {
    "execution": {
     "iopub.execute_input": "2024-12-13T16:24:30.906822Z",
     "iopub.status.busy": "2024-12-13T16:24:30.906429Z",
     "iopub.status.idle": "2024-12-13T16:24:31.214176Z",
     "shell.execute_reply": "2024-12-13T16:24:31.212985Z"
    },
    "papermill": {
     "duration": 0.326065,
     "end_time": "2024-12-13T16:24:31.216738",
     "exception": false,
     "start_time": "2024-12-13T16:24:30.890673",
     "status": "completed"
    },
    "tags": []
   },
   "outputs": [],
   "source": [
    "ip = train_data.copy()\n",
    "ip = ip.drop(\"Premium Amount\", axis = 1)"
   ]
  },
  {
   "cell_type": "code",
   "execution_count": 47,
   "id": "020ded71",
   "metadata": {
    "execution": {
     "iopub.execute_input": "2024-12-13T16:24:31.247246Z",
     "iopub.status.busy": "2024-12-13T16:24:31.246848Z",
     "iopub.status.idle": "2024-12-13T16:24:31.777470Z",
     "shell.execute_reply": "2024-12-13T16:24:31.776250Z"
    },
    "papermill": {
     "duration": 0.548941,
     "end_time": "2024-12-13T16:24:31.780008",
     "exception": false,
     "start_time": "2024-12-13T16:24:31.231067",
     "status": "completed"
    },
    "tags": []
   },
   "outputs": [],
   "source": [
    "sc = MinMaxScaler()\n",
    "  \n",
    "for col in ip.columns:\n",
    "    if ip[col].dtype == 'int' or ip[col].dtype == 'float':  \n",
    "         \n",
    "        ip[col] = sc.fit_transform(ip[[col]])\n",
    "        test_data[col] = sc.transform(test_data[[col]])"
   ]
  },
  {
   "cell_type": "code",
   "execution_count": 48,
   "id": "122b927e",
   "metadata": {
    "execution": {
     "iopub.execute_input": "2024-12-13T16:24:31.810893Z",
     "iopub.status.busy": "2024-12-13T16:24:31.810326Z",
     "iopub.status.idle": "2024-12-13T16:24:32.429384Z",
     "shell.execute_reply": "2024-12-13T16:24:32.428144Z"
    },
    "papermill": {
     "duration": 0.637556,
     "end_time": "2024-12-13T16:24:32.432023",
     "exception": false,
     "start_time": "2024-12-13T16:24:31.794467",
     "status": "completed"
    },
    "tags": []
   },
   "outputs": [],
   "source": [
    "X_train, X_test, Y_train, Y_test = train_test_split(ip, train_data['Premium Amount'], test_size = 0.2, random_state = 45)"
   ]
  },
  {
   "cell_type": "code",
   "execution_count": 49,
   "id": "da4114f2",
   "metadata": {
    "execution": {
     "iopub.execute_input": "2024-12-13T16:24:32.463071Z",
     "iopub.status.busy": "2024-12-13T16:24:32.462657Z",
     "iopub.status.idle": "2024-12-13T16:24:32.468653Z",
     "shell.execute_reply": "2024-12-13T16:24:32.467457Z"
    },
    "papermill": {
     "duration": 0.024774,
     "end_time": "2024-12-13T16:24:32.471207",
     "exception": false,
     "start_time": "2024-12-13T16:24:32.446433",
     "status": "completed"
    },
    "tags": []
   },
   "outputs": [],
   "source": [
    "def calculate_rmlse(y_true, y_pred):\n",
    "    log_true = np.log(y_true + 1)\n",
    "    log_pred = np.log(y_pred + 1)\n",
    "    rmlse = np.sqrt(np.mean((log_true - log_pred) ** 2))\n",
    "    return rmlse"
   ]
  },
  {
   "cell_type": "code",
   "execution_count": 50,
   "id": "e17d990c",
   "metadata": {
    "execution": {
     "iopub.execute_input": "2024-12-13T16:24:32.503403Z",
     "iopub.status.busy": "2024-12-13T16:24:32.502303Z",
     "iopub.status.idle": "2024-12-13T16:24:32.507727Z",
     "shell.execute_reply": "2024-12-13T16:24:32.506681Z"
    },
    "papermill": {
     "duration": 0.024047,
     "end_time": "2024-12-13T16:24:32.510031",
     "exception": false,
     "start_time": "2024-12-13T16:24:32.485984",
     "status": "completed"
    },
    "tags": []
   },
   "outputs": [],
   "source": [
    "rt = RandomForestRegressor(n_estimators=30,max_depth= 20,max_samples= 20,min_samples_leaf= 15,max_features=25)"
   ]
  },
  {
   "cell_type": "code",
   "execution_count": 51,
   "id": "3ed2178c",
   "metadata": {
    "execution": {
     "iopub.execute_input": "2024-12-13T16:24:32.541415Z",
     "iopub.status.busy": "2024-12-13T16:24:32.540986Z",
     "iopub.status.idle": "2024-12-13T16:24:32.957546Z",
     "shell.execute_reply": "2024-12-13T16:24:32.956251Z"
    },
    "papermill": {
     "duration": 0.435719,
     "end_time": "2024-12-13T16:24:32.960216",
     "exception": false,
     "start_time": "2024-12-13T16:24:32.524497",
     "status": "completed"
    },
    "tags": []
   },
   "outputs": [],
   "source": [
    "rt.fit(X_train, Y_train)\n",
    "rt_pred = rt.predict(X_test)"
   ]
  },
  {
   "cell_type": "code",
   "execution_count": 52,
   "id": "123c64d0",
   "metadata": {
    "execution": {
     "iopub.execute_input": "2024-12-13T16:24:32.991277Z",
     "iopub.status.busy": "2024-12-13T16:24:32.990777Z",
     "iopub.status.idle": "2024-12-13T16:24:33.190706Z",
     "shell.execute_reply": "2024-12-13T16:24:33.189469Z"
    },
    "papermill": {
     "duration": 0.218602,
     "end_time": "2024-12-13T16:24:33.193425",
     "exception": false,
     "start_time": "2024-12-13T16:24:32.974823",
     "status": "completed"
    },
    "tags": []
   },
   "outputs": [],
   "source": [
    "y_pred_test_data_rt = rt.predict(test_data)"
   ]
  },
  {
   "cell_type": "code",
   "execution_count": 53,
   "id": "4d776ea9",
   "metadata": {
    "execution": {
     "iopub.execute_input": "2024-12-13T16:24:33.224847Z",
     "iopub.status.busy": "2024-12-13T16:24:33.224430Z",
     "iopub.status.idle": "2024-12-13T16:24:33.238321Z",
     "shell.execute_reply": "2024-12-13T16:24:33.237112Z"
    },
    "papermill": {
     "duration": 0.032289,
     "end_time": "2024-12-13T16:24:33.240728",
     "exception": false,
     "start_time": "2024-12-13T16:24:33.208439",
     "status": "completed"
    },
    "tags": []
   },
   "outputs": [
    {
     "data": {
      "text/plain": [
       "1.1857923802162837"
      ]
     },
     "execution_count": 53,
     "metadata": {},
     "output_type": "execute_result"
    }
   ],
   "source": [
    "calculate_rmlse(Y_test, rt_pred)"
   ]
  },
  {
   "cell_type": "code",
   "execution_count": 54,
   "id": "f9345b77",
   "metadata": {
    "execution": {
     "iopub.execute_input": "2024-12-13T16:24:33.272046Z",
     "iopub.status.busy": "2024-12-13T16:24:33.271080Z",
     "iopub.status.idle": "2024-12-13T16:24:33.568264Z",
     "shell.execute_reply": "2024-12-13T16:24:33.567238Z"
    },
    "papermill": {
     "duration": 0.315576,
     "end_time": "2024-12-13T16:24:33.571004",
     "exception": false,
     "start_time": "2024-12-13T16:24:33.255428",
     "status": "completed"
    },
    "tags": []
   },
   "outputs": [],
   "source": [
    "sample_data = pd.read_csv(\"/kaggle/input/playground-series-s4e12/sample_submission.csv\")\n"
   ]
  },
  {
   "cell_type": "code",
   "execution_count": 55,
   "id": "a668a7bf",
   "metadata": {
    "execution": {
     "iopub.execute_input": "2024-12-13T16:24:33.601908Z",
     "iopub.status.busy": "2024-12-13T16:24:33.601527Z",
     "iopub.status.idle": "2024-12-13T16:24:33.609453Z",
     "shell.execute_reply": "2024-12-13T16:24:33.608348Z"
    },
    "papermill": {
     "duration": 0.02619,
     "end_time": "2024-12-13T16:24:33.611895",
     "exception": false,
     "start_time": "2024-12-13T16:24:33.585705",
     "status": "completed"
    },
    "tags": []
   },
   "outputs": [],
   "source": [
    "# Assuming y_pred_test_data_rt is an array or Series containing predictions\n",
    "test_data_pred = pd.DataFrame({\n",
    "    'id': sample_data['id'],\n",
    "    'Premium Amount': y_pred_test_data_rt\n",
    "})\n"
   ]
  },
  {
   "cell_type": "code",
   "execution_count": 56,
   "id": "c72d968d",
   "metadata": {
    "execution": {
     "iopub.execute_input": "2024-12-13T16:24:33.642709Z",
     "iopub.status.busy": "2024-12-13T16:24:33.642295Z",
     "iopub.status.idle": "2024-12-13T16:24:33.654448Z",
     "shell.execute_reply": "2024-12-13T16:24:33.653321Z"
    },
    "papermill": {
     "duration": 0.02996,
     "end_time": "2024-12-13T16:24:33.656502",
     "exception": false,
     "start_time": "2024-12-13T16:24:33.626542",
     "status": "completed"
    },
    "tags": []
   },
   "outputs": [
    {
     "data": {
      "text/html": [
       "<div>\n",
       "<style scoped>\n",
       "    .dataframe tbody tr th:only-of-type {\n",
       "        vertical-align: middle;\n",
       "    }\n",
       "\n",
       "    .dataframe tbody tr th {\n",
       "        vertical-align: top;\n",
       "    }\n",
       "\n",
       "    .dataframe thead th {\n",
       "        text-align: right;\n",
       "    }\n",
       "</style>\n",
       "<table border=\"1\" class=\"dataframe\">\n",
       "  <thead>\n",
       "    <tr style=\"text-align: right;\">\n",
       "      <th></th>\n",
       "      <th>id</th>\n",
       "      <th>Premium Amount</th>\n",
       "    </tr>\n",
       "  </thead>\n",
       "  <tbody>\n",
       "    <tr>\n",
       "      <th>0</th>\n",
       "      <td>1200000</td>\n",
       "      <td>1150.056667</td>\n",
       "    </tr>\n",
       "    <tr>\n",
       "      <th>1</th>\n",
       "      <td>1200001</td>\n",
       "      <td>1150.056667</td>\n",
       "    </tr>\n",
       "    <tr>\n",
       "      <th>2</th>\n",
       "      <td>1200002</td>\n",
       "      <td>1150.056667</td>\n",
       "    </tr>\n",
       "    <tr>\n",
       "      <th>3</th>\n",
       "      <td>1200003</td>\n",
       "      <td>1150.056667</td>\n",
       "    </tr>\n",
       "    <tr>\n",
       "      <th>4</th>\n",
       "      <td>1200004</td>\n",
       "      <td>1150.056667</td>\n",
       "    </tr>\n",
       "    <tr>\n",
       "      <th>...</th>\n",
       "      <td>...</td>\n",
       "      <td>...</td>\n",
       "    </tr>\n",
       "    <tr>\n",
       "      <th>799995</th>\n",
       "      <td>1999995</td>\n",
       "      <td>1150.056667</td>\n",
       "    </tr>\n",
       "    <tr>\n",
       "      <th>799996</th>\n",
       "      <td>1999996</td>\n",
       "      <td>1150.056667</td>\n",
       "    </tr>\n",
       "    <tr>\n",
       "      <th>799997</th>\n",
       "      <td>1999997</td>\n",
       "      <td>1150.056667</td>\n",
       "    </tr>\n",
       "    <tr>\n",
       "      <th>799998</th>\n",
       "      <td>1999998</td>\n",
       "      <td>1150.056667</td>\n",
       "    </tr>\n",
       "    <tr>\n",
       "      <th>799999</th>\n",
       "      <td>1999999</td>\n",
       "      <td>1150.056667</td>\n",
       "    </tr>\n",
       "  </tbody>\n",
       "</table>\n",
       "<p>800000 rows × 2 columns</p>\n",
       "</div>"
      ],
      "text/plain": [
       "             id  Premium Amount\n",
       "0       1200000     1150.056667\n",
       "1       1200001     1150.056667\n",
       "2       1200002     1150.056667\n",
       "3       1200003     1150.056667\n",
       "4       1200004     1150.056667\n",
       "...         ...             ...\n",
       "799995  1999995     1150.056667\n",
       "799996  1999996     1150.056667\n",
       "799997  1999997     1150.056667\n",
       "799998  1999998     1150.056667\n",
       "799999  1999999     1150.056667\n",
       "\n",
       "[800000 rows x 2 columns]"
      ]
     },
     "execution_count": 56,
     "metadata": {},
     "output_type": "execute_result"
    }
   ],
   "source": [
    "test_data_pred"
   ]
  },
  {
   "cell_type": "code",
   "execution_count": 57,
   "id": "73e97430",
   "metadata": {
    "execution": {
     "iopub.execute_input": "2024-12-13T16:24:33.688271Z",
     "iopub.status.busy": "2024-12-13T16:24:33.687264Z",
     "iopub.status.idle": "2024-12-13T16:24:35.338893Z",
     "shell.execute_reply": "2024-12-13T16:24:35.337770Z"
    },
    "papermill": {
     "duration": 1.670101,
     "end_time": "2024-12-13T16:24:35.341169",
     "exception": false,
     "start_time": "2024-12-13T16:24:33.671068",
     "status": "completed"
    },
    "tags": []
   },
   "outputs": [],
   "source": [
    "result = test_data_pred.to_csv(\"sample_submission_data.csv\", index = False)"
   ]
  }
 ],
 "metadata": {
  "kaggle": {
   "accelerator": "none",
   "dataSources": [
    {
     "databundleVersionId": 10305135,
     "sourceId": 84896,
     "sourceType": "competition"
    }
   ],
   "dockerImageVersionId": 30786,
   "isGpuEnabled": false,
   "isInternetEnabled": true,
   "language": "python",
   "sourceType": "notebook"
  },
  "kernelspec": {
   "display_name": "Python 3",
   "language": "python",
   "name": "python3"
  },
  "language_info": {
   "codemirror_mode": {
    "name": "ipython",
    "version": 3
   },
   "file_extension": ".py",
   "mimetype": "text/x-python",
   "name": "python",
   "nbconvert_exporter": "python",
   "pygments_lexer": "ipython3",
   "version": "3.10.14"
  },
  "papermill": {
   "default_parameters": {},
   "duration": 81.20257,
   "end_time": "2024-12-13T16:24:36.178592",
   "environment_variables": {},
   "exception": null,
   "input_path": "__notebook__.ipynb",
   "output_path": "__notebook__.ipynb",
   "parameters": {},
   "start_time": "2024-12-13T16:23:14.976022",
   "version": "2.6.0"
  }
 },
 "nbformat": 4,
 "nbformat_minor": 5
}
