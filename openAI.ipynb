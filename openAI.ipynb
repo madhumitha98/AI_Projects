{
  "cells": [
    {
      "cell_type": "markdown",
      "metadata": {
        "id": "view-in-github",
        "colab_type": "text"
      },
      "source": [
        "<a href=\"https://colab.research.google.com/github/madhumitha98/AI_Projects/blob/master/openAI.ipynb\" target=\"_parent\"><img src=\"https://colab.research.google.com/assets/colab-badge.svg\" alt=\"Open In Colab\"/></a>"
      ]
    },
    {
      "cell_type": "code",
      "execution_count": null,
      "metadata": {
        "id": "gXwPUKL_Szvo",
        "outputId": "b89da79c-c673-462f-adc5-5b940f00ee96"
      },
      "outputs": [
        {
          "data": {
            "text/html": [
              "<div>\n",
              "<style scoped>\n",
              "    .dataframe tbody tr th:only-of-type {\n",
              "        vertical-align: middle;\n",
              "    }\n",
              "\n",
              "    .dataframe tbody tr th {\n",
              "        vertical-align: top;\n",
              "    }\n",
              "\n",
              "    .dataframe thead th {\n",
              "        text-align: right;\n",
              "    }\n",
              "</style>\n",
              "<table border=\"1\" class=\"dataframe\">\n",
              "  <thead>\n",
              "    <tr style=\"text-align: right;\">\n",
              "      <th></th>\n",
              "      <th>lyrics_filename</th>\n",
              "      <th>mood</th>\n",
              "      <th>lyrics</th>\n",
              "      <th>mood_cats</th>\n",
              "    </tr>\n",
              "  </thead>\n",
              "  <tbody>\n",
              "    <tr>\n",
              "      <th>0</th>\n",
              "      <td>Five_Finger_Death_Punch___Bulletproof</td>\n",
              "      <td>anger</td>\n",
              "      <td>\"Bulletproof Lyrics[Verse 1]\\nYou can take mon...</td>\n",
              "      <td>3</td>\n",
              "    </tr>\n",
              "    <tr>\n",
              "      <th>1</th>\n",
              "      <td>Karen_O_And_The_Kids___Hideaway</td>\n",
              "      <td>sad</td>\n",
              "      <td>\"Hideaway LyricsHideaway\\nWell, they'll seat u...</td>\n",
              "      <td>1</td>\n",
              "    </tr>\n",
              "    <tr>\n",
              "      <th>2</th>\n",
              "      <td>ATB___These_Days</td>\n",
              "      <td>happy</td>\n",
              "      <td>\"These Days Lyrics[Verse 1]\\nLet's take the lo...</td>\n",
              "      <td>0</td>\n",
              "    </tr>\n",
              "    <tr>\n",
              "      <th>3</th>\n",
              "      <td>Brian_Poole__The_Tremeloes___Do_You_Love_Me</td>\n",
              "      <td>happy</td>\n",
              "      <td>\"Main Street Chapter XXXI LyricsI\\nTheir night...</td>\n",
              "      <td>0</td>\n",
              "    </tr>\n",
              "    <tr>\n",
              "      <th>4</th>\n",
              "      <td>Aretha_Franklin___Freeway_Of_Love</td>\n",
              "      <td>happy</td>\n",
              "      <td>\"Freeway of Love Lyrics[Verse 1]\\nKnew you'd b...</td>\n",
              "      <td>0</td>\n",
              "    </tr>\n",
              "  </tbody>\n",
              "</table>\n",
              "</div>"
            ],
            "text/plain": [
              "                               lyrics_filename   mood  \\\n",
              "0        Five_Finger_Death_Punch___Bulletproof  anger   \n",
              "1              Karen_O_And_The_Kids___Hideaway    sad   \n",
              "2                             ATB___These_Days  happy   \n",
              "3  Brian_Poole__The_Tremeloes___Do_You_Love_Me  happy   \n",
              "4            Aretha_Franklin___Freeway_Of_Love  happy   \n",
              "\n",
              "                                              lyrics  mood_cats  \n",
              "0  \"Bulletproof Lyrics[Verse 1]\\nYou can take mon...          3  \n",
              "1  \"Hideaway LyricsHideaway\\nWell, they'll seat u...          1  \n",
              "2  \"These Days Lyrics[Verse 1]\\nLet's take the lo...          0  \n",
              "3  \"Main Street Chapter XXXI LyricsI\\nTheir night...          0  \n",
              "4  \"Freeway of Love Lyrics[Verse 1]\\nKnew you'd b...          0  "
            ]
          },
          "execution_count": 2,
          "metadata": {},
          "output_type": "execute_result"
        }
      ],
      "source": [
        "import numpy as np\n",
        "import pandas as pd\n",
        "\n",
        "df = pd.read_csv(\"lyrics_data.csv\")\n",
        "\n",
        "df.head()"
      ]
    },
    {
      "cell_type": "code",
      "execution_count": null,
      "metadata": {
        "id": "UnlzlO_ySzvv",
        "outputId": "e7d343af-7a7a-4551-b37e-ec4a192524f7"
      },
      "outputs": [
        {
          "data": {
            "text/plain": [
              "(2539, 4)"
            ]
          },
          "execution_count": 16,
          "metadata": {},
          "output_type": "execute_result"
        }
      ],
      "source": [
        "df.shape"
      ]
    },
    {
      "cell_type": "code",
      "execution_count": null,
      "metadata": {
        "id": "AuZxZyNjSzvz"
      },
      "outputs": [],
      "source": [
        "final_data = df.drop(columns=['lyrics_filename','mood_cats'],axis= 1)\n",
        "\n",
        "final_data.columns = ['completion','prompt']"
      ]
    },
    {
      "cell_type": "code",
      "execution_count": null,
      "metadata": {
        "id": "NWQFCzQPSzv0"
      },
      "outputs": [],
      "source": [
        "final_data.to_json(\"train_lyrics.jsonl\", orient=\"records\", lines = True)\n"
      ]
    },
    {
      "cell_type": "code",
      "execution_count": null,
      "metadata": {
        "id": "p3E3QWkHSzv1",
        "outputId": "51253aff-5949-4651-96e8-e57af9043da6"
      },
      "outputs": [
        {
          "name": "stdout",
          "output_type": "stream",
          "text": [
            "Analyzing...\n",
            "\n",
            "- Your file contains 2539 prompt-completion pairs\n",
            "- Based on your data it seems like you're trying to fine-tune a model for classification\n",
            "- For classification, we recommend you try one of the faster and cheaper models, such as `ada`\n",
            "- For classification, you can estimate the expected model performance by keeping a held out dataset, which is not used for training\n",
            "- There are 6 examples that are very long. These are rows: [3, 1294, 1508, 1720, 2352, 2528]\n",
            "For conditional generation, and for classification the examples shouldn't be longer than 2048 tokens.\n",
            "- All prompts end with suffix `, 'default'`. This suffix seems very long. Consider replacing with a shorter suffix, such as ` ->`\n",
            "- The completion should start with a whitespace character (` `). This tends to produce better results due to the tokenization we use. See https://platform.openai.com/docs/guides/fine-tuning/preparing-your-dataset for more details\n",
            "\n",
            "Based on the analysis we will perform the following actions:\n",
            "- [Recommended] Remove 6 long examples [Y/n]: Y\n",
            "- [Recommended] Add a whitespace character to the beginning of the completion [Y/n]: Y\n",
            "- [Recommended] Would you like to split into training and validation set? [Y/n]: Y\n",
            "\n",
            "\n",
            "Your data will be written to a new JSONL file. Proceed [Y/n]: Y\n",
            "\n",
            "Wrote modified files to `train_lyrics_prepared_train.jsonl` and `train_lyrics_prepared_valid.jsonl`\n",
            "Feel free to take a look!\n",
            "\n",
            "Now use that file when fine-tuning:\n",
            "> openai api fine_tunes.create -t \"train_lyrics_prepared_train.jsonl\" -v \"train_lyrics_prepared_valid.jsonl\" --compute_classification_metrics --classification_n_classes 4\n",
            "\n",
            "After you’ve fine-tuned a model, remember that your prompt has to end with the indicator string `, 'default'` for the model to start generating completions, rather than continuing with the prompt.\n",
            "Once your model starts training, it'll approximately take 1.05 hours to train a `curie` model, and less for `ada` and `babbage`. Queue will approximately take half an hour per job ahead of you.\n"
          ]
        }
      ],
      "source": [
        "!openai tools fine_tunes.prepare_data -f train_lyrics.jsonl -q"
      ]
    },
    {
      "cell_type": "code",
      "execution_count": null,
      "metadata": {
        "id": "8aRWmcOMSzv2"
      },
      "outputs": [],
      "source": [
        "import openai\n",
        "from dotenv import load_dotenv\n",
        "load_dotenv()\n",
        "\n",
        "import os\n",
        "openai.api_key = os.getenv('OPENAI_API_KEY')\n"
      ]
    },
    {
      "cell_type": "code",
      "execution_count": null,
      "metadata": {
        "id": "EZubOVRNSzv3"
      },
      "outputs": [],
      "source": [
        "train_file = openai.files.create(file=open(\"train_lyrics_prepared_train.jsonl\", \"rb\"), purpose=\"fine-tune\")\n",
        "valid_file = openai.files.create(file=open(\"train_lyrics_prepared_valid.jsonl\", \"rb\"), purpose=\"fine-tune\")"
      ]
    },
    {
      "cell_type": "code",
      "execution_count": null,
      "metadata": {
        "id": "rfiXI4gCSzv4",
        "outputId": "bdc126e4-11b6-47b0-e0c8-cc86f590ea3e"
      },
      "outputs": [
        {
          "name": "stdout",
          "output_type": "stream",
          "text": [
            "FineTuningJob(id='ftjob-DeOKPQUuGtlWZg7kSu58unJf', created_at=1708555064, error=Error(code=None, message=None, param=None, error=None), fine_tuned_model=None, finished_at=None, hyperparameters=Hyperparameters(n_epochs='auto', batch_size='auto', learning_rate_multiplier='auto'), model='babbage-002', object='fine_tuning.job', organization_id='org-X4fybrNrNcQQX82ayQW0sbv0', result_files=[], status='validating_files', trained_tokens=None, training_file='file-1Sk7oTnro4kjSyUj8Qroupiw', validation_file='file-Ogz4cJFgy2GB1mWoyY8mkvGr')\n"
          ]
        }
      ],
      "source": [
        "fine_tuning_job = openai.fine_tuning.jobs.create(training_file=train_file.id, validation_file=valid_file.id, model=\"babbage-002\")\n",
        "\n",
        "print(fine_tuning_job)"
      ]
    },
    {
      "cell_type": "code",
      "execution_count": null,
      "metadata": {
        "id": "-LxiDliKSzv5"
      },
      "outputs": [],
      "source": []
    }
  ],
  "metadata": {
    "kernelspec": {
      "display_name": "base",
      "language": "python",
      "name": "python3"
    },
    "language_info": {
      "codemirror_mode": {
        "name": "ipython",
        "version": 3
      },
      "file_extension": ".py",
      "mimetype": "text/x-python",
      "name": "python",
      "nbconvert_exporter": "python",
      "pygments_lexer": "ipython3",
      "version": "3.11.5"
    },
    "colab": {
      "provenance": [],
      "include_colab_link": true
    }
  },
  "nbformat": 4,
  "nbformat_minor": 0
}