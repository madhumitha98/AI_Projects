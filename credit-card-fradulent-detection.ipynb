{
 "cells": [
  {
   "cell_type": "code",
   "execution_count": 1,
   "id": "16416758",
   "metadata": {
    "_cell_guid": "b1076dfc-b9ad-4769-8c92-a6c4dae69d19",
    "_uuid": "8f2839f25d086af736a60e9eeb907d3b93b6e0e5",
    "execution": {
     "iopub.execute_input": "2024-12-01T08:59:39.823466Z",
     "iopub.status.busy": "2024-12-01T08:59:39.822879Z",
     "iopub.status.idle": "2024-12-01T08:59:40.840471Z",
     "shell.execute_reply": "2024-12-01T08:59:40.839311Z"
    },
    "papermill": {
     "duration": 1.029041,
     "end_time": "2024-12-01T08:59:40.842955",
     "exception": false,
     "start_time": "2024-12-01T08:59:39.813914",
     "status": "completed"
    },
    "tags": []
   },
   "outputs": [
    {
     "name": "stdout",
     "output_type": "stream",
     "text": [
      "/kaggle/input/creditcard-fraud-detection/cc_info.csv\n",
      "/kaggle/input/creditcard-fraud-detection/transactions.csv\n"
     ]
    }
   ],
   "source": [
    "# This Python 3 environment comes with many helpful analytics libraries installed\n",
    "# It is defined by the kaggle/python Docker image: https://github.com/kaggle/docker-python\n",
    "# For example, here's several helpful packages to load\n",
    "\n",
    "import numpy as np # linear algebra\n",
    "import pandas as pd # data processing, CSV file I/O (e.g. pd.read_csv)\n",
    "\n",
    "# Input data files are available in the read-only \"../input/\" directory\n",
    "# For example, running this (by clicking run or pressing Shift+Enter) will list all files under the input directory\n",
    "\n",
    "import os\n",
    "for dirname, _, filenames in os.walk('/kaggle/input'):\n",
    "    for filename in filenames:\n",
    "        print(os.path.join(dirname, filename))\n",
    "\n",
    "# You can write up to 20GB to the current directory (/kaggle/working/) that gets preserved as output when you create a version using \"Save & Run All\" \n",
    "# You can also write temporary files to /kaggle/temp/, but they won't be saved outside of the current session"
   ]
  },
  {
   "cell_type": "code",
   "execution_count": 2,
   "id": "e43397f7",
   "metadata": {
    "execution": {
     "iopub.execute_input": "2024-12-01T08:59:40.855996Z",
     "iopub.status.busy": "2024-12-01T08:59:40.855481Z",
     "iopub.status.idle": "2024-12-01T08:59:43.269414Z",
     "shell.execute_reply": "2024-12-01T08:59:43.268066Z"
    },
    "papermill": {
     "duration": 2.423059,
     "end_time": "2024-12-01T08:59:43.271821",
     "exception": false,
     "start_time": "2024-12-01T08:59:40.848762",
     "status": "completed"
    },
    "tags": []
   },
   "outputs": [],
   "source": [
    "import matplotlib.pyplot as plt\n",
    "import seaborn as sns\n",
    "from sklearn.preprocessing import StandardScaler, LabelEncoder\n",
    "from sklearn.cluster import KMeans\n",
    "from sklearn.model_selection import train_test_split\n",
    "from sklearn.metrics import silhouette_score\n",
    "from sklearn.decomposition import PCA"
   ]
  },
  {
   "cell_type": "code",
   "execution_count": 3,
   "id": "1e1b3d12",
   "metadata": {
    "execution": {
     "iopub.execute_input": "2024-12-01T08:59:43.284914Z",
     "iopub.status.busy": "2024-12-01T08:59:43.284393Z",
     "iopub.status.idle": "2024-12-01T08:59:43.982012Z",
     "shell.execute_reply": "2024-12-01T08:59:43.980677Z"
    },
    "papermill": {
     "duration": 0.706989,
     "end_time": "2024-12-01T08:59:43.984523",
     "exception": false,
     "start_time": "2024-12-01T08:59:43.277534",
     "status": "completed"
    },
    "tags": []
   },
   "outputs": [],
   "source": [
    "card_info = pd.read_csv(\"/kaggle/input/creditcard-fraud-detection/cc_info.csv\")\n",
    "transactions_info = pd.read_csv(\"/kaggle/input/creditcard-fraud-detection/transactions.csv\")"
   ]
  },
  {
   "cell_type": "code",
   "execution_count": 4,
   "id": "234f9e05",
   "metadata": {
    "execution": {
     "iopub.execute_input": "2024-12-01T08:59:43.998119Z",
     "iopub.status.busy": "2024-12-01T08:59:43.997628Z",
     "iopub.status.idle": "2024-12-01T08:59:44.020228Z",
     "shell.execute_reply": "2024-12-01T08:59:44.018954Z"
    },
    "papermill": {
     "duration": 0.032221,
     "end_time": "2024-12-01T08:59:44.022532",
     "exception": false,
     "start_time": "2024-12-01T08:59:43.990311",
     "status": "completed"
    },
    "tags": []
   },
   "outputs": [
    {
     "data": {
      "text/html": [
       "<div>\n",
       "<style scoped>\n",
       "    .dataframe tbody tr th:only-of-type {\n",
       "        vertical-align: middle;\n",
       "    }\n",
       "\n",
       "    .dataframe tbody tr th {\n",
       "        vertical-align: top;\n",
       "    }\n",
       "\n",
       "    .dataframe thead th {\n",
       "        text-align: right;\n",
       "    }\n",
       "</style>\n",
       "<table border=\"1\" class=\"dataframe\">\n",
       "  <thead>\n",
       "    <tr style=\"text-align: right;\">\n",
       "      <th></th>\n",
       "      <th>credit_card</th>\n",
       "      <th>city</th>\n",
       "      <th>state</th>\n",
       "      <th>zipcode</th>\n",
       "      <th>credit_card_limit</th>\n",
       "    </tr>\n",
       "  </thead>\n",
       "  <tbody>\n",
       "    <tr>\n",
       "      <th>0</th>\n",
       "      <td>1280981422329509</td>\n",
       "      <td>Dallas</td>\n",
       "      <td>PA</td>\n",
       "      <td>18612</td>\n",
       "      <td>6000</td>\n",
       "    </tr>\n",
       "    <tr>\n",
       "      <th>1</th>\n",
       "      <td>9737219864179988</td>\n",
       "      <td>Houston</td>\n",
       "      <td>PA</td>\n",
       "      <td>15342</td>\n",
       "      <td>16000</td>\n",
       "    </tr>\n",
       "    <tr>\n",
       "      <th>2</th>\n",
       "      <td>4749889059323202</td>\n",
       "      <td>Auburn</td>\n",
       "      <td>MA</td>\n",
       "      <td>1501</td>\n",
       "      <td>14000</td>\n",
       "    </tr>\n",
       "    <tr>\n",
       "      <th>3</th>\n",
       "      <td>9591503562024072</td>\n",
       "      <td>Orlando</td>\n",
       "      <td>WV</td>\n",
       "      <td>26412</td>\n",
       "      <td>18000</td>\n",
       "    </tr>\n",
       "    <tr>\n",
       "      <th>4</th>\n",
       "      <td>2095640259001271</td>\n",
       "      <td>New York</td>\n",
       "      <td>NY</td>\n",
       "      <td>10001</td>\n",
       "      <td>20000</td>\n",
       "    </tr>\n",
       "  </tbody>\n",
       "</table>\n",
       "</div>"
      ],
      "text/plain": [
       "        credit_card      city state  zipcode  credit_card_limit\n",
       "0  1280981422329509    Dallas    PA    18612               6000\n",
       "1  9737219864179988   Houston    PA    15342              16000\n",
       "2  4749889059323202    Auburn    MA     1501              14000\n",
       "3  9591503562024072   Orlando    WV    26412              18000\n",
       "4  2095640259001271  New York    NY    10001              20000"
      ]
     },
     "execution_count": 4,
     "metadata": {},
     "output_type": "execute_result"
    }
   ],
   "source": [
    "card_info.head()"
   ]
  },
  {
   "cell_type": "code",
   "execution_count": 5,
   "id": "818d84b0",
   "metadata": {
    "execution": {
     "iopub.execute_input": "2024-12-01T08:59:44.036887Z",
     "iopub.status.busy": "2024-12-01T08:59:44.036398Z",
     "iopub.status.idle": "2024-12-01T08:59:44.050981Z",
     "shell.execute_reply": "2024-12-01T08:59:44.049571Z"
    },
    "papermill": {
     "duration": 0.023701,
     "end_time": "2024-12-01T08:59:44.053132",
     "exception": false,
     "start_time": "2024-12-01T08:59:44.029431",
     "status": "completed"
    },
    "tags": []
   },
   "outputs": [
    {
     "data": {
      "text/html": [
       "<div>\n",
       "<style scoped>\n",
       "    .dataframe tbody tr th:only-of-type {\n",
       "        vertical-align: middle;\n",
       "    }\n",
       "\n",
       "    .dataframe tbody tr th {\n",
       "        vertical-align: top;\n",
       "    }\n",
       "\n",
       "    .dataframe thead th {\n",
       "        text-align: right;\n",
       "    }\n",
       "</style>\n",
       "<table border=\"1\" class=\"dataframe\">\n",
       "  <thead>\n",
       "    <tr style=\"text-align: right;\">\n",
       "      <th></th>\n",
       "      <th>credit_card</th>\n",
       "      <th>date</th>\n",
       "      <th>transaction_dollar_amount</th>\n",
       "      <th>Long</th>\n",
       "      <th>Lat</th>\n",
       "    </tr>\n",
       "  </thead>\n",
       "  <tbody>\n",
       "    <tr>\n",
       "      <th>0</th>\n",
       "      <td>1003715054175576</td>\n",
       "      <td>2015-09-11 00:32:40</td>\n",
       "      <td>43.78</td>\n",
       "      <td>-80.174132</td>\n",
       "      <td>40.267370</td>\n",
       "    </tr>\n",
       "    <tr>\n",
       "      <th>1</th>\n",
       "      <td>1003715054175576</td>\n",
       "      <td>2015-10-24 22:23:08</td>\n",
       "      <td>103.15</td>\n",
       "      <td>-80.194240</td>\n",
       "      <td>40.180114</td>\n",
       "    </tr>\n",
       "    <tr>\n",
       "      <th>2</th>\n",
       "      <td>1003715054175576</td>\n",
       "      <td>2015-10-26 18:19:36</td>\n",
       "      <td>48.55</td>\n",
       "      <td>-80.211033</td>\n",
       "      <td>40.313004</td>\n",
       "    </tr>\n",
       "    <tr>\n",
       "      <th>3</th>\n",
       "      <td>1003715054175576</td>\n",
       "      <td>2015-10-22 19:41:10</td>\n",
       "      <td>136.18</td>\n",
       "      <td>-80.174138</td>\n",
       "      <td>40.290895</td>\n",
       "    </tr>\n",
       "    <tr>\n",
       "      <th>4</th>\n",
       "      <td>1003715054175576</td>\n",
       "      <td>2015-10-26 20:08:22</td>\n",
       "      <td>71.82</td>\n",
       "      <td>-80.238720</td>\n",
       "      <td>40.166719</td>\n",
       "    </tr>\n",
       "  </tbody>\n",
       "</table>\n",
       "</div>"
      ],
      "text/plain": [
       "        credit_card                 date  transaction_dollar_amount  \\\n",
       "0  1003715054175576  2015-09-11 00:32:40                      43.78   \n",
       "1  1003715054175576  2015-10-24 22:23:08                     103.15   \n",
       "2  1003715054175576  2015-10-26 18:19:36                      48.55   \n",
       "3  1003715054175576  2015-10-22 19:41:10                     136.18   \n",
       "4  1003715054175576  2015-10-26 20:08:22                      71.82   \n",
       "\n",
       "        Long        Lat  \n",
       "0 -80.174132  40.267370  \n",
       "1 -80.194240  40.180114  \n",
       "2 -80.211033  40.313004  \n",
       "3 -80.174138  40.290895  \n",
       "4 -80.238720  40.166719  "
      ]
     },
     "execution_count": 5,
     "metadata": {},
     "output_type": "execute_result"
    }
   ],
   "source": [
    "transactions_info.head()"
   ]
  },
  {
   "cell_type": "code",
   "execution_count": 6,
   "id": "677ad772",
   "metadata": {
    "execution": {
     "iopub.execute_input": "2024-12-01T08:59:44.067994Z",
     "iopub.status.busy": "2024-12-01T08:59:44.067541Z",
     "iopub.status.idle": "2024-12-01T08:59:44.078162Z",
     "shell.execute_reply": "2024-12-01T08:59:44.076989Z"
    },
    "papermill": {
     "duration": 0.020813,
     "end_time": "2024-12-01T08:59:44.080677",
     "exception": false,
     "start_time": "2024-12-01T08:59:44.059864",
     "status": "completed"
    },
    "tags": []
   },
   "outputs": [
    {
     "data": {
      "text/plain": [
       "credit_card          0\n",
       "city                 0\n",
       "state                0\n",
       "zipcode              0\n",
       "credit_card_limit    0\n",
       "dtype: int64"
      ]
     },
     "execution_count": 6,
     "metadata": {},
     "output_type": "execute_result"
    }
   ],
   "source": [
    "card_info.isnull().sum()"
   ]
  },
  {
   "cell_type": "code",
   "execution_count": 7,
   "id": "67f4d2fe",
   "metadata": {
    "execution": {
     "iopub.execute_input": "2024-12-01T08:59:44.095517Z",
     "iopub.status.busy": "2024-12-01T08:59:44.094318Z",
     "iopub.status.idle": "2024-12-01T08:59:44.101944Z",
     "shell.execute_reply": "2024-12-01T08:59:44.100800Z"
    },
    "papermill": {
     "duration": 0.017629,
     "end_time": "2024-12-01T08:59:44.104668",
     "exception": false,
     "start_time": "2024-12-01T08:59:44.087039",
     "status": "completed"
    },
    "tags": []
   },
   "outputs": [
    {
     "data": {
      "text/plain": [
       "984"
      ]
     },
     "execution_count": 7,
     "metadata": {},
     "output_type": "execute_result"
    }
   ],
   "source": [
    "len(card_info)"
   ]
  },
  {
   "cell_type": "code",
   "execution_count": 8,
   "id": "1841ee57",
   "metadata": {
    "execution": {
     "iopub.execute_input": "2024-12-01T08:59:44.119265Z",
     "iopub.status.busy": "2024-12-01T08:59:44.118894Z",
     "iopub.status.idle": "2024-12-01T08:59:44.145842Z",
     "shell.execute_reply": "2024-12-01T08:59:44.144675Z"
    },
    "papermill": {
     "duration": 0.03682,
     "end_time": "2024-12-01T08:59:44.148344",
     "exception": false,
     "start_time": "2024-12-01T08:59:44.111524",
     "status": "completed"
    },
    "tags": []
   },
   "outputs": [
    {
     "data": {
      "text/plain": [
       "credit_card                  0\n",
       "date                         0\n",
       "transaction_dollar_amount    0\n",
       "Long                         0\n",
       "Lat                          0\n",
       "dtype: int64"
      ]
     },
     "execution_count": 8,
     "metadata": {},
     "output_type": "execute_result"
    }
   ],
   "source": [
    "transactions_info.isnull().sum()"
   ]
  },
  {
   "cell_type": "code",
   "execution_count": 9,
   "id": "b8374683",
   "metadata": {
    "execution": {
     "iopub.execute_input": "2024-12-01T08:59:44.162402Z",
     "iopub.status.busy": "2024-12-01T08:59:44.161990Z",
     "iopub.status.idle": "2024-12-01T08:59:44.169408Z",
     "shell.execute_reply": "2024-12-01T08:59:44.167961Z"
    },
    "papermill": {
     "duration": 0.016971,
     "end_time": "2024-12-01T08:59:44.171622",
     "exception": false,
     "start_time": "2024-12-01T08:59:44.154651",
     "status": "completed"
    },
    "tags": []
   },
   "outputs": [
    {
     "data": {
      "text/plain": [
       "294588"
      ]
     },
     "execution_count": 9,
     "metadata": {},
     "output_type": "execute_result"
    }
   ],
   "source": [
    "len(transactions_info)"
   ]
  },
  {
   "cell_type": "markdown",
   "id": "9d553e72",
   "metadata": {
    "papermill": {
     "duration": 0.006479,
     "end_time": "2024-12-01T08:59:44.184463",
     "exception": false,
     "start_time": "2024-12-01T08:59:44.177984",
     "status": "completed"
    },
    "tags": []
   },
   "source": [
    "# EDA "
   ]
  },
  {
   "cell_type": "code",
   "execution_count": 10,
   "id": "437f4d8f",
   "metadata": {
    "execution": {
     "iopub.execute_input": "2024-12-01T08:59:44.199181Z",
     "iopub.status.busy": "2024-12-01T08:59:44.198808Z",
     "iopub.status.idle": "2024-12-01T08:59:44.272105Z",
     "shell.execute_reply": "2024-12-01T08:59:44.270695Z"
    },
    "papermill": {
     "duration": 0.083769,
     "end_time": "2024-12-01T08:59:44.275051",
     "exception": false,
     "start_time": "2024-12-01T08:59:44.191282",
     "status": "completed"
    },
    "tags": []
   },
   "outputs": [],
   "source": [
    "combined_data = transactions_info.merge(card_info, how = 'left', on = 'credit_card')"
   ]
  },
  {
   "cell_type": "code",
   "execution_count": 11,
   "id": "f0972b03",
   "metadata": {
    "execution": {
     "iopub.execute_input": "2024-12-01T08:59:44.289768Z",
     "iopub.status.busy": "2024-12-01T08:59:44.289325Z",
     "iopub.status.idle": "2024-12-01T08:59:44.303350Z",
     "shell.execute_reply": "2024-12-01T08:59:44.302162Z"
    },
    "papermill": {
     "duration": 0.023923,
     "end_time": "2024-12-01T08:59:44.305364",
     "exception": false,
     "start_time": "2024-12-01T08:59:44.281441",
     "status": "completed"
    },
    "tags": []
   },
   "outputs": [
    {
     "data": {
      "text/html": [
       "<div>\n",
       "<style scoped>\n",
       "    .dataframe tbody tr th:only-of-type {\n",
       "        vertical-align: middle;\n",
       "    }\n",
       "\n",
       "    .dataframe tbody tr th {\n",
       "        vertical-align: top;\n",
       "    }\n",
       "\n",
       "    .dataframe thead th {\n",
       "        text-align: right;\n",
       "    }\n",
       "</style>\n",
       "<table border=\"1\" class=\"dataframe\">\n",
       "  <thead>\n",
       "    <tr style=\"text-align: right;\">\n",
       "      <th></th>\n",
       "      <th>credit_card</th>\n",
       "      <th>date</th>\n",
       "      <th>transaction_dollar_amount</th>\n",
       "      <th>Long</th>\n",
       "      <th>Lat</th>\n",
       "      <th>city</th>\n",
       "      <th>state</th>\n",
       "      <th>zipcode</th>\n",
       "      <th>credit_card_limit</th>\n",
       "    </tr>\n",
       "  </thead>\n",
       "  <tbody>\n",
       "    <tr>\n",
       "      <th>0</th>\n",
       "      <td>1003715054175576</td>\n",
       "      <td>2015-09-11 00:32:40</td>\n",
       "      <td>43.78</td>\n",
       "      <td>-80.174132</td>\n",
       "      <td>40.267370</td>\n",
       "      <td>Houston</td>\n",
       "      <td>PA</td>\n",
       "      <td>15342</td>\n",
       "      <td>20000</td>\n",
       "    </tr>\n",
       "    <tr>\n",
       "      <th>1</th>\n",
       "      <td>1003715054175576</td>\n",
       "      <td>2015-10-24 22:23:08</td>\n",
       "      <td>103.15</td>\n",
       "      <td>-80.194240</td>\n",
       "      <td>40.180114</td>\n",
       "      <td>Houston</td>\n",
       "      <td>PA</td>\n",
       "      <td>15342</td>\n",
       "      <td>20000</td>\n",
       "    </tr>\n",
       "    <tr>\n",
       "      <th>2</th>\n",
       "      <td>1003715054175576</td>\n",
       "      <td>2015-10-26 18:19:36</td>\n",
       "      <td>48.55</td>\n",
       "      <td>-80.211033</td>\n",
       "      <td>40.313004</td>\n",
       "      <td>Houston</td>\n",
       "      <td>PA</td>\n",
       "      <td>15342</td>\n",
       "      <td>20000</td>\n",
       "    </tr>\n",
       "    <tr>\n",
       "      <th>3</th>\n",
       "      <td>1003715054175576</td>\n",
       "      <td>2015-10-22 19:41:10</td>\n",
       "      <td>136.18</td>\n",
       "      <td>-80.174138</td>\n",
       "      <td>40.290895</td>\n",
       "      <td>Houston</td>\n",
       "      <td>PA</td>\n",
       "      <td>15342</td>\n",
       "      <td>20000</td>\n",
       "    </tr>\n",
       "    <tr>\n",
       "      <th>4</th>\n",
       "      <td>1003715054175576</td>\n",
       "      <td>2015-10-26 20:08:22</td>\n",
       "      <td>71.82</td>\n",
       "      <td>-80.238720</td>\n",
       "      <td>40.166719</td>\n",
       "      <td>Houston</td>\n",
       "      <td>PA</td>\n",
       "      <td>15342</td>\n",
       "      <td>20000</td>\n",
       "    </tr>\n",
       "  </tbody>\n",
       "</table>\n",
       "</div>"
      ],
      "text/plain": [
       "        credit_card                 date  transaction_dollar_amount  \\\n",
       "0  1003715054175576  2015-09-11 00:32:40                      43.78   \n",
       "1  1003715054175576  2015-10-24 22:23:08                     103.15   \n",
       "2  1003715054175576  2015-10-26 18:19:36                      48.55   \n",
       "3  1003715054175576  2015-10-22 19:41:10                     136.18   \n",
       "4  1003715054175576  2015-10-26 20:08:22                      71.82   \n",
       "\n",
       "        Long        Lat     city state  zipcode  credit_card_limit  \n",
       "0 -80.174132  40.267370  Houston    PA    15342              20000  \n",
       "1 -80.194240  40.180114  Houston    PA    15342              20000  \n",
       "2 -80.211033  40.313004  Houston    PA    15342              20000  \n",
       "3 -80.174138  40.290895  Houston    PA    15342              20000  \n",
       "4 -80.238720  40.166719  Houston    PA    15342              20000  "
      ]
     },
     "execution_count": 11,
     "metadata": {},
     "output_type": "execute_result"
    }
   ],
   "source": [
    "combined_data.head()"
   ]
  },
  {
   "cell_type": "code",
   "execution_count": 12,
   "id": "6a2c7c89",
   "metadata": {
    "execution": {
     "iopub.execute_input": "2024-12-01T08:59:44.321178Z",
     "iopub.status.busy": "2024-12-01T08:59:44.320101Z",
     "iopub.status.idle": "2024-12-01T08:59:44.327472Z",
     "shell.execute_reply": "2024-12-01T08:59:44.326307Z"
    },
    "papermill": {
     "duration": 0.018225,
     "end_time": "2024-12-01T08:59:44.330004",
     "exception": false,
     "start_time": "2024-12-01T08:59:44.311779",
     "status": "completed"
    },
    "tags": []
   },
   "outputs": [
    {
     "data": {
      "text/plain": [
       "(294588, 9)"
      ]
     },
     "execution_count": 12,
     "metadata": {},
     "output_type": "execute_result"
    }
   ],
   "source": [
    "combined_data.shape"
   ]
  },
  {
   "cell_type": "code",
   "execution_count": 13,
   "id": "6356cb90",
   "metadata": {
    "execution": {
     "iopub.execute_input": "2024-12-01T08:59:44.345885Z",
     "iopub.status.busy": "2024-12-01T08:59:44.345095Z",
     "iopub.status.idle": "2024-12-01T08:59:44.441350Z",
     "shell.execute_reply": "2024-12-01T08:59:44.440130Z"
    },
    "papermill": {
     "duration": 0.107027,
     "end_time": "2024-12-01T08:59:44.443893",
     "exception": false,
     "start_time": "2024-12-01T08:59:44.336866",
     "status": "completed"
    },
    "tags": []
   },
   "outputs": [],
   "source": [
    "combined_data['date'] = pd.to_datetime(combined_data['date'])"
   ]
  },
  {
   "cell_type": "code",
   "execution_count": 14,
   "id": "2c80b4bd",
   "metadata": {
    "execution": {
     "iopub.execute_input": "2024-12-01T08:59:44.459083Z",
     "iopub.status.busy": "2024-12-01T08:59:44.458639Z",
     "iopub.status.idle": "2024-12-01T08:59:54.080484Z",
     "shell.execute_reply": "2024-12-01T08:59:54.078551Z"
    },
    "papermill": {
     "duration": 9.632789,
     "end_time": "2024-12-01T08:59:54.083468",
     "exception": false,
     "start_time": "2024-12-01T08:59:44.450679",
     "status": "completed"
    },
    "tags": []
   },
   "outputs": [],
   "source": [
    "combined_data['date_only'] = combined_data['date'].dt.strftime(\"%Y/%m/%d\")\n",
    "combined_data['time_only'] = combined_data['date'].dt.strftime(\"%H:%M:%S\")\n",
    "combined_data['hour_only'] = combined_data['date'].dt.strftime(\"%H\")\n",
    "combined_data['day_of_the_week'] = combined_data['date'].dt.strftime('%A')\n",
    "combined_data['num_day'] = combined_data['date'].dt.strftime('%w')\n",
    "combined_data['month_only'] = combined_data['date'].dt.strftime('%m')\n",
    "combined_data['year_only'] = combined_data['date'].dt.strftime('%Y')"
   ]
  },
  {
   "cell_type": "code",
   "execution_count": 15,
   "id": "e88f6d34",
   "metadata": {
    "execution": {
     "iopub.execute_input": "2024-12-01T08:59:54.100333Z",
     "iopub.status.busy": "2024-12-01T08:59:54.099929Z",
     "iopub.status.idle": "2024-12-01T08:59:54.174701Z",
     "shell.execute_reply": "2024-12-01T08:59:54.173441Z"
    },
    "papermill": {
     "duration": 0.086989,
     "end_time": "2024-12-01T08:59:54.177373",
     "exception": false,
     "start_time": "2024-12-01T08:59:54.090384",
     "status": "completed"
    },
    "tags": []
   },
   "outputs": [],
   "source": [
    " combined_data =  combined_data.drop('date', axis = 1)"
   ]
  },
  {
   "cell_type": "code",
   "execution_count": 16,
   "id": "365abe27",
   "metadata": {
    "execution": {
     "iopub.execute_input": "2024-12-01T08:59:54.192847Z",
     "iopub.status.busy": "2024-12-01T08:59:54.192450Z",
     "iopub.status.idle": "2024-12-01T08:59:54.233325Z",
     "shell.execute_reply": "2024-12-01T08:59:54.232182Z"
    },
    "papermill": {
     "duration": 0.051585,
     "end_time": "2024-12-01T08:59:54.235905",
     "exception": false,
     "start_time": "2024-12-01T08:59:54.184320",
     "status": "completed"
    },
    "tags": []
   },
   "outputs": [],
   "source": [
    "combined_data['time_only'] = combined_data['time_only'].replace('00','24')"
   ]
  },
  {
   "cell_type": "code",
   "execution_count": 17,
   "id": "a56df83b",
   "metadata": {
    "execution": {
     "iopub.execute_input": "2024-12-01T08:59:54.250939Z",
     "iopub.status.busy": "2024-12-01T08:59:54.250566Z",
     "iopub.status.idle": "2024-12-01T08:59:54.269904Z",
     "shell.execute_reply": "2024-12-01T08:59:54.268693Z"
    },
    "papermill": {
     "duration": 0.029606,
     "end_time": "2024-12-01T08:59:54.272289",
     "exception": false,
     "start_time": "2024-12-01T08:59:54.242683",
     "status": "completed"
    },
    "tags": []
   },
   "outputs": [
    {
     "data": {
      "text/html": [
       "<div>\n",
       "<style scoped>\n",
       "    .dataframe tbody tr th:only-of-type {\n",
       "        vertical-align: middle;\n",
       "    }\n",
       "\n",
       "    .dataframe tbody tr th {\n",
       "        vertical-align: top;\n",
       "    }\n",
       "\n",
       "    .dataframe thead th {\n",
       "        text-align: right;\n",
       "    }\n",
       "</style>\n",
       "<table border=\"1\" class=\"dataframe\">\n",
       "  <thead>\n",
       "    <tr style=\"text-align: right;\">\n",
       "      <th></th>\n",
       "      <th>credit_card</th>\n",
       "      <th>transaction_dollar_amount</th>\n",
       "      <th>Long</th>\n",
       "      <th>Lat</th>\n",
       "      <th>city</th>\n",
       "      <th>state</th>\n",
       "      <th>zipcode</th>\n",
       "      <th>credit_card_limit</th>\n",
       "      <th>date_only</th>\n",
       "      <th>time_only</th>\n",
       "      <th>hour_only</th>\n",
       "      <th>day_of_the_week</th>\n",
       "      <th>num_day</th>\n",
       "      <th>month_only</th>\n",
       "      <th>year_only</th>\n",
       "    </tr>\n",
       "  </thead>\n",
       "  <tbody>\n",
       "    <tr>\n",
       "      <th>0</th>\n",
       "      <td>1003715054175576</td>\n",
       "      <td>43.78</td>\n",
       "      <td>-80.174132</td>\n",
       "      <td>40.267370</td>\n",
       "      <td>Houston</td>\n",
       "      <td>PA</td>\n",
       "      <td>15342</td>\n",
       "      <td>20000</td>\n",
       "      <td>2015/09/11</td>\n",
       "      <td>00:32:40</td>\n",
       "      <td>00</td>\n",
       "      <td>Friday</td>\n",
       "      <td>5</td>\n",
       "      <td>09</td>\n",
       "      <td>2015</td>\n",
       "    </tr>\n",
       "    <tr>\n",
       "      <th>1</th>\n",
       "      <td>1003715054175576</td>\n",
       "      <td>103.15</td>\n",
       "      <td>-80.194240</td>\n",
       "      <td>40.180114</td>\n",
       "      <td>Houston</td>\n",
       "      <td>PA</td>\n",
       "      <td>15342</td>\n",
       "      <td>20000</td>\n",
       "      <td>2015/10/24</td>\n",
       "      <td>22:23:08</td>\n",
       "      <td>22</td>\n",
       "      <td>Saturday</td>\n",
       "      <td>6</td>\n",
       "      <td>10</td>\n",
       "      <td>2015</td>\n",
       "    </tr>\n",
       "    <tr>\n",
       "      <th>2</th>\n",
       "      <td>1003715054175576</td>\n",
       "      <td>48.55</td>\n",
       "      <td>-80.211033</td>\n",
       "      <td>40.313004</td>\n",
       "      <td>Houston</td>\n",
       "      <td>PA</td>\n",
       "      <td>15342</td>\n",
       "      <td>20000</td>\n",
       "      <td>2015/10/26</td>\n",
       "      <td>18:19:36</td>\n",
       "      <td>18</td>\n",
       "      <td>Monday</td>\n",
       "      <td>1</td>\n",
       "      <td>10</td>\n",
       "      <td>2015</td>\n",
       "    </tr>\n",
       "    <tr>\n",
       "      <th>3</th>\n",
       "      <td>1003715054175576</td>\n",
       "      <td>136.18</td>\n",
       "      <td>-80.174138</td>\n",
       "      <td>40.290895</td>\n",
       "      <td>Houston</td>\n",
       "      <td>PA</td>\n",
       "      <td>15342</td>\n",
       "      <td>20000</td>\n",
       "      <td>2015/10/22</td>\n",
       "      <td>19:41:10</td>\n",
       "      <td>19</td>\n",
       "      <td>Thursday</td>\n",
       "      <td>4</td>\n",
       "      <td>10</td>\n",
       "      <td>2015</td>\n",
       "    </tr>\n",
       "    <tr>\n",
       "      <th>4</th>\n",
       "      <td>1003715054175576</td>\n",
       "      <td>71.82</td>\n",
       "      <td>-80.238720</td>\n",
       "      <td>40.166719</td>\n",
       "      <td>Houston</td>\n",
       "      <td>PA</td>\n",
       "      <td>15342</td>\n",
       "      <td>20000</td>\n",
       "      <td>2015/10/26</td>\n",
       "      <td>20:08:22</td>\n",
       "      <td>20</td>\n",
       "      <td>Monday</td>\n",
       "      <td>1</td>\n",
       "      <td>10</td>\n",
       "      <td>2015</td>\n",
       "    </tr>\n",
       "  </tbody>\n",
       "</table>\n",
       "</div>"
      ],
      "text/plain": [
       "        credit_card  transaction_dollar_amount       Long        Lat     city  \\\n",
       "0  1003715054175576                      43.78 -80.174132  40.267370  Houston   \n",
       "1  1003715054175576                     103.15 -80.194240  40.180114  Houston   \n",
       "2  1003715054175576                      48.55 -80.211033  40.313004  Houston   \n",
       "3  1003715054175576                     136.18 -80.174138  40.290895  Houston   \n",
       "4  1003715054175576                      71.82 -80.238720  40.166719  Houston   \n",
       "\n",
       "  state  zipcode  credit_card_limit   date_only time_only hour_only  \\\n",
       "0    PA    15342              20000  2015/09/11  00:32:40        00   \n",
       "1    PA    15342              20000  2015/10/24  22:23:08        22   \n",
       "2    PA    15342              20000  2015/10/26  18:19:36        18   \n",
       "3    PA    15342              20000  2015/10/22  19:41:10        19   \n",
       "4    PA    15342              20000  2015/10/26  20:08:22        20   \n",
       "\n",
       "  day_of_the_week num_day month_only year_only  \n",
       "0          Friday       5         09      2015  \n",
       "1        Saturday       6         10      2015  \n",
       "2          Monday       1         10      2015  \n",
       "3        Thursday       4         10      2015  \n",
       "4          Monday       1         10      2015  "
      ]
     },
     "execution_count": 17,
     "metadata": {},
     "output_type": "execute_result"
    }
   ],
   "source": [
    "combined_data.head()"
   ]
  },
  {
   "cell_type": "code",
   "execution_count": 18,
   "id": "0b1c9e86",
   "metadata": {
    "execution": {
     "iopub.execute_input": "2024-12-01T08:59:54.288386Z",
     "iopub.status.busy": "2024-12-01T08:59:54.287975Z",
     "iopub.status.idle": "2024-12-01T08:59:54.568517Z",
     "shell.execute_reply": "2024-12-01T08:59:54.567216Z"
    },
    "papermill": {
     "duration": 0.29201,
     "end_time": "2024-12-01T08:59:54.571388",
     "exception": false,
     "start_time": "2024-12-01T08:59:54.279378",
     "status": "completed"
    },
    "tags": []
   },
   "outputs": [
    {
     "data": {
      "image/png": "[encoded data removed]",
      "text/plain": [
       "<Figure size 640x480 with 1 Axes>"
      ]
     },
     "metadata": {},
     "output_type": "display_data"
    }
   ],
   "source": [
    "combined_data.city.value_counts().head().plot.barh()\n",
    "plt.show()"
   ]
  },
  {
   "cell_type": "code",
   "execution_count": 19,
   "id": "26948f68",
   "metadata": {
    "execution": {
     "iopub.execute_input": "2024-12-01T08:59:54.588526Z",
     "iopub.status.busy": "2024-12-01T08:59:54.588117Z",
     "iopub.status.idle": "2024-12-01T08:59:55.169677Z",
     "shell.execute_reply": "2024-12-01T08:59:55.168378Z"
    },
    "papermill": {
     "duration": 0.592552,
     "end_time": "2024-12-01T08:59:55.172130",
     "exception": false,
     "start_time": "2024-12-01T08:59:54.579578",
     "status": "completed"
    },
    "tags": []
   },
   "outputs": [
    {
     "name": "stderr",
     "output_type": "stream",
     "text": [
      "/opt/conda/lib/python3.10/site-packages/seaborn/_oldcore.py:1119: FutureWarning: use_inf_as_na option is deprecated and will be removed in a future version. Convert inf values to NaN before operating instead.\n",
      "  with pd.option_context('mode.use_inf_as_na', True):\n"
     ]
    },
    {
     "data": {
      "image/png": "[encoded data removed]",
      "text/plain": [
       "<Figure size 1500x1000 with 1 Axes>"
      ]
     },
     "metadata": {},
     "output_type": "display_data"
    }
   ],
   "source": [
    "plt.figure(figsize = [15,10])\n",
    "sns.histplot(data = combined_data, x= 'day_of_the_week')\n",
    "plt.show()"
   ]
  },
  {
   "cell_type": "code",
   "execution_count": 20,
   "id": "56d4a541",
   "metadata": {
    "execution": {
     "iopub.execute_input": "2024-12-01T08:59:55.189387Z",
     "iopub.status.busy": "2024-12-01T08:59:55.188984Z",
     "iopub.status.idle": "2024-12-01T08:59:57.548397Z",
     "shell.execute_reply": "2024-12-01T08:59:57.546963Z"
    },
    "papermill": {
     "duration": 2.372494,
     "end_time": "2024-12-01T08:59:57.552617",
     "exception": false,
     "start_time": "2024-12-01T08:59:55.180123",
     "status": "completed"
    },
    "tags": []
   },
   "outputs": [
    {
     "data": {
      "image/png": "[encoded data removed]",
      "text/plain": [
       "<Figure size 640x480 with 1 Axes>"
      ]
     },
     "metadata": {},
     "output_type": "display_data"
    }
   ],
   "source": [
    "sns.barplot(data = combined_data, x = 'month_only', y= 'transaction_dollar_amount')\n",
    "plt.show()"
   ]
  },
  {
   "cell_type": "code",
   "execution_count": 21,
   "id": "630dc545",
   "metadata": {
    "execution": {
     "iopub.execute_input": "2024-12-01T08:59:57.589048Z",
     "iopub.status.busy": "2024-12-01T08:59:57.588632Z",
     "iopub.status.idle": "2024-12-01T08:59:58.610015Z",
     "shell.execute_reply": "2024-12-01T08:59:58.608884Z"
    },
    "papermill": {
     "duration": 1.03706,
     "end_time": "2024-12-01T08:59:58.612115",
     "exception": false,
     "start_time": "2024-12-01T08:59:57.575055",
     "status": "completed"
    },
    "tags": []
   },
   "outputs": [
    {
     "name": "stderr",
     "output_type": "stream",
     "text": [
      "/opt/conda/lib/python3.10/site-packages/seaborn/_oldcore.py:1119: FutureWarning: use_inf_as_na option is deprecated and will be removed in a future version. Convert inf values to NaN before operating instead.\n",
      "  with pd.option_context('mode.use_inf_as_na', True):\n"
     ]
    },
    {
     "data": {
      "image/png": "[encoded data removed]",
      "text/plain": [
       "<Figure size 640x480 with 1 Axes>"
      ]
     },
     "metadata": {},
     "output_type": "display_data"
    }
   ],
   "source": [
    "sns.histplot(data = combined_data, x= 'transaction_dollar_amount')\n",
    "plt.show()"
   ]
  },
  {
   "cell_type": "code",
   "execution_count": 22,
   "id": "a52d00b6",
   "metadata": {
    "execution": {
     "iopub.execute_input": "2024-12-01T08:59:58.631535Z",
     "iopub.status.busy": "2024-12-01T08:59:58.631140Z",
     "iopub.status.idle": "2024-12-01T08:59:58.637338Z",
     "shell.execute_reply": "2024-12-01T08:59:58.636128Z"
    },
    "papermill": {
     "duration": 0.018432,
     "end_time": "2024-12-01T08:59:58.639525",
     "exception": false,
     "start_time": "2024-12-01T08:59:58.621093",
     "status": "completed"
    },
    "tags": []
   },
   "outputs": [],
   "source": [
    "numeric_cols = []\n",
    "\n",
    "for col in combined_data.columns:\n",
    "    if pd.api.types.is_numeric_dtype(combined_data[col]):\n",
    "        numeric_cols.append(col)"
   ]
  },
  {
   "cell_type": "code",
   "execution_count": 23,
   "id": "ebdf815f",
   "metadata": {
    "execution": {
     "iopub.execute_input": "2024-12-01T08:59:58.659086Z",
     "iopub.status.busy": "2024-12-01T08:59:58.658535Z",
     "iopub.status.idle": "2024-12-01T08:59:58.710449Z",
     "shell.execute_reply": "2024-12-01T08:59:58.709180Z"
    },
    "papermill": {
     "duration": 0.064987,
     "end_time": "2024-12-01T08:59:58.713315",
     "exception": false,
     "start_time": "2024-12-01T08:59:58.648328",
     "status": "completed"
    },
    "tags": []
   },
   "outputs": [],
   "source": [
    "correlation_matrix = combined_data[numeric_cols].corr()"
   ]
  },
  {
   "cell_type": "code",
   "execution_count": 24,
   "id": "ed887cb5",
   "metadata": {
    "execution": {
     "iopub.execute_input": "2024-12-01T08:59:58.732290Z",
     "iopub.status.busy": "2024-12-01T08:59:58.731807Z",
     "iopub.status.idle": "2024-12-01T08:59:59.163446Z",
     "shell.execute_reply": "2024-12-01T08:59:59.162081Z"
    },
    "papermill": {
     "duration": 0.444055,
     "end_time": "2024-12-01T08:59:59.166152",
     "exception": false,
     "start_time": "2024-12-01T08:59:58.722097",
     "status": "completed"
    },
    "tags": []
   },
   "outputs": [
    {
     "data": {
      "image/png": "[encoded data removed]",
      "text/plain": [
       "<Figure size 1000x800 with 2 Axes>"
      ]
     },
     "metadata": {},
     "output_type": "display_data"
    }
   ],
   "source": [
    "plt.figure(figsize=(10, 8))\n",
    "sns.heatmap(correlation_matrix, annot=True, cmap='coolwarm', fmt='.2f', linewidths=0.5)\n",
    "plt.title('Correlation Matrix Heatmap')\n",
    "plt.show()"
   ]
  },
  {
   "cell_type": "code",
   "execution_count": 25,
   "id": "cb80b342",
   "metadata": {
    "execution": {
     "iopub.execute_input": "2024-12-01T08:59:59.190459Z",
     "iopub.status.busy": "2024-12-01T08:59:59.190036Z",
     "iopub.status.idle": "2024-12-01T08:59:59.420223Z",
     "shell.execute_reply": "2024-12-01T08:59:59.418975Z"
    },
    "papermill": {
     "duration": 0.245008,
     "end_time": "2024-12-01T08:59:59.422793",
     "exception": false,
     "start_time": "2024-12-01T08:59:59.177785",
     "status": "completed"
    },
    "tags": []
   },
   "outputs": [],
   "source": [
    "X_train, X_test = train_test_split(combined_data, test_size =0.2, random_state = 42)\n"
   ]
  },
  {
   "cell_type": "code",
   "execution_count": 26,
   "id": "4db07333",
   "metadata": {
    "execution": {
     "iopub.execute_input": "2024-12-01T08:59:59.444066Z",
     "iopub.status.busy": "2024-12-01T08:59:59.443677Z",
     "iopub.status.idle": "2024-12-01T09:00:00.802595Z",
     "shell.execute_reply": "2024-12-01T09:00:00.801271Z"
    },
    "papermill": {
     "duration": 1.372559,
     "end_time": "2024-12-01T09:00:00.805197",
     "exception": false,
     "start_time": "2024-12-01T08:59:59.432638",
     "status": "completed"
    },
    "tags": []
   },
   "outputs": [],
   "source": [
    "enc = LabelEncoder()\n",
    "\n",
    "# Fit the encoder on the training data and transform it\n",
    "for col in X_train.columns:\n",
    "    if X_train[col].dtype == object:\n",
    "        X_train[col] = enc.fit_transform(X_train[col])\n",
    "\n",
    "# Transform the test data using the fitted encoder\n",
    "for col in X_test.columns:\n",
    "    if X_test[col].dtype == object:\n",
    "        X_test[col] = enc.fit_transform(X_test[col])\n"
   ]
  },
  {
   "cell_type": "code",
   "execution_count": 27,
   "id": "554df9b3",
   "metadata": {
    "execution": {
     "iopub.execute_input": "2024-12-01T09:00:00.827114Z",
     "iopub.status.busy": "2024-12-01T09:00:00.826690Z",
     "iopub.status.idle": "2024-12-01T09:00:00.892478Z",
     "shell.execute_reply": "2024-12-01T09:00:00.891349Z"
    },
    "papermill": {
     "duration": 0.079947,
     "end_time": "2024-12-01T09:00:00.895034",
     "exception": false,
     "start_time": "2024-12-01T09:00:00.815087",
     "status": "completed"
    },
    "tags": []
   },
   "outputs": [],
   "source": [
    "enc_numeric = StandardScaler()\n",
    "X_train[numeric_cols] = enc_numeric.fit_transform(X_train[numeric_cols])\n",
    "X_test[numeric_cols] = enc_numeric.fit_transform(X_test[numeric_cols])"
   ]
  },
  {
   "cell_type": "code",
   "execution_count": 28,
   "id": "d678c7e8",
   "metadata": {
    "execution": {
     "iopub.execute_input": "2024-12-01T09:00:00.916430Z",
     "iopub.status.busy": "2024-12-01T09:00:00.916008Z",
     "iopub.status.idle": "2024-12-01T09:00:02.944409Z",
     "shell.execute_reply": "2024-12-01T09:00:02.943201Z"
    },
    "papermill": {
     "duration": 2.041782,
     "end_time": "2024-12-01T09:00:02.946771",
     "exception": false,
     "start_time": "2024-12-01T09:00:00.904989",
     "status": "completed"
    },
    "tags": []
   },
   "outputs": [
    {
     "name": "stderr",
     "output_type": "stream",
     "text": [
      "/opt/conda/lib/python3.10/site-packages/sklearn/cluster/_kmeans.py:870: FutureWarning: The default value of `n_init` will change from 10 to 'auto' in 1.4. Set the value of `n_init` explicitly to suppress the warning\n",
      "  warnings.warn(\n"
     ]
    },
    {
     "data": {
      "text/html": [
       "<style>#sk-container-id-1 {color: black;background-color: white;}#sk-container-id-1 pre{padding: 0;}#sk-container-id-1 div.sk-toggleable {background-color: white;}#sk-container-id-1 label.sk-toggleable__label {cursor: pointer;display: block;width: 100%;margin-bottom: 0;padding: 0.3em;box-sizing: border-box;text-align: center;}#sk-container-id-1 label.sk-toggleable__label-arrow:before {content: \"▸\";float: left;margin-right: 0.25em;color: #696969;}#sk-container-id-1 label.sk-toggleable__label-arrow:hover:before {color: black;}#sk-container-id-1 div.sk-estimator:hover label.sk-toggleable__label-arrow:before {color: black;}#sk-container-id-1 div.sk-toggleable__content {max-height: 0;max-width: 0;overflow: hidden;text-align: left;background-color: #f0f8ff;}#sk-container-id-1 div.sk-toggleable__content pre {margin: 0.2em;color: black;border-radius: 0.25em;background-color: #f0f8ff;}#sk-container-id-1 input.sk-toggleable__control:checked~div.sk-toggleable__content {max-height: 200px;max-width: 100%;overflow: auto;}#sk-container-id-1 input.sk-toggleable__control:checked~label.sk-toggleable__label-arrow:before {content: \"▾\";}#sk-container-id-1 div.sk-estimator input.sk-toggleable__control:checked~label.sk-toggleable__label {background-color: #d4ebff;}#sk-container-id-1 div.sk-label input.sk-toggleable__control:checked~label.sk-toggleable__label {background-color: #d4ebff;}#sk-container-id-1 input.sk-hidden--visually {border: 0;clip: rect(1px 1px 1px 1px);clip: rect(1px, 1px, 1px, 1px);height: 1px;margin: -1px;overflow: hidden;padding: 0;position: absolute;width: 1px;}#sk-container-id-1 div.sk-estimator {font-family: monospace;background-color: #f0f8ff;border: 1px dotted black;border-radius: 0.25em;box-sizing: border-box;margin-bottom: 0.5em;}#sk-container-id-1 div.sk-estimator:hover {background-color: #d4ebff;}#sk-container-id-1 div.sk-parallel-item::after {content: \"\";width: 100%;border-bottom: 1px solid gray;flex-grow: 1;}#sk-container-id-1 div.sk-label:hover label.sk-toggleable__label {background-color: #d4ebff;}#sk-container-id-1 div.sk-serial::before {content: \"\";position: absolute;border-left: 1px solid gray;box-sizing: border-box;top: 0;bottom: 0;left: 50%;z-index: 0;}#sk-container-id-1 div.sk-serial {display: flex;flex-direction: column;align-items: center;background-color: white;padding-right: 0.2em;padding-left: 0.2em;position: relative;}#sk-container-id-1 div.sk-item {position: relative;z-index: 1;}#sk-container-id-1 div.sk-parallel {display: flex;align-items: stretch;justify-content: center;background-color: white;position: relative;}#sk-container-id-1 div.sk-item::before, #sk-container-id-1 div.sk-parallel-item::before {content: \"\";position: absolute;border-left: 1px solid gray;box-sizing: border-box;top: 0;bottom: 0;left: 50%;z-index: -1;}#sk-container-id-1 div.sk-parallel-item {display: flex;flex-direction: column;z-index: 1;position: relative;background-color: white;}#sk-container-id-1 div.sk-parallel-item:first-child::after {align-self: flex-end;width: 50%;}#sk-container-id-1 div.sk-parallel-item:last-child::after {align-self: flex-start;width: 50%;}#sk-container-id-1 div.sk-parallel-item:only-child::after {width: 0;}#sk-container-id-1 div.sk-dashed-wrapped {border: 1px dashed gray;margin: 0 0.4em 0.5em 0.4em;box-sizing: border-box;padding-bottom: 0.4em;background-color: white;}#sk-container-id-1 div.sk-label label {font-family: monospace;font-weight: bold;display: inline-block;line-height: 1.2em;}#sk-container-id-1 div.sk-label-container {text-align: center;}#sk-container-id-1 div.sk-container {/* jupyter's `normalize.less` sets `[hidden] { display: none; }` but bootstrap.min.css set `[hidden] { display: none !important; }` so we also need the `!important` here to be able to override the default hidden behavior on the sphinx rendered scikit-learn.org. See: https://github.com/scikit-learn/scikit-learn/issues/21755 */display: inline-block !important;position: relative;}#sk-container-id-1 div.sk-text-repr-fallback {display: none;}</style><div id=\"sk-container-id-1\" class=\"sk-top-container\"><div class=\"sk-text-repr-fallback\"><pre>KMeans(n_clusters=3)</pre><b>In a Jupyter environment, please rerun this cell to show the HTML representation or trust the notebook. <br />On GitHub, the HTML representation is unable to render, please try loading this page with nbviewer.org.</b></div><div class=\"sk-container\" hidden><div class=\"sk-item\"><div class=\"sk-estimator sk-toggleable\"><input class=\"sk-toggleable__control sk-hidden--visually\" id=\"sk-estimator-id-1\" type=\"checkbox\" checked><label for=\"sk-estimator-id-1\" class=\"sk-toggleable__label sk-toggleable__label-arrow\">KMeans</label><div class=\"sk-toggleable__content\"><pre>KMeans(n_clusters=3)</pre></div></div></div></div></div>"
      ],
      "text/plain": [
       "KMeans(n_clusters=3)"
      ]
     },
     "execution_count": 28,
     "metadata": {},
     "output_type": "execute_result"
    }
   ],
   "source": [
    "model = KMeans(n_clusters= 3)\n",
    "model.fit(X_train)\n"
   ]
  },
  {
   "cell_type": "code",
   "execution_count": 29,
   "id": "1b7ed3d2",
   "metadata": {
    "execution": {
     "iopub.execute_input": "2024-12-01T09:00:02.969328Z",
     "iopub.status.busy": "2024-12-01T09:00:02.968873Z",
     "iopub.status.idle": "2024-12-01T09:00:02.985297Z",
     "shell.execute_reply": "2024-12-01T09:00:02.984352Z"
    },
    "papermill": {
     "duration": 0.030548,
     "end_time": "2024-12-01T09:00:02.987882",
     "exception": false,
     "start_time": "2024-12-01T09:00:02.957334",
     "status": "completed"
    },
    "tags": []
   },
   "outputs": [
    {
     "data": {
      "text/plain": [
       "array([1, 2, 2, ..., 1, 2, 1], dtype=int32)"
      ]
     },
     "execution_count": 29,
     "metadata": {},
     "output_type": "execute_result"
    }
   ],
   "source": [
    "pred = model.predict(X_test)\n",
    "pred"
   ]
  },
  {
   "cell_type": "code",
   "execution_count": 30,
   "id": "20e44fbe",
   "metadata": {
    "execution": {
     "iopub.execute_input": "2024-12-01T09:00:03.012835Z",
     "iopub.status.busy": "2024-12-01T09:00:03.012444Z",
     "iopub.status.idle": "2024-12-01T09:00:05.164159Z",
     "shell.execute_reply": "2024-12-01T09:00:05.162873Z"
    },
    "papermill": {
     "duration": 2.166624,
     "end_time": "2024-12-01T09:00:05.167185",
     "exception": false,
     "start_time": "2024-12-01T09:00:03.000561",
     "status": "completed"
    },
    "tags": []
   },
   "outputs": [
    {
     "name": "stderr",
     "output_type": "stream",
     "text": [
      "/opt/conda/lib/python3.10/site-packages/sklearn/base.py:439: UserWarning: X does not have valid feature names, but PCA was fitted with feature names\n",
      "  warnings.warn(\n"
     ]
    },
    {
     "data": {
      "image/png": "[encoded data removed]",
      "text/plain": [
       "<Figure size 800x600 with 1 Axes>"
      ]
     },
     "metadata": {},
     "output_type": "display_data"
    }
   ],
   "source": [
    "pca = PCA(n_components=2)\n",
    "\n",
    "X_test_2d = pca.fit_transform(X_test)\n",
    "centroids_2d = pca.transform(model.cluster_centers_)\n",
    "\n",
    "plt.figure(figsize=(8, 6))\n",
    "\n",
    "plt.scatter(X_test_2d[:, 0], X_test_2d[:, 1], c=pred, cmap='viridis', marker='o')\n",
    "\n",
    "\n",
    "plt.scatter(centroids_2d[:, 0], centroids_2d[:, 1], c='red', s=200, marker='X', label='Centroids')\n",
    "\n",
    "plt.title(\"K-Means Clustering on Test Data (PCA-reduced)\")\n",
    "plt.xlabel(\"PCA 1\")\n",
    "plt.ylabel(\"PCA 2\")\n",
    "plt.legend()\n",
    "plt.show()\n"
   ]
  }
 ],
 "metadata": {
  "kaggle": {
   "accelerator": "none",
   "dataSources": [
    {
     "datasetId": 3543715,
     "sourceId": 6175641,
     "sourceType": "datasetVersion"
    }
   ],
   "dockerImageVersionId": 30786,
   "isGpuEnabled": false,
   "isInternetEnabled": true,
   "language": "python",
   "sourceType": "notebook"
  },
  "kernelspec": {
   "display_name": "Python 3",
   "language": "python",
   "name": "python3"
  },
  "language_info": {
   "codemirror_mode": {
    "name": "ipython",
    "version": 3
   },
   "file_extension": ".py",
   "mimetype": "text/x-python",
   "name": "python",
   "nbconvert_exporter": "python",
   "pygments_lexer": "ipython3",
   "version": "3.10.14"
  },
  "papermill": {
   "default_parameters": {},
   "duration": 29.082643,
   "end_time": "2024-12-01T09:00:06.005810",
   "environment_variables": {},
   "exception": null,
   "input_path": "__notebook__.ipynb",
   "output_path": "__notebook__.ipynb",
   "parameters": {},
   "start_time": "2024-12-01T08:59:36.923167",
   "version": "2.6.0"
  }
 },
 "nbformat": 4,
 "nbformat_minor": 5
}
