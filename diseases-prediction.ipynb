{
 "cells": [
  {
   "cell_type": "code",
   "execution_count": 1,
   "id": "4b8de06b",
   "metadata": {
    "_cell_guid": "b1076dfc-b9ad-4769-8c92-a6c4dae69d19",
    "_uuid": "8f2839f25d086af736a60e9eeb907d3b93b6e0e5",
    "execution": {
     "iopub.execute_input": "2024-12-17T15:29:44.972564Z",
     "iopub.status.busy": "2024-12-17T15:29:44.972137Z",
     "iopub.status.idle": "2024-12-17T15:29:45.975712Z",
     "shell.execute_reply": "2024-12-17T15:29:45.974337Z"
    },
    "papermill": {
     "duration": 1.010708,
     "end_time": "2024-12-17T15:29:45.978224",
     "exception": false,
     "start_time": "2024-12-17T15:29:44.967516",
     "status": "completed"
    },
    "tags": []
   },
   "outputs": [
    {
     "name": "stdout",
     "output_type": "stream",
     "text": [
      "/kaggle/input/disease-and-symptoms/Diseases_Symptoms.csv\n"
     ]
    }
   ],
   "source": [
    "# This Python 3 environment comes with many helpful analytics libraries installed\n",
    "# It is defined by the kaggle/python Docker image: https://github.com/kaggle/docker-python\n",
    "# For example, here's several helpful packages to load\n",
    "\n",
    "import numpy as np # linear algebra\n",
    "import pandas as pd # data processing, CSV file I/O (e.g. pd.read_csv)\n",
    "\n",
    "# Input data files are available in the read-only \"../input/\" directory\n",
    "# For example, running this (by clicking run or pressing Shift+Enter) will list all files under the input directory\n",
    "\n",
    "import os\n",
    "for dirname, _, filenames in os.walk('/kaggle/input'):\n",
    "    for filename in filenames:\n",
    "        print(os.path.join(dirname, filename))\n",
    "\n",
    "# You can write up to 20GB to the current directory (/kaggle/working/) that gets preserved as output when you create a version using \"Save & Run All\" \n",
    "# You can also write temporary files to /kaggle/temp/, but they won't be saved outside of the current session"
   ]
  },
  {
   "cell_type": "code",
   "execution_count": 2,
   "id": "e8c8cb3b",
   "metadata": {
    "execution": {
     "iopub.execute_input": "2024-12-17T15:29:45.984956Z",
     "iopub.status.busy": "2024-12-17T15:29:45.984423Z",
     "iopub.status.idle": "2024-12-17T15:29:46.009205Z",
     "shell.execute_reply": "2024-12-17T15:29:46.008067Z"
    },
    "papermill": {
     "duration": 0.031036,
     "end_time": "2024-12-17T15:29:46.011832",
     "exception": false,
     "start_time": "2024-12-17T15:29:45.980796",
     "status": "completed"
    },
    "tags": []
   },
   "outputs": [],
   "source": [
    "disease = pd.read_csv(\"/kaggle/input/disease-and-symptoms/Diseases_Symptoms.csv\")"
   ]
  },
  {
   "cell_type": "code",
   "execution_count": 3,
   "id": "37e3128a",
   "metadata": {
    "execution": {
     "iopub.execute_input": "2024-12-17T15:29:46.018813Z",
     "iopub.status.busy": "2024-12-17T15:29:46.017702Z",
     "iopub.status.idle": "2024-12-17T15:29:46.037128Z",
     "shell.execute_reply": "2024-12-17T15:29:46.036036Z"
    },
    "papermill": {
     "duration": 0.025526,
     "end_time": "2024-12-17T15:29:46.039665",
     "exception": false,
     "start_time": "2024-12-17T15:29:46.014139",
     "status": "completed"
    },
    "tags": []
   },
   "outputs": [
    {
     "data": {
      "text/html": [
       "<div>\n",
       "<style scoped>\n",
       "    .dataframe tbody tr th:only-of-type {\n",
       "        vertical-align: middle;\n",
       "    }\n",
       "\n",
       "    .dataframe tbody tr th {\n",
       "        vertical-align: top;\n",
       "    }\n",
       "\n",
       "    .dataframe thead th {\n",
       "        text-align: right;\n",
       "    }\n",
       "</style>\n",
       "<table border=\"1\" class=\"dataframe\">\n",
       "  <thead>\n",
       "    <tr style=\"text-align: right;\">\n",
       "      <th></th>\n",
       "      <th>Code</th>\n",
       "      <th>Name</th>\n",
       "      <th>Symptoms</th>\n",
       "      <th>Treatments</th>\n",
       "    </tr>\n",
       "  </thead>\n",
       "  <tbody>\n",
       "    <tr>\n",
       "      <th>0</th>\n",
       "      <td>1</td>\n",
       "      <td>Panic disorder</td>\n",
       "      <td>Palpitations, Sweating, Trembling, Shortness o...</td>\n",
       "      <td>Antidepressant medications, Cognitive Behavior...</td>\n",
       "    </tr>\n",
       "    <tr>\n",
       "      <th>1</th>\n",
       "      <td>2</td>\n",
       "      <td>Vocal cord polyp</td>\n",
       "      <td>Hoarseness, Vocal Changes, Vocal Fatigue</td>\n",
       "      <td>Voice Rest, Speech Therapy, Surgical Removal</td>\n",
       "    </tr>\n",
       "    <tr>\n",
       "      <th>2</th>\n",
       "      <td>3</td>\n",
       "      <td>Turner syndrome</td>\n",
       "      <td>Short stature, Gonadal dysgenesis, Webbed neck...</td>\n",
       "      <td>Growth hormone therapy, Estrogen replacement t...</td>\n",
       "    </tr>\n",
       "    <tr>\n",
       "      <th>3</th>\n",
       "      <td>4</td>\n",
       "      <td>Cryptorchidism</td>\n",
       "      <td>Absence or undescended testicle(s), empty scro...</td>\n",
       "      <td>Observation and monitoring (in cases of mild o...</td>\n",
       "    </tr>\n",
       "    <tr>\n",
       "      <th>4</th>\n",
       "      <td>5</td>\n",
       "      <td>Ethylene glycol poisoning-1</td>\n",
       "      <td>Nausea, vomiting, abdominal pain, General mala...</td>\n",
       "      <td>Supportive Measures, Gastric Decontamination, ...</td>\n",
       "    </tr>\n",
       "  </tbody>\n",
       "</table>\n",
       "</div>"
      ],
      "text/plain": [
       "   Code                         Name  \\\n",
       "0     1               Panic disorder   \n",
       "1     2             Vocal cord polyp   \n",
       "2     3              Turner syndrome   \n",
       "3     4               Cryptorchidism   \n",
       "4     5  Ethylene glycol poisoning-1   \n",
       "\n",
       "                                            Symptoms  \\\n",
       "0  Palpitations, Sweating, Trembling, Shortness o...   \n",
       "1           Hoarseness, Vocal Changes, Vocal Fatigue   \n",
       "2  Short stature, Gonadal dysgenesis, Webbed neck...   \n",
       "3  Absence or undescended testicle(s), empty scro...   \n",
       "4  Nausea, vomiting, abdominal pain, General mala...   \n",
       "\n",
       "                                          Treatments  \n",
       "0  Antidepressant medications, Cognitive Behavior...  \n",
       "1       Voice Rest, Speech Therapy, Surgical Removal  \n",
       "2  Growth hormone therapy, Estrogen replacement t...  \n",
       "3  Observation and monitoring (in cases of mild o...  \n",
       "4  Supportive Measures, Gastric Decontamination, ...  "
      ]
     },
     "execution_count": 3,
     "metadata": {},
     "output_type": "execute_result"
    }
   ],
   "source": [
    "disease.head()"
   ]
  },
  {
   "cell_type": "code",
   "execution_count": 4,
   "id": "ce8b23ca",
   "metadata": {
    "execution": {
     "iopub.execute_input": "2024-12-17T15:29:46.046803Z",
     "iopub.status.busy": "2024-12-17T15:29:46.046402Z",
     "iopub.status.idle": "2024-12-17T15:29:48.353308Z",
     "shell.execute_reply": "2024-12-17T15:29:48.352065Z"
    },
    "papermill": {
     "duration": 2.313375,
     "end_time": "2024-12-17T15:29:48.355776",
     "exception": false,
     "start_time": "2024-12-17T15:29:46.042401",
     "status": "completed"
    },
    "tags": []
   },
   "outputs": [
    {
     "name": "stdout",
     "output_type": "stream",
     "text": [
      "[nltk_data] Downloading package stopwords to /usr/share/nltk_data...\n",
      "[nltk_data]   Package stopwords is already up-to-date!\n",
      "[nltk_data] Downloading package punkt to /usr/share/nltk_data...\n",
      "[nltk_data]   Package punkt is already up-to-date!\n"
     ]
    }
   ],
   "source": [
    "import nltk\n",
    "nltk.download(\"stopwords\")\n",
    "nltk.download(\"punkt\")\n",
    "from nltk.stem import WordNetLemmatizer\n",
    "from sklearn.feature_extraction.text import TfidfVectorizer\n",
    "from sklearn.naive_bayes import GaussianNB"
   ]
  },
  {
   "cell_type": "code",
   "execution_count": 5,
   "id": "4a0a74fe",
   "metadata": {
    "execution": {
     "iopub.execute_input": "2024-12-17T15:29:48.363089Z",
     "iopub.status.busy": "2024-12-17T15:29:48.362547Z",
     "iopub.status.idle": "2024-12-17T15:29:48.370141Z",
     "shell.execute_reply": "2024-12-17T15:29:48.369060Z"
    },
    "papermill": {
     "duration": 0.0139,
     "end_time": "2024-12-17T15:29:48.372556",
     "exception": false,
     "start_time": "2024-12-17T15:29:48.358656",
     "status": "completed"
    },
    "tags": []
   },
   "outputs": [],
   "source": [
    "disease['Name'] = disease['Name'].str.lower()"
   ]
  },
  {
   "cell_type": "code",
   "execution_count": 6,
   "id": "87ca4a0e",
   "metadata": {
    "execution": {
     "iopub.execute_input": "2024-12-17T15:29:48.379837Z",
     "iopub.status.busy": "2024-12-17T15:29:48.379371Z",
     "iopub.status.idle": "2024-12-17T15:29:48.386349Z",
     "shell.execute_reply": "2024-12-17T15:29:48.385092Z"
    },
    "papermill": {
     "duration": 0.013414,
     "end_time": "2024-12-17T15:29:48.388673",
     "exception": false,
     "start_time": "2024-12-17T15:29:48.375259",
     "status": "completed"
    },
    "tags": []
   },
   "outputs": [],
   "source": [
    "disease['Symptoms'] = disease['Symptoms'].str.lower()\n"
   ]
  }
 ],
 "metadata": {
  "kaggle": {
   "accelerator": "none",
   "dataSources": [
    {
     "datasetId": 5926505,
     "sourceId": 9693441,
     "sourceType": "datasetVersion"
    }
   ],
   "dockerImageVersionId": 30804,
   "isGpuEnabled": false,
   "isInternetEnabled": true,
   "language": "python",
   "sourceType": "notebook"
  },
  "kernelspec": {
   "display_name": "Python 3",
   "language": "python",
   "name": "python3"
  },
  "language_info": {
   "codemirror_mode": {
    "name": "ipython",
    "version": 3
   },
   "file_extension": ".py",
   "mimetype": "text/x-python",
   "name": "python",
   "nbconvert_exporter": "python",
   "pygments_lexer": "ipython3",
   "version": "3.10.14"
  },
  "papermill": {
   "default_parameters": {},
   "duration": 6.883477,
   "end_time": "2024-12-17T15:29:49.113619",
   "environment_variables": {},
   "exception": null,
   "input_path": "__notebook__.ipynb",
   "output_path": "__notebook__.ipynb",
   "parameters": {},
   "start_time": "2024-12-17T15:29:42.230142",
   "version": "2.6.0"
  }
 },
 "nbformat": 4,
 "nbformat_minor": 5
}
