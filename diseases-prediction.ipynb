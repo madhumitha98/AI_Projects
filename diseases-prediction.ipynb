{
 "cells": [
  {
   "cell_type": "code",
   "execution_count": 1,
   "id": "9449a032",
   "metadata": {
    "_cell_guid": "b1076dfc-b9ad-4769-8c92-a6c4dae69d19",
    "_uuid": "8f2839f25d086af736a60e9eeb907d3b93b6e0e5",
    "execution": {
     "iopub.execute_input": "2024-12-18T15:41:28.734653Z",
     "iopub.status.busy": "2024-12-18T15:41:28.734126Z",
     "iopub.status.idle": "2024-12-18T15:41:29.609595Z",
     "shell.execute_reply": "2024-12-18T15:41:29.607737Z"
    },
    "papermill": {
     "duration": 0.884331,
     "end_time": "2024-12-18T15:41:29.612025",
     "exception": false,
     "start_time": "2024-12-18T15:41:28.727694",
     "status": "completed"
    },
    "tags": []
   },
   "outputs": [
    {
     "name": "stdout",
     "output_type": "stream",
     "text": [
      "/kaggle/input/disease-and-symptoms/Diseases_Symptoms.csv\n"
     ]
    }
   ],
   "source": [
    "# This Python 3 environment comes with many helpful analytics libraries installed\n",
    "# It is defined by the kaggle/python Docker image: https://github.com/kaggle/docker-python\n",
    "# For example, here's several helpful packages to load\n",
    "\n",
    "import numpy as np # linear algebra\n",
    "import pandas as pd # data processing, CSV file I/O (e.g. pd.read_csv)\n",
    "\n",
    "# Input data files are available in the read-only \"../input/\" directory\n",
    "# For example, running this (by clicking run or pressing Shift+Enter) will list all files under the input directory\n",
    "\n",
    "import os\n",
    "for dirname, _, filenames in os.walk('/kaggle/input'):\n",
    "    for filename in filenames:\n",
    "        print(os.path.join(dirname, filename))\n",
    "\n",
    "# You can write up to 20GB to the current directory (/kaggle/working/) that gets preserved as output when you create a version using \"Save & Run All\" \n",
    "# You can also write temporary files to /kaggle/temp/, but they won't be saved outside of the current session"
   ]
  },
  {
   "cell_type": "code",
   "execution_count": 2,
   "id": "509173e4",
   "metadata": {
    "execution": {
     "iopub.execute_input": "2024-12-18T15:41:29.622290Z",
     "iopub.status.busy": "2024-12-18T15:41:29.621160Z",
     "iopub.status.idle": "2024-12-18T15:41:29.648408Z",
     "shell.execute_reply": "2024-12-18T15:41:29.647164Z"
    },
    "papermill": {
     "duration": 0.035235,
     "end_time": "2024-12-18T15:41:29.651018",
     "exception": false,
     "start_time": "2024-12-18T15:41:29.615783",
     "status": "completed"
    },
    "tags": []
   },
   "outputs": [],
   "source": [
    "disease = pd.read_csv(\"/kaggle/input/disease-and-symptoms/Diseases_Symptoms.csv\")"
   ]
  },
  {
   "cell_type": "code",
   "execution_count": 3,
   "id": "e4b0c18b",
   "metadata": {
    "execution": {
     "iopub.execute_input": "2024-12-18T15:41:29.660137Z",
     "iopub.status.busy": "2024-12-18T15:41:29.659763Z",
     "iopub.status.idle": "2024-12-18T15:41:29.678673Z",
     "shell.execute_reply": "2024-12-18T15:41:29.677445Z"
    },
    "papermill": {
     "duration": 0.026474,
     "end_time": "2024-12-18T15:41:29.681293",
     "exception": false,
     "start_time": "2024-12-18T15:41:29.654819",
     "status": "completed"
    },
    "tags": []
   },
   "outputs": [
    {
     "data": {
      "text/html": [
       "<div>\n",
       "<style scoped>\n",
       "    .dataframe tbody tr th:only-of-type {\n",
       "        vertical-align: middle;\n",
       "    }\n",
       "\n",
       "    .dataframe tbody tr th {\n",
       "        vertical-align: top;\n",
       "    }\n",
       "\n",
       "    .dataframe thead th {\n",
       "        text-align: right;\n",
       "    }\n",
       "</style>\n",
       "<table border=\"1\" class=\"dataframe\">\n",
       "  <thead>\n",
       "    <tr style=\"text-align: right;\">\n",
       "      <th></th>\n",
       "      <th>Code</th>\n",
       "      <th>Name</th>\n",
       "      <th>Symptoms</th>\n",
       "      <th>Treatments</th>\n",
       "    </tr>\n",
       "  </thead>\n",
       "  <tbody>\n",
       "    <tr>\n",
       "      <th>0</th>\n",
       "      <td>1</td>\n",
       "      <td>Panic disorder</td>\n",
       "      <td>Palpitations, Sweating, Trembling, Shortness o...</td>\n",
       "      <td>Antidepressant medications, Cognitive Behavior...</td>\n",
       "    </tr>\n",
       "    <tr>\n",
       "      <th>1</th>\n",
       "      <td>2</td>\n",
       "      <td>Vocal cord polyp</td>\n",
       "      <td>Hoarseness, Vocal Changes, Vocal Fatigue</td>\n",
       "      <td>Voice Rest, Speech Therapy, Surgical Removal</td>\n",
       "    </tr>\n",
       "    <tr>\n",
       "      <th>2</th>\n",
       "      <td>3</td>\n",
       "      <td>Turner syndrome</td>\n",
       "      <td>Short stature, Gonadal dysgenesis, Webbed neck...</td>\n",
       "      <td>Growth hormone therapy, Estrogen replacement t...</td>\n",
       "    </tr>\n",
       "    <tr>\n",
       "      <th>3</th>\n",
       "      <td>4</td>\n",
       "      <td>Cryptorchidism</td>\n",
       "      <td>Absence or undescended testicle(s), empty scro...</td>\n",
       "      <td>Observation and monitoring (in cases of mild o...</td>\n",
       "    </tr>\n",
       "    <tr>\n",
       "      <th>4</th>\n",
       "      <td>5</td>\n",
       "      <td>Ethylene glycol poisoning-1</td>\n",
       "      <td>Nausea, vomiting, abdominal pain, General mala...</td>\n",
       "      <td>Supportive Measures, Gastric Decontamination, ...</td>\n",
       "    </tr>\n",
       "  </tbody>\n",
       "</table>\n",
       "</div>"
      ],
      "text/plain": [
       "   Code                         Name  \\\n",
       "0     1               Panic disorder   \n",
       "1     2             Vocal cord polyp   \n",
       "2     3              Turner syndrome   \n",
       "3     4               Cryptorchidism   \n",
       "4     5  Ethylene glycol poisoning-1   \n",
       "\n",
       "                                            Symptoms  \\\n",
       "0  Palpitations, Sweating, Trembling, Shortness o...   \n",
       "1           Hoarseness, Vocal Changes, Vocal Fatigue   \n",
       "2  Short stature, Gonadal dysgenesis, Webbed neck...   \n",
       "3  Absence or undescended testicle(s), empty scro...   \n",
       "4  Nausea, vomiting, abdominal pain, General mala...   \n",
       "\n",
       "                                          Treatments  \n",
       "0  Antidepressant medications, Cognitive Behavior...  \n",
       "1       Voice Rest, Speech Therapy, Surgical Removal  \n",
       "2  Growth hormone therapy, Estrogen replacement t...  \n",
       "3  Observation and monitoring (in cases of mild o...  \n",
       "4  Supportive Measures, Gastric Decontamination, ...  "
      ]
     },
     "execution_count": 3,
     "metadata": {},
     "output_type": "execute_result"
    }
   ],
   "source": [
    "disease.head()"
   ]
  },
  {
   "cell_type": "code",
   "execution_count": 4,
   "id": "2cca92da",
   "metadata": {
    "execution": {
     "iopub.execute_input": "2024-12-18T15:41:29.691271Z",
     "iopub.status.busy": "2024-12-18T15:41:29.690886Z",
     "iopub.status.idle": "2024-12-18T15:41:31.921673Z",
     "shell.execute_reply": "2024-12-18T15:41:31.919856Z"
    },
    "papermill": {
     "duration": 2.238745,
     "end_time": "2024-12-18T15:41:31.924301",
     "exception": false,
     "start_time": "2024-12-18T15:41:29.685556",
     "status": "completed"
    },
    "tags": []
   },
   "outputs": [
    {
     "name": "stdout",
     "output_type": "stream",
     "text": [
      "[nltk_data] Downloading package stopwords to /usr/share/nltk_data...\n",
      "[nltk_data]   Package stopwords is already up-to-date!\n",
      "[nltk_data] Downloading package punkt to /usr/share/nltk_data...\n",
      "[nltk_data]   Package punkt is already up-to-date!\n"
     ]
    }
   ],
   "source": [
    "import nltk\n",
    "nltk.download(\"stopwords\")\n",
    "nltk.download(\"punkt\")\n",
    "from nltk.stem import WordNetLemmatizer\n",
    "from nltk.tokenize import word_tokenize\n",
    "from sklearn.feature_extraction.text import TfidfVectorizer\n",
    "from sklearn.naive_bayes import GaussianNB"
   ]
  },
  {
   "cell_type": "markdown",
   "id": "68438784",
   "metadata": {
    "papermill": {
     "duration": 0.003605,
     "end_time": "2024-12-18T15:41:31.932073",
     "exception": false,
     "start_time": "2024-12-18T15:41:31.928468",
     "status": "completed"
    },
    "tags": []
   },
   "source": [
    "# Text Pre Processing"
   ]
  },
  {
   "cell_type": "code",
   "execution_count": 5,
   "id": "b5728989",
   "metadata": {
    "execution": {
     "iopub.execute_input": "2024-12-18T15:41:31.943152Z",
     "iopub.status.busy": "2024-12-18T15:41:31.942504Z",
     "iopub.status.idle": "2024-12-18T15:41:31.952110Z",
     "shell.execute_reply": "2024-12-18T15:41:31.951000Z"
    },
    "papermill": {
     "duration": 0.018528,
     "end_time": "2024-12-18T15:41:31.954427",
     "exception": false,
     "start_time": "2024-12-18T15:41:31.935899",
     "status": "completed"
    },
    "tags": []
   },
   "outputs": [],
   "source": [
    "disease['Name'] = disease['Name'].str.lower()\n",
    "disease['Symptoms'] = disease['Symptoms'].str.lower()\n",
    "disease['Treatments'] = disease['Treatments'].str.lower()"
   ]
  },
  {
   "cell_type": "code",
   "execution_count": 6,
   "id": "0c8ba1fe",
   "metadata": {
    "execution": {
     "iopub.execute_input": "2024-12-18T15:41:31.964036Z",
     "iopub.status.busy": "2024-12-18T15:41:31.963591Z",
     "iopub.status.idle": "2024-12-18T15:41:31.969533Z",
     "shell.execute_reply": "2024-12-18T15:41:31.967922Z"
    },
    "papermill": {
     "duration": 0.013551,
     "end_time": "2024-12-18T15:41:31.971882",
     "exception": false,
     "start_time": "2024-12-18T15:41:31.958331",
     "status": "completed"
    },
    "tags": []
   },
   "outputs": [],
   "source": [
    "import re"
   ]
  },
  {
   "cell_type": "code",
   "execution_count": 7,
   "id": "c818bd5d",
   "metadata": {
    "execution": {
     "iopub.execute_input": "2024-12-18T15:41:31.981737Z",
     "iopub.status.busy": "2024-12-18T15:41:31.981228Z",
     "iopub.status.idle": "2024-12-18T15:41:31.990560Z",
     "shell.execute_reply": "2024-12-18T15:41:31.989292Z"
    },
    "papermill": {
     "duration": 0.017023,
     "end_time": "2024-12-18T15:41:31.992775",
     "exception": false,
     "start_time": "2024-12-18T15:41:31.975752",
     "status": "completed"
    },
    "tags": []
   },
   "outputs": [
    {
     "data": {
      "text/plain": [
       "Code           int64\n",
       "Name          object\n",
       "Symptoms      object\n",
       "Treatments    object\n",
       "dtype: object"
      ]
     },
     "execution_count": 7,
     "metadata": {},
     "output_type": "execute_result"
    }
   ],
   "source": [
    "disease.dtypes"
   ]
  },
  {
   "cell_type": "code",
   "execution_count": 8,
   "id": "f14f4403",
   "metadata": {
    "execution": {
     "iopub.execute_input": "2024-12-18T15:41:32.003753Z",
     "iopub.status.busy": "2024-12-18T15:41:32.003261Z",
     "iopub.status.idle": "2024-12-18T15:41:32.009656Z",
     "shell.execute_reply": "2024-12-18T15:41:32.008312Z"
    },
    "papermill": {
     "duration": 0.015013,
     "end_time": "2024-12-18T15:41:32.011976",
     "exception": false,
     "start_time": "2024-12-18T15:41:31.996963",
     "status": "completed"
    },
    "tags": []
   },
   "outputs": [],
   "source": [
    "def remove_comma(text):\n",
    "    if isinstance(text, str):  # Check if the input is a string\n",
    "        return text.replace(\",\", \"\")\n",
    "    return text  "
   ]
  },
  {
   "cell_type": "code",
   "execution_count": 9,
   "id": "9613e6f4",
   "metadata": {
    "execution": {
     "iopub.execute_input": "2024-12-18T15:41:32.023402Z",
     "iopub.status.busy": "2024-12-18T15:41:32.022957Z",
     "iopub.status.idle": "2024-12-18T15:41:32.031061Z",
     "shell.execute_reply": "2024-12-18T15:41:32.029791Z"
    },
    "papermill": {
     "duration": 0.017043,
     "end_time": "2024-12-18T15:41:32.033294",
     "exception": false,
     "start_time": "2024-12-18T15:41:32.016251",
     "status": "completed"
    },
    "tags": []
   },
   "outputs": [],
   "source": [
    "disease['Treatments'] = disease['Treatments'].apply(remove_comma)\n",
    "disease['Symptoms'] = disease['Symptoms'].apply(remove_comma)"
   ]
  },
  {
   "cell_type": "code",
   "execution_count": 10,
   "id": "d99cf4aa",
   "metadata": {
    "execution": {
     "iopub.execute_input": "2024-12-18T15:41:32.043903Z",
     "iopub.status.busy": "2024-12-18T15:41:32.043458Z",
     "iopub.status.idle": "2024-12-18T15:41:32.056845Z",
     "shell.execute_reply": "2024-12-18T15:41:32.055665Z"
    },
    "papermill": {
     "duration": 0.022029,
     "end_time": "2024-12-18T15:41:32.059618",
     "exception": false,
     "start_time": "2024-12-18T15:41:32.037589",
     "status": "completed"
    },
    "tags": []
   },
   "outputs": [
    {
     "data": {
      "text/html": [
       "<div>\n",
       "<style scoped>\n",
       "    .dataframe tbody tr th:only-of-type {\n",
       "        vertical-align: middle;\n",
       "    }\n",
       "\n",
       "    .dataframe tbody tr th {\n",
       "        vertical-align: top;\n",
       "    }\n",
       "\n",
       "    .dataframe thead th {\n",
       "        text-align: right;\n",
       "    }\n",
       "</style>\n",
       "<table border=\"1\" class=\"dataframe\">\n",
       "  <thead>\n",
       "    <tr style=\"text-align: right;\">\n",
       "      <th></th>\n",
       "      <th>Code</th>\n",
       "      <th>Name</th>\n",
       "      <th>Symptoms</th>\n",
       "      <th>Treatments</th>\n",
       "    </tr>\n",
       "  </thead>\n",
       "  <tbody>\n",
       "    <tr>\n",
       "      <th>0</th>\n",
       "      <td>1</td>\n",
       "      <td>panic disorder</td>\n",
       "      <td>palpitations sweating trembling shortness of b...</td>\n",
       "      <td>antidepressant medications cognitive behaviora...</td>\n",
       "    </tr>\n",
       "    <tr>\n",
       "      <th>1</th>\n",
       "      <td>2</td>\n",
       "      <td>vocal cord polyp</td>\n",
       "      <td>hoarseness vocal changes vocal fatigue</td>\n",
       "      <td>voice rest speech therapy surgical removal</td>\n",
       "    </tr>\n",
       "    <tr>\n",
       "      <th>2</th>\n",
       "      <td>3</td>\n",
       "      <td>turner syndrome</td>\n",
       "      <td>short stature gonadal dysgenesis webbed neck l...</td>\n",
       "      <td>growth hormone therapy estrogen replacement th...</td>\n",
       "    </tr>\n",
       "    <tr>\n",
       "      <th>3</th>\n",
       "      <td>4</td>\n",
       "      <td>cryptorchidism</td>\n",
       "      <td>absence or undescended testicle(s) empty scrot...</td>\n",
       "      <td>observation and monitoring (in cases of mild o...</td>\n",
       "    </tr>\n",
       "    <tr>\n",
       "      <th>4</th>\n",
       "      <td>5</td>\n",
       "      <td>ethylene glycol poisoning-1</td>\n",
       "      <td>nausea vomiting abdominal pain general malaise...</td>\n",
       "      <td>supportive measures gastric decontamination an...</td>\n",
       "    </tr>\n",
       "  </tbody>\n",
       "</table>\n",
       "</div>"
      ],
      "text/plain": [
       "   Code                         Name  \\\n",
       "0     1               panic disorder   \n",
       "1     2             vocal cord polyp   \n",
       "2     3              turner syndrome   \n",
       "3     4               cryptorchidism   \n",
       "4     5  ethylene glycol poisoning-1   \n",
       "\n",
       "                                            Symptoms  \\\n",
       "0  palpitations sweating trembling shortness of b...   \n",
       "1             hoarseness vocal changes vocal fatigue   \n",
       "2  short stature gonadal dysgenesis webbed neck l...   \n",
       "3  absence or undescended testicle(s) empty scrot...   \n",
       "4  nausea vomiting abdominal pain general malaise...   \n",
       "\n",
       "                                          Treatments  \n",
       "0  antidepressant medications cognitive behaviora...  \n",
       "1         voice rest speech therapy surgical removal  \n",
       "2  growth hormone therapy estrogen replacement th...  \n",
       "3  observation and monitoring (in cases of mild o...  \n",
       "4  supportive measures gastric decontamination an...  "
      ]
     },
     "execution_count": 10,
     "metadata": {},
     "output_type": "execute_result"
    }
   ],
   "source": [
    "disease.head()"
   ]
  },
  {
   "cell_type": "code",
   "execution_count": 11,
   "id": "118da78f",
   "metadata": {
    "execution": {
     "iopub.execute_input": "2024-12-18T15:41:32.070415Z",
     "iopub.status.busy": "2024-12-18T15:41:32.069999Z",
     "iopub.status.idle": "2024-12-18T15:41:32.082809Z",
     "shell.execute_reply": "2024-12-18T15:41:32.081640Z"
    },
    "papermill": {
     "duration": 0.020617,
     "end_time": "2024-12-18T15:41:32.084877",
     "exception": false,
     "start_time": "2024-12-18T15:41:32.064260",
     "status": "completed"
    },
    "tags": []
   },
   "outputs": [],
   "source": [
    "disease = disease.drop(\"Code\", axis = 1)"
   ]
  },
  {
   "cell_type": "code",
   "execution_count": 12,
   "id": "a69816cd",
   "metadata": {
    "execution": {
     "iopub.execute_input": "2024-12-18T15:41:32.094789Z",
     "iopub.status.busy": "2024-12-18T15:41:32.094428Z",
     "iopub.status.idle": "2024-12-18T15:41:32.100596Z",
     "shell.execute_reply": "2024-12-18T15:41:32.099520Z"
    },
    "papermill": {
     "duration": 0.013537,
     "end_time": "2024-12-18T15:41:32.102616",
     "exception": false,
     "start_time": "2024-12-18T15:41:32.089079",
     "status": "completed"
    },
    "tags": []
   },
   "outputs": [],
   "source": [
    "y = disease['Name']\n",
    "x = disease.drop(\"Name\", axis = 1)"
   ]
  },
  {
   "cell_type": "code",
   "execution_count": 13,
   "id": "b1ea87c2",
   "metadata": {
    "execution": {
     "iopub.execute_input": "2024-12-18T15:41:32.113053Z",
     "iopub.status.busy": "2024-12-18T15:41:32.112280Z",
     "iopub.status.idle": "2024-12-18T15:41:32.117727Z",
     "shell.execute_reply": "2024-12-18T15:41:32.116665Z"
    },
    "papermill": {
     "duration": 0.013222,
     "end_time": "2024-12-18T15:41:32.119993",
     "exception": false,
     "start_time": "2024-12-18T15:41:32.106771",
     "status": "completed"
    },
    "tags": []
   },
   "outputs": [],
   "source": [
    "def lemma(text):\n",
    "    words = nltk.word_tokenize(text)\n",
    "    res = []\n",
    "    l = WordNetLemmatizer()\n",
    "    for word in words:\n",
    "        res.append(l.lemmatize(word))\n",
    "    return ' '.join(res)"
   ]
  },
  {
   "cell_type": "code",
   "execution_count": 14,
   "id": "08ce0d82",
   "metadata": {
    "execution": {
     "iopub.execute_input": "2024-12-18T15:41:32.130087Z",
     "iopub.status.busy": "2024-12-18T15:41:32.129674Z",
     "iopub.status.idle": "2024-12-18T15:41:32.135491Z",
     "shell.execute_reply": "2024-12-18T15:41:32.134410Z"
    },
    "papermill": {
     "duration": 0.013491,
     "end_time": "2024-12-18T15:41:32.137724",
     "exception": false,
     "start_time": "2024-12-18T15:41:32.124233",
     "status": "completed"
    },
    "tags": []
   },
   "outputs": [],
   "source": [
    "def stop_rev(text):\n",
    "    result = []\n",
    "    words = nltk.word_tokenize(text)\n",
    "    stop = set(stopwords.words('english'))\n",
    "    for num in words:\n",
    "        if num not in stop:\n",
    "            result.append(num)\n",
    "    return \" \".join(result)"
   ]
  }
 ],
 "metadata": {
  "kaggle": {
   "accelerator": "none",
   "dataSources": [
    {
     "datasetId": 5926505,
     "sourceId": 9693441,
     "sourceType": "datasetVersion"
    }
   ],
   "dockerImageVersionId": 30804,
   "isGpuEnabled": false,
   "isInternetEnabled": true,
   "language": "python",
   "sourceType": "notebook"
  },
  "kernelspec": {
   "display_name": "Python 3",
   "language": "python",
   "name": "python3"
  },
  "language_info": {
   "codemirror_mode": {
    "name": "ipython",
    "version": 3
   },
   "file_extension": ".py",
   "mimetype": "text/x-python",
   "name": "python",
   "nbconvert_exporter": "python",
   "pygments_lexer": "ipython3",
   "version": "3.10.14"
  },
  "papermill": {
   "default_parameters": {},
   "duration": 7.291856,
   "end_time": "2024-12-18T15:41:32.762434",
   "environment_variables": {},
   "exception": null,
   "input_path": "__notebook__.ipynb",
   "output_path": "__notebook__.ipynb",
   "parameters": {},
   "start_time": "2024-12-18T15:41:25.470578",
   "version": "2.6.0"
  }
 },
 "nbformat": 4,
 "nbformat_minor": 5
}
