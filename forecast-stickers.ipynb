{
 "cells": [
  {
   "cell_type": "code",
   "execution_count": 1,
   "id": "bf9999cd",
   "metadata": {
    "_cell_guid": "b1076dfc-b9ad-4769-8c92-a6c4dae69d19",
    "_uuid": "8f2839f25d086af736a60e9eeb907d3b93b6e0e5",
    "execution": {
     "iopub.execute_input": "2025-01-05T15:14:30.184917Z",
     "iopub.status.busy": "2025-01-05T15:14:30.184570Z",
     "iopub.status.idle": "2025-01-05T15:14:30.554706Z",
     "shell.execute_reply": "2025-01-05T15:14:30.553541Z"
    },
    "papermill": {
     "duration": 0.377818,
     "end_time": "2025-01-05T15:14:30.556387",
     "exception": false,
     "start_time": "2025-01-05T15:14:30.178569",
     "status": "completed"
    },
    "tags": []
   },
   "outputs": [
    {
     "name": "stdout",
     "output_type": "stream",
     "text": [
      "/kaggle/input/playground-series-s5e1/sample_submission.csv\n",
      "/kaggle/input/playground-series-s5e1/train.csv\n",
      "/kaggle/input/playground-series-s5e1/test.csv\n"
     ]
    }
   ],
   "source": [
    "# This Python 3 environment comes with many helpful analytics libraries installed\n",
    "# It is defined by the kaggle/python Docker image: https://github.com/kaggle/docker-python\n",
    "# For example, here's several helpful packages to load\n",
    "\n",
    "import numpy as np # linear algebra\n",
    "import pandas as pd # data processing, CSV file I/O (e.g. pd.read_csv)\n",
    "\n",
    "# Input data files are available in the read-only \"../input/\" directory\n",
    "# For example, running this (by clicking run or pressing Shift+Enter) will list all files under the input directory\n",
    "\n",
    "import os\n",
    "for dirname, _, filenames in os.walk('/kaggle/input'):\n",
    "    for filename in filenames:\n",
    "        print(os.path.join(dirname, filename))\n",
    "\n",
    "# You can write up to 20GB to the current directory (/kaggle/working/) that gets preserved as output when you create a version using \"Save & Run All\" \n",
    "# You can also write temporary files to /kaggle/temp/, but they won't be saved outside of the current session"
   ]
  },
  {
   "cell_type": "code",
   "execution_count": 2,
   "id": "a792c8ad",
   "metadata": {
    "execution": {
     "iopub.execute_input": "2025-01-05T15:14:30.567452Z",
     "iopub.status.busy": "2025-01-05T15:14:30.566930Z",
     "iopub.status.idle": "2025-01-05T15:14:30.916295Z",
     "shell.execute_reply": "2025-01-05T15:14:30.915283Z"
    },
    "papermill": {
     "duration": 0.356272,
     "end_time": "2025-01-05T15:14:30.917996",
     "exception": false,
     "start_time": "2025-01-05T15:14:30.561724",
     "status": "completed"
    },
    "tags": []
   },
   "outputs": [
    {
     "data": {
      "text/html": [
       "<div>\n",
       "<style scoped>\n",
       "    .dataframe tbody tr th:only-of-type {\n",
       "        vertical-align: middle;\n",
       "    }\n",
       "\n",
       "    .dataframe tbody tr th {\n",
       "        vertical-align: top;\n",
       "    }\n",
       "\n",
       "    .dataframe thead th {\n",
       "        text-align: right;\n",
       "    }\n",
       "</style>\n",
       "<table border=\"1\" class=\"dataframe\">\n",
       "  <thead>\n",
       "    <tr style=\"text-align: right;\">\n",
       "      <th></th>\n",
       "      <th>id</th>\n",
       "      <th>date</th>\n",
       "      <th>country</th>\n",
       "      <th>store</th>\n",
       "      <th>product</th>\n",
       "      <th>num_sold</th>\n",
       "    </tr>\n",
       "  </thead>\n",
       "  <tbody>\n",
       "    <tr>\n",
       "      <th>0</th>\n",
       "      <td>0</td>\n",
       "      <td>2010-01-01</td>\n",
       "      <td>Canada</td>\n",
       "      <td>Discount Stickers</td>\n",
       "      <td>Holographic Goose</td>\n",
       "      <td>NaN</td>\n",
       "    </tr>\n",
       "    <tr>\n",
       "      <th>1</th>\n",
       "      <td>1</td>\n",
       "      <td>2010-01-01</td>\n",
       "      <td>Canada</td>\n",
       "      <td>Discount Stickers</td>\n",
       "      <td>Kaggle</td>\n",
       "      <td>973.0</td>\n",
       "    </tr>\n",
       "    <tr>\n",
       "      <th>2</th>\n",
       "      <td>2</td>\n",
       "      <td>2010-01-01</td>\n",
       "      <td>Canada</td>\n",
       "      <td>Discount Stickers</td>\n",
       "      <td>Kaggle Tiers</td>\n",
       "      <td>906.0</td>\n",
       "    </tr>\n",
       "    <tr>\n",
       "      <th>3</th>\n",
       "      <td>3</td>\n",
       "      <td>2010-01-01</td>\n",
       "      <td>Canada</td>\n",
       "      <td>Discount Stickers</td>\n",
       "      <td>Kerneler</td>\n",
       "      <td>423.0</td>\n",
       "    </tr>\n",
       "    <tr>\n",
       "      <th>4</th>\n",
       "      <td>4</td>\n",
       "      <td>2010-01-01</td>\n",
       "      <td>Canada</td>\n",
       "      <td>Discount Stickers</td>\n",
       "      <td>Kerneler Dark Mode</td>\n",
       "      <td>491.0</td>\n",
       "    </tr>\n",
       "  </tbody>\n",
       "</table>\n",
       "</div>"
      ],
      "text/plain": [
       "   id        date country              store             product  num_sold\n",
       "0   0  2010-01-01  Canada  Discount Stickers   Holographic Goose       NaN\n",
       "1   1  2010-01-01  Canada  Discount Stickers              Kaggle     973.0\n",
       "2   2  2010-01-01  Canada  Discount Stickers        Kaggle Tiers     906.0\n",
       "3   3  2010-01-01  Canada  Discount Stickers            Kerneler     423.0\n",
       "4   4  2010-01-01  Canada  Discount Stickers  Kerneler Dark Mode     491.0"
      ]
     },
     "execution_count": 2,
     "metadata": {},
     "output_type": "execute_result"
    }
   ],
   "source": [
    "train = pd.read_csv(\"/kaggle/input/playground-series-s5e1/train.csv\")\n",
    "train.head()"
   ]
  },
  {
   "cell_type": "code",
   "execution_count": 3,
   "id": "95bddacc",
   "metadata": {
    "execution": {
     "iopub.execute_input": "2025-01-05T15:14:30.928500Z",
     "iopub.status.busy": "2025-01-05T15:14:30.928120Z",
     "iopub.status.idle": "2025-01-05T15:14:30.980436Z",
     "shell.execute_reply": "2025-01-05T15:14:30.979382Z"
    },
    "papermill": {
     "duration": 0.059191,
     "end_time": "2025-01-05T15:14:30.982029",
     "exception": false,
     "start_time": "2025-01-05T15:14:30.922838",
     "status": "completed"
    },
    "tags": []
   },
   "outputs": [
    {
     "data": {
      "text/plain": [
       "id             0\n",
       "date           0\n",
       "country        0\n",
       "store          0\n",
       "product        0\n",
       "num_sold    8871\n",
       "dtype: int64"
      ]
     },
     "execution_count": 3,
     "metadata": {},
     "output_type": "execute_result"
    }
   ],
   "source": [
    "train.isnull().sum()"
   ]
  },
  {
   "cell_type": "code",
   "execution_count": 4,
   "id": "09ef9583",
   "metadata": {
    "execution": {
     "iopub.execute_input": "2025-01-05T15:14:30.992516Z",
     "iopub.status.busy": "2025-01-05T15:14:30.992145Z",
     "iopub.status.idle": "2025-01-05T15:14:31.057122Z",
     "shell.execute_reply": "2025-01-05T15:14:31.056273Z"
    },
    "papermill": {
     "duration": 0.072114,
     "end_time": "2025-01-05T15:14:31.058992",
     "exception": false,
     "start_time": "2025-01-05T15:14:30.986878",
     "status": "completed"
    },
    "tags": []
   },
   "outputs": [],
   "source": [
    "train = train.dropna()"
   ]
  },
  {
   "cell_type": "code",
   "execution_count": 5,
   "id": "1295c423",
   "metadata": {
    "execution": {
     "iopub.execute_input": "2025-01-05T15:14:31.069610Z",
     "iopub.status.busy": "2025-01-05T15:14:31.069297Z",
     "iopub.status.idle": "2025-01-05T15:14:31.109191Z",
     "shell.execute_reply": "2025-01-05T15:14:31.108152Z"
    },
    "papermill": {
     "duration": 0.046975,
     "end_time": "2025-01-05T15:14:31.110752",
     "exception": false,
     "start_time": "2025-01-05T15:14:31.063777",
     "status": "completed"
    },
    "tags": []
   },
   "outputs": [
    {
     "data": {
      "text/plain": [
       "id                   int64\n",
       "date        datetime64[ns]\n",
       "country             object\n",
       "store               object\n",
       "product             object\n",
       "num_sold           float64\n",
       "dtype: object"
      ]
     },
     "execution_count": 5,
     "metadata": {},
     "output_type": "execute_result"
    }
   ],
   "source": [
    "train['date'] = pd.to_datetime(train['date'])\n",
    "train.dtypes"
   ]
  },
  {
   "cell_type": "code",
   "execution_count": 6,
   "id": "3fa43d06",
   "metadata": {
    "execution": {
     "iopub.execute_input": "2025-01-05T15:14:31.121244Z",
     "iopub.status.busy": "2025-01-05T15:14:31.120872Z",
     "iopub.status.idle": "2025-01-05T15:14:31.144347Z",
     "shell.execute_reply": "2025-01-05T15:14:31.143519Z"
    },
    "papermill": {
     "duration": 0.030546,
     "end_time": "2025-01-05T15:14:31.146045",
     "exception": false,
     "start_time": "2025-01-05T15:14:31.115499",
     "status": "completed"
    },
    "tags": []
   },
   "outputs": [],
   "source": [
    "train['year'] = train['date'].dt.year\n",
    "train['month'] = train['date'].dt.month\n",
    "train['day'] = train['date'].dt.day"
   ]
  },
  {
   "cell_type": "code",
   "execution_count": 7,
   "id": "c7d4a83f",
   "metadata": {
    "execution": {
     "iopub.execute_input": "2025-01-05T15:14:31.157925Z",
     "iopub.status.busy": "2025-01-05T15:14:31.157525Z",
     "iopub.status.idle": "2025-01-05T15:14:31.170475Z",
     "shell.execute_reply": "2025-01-05T15:14:31.169532Z"
    },
    "papermill": {
     "duration": 0.021451,
     "end_time": "2025-01-05T15:14:31.172352",
     "exception": false,
     "start_time": "2025-01-05T15:14:31.150901",
     "status": "completed"
    },
    "tags": []
   },
   "outputs": [
    {
     "data": {
      "text/html": [
       "<div>\n",
       "<style scoped>\n",
       "    .dataframe tbody tr th:only-of-type {\n",
       "        vertical-align: middle;\n",
       "    }\n",
       "\n",
       "    .dataframe tbody tr th {\n",
       "        vertical-align: top;\n",
       "    }\n",
       "\n",
       "    .dataframe thead th {\n",
       "        text-align: right;\n",
       "    }\n",
       "</style>\n",
       "<table border=\"1\" class=\"dataframe\">\n",
       "  <thead>\n",
       "    <tr style=\"text-align: right;\">\n",
       "      <th></th>\n",
       "      <th>id</th>\n",
       "      <th>date</th>\n",
       "      <th>country</th>\n",
       "      <th>store</th>\n",
       "      <th>product</th>\n",
       "      <th>num_sold</th>\n",
       "      <th>year</th>\n",
       "      <th>month</th>\n",
       "      <th>day</th>\n",
       "    </tr>\n",
       "  </thead>\n",
       "  <tbody>\n",
       "    <tr>\n",
       "      <th>1</th>\n",
       "      <td>1</td>\n",
       "      <td>2010-01-01</td>\n",
       "      <td>Canada</td>\n",
       "      <td>Discount Stickers</td>\n",
       "      <td>Kaggle</td>\n",
       "      <td>973.0</td>\n",
       "      <td>2010</td>\n",
       "      <td>1</td>\n",
       "      <td>1</td>\n",
       "    </tr>\n",
       "    <tr>\n",
       "      <th>2</th>\n",
       "      <td>2</td>\n",
       "      <td>2010-01-01</td>\n",
       "      <td>Canada</td>\n",
       "      <td>Discount Stickers</td>\n",
       "      <td>Kaggle Tiers</td>\n",
       "      <td>906.0</td>\n",
       "      <td>2010</td>\n",
       "      <td>1</td>\n",
       "      <td>1</td>\n",
       "    </tr>\n",
       "    <tr>\n",
       "      <th>3</th>\n",
       "      <td>3</td>\n",
       "      <td>2010-01-01</td>\n",
       "      <td>Canada</td>\n",
       "      <td>Discount Stickers</td>\n",
       "      <td>Kerneler</td>\n",
       "      <td>423.0</td>\n",
       "      <td>2010</td>\n",
       "      <td>1</td>\n",
       "      <td>1</td>\n",
       "    </tr>\n",
       "    <tr>\n",
       "      <th>4</th>\n",
       "      <td>4</td>\n",
       "      <td>2010-01-01</td>\n",
       "      <td>Canada</td>\n",
       "      <td>Discount Stickers</td>\n",
       "      <td>Kerneler Dark Mode</td>\n",
       "      <td>491.0</td>\n",
       "      <td>2010</td>\n",
       "      <td>1</td>\n",
       "      <td>1</td>\n",
       "    </tr>\n",
       "    <tr>\n",
       "      <th>5</th>\n",
       "      <td>5</td>\n",
       "      <td>2010-01-01</td>\n",
       "      <td>Canada</td>\n",
       "      <td>Stickers for Less</td>\n",
       "      <td>Holographic Goose</td>\n",
       "      <td>300.0</td>\n",
       "      <td>2010</td>\n",
       "      <td>1</td>\n",
       "      <td>1</td>\n",
       "    </tr>\n",
       "  </tbody>\n",
       "</table>\n",
       "</div>"
      ],
      "text/plain": [
       "   id       date country              store             product  num_sold  \\\n",
       "1   1 2010-01-01  Canada  Discount Stickers              Kaggle     973.0   \n",
       "2   2 2010-01-01  Canada  Discount Stickers        Kaggle Tiers     906.0   \n",
       "3   3 2010-01-01  Canada  Discount Stickers            Kerneler     423.0   \n",
       "4   4 2010-01-01  Canada  Discount Stickers  Kerneler Dark Mode     491.0   \n",
       "5   5 2010-01-01  Canada  Stickers for Less   Holographic Goose     300.0   \n",
       "\n",
       "   year  month  day  \n",
       "1  2010      1    1  \n",
       "2  2010      1    1  \n",
       "3  2010      1    1  \n",
       "4  2010      1    1  \n",
       "5  2010      1    1  "
      ]
     },
     "execution_count": 7,
     "metadata": {},
     "output_type": "execute_result"
    }
   ],
   "source": [
    "train.head()"
   ]
  },
  {
   "cell_type": "code",
   "execution_count": 8,
   "id": "6a346cb4",
   "metadata": {
    "execution": {
     "iopub.execute_input": "2025-01-05T15:14:31.183704Z",
     "iopub.status.busy": "2025-01-05T15:14:31.183383Z",
     "iopub.status.idle": "2025-01-05T15:14:31.208435Z",
     "shell.execute_reply": "2025-01-05T15:14:31.207088Z"
    },
    "papermill": {
     "duration": 0.033277,
     "end_time": "2025-01-05T15:14:31.210754",
     "exception": false,
     "start_time": "2025-01-05T15:14:31.177477",
     "status": "completed"
    },
    "tags": []
   },
   "outputs": [],
   "source": [
    "train = train.drop(\"date\", axis = 1)"
   ]
  },
  {
   "cell_type": "code",
   "execution_count": 9,
   "id": "e0c08a33",
   "metadata": {
    "execution": {
     "iopub.execute_input": "2025-01-05T15:14:31.221994Z",
     "iopub.status.busy": "2025-01-05T15:14:31.221665Z",
     "iopub.status.idle": "2025-01-05T15:14:33.407391Z",
     "shell.execute_reply": "2025-01-05T15:14:33.406238Z"
    },
    "papermill": {
     "duration": 2.193368,
     "end_time": "2025-01-05T15:14:33.409223",
     "exception": false,
     "start_time": "2025-01-05T15:14:31.215855",
     "status": "completed"
    },
    "tags": []
   },
   "outputs": [],
   "source": [
    "from sklearn.metrics import mean_absolute_error\n",
    "from sklearn.preprocessing import StandardScaler, LabelEncoder\n",
    "from sklearn.tree import DecisionTreeRegressor\n",
    "from sklearn.ensemble import RandomForestRegressor, GradientBoostingRegressor\n",
    "from catboost import CatBoostRegressor\n",
    "from sklearn.model_selection import GridSearchCV"
   ]
  },
  {
   "cell_type": "code",
   "execution_count": 10,
   "id": "a02717de",
   "metadata": {
    "execution": {
     "iopub.execute_input": "2025-01-05T15:14:33.420664Z",
     "iopub.status.busy": "2025-01-05T15:14:33.420146Z",
     "iopub.status.idle": "2025-01-05T15:14:33.539236Z",
     "shell.execute_reply": "2025-01-05T15:14:33.538189Z"
    },
    "papermill": {
     "duration": 0.126752,
     "end_time": "2025-01-05T15:14:33.541211",
     "exception": false,
     "start_time": "2025-01-05T15:14:33.414459",
     "status": "completed"
    },
    "tags": []
   },
   "outputs": [],
   "source": [
    "for i in train.columns:\n",
    "    if train[i].dtype =='object':\n",
    "        encoder = LabelEncoder()\n",
    "        train[i] = encoder.fit_transform(train[i])"
   ]
  },
  {
   "cell_type": "code",
   "execution_count": 11,
   "id": "5d24302c",
   "metadata": {
    "execution": {
     "iopub.execute_input": "2025-01-05T15:14:33.552539Z",
     "iopub.status.busy": "2025-01-05T15:14:33.552204Z",
     "iopub.status.idle": "2025-01-05T15:14:33.562444Z",
     "shell.execute_reply": "2025-01-05T15:14:33.561501Z"
    },
    "papermill": {
     "duration": 0.017613,
     "end_time": "2025-01-05T15:14:33.564040",
     "exception": false,
     "start_time": "2025-01-05T15:14:33.546427",
     "status": "completed"
    },
    "tags": []
   },
   "outputs": [
    {
     "data": {
      "text/html": [
       "<div>\n",
       "<style scoped>\n",
       "    .dataframe tbody tr th:only-of-type {\n",
       "        vertical-align: middle;\n",
       "    }\n",
       "\n",
       "    .dataframe tbody tr th {\n",
       "        vertical-align: top;\n",
       "    }\n",
       "\n",
       "    .dataframe thead th {\n",
       "        text-align: right;\n",
       "    }\n",
       "</style>\n",
       "<table border=\"1\" class=\"dataframe\">\n",
       "  <thead>\n",
       "    <tr style=\"text-align: right;\">\n",
       "      <th></th>\n",
       "      <th>id</th>\n",
       "      <th>country</th>\n",
       "      <th>store</th>\n",
       "      <th>product</th>\n",
       "      <th>num_sold</th>\n",
       "      <th>year</th>\n",
       "      <th>month</th>\n",
       "      <th>day</th>\n",
       "    </tr>\n",
       "  </thead>\n",
       "  <tbody>\n",
       "    <tr>\n",
       "      <th>1</th>\n",
       "      <td>1</td>\n",
       "      <td>0</td>\n",
       "      <td>0</td>\n",
       "      <td>1</td>\n",
       "      <td>973.0</td>\n",
       "      <td>2010</td>\n",
       "      <td>1</td>\n",
       "      <td>1</td>\n",
       "    </tr>\n",
       "    <tr>\n",
       "      <th>2</th>\n",
       "      <td>2</td>\n",
       "      <td>0</td>\n",
       "      <td>0</td>\n",
       "      <td>2</td>\n",
       "      <td>906.0</td>\n",
       "      <td>2010</td>\n",
       "      <td>1</td>\n",
       "      <td>1</td>\n",
       "    </tr>\n",
       "    <tr>\n",
       "      <th>3</th>\n",
       "      <td>3</td>\n",
       "      <td>0</td>\n",
       "      <td>0</td>\n",
       "      <td>3</td>\n",
       "      <td>423.0</td>\n",
       "      <td>2010</td>\n",
       "      <td>1</td>\n",
       "      <td>1</td>\n",
       "    </tr>\n",
       "    <tr>\n",
       "      <th>4</th>\n",
       "      <td>4</td>\n",
       "      <td>0</td>\n",
       "      <td>0</td>\n",
       "      <td>4</td>\n",
       "      <td>491.0</td>\n",
       "      <td>2010</td>\n",
       "      <td>1</td>\n",
       "      <td>1</td>\n",
       "    </tr>\n",
       "    <tr>\n",
       "      <th>5</th>\n",
       "      <td>5</td>\n",
       "      <td>0</td>\n",
       "      <td>2</td>\n",
       "      <td>0</td>\n",
       "      <td>300.0</td>\n",
       "      <td>2010</td>\n",
       "      <td>1</td>\n",
       "      <td>1</td>\n",
       "    </tr>\n",
       "  </tbody>\n",
       "</table>\n",
       "</div>"
      ],
      "text/plain": [
       "   id  country  store  product  num_sold  year  month  day\n",
       "1   1        0      0        1     973.0  2010      1    1\n",
       "2   2        0      0        2     906.0  2010      1    1\n",
       "3   3        0      0        3     423.0  2010      1    1\n",
       "4   4        0      0        4     491.0  2010      1    1\n",
       "5   5        0      2        0     300.0  2010      1    1"
      ]
     },
     "execution_count": 11,
     "metadata": {},
     "output_type": "execute_result"
    }
   ],
   "source": [
    "train.head()"
   ]
  },
  {
   "cell_type": "code",
   "execution_count": 12,
   "id": "5b3ff04c",
   "metadata": {
    "execution": {
     "iopub.execute_input": "2025-01-05T15:14:33.575577Z",
     "iopub.status.busy": "2025-01-05T15:14:33.575256Z",
     "iopub.status.idle": "2025-01-05T15:14:33.623456Z",
     "shell.execute_reply": "2025-01-05T15:14:33.622328Z"
    },
    "papermill": {
     "duration": 0.056111,
     "end_time": "2025-01-05T15:14:33.625456",
     "exception": false,
     "start_time": "2025-01-05T15:14:33.569345",
     "status": "completed"
    },
    "tags": []
   },
   "outputs": [],
   "source": [
    "scalar = StandardScaler()\n",
    "train_scaled = scalar.fit_transform(train)"
   ]
  },
  {
   "cell_type": "code",
   "execution_count": 13,
   "id": "3d01e0aa",
   "metadata": {
    "execution": {
     "iopub.execute_input": "2025-01-05T15:14:33.637137Z",
     "iopub.status.busy": "2025-01-05T15:14:33.636782Z",
     "iopub.status.idle": "2025-01-05T15:14:33.641097Z",
     "shell.execute_reply": "2025-01-05T15:14:33.640043Z"
    },
    "papermill": {
     "duration": 0.01215,
     "end_time": "2025-01-05T15:14:33.642969",
     "exception": false,
     "start_time": "2025-01-05T15:14:33.630819",
     "status": "completed"
    },
    "tags": []
   },
   "outputs": [],
   "source": [
    "train_scaled = pd.DataFrame(train_scaled, columns=train.columns)"
   ]
  },
  {
   "cell_type": "code",
   "execution_count": 14,
   "id": "1911d233",
   "metadata": {
    "execution": {
     "iopub.execute_input": "2025-01-05T15:14:33.654576Z",
     "iopub.status.busy": "2025-01-05T15:14:33.654218Z",
     "iopub.status.idle": "2025-01-05T15:14:33.664571Z",
     "shell.execute_reply": "2025-01-05T15:14:33.663478Z"
    },
    "papermill": {
     "duration": 0.01823,
     "end_time": "2025-01-05T15:14:33.666330",
     "exception": false,
     "start_time": "2025-01-05T15:14:33.648100",
     "status": "completed"
    },
    "tags": []
   },
   "outputs": [],
   "source": [
    "Y = train['num_sold']\n",
    "X = train.drop(\"num_sold\", axis = 1)"
   ]
  },
  {
   "cell_type": "code",
   "execution_count": 15,
   "id": "da405847",
   "metadata": {
    "execution": {
     "iopub.execute_input": "2025-01-05T15:14:33.677897Z",
     "iopub.status.busy": "2025-01-05T15:14:33.677535Z",
     "iopub.status.idle": "2025-01-05T15:14:33.681563Z",
     "shell.execute_reply": "2025-01-05T15:14:33.680610Z"
    },
    "papermill": {
     "duration": 0.011794,
     "end_time": "2025-01-05T15:14:33.683444",
     "exception": false,
     "start_time": "2025-01-05T15:14:33.671650",
     "status": "completed"
    },
    "tags": []
   },
   "outputs": [],
   "source": [
    "model = RandomForestRegressor(random_state = 42)"
   ]
  },
  {
   "cell_type": "code",
   "execution_count": 16,
   "id": "e3ecfbba",
   "metadata": {
    "execution": {
     "iopub.execute_input": "2025-01-05T15:14:33.694323Z",
     "iopub.status.busy": "2025-01-05T15:14:33.693974Z",
     "iopub.status.idle": "2025-01-05T15:14:33.698009Z",
     "shell.execute_reply": "2025-01-05T15:14:33.697097Z"
    },
    "papermill": {
     "duration": 0.011234,
     "end_time": "2025-01-05T15:14:33.699784",
     "exception": false,
     "start_time": "2025-01-05T15:14:33.688550",
     "status": "completed"
    },
    "tags": []
   },
   "outputs": [],
   "source": [
    "param_grid = {\n",
    "    'n_estimators': [50, 100, 150],\n",
    "    'max_depth': [None, 10, 20],\n",
    "    'min_samples_split': [2, 5, 10]\n",
    "}"
   ]
  },
  {
   "cell_type": "code",
   "execution_count": 17,
   "id": "88123774",
   "metadata": {
    "execution": {
     "iopub.execute_input": "2025-01-05T15:14:33.711837Z",
     "iopub.status.busy": "2025-01-05T15:14:33.711510Z",
     "iopub.status.idle": "2025-01-05T15:14:33.715632Z",
     "shell.execute_reply": "2025-01-05T15:14:33.714784Z"
    },
    "papermill": {
     "duration": 0.011697,
     "end_time": "2025-01-05T15:14:33.717074",
     "exception": false,
     "start_time": "2025-01-05T15:14:33.705377",
     "status": "completed"
    },
    "tags": []
   },
   "outputs": [],
   "source": [
    "grid_search = GridSearchCV(\n",
    "    estimator=model,\n",
    "    param_grid=param_grid,\n",
    "    cv=5,  # 5-Fold Cross Validation\n",
    "    scoring='accuracy',\n",
    "    verbose=1,\n",
    "    n_jobs=-1\n",
    ")"
   ]
  },
  {
   "cell_type": "code",
   "execution_count": 18,
   "id": "24cc4e6d",
   "metadata": {
    "execution": {
     "iopub.execute_input": "2025-01-05T15:14:33.728673Z",
     "iopub.status.busy": "2025-01-05T15:14:33.728313Z",
     "iopub.status.idle": "2025-01-05T15:14:33.883141Z",
     "shell.execute_reply": "2025-01-05T15:14:33.882094Z"
    },
    "papermill": {
     "duration": 0.162577,
     "end_time": "2025-01-05T15:14:33.884734",
     "exception": false,
     "start_time": "2025-01-05T15:14:33.722157",
     "status": "completed"
    },
    "tags": []
   },
   "outputs": [
    {
     "data": {
      "text/html": [
       "<div>\n",
       "<style scoped>\n",
       "    .dataframe tbody tr th:only-of-type {\n",
       "        vertical-align: middle;\n",
       "    }\n",
       "\n",
       "    .dataframe tbody tr th {\n",
       "        vertical-align: top;\n",
       "    }\n",
       "\n",
       "    .dataframe thead th {\n",
       "        text-align: right;\n",
       "    }\n",
       "</style>\n",
       "<table border=\"1\" class=\"dataframe\">\n",
       "  <thead>\n",
       "    <tr style=\"text-align: right;\">\n",
       "      <th></th>\n",
       "      <th>id</th>\n",
       "      <th>date</th>\n",
       "      <th>country</th>\n",
       "      <th>store</th>\n",
       "      <th>product</th>\n",
       "    </tr>\n",
       "  </thead>\n",
       "  <tbody>\n",
       "    <tr>\n",
       "      <th>0</th>\n",
       "      <td>230130</td>\n",
       "      <td>2017-01-01</td>\n",
       "      <td>Canada</td>\n",
       "      <td>Discount Stickers</td>\n",
       "      <td>Holographic Goose</td>\n",
       "    </tr>\n",
       "    <tr>\n",
       "      <th>1</th>\n",
       "      <td>230131</td>\n",
       "      <td>2017-01-01</td>\n",
       "      <td>Canada</td>\n",
       "      <td>Discount Stickers</td>\n",
       "      <td>Kaggle</td>\n",
       "    </tr>\n",
       "    <tr>\n",
       "      <th>2</th>\n",
       "      <td>230132</td>\n",
       "      <td>2017-01-01</td>\n",
       "      <td>Canada</td>\n",
       "      <td>Discount Stickers</td>\n",
       "      <td>Kaggle Tiers</td>\n",
       "    </tr>\n",
       "    <tr>\n",
       "      <th>3</th>\n",
       "      <td>230133</td>\n",
       "      <td>2017-01-01</td>\n",
       "      <td>Canada</td>\n",
       "      <td>Discount Stickers</td>\n",
       "      <td>Kerneler</td>\n",
       "    </tr>\n",
       "    <tr>\n",
       "      <th>4</th>\n",
       "      <td>230134</td>\n",
       "      <td>2017-01-01</td>\n",
       "      <td>Canada</td>\n",
       "      <td>Discount Stickers</td>\n",
       "      <td>Kerneler Dark Mode</td>\n",
       "    </tr>\n",
       "  </tbody>\n",
       "</table>\n",
       "</div>"
      ],
      "text/plain": [
       "       id        date country              store             product\n",
       "0  230130  2017-01-01  Canada  Discount Stickers   Holographic Goose\n",
       "1  230131  2017-01-01  Canada  Discount Stickers              Kaggle\n",
       "2  230132  2017-01-01  Canada  Discount Stickers        Kaggle Tiers\n",
       "3  230133  2017-01-01  Canada  Discount Stickers            Kerneler\n",
       "4  230134  2017-01-01  Canada  Discount Stickers  Kerneler Dark Mode"
      ]
     },
     "execution_count": 18,
     "metadata": {},
     "output_type": "execute_result"
    }
   ],
   "source": [
    "test = pd.read_csv(\"/kaggle/input/playground-series-s5e1/test.csv\")\n",
    "\n",
    "test.head()"
   ]
  },
  {
   "cell_type": "code",
   "execution_count": 19,
   "id": "af9e55d6",
   "metadata": {
    "execution": {
     "iopub.execute_input": "2025-01-05T15:14:33.896728Z",
     "iopub.status.busy": "2025-01-05T15:14:33.896391Z",
     "iopub.status.idle": "2025-01-05T15:14:33.921314Z",
     "shell.execute_reply": "2025-01-05T15:14:33.920389Z"
    },
    "papermill": {
     "duration": 0.032944,
     "end_time": "2025-01-05T15:14:33.922979",
     "exception": false,
     "start_time": "2025-01-05T15:14:33.890035",
     "status": "completed"
    },
    "tags": []
   },
   "outputs": [
    {
     "data": {
      "text/plain": [
       "id         0\n",
       "date       0\n",
       "country    0\n",
       "store      0\n",
       "product    0\n",
       "dtype: int64"
      ]
     },
     "execution_count": 19,
     "metadata": {},
     "output_type": "execute_result"
    }
   ],
   "source": [
    "test.isnull().sum()"
   ]
  },
  {
   "cell_type": "code",
   "execution_count": 20,
   "id": "0ad4d200",
   "metadata": {
    "execution": {
     "iopub.execute_input": "2025-01-05T15:14:33.935304Z",
     "iopub.status.busy": "2025-01-05T15:14:33.934915Z",
     "iopub.status.idle": "2025-01-05T15:14:33.949740Z",
     "shell.execute_reply": "2025-01-05T15:14:33.948901Z"
    },
    "papermill": {
     "duration": 0.022718,
     "end_time": "2025-01-05T15:14:33.951491",
     "exception": false,
     "start_time": "2025-01-05T15:14:33.928773",
     "status": "completed"
    },
    "tags": []
   },
   "outputs": [
    {
     "data": {
      "text/html": [
       "<div>\n",
       "<style scoped>\n",
       "    .dataframe tbody tr th:only-of-type {\n",
       "        vertical-align: middle;\n",
       "    }\n",
       "\n",
       "    .dataframe tbody tr th {\n",
       "        vertical-align: top;\n",
       "    }\n",
       "\n",
       "    .dataframe thead th {\n",
       "        text-align: right;\n",
       "    }\n",
       "</style>\n",
       "<table border=\"1\" class=\"dataframe\">\n",
       "  <thead>\n",
       "    <tr style=\"text-align: right;\">\n",
       "      <th></th>\n",
       "      <th>id</th>\n",
       "      <th>country</th>\n",
       "      <th>store</th>\n",
       "      <th>product</th>\n",
       "      <th>num_sold</th>\n",
       "      <th>year</th>\n",
       "      <th>month</th>\n",
       "      <th>day</th>\n",
       "    </tr>\n",
       "  </thead>\n",
       "  <tbody>\n",
       "    <tr>\n",
       "      <th>1</th>\n",
       "      <td>1</td>\n",
       "      <td>0</td>\n",
       "      <td>0</td>\n",
       "      <td>1</td>\n",
       "      <td>973.0</td>\n",
       "      <td>2010</td>\n",
       "      <td>1</td>\n",
       "      <td>1</td>\n",
       "    </tr>\n",
       "    <tr>\n",
       "      <th>2</th>\n",
       "      <td>2</td>\n",
       "      <td>0</td>\n",
       "      <td>0</td>\n",
       "      <td>2</td>\n",
       "      <td>906.0</td>\n",
       "      <td>2010</td>\n",
       "      <td>1</td>\n",
       "      <td>1</td>\n",
       "    </tr>\n",
       "    <tr>\n",
       "      <th>3</th>\n",
       "      <td>3</td>\n",
       "      <td>0</td>\n",
       "      <td>0</td>\n",
       "      <td>3</td>\n",
       "      <td>423.0</td>\n",
       "      <td>2010</td>\n",
       "      <td>1</td>\n",
       "      <td>1</td>\n",
       "    </tr>\n",
       "    <tr>\n",
       "      <th>4</th>\n",
       "      <td>4</td>\n",
       "      <td>0</td>\n",
       "      <td>0</td>\n",
       "      <td>4</td>\n",
       "      <td>491.0</td>\n",
       "      <td>2010</td>\n",
       "      <td>1</td>\n",
       "      <td>1</td>\n",
       "    </tr>\n",
       "    <tr>\n",
       "      <th>5</th>\n",
       "      <td>5</td>\n",
       "      <td>0</td>\n",
       "      <td>2</td>\n",
       "      <td>0</td>\n",
       "      <td>300.0</td>\n",
       "      <td>2010</td>\n",
       "      <td>1</td>\n",
       "      <td>1</td>\n",
       "    </tr>\n",
       "    <tr>\n",
       "      <th>...</th>\n",
       "      <td>...</td>\n",
       "      <td>...</td>\n",
       "      <td>...</td>\n",
       "      <td>...</td>\n",
       "      <td>...</td>\n",
       "      <td>...</td>\n",
       "      <td>...</td>\n",
       "      <td>...</td>\n",
       "    </tr>\n",
       "    <tr>\n",
       "      <th>230125</th>\n",
       "      <td>230125</td>\n",
       "      <td>5</td>\n",
       "      <td>1</td>\n",
       "      <td>0</td>\n",
       "      <td>466.0</td>\n",
       "      <td>2016</td>\n",
       "      <td>12</td>\n",
       "      <td>31</td>\n",
       "    </tr>\n",
       "    <tr>\n",
       "      <th>230126</th>\n",
       "      <td>230126</td>\n",
       "      <td>5</td>\n",
       "      <td>1</td>\n",
       "      <td>1</td>\n",
       "      <td>2907.0</td>\n",
       "      <td>2016</td>\n",
       "      <td>12</td>\n",
       "      <td>31</td>\n",
       "    </tr>\n",
       "    <tr>\n",
       "      <th>230127</th>\n",
       "      <td>230127</td>\n",
       "      <td>5</td>\n",
       "      <td>1</td>\n",
       "      <td>2</td>\n",
       "      <td>2299.0</td>\n",
       "      <td>2016</td>\n",
       "      <td>12</td>\n",
       "      <td>31</td>\n",
       "    </tr>\n",
       "    <tr>\n",
       "      <th>230128</th>\n",
       "      <td>230128</td>\n",
       "      <td>5</td>\n",
       "      <td>1</td>\n",
       "      <td>3</td>\n",
       "      <td>1242.0</td>\n",
       "      <td>2016</td>\n",
       "      <td>12</td>\n",
       "      <td>31</td>\n",
       "    </tr>\n",
       "    <tr>\n",
       "      <th>230129</th>\n",
       "      <td>230129</td>\n",
       "      <td>5</td>\n",
       "      <td>1</td>\n",
       "      <td>4</td>\n",
       "      <td>1622.0</td>\n",
       "      <td>2016</td>\n",
       "      <td>12</td>\n",
       "      <td>31</td>\n",
       "    </tr>\n",
       "  </tbody>\n",
       "</table>\n",
       "<p>221259 rows × 8 columns</p>\n",
       "</div>"
      ],
      "text/plain": [
       "            id  country  store  product  num_sold  year  month  day\n",
       "1            1        0      0        1     973.0  2010      1    1\n",
       "2            2        0      0        2     906.0  2010      1    1\n",
       "3            3        0      0        3     423.0  2010      1    1\n",
       "4            4        0      0        4     491.0  2010      1    1\n",
       "5            5        0      2        0     300.0  2010      1    1\n",
       "...        ...      ...    ...      ...       ...   ...    ...  ...\n",
       "230125  230125        5      1        0     466.0  2016     12   31\n",
       "230126  230126        5      1        1    2907.0  2016     12   31\n",
       "230127  230127        5      1        2    2299.0  2016     12   31\n",
       "230128  230128        5      1        3    1242.0  2016     12   31\n",
       "230129  230129        5      1        4    1622.0  2016     12   31\n",
       "\n",
       "[221259 rows x 8 columns]"
      ]
     },
     "execution_count": 20,
     "metadata": {},
     "output_type": "execute_result"
    }
   ],
   "source": [
    "train"
   ]
  }
 ],
 "metadata": {
  "kaggle": {
   "accelerator": "none",
   "dataSources": [
    {
     "databundleVersionId": 10652996,
     "sourceId": 85723,
     "sourceType": "competition"
    }
   ],
   "dockerImageVersionId": 30822,
   "isGpuEnabled": false,
   "isInternetEnabled": true,
   "language": "python",
   "sourceType": "notebook"
  },
  "kernelspec": {
   "display_name": "Python 3",
   "language": "python",
   "name": "python3"
  },
  "language_info": {
   "codemirror_mode": {
    "name": "ipython",
    "version": 3
   },
   "file_extension": ".py",
   "mimetype": "text/x-python",
   "name": "python",
   "nbconvert_exporter": "python",
   "pygments_lexer": "ipython3",
   "version": "3.10.12"
  },
  "papermill": {
   "default_parameters": {},
   "duration": 6.613815,
   "end_time": "2025-01-05T15:14:34.676337",
   "environment_variables": {},
   "exception": null,
   "input_path": "__notebook__.ipynb",
   "output_path": "__notebook__.ipynb",
   "parameters": {},
   "start_time": "2025-01-05T15:14:28.062522",
   "version": "2.6.0"
  }
 },
 "nbformat": 4,
 "nbformat_minor": 5
}
