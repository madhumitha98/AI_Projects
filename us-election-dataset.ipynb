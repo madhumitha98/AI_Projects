{
 "cells": [
  {
   "cell_type": "code",
   "execution_count": 1,
   "id": "840292ac",
   "metadata": {
    "_cell_guid": "b1076dfc-b9ad-4769-8c92-a6c4dae69d19",
    "_uuid": "8f2839f25d086af736a60e9eeb907d3b93b6e0e5",
    "execution": {
     "iopub.execute_input": "2024-12-21T15:06:17.749540Z",
     "iopub.status.busy": "2024-12-21T15:06:17.749195Z",
     "iopub.status.idle": "2024-12-21T15:06:18.156412Z",
     "shell.execute_reply": "2024-12-21T15:06:18.155008Z"
    },
    "papermill": {
     "duration": 0.413945,
     "end_time": "2024-12-21T15:06:18.158505",
     "exception": false,
     "start_time": "2024-12-21T15:06:17.744560",
     "status": "completed"
    },
    "tags": []
   },
   "outputs": [
    {
     "name": "stdout",
     "output_type": "stream",
     "text": [
      "/kaggle/input/2024-u-s-election-sentiment-on-x/val.csv\n",
      "/kaggle/input/2024-u-s-election-sentiment-on-x/train.csv\n",
      "/kaggle/input/2024-u-s-election-sentiment-on-x/test.csv\n"
     ]
    }
   ],
   "source": [
    "# This Python 3 environment comes with many helpful analytics libraries installed\n",
    "# It is defined by the kaggle/python Docker image: https://github.com/kaggle/docker-python\n",
    "# For example, here's several helpful packages to load\n",
    "\n",
    "import numpy as np # linear algebra\n",
    "import pandas as pd # data processing, CSV file I/O (e.g. pd.read_csv)\n",
    "\n",
    "# Input data files are available in the read-only \"../input/\" directory\n",
    "# For example, running this (by clicking run or pressing Shift+Enter) will list all files under the input directory\n",
    "\n",
    "import os\n",
    "for dirname, _, filenames in os.walk('/kaggle/input'):\n",
    "    for filename in filenames:\n",
    "        print(os.path.join(dirname, filename))\n",
    "\n",
    "# You can write up to 20GB to the current directory (/kaggle/working/) that gets preserved as output when you create a version using \"Save & Run All\" \n",
    "# You can also write temporary files to /kaggle/temp/, but they won't be saved outside of the current session"
   ]
  },
  {
   "cell_type": "code",
   "execution_count": 2,
   "id": "d0b9a667",
   "metadata": {
    "execution": {
     "iopub.execute_input": "2024-12-21T15:06:18.165666Z",
     "iopub.status.busy": "2024-12-21T15:06:18.165180Z",
     "iopub.status.idle": "2024-12-21T15:06:18.201511Z",
     "shell.execute_reply": "2024-12-21T15:06:18.200525Z"
    },
    "papermill": {
     "duration": 0.041473,
     "end_time": "2024-12-21T15:06:18.203260",
     "exception": false,
     "start_time": "2024-12-21T15:06:18.161787",
     "status": "completed"
    },
    "tags": []
   },
   "outputs": [],
   "source": [
    "train = pd.read_csv(\"/kaggle/input/2024-u-s-election-sentiment-on-x/test.csv\")\n",
    "test = pd.read_csv(\"/kaggle/input/2024-u-s-election-sentiment-on-x/test.csv\")\n",
    "val = pd.read_csv(\"/kaggle/input/2024-u-s-election-sentiment-on-x/val.csv\")"
   ]
  },
  {
   "cell_type": "code",
   "execution_count": 3,
   "id": "d627e057",
   "metadata": {
    "execution": {
     "iopub.execute_input": "2024-12-21T15:06:18.209613Z",
     "iopub.status.busy": "2024-12-21T15:06:18.209279Z",
     "iopub.status.idle": "2024-12-21T15:06:18.236419Z",
     "shell.execute_reply": "2024-12-21T15:06:18.235367Z"
    },
    "papermill": {
     "duration": 0.032321,
     "end_time": "2024-12-21T15:06:18.238360",
     "exception": false,
     "start_time": "2024-12-21T15:06:18.206039",
     "status": "completed"
    },
    "tags": []
   },
   "outputs": [
    {
     "data": {
      "text/html": [
       "<div>\n",
       "<style scoped>\n",
       "    .dataframe tbody tr th:only-of-type {\n",
       "        vertical-align: middle;\n",
       "    }\n",
       "\n",
       "    .dataframe tbody tr th {\n",
       "        vertical-align: top;\n",
       "    }\n",
       "\n",
       "    .dataframe thead th {\n",
       "        text-align: right;\n",
       "    }\n",
       "</style>\n",
       "<table border=\"1\" class=\"dataframe\">\n",
       "  <thead>\n",
       "    <tr style=\"text-align: right;\">\n",
       "      <th></th>\n",
       "      <th>tweet_id</th>\n",
       "      <th>user_handle</th>\n",
       "      <th>timestamp</th>\n",
       "      <th>tweet_text</th>\n",
       "      <th>candidate</th>\n",
       "      <th>party</th>\n",
       "      <th>retweets</th>\n",
       "      <th>likes</th>\n",
       "      <th>sentiment</th>\n",
       "    </tr>\n",
       "  </thead>\n",
       "  <tbody>\n",
       "    <tr>\n",
       "      <th>0</th>\n",
       "      <td>501</td>\n",
       "      <td>@user1068</td>\n",
       "      <td>2025-02-11 08:30:10</td>\n",
       "      <td>Kamala Harris's new policy on education reform...</td>\n",
       "      <td>Kamala Harris</td>\n",
       "      <td>Democratic Party</td>\n",
       "      <td>85</td>\n",
       "      <td>320</td>\n",
       "      <td>positive</td>\n",
       "    </tr>\n",
       "    <tr>\n",
       "      <th>1</th>\n",
       "      <td>502</td>\n",
       "      <td>@politicsNew2</td>\n",
       "      <td>2025-02-11 09:15:20</td>\n",
       "      <td>Donald Trump's latest speech on the economy wa...</td>\n",
       "      <td>Donald Trump</td>\n",
       "      <td>Republican Party</td>\n",
       "      <td>100</td>\n",
       "      <td>450</td>\n",
       "      <td>positive</td>\n",
       "    </tr>\n",
       "    <tr>\n",
       "      <th>2</th>\n",
       "      <td>503</td>\n",
       "      <td>@greenVisionary2</td>\n",
       "      <td>2025-02-11 10:05:35</td>\n",
       "      <td>Jill Stein's environmental policies are a step...</td>\n",
       "      <td>Jill Stein</td>\n",
       "      <td>Green Party</td>\n",
       "      <td>60</td>\n",
       "      <td>200</td>\n",
       "      <td>positive</td>\n",
       "    </tr>\n",
       "    <tr>\n",
       "      <th>3</th>\n",
       "      <td>504</td>\n",
       "      <td>@indieWatcher2</td>\n",
       "      <td>2025-02-11 11:25:40</td>\n",
       "      <td>Robert Kennedy's independent run brings fresh ...</td>\n",
       "      <td>Robert Kennedy</td>\n",
       "      <td>Independent</td>\n",
       "      <td>30</td>\n",
       "      <td>120</td>\n",
       "      <td>neutral</td>\n",
       "    </tr>\n",
       "    <tr>\n",
       "      <th>4</th>\n",
       "      <td>505</td>\n",
       "      <td>@libertyFan4</td>\n",
       "      <td>2025-02-11 12:40:50</td>\n",
       "      <td>Chase Oliver's stance on gun rights is unwaver...</td>\n",
       "      <td>Chase Oliver</td>\n",
       "      <td>Libertarian Party</td>\n",
       "      <td>50</td>\n",
       "      <td>160</td>\n",
       "      <td>positive</td>\n",
       "    </tr>\n",
       "  </tbody>\n",
       "</table>\n",
       "</div>"
      ],
      "text/plain": [
       "   tweet_id       user_handle            timestamp  \\\n",
       "0       501         @user1068  2025-02-11 08:30:10   \n",
       "1       502     @politicsNew2  2025-02-11 09:15:20   \n",
       "2       503  @greenVisionary2  2025-02-11 10:05:35   \n",
       "3       504    @indieWatcher2  2025-02-11 11:25:40   \n",
       "4       505      @libertyFan4  2025-02-11 12:40:50   \n",
       "\n",
       "                                          tweet_text       candidate  \\\n",
       "0  Kamala Harris's new policy on education reform...   Kamala Harris   \n",
       "1  Donald Trump's latest speech on the economy wa...    Donald Trump   \n",
       "2  Jill Stein's environmental policies are a step...      Jill Stein   \n",
       "3  Robert Kennedy's independent run brings fresh ...  Robert Kennedy   \n",
       "4  Chase Oliver's stance on gun rights is unwaver...    Chase Oliver   \n",
       "\n",
       "               party  retweets  likes sentiment  \n",
       "0   Democratic Party        85    320  positive  \n",
       "1   Republican Party       100    450  positive  \n",
       "2        Green Party        60    200  positive  \n",
       "3        Independent        30    120   neutral  \n",
       "4  Libertarian Party        50    160  positive  "
      ]
     },
     "execution_count": 3,
     "metadata": {},
     "output_type": "execute_result"
    }
   ],
   "source": [
    "train.head()"
   ]
  },
  {
   "cell_type": "code",
   "execution_count": 4,
   "id": "f8a30d45",
   "metadata": {
    "execution": {
     "iopub.execute_input": "2024-12-21T15:06:18.245483Z",
     "iopub.status.busy": "2024-12-21T15:06:18.245170Z",
     "iopub.status.idle": "2024-12-21T15:06:20.987261Z",
     "shell.execute_reply": "2024-12-21T15:06:20.985923Z"
    },
    "papermill": {
     "duration": 2.748035,
     "end_time": "2024-12-21T15:06:20.989465",
     "exception": false,
     "start_time": "2024-12-21T15:06:18.241430",
     "status": "completed"
    },
    "tags": []
   },
   "outputs": [],
   "source": [
    "import nltk\n",
    "from nltk.tokenize import word_tokenize \n",
    "from nltk.stem import PorterStemmer, WordNetLemmatizer"
   ]
  },
  {
   "cell_type": "code",
   "execution_count": 5,
   "id": "7f4792b8",
   "metadata": {
    "execution": {
     "iopub.execute_input": "2024-12-21T15:06:20.997397Z",
     "iopub.status.busy": "2024-12-21T15:06:20.996888Z",
     "iopub.status.idle": "2024-12-21T15:06:21.009016Z",
     "shell.execute_reply": "2024-12-21T15:06:21.007872Z"
    },
    "papermill": {
     "duration": 0.018437,
     "end_time": "2024-12-21T15:06:21.010986",
     "exception": false,
     "start_time": "2024-12-21T15:06:20.992549",
     "status": "completed"
    },
    "tags": []
   },
   "outputs": [],
   "source": [
    "train['tweet_text'] = train['tweet_text'].str.lower()"
   ]
  },
  {
   "cell_type": "code",
   "execution_count": 6,
   "id": "50b430b3",
   "metadata": {
    "execution": {
     "iopub.execute_input": "2024-12-21T15:06:21.018357Z",
     "iopub.status.busy": "2024-12-21T15:06:21.018021Z",
     "iopub.status.idle": "2024-12-21T15:06:21.022655Z",
     "shell.execute_reply": "2024-12-21T15:06:21.021522Z"
    },
    "papermill": {
     "duration": 0.010246,
     "end_time": "2024-12-21T15:06:21.024377",
     "exception": false,
     "start_time": "2024-12-21T15:06:21.014131",
     "status": "completed"
    },
    "tags": []
   },
   "outputs": [],
   "source": [
    "def tokenize(text):\n",
    "    token = word_tokenize(text)\n",
    "    return token"
   ]
  },
  {
   "cell_type": "code",
   "execution_count": 7,
   "id": "0f579a0e",
   "metadata": {
    "execution": {
     "iopub.execute_input": "2024-12-21T15:06:21.031541Z",
     "iopub.status.busy": "2024-12-21T15:06:21.031207Z",
     "iopub.status.idle": "2024-12-21T15:06:21.061568Z",
     "shell.execute_reply": "2024-12-21T15:06:21.060481Z"
    },
    "papermill": {
     "duration": 0.03599,
     "end_time": "2024-12-21T15:06:21.063398",
     "exception": false,
     "start_time": "2024-12-21T15:06:21.027408",
     "status": "completed"
    },
    "tags": []
   },
   "outputs": [],
   "source": [
    "train['tokens'] = train['tweet_text'].apply(lambda x: tokenize(x))"
   ]
  },
  {
   "cell_type": "code",
   "execution_count": 8,
   "id": "ae267d3c",
   "metadata": {
    "execution": {
     "iopub.execute_input": "2024-12-21T15:06:21.070625Z",
     "iopub.status.busy": "2024-12-21T15:06:21.070250Z",
     "iopub.status.idle": "2024-12-21T15:06:21.075410Z",
     "shell.execute_reply": "2024-12-21T15:06:21.074120Z"
    },
    "papermill": {
     "duration": 0.01074,
     "end_time": "2024-12-21T15:06:21.077159",
     "exception": false,
     "start_time": "2024-12-21T15:06:21.066419",
     "status": "completed"
    },
    "tags": []
   },
   "outputs": [],
   "source": [
    "def lemma(text):\n",
    "    words= []\n",
    "    token = word_tokenize(text)\n",
    "    lemma = WordNetLemmatizer()\n",
    "    for i in token:\n",
    "        words.append(lemma.lemmatize(i))\n",
    "    return ''.join(words)"
   ]
  }
 ],
 "metadata": {
  "kaggle": {
   "accelerator": "none",
   "dataSources": [
    {
     "datasetId": 6253429,
     "sourceId": 10132394,
     "sourceType": "datasetVersion"
    }
   ],
   "dockerImageVersionId": 30822,
   "isGpuEnabled": false,
   "isInternetEnabled": true,
   "language": "python",
   "sourceType": "notebook"
  },
  "kernelspec": {
   "display_name": "Python 3",
   "language": "python",
   "name": "python3"
  },
  "language_info": {
   "codemirror_mode": {
    "name": "ipython",
    "version": 3
   },
   "file_extension": ".py",
   "mimetype": "text/x-python",
   "name": "python",
   "nbconvert_exporter": "python",
   "pygments_lexer": "ipython3",
   "version": "3.10.12"
  },
  "papermill": {
   "default_parameters": {},
   "duration": 6.479877,
   "end_time": "2024-12-21T15:06:21.799654",
   "environment_variables": {},
   "exception": null,
   "input_path": "__notebook__.ipynb",
   "output_path": "__notebook__.ipynb",
   "parameters": {},
   "start_time": "2024-12-21T15:06:15.319777",
   "version": "2.6.0"
  }
 },
 "nbformat": 4,
 "nbformat_minor": 5
}
