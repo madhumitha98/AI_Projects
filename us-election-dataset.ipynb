{
 "cells": [
  {
   "cell_type": "code",
   "execution_count": 1,
   "id": "ba5b0d88",
   "metadata": {
    "_cell_guid": "b1076dfc-b9ad-4769-8c92-a6c4dae69d19",
    "_uuid": "8f2839f25d086af736a60e9eeb907d3b93b6e0e5",
    "execution": {
     "iopub.execute_input": "2024-12-19T15:59:05.454732Z",
     "iopub.status.busy": "2024-12-19T15:59:05.454271Z",
     "iopub.status.idle": "2024-12-19T15:59:05.902396Z",
     "shell.execute_reply": "2024-12-19T15:59:05.901090Z"
    },
    "papermill": {
     "duration": 0.454079,
     "end_time": "2024-12-19T15:59:05.904329",
     "exception": false,
     "start_time": "2024-12-19T15:59:05.450250",
     "status": "completed"
    },
    "tags": []
   },
   "outputs": [
    {
     "name": "stdout",
     "output_type": "stream",
     "text": [
      "/kaggle/input/2024-u-s-election-sentiment-on-x/val.csv\n",
      "/kaggle/input/2024-u-s-election-sentiment-on-x/train.csv\n",
      "/kaggle/input/2024-u-s-election-sentiment-on-x/test.csv\n"
     ]
    }
   ],
   "source": [
    "# This Python 3 environment comes with many helpful analytics libraries installed\n",
    "# It is defined by the kaggle/python Docker image: https://github.com/kaggle/docker-python\n",
    "# For example, here's several helpful packages to load\n",
    "\n",
    "import numpy as np # linear algebra\n",
    "import pandas as pd # data processing, CSV file I/O (e.g. pd.read_csv)\n",
    "\n",
    "# Input data files are available in the read-only \"../input/\" directory\n",
    "# For example, running this (by clicking run or pressing Shift+Enter) will list all files under the input directory\n",
    "\n",
    "import os\n",
    "for dirname, _, filenames in os.walk('/kaggle/input'):\n",
    "    for filename in filenames:\n",
    "        print(os.path.join(dirname, filename))\n",
    "\n",
    "# You can write up to 20GB to the current directory (/kaggle/working/) that gets preserved as output when you create a version using \"Save & Run All\" \n",
    "# You can also write temporary files to /kaggle/temp/, but they won't be saved outside of the current session"
   ]
  },
  {
   "cell_type": "code",
   "execution_count": 2,
   "id": "bc97c004",
   "metadata": {
    "execution": {
     "iopub.execute_input": "2024-12-19T15:59:05.910295Z",
     "iopub.status.busy": "2024-12-19T15:59:05.909754Z",
     "iopub.status.idle": "2024-12-19T15:59:05.935089Z",
     "shell.execute_reply": "2024-12-19T15:59:05.933878Z"
    },
    "papermill": {
     "duration": 0.030117,
     "end_time": "2024-12-19T15:59:05.936950",
     "exception": false,
     "start_time": "2024-12-19T15:59:05.906833",
     "status": "completed"
    },
    "tags": []
   },
   "outputs": [],
   "source": [
    "train = pd.read_csv(\"/kaggle/input/2024-u-s-election-sentiment-on-x/test.csv\")\n",
    "test = pd.read_csv(\"/kaggle/input/2024-u-s-election-sentiment-on-x/test.csv\")\n",
    "val = pd.read_csv(\"/kaggle/input/2024-u-s-election-sentiment-on-x/val.csv\")"
   ]
  },
  {
   "cell_type": "code",
   "execution_count": 3,
   "id": "edd99b37",
   "metadata": {
    "execution": {
     "iopub.execute_input": "2024-12-19T15:59:05.942015Z",
     "iopub.status.busy": "2024-12-19T15:59:05.941598Z",
     "iopub.status.idle": "2024-12-19T15:59:05.964030Z",
     "shell.execute_reply": "2024-12-19T15:59:05.962942Z"
    },
    "papermill": {
     "duration": 0.026757,
     "end_time": "2024-12-19T15:59:05.965827",
     "exception": false,
     "start_time": "2024-12-19T15:59:05.939070",
     "status": "completed"
    },
    "tags": []
   },
   "outputs": [
    {
     "data": {
      "text/html": [
       "<div>\n",
       "<style scoped>\n",
       "    .dataframe tbody tr th:only-of-type {\n",
       "        vertical-align: middle;\n",
       "    }\n",
       "\n",
       "    .dataframe tbody tr th {\n",
       "        vertical-align: top;\n",
       "    }\n",
       "\n",
       "    .dataframe thead th {\n",
       "        text-align: right;\n",
       "    }\n",
       "</style>\n",
       "<table border=\"1\" class=\"dataframe\">\n",
       "  <thead>\n",
       "    <tr style=\"text-align: right;\">\n",
       "      <th></th>\n",
       "      <th>tweet_id</th>\n",
       "      <th>user_handle</th>\n",
       "      <th>timestamp</th>\n",
       "      <th>tweet_text</th>\n",
       "      <th>candidate</th>\n",
       "      <th>party</th>\n",
       "      <th>retweets</th>\n",
       "      <th>likes</th>\n",
       "      <th>sentiment</th>\n",
       "    </tr>\n",
       "  </thead>\n",
       "  <tbody>\n",
       "    <tr>\n",
       "      <th>0</th>\n",
       "      <td>501</td>\n",
       "      <td>@user1068</td>\n",
       "      <td>2025-02-11 08:30:10</td>\n",
       "      <td>Kamala Harris's new policy on education reform...</td>\n",
       "      <td>Kamala Harris</td>\n",
       "      <td>Democratic Party</td>\n",
       "      <td>85</td>\n",
       "      <td>320</td>\n",
       "      <td>positive</td>\n",
       "    </tr>\n",
       "    <tr>\n",
       "      <th>1</th>\n",
       "      <td>502</td>\n",
       "      <td>@politicsNew2</td>\n",
       "      <td>2025-02-11 09:15:20</td>\n",
       "      <td>Donald Trump's latest speech on the economy wa...</td>\n",
       "      <td>Donald Trump</td>\n",
       "      <td>Republican Party</td>\n",
       "      <td>100</td>\n",
       "      <td>450</td>\n",
       "      <td>positive</td>\n",
       "    </tr>\n",
       "    <tr>\n",
       "      <th>2</th>\n",
       "      <td>503</td>\n",
       "      <td>@greenVisionary2</td>\n",
       "      <td>2025-02-11 10:05:35</td>\n",
       "      <td>Jill Stein's environmental policies are a step...</td>\n",
       "      <td>Jill Stein</td>\n",
       "      <td>Green Party</td>\n",
       "      <td>60</td>\n",
       "      <td>200</td>\n",
       "      <td>positive</td>\n",
       "    </tr>\n",
       "    <tr>\n",
       "      <th>3</th>\n",
       "      <td>504</td>\n",
       "      <td>@indieWatcher2</td>\n",
       "      <td>2025-02-11 11:25:40</td>\n",
       "      <td>Robert Kennedy's independent run brings fresh ...</td>\n",
       "      <td>Robert Kennedy</td>\n",
       "      <td>Independent</td>\n",
       "      <td>30</td>\n",
       "      <td>120</td>\n",
       "      <td>neutral</td>\n",
       "    </tr>\n",
       "    <tr>\n",
       "      <th>4</th>\n",
       "      <td>505</td>\n",
       "      <td>@libertyFan4</td>\n",
       "      <td>2025-02-11 12:40:50</td>\n",
       "      <td>Chase Oliver's stance on gun rights is unwaver...</td>\n",
       "      <td>Chase Oliver</td>\n",
       "      <td>Libertarian Party</td>\n",
       "      <td>50</td>\n",
       "      <td>160</td>\n",
       "      <td>positive</td>\n",
       "    </tr>\n",
       "  </tbody>\n",
       "</table>\n",
       "</div>"
      ],
      "text/plain": [
       "   tweet_id       user_handle            timestamp  \\\n",
       "0       501         @user1068  2025-02-11 08:30:10   \n",
       "1       502     @politicsNew2  2025-02-11 09:15:20   \n",
       "2       503  @greenVisionary2  2025-02-11 10:05:35   \n",
       "3       504    @indieWatcher2  2025-02-11 11:25:40   \n",
       "4       505      @libertyFan4  2025-02-11 12:40:50   \n",
       "\n",
       "                                          tweet_text       candidate  \\\n",
       "0  Kamala Harris's new policy on education reform...   Kamala Harris   \n",
       "1  Donald Trump's latest speech on the economy wa...    Donald Trump   \n",
       "2  Jill Stein's environmental policies are a step...      Jill Stein   \n",
       "3  Robert Kennedy's independent run brings fresh ...  Robert Kennedy   \n",
       "4  Chase Oliver's stance on gun rights is unwaver...    Chase Oliver   \n",
       "\n",
       "               party  retweets  likes sentiment  \n",
       "0   Democratic Party        85    320  positive  \n",
       "1   Republican Party       100    450  positive  \n",
       "2        Green Party        60    200  positive  \n",
       "3        Independent        30    120   neutral  \n",
       "4  Libertarian Party        50    160  positive  "
      ]
     },
     "execution_count": 3,
     "metadata": {},
     "output_type": "execute_result"
    }
   ],
   "source": [
    "train.head()"
   ]
  }
 ],
 "metadata": {
  "kaggle": {
   "accelerator": "none",
   "dataSources": [
    {
     "datasetId": 6253429,
     "sourceId": 10132394,
     "sourceType": "datasetVersion"
    }
   ],
   "dockerImageVersionId": 30822,
   "isGpuEnabled": false,
   "isInternetEnabled": true,
   "language": "python",
   "sourceType": "notebook"
  },
  "kernelspec": {
   "display_name": "Python 3",
   "language": "python",
   "name": "python3"
  },
  "language_info": {
   "codemirror_mode": {
    "name": "ipython",
    "version": 3
   },
   "file_extension": ".py",
   "mimetype": "text/x-python",
   "name": "python",
   "nbconvert_exporter": "python",
   "pygments_lexer": "ipython3",
   "version": "3.10.12"
  },
  "papermill": {
   "default_parameters": {},
   "duration": 3.683107,
   "end_time": "2024-12-19T15:59:06.588668",
   "environment_variables": {},
   "exception": null,
   "input_path": "__notebook__.ipynb",
   "output_path": "__notebook__.ipynb",
   "parameters": {},
   "start_time": "2024-12-19T15:59:02.905561",
   "version": "2.6.0"
  }
 },
 "nbformat": 4,
 "nbformat_minor": 5
}
