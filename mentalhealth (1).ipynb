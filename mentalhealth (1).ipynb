{
 "cells": [
  {
   "cell_type": "code",
   "execution_count": 1,
   "id": "a9ecc27e",
   "metadata": {
    "_cell_guid": "b1076dfc-b9ad-4769-8c92-a6c4dae69d19",
    "_uuid": "8f2839f25d086af736a60e9eeb907d3b93b6e0e5",
    "execution": {
     "iopub.execute_input": "2024-11-30T10:25:51.429036Z",
     "iopub.status.busy": "2024-11-30T10:25:51.428622Z",
     "iopub.status.idle": "2024-11-30T10:25:52.329091Z",
     "shell.execute_reply": "2024-11-30T10:25:52.327889Z"
    },
    "papermill": {
     "duration": 0.916233,
     "end_time": "2024-11-30T10:25:52.331837",
     "exception": false,
     "start_time": "2024-11-30T10:25:51.415604",
     "status": "completed"
    },
    "tags": []
   },
   "outputs": [
    {
     "name": "stdout",
     "output_type": "stream",
     "text": [
      "/kaggle/input/playground-series-s4e11/sample_submission.csv\n",
      "/kaggle/input/playground-series-s4e11/train.csv\n",
      "/kaggle/input/playground-series-s4e11/test.csv\n"
     ]
    }
   ],
   "source": [
    "# This Python 3 environment comes with many helpful analytics libraries installed\n",
    "# It is defined by the kaggle/python Docker image: https://github.com/kaggle/docker-python\n",
    "# For example, here's several helpful packages to load\n",
    "\n",
    "import numpy as np # linear algebra\n",
    "import pandas as pd # data processing, CSV file I/O (e.g. pd.read_csv)\n",
    "\n",
    "# Input data files are available in the read-only \"../input/\" directory\n",
    "# For example, running this (by clicking run or pressing Shift+Enter) will list all files under the input directory\n",
    "\n",
    "import os\n",
    "for dirname, _, filenames in os.walk('/kaggle/input'):\n",
    "    for filename in filenames:\n",
    "        print(os.path.join(dirname, filename))\n",
    "\n",
    "# You can write up to 20GB to the current directory (/kaggle/working/) that gets preserved as output when you create a version using \"Save & Run All\" \n",
    "# You can also write temporary files to /kaggle/temp/, but they won't be saved outside of the current session"
   ]
  },
  {
   "cell_type": "code",
   "execution_count": 2,
   "id": "16d15d6d",
   "metadata": {
    "execution": {
     "iopub.execute_input": "2024-11-30T10:25:52.358236Z",
     "iopub.status.busy": "2024-11-30T10:25:52.357195Z",
     "iopub.status.idle": "2024-11-30T10:25:54.570984Z",
     "shell.execute_reply": "2024-11-30T10:25:54.570104Z"
    },
    "papermill": {
     "duration": 2.229703,
     "end_time": "2024-11-30T10:25:54.573358",
     "exception": false,
     "start_time": "2024-11-30T10:25:52.343655",
     "status": "completed"
    },
    "tags": []
   },
   "outputs": [],
   "source": [
    "import matplotlib.pyplot as plt\n",
    "import seaborn as sns\n",
    "import xgboost as xgb\n",
    "from sklearn.model_selection import train_test_split\n",
    "from sklearn.svm import SVC\n",
    "from sklearn.metrics import confusion_matrix, classification_report, accuracy_score"
   ]
  },
  {
   "cell_type": "code",
   "execution_count": 3,
   "id": "92c1b0c3",
   "metadata": {
    "execution": {
     "iopub.execute_input": "2024-11-30T10:25:54.596970Z",
     "iopub.status.busy": "2024-11-30T10:25:54.596394Z",
     "iopub.status.idle": "2024-11-30T10:25:55.499150Z",
     "shell.execute_reply": "2024-11-30T10:25:55.497960Z"
    },
    "papermill": {
     "duration": 0.917511,
     "end_time": "2024-11-30T10:25:55.501752",
     "exception": false,
     "start_time": "2024-11-30T10:25:54.584241",
     "status": "completed"
    },
    "tags": []
   },
   "outputs": [],
   "source": [
    "train_data = pd.read_csv(\"/kaggle/input/playground-series-s4e11/train.csv\")\n",
    "test_data = pd.read_csv(\"/kaggle/input/playground-series-s4e11/test.csv\")"
   ]
  },
  {
   "cell_type": "code",
   "execution_count": 4,
   "id": "d8cc1972",
   "metadata": {
    "execution": {
     "iopub.execute_input": "2024-11-30T10:25:55.526153Z",
     "iopub.status.busy": "2024-11-30T10:25:55.525782Z",
     "iopub.status.idle": "2024-11-30T10:25:55.611172Z",
     "shell.execute_reply": "2024-11-30T10:25:55.610085Z"
    },
    "papermill": {
     "duration": 0.0999,
     "end_time": "2024-11-30T10:25:55.613483",
     "exception": false,
     "start_time": "2024-11-30T10:25:55.513583",
     "status": "completed"
    },
    "tags": []
   },
   "outputs": [
    {
     "data": {
      "text/plain": [
       "id                                        0.000000\n",
       "Name                                      0.000000\n",
       "Gender                                    0.000000\n",
       "Age                                       0.000000\n",
       "City                                      0.000000\n",
       "Working Professional or Student           0.000000\n",
       "Profession                               26.034115\n",
       "Academic Pressure                        80.172708\n",
       "Work Pressure                            19.842217\n",
       "CGPA                                     80.171997\n",
       "Study Satisfaction                       80.172708\n",
       "Job Satisfaction                         19.836532\n",
       "Sleep Duration                            0.000000\n",
       "Dietary Habits                            0.002843\n",
       "Degree                                    0.001421\n",
       "Have you ever had suicidal thoughts ?     0.000000\n",
       "Work/Study Hours                          0.000000\n",
       "Financial Stress                          0.002843\n",
       "Family History of Mental Illness          0.000000\n",
       "Depression                                0.000000\n",
       "dtype: float64"
      ]
     },
     "execution_count": 4,
     "metadata": {},
     "output_type": "execute_result"
    }
   ],
   "source": [
    "train_data.isnull().sum() * 100 / len(train_data)"
   ]
  },
  {
   "cell_type": "markdown",
   "id": "6c361c95",
   "metadata": {
    "papermill": {
     "duration": 0.01121,
     "end_time": "2024-11-30T10:25:55.636272",
     "exception": false,
     "start_time": "2024-11-30T10:25:55.625062",
     "status": "completed"
    },
    "tags": []
   },
   "source": [
    "# EDA and Data Cleaning"
   ]
  },
  {
   "cell_type": "code",
   "execution_count": 5,
   "id": "80253d37",
   "metadata": {
    "execution": {
     "iopub.execute_input": "2024-11-30T10:25:55.660113Z",
     "iopub.status.busy": "2024-11-30T10:25:55.659686Z",
     "iopub.status.idle": "2024-11-30T10:25:56.954609Z",
     "shell.execute_reply": "2024-11-30T10:25:56.953269Z"
    },
    "papermill": {
     "duration": 1.310821,
     "end_time": "2024-11-30T10:25:56.957860",
     "exception": false,
     "start_time": "2024-11-30T10:25:55.647039",
     "status": "completed"
    },
    "tags": []
   },
   "outputs": [
    {
     "data": {
      "image/png": "[encoded data removed]",
      "text/plain": [
       "<Figure size 640x480 with 1 Axes>"
      ]
     },
     "metadata": {},
     "output_type": "display_data"
    }
   ],
   "source": [
    "sns.barplot(data = train_data, x = 'Gender', y = 'Age',hue='Depression')\n",
    "plt.show()"
   ]
  },
  {
   "cell_type": "code",
   "execution_count": 6,
   "id": "87c04690",
   "metadata": {
    "execution": {
     "iopub.execute_input": "2024-11-30T10:25:56.983959Z",
     "iopub.status.busy": "2024-11-30T10:25:56.983499Z",
     "iopub.status.idle": "2024-11-30T10:25:57.341928Z",
     "shell.execute_reply": "2024-11-30T10:25:57.340813Z"
    },
    "papermill": {
     "duration": 0.374295,
     "end_time": "2024-11-30T10:25:57.344180",
     "exception": false,
     "start_time": "2024-11-30T10:25:56.969885",
     "status": "completed"
    },
    "tags": []
   },
   "outputs": [
    {
     "data": {
      "image/png": "[encoded data removed]",
      "text/plain": [
       "<Figure size 640x480 with 1 Axes>"
      ]
     },
     "metadata": {},
     "output_type": "display_data"
    }
   ],
   "source": [
    "sns.boxplot(x='Age',hue='Depression',data=train_data,y='Working Professional or Student')\n",
    "plt.show()"
   ]
  },
  {
   "cell_type": "code",
   "execution_count": 7,
   "id": "5e864834",
   "metadata": {
    "execution": {
     "iopub.execute_input": "2024-11-30T10:25:57.369856Z",
     "iopub.status.busy": "2024-11-30T10:25:57.369439Z",
     "iopub.status.idle": "2024-11-30T10:25:57.383945Z",
     "shell.execute_reply": "2024-11-30T10:25:57.382921Z"
    },
    "papermill": {
     "duration": 0.029842,
     "end_time": "2024-11-30T10:25:57.386136",
     "exception": false,
     "start_time": "2024-11-30T10:25:57.356294",
     "status": "completed"
    },
    "tags": []
   },
   "outputs": [
    {
     "data": {
      "text/plain": [
       "array(['Chef', 'Teacher', nan, 'Business Analyst', 'Finanancial Analyst',\n",
       "       'Chemist', 'Electrician', 'Software Engineer', 'Data Scientist',\n",
       "       'Plumber', 'Marketing Manager', 'Accountant', 'Entrepreneur',\n",
       "       'HR Manager', 'UX/UI Designer', 'Content Writer',\n",
       "       'Educational Consultant', 'Civil Engineer', 'Manager',\n",
       "       'Pharmacist', 'Financial Analyst', 'Architect',\n",
       "       'Mechanical Engineer', 'Customer Support', 'Consultant', 'Judge',\n",
       "       'Researcher', 'Pilot', 'Graphic Designer', 'Travel Consultant',\n",
       "       'Digital Marketer', 'Lawyer', 'Research Analyst',\n",
       "       'Sales Executive', 'Doctor', 'Unemployed', 'Investment Banker',\n",
       "       'Family Consultant', 'B.Com', 'BE', 'Student', 'Yogesh', 'Dev',\n",
       "       'MBA', 'LLM', 'BCA', 'Academic', 'Profession', 'FamilyVirar',\n",
       "       'City Manager', 'BBA', 'Medical Doctor', 'Working Professional',\n",
       "       'MBBS', 'Patna', 'Unveil', 'B.Ed', 'Nagpur', 'Moderate', 'M.Ed',\n",
       "       'Analyst', 'Pranav', 'Visakhapatnam', 'PhD', 'Yuvraj'],\n",
       "      dtype=object)"
      ]
     },
     "execution_count": 7,
     "metadata": {},
     "output_type": "execute_result"
    }
   ],
   "source": [
    "train_data['Profession'].unique()"
   ]
  },
  {
   "cell_type": "code",
   "execution_count": 8,
   "id": "045112ed",
   "metadata": {
    "execution": {
     "iopub.execute_input": "2024-11-30T10:25:57.412167Z",
     "iopub.status.busy": "2024-11-30T10:25:57.411267Z",
     "iopub.status.idle": "2024-11-30T10:25:57.506952Z",
     "shell.execute_reply": "2024-11-30T10:25:57.505594Z"
    },
    "papermill": {
     "duration": 0.111827,
     "end_time": "2024-11-30T10:25:57.509496",
     "exception": false,
     "start_time": "2024-11-30T10:25:57.397669",
     "status": "completed"
    },
    "tags": []
   },
   "outputs": [],
   "source": [
    "Profession = ['Chef', 'Teacher', 'Business Analyst', 'Financial Analyst',\n",
    "       'Chemist', 'Electrician', 'Software Engineer', 'Data Scientist',\n",
    "       'Plumber', 'Marketing Manager', 'Accountant', 'Entrepreneur',\n",
    "       'HR Manager', 'UX/UI Designer', 'Content Writer',\n",
    "       'Educational Consultant', 'Civil Engineer', 'Manager',\n",
    "       'Pharmacist', 'Architect',\n",
    "       'Mechanical Engineer', 'Customer Support', 'Consultant', 'Judge',\n",
    "       'Researcher', 'Pilot', 'Graphic Designer', 'Travel Consultant',\n",
    "       'Digital Marketer', 'Lawyer', 'Research Analyst',\n",
    "       'Sales Executive', 'Doctor', 'Unemployed', 'Investment Banker',\n",
    "       'Family Consultant','Student','Academic', 'Profession', 'FamilyVirar',\n",
    "       'City Manager', 'BBA', 'Medical Doctor', 'Working Professional',\n",
    "       'Analyst']\n",
    "\n",
    "train_data['Profession'] = train_data['Profession'].apply(lambda x: x if x in Profession else 'unknown')"
   ]
  },
  {
   "cell_type": "code",
   "execution_count": 9,
   "id": "df560461",
   "metadata": {
    "execution": {
     "iopub.execute_input": "2024-11-30T10:25:57.535358Z",
     "iopub.status.busy": "2024-11-30T10:25:57.534970Z",
     "iopub.status.idle": "2024-11-30T10:25:57.558618Z",
     "shell.execute_reply": "2024-11-30T10:25:57.557189Z"
    },
    "papermill": {
     "duration": 0.039114,
     "end_time": "2024-11-30T10:25:57.561132",
     "exception": false,
     "start_time": "2024-11-30T10:25:57.522018",
     "status": "completed"
    },
    "tags": []
   },
   "outputs": [
    {
     "data": {
      "text/plain": [
       "Sleep Duration\n",
       "Less than 5 hours    38784\n",
       "7-8 hours            36969\n",
       "More than 8 hours    32726\n",
       "5-6 hours            32142\n",
       "3-4 hours               12\n",
       "6-7 hours                8\n",
       "4-5 hours                7\n",
       "2-3 hours                5\n",
       "4-6 hours                5\n",
       "6-8 hours                4\n",
       "1-6 hours                4\n",
       "No                       4\n",
       "9-11 hours               2\n",
       "10-11 hours              2\n",
       "Sleep_Duration           2\n",
       "Unhealthy                2\n",
       "45                       2\n",
       "8-9 hours                2\n",
       "10-6 hours               1\n",
       "9-5                      1\n",
       "45-48 hours              1\n",
       "3-6 hours                1\n",
       "Work_Study_Hours         1\n",
       "49 hours                 1\n",
       "than 5 hours             1\n",
       "Pune                     1\n",
       "9-6 hours                1\n",
       "8 hours                  1\n",
       "35-36 hours              1\n",
       "Indore                   1\n",
       "1-3 hours                1\n",
       "55-66 hours              1\n",
       "Moderate                 1\n",
       "40-45 hours              1\n",
       "1-2 hours                1\n",
       "9-5 hours                1\n",
       "Name: count, dtype: int64"
      ]
     },
     "execution_count": 9,
     "metadata": {},
     "output_type": "execute_result"
    }
   ],
   "source": [
    "train_data['Sleep Duration'].value_counts()"
   ]
  },
  {
   "cell_type": "code",
   "execution_count": 10,
   "id": "c7554a23",
   "metadata": {
    "execution": {
     "iopub.execute_input": "2024-11-30T10:25:57.587702Z",
     "iopub.status.busy": "2024-11-30T10:25:57.587271Z",
     "iopub.status.idle": "2024-11-30T10:25:57.615862Z",
     "shell.execute_reply": "2024-11-30T10:25:57.614785Z"
    },
    "papermill": {
     "duration": 0.044018,
     "end_time": "2024-11-30T10:25:57.618038",
     "exception": false,
     "start_time": "2024-11-30T10:25:57.574020",
     "status": "completed"
    },
    "tags": []
   },
   "outputs": [],
   "source": [
    "sleep_timings= {'Less than 5 hours': 'Less than 5 hours',\n",
    "    '5-6 hours': 'Less than 5 hours',\n",
    "    '6-7 hours': 'More than 8 hours',\n",
    "    '7-8 hours': 'More than 8 hours',\n",
    "    '8-9 hours': 'More than 8 hours',  # Combining close ranges\n",
    "    '9-11 hours': 'More than 8 hours',\n",
    "    '10-11 hours': 'More than 8 hours',\n",
    "    'More than 8 hours': 'More than 8 hours',\n",
    "    '3-4 hours': 'Less than 5 hours',\n",
    "    '2-3 hours': 'Less than 5 hours',\n",
    "    '4-5 hours': 'Less than 5 hours',\n",
    "    '6-8 hours': 'More than 8 hours',\n",
    "    '1-6 hours': 'Less than 5 hours',\n",
    "    'No': 'Less than 5 hours',  # Mapping 'No' to a category\n",
    "    'Sleep_Duration': 'Less than 5 hours',  # Handling invalid entries\n",
    "    'Unhealthy': 'Less than 5 hours',  # Handling invalid entries\n",
    "    '45': 'Less than 5 hours',  # Handling invalid numerical values\n",
    "    'than 5 hours': 'Less than 5 hours',\n",
    "    'Work_Study_Hours': 'Less than 5 hours',  # Handling invalid entries\n",
    "    'Pune': 'Less than 5 hours',  # Handling invalid entries\n",
    "    '9-5': 'More than 8 hours',  # Normalizing to a reasonable category\n",
    "    '45-48 hours': 'More than 8 hours',  # Handling invalid ranges\n",
    "    '3-6 hours': 'Less than 5 hours',  # Grouping similar values\n",
    "    '49 hours': 'More than 8 hours',  # Handling invalid values\n",
    "    'Moderate': 'More than 8 hours',  # Handling invalid entries\n",
    "    '40-45 hours': 'More than 8 hours',  # Handling invalid ranges\n",
    "    '1-2 hours': 'Less than 5 hours',\n",
    "    '9-5 hours': 'More than 8 hours',  # Normalizing to a reasonable category\n",
    "    '55-66 hours': 'More than 8 hours',  # Handling invalid ranges\n",
    "    'Indore': 'Less than 5 hours',  # Handling invalid entries\n",
    "    '35-36 hours': 'More than 8 hours',  # Handling invalid ranges\n",
    "    '1-3 hours': 'Less than 5 hours',  # Grouping similar values\n",
    "}\n",
    "\n",
    "train_data['Sleep Duration'] = train_data['Sleep Duration'].map(sleep_timings).fillna('Unknown')\n"
   ]
  },
  {
   "cell_type": "code",
   "execution_count": 11,
   "id": "aef023cd",
   "metadata": {
    "execution": {
     "iopub.execute_input": "2024-11-30T10:25:57.643775Z",
     "iopub.status.busy": "2024-11-30T10:25:57.643379Z",
     "iopub.status.idle": "2024-11-30T10:25:57.663085Z",
     "shell.execute_reply": "2024-11-30T10:25:57.661930Z"
    },
    "papermill": {
     "duration": 0.035355,
     "end_time": "2024-11-30T10:25:57.665233",
     "exception": false,
     "start_time": "2024-11-30T10:25:57.629878",
     "status": "completed"
    },
    "tags": []
   },
   "outputs": [
    {
     "data": {
      "text/plain": [
       "Dietary Habits\n",
       "Moderate             49705\n",
       "Unhealthy            46227\n",
       "Healthy              44741\n",
       "Yes                      2\n",
       "No                       2\n",
       "More Healthy             2\n",
       "No Healthy               1\n",
       "Class 12                 1\n",
       "Indoor                   1\n",
       "Male                     1\n",
       "Vegas                    1\n",
       "M.Tech                   1\n",
       "Less Healthy             1\n",
       "1.0                      1\n",
       "Electrician              1\n",
       "Hormonal                 1\n",
       "Mihir                    1\n",
       "Less than Healthy        1\n",
       "3                        1\n",
       "Gender                   1\n",
       "BSc                      1\n",
       "Pratham                  1\n",
       "2                        1\n",
       "Name: count, dtype: int64"
      ]
     },
     "execution_count": 11,
     "metadata": {},
     "output_type": "execute_result"
    }
   ],
   "source": [
    "train_data['Dietary Habits'].value_counts()"
   ]
  },
  {
   "cell_type": "code",
   "execution_count": 12,
   "id": "47313575",
   "metadata": {
    "execution": {
     "iopub.execute_input": "2024-11-30T10:25:57.691057Z",
     "iopub.status.busy": "2024-11-30T10:25:57.690628Z",
     "iopub.status.idle": "2024-11-30T10:25:57.718928Z",
     "shell.execute_reply": "2024-11-30T10:25:57.717870Z"
    },
    "papermill": {
     "duration": 0.044163,
     "end_time": "2024-11-30T10:25:57.721382",
     "exception": false,
     "start_time": "2024-11-30T10:25:57.677219",
     "status": "completed"
    },
    "tags": []
   },
   "outputs": [],
   "source": [
    "health_status_mapping = {\n",
    "    'Moderate': 'Moderate',\n",
    "    'Unhealthy': 'Unhealthy',\n",
    "    'Healthy': 'Healthy',\n",
    "    'More Healthy': 'Healthy',  # Mapping similar categories\n",
    "    'Less Healthy': 'Unhealthy',  # Mapping similar categories\n",
    "    'Less than Healthy': 'Unhealthy',  # Mapping similar categories\n",
    "    'Yes': 'Healthy',\n",
    "    'No': 'Unhealthy',\n",
    "    'No Healthy': 'Unhealthy',\n",
    "    'Class 12': 'Unknown',\n",
    "    'Indoor': 'Unknown',\n",
    "    'Male': 'Unknown',\n",
    "    'Vegas': 'Unknown',\n",
    "    'M.Tech': 'Unknown',\n",
    "    '1.0': 'Unknown',\n",
    "    'Electrician': 'Unknown',\n",
    "    'Hormonal': 'Unknown',\n",
    "    'Mihir': 'Unknown',\n",
    "    '3': 'Unknown',\n",
    "    'Gender': 'Unknown',\n",
    "    'BSc': 'Unknown',\n",
    "    'Pratham': 'Unknown',\n",
    "    '2': 'Unknown'\n",
    "}\n",
    "\n",
    "# Apply the mapping to the 'Health Status' column\n",
    "train_data['Dietary Habits'] = train_data['Dietary Habits'].map(health_status_mapping).fillna('Unknown')\n"
   ]
  },
  {
   "cell_type": "code",
   "execution_count": 13,
   "id": "5eaccc08",
   "metadata": {
    "execution": {
     "iopub.execute_input": "2024-11-30T10:25:57.747417Z",
     "iopub.status.busy": "2024-11-30T10:25:57.747048Z",
     "iopub.status.idle": "2024-11-30T10:25:59.226189Z",
     "shell.execute_reply": "2024-11-30T10:25:59.224895Z"
    },
    "papermill": {
     "duration": 1.494874,
     "end_time": "2024-11-30T10:25:59.228557",
     "exception": false,
     "start_time": "2024-11-30T10:25:57.733683",
     "status": "completed"
    },
    "tags": []
   },
   "outputs": [
    {
     "data": {
      "image/png": "[encoded data removed]",
      "text/plain": [
       "<Figure size 2200x1000 with 1 Axes>"
      ]
     },
     "metadata": {},
     "output_type": "display_data"
    }
   ],
   "source": [
    "plt.figure(figsize =[22,10])\n",
    "sns.barplot(data = train_data, x= 'Dietary Habits', y= 'Depression')\n",
    "plt.show()"
   ]
  },
  {
   "cell_type": "code",
   "execution_count": 14,
   "id": "09f23f63",
   "metadata": {
    "execution": {
     "iopub.execute_input": "2024-11-30T10:25:59.258307Z",
     "iopub.status.busy": "2024-11-30T10:25:59.257809Z",
     "iopub.status.idle": "2024-11-30T10:25:59.264739Z",
     "shell.execute_reply": "2024-11-30T10:25:59.263604Z"
    },
    "papermill": {
     "duration": 0.025451,
     "end_time": "2024-11-30T10:25:59.266963",
     "exception": false,
     "start_time": "2024-11-30T10:25:59.241512",
     "status": "completed"
    },
    "tags": []
   },
   "outputs": [],
   "source": [
    "Degree = ['BHM', 'LLB', 'B.Pharm', 'BBA', 'MCA', 'MD', 'BSc', 'ME', 'B.Arch',\n",
    "       'BCA', 'BE', 'MA', 'B.Ed', 'B.Com', 'MBA', 'M.Com', 'MHM', 'BA',\n",
    "       'M.Tech', 'PhD', 'M.Ed', 'MSc', 'B.Tech', 'LLM',\n",
    "       'MBBS', 'M.Pharm', 'MPA', 'BH',  'BEd',\n",
    "       'B.Sc', 'S.Tech', 'Degree' 'Class 11',\n",
    "       'H_Pharm', 'P.Com', 'BPharm', 'M.Arch',\n",
    "       'LL.Com', 'MPharm', 'L.Ed', 'P.Pharm', \n",
    "       'BArch', 'S.Pharm', 'LLBA',\n",
    "         'LLCom', \n",
    "       'MTech', 'BPA',\n",
    "        'MEd', 'B.BA', 'B.B.Arch', 'ACA',\n",
    "        'M_Tech', \n",
    "       'LLTech',  'LHM', 'S.Arch',\n",
    "        'HCA',  'LL B.Ed', 'M.S', \n",
    "         'K.Ed',\n",
    "        'LLS', 'LLEd', 'E.Tech', 'N.Pharm',\n",
    "       'B B.Com']"
   ]
  },
  {
   "cell_type": "code",
   "execution_count": 15,
   "id": "f3c05d36",
   "metadata": {
    "execution": {
     "iopub.execute_input": "2024-11-30T10:25:59.296463Z",
     "iopub.status.busy": "2024-11-30T10:25:59.296090Z",
     "iopub.status.idle": "2024-11-30T10:25:59.330161Z",
     "shell.execute_reply": "2024-11-30T10:25:59.329133Z"
    },
    "papermill": {
     "duration": 0.051691,
     "end_time": "2024-11-30T10:25:59.332681",
     "exception": false,
     "start_time": "2024-11-30T10:25:59.280990",
     "status": "completed"
    },
    "tags": []
   },
   "outputs": [],
   "source": [
    "# Convert the Degree list to a set for faster lookup\n",
    "degree_set = set(Degree)\n",
    "\n",
    "# Standardize the Degree column\n",
    "train_data.loc[:, 'Degree'] = train_data['Degree'].apply(lambda x: x if x in degree_set else 'unknown')\n"
   ]
  },
  {
   "cell_type": "code",
   "execution_count": 16,
   "id": "cbff6225",
   "metadata": {
    "execution": {
     "iopub.execute_input": "2024-11-30T10:25:59.360637Z",
     "iopub.status.busy": "2024-11-30T10:25:59.360251Z",
     "iopub.status.idle": "2024-11-30T10:26:00.150739Z",
     "shell.execute_reply": "2024-11-30T10:26:00.149644Z"
    },
    "papermill": {
     "duration": 0.807508,
     "end_time": "2024-11-30T10:26:00.152900",
     "exception": false,
     "start_time": "2024-11-30T10:25:59.345392",
     "status": "completed"
    },
    "tags": []
   },
   "outputs": [
    {
     "name": "stderr",
     "output_type": "stream",
     "text": [
      "/opt/conda/lib/python3.10/site-packages/seaborn/_oldcore.py:1119: FutureWarning: use_inf_as_na option is deprecated and will be removed in a future version. Convert inf values to NaN before operating instead.\n",
      "  with pd.option_context('mode.use_inf_as_na', True):\n"
     ]
    },
    {
     "data": {
      "image/png": "[encoded data removed]",
      "text/plain": [
       "<Figure size 3000x1000 with 1 Axes>"
      ]
     },
     "metadata": {},
     "output_type": "display_data"
    }
   ],
   "source": [
    "plt.figure(figsize =[30,10])\n",
    "sns.histplot(data = train_data, x= 'Degree')\n",
    "plt.show()"
   ]
  },
  {
   "cell_type": "code",
   "execution_count": 17,
   "id": "8a87771c",
   "metadata": {
    "execution": {
     "iopub.execute_input": "2024-11-30T10:26:00.183019Z",
     "iopub.status.busy": "2024-11-30T10:26:00.182603Z",
     "iopub.status.idle": "2024-11-30T10:26:01.601841Z",
     "shell.execute_reply": "2024-11-30T10:26:01.600777Z"
    },
    "papermill": {
     "duration": 1.43772,
     "end_time": "2024-11-30T10:26:01.604133",
     "exception": false,
     "start_time": "2024-11-30T10:26:00.166413",
     "status": "completed"
    },
    "tags": []
   },
   "outputs": [
    {
     "data": {
      "image/png": "[encoded data removed]",
      "text/plain": [
       "<Figure size 2200x1000 with 1 Axes>"
      ]
     },
     "metadata": {},
     "output_type": "display_data"
    }
   ],
   "source": [
    "plt.figure(figsize =[22,10])\n",
    "sns.barplot(data = train_data, x= 'Sleep Duration', y= 'Depression')\n",
    "plt.show()"
   ]
  },
  {
   "cell_type": "code",
   "execution_count": 18,
   "id": "4248c80b",
   "metadata": {
    "execution": {
     "iopub.execute_input": "2024-11-30T10:26:01.634758Z",
     "iopub.status.busy": "2024-11-30T10:26:01.634321Z",
     "iopub.status.idle": "2024-11-30T10:26:02.603125Z",
     "shell.execute_reply": "2024-11-30T10:26:02.601916Z"
    },
    "papermill": {
     "duration": 0.986264,
     "end_time": "2024-11-30T10:26:02.605514",
     "exception": false,
     "start_time": "2024-11-30T10:26:01.619250",
     "status": "completed"
    },
    "tags": []
   },
   "outputs": [
    {
     "data": {
      "image/png": "[encoded data removed]",
      "text/plain": [
       "<Figure size 640x480 with 1 Axes>"
      ]
     },
     "metadata": {},
     "output_type": "display_data"
    }
   ],
   "source": [
    "sns.barplot(data = train_data, x= 'Work Pressure', y = 'Age')\n",
    "plt.show()"
   ]
  },
  {
   "cell_type": "code",
   "execution_count": 19,
   "id": "190eca71",
   "metadata": {
    "execution": {
     "iopub.execute_input": "2024-11-30T10:26:02.634902Z",
     "iopub.status.busy": "2024-11-30T10:26:02.634494Z",
     "iopub.status.idle": "2024-11-30T10:26:02.639875Z",
     "shell.execute_reply": "2024-11-30T10:26:02.638759Z"
    },
    "papermill": {
     "duration": 0.022583,
     "end_time": "2024-11-30T10:26:02.642109",
     "exception": false,
     "start_time": "2024-11-30T10:26:02.619526",
     "status": "completed"
    },
    "tags": []
   },
   "outputs": [],
   "source": [
    "categorical_cols = ['Name','Gender','City','Working Professional or Student','Profession','Academic Pressure','Work Pressure','Study Satisfaction','Job Satisfaction','Sleep Duration','Dietary Habits','Degree','Have you ever had suicidal thoughts ?','Financial Stress','Family History of Mental Illness']"
   ]
  },
  {
   "cell_type": "code",
   "execution_count": 20,
   "id": "dd788582",
   "metadata": {
    "execution": {
     "iopub.execute_input": "2024-11-30T10:26:02.671423Z",
     "iopub.status.busy": "2024-11-30T10:26:02.671069Z",
     "iopub.status.idle": "2024-11-30T10:26:02.682015Z",
     "shell.execute_reply": "2024-11-30T10:26:02.680979Z"
    },
    "papermill": {
     "duration": 0.028231,
     "end_time": "2024-11-30T10:26:02.684224",
     "exception": false,
     "start_time": "2024-11-30T10:26:02.655993",
     "status": "completed"
    },
    "tags": []
   },
   "outputs": [
    {
     "data": {
      "text/plain": [
       "Academic Pressure\n",
       "3.0    7463\n",
       "5.0    6296\n",
       "4.0    5158\n",
       "1.0    4801\n",
       "2.0    4179\n",
       "Name: count, dtype: int64"
      ]
     },
     "execution_count": 20,
     "metadata": {},
     "output_type": "execute_result"
    }
   ],
   "source": [
    "train_data['Academic Pressure'].value_counts()"
   ]
  },
  {
   "cell_type": "markdown",
   "id": "512a1551",
   "metadata": {
    "papermill": {
     "duration": 0.013858,
     "end_time": "2024-11-30T10:26:02.712320",
     "exception": false,
     "start_time": "2024-11-30T10:26:02.698462",
     "status": "completed"
    },
    "tags": []
   },
   "source": [
    "# Fill Data with approximate values"
   ]
  },
  {
   "cell_type": "code",
   "execution_count": 21,
   "id": "bcbe0825",
   "metadata": {
    "execution": {
     "iopub.execute_input": "2024-11-30T10:26:02.742322Z",
     "iopub.status.busy": "2024-11-30T10:26:02.741920Z",
     "iopub.status.idle": "2024-11-30T10:26:02.792983Z",
     "shell.execute_reply": "2024-11-30T10:26:02.792026Z"
    },
    "papermill": {
     "duration": 0.068852,
     "end_time": "2024-11-30T10:26:02.795360",
     "exception": false,
     "start_time": "2024-11-30T10:26:02.726508",
     "status": "completed"
    },
    "tags": []
   },
   "outputs": [],
   "source": [
    "train_data.loc[\n",
    "    (train_data['Academic Pressure'].isnull()) & \n",
    "    (train_data['Working Professional or Student'] == 'Working Professional') & \n",
    "    (train_data['Degree'].isnull()),\n",
    "    'Academic Pressure'\n",
    "] = 0\n",
    "\n",
    "train_data.loc[\n",
    "    (train_data['Academic Pressure'].isnull()) & \n",
    "    (train_data['Working Professional or Student'] == 'Student') & \n",
    "    (train_data['Degree'].isnull()),\n",
    "    'Academic Pressure'\n",
    "] = 0\n",
    "\n",
    "train_data.loc[train_data['Academic Pressure'].isnull(), 'Academic Pressure'] = np.random.randint(0, 6, size=train_data['Academic Pressure'].isnull().sum())"
   ]
  },
  {
   "cell_type": "code",
   "execution_count": 22,
   "id": "28f005c9",
   "metadata": {
    "execution": {
     "iopub.execute_input": "2024-11-30T10:26:02.825307Z",
     "iopub.status.busy": "2024-11-30T10:26:02.824915Z",
     "iopub.status.idle": "2024-11-30T10:26:02.845931Z",
     "shell.execute_reply": "2024-11-30T10:26:02.844824Z"
    },
    "papermill": {
     "duration": 0.038924,
     "end_time": "2024-11-30T10:26:02.848084",
     "exception": false,
     "start_time": "2024-11-30T10:26:02.809160",
     "status": "completed"
    },
    "tags": []
   },
   "outputs": [],
   "source": [
    "train_data.loc[\n",
    "    (train_data['Work Pressure'].isnull()) & \n",
    "    (train_data['Working Professional or Student'] == 'Student'),\n",
    "    'Work Pressure'\n",
    "] = 0\n",
    "\n",
    "train_data.loc[train_data['Work Pressure'].isnull(), 'Work Pressure'] = np.random.randint(0, 6, size=train_data['Work Pressure'].isnull().sum())"
   ]
  },
  {
   "cell_type": "code",
   "execution_count": 23,
   "id": "1c675bb6",
   "metadata": {
    "execution": {
     "iopub.execute_input": "2024-11-30T10:26:02.877291Z",
     "iopub.status.busy": "2024-11-30T10:26:02.876875Z",
     "iopub.status.idle": "2024-11-30T10:26:02.898925Z",
     "shell.execute_reply": "2024-11-30T10:26:02.897812Z"
    },
    "papermill": {
     "duration": 0.039455,
     "end_time": "2024-11-30T10:26:02.901400",
     "exception": false,
     "start_time": "2024-11-30T10:26:02.861945",
     "status": "completed"
    },
    "tags": []
   },
   "outputs": [],
   "source": [
    "train_data.loc[\n",
    "    (train_data['Study Satisfaction'].isnull()) & \n",
    "    (train_data['Working Professional or Student'] == 'Working Professional'),\n",
    "    'Study Satisfaction'\n",
    "] = 0\n",
    "\n",
    "train_data.loc[train_data['Study Satisfaction'].isnull(), 'Study Satisfaction'] = np.random.randint(0, 6, size=train_data['Study Satisfaction'].isnull().sum())"
   ]
  },
  {
   "cell_type": "code",
   "execution_count": 24,
   "id": "ff74f26b",
   "metadata": {
    "execution": {
     "iopub.execute_input": "2024-11-30T10:26:02.931373Z",
     "iopub.status.busy": "2024-11-30T10:26:02.930974Z",
     "iopub.status.idle": "2024-11-30T10:26:02.952482Z",
     "shell.execute_reply": "2024-11-30T10:26:02.951406Z"
    },
    "papermill": {
     "duration": 0.039311,
     "end_time": "2024-11-30T10:26:02.954907",
     "exception": false,
     "start_time": "2024-11-30T10:26:02.915596",
     "status": "completed"
    },
    "tags": []
   },
   "outputs": [],
   "source": [
    "train_data.loc[\n",
    "    (train_data['Job Satisfaction'].isnull()) & \n",
    "    (train_data['Working Professional or Student'] == 'Student'),\n",
    "    'Job Satisfaction'\n",
    "] = 0\n",
    "\n",
    "train_data.loc[train_data['Job Satisfaction'].isnull(), 'Job Satisfaction'] = np.random.randint(0, 6, size=train_data['Job Satisfaction'].isnull().sum())"
   ]
  },
  {
   "cell_type": "code",
   "execution_count": 25,
   "id": "4c7f7589",
   "metadata": {
    "execution": {
     "iopub.execute_input": "2024-11-30T10:26:02.984687Z",
     "iopub.status.busy": "2024-11-30T10:26:02.984303Z",
     "iopub.status.idle": "2024-11-30T10:26:03.016088Z",
     "shell.execute_reply": "2024-11-30T10:26:03.015030Z"
    },
    "papermill": {
     "duration": 0.04941,
     "end_time": "2024-11-30T10:26:03.018574",
     "exception": false,
     "start_time": "2024-11-30T10:26:02.969164",
     "status": "completed"
    },
    "tags": []
   },
   "outputs": [],
   "source": [
    "train_data.loc[\n",
    "    (train_data['CGPA'].isnull()) & \n",
    "    (train_data['Working Professional or Student'] == 'Student') & (train_data['Degree'].isnull()),\n",
    "    'CGPA'\n",
    "] = 0\n",
    "\n",
    "train_data.loc[train_data['CGPA'].isnull(), 'CGPA'] = np.random.randint(0, 9, size=train_data['CGPA'].isnull().sum())"
   ]
  },
  {
   "cell_type": "code",
   "execution_count": 26,
   "id": "e3e277f0",
   "metadata": {
    "execution": {
     "iopub.execute_input": "2024-11-30T10:26:03.048958Z",
     "iopub.status.busy": "2024-11-30T10:26:03.048519Z",
     "iopub.status.idle": "2024-11-30T10:26:03.080193Z",
     "shell.execute_reply": "2024-11-30T10:26:03.079005Z"
    },
    "papermill": {
     "duration": 0.049514,
     "end_time": "2024-11-30T10:26:03.082680",
     "exception": false,
     "start_time": "2024-11-30T10:26:03.033166",
     "status": "completed"
    },
    "tags": []
   },
   "outputs": [],
   "source": [
    "train_data = train_data.dropna(subset = ['Financial Stress'],axis=0)"
   ]
  },
  {
   "cell_type": "code",
   "execution_count": 27,
   "id": "5c305f0f",
   "metadata": {
    "execution": {
     "iopub.execute_input": "2024-11-30T10:26:03.113114Z",
     "iopub.status.busy": "2024-11-30T10:26:03.112680Z",
     "iopub.status.idle": "2024-11-30T10:26:03.187463Z",
     "shell.execute_reply": "2024-11-30T10:26:03.186317Z"
    },
    "papermill": {
     "duration": 0.092327,
     "end_time": "2024-11-30T10:26:03.189957",
     "exception": false,
     "start_time": "2024-11-30T10:26:03.097630",
     "status": "completed"
    },
    "tags": []
   },
   "outputs": [
    {
     "data": {
      "text/plain": [
       "id                                       0\n",
       "Name                                     0\n",
       "Gender                                   0\n",
       "Age                                      0\n",
       "City                                     0\n",
       "Working Professional or Student          0\n",
       "Profession                               0\n",
       "Academic Pressure                        0\n",
       "Work Pressure                            0\n",
       "CGPA                                     0\n",
       "Study Satisfaction                       0\n",
       "Job Satisfaction                         0\n",
       "Sleep Duration                           0\n",
       "Dietary Habits                           0\n",
       "Degree                                   0\n",
       "Have you ever had suicidal thoughts ?    0\n",
       "Work/Study Hours                         0\n",
       "Financial Stress                         0\n",
       "Family History of Mental Illness         0\n",
       "Depression                               0\n",
       "dtype: int64"
      ]
     },
     "execution_count": 27,
     "metadata": {},
     "output_type": "execute_result"
    }
   ],
   "source": [
    "train_data.isnull().sum() # check all null values are gone or not"
   ]
  },
  {
   "cell_type": "code",
   "execution_count": 28,
   "id": "0a14c040",
   "metadata": {
    "execution": {
     "iopub.execute_input": "2024-11-30T10:26:03.219851Z",
     "iopub.status.busy": "2024-11-30T10:26:03.219417Z",
     "iopub.status.idle": "2024-11-30T10:26:03.272857Z",
     "shell.execute_reply": "2024-11-30T10:26:03.271771Z"
    },
    "papermill": {
     "duration": 0.070627,
     "end_time": "2024-11-30T10:26:03.274927",
     "exception": false,
     "start_time": "2024-11-30T10:26:03.204300",
     "status": "completed"
    },
    "tags": []
   },
   "outputs": [
    {
     "data": {
      "text/plain": [
       "id                                           0\n",
       "Name                                         0\n",
       "Gender                                       0\n",
       "Age                                          0\n",
       "City                                         0\n",
       "Working Professional or Student              0\n",
       "Profession                               24632\n",
       "Academic Pressure                        75033\n",
       "Work Pressure                            18778\n",
       "CGPA                                     75034\n",
       "Study Satisfaction                       75033\n",
       "Job Satisfaction                         18774\n",
       "Sleep Duration                               0\n",
       "Dietary Habits                               5\n",
       "Degree                                       2\n",
       "Have you ever had suicidal thoughts ?        0\n",
       "Work/Study Hours                             0\n",
       "Financial Stress                             0\n",
       "Family History of Mental Illness             0\n",
       "dtype: int64"
      ]
     },
     "execution_count": 28,
     "metadata": {},
     "output_type": "execute_result"
    }
   ],
   "source": [
    "test_data.isnull().sum() "
   ]
  },
  {
   "cell_type": "code",
   "execution_count": 29,
   "id": "c6771304",
   "metadata": {
    "execution": {
     "iopub.execute_input": "2024-11-30T10:26:03.305140Z",
     "iopub.status.busy": "2024-11-30T10:26:03.304705Z",
     "iopub.status.idle": "2024-11-30T10:26:03.370577Z",
     "shell.execute_reply": "2024-11-30T10:26:03.369608Z"
    },
    "papermill": {
     "duration": 0.08367,
     "end_time": "2024-11-30T10:26:03.373071",
     "exception": false,
     "start_time": "2024-11-30T10:26:03.289401",
     "status": "completed"
    },
    "tags": []
   },
   "outputs": [],
   "source": [
    "test_data['Profession'] = test_data['Profession'].apply(lambda x : x if x in Profession else 'unknown')"
   ]
  },
  {
   "cell_type": "code",
   "execution_count": 30,
   "id": "4f1a7010",
   "metadata": {
    "execution": {
     "iopub.execute_input": "2024-11-30T10:26:03.403518Z",
     "iopub.status.busy": "2024-11-30T10:26:03.403162Z",
     "iopub.status.idle": "2024-11-30T10:26:03.424710Z",
     "shell.execute_reply": "2024-11-30T10:26:03.423293Z"
    },
    "papermill": {
     "duration": 0.040496,
     "end_time": "2024-11-30T10:26:03.427686",
     "exception": false,
     "start_time": "2024-11-30T10:26:03.387190",
     "status": "completed"
    },
    "tags": []
   },
   "outputs": [],
   "source": [
    "test_data['Sleep Duration'] = test_data['Sleep Duration'].map(sleep_timings).fillna('unknown')"
   ]
  },
  {
   "cell_type": "code",
   "execution_count": 31,
   "id": "2918dcbc",
   "metadata": {
    "execution": {
     "iopub.execute_input": "2024-11-30T10:26:03.462955Z",
     "iopub.status.busy": "2024-11-30T10:26:03.462528Z",
     "iopub.status.idle": "2024-11-30T10:26:03.483105Z",
     "shell.execute_reply": "2024-11-30T10:26:03.481987Z"
    },
    "papermill": {
     "duration": 0.041382,
     "end_time": "2024-11-30T10:26:03.485786",
     "exception": false,
     "start_time": "2024-11-30T10:26:03.444404",
     "status": "completed"
    },
    "tags": []
   },
   "outputs": [],
   "source": [
    "test_data['Dietary Habits'] = test_data['Dietary Habits'].map(health_status_mapping).fillna('unknown')"
   ]
  },
  {
   "cell_type": "code",
   "execution_count": 32,
   "id": "6f9fb165",
   "metadata": {
    "execution": {
     "iopub.execute_input": "2024-11-30T10:26:03.517131Z",
     "iopub.status.busy": "2024-11-30T10:26:03.516708Z",
     "iopub.status.idle": "2024-11-30T10:26:03.565860Z",
     "shell.execute_reply": "2024-11-30T10:26:03.564942Z"
    },
    "papermill": {
     "duration": 0.068903,
     "end_time": "2024-11-30T10:26:03.569216",
     "exception": false,
     "start_time": "2024-11-30T10:26:03.500313",
     "status": "completed"
    },
    "tags": []
   },
   "outputs": [],
   "source": [
    "test_data['Degree'] = test_data['Degree'].apply(lambda x: x if x in Degree else 'unknown')"
   ]
  },
  {
   "cell_type": "code",
   "execution_count": 33,
   "id": "c9cbedcb",
   "metadata": {
    "execution": {
     "iopub.execute_input": "2024-11-30T10:26:03.601091Z",
     "iopub.status.busy": "2024-11-30T10:26:03.600312Z",
     "iopub.status.idle": "2024-11-30T10:26:03.640377Z",
     "shell.execute_reply": "2024-11-30T10:26:03.638999Z"
    },
    "papermill": {
     "duration": 0.05955,
     "end_time": "2024-11-30T10:26:03.643059",
     "exception": false,
     "start_time": "2024-11-30T10:26:03.583509",
     "status": "completed"
    },
    "tags": []
   },
   "outputs": [],
   "source": [
    "test_data.loc[\n",
    "    (test_data['Academic Pressure'].isnull()) & \n",
    "    (test_data['Working Professional or Student'] == 'Working Professional') & \n",
    "    (test_data['Degree'].isnull()),\n",
    "    'Academic Pressure'\n",
    "] = 0\n",
    "\n",
    "test_data.loc[\n",
    "    (test_data['Academic Pressure'].isnull()) & \n",
    "    (test_data['Working Professional or Student'] == 'Student') & \n",
    "    (test_data['Degree'].isnull()),\n",
    "    'Academic Pressure'\n",
    "] = 0\n",
    "\n",
    "test_data.loc[test_data['Academic Pressure'].isnull(), 'Academic Pressure'] = np.random.randint(0, 6, size=test_data['Academic Pressure'].isnull().sum())\n",
    "\n",
    "\n"
   ]
  },
  {
   "cell_type": "code",
   "execution_count": 34,
   "id": "899fd283",
   "metadata": {
    "execution": {
     "iopub.execute_input": "2024-11-30T10:26:03.673302Z",
     "iopub.status.busy": "2024-11-30T10:26:03.672915Z",
     "iopub.status.idle": "2024-11-30T10:26:03.690132Z",
     "shell.execute_reply": "2024-11-30T10:26:03.689078Z"
    },
    "papermill": {
     "duration": 0.035564,
     "end_time": "2024-11-30T10:26:03.692827",
     "exception": false,
     "start_time": "2024-11-30T10:26:03.657263",
     "status": "completed"
    },
    "tags": []
   },
   "outputs": [],
   "source": [
    "test_data.loc[\n",
    "    (test_data['Work Pressure'].isnull()) & \n",
    "    (test_data['Working Professional or Student'] == 'Student'),\n",
    "    'Work Pressure'\n",
    "] = 0\n",
    "\n",
    "test_data.loc[test_data['Work Pressure'].isnull(), 'Work Pressure'] = np.random.randint(0, 6, size=test_data['Work Pressure'].isnull().sum())"
   ]
  },
  {
   "cell_type": "code",
   "execution_count": 35,
   "id": "4f5c5c17",
   "metadata": {
    "execution": {
     "iopub.execute_input": "2024-11-30T10:26:03.723608Z",
     "iopub.status.busy": "2024-11-30T10:26:03.723223Z",
     "iopub.status.idle": "2024-11-30T10:26:03.740701Z",
     "shell.execute_reply": "2024-11-30T10:26:03.739641Z"
    },
    "papermill": {
     "duration": 0.035766,
     "end_time": "2024-11-30T10:26:03.743054",
     "exception": false,
     "start_time": "2024-11-30T10:26:03.707288",
     "status": "completed"
    },
    "tags": []
   },
   "outputs": [],
   "source": [
    "test_data.loc[\n",
    "    (test_data['Study Satisfaction'].isnull()) & \n",
    "    (test_data['Working Professional or Student'] == 'Working Professional'),\n",
    "    'Study Satisfaction'\n",
    "] = 0\n",
    "\n",
    "test_data.loc[test_data['Study Satisfaction'].isnull(), 'Study Satisfaction'] = np.random.randint(0, 6, size=test_data['Study Satisfaction'].isnull().sum())"
   ]
  },
  {
   "cell_type": "code",
   "execution_count": 36,
   "id": "20942f0a",
   "metadata": {
    "execution": {
     "iopub.execute_input": "2024-11-30T10:26:03.774897Z",
     "iopub.status.busy": "2024-11-30T10:26:03.774211Z",
     "iopub.status.idle": "2024-11-30T10:26:03.790620Z",
     "shell.execute_reply": "2024-11-30T10:26:03.789771Z"
    },
    "papermill": {
     "duration": 0.03406,
     "end_time": "2024-11-30T10:26:03.792797",
     "exception": false,
     "start_time": "2024-11-30T10:26:03.758737",
     "status": "completed"
    },
    "tags": []
   },
   "outputs": [],
   "source": [
    "test_data.loc[\n",
    "    (test_data['Job Satisfaction'].isnull()) & \n",
    "    (test_data['Working Professional or Student'] == 'Student'),\n",
    "    'Job Satisfaction'\n",
    "] = 0\n",
    "\n",
    "test_data.loc[test_data['Job Satisfaction'].isnull(), 'Job Satisfaction'] = np.random.randint(0, 6, size=test_data['Job Satisfaction'].isnull().sum())"
   ]
  },
  {
   "cell_type": "code",
   "execution_count": 37,
   "id": "8719fe28",
   "metadata": {
    "execution": {
     "iopub.execute_input": "2024-11-30T10:26:03.823896Z",
     "iopub.status.busy": "2024-11-30T10:26:03.823051Z",
     "iopub.status.idle": "2024-11-30T10:26:03.847493Z",
     "shell.execute_reply": "2024-11-30T10:26:03.846254Z"
    },
    "papermill": {
     "duration": 0.042824,
     "end_time": "2024-11-30T10:26:03.850316",
     "exception": false,
     "start_time": "2024-11-30T10:26:03.807492",
     "status": "completed"
    },
    "tags": []
   },
   "outputs": [],
   "source": [
    "test_data.loc[\n",
    "    (test_data['CGPA'].isnull()) & \n",
    "    (test_data['Working Professional or Student'] == 'Student') & (test_data['Degree'].isnull()),\n",
    "    'CGPA'\n",
    "] = 0\n",
    "\n",
    "test_data.loc[test_data['CGPA'].isnull(), 'CGPA'] = np.random.randint(0, 9, size=test_data['CGPA'].isnull().sum())"
   ]
  },
  {
   "cell_type": "code",
   "execution_count": 38,
   "id": "beec27b9",
   "metadata": {
    "execution": {
     "iopub.execute_input": "2024-11-30T10:26:03.880262Z",
     "iopub.status.busy": "2024-11-30T10:26:03.879897Z",
     "iopub.status.idle": "2024-11-30T10:26:03.936068Z",
     "shell.execute_reply": "2024-11-30T10:26:03.934913Z"
    },
    "papermill": {
     "duration": 0.073927,
     "end_time": "2024-11-30T10:26:03.938470",
     "exception": false,
     "start_time": "2024-11-30T10:26:03.864543",
     "status": "completed"
    },
    "tags": []
   },
   "outputs": [],
   "source": [
    "test_data = test_data.dropna(subset = ['Financial Stress'],axis=0)"
   ]
  },
  {
   "cell_type": "code",
   "execution_count": 39,
   "id": "e815d91d",
   "metadata": {
    "execution": {
     "iopub.execute_input": "2024-11-30T10:26:03.970293Z",
     "iopub.status.busy": "2024-11-30T10:26:03.969918Z",
     "iopub.status.idle": "2024-11-30T10:26:04.005264Z",
     "shell.execute_reply": "2024-11-30T10:26:04.003931Z"
    },
    "papermill": {
     "duration": 0.053685,
     "end_time": "2024-11-30T10:26:04.007783",
     "exception": false,
     "start_time": "2024-11-30T10:26:03.954098",
     "status": "completed"
    },
    "tags": []
   },
   "outputs": [],
   "source": [
    "train_data['Have you ever had suicidal thoughts ?'] = train_data['Have you ever had suicidal thoughts ?'].map({'Yes': 1, 'No': 0})\n",
    "train_data['Family History of Mental Illness'] = train_data['Family History of Mental Illness'].map({'Yes': 1, 'No': 0})\n",
    "\n",
    "train_data['Working Professional or Student'] = train_data['Working Professional or Student'].map({'Working Professional':1, \"Student\":0})"
   ]
  },
  {
   "cell_type": "code",
   "execution_count": 40,
   "id": "5521c36d",
   "metadata": {
    "execution": {
     "iopub.execute_input": "2024-11-30T10:26:04.041839Z",
     "iopub.status.busy": "2024-11-30T10:26:04.041337Z",
     "iopub.status.idle": "2024-11-30T10:26:04.070128Z",
     "shell.execute_reply": "2024-11-30T10:26:04.068900Z"
    },
    "papermill": {
     "duration": 0.049366,
     "end_time": "2024-11-30T10:26:04.072642",
     "exception": false,
     "start_time": "2024-11-30T10:26:04.023276",
     "status": "completed"
    },
    "tags": []
   },
   "outputs": [],
   "source": [
    "test_data['Have you ever had suicidal thoughts ?'] = test_data['Have you ever had suicidal thoughts ?'].map({'Yes': 1, 'No': 0})\n",
    "test_data['Family History of Mental Illness'] = test_data['Family History of Mental Illness'].map({'Yes': 1, 'No': 0})\n",
    "\n",
    "test_data['Working Professional or Student'] = test_data['Working Professional or Student'].map({'Working Professional':1, \"Student\":0})"
   ]
  },
  {
   "cell_type": "code",
   "execution_count": 41,
   "id": "babc376c",
   "metadata": {
    "execution": {
     "iopub.execute_input": "2024-11-30T10:26:04.103320Z",
     "iopub.status.busy": "2024-11-30T10:26:04.102601Z",
     "iopub.status.idle": "2024-11-30T10:26:04.108113Z",
     "shell.execute_reply": "2024-11-30T10:26:04.106818Z"
    },
    "papermill": {
     "duration": 0.023403,
     "end_time": "2024-11-30T10:26:04.110364",
     "exception": false,
     "start_time": "2024-11-30T10:26:04.086961",
     "status": "completed"
    },
    "tags": []
   },
   "outputs": [],
   "source": [
    "categorical_columns = ['Gender','Sleep Duration', 'Dietary Habits', 'Profession', 'Work/Study Hours', 'Degree']\n",
    "\n",
    "numerical_columns = ['Work Pressure', 'Job Satisfaction', 'Financial Stress', 'Age','Have you ever had suicidal thoughts ?','Family History of Mental Illness','Working Professional or Student']"
   ]
  },
  {
   "cell_type": "code",
   "execution_count": 42,
   "id": "454fe52c",
   "metadata": {
    "execution": {
     "iopub.execute_input": "2024-11-30T10:26:04.141468Z",
     "iopub.status.busy": "2024-11-30T10:26:04.141061Z",
     "iopub.status.idle": "2024-11-30T10:26:04.156968Z",
     "shell.execute_reply": "2024-11-30T10:26:04.155824Z"
    },
    "papermill": {
     "duration": 0.033719,
     "end_time": "2024-11-30T10:26:04.159398",
     "exception": false,
     "start_time": "2024-11-30T10:26:04.125679",
     "status": "completed"
    },
    "tags": []
   },
   "outputs": [],
   "source": [
    "train_data = train_data.drop(['id', 'Name', 'City', 'CGPA', 'Academic Pressure', 'Study Satisfaction'], axis = 1)"
   ]
  },
  {
   "cell_type": "code",
   "execution_count": 43,
   "id": "84a8fc1a",
   "metadata": {
    "execution": {
     "iopub.execute_input": "2024-11-30T10:26:04.190601Z",
     "iopub.status.busy": "2024-11-30T10:26:04.189598Z",
     "iopub.status.idle": "2024-11-30T10:26:04.202776Z",
     "shell.execute_reply": "2024-11-30T10:26:04.201599Z"
    },
    "papermill": {
     "duration": 0.031612,
     "end_time": "2024-11-30T10:26:04.205279",
     "exception": false,
     "start_time": "2024-11-30T10:26:04.173667",
     "status": "completed"
    },
    "tags": []
   },
   "outputs": [],
   "source": [
    "test_data = test_data.drop(['id', 'Name', 'City', 'CGPA', 'Academic Pressure', 'Study Satisfaction'], axis = 1)"
   ]
  },
  {
   "cell_type": "markdown",
   "id": "49b8a581",
   "metadata": {
    "papermill": {
     "duration": 0.014338,
     "end_time": "2024-11-30T10:26:04.234510",
     "exception": false,
     "start_time": "2024-11-30T10:26:04.220172",
     "status": "completed"
    },
    "tags": []
   },
   "source": [
    "# Modeling "
   ]
  },
  {
   "cell_type": "code",
   "execution_count": 44,
   "id": "93c0bf64",
   "metadata": {
    "execution": {
     "iopub.execute_input": "2024-11-30T10:26:04.264695Z",
     "iopub.status.busy": "2024-11-30T10:26:04.263828Z",
     "iopub.status.idle": "2024-11-30T10:26:04.278306Z",
     "shell.execute_reply": "2024-11-30T10:26:04.277220Z"
    },
    "papermill": {
     "duration": 0.032103,
     "end_time": "2024-11-30T10:26:04.280672",
     "exception": false,
     "start_time": "2024-11-30T10:26:04.248569",
     "status": "completed"
    },
    "tags": []
   },
   "outputs": [],
   "source": [
    "y = train_data['Depression']\n",
    "X = train_data.drop(\"Depression\", axis = 1)"
   ]
  },
  {
   "cell_type": "code",
   "execution_count": 45,
   "id": "b663bae6",
   "metadata": {
    "execution": {
     "iopub.execute_input": "2024-11-30T10:26:04.311573Z",
     "iopub.status.busy": "2024-11-30T10:26:04.310674Z",
     "iopub.status.idle": "2024-11-30T10:26:04.354243Z",
     "shell.execute_reply": "2024-11-30T10:26:04.353247Z"
    },
    "papermill": {
     "duration": 0.061728,
     "end_time": "2024-11-30T10:26:04.356642",
     "exception": false,
     "start_time": "2024-11-30T10:26:04.294914",
     "status": "completed"
    },
    "tags": []
   },
   "outputs": [],
   "source": [
    "X_train, X_test, y_train, y_test = train_test_split(X, y, test_size=0.2, random_state=42)"
   ]
  },
  {
   "cell_type": "code",
   "execution_count": 46,
   "id": "9ae61318",
   "metadata": {
    "execution": {
     "iopub.execute_input": "2024-11-30T10:26:04.386439Z",
     "iopub.status.busy": "2024-11-30T10:26:04.386037Z",
     "iopub.status.idle": "2024-11-30T10:26:04.394140Z",
     "shell.execute_reply": "2024-11-30T10:26:04.393096Z"
    },
    "papermill": {
     "duration": 0.025498,
     "end_time": "2024-11-30T10:26:04.396315",
     "exception": false,
     "start_time": "2024-11-30T10:26:04.370817",
     "status": "completed"
    },
    "tags": []
   },
   "outputs": [
    {
     "data": {
      "text/plain": [
       "Gender                                    object\n",
       "Age                                      float64\n",
       "Working Professional or Student            int64\n",
       "Profession                                object\n",
       "Work Pressure                            float64\n",
       "Job Satisfaction                         float64\n",
       "Sleep Duration                            object\n",
       "Dietary Habits                            object\n",
       "Degree                                    object\n",
       "Have you ever had suicidal thoughts ?      int64\n",
       "Work/Study Hours                         float64\n",
       "Financial Stress                         float64\n",
       "Family History of Mental Illness           int64\n",
       "dtype: object"
      ]
     },
     "execution_count": 46,
     "metadata": {},
     "output_type": "execute_result"
    }
   ],
   "source": [
    "X_train.dtypes"
   ]
  },
  {
   "cell_type": "code",
   "execution_count": 47,
   "id": "2401f7a9",
   "metadata": {
    "execution": {
     "iopub.execute_input": "2024-11-30T10:26:04.426148Z",
     "iopub.status.busy": "2024-11-30T10:26:04.425694Z",
     "iopub.status.idle": "2024-11-30T10:26:04.430817Z",
     "shell.execute_reply": "2024-11-30T10:26:04.429800Z"
    },
    "papermill": {
     "duration": 0.023054,
     "end_time": "2024-11-30T10:26:04.433544",
     "exception": false,
     "start_time": "2024-11-30T10:26:04.410490",
     "status": "completed"
    },
    "tags": []
   },
   "outputs": [],
   "source": [
    "cat_cols = [\"Gender\",\"Profession\",\"Sleep Duration\",\"Dietary Habits\",\"Degree\"]"
   ]
  },
  {
   "cell_type": "code",
   "execution_count": 48,
   "id": "211b8f3a",
   "metadata": {
    "execution": {
     "iopub.execute_input": "2024-11-30T10:26:04.464579Z",
     "iopub.status.busy": "2024-11-30T10:26:04.464191Z",
     "iopub.status.idle": "2024-11-30T10:27:13.426648Z",
     "shell.execute_reply": "2024-11-30T10:27:13.425588Z"
    },
    "papermill": {
     "duration": 68.980097,
     "end_time": "2024-11-30T10:27:13.428936",
     "exception": false,
     "start_time": "2024-11-30T10:26:04.448839",
     "status": "completed"
    },
    "tags": []
   },
   "outputs": [
    {
     "name": "stdout",
     "output_type": "stream",
     "text": [
      "0:\tlearn: 0.5347506\ttotal: 139ms\tremaining: 2m 18s\n",
      "200:\tlearn: 0.1619928\ttotal: 13.2s\tremaining: 52.6s\n",
      "400:\tlearn: 0.1577752\ttotal: 27.3s\tremaining: 40.8s\n",
      "600:\tlearn: 0.1545385\ttotal: 40.3s\tremaining: 26.8s\n",
      "800:\tlearn: 0.1512397\ttotal: 54.4s\tremaining: 13.5s\n",
      "999:\tlearn: 0.1482866\ttotal: 1m 7s\tremaining: 0us\n"
     ]
    },
    {
     "data": {
      "text/plain": [
       "<catboost.core.CatBoostClassifier at 0x7a5ff49f7dc0>"
      ]
     },
     "execution_count": 48,
     "metadata": {},
     "output_type": "execute_result"
    }
   ],
   "source": [
    "from catboost import CatBoostClassifier\n",
    "\n",
    "model = CatBoostClassifier(iterations=1000, learning_rate=0.1, depth=6, cat_features= cat_cols, verbose=200)\n",
    "\n",
    "model.fit(X_train, y_train)"
   ]
  },
  {
   "cell_type": "code",
   "execution_count": 49,
   "id": "919a3d25",
   "metadata": {
    "execution": {
     "iopub.execute_input": "2024-11-30T10:27:13.459984Z",
     "iopub.status.busy": "2024-11-30T10:27:13.459576Z",
     "iopub.status.idle": "2024-11-30T10:27:13.589211Z",
     "shell.execute_reply": "2024-11-30T10:27:13.588107Z"
    },
    "papermill": {
     "duration": 0.147834,
     "end_time": "2024-11-30T10:27:13.591489",
     "exception": false,
     "start_time": "2024-11-30T10:27:13.443655",
     "status": "completed"
    },
    "tags": []
   },
   "outputs": [],
   "source": [
    "model_predict = model.predict(X_test)"
   ]
  },
  {
   "cell_type": "code",
   "execution_count": 50,
   "id": "8085f912",
   "metadata": {
    "execution": {
     "iopub.execute_input": "2024-11-30T10:27:13.623351Z",
     "iopub.status.busy": "2024-11-30T10:27:13.622536Z",
     "iopub.status.idle": "2024-11-30T10:27:13.629320Z",
     "shell.execute_reply": "2024-11-30T10:27:13.628237Z"
    },
    "papermill": {
     "duration": 0.024758,
     "end_time": "2024-11-30T10:27:13.631321",
     "exception": false,
     "start_time": "2024-11-30T10:27:13.606563",
     "status": "completed"
    },
    "tags": []
   },
   "outputs": [
    {
     "data": {
      "text/plain": [
       "array([0, 0, 0, ..., 1, 1, 0])"
      ]
     },
     "execution_count": 50,
     "metadata": {},
     "output_type": "execute_result"
    }
   ],
   "source": [
    "model_predict"
   ]
  },
  {
   "cell_type": "code",
   "execution_count": 51,
   "id": "f2e6c16f",
   "metadata": {
    "execution": {
     "iopub.execute_input": "2024-11-30T10:27:13.662161Z",
     "iopub.status.busy": "2024-11-30T10:27:13.661780Z",
     "iopub.status.idle": "2024-11-30T10:27:13.672248Z",
     "shell.execute_reply": "2024-11-30T10:27:13.671265Z"
    },
    "papermill": {
     "duration": 0.028416,
     "end_time": "2024-11-30T10:27:13.674342",
     "exception": false,
     "start_time": "2024-11-30T10:27:13.645926",
     "status": "completed"
    },
    "tags": []
   },
   "outputs": [
    {
     "data": {
      "text/plain": [
       "0.9324804548685146"
      ]
     },
     "execution_count": 51,
     "metadata": {},
     "output_type": "execute_result"
    }
   ],
   "source": [
    "accuracy_score(y_test, model_predict)"
   ]
  },
  {
   "cell_type": "markdown",
   "id": "1f613447",
   "metadata": {
    "papermill": {
     "duration": 0.01489,
     "end_time": "2024-11-30T10:27:13.706353",
     "exception": false,
     "start_time": "2024-11-30T10:27:13.691463",
     "status": "completed"
    },
    "tags": []
   },
   "source": [
    "# Results for Test Data"
   ]
  },
  {
   "cell_type": "code",
   "execution_count": 52,
   "id": "415a0b78",
   "metadata": {
    "execution": {
     "iopub.execute_input": "2024-11-30T10:27:13.737304Z",
     "iopub.status.busy": "2024-11-30T10:27:13.736925Z",
     "iopub.status.idle": "2024-11-30T10:27:14.137051Z",
     "shell.execute_reply": "2024-11-30T10:27:14.135750Z"
    },
    "papermill": {
     "duration": 0.418494,
     "end_time": "2024-11-30T10:27:14.139456",
     "exception": false,
     "start_time": "2024-11-30T10:27:13.720962",
     "status": "completed"
    },
    "tags": []
   },
   "outputs": [],
   "source": [
    "model_test_predict = model.predict(test_data)"
   ]
  },
  {
   "cell_type": "code",
   "execution_count": 53,
   "id": "31ee0c8e",
   "metadata": {
    "execution": {
     "iopub.execute_input": "2024-11-30T10:27:14.171411Z",
     "iopub.status.busy": "2024-11-30T10:27:14.171012Z",
     "iopub.status.idle": "2024-11-30T10:27:14.208777Z",
     "shell.execute_reply": "2024-11-30T10:27:14.207808Z"
    },
    "papermill": {
     "duration": 0.056938,
     "end_time": "2024-11-30T10:27:14.211263",
     "exception": false,
     "start_time": "2024-11-30T10:27:14.154325",
     "status": "completed"
    },
    "tags": []
   },
   "outputs": [],
   "source": [
    "sample_val = pd.read_csv(\"/kaggle/input/playground-series-s4e11/sample_submission.csv\")"
   ]
  },
  {
   "cell_type": "code",
   "execution_count": 54,
   "id": "992c3b89",
   "metadata": {
    "execution": {
     "iopub.execute_input": "2024-11-30T10:27:14.242645Z",
     "iopub.status.busy": "2024-11-30T10:27:14.242289Z",
     "iopub.status.idle": "2024-11-30T10:27:14.258209Z",
     "shell.execute_reply": "2024-11-30T10:27:14.257146Z"
    },
    "papermill": {
     "duration": 0.034614,
     "end_time": "2024-11-30T10:27:14.260733",
     "exception": false,
     "start_time": "2024-11-30T10:27:14.226119",
     "status": "completed"
    },
    "tags": []
   },
   "outputs": [
    {
     "data": {
      "text/plain": [
       "0.8218123667377398"
      ]
     },
     "execution_count": 54,
     "metadata": {},
     "output_type": "execute_result"
    }
   ],
   "source": [
    "accuracy_score(sample_val['Depression'],model_test_predict)"
   ]
  },
  {
   "cell_type": "code",
   "execution_count": 55,
   "id": "747046fc",
   "metadata": {
    "execution": {
     "iopub.execute_input": "2024-11-30T10:27:14.291890Z",
     "iopub.status.busy": "2024-11-30T10:27:14.291493Z",
     "iopub.status.idle": "2024-11-30T10:27:14.560744Z",
     "shell.execute_reply": "2024-11-30T10:27:14.559667Z"
    },
    "papermill": {
     "duration": 0.28769,
     "end_time": "2024-11-30T10:27:14.563266",
     "exception": false,
     "start_time": "2024-11-30T10:27:14.275576",
     "status": "completed"
    },
    "tags": []
   },
   "outputs": [],
   "source": [
    "test_copy = pd.read_csv(\"/kaggle/input/playground-series-s4e11/test.csv\")\n",
    "\n"
   ]
  },
  {
   "cell_type": "code",
   "execution_count": 56,
   "id": "bf6ad8a2",
   "metadata": {
    "execution": {
     "iopub.execute_input": "2024-11-30T10:27:14.595389Z",
     "iopub.status.busy": "2024-11-30T10:27:14.595024Z",
     "iopub.status.idle": "2024-11-30T10:27:14.600620Z",
     "shell.execute_reply": "2024-11-30T10:27:14.599701Z"
    },
    "papermill": {
     "duration": 0.024599,
     "end_time": "2024-11-30T10:27:14.602885",
     "exception": false,
     "start_time": "2024-11-30T10:27:14.578286",
     "status": "completed"
    },
    "tags": []
   },
   "outputs": [],
   "source": [
    "df = pd.DataFrame({\n",
    "    'id': test_copy['id'] ,              # ID column\n",
    "    'prediction': model_test_predict     # Predicted values\n",
    "})\n",
    "\n",
    "# View the DataFrame"
   ]
  },
  {
   "cell_type": "code",
   "execution_count": 57,
   "id": "c5a77a06",
   "metadata": {
    "execution": {
     "iopub.execute_input": "2024-11-30T10:27:14.635184Z",
     "iopub.status.busy": "2024-11-30T10:27:14.634798Z",
     "iopub.status.idle": "2024-11-30T10:27:14.642406Z",
     "shell.execute_reply": "2024-11-30T10:27:14.641105Z"
    },
    "papermill": {
     "duration": 0.025939,
     "end_time": "2024-11-30T10:27:14.644541",
     "exception": false,
     "start_time": "2024-11-30T10:27:14.618602",
     "status": "completed"
    },
    "tags": []
   },
   "outputs": [
    {
     "data": {
      "text/plain": [
       "(93800, 2)"
      ]
     },
     "execution_count": 57,
     "metadata": {},
     "output_type": "execute_result"
    }
   ],
   "source": [
    "df.shape"
   ]
  },
  {
   "cell_type": "code",
   "execution_count": 58,
   "id": "044b22a4",
   "metadata": {
    "execution": {
     "iopub.execute_input": "2024-11-30T10:27:14.677748Z",
     "iopub.status.busy": "2024-11-30T10:27:14.677317Z",
     "iopub.status.idle": "2024-11-30T10:27:14.755575Z",
     "shell.execute_reply": "2024-11-30T10:27:14.754407Z"
    },
    "papermill": {
     "duration": 0.097646,
     "end_time": "2024-11-30T10:27:14.757836",
     "exception": false,
     "start_time": "2024-11-30T10:27:14.660190",
     "status": "completed"
    },
    "tags": []
   },
   "outputs": [],
   "source": [
    "df.to_csv(\"sample_submission.csv\", index = False)"
   ]
  },
  {
   "cell_type": "code",
   "execution_count": null,
   "id": "ad59098b",
   "metadata": {
    "papermill": {
     "duration": 0.014504,
     "end_time": "2024-11-30T10:27:14.787336",
     "exception": false,
     "start_time": "2024-11-30T10:27:14.772832",
     "status": "completed"
    },
    "tags": []
   },
   "outputs": [],
   "source": []
  }
 ],
 "metadata": {
  "kaggle": {
   "accelerator": "none",
   "dataSources": [
    {
     "databundleVersionId": 10008389,
     "sourceId": 84895,
     "sourceType": "competition"
    }
   ],
   "dockerImageVersionId": 30786,
   "isGpuEnabled": false,
   "isInternetEnabled": true,
   "language": "python",
   "sourceType": "notebook"
  },
  "kernelspec": {
   "display_name": "Python 3",
   "language": "python",
   "name": "python3"
  },
  "language_info": {
   "codemirror_mode": {
    "name": "ipython",
    "version": 3
   },
   "file_extension": ".py",
   "mimetype": "text/x-python",
   "name": "python",
   "nbconvert_exporter": "python",
   "pygments_lexer": "ipython3",
   "version": "3.10.14"
  },
  "papermill": {
   "default_parameters": {},
   "duration": 86.799524,
   "end_time": "2024-11-30T10:27:15.523747",
   "environment_variables": {},
   "exception": null,
   "input_path": "__notebook__.ipynb",
   "output_path": "__notebook__.ipynb",
   "parameters": {},
   "start_time": "2024-11-30T10:25:48.724223",
   "version": "2.6.0"
  }
 },
 "nbformat": 4,
 "nbformat_minor": 5
}
